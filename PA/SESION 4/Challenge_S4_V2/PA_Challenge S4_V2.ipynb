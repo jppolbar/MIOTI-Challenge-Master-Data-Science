{
 "cells": [
  {
   "cell_type": "markdown",
   "metadata": {},
   "source": [
    "<img src=\"mioti.png\" style=\"height: 100px\">\n",
    "<center style=\"color:#888\">Módulo Data Science in IoT<br/>Asignatura Data Visualization</center>"
   ]
  },
  {
   "cell_type": "markdown",
   "metadata": {},
   "source": [
    "# Challenge S3: Prophet \n",
    "# Planificación de escenarios a futuro post-confinamiento en Retail"
   ]
  },
  {
   "cell_type": "markdown",
   "metadata": {},
   "source": [
    "Tenemos las ventas de todas las tiendas de una cadena de retail en una serie de categorías desde principios de 2018 hasta que acabó el confinamiento estricto y queremos hacer un análisis del impacto que ha tenido en las distintas categorías y plantear escenarios a futuro en caso de haber alguna vuelta al confinamiento.\n",
    "\n",
    "Teniendo esta valiosa información podríamos mejorar el stockage de los productos de las distintas categorías y poder reaccionar rápido en cuanto se anunciasen las nuevas medidas para poder amoldar espacios en los distintos almacenes de las tiendas y los pedidos en las distintas categorías en base a los distintos escenarios que podamos proponer."
   ]
  },
  {
   "cell_type": "code",
   "execution_count": 1,
   "metadata": {
    "ExecuteTime": {
     "end_time": "2021-05-27T17:58:56.402127Z",
     "start_time": "2021-05-27T17:58:55.527395Z"
    }
   },
   "outputs": [],
   "source": [
    "import pandas as pd\n",
    "import numpy as np\n",
    "from fbprophet import Prophet\n",
    "import matplotlib.pyplot as plt\n",
    "%matplotlib inline"
   ]
  },
  {
   "cell_type": "markdown",
   "metadata": {},
   "source": [
    "## 1. Cargar las ventas en un DataFrame"
   ]
  },
  {
   "cell_type": "code",
   "execution_count": 2,
   "metadata": {
    "ExecuteTime": {
     "end_time": "2021-05-27T17:58:58.669351Z",
     "start_time": "2021-05-27T17:58:58.639211Z"
    },
    "scrolled": true
   },
   "outputs": [
    {
     "data": {
      "text/html": [
       "<div>\n",
       "<style scoped>\n",
       "    .dataframe tbody tr th:only-of-type {\n",
       "        vertical-align: middle;\n",
       "    }\n",
       "\n",
       "    .dataframe tbody tr th {\n",
       "        vertical-align: top;\n",
       "    }\n",
       "\n",
       "    .dataframe thead th {\n",
       "        text-align: right;\n",
       "    }\n",
       "</style>\n",
       "<table border=\"1\" class=\"dataframe\">\n",
       "  <thead>\n",
       "    <tr style=\"text-align: right;\">\n",
       "      <th></th>\n",
       "      <th>Fecha</th>\n",
       "      <th>Categoría</th>\n",
       "      <th>Unidades</th>\n",
       "      <th>Ventas</th>\n",
       "    </tr>\n",
       "  </thead>\n",
       "  <tbody>\n",
       "    <tr>\n",
       "      <th>0</th>\n",
       "      <td>2018-01-01</td>\n",
       "      <td>Aguas sin gas</td>\n",
       "      <td>14.0</td>\n",
       "      <td>7.00</td>\n",
       "    </tr>\n",
       "    <tr>\n",
       "      <th>1</th>\n",
       "      <td>2018-01-01</td>\n",
       "      <td>Cervezas con alcohol</td>\n",
       "      <td>68.0</td>\n",
       "      <td>45.66</td>\n",
       "    </tr>\n",
       "    <tr>\n",
       "      <th>2</th>\n",
       "      <td>2018-01-01</td>\n",
       "      <td>Colas</td>\n",
       "      <td>24.0</td>\n",
       "      <td>26.14</td>\n",
       "    </tr>\n",
       "    <tr>\n",
       "      <th>3</th>\n",
       "      <td>2018-01-01</td>\n",
       "      <td>Utensilios de cocina</td>\n",
       "      <td>36.0</td>\n",
       "      <td>1.91</td>\n",
       "    </tr>\n",
       "    <tr>\n",
       "      <th>4</th>\n",
       "      <td>2018-01-01</td>\n",
       "      <td>Frutos secos</td>\n",
       "      <td>10.0</td>\n",
       "      <td>13.70</td>\n",
       "    </tr>\n",
       "  </tbody>\n",
       "</table>\n",
       "</div>"
      ],
      "text/plain": [
       "       Fecha             Categoría  Unidades  Ventas\n",
       "0 2018-01-01         Aguas sin gas      14.0    7.00\n",
       "1 2018-01-01  Cervezas con alcohol      68.0   45.66\n",
       "2 2018-01-01                 Colas      24.0   26.14\n",
       "3 2018-01-01  Utensilios de cocina      36.0    1.91\n",
       "4 2018-01-01          Frutos secos      10.0   13.70"
      ]
     },
     "execution_count": 2,
     "metadata": {},
     "output_type": "execute_result"
    }
   ],
   "source": [
    "df_datos_categorias = pd.read_csv('Tabla Ventas Cats.csv',delimiter = ';')\n",
    "df_datos_categorias['Fecha'] = pd.to_datetime(df_datos_categorias['Fecha'], format='%Y-%m-%d')\n",
    "df_datos_categorias.head()"
   ]
  },
  {
   "cell_type": "markdown",
   "metadata": {},
   "source": [
    "## 2. Exploración de los datos"
   ]
  },
  {
   "cell_type": "markdown",
   "metadata": {},
   "source": [
    "** P. ¿ Cuál es el inicio y el final de datos ? **"
   ]
  },
  {
   "cell_type": "code",
   "execution_count": null,
   "metadata": {},
   "outputs": [],
   "source": []
  },
  {
   "cell_type": "markdown",
   "metadata": {},
   "source": [
    "** P ¿ De qué categorías tenemos venta ? **"
   ]
  },
  {
   "cell_type": "code",
   "execution_count": 5,
   "metadata": {
    "ExecuteTime": {
     "end_time": "2021-05-27T18:05:13.005522Z",
     "start_time": "2021-05-27T18:05:12.997520Z"
    }
   },
   "outputs": [
    {
     "data": {
      "text/plain": [
       "array(['Aguas sin gas', 'Cervezas con alcohol', 'Colas',\n",
       "       'Utensilios de cocina', 'Frutos secos', 'Leche', 'Huevos',\n",
       "       'Pizza congelada', 'Pasta', 'Caldos y cremas líquidas',\n",
       "       'Yogurt saludable', 'Barras de pan baguette',\n",
       "       'Barras de pan rústico', 'Papel higiénico', 'Patatas', 'Naranjas',\n",
       "       'Tabletas de chocolate'], dtype=object)"
      ]
     },
     "execution_count": 5,
     "metadata": {},
     "output_type": "execute_result"
    }
   ],
   "source": [
    "cats = df_datos_categorias['Categoría'].unique()\n",
    "cats"
   ]
  },
  {
   "cell_type": "markdown",
   "metadata": {},
   "source": [
    "## 3. Obtención de la mejor y peor categoría en los distintos trimestres y lo que llevamos de semestre"
   ]
  },
  {
   "cell_type": "markdown",
   "metadata": {},
   "source": [
    "Vamos a obtener un dataframe con el comportamiento de las distintas categorías en cuanto a variación porcentual de ventas para el Q1, Q2 y lo que llevamos de S1, es decir hasta el 31 de Mayo.\n",
    "\n",
    "%Var = ((Vactuales/Vanteriores) - 1 ) * 100"
   ]
  },
  {
   "cell_type": "code",
   "execution_count": null,
   "metadata": {},
   "outputs": [],
   "source": [
    "#Tenemos datos antes y despues de la pandemia\n",
    "mejor frutos secos\n",
    "peor barra de pan"
   ]
  },
  {
   "cell_type": "markdown",
   "metadata": {},
   "source": [
    "## 4. Visualización de mejor y peor categoría en el S1"
   ]
  },
  {
   "cell_type": "markdown",
   "metadata": {
    "collapsed": true
   },
   "source": [
    "En función a la mejor y peor categoría en cuanto a % de variación de ventas que hayas obtenido en el apartado anterior, haz un ploteo de ambas categorías filtradas para ver cómo ha sido visualmente ese impacto y que veamos que puntos hay interesantes.\n",
    "\n",
    "En primer lugar sería interesante plotear el primer año de ventas para ver la estacionalidad que tenía o el comportamiento normal de esta serie temporal por así decirlo y luego vamos a ver el comportamiento en lo que llevamos de 2020 para identificar anomalías."
   ]
  },
  {
   "cell_type": "markdown",
   "metadata": {},
   "source": [
    "#### Mejor categoría"
   ]
  },
  {
   "cell_type": "code",
   "execution_count": 12,
   "metadata": {},
   "outputs": [],
   "source": []
  },
  {
   "cell_type": "markdown",
   "metadata": {},
   "source": [
    "#### Peor categoría"
   ]
  },
  {
   "cell_type": "code",
   "execution_count": 14,
   "metadata": {},
   "outputs": [],
   "source": []
  },
  {
   "cell_type": "markdown",
   "metadata": {},
   "source": [
    "## 5. Realizar una previsión simple sobre las ventas en 2021"
   ]
  },
  {
   "cell_type": "markdown",
   "metadata": {},
   "source": [
    "En este primer paso se trata de realizar una primera predicción de las ventas de una categoría en concreto hasta el final de 2021, vamos a ver como reacciona el modelo sin añadir ningún tipo de holiday para ver la interpretación del mismo cuando no le damos ningún otro tipo de input.\n",
    "\n",
    "Para una primera aproximación vamos a coger la categoría con mejor evolución de ventas."
   ]
  },
  {
   "cell_type": "code",
   "execution_count": null,
   "metadata": {},
   "outputs": [],
   "source": []
  },
  {
   "cell_type": "markdown",
   "metadata": {},
   "source": [
    "** P ¿ Están bien nuestras predicciones ? ** Fíjate en la estacionalidad anual donde presenta un pico, ¿ ha habido alguna influencia puntual que haya podido influenciar en este cálculo ?"
   ]
  },
  {
   "cell_type": "code",
   "execution_count": null,
   "metadata": {},
   "outputs": [],
   "source": []
  },
  {
   "cell_type": "markdown",
   "metadata": {},
   "source": [
    "## 6. Mejorar nuestro modelo de previsión incluyendo algún evento especial."
   ]
  },
  {
   "cell_type": "markdown",
   "metadata": {
    "collapsed": true
   },
   "source": [
    "Incluya una lista de holidays que sea interesante con sus distintos tags para que el modelo separe mejor que contribuciones vienen por la propia estacionalidad o por eventos externos.\n",
    "\n",
    "Tener en cuenta todo este tipo de eventos sólo en el ámbito temporal de entrenamiento (del que tenemos datos), no lo proyectéis a futuro aún.\n"
   ]
  },
  {
   "cell_type": "code",
   "execution_count": 21,
   "metadata": {},
   "outputs": [],
   "source": []
  },
  {
   "cell_type": "markdown",
   "metadata": {
    "collapsed": true
   },
   "source": [
    "## 7. Plantear distintos escenarios sobre un posible confinamiento y ver su impacto en las ventas (usando el % variación  de ventas entre trimestres)"
   ]
  },
  {
   "cell_type": "markdown",
   "metadata": {},
   "source": [
    "Ya que hemos visto como el modelo se ha modificado en cuanto hemos señalado eventos externos que tenían cierta influencia sobre nuestra serie temporal se os pide que para la categoría que queráis, hagáis el entrenamiento del modelo y la predicción hasta 2021 teniendo en cuenta los efectos de todas estas variables externas y además incluirlos en vuestra predicción a futuro según distintos escenarios que tengáis en mente."
   ]
  },
  {
   "cell_type": "markdown",
   "metadata": {
    "collapsed": true
   },
   "source": [
    "### Escenario 1 : Hay confinamiento a principios de 2021"
   ]
  },
  {
   "cell_type": "code",
   "execution_count": 29,
   "metadata": {},
   "outputs": [],
   "source": []
  },
  {
   "cell_type": "markdown",
   "metadata": {},
   "source": [
    "### Escenario 2 : Hay confinamiento en verano de 2021 por una cepa nueva"
   ]
  },
  {
   "cell_type": "code",
   "execution_count": null,
   "metadata": {},
   "outputs": [],
   "source": []
  }
 ],
 "metadata": {
  "anaconda-cloud": {},
  "kernelspec": {
   "display_name": "Python 3",
   "language": "python",
   "name": "python3"
  },
  "language_info": {
   "codemirror_mode": {
    "name": "ipython",
    "version": 3
   },
   "file_extension": ".py",
   "mimetype": "text/x-python",
   "name": "python",
   "nbconvert_exporter": "python",
   "pygments_lexer": "ipython3",
   "version": "3.8.5"
  },
  "toc": {
   "base_numbering": 1,
   "nav_menu": {},
   "number_sections": true,
   "sideBar": true,
   "skip_h1_title": false,
   "title_cell": "Table of Contents",
   "title_sidebar": "Contents",
   "toc_cell": false,
   "toc_position": {},
   "toc_section_display": true,
   "toc_window_display": false
  },
  "varInspector": {
   "cols": {
    "lenName": 16,
    "lenType": 16,
    "lenVar": 40
   },
   "kernels_config": {
    "python": {
     "delete_cmd_postfix": "",
     "delete_cmd_prefix": "del ",
     "library": "var_list.py",
     "varRefreshCmd": "print(var_dic_list())"
    },
    "r": {
     "delete_cmd_postfix": ") ",
     "delete_cmd_prefix": "rm(",
     "library": "var_list.r",
     "varRefreshCmd": "cat(var_dic_list()) "
    }
   },
   "types_to_exclude": [
    "module",
    "function",
    "builtin_function_or_method",
    "instance",
    "_Feature"
   ],
   "window_display": false
  },
  "widgets": {
   "state": {},
   "version": "1.1.2"
  }
 },
 "nbformat": 4,
 "nbformat_minor": 2
}
