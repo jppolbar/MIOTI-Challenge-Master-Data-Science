{
 "cells": [
  {
   "cell_type": "markdown",
   "metadata": {},
   "source": [
    "<img src=\"mioti.png\" style=\"height: 100px\">\n",
    "<center style=\"color:#888\">Módulo Data Science in IoT<br/>Asignatura Data Visualization</center>\n",
    "\n",
    "# Challenge S2 : Introducción a los Modelos de Previsión en Series Temporales"
   ]
  },
  {
   "cell_type": "markdown",
   "metadata": {},
   "source": [
    "# 0. Objetivo\n",
    "\n",
    "El objetivo de este challenge es realizar previsiones de series temporales, utilizando modelos sencillos para familiarizarnos con los principales conceptos de la modelización y previsión de variables"
   ]
  },
  {
   "cell_type": "markdown",
   "metadata": {},
   "source": [
    "## 1. Preparar el contexto"
   ]
  },
  {
   "cell_type": "markdown",
   "metadata": {},
   "source": [
    "Como paso previo, cargamos las librerías que serán necesarias en nuestro estudio."
   ]
  },
  {
   "cell_type": "code",
   "execution_count": 1,
   "metadata": {
    "ExecuteTime": {
     "end_time": "2021-05-14T09:37:09.084508Z",
     "start_time": "2021-05-14T09:37:07.910830Z"
    }
   },
   "outputs": [],
   "source": [
    "import numpy as np\n",
    "import pandas as pd\n",
    "import matplotlib.pyplot as plt\n",
    "import matplotlib\n",
    "matplotlib.rcParams.update({'font.size': 14})\n",
    "%matplotlib inline"
   ]
  },
  {
   "cell_type": "markdown",
   "metadata": {},
   "source": [
    "## 2. Pretratado de los datos\n",
    "\n",
    "Recuerda que en este ejercicio, debemos leer nuestro fichero y crear un dataframe que incluya nuestro histórico y las fechas en las que queremos hacer la previsión.\n",
    "\n",
    "No olvides que seguimos trabajando con series temporales, por lo que, tendremos una variable tiempo."
   ]
  },
  {
   "cell_type": "code",
   "execution_count": 2,
   "metadata": {
    "ExecuteTime": {
     "end_time": "2021-05-14T09:37:09.099691Z",
     "start_time": "2021-05-14T09:37:09.089520Z"
    }
   },
   "outputs": [],
   "source": [
    "## Lectura de los datos\n",
    "data_path = 'retail_sales.csv'\n",
    "df_sales = pd.read_csv(data_path)"
   ]
  },
  {
   "cell_type": "code",
   "execution_count": 3,
   "metadata": {
    "ExecuteTime": {
     "end_time": "2021-05-14T09:37:09.145685Z",
     "start_time": "2021-05-14T09:37:09.110694Z"
    }
   },
   "outputs": [
    {
     "name": "stdout",
     "output_type": "stream",
     "text": [
      "<class 'pandas.core.frame.DataFrame'>\n",
      "RangeIndex: 72 entries, 0 to 71\n",
      "Data columns (total 2 columns):\n",
      " #   Column  Non-Null Count  Dtype \n",
      "---  ------  --------------  ----- \n",
      " 0   date    72 non-null     object\n",
      " 1   sales   72 non-null     int64 \n",
      "dtypes: int64(1), object(1)\n",
      "memory usage: 1.2+ KB\n"
     ]
    }
   ],
   "source": [
    "df_sales.info()"
   ]
  },
  {
   "cell_type": "code",
   "execution_count": 4,
   "metadata": {
    "ExecuteTime": {
     "end_time": "2021-05-14T09:37:09.177672Z",
     "start_time": "2021-05-14T09:37:09.150677Z"
    }
   },
   "outputs": [
    {
     "data": {
      "text/html": [
       "<div>\n",
       "<style scoped>\n",
       "    .dataframe tbody tr th:only-of-type {\n",
       "        vertical-align: middle;\n",
       "    }\n",
       "\n",
       "    .dataframe tbody tr th {\n",
       "        vertical-align: top;\n",
       "    }\n",
       "\n",
       "    .dataframe thead th {\n",
       "        text-align: right;\n",
       "    }\n",
       "</style>\n",
       "<table border=\"1\" class=\"dataframe\">\n",
       "  <thead>\n",
       "    <tr style=\"text-align: right;\">\n",
       "      <th></th>\n",
       "      <th>date</th>\n",
       "      <th>sales</th>\n",
       "    </tr>\n",
       "  </thead>\n",
       "  <tbody>\n",
       "    <tr>\n",
       "      <th>0</th>\n",
       "      <td>2009-10-01</td>\n",
       "      <td>338630</td>\n",
       "    </tr>\n",
       "    <tr>\n",
       "      <th>1</th>\n",
       "      <td>2009-11-01</td>\n",
       "      <td>339386</td>\n",
       "    </tr>\n",
       "    <tr>\n",
       "      <th>2</th>\n",
       "      <td>2009-12-01</td>\n",
       "      <td>400264</td>\n",
       "    </tr>\n",
       "    <tr>\n",
       "      <th>3</th>\n",
       "      <td>2010-01-01</td>\n",
       "      <td>314640</td>\n",
       "    </tr>\n",
       "    <tr>\n",
       "      <th>4</th>\n",
       "      <td>2010-02-01</td>\n",
       "      <td>311022</td>\n",
       "    </tr>\n",
       "  </tbody>\n",
       "</table>\n",
       "</div>"
      ],
      "text/plain": [
       "         date   sales\n",
       "0  2009-10-01  338630\n",
       "1  2009-11-01  339386\n",
       "2  2009-12-01  400264\n",
       "3  2010-01-01  314640\n",
       "4  2010-02-01  311022"
      ]
     },
     "execution_count": 4,
     "metadata": {},
     "output_type": "execute_result"
    }
   ],
   "source": [
    "df_sales.head()"
   ]
  },
  {
   "cell_type": "code",
   "execution_count": 5,
   "metadata": {
    "ExecuteTime": {
     "end_time": "2021-05-14T09:37:09.192686Z",
     "start_time": "2021-05-14T09:37:09.182679Z"
    }
   },
   "outputs": [],
   "source": [
    "## Creamos un campo fecha\n",
    "df_sales['date'] = pd.to_datetime(df_sales['date'], format='%Y-%m-%d')\n"
   ]
  },
  {
   "cell_type": "code",
   "execution_count": 6,
   "metadata": {
    "ExecuteTime": {
     "end_time": "2021-05-14T09:37:09.224846Z",
     "start_time": "2021-05-14T09:37:09.200733Z"
    }
   },
   "outputs": [
    {
     "data": {
      "text/html": [
       "<div>\n",
       "<style scoped>\n",
       "    .dataframe tbody tr th:only-of-type {\n",
       "        vertical-align: middle;\n",
       "    }\n",
       "\n",
       "    .dataframe tbody tr th {\n",
       "        vertical-align: top;\n",
       "    }\n",
       "\n",
       "    .dataframe thead th {\n",
       "        text-align: right;\n",
       "    }\n",
       "</style>\n",
       "<table border=\"1\" class=\"dataframe\">\n",
       "  <thead>\n",
       "    <tr style=\"text-align: right;\">\n",
       "      <th></th>\n",
       "      <th>sales</th>\n",
       "    </tr>\n",
       "  </thead>\n",
       "  <tbody>\n",
       "    <tr>\n",
       "      <th>2009-10-01</th>\n",
       "      <td>338630</td>\n",
       "    </tr>\n",
       "    <tr>\n",
       "      <th>2009-11-01</th>\n",
       "      <td>339386</td>\n",
       "    </tr>\n",
       "    <tr>\n",
       "      <th>2009-12-01</th>\n",
       "      <td>400264</td>\n",
       "    </tr>\n",
       "    <tr>\n",
       "      <th>2010-01-01</th>\n",
       "      <td>314640</td>\n",
       "    </tr>\n",
       "    <tr>\n",
       "      <th>2010-02-01</th>\n",
       "      <td>311022</td>\n",
       "    </tr>\n",
       "  </tbody>\n",
       "</table>\n",
       "</div>"
      ],
      "text/plain": [
       "             sales\n",
       "2009-10-01  338630\n",
       "2009-11-01  339386\n",
       "2009-12-01  400264\n",
       "2010-01-01  314640\n",
       "2010-02-01  311022"
      ]
     },
     "execution_count": 6,
     "metadata": {},
     "output_type": "execute_result"
    }
   ],
   "source": [
    "## Creamos un dataframe con el histórico\n",
    "\n",
    "df_sales_prevision = pd.DataFrame(df_sales['sales'].tolist(),\n",
    "                             index = df_sales['date'].tolist(),\n",
    "                             columns = ['sales'])\n",
    "df_sales_prevision.head()"
   ]
  },
  {
   "cell_type": "markdown",
   "metadata": {},
   "source": [
    "Recordemos que vamos a realizar la predicción sobre el siguiente año."
   ]
  },
  {
   "cell_type": "code",
   "execution_count": 7,
   "metadata": {
    "ExecuteTime": {
     "end_time": "2021-05-14T09:37:09.256180Z",
     "start_time": "2021-05-14T09:37:09.229860Z"
    }
   },
   "outputs": [
    {
     "data": {
      "text/plain": [
       "DatetimeIndex(['2015-10-01', '2015-11-01', '2015-12-01', '2016-01-01',\n",
       "               '2016-02-01', '2016-03-01', '2016-04-01', '2016-05-01',\n",
       "               '2016-06-01', '2016-07-01', '2016-08-01', '2016-09-01'],\n",
       "              dtype='datetime64[ns]', freq='MS')"
      ]
     },
     "execution_count": 7,
     "metadata": {},
     "output_type": "execute_result"
    }
   ],
   "source": [
    "## Periodos en los que vamos a hacer la predicción\n",
    "periodos = pd.date_range(start='2015-10-01',periods = 12, freq = 'MS')\n",
    "periodos"
   ]
  },
  {
   "cell_type": "code",
   "execution_count": 8,
   "metadata": {
    "ExecuteTime": {
     "end_time": "2021-05-14T09:37:09.288193Z",
     "start_time": "2021-05-14T09:37:09.261183Z"
    }
   },
   "outputs": [
    {
     "data": {
      "text/html": [
       "<div>\n",
       "<style scoped>\n",
       "    .dataframe tbody tr th:only-of-type {\n",
       "        vertical-align: middle;\n",
       "    }\n",
       "\n",
       "    .dataframe tbody tr th {\n",
       "        vertical-align: top;\n",
       "    }\n",
       "\n",
       "    .dataframe thead th {\n",
       "        text-align: right;\n",
       "    }\n",
       "</style>\n",
       "<table border=\"1\" class=\"dataframe\">\n",
       "  <thead>\n",
       "    <tr style=\"text-align: right;\">\n",
       "      <th></th>\n",
       "      <th>sales</th>\n",
       "    </tr>\n",
       "  </thead>\n",
       "  <tbody>\n",
       "    <tr>\n",
       "      <th>2015-10-01</th>\n",
       "      <td>NaN</td>\n",
       "    </tr>\n",
       "    <tr>\n",
       "      <th>2015-11-01</th>\n",
       "      <td>NaN</td>\n",
       "    </tr>\n",
       "    <tr>\n",
       "      <th>2015-12-01</th>\n",
       "      <td>NaN</td>\n",
       "    </tr>\n",
       "    <tr>\n",
       "      <th>2016-01-01</th>\n",
       "      <td>NaN</td>\n",
       "    </tr>\n",
       "    <tr>\n",
       "      <th>2016-02-01</th>\n",
       "      <td>NaN</td>\n",
       "    </tr>\n",
       "    <tr>\n",
       "      <th>2016-03-01</th>\n",
       "      <td>NaN</td>\n",
       "    </tr>\n",
       "    <tr>\n",
       "      <th>2016-04-01</th>\n",
       "      <td>NaN</td>\n",
       "    </tr>\n",
       "    <tr>\n",
       "      <th>2016-05-01</th>\n",
       "      <td>NaN</td>\n",
       "    </tr>\n",
       "    <tr>\n",
       "      <th>2016-06-01</th>\n",
       "      <td>NaN</td>\n",
       "    </tr>\n",
       "    <tr>\n",
       "      <th>2016-07-01</th>\n",
       "      <td>NaN</td>\n",
       "    </tr>\n",
       "    <tr>\n",
       "      <th>2016-08-01</th>\n",
       "      <td>NaN</td>\n",
       "    </tr>\n",
       "    <tr>\n",
       "      <th>2016-09-01</th>\n",
       "      <td>NaN</td>\n",
       "    </tr>\n",
       "  </tbody>\n",
       "</table>\n",
       "</div>"
      ],
      "text/plain": [
       "            sales\n",
       "2015-10-01    NaN\n",
       "2015-11-01    NaN\n",
       "2015-12-01    NaN\n",
       "2016-01-01    NaN\n",
       "2016-02-01    NaN\n",
       "2016-03-01    NaN\n",
       "2016-04-01    NaN\n",
       "2016-05-01    NaN\n",
       "2016-06-01    NaN\n",
       "2016-07-01    NaN\n",
       "2016-08-01    NaN\n",
       "2016-09-01    NaN"
      ]
     },
     "execution_count": 8,
     "metadata": {},
     "output_type": "execute_result"
    }
   ],
   "source": [
    "## Creamos un dataframe con nuestras fechas a predecir\n",
    "\n",
    "df_prediccion = pd.DataFrame({'sales':''},\n",
    "                             index = periodos)\n",
    "df_prediccion['sales']=np.nan\n",
    "df_prediccion"
   ]
  },
  {
   "cell_type": "code",
   "execution_count": 9,
   "metadata": {
    "ExecuteTime": {
     "end_time": "2021-05-14T09:37:09.318193Z",
     "start_time": "2021-05-14T09:37:09.294205Z"
    }
   },
   "outputs": [
    {
     "data": {
      "text/html": [
       "<div>\n",
       "<style scoped>\n",
       "    .dataframe tbody tr th:only-of-type {\n",
       "        vertical-align: middle;\n",
       "    }\n",
       "\n",
       "    .dataframe tbody tr th {\n",
       "        vertical-align: top;\n",
       "    }\n",
       "\n",
       "    .dataframe thead th {\n",
       "        text-align: right;\n",
       "    }\n",
       "</style>\n",
       "<table border=\"1\" class=\"dataframe\">\n",
       "  <thead>\n",
       "    <tr style=\"text-align: right;\">\n",
       "      <th></th>\n",
       "      <th>sales</th>\n",
       "    </tr>\n",
       "  </thead>\n",
       "  <tbody>\n",
       "    <tr>\n",
       "      <th>2015-02-01</th>\n",
       "      <td>386935.0</td>\n",
       "    </tr>\n",
       "    <tr>\n",
       "      <th>2015-03-01</th>\n",
       "      <td>444110.0</td>\n",
       "    </tr>\n",
       "    <tr>\n",
       "      <th>2015-04-01</th>\n",
       "      <td>438217.0</td>\n",
       "    </tr>\n",
       "    <tr>\n",
       "      <th>2015-05-01</th>\n",
       "      <td>462615.0</td>\n",
       "    </tr>\n",
       "    <tr>\n",
       "      <th>2015-06-01</th>\n",
       "      <td>448229.0</td>\n",
       "    </tr>\n",
       "    <tr>\n",
       "      <th>2015-07-01</th>\n",
       "      <td>457710.0</td>\n",
       "    </tr>\n",
       "    <tr>\n",
       "      <th>2015-08-01</th>\n",
       "      <td>456340.0</td>\n",
       "    </tr>\n",
       "    <tr>\n",
       "      <th>2015-09-01</th>\n",
       "      <td>430917.0</td>\n",
       "    </tr>\n",
       "    <tr>\n",
       "      <th>2015-10-01</th>\n",
       "      <td>NaN</td>\n",
       "    </tr>\n",
       "    <tr>\n",
       "      <th>2015-11-01</th>\n",
       "      <td>NaN</td>\n",
       "    </tr>\n",
       "    <tr>\n",
       "      <th>2015-12-01</th>\n",
       "      <td>NaN</td>\n",
       "    </tr>\n",
       "    <tr>\n",
       "      <th>2016-01-01</th>\n",
       "      <td>NaN</td>\n",
       "    </tr>\n",
       "    <tr>\n",
       "      <th>2016-02-01</th>\n",
       "      <td>NaN</td>\n",
       "    </tr>\n",
       "    <tr>\n",
       "      <th>2016-03-01</th>\n",
       "      <td>NaN</td>\n",
       "    </tr>\n",
       "    <tr>\n",
       "      <th>2016-04-01</th>\n",
       "      <td>NaN</td>\n",
       "    </tr>\n",
       "    <tr>\n",
       "      <th>2016-05-01</th>\n",
       "      <td>NaN</td>\n",
       "    </tr>\n",
       "    <tr>\n",
       "      <th>2016-06-01</th>\n",
       "      <td>NaN</td>\n",
       "    </tr>\n",
       "    <tr>\n",
       "      <th>2016-07-01</th>\n",
       "      <td>NaN</td>\n",
       "    </tr>\n",
       "    <tr>\n",
       "      <th>2016-08-01</th>\n",
       "      <td>NaN</td>\n",
       "    </tr>\n",
       "    <tr>\n",
       "      <th>2016-09-01</th>\n",
       "      <td>NaN</td>\n",
       "    </tr>\n",
       "  </tbody>\n",
       "</table>\n",
       "</div>"
      ],
      "text/plain": [
       "               sales\n",
       "2015-02-01  386935.0\n",
       "2015-03-01  444110.0\n",
       "2015-04-01  438217.0\n",
       "2015-05-01  462615.0\n",
       "2015-06-01  448229.0\n",
       "2015-07-01  457710.0\n",
       "2015-08-01  456340.0\n",
       "2015-09-01  430917.0\n",
       "2015-10-01       NaN\n",
       "2015-11-01       NaN\n",
       "2015-12-01       NaN\n",
       "2016-01-01       NaN\n",
       "2016-02-01       NaN\n",
       "2016-03-01       NaN\n",
       "2016-04-01       NaN\n",
       "2016-05-01       NaN\n",
       "2016-06-01       NaN\n",
       "2016-07-01       NaN\n",
       "2016-08-01       NaN\n",
       "2016-09-01       NaN"
      ]
     },
     "execution_count": 9,
     "metadata": {},
     "output_type": "execute_result"
    }
   ],
   "source": [
    "## Unimos el dataframe del histórico y el de la predicción\n",
    "df_sales = pd.concat([df_sales_prevision, df_prediccion], ignore_index = False)\n",
    "df_sales.tail(20)"
   ]
  },
  {
   "cell_type": "markdown",
   "metadata": {},
   "source": [
    "## 2. Componentes de la serie temporal"
   ]
  },
  {
   "cell_type": "markdown",
   "metadata": {},
   "source": [
    "Representa la serie resultante."
   ]
  },
  {
   "cell_type": "code",
   "execution_count": 10,
   "metadata": {
    "ExecuteTime": {
     "end_time": "2021-05-14T09:37:09.847027Z",
     "start_time": "2021-05-14T09:37:09.322202Z"
    }
   },
   "outputs": [
    {
     "data": {
      "text/plain": [
       "<AxesSubplot:title={'center':'¿Cómo evolucionan las ventas? \\n'}>"
      ]
     },
     "execution_count": 10,
     "metadata": {},
     "output_type": "execute_result"
    },
    {
     "data": {
      "image/png": "[encoded data removed]",
      "text/plain": [
       "<Figure size 864x432 with 1 Axes>"
      ]
     },
     "metadata": {
      "needs_background": "light"
     },
     "output_type": "display_data"
    }
   ],
   "source": [
    "## Representamos la serie temporal\n",
    "df_sales.plot(figsize=(12,6),\n",
    "                  title='¿Cómo evolucionan las ventas? \\n')"
   ]
  },
  {
   "cell_type": "markdown",
   "metadata": {},
   "source": [
    "##### *P: ¿Qué componentes de una serie temporal tiene las ventas en retail?*"
   ]
  },
  {
   "cell_type": "markdown",
   "metadata": {},
   "source": [
    "* Se aprecian dos componentes:\n",
    "    * Tendencia: Positiva incremental\n",
    "    * Estacionalidad: Se refleja una estacionalidad en cada periodo anual, más o menos se repite la misma figura cada año."
   ]
  },
  {
   "cell_type": "markdown",
   "metadata": {},
   "source": [
    "## 4. Predicciones mejoradas sobre la serie temporal"
   ]
  },
  {
   "cell_type": "markdown",
   "metadata": {},
   "source": [
    "Para realizar las predicciones vamos a eliminar primero las componentes de la serie temporal, de manera que calculemos nuestra previsión sobre el residuo."
   ]
  },
  {
   "cell_type": "markdown",
   "metadata": {},
   "source": [
    "### 4.1.-  Eliminar las componentes de la serie: estacionalidad y tendencia"
   ]
  },
  {
   "cell_type": "markdown",
   "metadata": {},
   "source": [
    "#### a) Elimina la estacionalidad y representa los resultados.\n",
    "\n",
    "##### *P: ¿Cómo podemos eliminar la estacionalidad? ¿Qué ventana móvil debemos usar? ¿Por qué?*"
   ]
  },
  {
   "cell_type": "markdown",
   "metadata": {},
   "source": [
    "* La estacionalidad la elimnamos realizando una media con una ventana, en este caso como las mediciones son mensuales, establecemos una venta de 12, por tener nuestro periodo anual, 12 meses, que se corresponde a 12 mediciones."
   ]
  },
  {
   "cell_type": "code",
   "execution_count": 11,
   "metadata": {
    "ExecuteTime": {
     "end_time": "2021-05-14T09:37:09.877305Z",
     "start_time": "2021-05-14T09:37:09.851029Z"
    }
   },
   "outputs": [
    {
     "data": {
      "text/html": [
       "<div>\n",
       "<style scoped>\n",
       "    .dataframe tbody tr th:only-of-type {\n",
       "        vertical-align: middle;\n",
       "    }\n",
       "\n",
       "    .dataframe tbody tr th {\n",
       "        vertical-align: top;\n",
       "    }\n",
       "\n",
       "    .dataframe thead th {\n",
       "        text-align: right;\n",
       "    }\n",
       "</style>\n",
       "<table border=\"1\" class=\"dataframe\">\n",
       "  <thead>\n",
       "    <tr style=\"text-align: right;\">\n",
       "      <th></th>\n",
       "      <th>sales</th>\n",
       "      <th>sales_mm_12</th>\n",
       "    </tr>\n",
       "  </thead>\n",
       "  <tbody>\n",
       "    <tr>\n",
       "      <th>2009-10-01</th>\n",
       "      <td>338630.0</td>\n",
       "      <td>NaN</td>\n",
       "    </tr>\n",
       "    <tr>\n",
       "      <th>2009-11-01</th>\n",
       "      <td>339386.0</td>\n",
       "      <td>NaN</td>\n",
       "    </tr>\n",
       "    <tr>\n",
       "      <th>2009-12-01</th>\n",
       "      <td>400264.0</td>\n",
       "      <td>NaN</td>\n",
       "    </tr>\n",
       "    <tr>\n",
       "      <th>2010-01-01</th>\n",
       "      <td>314640.0</td>\n",
       "      <td>NaN</td>\n",
       "    </tr>\n",
       "    <tr>\n",
       "      <th>2010-02-01</th>\n",
       "      <td>311022.0</td>\n",
       "      <td>NaN</td>\n",
       "    </tr>\n",
       "    <tr>\n",
       "      <th>2010-03-01</th>\n",
       "      <td>360819.0</td>\n",
       "      <td>NaN</td>\n",
       "    </tr>\n",
       "    <tr>\n",
       "      <th>2010-04-01</th>\n",
       "      <td>356460.0</td>\n",
       "      <td>NaN</td>\n",
       "    </tr>\n",
       "    <tr>\n",
       "      <th>2010-05-01</th>\n",
       "      <td>365713.0</td>\n",
       "      <td>NaN</td>\n",
       "    </tr>\n",
       "    <tr>\n",
       "      <th>2010-06-01</th>\n",
       "      <td>358675.0</td>\n",
       "      <td>NaN</td>\n",
       "    </tr>\n",
       "    <tr>\n",
       "      <th>2010-07-01</th>\n",
       "      <td>362027.0</td>\n",
       "      <td>NaN</td>\n",
       "    </tr>\n",
       "    <tr>\n",
       "      <th>2010-08-01</th>\n",
       "      <td>362682.0</td>\n",
       "      <td>NaN</td>\n",
       "    </tr>\n",
       "    <tr>\n",
       "      <th>2010-09-01</th>\n",
       "      <td>346069.0</td>\n",
       "      <td>351365.583333</td>\n",
       "    </tr>\n",
       "    <tr>\n",
       "      <th>2010-10-01</th>\n",
       "      <td>355212.0</td>\n",
       "      <td>352747.416667</td>\n",
       "    </tr>\n",
       "    <tr>\n",
       "      <th>2010-11-01</th>\n",
       "      <td>365809.0</td>\n",
       "      <td>354949.333333</td>\n",
       "    </tr>\n",
       "    <tr>\n",
       "      <th>2010-12-01</th>\n",
       "      <td>426654.0</td>\n",
       "      <td>357148.500000</td>\n",
       "    </tr>\n",
       "  </tbody>\n",
       "</table>\n",
       "</div>"
      ],
      "text/plain": [
       "               sales    sales_mm_12\n",
       "2009-10-01  338630.0            NaN\n",
       "2009-11-01  339386.0            NaN\n",
       "2009-12-01  400264.0            NaN\n",
       "2010-01-01  314640.0            NaN\n",
       "2010-02-01  311022.0            NaN\n",
       "2010-03-01  360819.0            NaN\n",
       "2010-04-01  356460.0            NaN\n",
       "2010-05-01  365713.0            NaN\n",
       "2010-06-01  358675.0            NaN\n",
       "2010-07-01  362027.0            NaN\n",
       "2010-08-01  362682.0            NaN\n",
       "2010-09-01  346069.0  351365.583333\n",
       "2010-10-01  355212.0  352747.416667\n",
       "2010-11-01  365809.0  354949.333333\n",
       "2010-12-01  426654.0  357148.500000"
      ]
     },
     "execution_count": 11,
     "metadata": {},
     "output_type": "execute_result"
    }
   ],
   "source": [
    "## Eliminamos la estacionalidad de la serie\n",
    "ventana = 12\n",
    "df_sales['sales_mm_12'] = df_sales['sales'].rolling(ventana).mean()\n",
    "df_sales.head(15)"
   ]
  },
  {
   "cell_type": "code",
   "execution_count": 12,
   "metadata": {
    "ExecuteTime": {
     "end_time": "2021-05-14T09:37:10.406957Z",
     "start_time": "2021-05-14T09:37:09.881310Z"
    }
   },
   "outputs": [
    {
     "data": {
      "text/plain": [
       "<AxesSubplot:title={'center':'¿Cómo evolucionan las ventas con estacionalidad \"vs\" sin estacionalidad? \\n'}>"
      ]
     },
     "execution_count": 12,
     "metadata": {},
     "output_type": "execute_result"
    },
    {
     "data": {
      "image/png": "[encoded data removed]",
      "text/plain": [
       "<Figure size 864x432 with 1 Axes>"
      ]
     },
     "metadata": {
      "needs_background": "light"
     },
     "output_type": "display_data"
    }
   ],
   "source": [
    "## Representamos el resultado\n",
    "df_sales.plot(figsize=(12,6),\n",
    "                  title='¿Cómo evolucionan las ventas con estacionalidad \"vs\" sin estacionalidad? \\n')"
   ]
  },
  {
   "cell_type": "markdown",
   "metadata": {},
   "source": [
    "#### b) Elimina la tendencia y representa los resultados.\n",
    "\n",
    "##### *P: ¿Cómo podemos eliminar la tendencia?*"
   ]
  },
  {
   "cell_type": "markdown",
   "metadata": {},
   "source": [
    "* La tendencia la eliminaremos restando el valor del anterior dato. Nos serviremos de la instrucción shift, con una ventana de 1"
   ]
  },
  {
   "cell_type": "code",
   "execution_count": null,
   "metadata": {},
   "outputs": [],
   "source": []
  },
  {
   "cell_type": "code",
   "execution_count": 13,
   "metadata": {
    "ExecuteTime": {
     "end_time": "2021-05-14T09:37:10.454128Z",
     "start_time": "2021-05-14T09:37:10.410429Z"
    }
   },
   "outputs": [
    {
     "data": {
      "text/html": [
       "<div>\n",
       "<style scoped>\n",
       "    .dataframe tbody tr th:only-of-type {\n",
       "        vertical-align: middle;\n",
       "    }\n",
       "\n",
       "    .dataframe tbody tr th {\n",
       "        vertical-align: top;\n",
       "    }\n",
       "\n",
       "    .dataframe thead th {\n",
       "        text-align: right;\n",
       "    }\n",
       "</style>\n",
       "<table border=\"1\" class=\"dataframe\">\n",
       "  <thead>\n",
       "    <tr style=\"text-align: right;\">\n",
       "      <th></th>\n",
       "      <th>sales</th>\n",
       "      <th>sales_mm_12</th>\n",
       "      <th>sales_mm_12_st</th>\n",
       "    </tr>\n",
       "  </thead>\n",
       "  <tbody>\n",
       "    <tr>\n",
       "      <th>2009-10-01</th>\n",
       "      <td>338630.0</td>\n",
       "      <td>NaN</td>\n",
       "      <td>NaN</td>\n",
       "    </tr>\n",
       "    <tr>\n",
       "      <th>2009-11-01</th>\n",
       "      <td>339386.0</td>\n",
       "      <td>NaN</td>\n",
       "      <td>NaN</td>\n",
       "    </tr>\n",
       "    <tr>\n",
       "      <th>2009-12-01</th>\n",
       "      <td>400264.0</td>\n",
       "      <td>NaN</td>\n",
       "      <td>NaN</td>\n",
       "    </tr>\n",
       "    <tr>\n",
       "      <th>2010-01-01</th>\n",
       "      <td>314640.0</td>\n",
       "      <td>NaN</td>\n",
       "      <td>NaN</td>\n",
       "    </tr>\n",
       "    <tr>\n",
       "      <th>2010-02-01</th>\n",
       "      <td>311022.0</td>\n",
       "      <td>NaN</td>\n",
       "      <td>NaN</td>\n",
       "    </tr>\n",
       "    <tr>\n",
       "      <th>2010-03-01</th>\n",
       "      <td>360819.0</td>\n",
       "      <td>NaN</td>\n",
       "      <td>NaN</td>\n",
       "    </tr>\n",
       "    <tr>\n",
       "      <th>2010-04-01</th>\n",
       "      <td>356460.0</td>\n",
       "      <td>NaN</td>\n",
       "      <td>NaN</td>\n",
       "    </tr>\n",
       "    <tr>\n",
       "      <th>2010-05-01</th>\n",
       "      <td>365713.0</td>\n",
       "      <td>NaN</td>\n",
       "      <td>NaN</td>\n",
       "    </tr>\n",
       "    <tr>\n",
       "      <th>2010-06-01</th>\n",
       "      <td>358675.0</td>\n",
       "      <td>NaN</td>\n",
       "      <td>NaN</td>\n",
       "    </tr>\n",
       "    <tr>\n",
       "      <th>2010-07-01</th>\n",
       "      <td>362027.0</td>\n",
       "      <td>NaN</td>\n",
       "      <td>NaN</td>\n",
       "    </tr>\n",
       "    <tr>\n",
       "      <th>2010-08-01</th>\n",
       "      <td>362682.0</td>\n",
       "      <td>NaN</td>\n",
       "      <td>NaN</td>\n",
       "    </tr>\n",
       "    <tr>\n",
       "      <th>2010-09-01</th>\n",
       "      <td>346069.0</td>\n",
       "      <td>351365.583333</td>\n",
       "      <td>NaN</td>\n",
       "    </tr>\n",
       "    <tr>\n",
       "      <th>2010-10-01</th>\n",
       "      <td>355212.0</td>\n",
       "      <td>352747.416667</td>\n",
       "      <td>1381.833333</td>\n",
       "    </tr>\n",
       "    <tr>\n",
       "      <th>2010-11-01</th>\n",
       "      <td>365809.0</td>\n",
       "      <td>354949.333333</td>\n",
       "      <td>2201.916667</td>\n",
       "    </tr>\n",
       "    <tr>\n",
       "      <th>2010-12-01</th>\n",
       "      <td>426654.0</td>\n",
       "      <td>357148.500000</td>\n",
       "      <td>2199.166667</td>\n",
       "    </tr>\n",
       "    <tr>\n",
       "      <th>2011-01-01</th>\n",
       "      <td>335608.0</td>\n",
       "      <td>358895.833333</td>\n",
       "      <td>1747.333333</td>\n",
       "    </tr>\n",
       "    <tr>\n",
       "      <th>2011-02-01</th>\n",
       "      <td>337352.0</td>\n",
       "      <td>361090.000000</td>\n",
       "      <td>2194.166667</td>\n",
       "    </tr>\n",
       "    <tr>\n",
       "      <th>2011-03-01</th>\n",
       "      <td>387092.0</td>\n",
       "      <td>363279.416667</td>\n",
       "      <td>2189.416667</td>\n",
       "    </tr>\n",
       "    <tr>\n",
       "      <th>2011-04-01</th>\n",
       "      <td>380754.0</td>\n",
       "      <td>365303.916667</td>\n",
       "      <td>2024.500000</td>\n",
       "    </tr>\n",
       "    <tr>\n",
       "      <th>2011-05-01</th>\n",
       "      <td>391970.0</td>\n",
       "      <td>367492.000000</td>\n",
       "      <td>2188.083333</td>\n",
       "    </tr>\n",
       "  </tbody>\n",
       "</table>\n",
       "</div>"
      ],
      "text/plain": [
       "               sales    sales_mm_12  sales_mm_12_st\n",
       "2009-10-01  338630.0            NaN             NaN\n",
       "2009-11-01  339386.0            NaN             NaN\n",
       "2009-12-01  400264.0            NaN             NaN\n",
       "2010-01-01  314640.0            NaN             NaN\n",
       "2010-02-01  311022.0            NaN             NaN\n",
       "2010-03-01  360819.0            NaN             NaN\n",
       "2010-04-01  356460.0            NaN             NaN\n",
       "2010-05-01  365713.0            NaN             NaN\n",
       "2010-06-01  358675.0            NaN             NaN\n",
       "2010-07-01  362027.0            NaN             NaN\n",
       "2010-08-01  362682.0            NaN             NaN\n",
       "2010-09-01  346069.0  351365.583333             NaN\n",
       "2010-10-01  355212.0  352747.416667     1381.833333\n",
       "2010-11-01  365809.0  354949.333333     2201.916667\n",
       "2010-12-01  426654.0  357148.500000     2199.166667\n",
       "2011-01-01  335608.0  358895.833333     1747.333333\n",
       "2011-02-01  337352.0  361090.000000     2194.166667\n",
       "2011-03-01  387092.0  363279.416667     2189.416667\n",
       "2011-04-01  380754.0  365303.916667     2024.500000\n",
       "2011-05-01  391970.0  367492.000000     2188.083333"
      ]
     },
     "execution_count": 13,
     "metadata": {},
     "output_type": "execute_result"
    }
   ],
   "source": [
    "## Eliminamos la tendencia\n",
    "df_sales['sales_mm_12_st'] = df_sales['sales_mm_12'] - df_sales['sales_mm_12'].shift(1)\n",
    "df_sales.head(20)"
   ]
  },
  {
   "cell_type": "code",
   "execution_count": 14,
   "metadata": {
    "ExecuteTime": {
     "end_time": "2021-05-14T09:37:11.488481Z",
     "start_time": "2021-05-14T09:37:10.458350Z"
    }
   },
   "outputs": [
    {
     "data": {
      "text/plain": [
       "array([<AxesSubplot:title={'center':'¿Cómo evoluciona las ventas?'}>,\n",
       "       <AxesSubplot:title={'center':'Serie sin estacionalidad'}>,\n",
       "       <AxesSubplot:title={'center':'Sin estacionalidad y sin tendencia'}>],\n",
       "      dtype=object)"
      ]
     },
     "execution_count": 14,
     "metadata": {},
     "output_type": "execute_result"
    },
    {
     "data": {
      "image/png": "[encoded data removed]",
      "text/plain": [
       "<Figure size 864x432 with 3 Axes>"
      ]
     },
     "metadata": {
      "needs_background": "light"
     },
     "output_type": "display_data"
    }
   ],
   "source": [
    "## Representamos el resultado\n",
    "df_sales.loc[:,['sales','sales_mm_12','sales_mm_12_st']].plot(figsize=(12,6),\n",
    "                                                         subplots=True,\n",
    "                                                         title= ['¿Cómo evoluciona las ventas?',\n",
    "                                                                'Serie sin estacionalidad',\n",
    "                                                                'Sin estacionalidad y sin tendencia'])"
   ]
  },
  {
   "cell_type": "markdown",
   "metadata": {},
   "source": [
    "### 4.2.-  Realizar la previsión"
   ]
  },
  {
   "cell_type": "markdown",
   "metadata": {},
   "source": [
    "Realiza la previsión sobre la componente aleatoria. Utiliza alguno de los modelos que hemos visto y representa los resultados."
   ]
  },
  {
   "cell_type": "code",
   "execution_count": 15,
   "metadata": {
    "ExecuteTime": {
     "end_time": "2021-05-14T09:37:11.535633Z",
     "start_time": "2021-05-14T09:37:11.492467Z"
    }
   },
   "outputs": [
    {
     "data": {
      "text/html": [
       "<div>\n",
       "<style scoped>\n",
       "    .dataframe tbody tr th:only-of-type {\n",
       "        vertical-align: middle;\n",
       "    }\n",
       "\n",
       "    .dataframe tbody tr th {\n",
       "        vertical-align: top;\n",
       "    }\n",
       "\n",
       "    .dataframe thead th {\n",
       "        text-align: right;\n",
       "    }\n",
       "</style>\n",
       "<table border=\"1\" class=\"dataframe\">\n",
       "  <thead>\n",
       "    <tr style=\"text-align: right;\">\n",
       "      <th></th>\n",
       "      <th>sales</th>\n",
       "      <th>sales_mm_12</th>\n",
       "      <th>sales_mm_12_st</th>\n",
       "      <th>sales_prevision_M12</th>\n",
       "    </tr>\n",
       "  </thead>\n",
       "  <tbody>\n",
       "    <tr>\n",
       "      <th>2015-07-01</th>\n",
       "      <td>457710.0</td>\n",
       "      <td>440308.000000</td>\n",
       "      <td>1225.416667</td>\n",
       "      <td>NaN</td>\n",
       "    </tr>\n",
       "    <tr>\n",
       "      <th>2015-08-01</th>\n",
       "      <td>456340.0</td>\n",
       "      <td>440760.250000</td>\n",
       "      <td>452.250000</td>\n",
       "      <td>NaN</td>\n",
       "    </tr>\n",
       "    <tr>\n",
       "      <th>2015-09-01</th>\n",
       "      <td>430917.0</td>\n",
       "      <td>441597.416667</td>\n",
       "      <td>837.166667</td>\n",
       "      <td>837.166667</td>\n",
       "    </tr>\n",
       "    <tr>\n",
       "      <th>2015-10-01</th>\n",
       "      <td>NaN</td>\n",
       "      <td>NaN</td>\n",
       "      <td>NaN</td>\n",
       "      <td>1503.863889</td>\n",
       "    </tr>\n",
       "    <tr>\n",
       "      <th>2015-11-01</th>\n",
       "      <td>NaN</td>\n",
       "      <td>NaN</td>\n",
       "      <td>NaN</td>\n",
       "      <td>1503.863889</td>\n",
       "    </tr>\n",
       "    <tr>\n",
       "      <th>2015-12-01</th>\n",
       "      <td>NaN</td>\n",
       "      <td>NaN</td>\n",
       "      <td>NaN</td>\n",
       "      <td>1503.863889</td>\n",
       "    </tr>\n",
       "    <tr>\n",
       "      <th>2016-01-01</th>\n",
       "      <td>NaN</td>\n",
       "      <td>NaN</td>\n",
       "      <td>NaN</td>\n",
       "      <td>1503.863889</td>\n",
       "    </tr>\n",
       "    <tr>\n",
       "      <th>2016-02-01</th>\n",
       "      <td>NaN</td>\n",
       "      <td>NaN</td>\n",
       "      <td>NaN</td>\n",
       "      <td>1503.863889</td>\n",
       "    </tr>\n",
       "    <tr>\n",
       "      <th>2016-03-01</th>\n",
       "      <td>NaN</td>\n",
       "      <td>NaN</td>\n",
       "      <td>NaN</td>\n",
       "      <td>1503.863889</td>\n",
       "    </tr>\n",
       "    <tr>\n",
       "      <th>2016-04-01</th>\n",
       "      <td>NaN</td>\n",
       "      <td>NaN</td>\n",
       "      <td>NaN</td>\n",
       "      <td>1503.863889</td>\n",
       "    </tr>\n",
       "    <tr>\n",
       "      <th>2016-05-01</th>\n",
       "      <td>NaN</td>\n",
       "      <td>NaN</td>\n",
       "      <td>NaN</td>\n",
       "      <td>1503.863889</td>\n",
       "    </tr>\n",
       "    <tr>\n",
       "      <th>2016-06-01</th>\n",
       "      <td>NaN</td>\n",
       "      <td>NaN</td>\n",
       "      <td>NaN</td>\n",
       "      <td>1503.863889</td>\n",
       "    </tr>\n",
       "    <tr>\n",
       "      <th>2016-07-01</th>\n",
       "      <td>NaN</td>\n",
       "      <td>NaN</td>\n",
       "      <td>NaN</td>\n",
       "      <td>1503.863889</td>\n",
       "    </tr>\n",
       "    <tr>\n",
       "      <th>2016-08-01</th>\n",
       "      <td>NaN</td>\n",
       "      <td>NaN</td>\n",
       "      <td>NaN</td>\n",
       "      <td>1503.863889</td>\n",
       "    </tr>\n",
       "    <tr>\n",
       "      <th>2016-09-01</th>\n",
       "      <td>NaN</td>\n",
       "      <td>NaN</td>\n",
       "      <td>NaN</td>\n",
       "      <td>1503.863889</td>\n",
       "    </tr>\n",
       "  </tbody>\n",
       "</table>\n",
       "</div>"
      ],
      "text/plain": [
       "               sales    sales_mm_12  sales_mm_12_st  sales_prevision_M12\n",
       "2015-07-01  457710.0  440308.000000     1225.416667                  NaN\n",
       "2015-08-01  456340.0  440760.250000      452.250000                  NaN\n",
       "2015-09-01  430917.0  441597.416667      837.166667           837.166667\n",
       "2015-10-01       NaN            NaN             NaN          1503.863889\n",
       "2015-11-01       NaN            NaN             NaN          1503.863889\n",
       "2015-12-01       NaN            NaN             NaN          1503.863889\n",
       "2016-01-01       NaN            NaN             NaN          1503.863889\n",
       "2016-02-01       NaN            NaN             NaN          1503.863889\n",
       "2016-03-01       NaN            NaN             NaN          1503.863889\n",
       "2016-04-01       NaN            NaN             NaN          1503.863889\n",
       "2016-05-01       NaN            NaN             NaN          1503.863889\n",
       "2016-06-01       NaN            NaN             NaN          1503.863889\n",
       "2016-07-01       NaN            NaN             NaN          1503.863889\n",
       "2016-08-01       NaN            NaN             NaN          1503.863889\n",
       "2016-09-01       NaN            NaN             NaN          1503.863889"
      ]
     },
     "execution_count": 15,
     "metadata": {},
     "output_type": "execute_result"
    }
   ],
   "source": [
    "## Creamos un campo para nuestra previsión y lo rellenamos con Nan\n",
    "df_sales['sales_prevision_M12'] = np.nan\n",
    "## Incluimos como previsión de los dos últimos meses la media de todos los alquileres\n",
    "df_sales['sales_prevision_M12'][-13:] = df_sales['sales_mm_12_st'][-13]\n",
    "df_sales['sales_prevision_M12'][-12:] = df_sales['sales_mm_12_st'].mean()\n",
    "df_sales.tail(15)"
   ]
  },
  {
   "cell_type": "code",
   "execution_count": 16,
   "metadata": {
    "ExecuteTime": {
     "end_time": "2021-05-14T09:37:12.001390Z",
     "start_time": "2021-05-14T09:37:11.540532Z"
    }
   },
   "outputs": [
    {
     "data": {
      "text/plain": [
       "<AxesSubplot:title={'center':'¿Cómo evolucionaran las ventas? \\n'}>"
      ]
     },
     "execution_count": 16,
     "metadata": {},
     "output_type": "execute_result"
    },
    {
     "data": {
      "image/png": "[encoded data removed]",
      "text/plain": [
       "<Figure size 864x432 with 1 Axes>"
      ]
     },
     "metadata": {
      "needs_background": "light"
     },
     "output_type": "display_data"
    }
   ],
   "source": [
    "## Representamos nuestra previsión\n",
    "df_sales.loc[:,['sales_mm_12_st','sales_prevision_M12']].plot(figsize=(12,6),\n",
    "                  title='¿Cómo evolucionaran las ventas? \\n')"
   ]
  },
  {
   "cell_type": "markdown",
   "metadata": {},
   "source": [
    "#### *P: Esta previsión, ¿qué significa? ¿cómo lo puedo convertir en un número que se parezca a mis alquileres?*"
   ]
  },
  {
   "cell_type": "markdown",
   "metadata": {},
   "source": [
    "* Hemos realizado una prevision al año siguiente partiendo del último daro del residuo, es decir del último dato que teniamos sin tendencia y sin estacionalidad."
   ]
  },
  {
   "cell_type": "markdown",
   "metadata": {},
   "source": [
    "* Los siguientes pasos para poder tener un dato similar al de los alquileres es ir incorporando los componentes de tendencia y estacionalidad."
   ]
  },
  {
   "cell_type": "markdown",
   "metadata": {},
   "source": [
    "### 4.3.-  Incorporar las componentes de la serie: estacionalidad y tendencia\n",
    "\n",
    "#### a) Incorpora la tendencia a la previsión de alquileres y representa los resultados."
   ]
  },
  {
   "cell_type": "code",
   "execution_count": 17,
   "metadata": {
    "ExecuteTime": {
     "end_time": "2021-05-14T09:37:12.032630Z",
     "start_time": "2021-05-14T09:37:12.005437Z"
    }
   },
   "outputs": [
    {
     "data": {
      "text/html": [
       "<div>\n",
       "<style scoped>\n",
       "    .dataframe tbody tr th:only-of-type {\n",
       "        vertical-align: middle;\n",
       "    }\n",
       "\n",
       "    .dataframe tbody tr th {\n",
       "        vertical-align: top;\n",
       "    }\n",
       "\n",
       "    .dataframe thead th {\n",
       "        text-align: right;\n",
       "    }\n",
       "</style>\n",
       "<table border=\"1\" class=\"dataframe\">\n",
       "  <thead>\n",
       "    <tr style=\"text-align: right;\">\n",
       "      <th></th>\n",
       "      <th>sales</th>\n",
       "      <th>sales_mm_12</th>\n",
       "      <th>sales_mm_12_st</th>\n",
       "      <th>sales_prevision_M12</th>\n",
       "      <th>sales_prevision_M12_ct</th>\n",
       "    </tr>\n",
       "  </thead>\n",
       "  <tbody>\n",
       "    <tr>\n",
       "      <th>2015-07-01</th>\n",
       "      <td>457710.0</td>\n",
       "      <td>440308.000000</td>\n",
       "      <td>1225.416667</td>\n",
       "      <td>NaN</td>\n",
       "      <td>NaN</td>\n",
       "    </tr>\n",
       "    <tr>\n",
       "      <th>2015-08-01</th>\n",
       "      <td>456340.0</td>\n",
       "      <td>440760.250000</td>\n",
       "      <td>452.250000</td>\n",
       "      <td>NaN</td>\n",
       "      <td>NaN</td>\n",
       "    </tr>\n",
       "    <tr>\n",
       "      <th>2015-09-01</th>\n",
       "      <td>430917.0</td>\n",
       "      <td>441597.416667</td>\n",
       "      <td>837.166667</td>\n",
       "      <td>837.166667</td>\n",
       "      <td>441597.416667</td>\n",
       "    </tr>\n",
       "    <tr>\n",
       "      <th>2015-10-01</th>\n",
       "      <td>NaN</td>\n",
       "      <td>NaN</td>\n",
       "      <td>NaN</td>\n",
       "      <td>1503.863889</td>\n",
       "      <td>NaN</td>\n",
       "    </tr>\n",
       "    <tr>\n",
       "      <th>2015-11-01</th>\n",
       "      <td>NaN</td>\n",
       "      <td>NaN</td>\n",
       "      <td>NaN</td>\n",
       "      <td>1503.863889</td>\n",
       "      <td>NaN</td>\n",
       "    </tr>\n",
       "    <tr>\n",
       "      <th>2015-12-01</th>\n",
       "      <td>NaN</td>\n",
       "      <td>NaN</td>\n",
       "      <td>NaN</td>\n",
       "      <td>1503.863889</td>\n",
       "      <td>NaN</td>\n",
       "    </tr>\n",
       "    <tr>\n",
       "      <th>2016-01-01</th>\n",
       "      <td>NaN</td>\n",
       "      <td>NaN</td>\n",
       "      <td>NaN</td>\n",
       "      <td>1503.863889</td>\n",
       "      <td>NaN</td>\n",
       "    </tr>\n",
       "    <tr>\n",
       "      <th>2016-02-01</th>\n",
       "      <td>NaN</td>\n",
       "      <td>NaN</td>\n",
       "      <td>NaN</td>\n",
       "      <td>1503.863889</td>\n",
       "      <td>NaN</td>\n",
       "    </tr>\n",
       "    <tr>\n",
       "      <th>2016-03-01</th>\n",
       "      <td>NaN</td>\n",
       "      <td>NaN</td>\n",
       "      <td>NaN</td>\n",
       "      <td>1503.863889</td>\n",
       "      <td>NaN</td>\n",
       "    </tr>\n",
       "    <tr>\n",
       "      <th>2016-04-01</th>\n",
       "      <td>NaN</td>\n",
       "      <td>NaN</td>\n",
       "      <td>NaN</td>\n",
       "      <td>1503.863889</td>\n",
       "      <td>NaN</td>\n",
       "    </tr>\n",
       "    <tr>\n",
       "      <th>2016-05-01</th>\n",
       "      <td>NaN</td>\n",
       "      <td>NaN</td>\n",
       "      <td>NaN</td>\n",
       "      <td>1503.863889</td>\n",
       "      <td>NaN</td>\n",
       "    </tr>\n",
       "    <tr>\n",
       "      <th>2016-06-01</th>\n",
       "      <td>NaN</td>\n",
       "      <td>NaN</td>\n",
       "      <td>NaN</td>\n",
       "      <td>1503.863889</td>\n",
       "      <td>NaN</td>\n",
       "    </tr>\n",
       "    <tr>\n",
       "      <th>2016-07-01</th>\n",
       "      <td>NaN</td>\n",
       "      <td>NaN</td>\n",
       "      <td>NaN</td>\n",
       "      <td>1503.863889</td>\n",
       "      <td>NaN</td>\n",
       "    </tr>\n",
       "    <tr>\n",
       "      <th>2016-08-01</th>\n",
       "      <td>NaN</td>\n",
       "      <td>NaN</td>\n",
       "      <td>NaN</td>\n",
       "      <td>1503.863889</td>\n",
       "      <td>NaN</td>\n",
       "    </tr>\n",
       "    <tr>\n",
       "      <th>2016-09-01</th>\n",
       "      <td>NaN</td>\n",
       "      <td>NaN</td>\n",
       "      <td>NaN</td>\n",
       "      <td>1503.863889</td>\n",
       "      <td>NaN</td>\n",
       "    </tr>\n",
       "  </tbody>\n",
       "</table>\n",
       "</div>"
      ],
      "text/plain": [
       "               sales    sales_mm_12  sales_mm_12_st  sales_prevision_M12  \\\n",
       "2015-07-01  457710.0  440308.000000     1225.416667                  NaN   \n",
       "2015-08-01  456340.0  440760.250000      452.250000                  NaN   \n",
       "2015-09-01  430917.0  441597.416667      837.166667           837.166667   \n",
       "2015-10-01       NaN            NaN             NaN          1503.863889   \n",
       "2015-11-01       NaN            NaN             NaN          1503.863889   \n",
       "2015-12-01       NaN            NaN             NaN          1503.863889   \n",
       "2016-01-01       NaN            NaN             NaN          1503.863889   \n",
       "2016-02-01       NaN            NaN             NaN          1503.863889   \n",
       "2016-03-01       NaN            NaN             NaN          1503.863889   \n",
       "2016-04-01       NaN            NaN             NaN          1503.863889   \n",
       "2016-05-01       NaN            NaN             NaN          1503.863889   \n",
       "2016-06-01       NaN            NaN             NaN          1503.863889   \n",
       "2016-07-01       NaN            NaN             NaN          1503.863889   \n",
       "2016-08-01       NaN            NaN             NaN          1503.863889   \n",
       "2016-09-01       NaN            NaN             NaN          1503.863889   \n",
       "\n",
       "            sales_prevision_M12_ct  \n",
       "2015-07-01                     NaN  \n",
       "2015-08-01                     NaN  \n",
       "2015-09-01           441597.416667  \n",
       "2015-10-01                     NaN  \n",
       "2015-11-01                     NaN  \n",
       "2015-12-01                     NaN  \n",
       "2016-01-01                     NaN  \n",
       "2016-02-01                     NaN  \n",
       "2016-03-01                     NaN  \n",
       "2016-04-01                     NaN  \n",
       "2016-05-01                     NaN  \n",
       "2016-06-01                     NaN  \n",
       "2016-07-01                     NaN  \n",
       "2016-08-01                     NaN  \n",
       "2016-09-01                     NaN  "
      ]
     },
     "execution_count": 17,
     "metadata": {},
     "output_type": "execute_result"
    }
   ],
   "source": [
    "## Creamos un campo para nuestra previsión y lo rellenamos con Nan \n",
    "df_sales['sales_prevision_M12_ct']=np.nan\n",
    "## Toma la variación de la serie sin estacionalidad\n",
    "df_sales['sales_prevision_M12_ct'][-13] = df_sales['sales_mm_12'][-13] # Último dato con tendencia\n",
    "df_sales.tail(15)\n"
   ]
  },
  {
   "cell_type": "code",
   "execution_count": 18,
   "metadata": {
    "ExecuteTime": {
     "end_time": "2021-05-14T09:37:12.064630Z",
     "start_time": "2021-05-14T09:37:12.036633Z"
    },
    "scrolled": true
   },
   "outputs": [
    {
     "data": {
      "text/html": [
       "<div>\n",
       "<style scoped>\n",
       "    .dataframe tbody tr th:only-of-type {\n",
       "        vertical-align: middle;\n",
       "    }\n",
       "\n",
       "    .dataframe tbody tr th {\n",
       "        vertical-align: top;\n",
       "    }\n",
       "\n",
       "    .dataframe thead th {\n",
       "        text-align: right;\n",
       "    }\n",
       "</style>\n",
       "<table border=\"1\" class=\"dataframe\">\n",
       "  <thead>\n",
       "    <tr style=\"text-align: right;\">\n",
       "      <th></th>\n",
       "      <th>sales</th>\n",
       "      <th>sales_mm_12</th>\n",
       "      <th>sales_mm_12_st</th>\n",
       "      <th>sales_prevision_M12</th>\n",
       "      <th>sales_prevision_M12_ct</th>\n",
       "    </tr>\n",
       "  </thead>\n",
       "  <tbody>\n",
       "    <tr>\n",
       "      <th>2015-07-01</th>\n",
       "      <td>457710.0</td>\n",
       "      <td>440308.000000</td>\n",
       "      <td>1225.416667</td>\n",
       "      <td>NaN</td>\n",
       "      <td>NaN</td>\n",
       "    </tr>\n",
       "    <tr>\n",
       "      <th>2015-08-01</th>\n",
       "      <td>456340.0</td>\n",
       "      <td>440760.250000</td>\n",
       "      <td>452.250000</td>\n",
       "      <td>NaN</td>\n",
       "      <td>NaN</td>\n",
       "    </tr>\n",
       "    <tr>\n",
       "      <th>2015-09-01</th>\n",
       "      <td>430917.0</td>\n",
       "      <td>441597.416667</td>\n",
       "      <td>837.166667</td>\n",
       "      <td>837.166667</td>\n",
       "      <td>441597.416667</td>\n",
       "    </tr>\n",
       "    <tr>\n",
       "      <th>2015-10-01</th>\n",
       "      <td>NaN</td>\n",
       "      <td>NaN</td>\n",
       "      <td>NaN</td>\n",
       "      <td>1503.863889</td>\n",
       "      <td>443101.280556</td>\n",
       "    </tr>\n",
       "    <tr>\n",
       "      <th>2015-11-01</th>\n",
       "      <td>NaN</td>\n",
       "      <td>NaN</td>\n",
       "      <td>NaN</td>\n",
       "      <td>1503.863889</td>\n",
       "      <td>444605.144444</td>\n",
       "    </tr>\n",
       "    <tr>\n",
       "      <th>2015-12-01</th>\n",
       "      <td>NaN</td>\n",
       "      <td>NaN</td>\n",
       "      <td>NaN</td>\n",
       "      <td>1503.863889</td>\n",
       "      <td>446109.008333</td>\n",
       "    </tr>\n",
       "    <tr>\n",
       "      <th>2016-01-01</th>\n",
       "      <td>NaN</td>\n",
       "      <td>NaN</td>\n",
       "      <td>NaN</td>\n",
       "      <td>1503.863889</td>\n",
       "      <td>447612.872222</td>\n",
       "    </tr>\n",
       "    <tr>\n",
       "      <th>2016-02-01</th>\n",
       "      <td>NaN</td>\n",
       "      <td>NaN</td>\n",
       "      <td>NaN</td>\n",
       "      <td>1503.863889</td>\n",
       "      <td>449116.736111</td>\n",
       "    </tr>\n",
       "    <tr>\n",
       "      <th>2016-03-01</th>\n",
       "      <td>NaN</td>\n",
       "      <td>NaN</td>\n",
       "      <td>NaN</td>\n",
       "      <td>1503.863889</td>\n",
       "      <td>450620.600000</td>\n",
       "    </tr>\n",
       "    <tr>\n",
       "      <th>2016-04-01</th>\n",
       "      <td>NaN</td>\n",
       "      <td>NaN</td>\n",
       "      <td>NaN</td>\n",
       "      <td>1503.863889</td>\n",
       "      <td>452124.463889</td>\n",
       "    </tr>\n",
       "    <tr>\n",
       "      <th>2016-05-01</th>\n",
       "      <td>NaN</td>\n",
       "      <td>NaN</td>\n",
       "      <td>NaN</td>\n",
       "      <td>1503.863889</td>\n",
       "      <td>453628.327778</td>\n",
       "    </tr>\n",
       "    <tr>\n",
       "      <th>2016-06-01</th>\n",
       "      <td>NaN</td>\n",
       "      <td>NaN</td>\n",
       "      <td>NaN</td>\n",
       "      <td>1503.863889</td>\n",
       "      <td>455132.191667</td>\n",
       "    </tr>\n",
       "    <tr>\n",
       "      <th>2016-07-01</th>\n",
       "      <td>NaN</td>\n",
       "      <td>NaN</td>\n",
       "      <td>NaN</td>\n",
       "      <td>1503.863889</td>\n",
       "      <td>456636.055556</td>\n",
       "    </tr>\n",
       "    <tr>\n",
       "      <th>2016-08-01</th>\n",
       "      <td>NaN</td>\n",
       "      <td>NaN</td>\n",
       "      <td>NaN</td>\n",
       "      <td>1503.863889</td>\n",
       "      <td>458139.919444</td>\n",
       "    </tr>\n",
       "    <tr>\n",
       "      <th>2016-09-01</th>\n",
       "      <td>NaN</td>\n",
       "      <td>NaN</td>\n",
       "      <td>NaN</td>\n",
       "      <td>1503.863889</td>\n",
       "      <td>459643.783333</td>\n",
       "    </tr>\n",
       "  </tbody>\n",
       "</table>\n",
       "</div>"
      ],
      "text/plain": [
       "               sales    sales_mm_12  sales_mm_12_st  sales_prevision_M12  \\\n",
       "2015-07-01  457710.0  440308.000000     1225.416667                  NaN   \n",
       "2015-08-01  456340.0  440760.250000      452.250000                  NaN   \n",
       "2015-09-01  430917.0  441597.416667      837.166667           837.166667   \n",
       "2015-10-01       NaN            NaN             NaN          1503.863889   \n",
       "2015-11-01       NaN            NaN             NaN          1503.863889   \n",
       "2015-12-01       NaN            NaN             NaN          1503.863889   \n",
       "2016-01-01       NaN            NaN             NaN          1503.863889   \n",
       "2016-02-01       NaN            NaN             NaN          1503.863889   \n",
       "2016-03-01       NaN            NaN             NaN          1503.863889   \n",
       "2016-04-01       NaN            NaN             NaN          1503.863889   \n",
       "2016-05-01       NaN            NaN             NaN          1503.863889   \n",
       "2016-06-01       NaN            NaN             NaN          1503.863889   \n",
       "2016-07-01       NaN            NaN             NaN          1503.863889   \n",
       "2016-08-01       NaN            NaN             NaN          1503.863889   \n",
       "2016-09-01       NaN            NaN             NaN          1503.863889   \n",
       "\n",
       "            sales_prevision_M12_ct  \n",
       "2015-07-01                     NaN  \n",
       "2015-08-01                     NaN  \n",
       "2015-09-01           441597.416667  \n",
       "2015-10-01           443101.280556  \n",
       "2015-11-01           444605.144444  \n",
       "2015-12-01           446109.008333  \n",
       "2016-01-01           447612.872222  \n",
       "2016-02-01           449116.736111  \n",
       "2016-03-01           450620.600000  \n",
       "2016-04-01           452124.463889  \n",
       "2016-05-01           453628.327778  \n",
       "2016-06-01           455132.191667  \n",
       "2016-07-01           456636.055556  \n",
       "2016-08-01           458139.919444  \n",
       "2016-09-01           459643.783333  "
      ]
     },
     "execution_count": 18,
     "metadata": {},
     "output_type": "execute_result"
    }
   ],
   "source": [
    "#Sumamos el acumulado sin tendencia mes a mes al último valor con tendencia que teniamos registrado\n",
    "df_sales['sales_prevision_M12_ct'][-12:] = df_sales['sales_prevision_M12'][-12:].cumsum()\\\n",
    "                                       + df_sales['sales_mm_12'][-13]\n",
    "df_sales.tail(15)\n"
   ]
  },
  {
   "cell_type": "code",
   "execution_count": 19,
   "metadata": {
    "ExecuteTime": {
     "end_time": "2021-05-14T09:37:12.569081Z",
     "start_time": "2021-05-14T09:37:12.068628Z"
    }
   },
   "outputs": [
    {
     "data": {
      "text/plain": [
       "<AxesSubplot:title={'center':'¿Cómo evolucionaran las ventas por mes el siguiente año? \\n'}>"
      ]
     },
     "execution_count": 19,
     "metadata": {},
     "output_type": "execute_result"
    },
    {
     "data": {
      "image/png": "[encoded data removed]",
      "text/plain": [
       "<Figure size 864x432 with 1 Axes>"
      ]
     },
     "metadata": {
      "needs_background": "light"
     },
     "output_type": "display_data"
    }
   ],
   "source": [
    "## Representamos nuestra previsión\n",
    "df_sales.loc[:,['sales','sales_mm_12','sales_prevision_M12_ct']].plot(figsize=(12,6),\n",
    "                  title='¿Cómo evolucionaran las ventas por mes el siguiente año? \\n')\n"
   ]
  },
  {
   "cell_type": "markdown",
   "metadata": {},
   "source": [
    "#### b) Incorpora la estacionalidad a la previsión de alquileres y representa los resultados."
   ]
  },
  {
   "cell_type": "markdown",
   "metadata": {},
   "source": [
    "Una forma sencilla sería calcular los coeficientes de estacionalidad vs la serie de media móvil y aplicar los últimos coeficientes ( o una media, ...) a mis previsiones para incorporar la estacionalidad."
   ]
  },
  {
   "cell_type": "code",
   "execution_count": 20,
   "metadata": {
    "ExecuteTime": {
     "end_time": "2021-05-14T09:37:12.615542Z",
     "start_time": "2021-05-14T09:37:12.573196Z"
    }
   },
   "outputs": [
    {
     "data": {
      "text/html": [
       "<div>\n",
       "<style scoped>\n",
       "    .dataframe tbody tr th:only-of-type {\n",
       "        vertical-align: middle;\n",
       "    }\n",
       "\n",
       "    .dataframe tbody tr th {\n",
       "        vertical-align: top;\n",
       "    }\n",
       "\n",
       "    .dataframe thead th {\n",
       "        text-align: right;\n",
       "    }\n",
       "</style>\n",
       "<table border=\"1\" class=\"dataframe\">\n",
       "  <thead>\n",
       "    <tr style=\"text-align: right;\">\n",
       "      <th></th>\n",
       "      <th>sales</th>\n",
       "      <th>sales_mm_12</th>\n",
       "      <th>sales_mm_12_st</th>\n",
       "      <th>sales_prevision_M12</th>\n",
       "      <th>sales_prevision_M12_ct</th>\n",
       "      <th>coef_estac</th>\n",
       "    </tr>\n",
       "  </thead>\n",
       "  <tbody>\n",
       "    <tr>\n",
       "      <th>2015-07-01</th>\n",
       "      <td>457710.0</td>\n",
       "      <td>440308.000000</td>\n",
       "      <td>1225.416667</td>\n",
       "      <td>NaN</td>\n",
       "      <td>NaN</td>\n",
       "      <td>1.039522</td>\n",
       "    </tr>\n",
       "    <tr>\n",
       "      <th>2015-08-01</th>\n",
       "      <td>456340.0</td>\n",
       "      <td>440760.250000</td>\n",
       "      <td>452.250000</td>\n",
       "      <td>NaN</td>\n",
       "      <td>NaN</td>\n",
       "      <td>1.035347</td>\n",
       "    </tr>\n",
       "    <tr>\n",
       "      <th>2015-09-01</th>\n",
       "      <td>430917.0</td>\n",
       "      <td>441597.416667</td>\n",
       "      <td>837.166667</td>\n",
       "      <td>837.166667</td>\n",
       "      <td>441597.416667</td>\n",
       "      <td>0.975814</td>\n",
       "    </tr>\n",
       "    <tr>\n",
       "      <th>2015-10-01</th>\n",
       "      <td>NaN</td>\n",
       "      <td>NaN</td>\n",
       "      <td>NaN</td>\n",
       "      <td>1503.863889</td>\n",
       "      <td>443101.280556</td>\n",
       "      <td>NaN</td>\n",
       "    </tr>\n",
       "    <tr>\n",
       "      <th>2015-11-01</th>\n",
       "      <td>NaN</td>\n",
       "      <td>NaN</td>\n",
       "      <td>NaN</td>\n",
       "      <td>1503.863889</td>\n",
       "      <td>444605.144444</td>\n",
       "      <td>NaN</td>\n",
       "    </tr>\n",
       "    <tr>\n",
       "      <th>2015-12-01</th>\n",
       "      <td>NaN</td>\n",
       "      <td>NaN</td>\n",
       "      <td>NaN</td>\n",
       "      <td>1503.863889</td>\n",
       "      <td>446109.008333</td>\n",
       "      <td>NaN</td>\n",
       "    </tr>\n",
       "    <tr>\n",
       "      <th>2016-01-01</th>\n",
       "      <td>NaN</td>\n",
       "      <td>NaN</td>\n",
       "      <td>NaN</td>\n",
       "      <td>1503.863889</td>\n",
       "      <td>447612.872222</td>\n",
       "      <td>NaN</td>\n",
       "    </tr>\n",
       "    <tr>\n",
       "      <th>2016-02-01</th>\n",
       "      <td>NaN</td>\n",
       "      <td>NaN</td>\n",
       "      <td>NaN</td>\n",
       "      <td>1503.863889</td>\n",
       "      <td>449116.736111</td>\n",
       "      <td>NaN</td>\n",
       "    </tr>\n",
       "    <tr>\n",
       "      <th>2016-03-01</th>\n",
       "      <td>NaN</td>\n",
       "      <td>NaN</td>\n",
       "      <td>NaN</td>\n",
       "      <td>1503.863889</td>\n",
       "      <td>450620.600000</td>\n",
       "      <td>NaN</td>\n",
       "    </tr>\n",
       "    <tr>\n",
       "      <th>2016-04-01</th>\n",
       "      <td>NaN</td>\n",
       "      <td>NaN</td>\n",
       "      <td>NaN</td>\n",
       "      <td>1503.863889</td>\n",
       "      <td>452124.463889</td>\n",
       "      <td>NaN</td>\n",
       "    </tr>\n",
       "    <tr>\n",
       "      <th>2016-05-01</th>\n",
       "      <td>NaN</td>\n",
       "      <td>NaN</td>\n",
       "      <td>NaN</td>\n",
       "      <td>1503.863889</td>\n",
       "      <td>453628.327778</td>\n",
       "      <td>NaN</td>\n",
       "    </tr>\n",
       "    <tr>\n",
       "      <th>2016-06-01</th>\n",
       "      <td>NaN</td>\n",
       "      <td>NaN</td>\n",
       "      <td>NaN</td>\n",
       "      <td>1503.863889</td>\n",
       "      <td>455132.191667</td>\n",
       "      <td>NaN</td>\n",
       "    </tr>\n",
       "    <tr>\n",
       "      <th>2016-07-01</th>\n",
       "      <td>NaN</td>\n",
       "      <td>NaN</td>\n",
       "      <td>NaN</td>\n",
       "      <td>1503.863889</td>\n",
       "      <td>456636.055556</td>\n",
       "      <td>NaN</td>\n",
       "    </tr>\n",
       "    <tr>\n",
       "      <th>2016-08-01</th>\n",
       "      <td>NaN</td>\n",
       "      <td>NaN</td>\n",
       "      <td>NaN</td>\n",
       "      <td>1503.863889</td>\n",
       "      <td>458139.919444</td>\n",
       "      <td>NaN</td>\n",
       "    </tr>\n",
       "    <tr>\n",
       "      <th>2016-09-01</th>\n",
       "      <td>NaN</td>\n",
       "      <td>NaN</td>\n",
       "      <td>NaN</td>\n",
       "      <td>1503.863889</td>\n",
       "      <td>459643.783333</td>\n",
       "      <td>NaN</td>\n",
       "    </tr>\n",
       "  </tbody>\n",
       "</table>\n",
       "</div>"
      ],
      "text/plain": [
       "               sales    sales_mm_12  sales_mm_12_st  sales_prevision_M12  \\\n",
       "2015-07-01  457710.0  440308.000000     1225.416667                  NaN   \n",
       "2015-08-01  456340.0  440760.250000      452.250000                  NaN   \n",
       "2015-09-01  430917.0  441597.416667      837.166667           837.166667   \n",
       "2015-10-01       NaN            NaN             NaN          1503.863889   \n",
       "2015-11-01       NaN            NaN             NaN          1503.863889   \n",
       "2015-12-01       NaN            NaN             NaN          1503.863889   \n",
       "2016-01-01       NaN            NaN             NaN          1503.863889   \n",
       "2016-02-01       NaN            NaN             NaN          1503.863889   \n",
       "2016-03-01       NaN            NaN             NaN          1503.863889   \n",
       "2016-04-01       NaN            NaN             NaN          1503.863889   \n",
       "2016-05-01       NaN            NaN             NaN          1503.863889   \n",
       "2016-06-01       NaN            NaN             NaN          1503.863889   \n",
       "2016-07-01       NaN            NaN             NaN          1503.863889   \n",
       "2016-08-01       NaN            NaN             NaN          1503.863889   \n",
       "2016-09-01       NaN            NaN             NaN          1503.863889   \n",
       "\n",
       "            sales_prevision_M12_ct  coef_estac  \n",
       "2015-07-01                     NaN    1.039522  \n",
       "2015-08-01                     NaN    1.035347  \n",
       "2015-09-01           441597.416667    0.975814  \n",
       "2015-10-01           443101.280556         NaN  \n",
       "2015-11-01           444605.144444         NaN  \n",
       "2015-12-01           446109.008333         NaN  \n",
       "2016-01-01           447612.872222         NaN  \n",
       "2016-02-01           449116.736111         NaN  \n",
       "2016-03-01           450620.600000         NaN  \n",
       "2016-04-01           452124.463889         NaN  \n",
       "2016-05-01           453628.327778         NaN  \n",
       "2016-06-01           455132.191667         NaN  \n",
       "2016-07-01           456636.055556         NaN  \n",
       "2016-08-01           458139.919444         NaN  \n",
       "2016-09-01           459643.783333         NaN  "
      ]
     },
     "execution_count": 20,
     "metadata": {},
     "output_type": "execute_result"
    }
   ],
   "source": [
    "## Calculamos los coeficientes de estacionalidad\n",
    "df_sales['coef_estac']= df_sales['sales']/df_sales['sales_mm_12']\n",
    "df_sales.tail(15)"
   ]
  },
  {
   "cell_type": "code",
   "execution_count": 21,
   "metadata": {
    "ExecuteTime": {
     "end_time": "2021-05-14T09:37:12.646935Z",
     "start_time": "2021-05-14T09:37:12.627597Z"
    }
   },
   "outputs": [],
   "source": [
    "df_sales['sales_prevision_M12_ct_cs'] = np.nan"
   ]
  },
  {
   "cell_type": "code",
   "execution_count": 22,
   "metadata": {
    "ExecuteTime": {
     "end_time": "2021-05-14T09:37:12.693089Z",
     "start_time": "2021-05-14T09:37:12.654224Z"
    }
   },
   "outputs": [
    {
     "data": {
      "text/html": [
       "<div>\n",
       "<style scoped>\n",
       "    .dataframe tbody tr th:only-of-type {\n",
       "        vertical-align: middle;\n",
       "    }\n",
       "\n",
       "    .dataframe tbody tr th {\n",
       "        vertical-align: top;\n",
       "    }\n",
       "\n",
       "    .dataframe thead th {\n",
       "        text-align: right;\n",
       "    }\n",
       "</style>\n",
       "<table border=\"1\" class=\"dataframe\">\n",
       "  <thead>\n",
       "    <tr style=\"text-align: right;\">\n",
       "      <th></th>\n",
       "      <th>sales</th>\n",
       "      <th>sales_mm_12</th>\n",
       "      <th>sales_mm_12_st</th>\n",
       "      <th>sales_prevision_M12</th>\n",
       "      <th>sales_prevision_M12_ct</th>\n",
       "      <th>coef_estac</th>\n",
       "      <th>sales_prevision_M12_ct_cs</th>\n",
       "    </tr>\n",
       "  </thead>\n",
       "  <tbody>\n",
       "    <tr>\n",
       "      <th>2015-07-01</th>\n",
       "      <td>457710.0</td>\n",
       "      <td>440308.000000</td>\n",
       "      <td>1225.416667</td>\n",
       "      <td>NaN</td>\n",
       "      <td>NaN</td>\n",
       "      <td>1.039522</td>\n",
       "      <td>NaN</td>\n",
       "    </tr>\n",
       "    <tr>\n",
       "      <th>2015-08-01</th>\n",
       "      <td>456340.0</td>\n",
       "      <td>440760.250000</td>\n",
       "      <td>452.250000</td>\n",
       "      <td>NaN</td>\n",
       "      <td>NaN</td>\n",
       "      <td>1.035347</td>\n",
       "      <td>NaN</td>\n",
       "    </tr>\n",
       "    <tr>\n",
       "      <th>2015-09-01</th>\n",
       "      <td>430917.0</td>\n",
       "      <td>441597.416667</td>\n",
       "      <td>837.166667</td>\n",
       "      <td>837.166667</td>\n",
       "      <td>441597.416667</td>\n",
       "      <td>0.975814</td>\n",
       "      <td>432956.044528</td>\n",
       "    </tr>\n",
       "    <tr>\n",
       "      <th>2015-10-01</th>\n",
       "      <td>NaN</td>\n",
       "      <td>NaN</td>\n",
       "      <td>NaN</td>\n",
       "      <td>1503.863889</td>\n",
       "      <td>443101.280556</td>\n",
       "      <td>NaN</td>\n",
       "      <td>449885.680478</td>\n",
       "    </tr>\n",
       "    <tr>\n",
       "      <th>2015-11-01</th>\n",
       "      <td>NaN</td>\n",
       "      <td>NaN</td>\n",
       "      <td>NaN</td>\n",
       "      <td>1503.863889</td>\n",
       "      <td>444605.144444</td>\n",
       "      <td>NaN</td>\n",
       "      <td>450382.209139</td>\n",
       "    </tr>\n",
       "    <tr>\n",
       "      <th>2015-12-01</th>\n",
       "      <td>NaN</td>\n",
       "      <td>NaN</td>\n",
       "      <td>NaN</td>\n",
       "      <td>1503.863889</td>\n",
       "      <td>446109.008333</td>\n",
       "      <td>NaN</td>\n",
       "      <td>514866.679685</td>\n",
       "    </tr>\n",
       "    <tr>\n",
       "      <th>2016-01-01</th>\n",
       "      <td>NaN</td>\n",
       "      <td>NaN</td>\n",
       "      <td>NaN</td>\n",
       "      <td>1503.863889</td>\n",
       "      <td>447612.872222</td>\n",
       "      <td>NaN</td>\n",
       "      <td>408348.326699</td>\n",
       "    </tr>\n",
       "    <tr>\n",
       "      <th>2016-02-01</th>\n",
       "      <td>NaN</td>\n",
       "      <td>NaN</td>\n",
       "      <td>NaN</td>\n",
       "      <td>1503.863889</td>\n",
       "      <td>449116.736111</td>\n",
       "      <td>NaN</td>\n",
       "      <td>398574.509333</td>\n",
       "    </tr>\n",
       "    <tr>\n",
       "      <th>2016-03-01</th>\n",
       "      <td>NaN</td>\n",
       "      <td>NaN</td>\n",
       "      <td>NaN</td>\n",
       "      <td>1503.863889</td>\n",
       "      <td>450620.600000</td>\n",
       "      <td>NaN</td>\n",
       "      <td>458011.686108</td>\n",
       "    </tr>\n",
       "    <tr>\n",
       "      <th>2016-04-01</th>\n",
       "      <td>NaN</td>\n",
       "      <td>NaN</td>\n",
       "      <td>NaN</td>\n",
       "      <td>1503.863889</td>\n",
       "      <td>452124.463889</td>\n",
       "      <td>NaN</td>\n",
       "      <td>452854.994067</td>\n",
       "    </tr>\n",
       "    <tr>\n",
       "      <th>2016-05-01</th>\n",
       "      <td>NaN</td>\n",
       "      <td>NaN</td>\n",
       "      <td>NaN</td>\n",
       "      <td>1503.863889</td>\n",
       "      <td>453628.327778</td>\n",
       "      <td>NaN</td>\n",
       "      <td>479311.847560</td>\n",
       "    </tr>\n",
       "    <tr>\n",
       "      <th>2016-06-01</th>\n",
       "      <td>NaN</td>\n",
       "      <td>NaN</td>\n",
       "      <td>NaN</td>\n",
       "      <td>1503.863889</td>\n",
       "      <td>455132.191667</td>\n",
       "      <td>NaN</td>\n",
       "      <td>464612.933608</td>\n",
       "    </tr>\n",
       "    <tr>\n",
       "      <th>2016-07-01</th>\n",
       "      <td>NaN</td>\n",
       "      <td>NaN</td>\n",
       "      <td>NaN</td>\n",
       "      <td>1503.863889</td>\n",
       "      <td>456636.055556</td>\n",
       "      <td>NaN</td>\n",
       "      <td>474683.378427</td>\n",
       "    </tr>\n",
       "    <tr>\n",
       "      <th>2016-08-01</th>\n",
       "      <td>NaN</td>\n",
       "      <td>NaN</td>\n",
       "      <td>NaN</td>\n",
       "      <td>1503.863889</td>\n",
       "      <td>458139.919444</td>\n",
       "      <td>NaN</td>\n",
       "      <td>474333.996406</td>\n",
       "    </tr>\n",
       "    <tr>\n",
       "      <th>2016-09-01</th>\n",
       "      <td>NaN</td>\n",
       "      <td>NaN</td>\n",
       "      <td>NaN</td>\n",
       "      <td>1503.863889</td>\n",
       "      <td>459643.783333</td>\n",
       "      <td>NaN</td>\n",
       "      <td>448526.899631</td>\n",
       "    </tr>\n",
       "  </tbody>\n",
       "</table>\n",
       "</div>"
      ],
      "text/plain": [
       "               sales    sales_mm_12  sales_mm_12_st  sales_prevision_M12  \\\n",
       "2015-07-01  457710.0  440308.000000     1225.416667                  NaN   \n",
       "2015-08-01  456340.0  440760.250000      452.250000                  NaN   \n",
       "2015-09-01  430917.0  441597.416667      837.166667           837.166667   \n",
       "2015-10-01       NaN            NaN             NaN          1503.863889   \n",
       "2015-11-01       NaN            NaN             NaN          1503.863889   \n",
       "2015-12-01       NaN            NaN             NaN          1503.863889   \n",
       "2016-01-01       NaN            NaN             NaN          1503.863889   \n",
       "2016-02-01       NaN            NaN             NaN          1503.863889   \n",
       "2016-03-01       NaN            NaN             NaN          1503.863889   \n",
       "2016-04-01       NaN            NaN             NaN          1503.863889   \n",
       "2016-05-01       NaN            NaN             NaN          1503.863889   \n",
       "2016-06-01       NaN            NaN             NaN          1503.863889   \n",
       "2016-07-01       NaN            NaN             NaN          1503.863889   \n",
       "2016-08-01       NaN            NaN             NaN          1503.863889   \n",
       "2016-09-01       NaN            NaN             NaN          1503.863889   \n",
       "\n",
       "            sales_prevision_M12_ct  coef_estac  sales_prevision_M12_ct_cs  \n",
       "2015-07-01                     NaN    1.039522                        NaN  \n",
       "2015-08-01                     NaN    1.035347                        NaN  \n",
       "2015-09-01           441597.416667    0.975814              432956.044528  \n",
       "2015-10-01           443101.280556         NaN              449885.680478  \n",
       "2015-11-01           444605.144444         NaN              450382.209139  \n",
       "2015-12-01           446109.008333         NaN              514866.679685  \n",
       "2016-01-01           447612.872222         NaN              408348.326699  \n",
       "2016-02-01           449116.736111         NaN              398574.509333  \n",
       "2016-03-01           450620.600000         NaN              458011.686108  \n",
       "2016-04-01           452124.463889         NaN              452854.994067  \n",
       "2016-05-01           453628.327778         NaN              479311.847560  \n",
       "2016-06-01           455132.191667         NaN              464612.933608  \n",
       "2016-07-01           456636.055556         NaN              474683.378427  \n",
       "2016-08-01           458139.919444         NaN              474333.996406  \n",
       "2016-09-01           459643.783333         NaN              448526.899631  "
      ]
     },
     "execution_count": 22,
     "metadata": {},
     "output_type": "execute_result"
    }
   ],
   "source": [
    "## Aplicamos los coeficientes de estacionalidad sobre nuestra previsión con tendencia\n",
    "## Como queremos la previsión para 4 trimestres, desplazamos esos coeficientes y los multiplicamos por \n",
    "## el valor de la previsión con tendencia\n",
    "df_sales['sales_prevision_M12_ct_cs'] = df_sales['sales_prevision_M12_ct']  \\\n",
    "                                     * df_sales['coef_estac'].shift(12)\n",
    "df_sales.tail(15)"
   ]
  },
  {
   "cell_type": "code",
   "execution_count": 23,
   "metadata": {
    "ExecuteTime": {
     "end_time": "2021-05-14T09:37:13.317914Z",
     "start_time": "2021-05-14T09:37:12.698674Z"
    }
   },
   "outputs": [
    {
     "data": {
      "text/plain": [
       "<AxesSubplot:title={'center':'¿Cómo evolucionaran las ventas por mes el siguiente año? \\n'}>"
      ]
     },
     "execution_count": 23,
     "metadata": {},
     "output_type": "execute_result"
    },
    {
     "data": {
      "image/png": "[encoded data removed]",
      "text/plain": [
       "<Figure size 864x432 with 1 Axes>"
      ]
     },
     "metadata": {
      "needs_background": "light"
     },
     "output_type": "display_data"
    }
   ],
   "source": [
    "## Representamos nuestra previsión\n",
    "\n",
    "df_sales.loc[:,['sales','sales_mm_12','sales_prevision_M12_ct','sales_prevision_M12_ct_cs']].plot(figsize=(12,6),\n",
    "                  title='¿Cómo evolucionaran las ventas por mes el siguiente año? \\n')\n"
   ]
  },
  {
   "cell_type": "code",
   "execution_count": null,
   "metadata": {},
   "outputs": [],
   "source": []
  }
 ],
 "metadata": {
  "anaconda-cloud": {},
  "kernelspec": {
   "display_name": "Python 3",
   "language": "python",
   "name": "python3"
  },
  "language_info": {
   "codemirror_mode": {
    "name": "ipython",
    "version": 3
   },
   "file_extension": ".py",
   "mimetype": "text/x-python",
   "name": "python",
   "nbconvert_exporter": "python",
   "pygments_lexer": "ipython3",
   "version": "3.8.5"
  },
  "toc": {
   "base_numbering": 1,
   "nav_menu": {},
   "number_sections": true,
   "sideBar": true,
   "skip_h1_title": false,
   "title_cell": "Table of Contents",
   "title_sidebar": "Contents",
   "toc_cell": false,
   "toc_position": {},
   "toc_section_display": true,
   "toc_window_display": false
  },
  "varInspector": {
   "cols": {
    "lenName": 16,
    "lenType": 16,
    "lenVar": 40
   },
   "kernels_config": {
    "python": {
     "delete_cmd_postfix": "",
     "delete_cmd_prefix": "del ",
     "library": "var_list.py",
     "varRefreshCmd": "print(var_dic_list())"
    },
    "r": {
     "delete_cmd_postfix": ") ",
     "delete_cmd_prefix": "rm(",
     "library": "var_list.r",
     "varRefreshCmd": "cat(var_dic_list()) "
    }
   },
   "types_to_exclude": [
    "module",
    "function",
    "builtin_function_or_method",
    "instance",
    "_Feature"
   ],
   "window_display": false
  },
  "widgets": {
   "state": {},
   "version": "1.1.2"
  }
 },
 "nbformat": 4,
 "nbformat_minor": 2
}
