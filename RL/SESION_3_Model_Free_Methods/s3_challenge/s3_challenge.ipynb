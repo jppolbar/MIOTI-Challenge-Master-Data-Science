{
 "cells": [
  {
   "cell_type": "markdown",
   "metadata": {},
   "source": [
    "<img src=\"mioti.png\" style=\"height: 100px\">\n",
    "<center style=\"color:#888\">Módulo Advanced Data Science<br/>Asignatura Reinforcement Learning</center>\n",
    "\n",
    "# Challenge S3: Implementación de Q-learning"
   ]
  },
  {
   "cell_type": "markdown",
   "metadata": {},
   "source": [
    "En este challenge vamos a implentar el algoritmo Q-learning más simple, ya introducido en [s3_worksheet](s3_worksheet.ipynb).\n",
    "\n",
    "Vamos a implementar la clase `QLearningAgent` (sigue las instrucciones en cada método) y usarlo después en un entorno con estados y acciones discretas.\n",
    "\n",
    "**Nota:** Como estamos implementando una clase, a la hora de llamar a las funciones ya definidas dentro de la clase se hace con `self.nombre_metodo()`, ya que son métodos de la clase."
   ]
  },
  {
   "cell_type": "code",
   "execution_count": 2,
   "metadata": {
    "ExecuteTime": {
     "end_time": "2021-12-10T09:51:36.477304Z",
     "start_time": "2021-12-10T09:51:35.674188Z"
    }
   },
   "outputs": [],
   "source": [
    "import os\n",
    "import numpy as np\n",
    "import matplotlib.pyplot as plt\n",
    "from IPython.display import clear_output\n",
    "from time import sleep\n",
    "\n",
    "%matplotlib inline\n",
    "%load_ext autoreload\n",
    "%autoreload 2"
   ]
  },
  {
   "cell_type": "markdown",
   "metadata": {},
   "source": [
    "## Programación del agente Q-learning"
   ]
  },
  {
   "cell_type": "code",
   "execution_count": 54,
   "metadata": {
    "ExecuteTime": {
     "end_time": "2021-12-11T07:38:00.767972Z",
     "start_time": "2021-12-11T07:38:00.585973Z"
    }
   },
   "outputs": [],
   "source": [
    "from collections import defaultdict\n",
    "import random, math\n",
    "import numpy as np\n",
    "\n",
    "\n",
    "class QLearningAgent:\n",
    "    def __init__(self, alpha, epsilon, discount, get_legal_actions):\n",
    "        \"\"\"\n",
    "        Q-Learning Agent\n",
    "\n",
    "        Atributos a los que tienes acceso\n",
    "          - self.epsilon (probabilidad de exploración)\n",
    "          - self.alpha (learning rate)\n",
    "          - self.discount (gamma ó factor de descuento)\n",
    "\n",
    "        Métodos que deberías usar\n",
    "          - self.get_legal_actions(state) {state, hashable -> lista de acciones, cada una es hashable}\n",
    "            devuelve las acciones posibles dado un estado\n",
    "          - self.get_qvalue(state,action)\n",
    "            devuelve Q(state,action)\n",
    "          - self.set_qvalue(state,action,value)\n",
    "            actualiza el valor de Q(state,action) := value\n",
    "\n",
    "        ¡¡¡Importante!!!\n",
    "        Nota: evita utilizar self._qvalues directamente. \n",
    "            Hay métodos self.get_qvalue/set_qvalue para acceder y cambiar el valor de los q values.\n",
    "        \"\"\"\n",
    "        \n",
    "        self.get_legal_actions = get_legal_actions\n",
    "        self._qvalues = defaultdict(lambda: defaultdict(lambda: 0))\n",
    "        self.alpha = alpha\n",
    "        self.epsilon = epsilon\n",
    "        self.discount = discount\n",
    "\n",
    "    def get_qvalue(self, state, action):\n",
    "        \"\"\" Devuelve Q(state,action) \"\"\"\n",
    "        return self._qvalues[state][action]\n",
    "\n",
    "    def set_qvalue(self, state, action, value):\n",
    "        \"\"\" Fija el valor Qvalue for [state,action] a uno dado \"\"\"\n",
    "        self._qvalues[state][action] = value\n",
    "\n",
    "    #---------------------AQUÍ EMPIEZA TU CÓDIGO---------------------#\n",
    "\n",
    "    def get_value(self, state):\n",
    "        \"\"\"\n",
    "        Calcula la estimación de tu agente de V(s) usando el valor\n",
    "        actual de los q-values, es decir\n",
    "        V(s) = max_a Q(state,action) sobre las posibles acciones\n",
    "        Nota: ten en cuenta que los q-values pueden ser negativos.\n",
    "        \"\"\"\n",
    "        possible_actions = self.get_legal_actions(state)\n",
    "\n",
    "        # Si no hay ninguna acción posible, devuelve 0.0\n",
    "        if len(possible_actions) == 0:\n",
    "            return 0.0\n",
    "\n",
    "        ### ESCRIBE AQUÍ TU CÓDIGO\n",
    "        #Calculamos el valor maximo del q valor de una acción para un estado.\n",
    "        value = max([self.get_qvalue(state,action) for action in possible_actions])\n",
    "\n",
    "        return value\n",
    "\n",
    "    def update(self, state, action, reward, next_state):\n",
    "        \"\"\"\n",
    "        Debes actualizar el valor del q-value acorde a Q-learning:\n",
    "           Q(s,a) := Q(s,a) + alpha * (r + gamma max_{a}Q(s', a') - Q(s,a))\n",
    "        Nota: La función no debe devolver nada, sólamente actualizar\n",
    "        el q-value con self.set_qvalue()\n",
    "        \"\"\"\n",
    "\n",
    "        # parámetros del agente\n",
    "        gamma = self.discount\n",
    "        learning_rate = self.alpha\n",
    "\n",
    "        ### ESCRIBE AQUÍ TU CÓDIGO\n",
    "        \n",
    "        #Aplicamos la formula desarrollada para una acción en un estado.\n",
    "        qvalue_target = reward+gamma*self.get_value(next_state)\n",
    "        qvalue = learning_rate*qvalue_target+(1-learning_rate)*self.get_qvalue(state,action)\n",
    "\n",
    "        self.set_qvalue(state, action, qvalue)\n",
    "\n",
    "\n",
    "    def get_best_action(self, state):\n",
    "        \"\"\"\n",
    "        Calcula la mejor acción a tomar en un estado dado,\n",
    "        teniendo en cuenta los actuales q-values.\n",
    "        \"\"\"\n",
    "        possible_actions = self.get_legal_actions(state)\n",
    "\n",
    "        # Si no hay ninguna acción posible, devuelve None\n",
    "        if len(possible_actions) == 0:\n",
    "            \n",
    "            return None\n",
    "\n",
    "        ### ESCRIBE AQUÍ TU CÓDIGO\n",
    "        \n",
    "        action_value_dict = {action: self.get_qvalue(state, action) for action in possible_actions}\n",
    "#         print(action_value_dict)\n",
    "        #Seleccionamos el mejor valor para una accion de un estado concreto.\n",
    "        best_action = sorted(action_value_dict, key=lambda x:action_value_dict[x], reverse=True)[0]\n",
    "#         print('best_action ', best_action)\n",
    "\n",
    "        return best_action\n",
    "\n",
    "    def get_action(self, state):\n",
    "        \"\"\"\n",
    "        Calcula la acción a tomar en el estado actual, incluyendo exploración.\n",
    "        Es decir, implementa una política epsilon-greedy.\n",
    "        \n",
    "        Con probabilidad self.epsilon, tomaremos una acción aleatoria.\n",
    "        En caso contrario, tomaremos la mejor acción posible con\n",
    "            self.get_best_action(state)\n",
    "    \n",
    "        Nota: \n",
    "        * Para elegir de forma aleatoria un elemento de una lista,\n",
    "            usa random.choice(list).\n",
    "        * Para elegir True o False con una probabilidad dada, genera un número\n",
    "            uniforme entre [0,1] y compáralo con la probabilidad.\n",
    "        \"\"\"\n",
    "\n",
    "        # Acciones posibles\n",
    "        possible_actions = self.get_legal_actions(state)\n",
    "#         print('possible_actions ',possible_actions)\n",
    "\n",
    "        # Si no hay ninguna acción posible, devuelve None\n",
    "        if len(possible_actions) == 0:\n",
    "            return None\n",
    "\n",
    "        # agent parameters:\n",
    "        epsilon = self.epsilon\n",
    "\n",
    "        ### ESCRIBE AQUÍ TU CÓDIGO\n",
    "        #Aplicamos e-greedy\n",
    "        # Dependiendo del valor aletorio pasamos a polítca determinista o aleatoria si se supera el valor de epsilon\n",
    "        exploration = random.random()\n",
    "        if exploration < epsilon: #Politia alaeatoria explorativa\n",
    "            chosen_action = np.random.choice(possible_actions)\n",
    "#             print('random chosen_action ',chosen_action)\n",
    "        else: #Politica determinista. Vamos a la mejor acción en este caso con mejor qvalue\n",
    "            chosen_action = self.get_best_action(state)\n",
    "#             print('best chosen_action ',chosen_action)\n",
    "\n",
    "        \n",
    "        return chosen_action"
   ]
  },
  {
   "cell_type": "markdown",
   "metadata": {},
   "source": [
    "## Aplicación al entorno Taxi\n",
    "\n",
    "Vamos a utilizar el agente de Q-learning anterior al entorno\n",
    "Taxi de openai gym."
   ]
  },
  {
   "cell_type": "code",
   "execution_count": 4,
   "metadata": {
    "ExecuteTime": {
     "end_time": "2021-12-10T09:51:37.123043Z",
     "start_time": "2021-12-10T09:51:36.575490Z"
    }
   },
   "outputs": [],
   "source": [
    "import gym\n",
    "try:\n",
    "    env = gym.make(\"Taxi-v3\")\n",
    "except:\n",
    "    env = gym.make(\"Taxi-v2\")\n",
    "\n",
    "n_actions = env.action_space.n\n",
    "\n",
    "agent = QLearningAgent(alpha=0.5, epsilon=0.25, discount=0.99,\n",
    "                       get_legal_actions = lambda s: range(n_actions))"
   ]
  },
  {
   "cell_type": "code",
   "execution_count": 12,
   "metadata": {
    "ExecuteTime": {
     "end_time": "2021-12-10T09:51:51.628682Z",
     "start_time": "2021-12-10T09:51:51.546678Z"
    }
   },
   "outputs": [],
   "source": [
    "# Estos assert devolveran un Assert error o no dependiendo de si despues de la instanciación del env.\n",
    "#conseguimos una acción o no. En este momento inicial agent.get_action solo nos devolverá una acción si al aplicar e-greedy\n",
    "#conseguimos una acción aleatoria ya que si entramos por la determinista nos devuelve 0.\n",
    "assert env.action_space.contains(3)\n",
    "assert agent.get_action(3)"
   ]
  },
  {
   "cell_type": "code",
   "execution_count": 13,
   "metadata": {
    "ExecuteTime": {
     "end_time": "2021-12-10T09:51:54.938024Z",
     "start_time": "2021-12-10T09:51:54.850968Z"
    }
   },
   "outputs": [],
   "source": [
    "def play_and_train(env,agent,t_max=10**4):\n",
    "    \"\"\"\n",
    "    La función debe:\n",
    "    - ejecutar un juego entero, las acciones deben tomarse siguiendo una\n",
    "        política epsilon-greedy.\n",
    "    - entrenar el agente utilizando `agent.update()` cuando sea posible\n",
    "    - devolver la recomensa total `total_reward`\n",
    "    \"\"\"\n",
    "    total_reward = 0.0\n",
    "    s = env.reset()\n",
    "    \n",
    "    for t in range(t_max):\n",
    "        # obtiene la acción a tomar en el estado actual\n",
    "        a = agent.get_action(s)\n",
    "        \n",
    "        next_s, r, done, _ = env.step(a)\n",
    "        \n",
    "        # entrena (update) el agente en el estado `s`\n",
    "        \n",
    "        ### ESCRIBE AQUÍ TU CÓDIGO\n",
    "        # Actualizamos el estado del agente con la accion el estado, el siguiente estado y la recompensa\n",
    "        agent.update(s, a, r, next_s)\n",
    "\n",
    "        s = next_s\n",
    "        #Acumulamos la recompensa obtenida\n",
    "        total_reward +=r\n",
    "        #Si lo hemos realizado paramos el entrenamiento.\n",
    "        if done: break\n",
    "\n",
    "            \n",
    "    return total_reward"
   ]
  },
  {
   "cell_type": "code",
   "execution_count": 14,
   "metadata": {
    "ExecuteTime": {
     "end_time": "2021-12-10T09:52:02.036585Z",
     "start_time": "2021-12-10T09:51:57.555061Z"
    }
   },
   "outputs": [
    {
     "name": "stdout",
     "output_type": "stream",
     "text": [
      "eps = 0.25 mean reward = -6.2\n"
     ]
    },
    {
     "data": {
      "image/png": "[encoded data removed]",
      "text/plain": [
       "<Figure size 432x288 with 1 Axes>"
      ]
     },
     "metadata": {
      "needs_background": "light"
     },
     "output_type": "display_data"
    }
   ],
   "source": [
    "# reiniciamos el agente\n",
    "agent_egreedy = QLearningAgent(alpha=0.5, epsilon=0.25, discount=0.99,\n",
    "                       get_legal_actions = lambda s: range(n_actions))\n",
    "\n",
    "rewards = []\n",
    "for i in range(1000):\n",
    "    rewards.append(play_and_train(env, agent_egreedy))\n",
    "    \n",
    "    if i %100 ==0:\n",
    "        clear_output(True)\n",
    "        print('eps =', agent_egreedy.epsilon, 'mean reward =', np.mean(rewards[-10:]))\n",
    "        plt.plot(rewards)\n",
    "        plt.show()"
   ]
  },
  {
   "cell_type": "markdown",
   "metadata": {},
   "source": [
    "El problema de seguir una estrategia $\\epsilon$-greedy es que nunca puede tender a la política óptima, para ello debemos tender $\\epsilon$ a cero. Pero no desde el principio porque entonces no exploraríamos.\n",
    "\n",
    "Lo habitual es hacer que $\\epsilon$ decrezca con el tiempo, hasta ser cero en el límite.\n",
    "\n",
    "Ajusta el bucle anterior para que en cada paso `agent.epsilon` sea multiplicado por un número cercano a uno, por ejemplo 0.99."
   ]
  },
  {
   "cell_type": "code",
   "execution_count": 15,
   "metadata": {
    "ExecuteTime": {
     "end_time": "2021-12-10T09:52:11.544908Z",
     "start_time": "2021-12-10T09:52:07.730537Z"
    }
   },
   "outputs": [
    {
     "name": "stdout",
     "output_type": "stream",
     "text": [
      "eps = 2.9191091959171894e-05 mean reward = 7.6\n"
     ]
    },
    {
     "data": {
      "image/png": "[encoded data removed]",
      "text/plain": [
       "<Figure size 432x288 with 1 Axes>"
      ]
     },
     "metadata": {
      "needs_background": "light"
     },
     "output_type": "display_data"
    }
   ],
   "source": [
    "# reiniciamos el agente\n",
    "agent = QLearningAgent(alpha=0.5, epsilon=0.25, discount=0.99,\n",
    "                       get_legal_actions = lambda s: range(n_actions))\n",
    "\n",
    "rewards = []\n",
    "for i in range(1000):\n",
    "    rewards.append(play_and_train(env, agent))\n",
    "    \n",
    "    ### ESCRIBE AQUÍ TU CÓDIGO\n",
    "    agent.epsilon *= 0.99\n",
    "    \n",
    "    ###\n",
    "    \n",
    "    if i %100 ==0:\n",
    "        clear_output(True)\n",
    "        print('eps =', agent.epsilon, 'mean reward =', np.mean(rewards[-10:]))\n",
    "        plt.plot(rewards)\n",
    "        plt.show()"
   ]
  },
  {
   "cell_type": "markdown",
   "metadata": {},
   "source": [
    "## Visualización\n",
    "\n",
    "Con la función `play_and_watch()` visualiza cómo se comportan los agentes entrenados anteriormente. \n",
    "\n",
    "**Compara ambos y comenta las diferencias.**"
   ]
  },
  {
   "cell_type": "code",
   "execution_count": 17,
   "metadata": {
    "ExecuteTime": {
     "end_time": "2021-12-10T09:52:54.749913Z",
     "start_time": "2021-12-10T09:52:54.666898Z"
    }
   },
   "outputs": [],
   "source": [
    "def play_and_watch(env,agent,t_max=10**4):\n",
    "    \"\"\"\n",
    "    Visualiza como el agente interacciona con el entorno\n",
    "    \"\"\"\n",
    "    total_reward = 0.0\n",
    "    s = env.reset()\n",
    "    env.render()\n",
    "    for t in range(t_max):\n",
    "        # obtiene la acción a tomar en el estado actual\n",
    "        a = agent.get_action(s)\n",
    "        \n",
    "        next_s, r, done, _ = env.step(a)\n",
    "        \n",
    "        sleep(.5)\n",
    "        clear_output(True)\n",
    "        env.render()\n",
    "        \n",
    "        s = next_s\n",
    "        total_reward +=r\n",
    "        if done: \n",
    "            break\n",
    "            \n",
    "    return total_reward"
   ]
  },
  {
   "cell_type": "code",
   "execution_count": 46,
   "metadata": {
    "ExecuteTime": {
     "end_time": "2021-12-10T11:12:39.132289Z",
     "start_time": "2021-12-10T11:11:33.411564Z"
    }
   },
   "outputs": [
    {
     "name": "stdout",
     "output_type": "stream",
     "text": [
      "+---------+\n",
      "|R: | : :G|\n",
      "| : | : : |\n",
      "| : : : : |\n",
      "| | : | : |\n",
      "|\u001b[35m\u001b[34;1m\u001b[43mY\u001b[0m\u001b[0m\u001b[0m| : |B: |\n",
      "+---------+\n",
      "  (Dropoff)\n",
      " Resultados obtenidos en cada una de las 10 partidas \n",
      " [7.0, 8.0, 10.0, 6.0, 10.0, 6.0, 7.0, 9.0, 10.0, 9.0]\n"
     ]
    }
   ],
   "source": [
    "### ESCRIBE AQUÍ TU CÓDIGO\n",
    "resultados=[]\n",
    "for i in range(10):\n",
    "    resultados.append(play_and_watch(env,agent))\n",
    "#     print(f'Resultado para la partida {i} es {resultados[i]}')\n",
    "print (f' Resultados obtenidos en cada una de las {i+1} partidas \\n {resultados}')"
   ]
  },
  {
   "cell_type": "code",
   "execution_count": 47,
   "metadata": {
    "ExecuteTime": {
     "end_time": "2021-12-10T11:14:22.734039Z",
     "start_time": "2021-12-10T11:12:39.312304Z"
    }
   },
   "outputs": [
    {
     "name": "stdout",
     "output_type": "stream",
     "text": [
      "+---------+\n",
      "|\u001b[35m\u001b[34;1m\u001b[43mR\u001b[0m\u001b[0m\u001b[0m: | : :G|\n",
      "| : | : : |\n",
      "| : : : : |\n",
      "| | : | : |\n",
      "|Y| : |B: |\n",
      "+---------+\n",
      "  (Dropoff)\n",
      " Resultados obtenidos en cada una de las 10 partidas \n",
      " [-10.0, -16.0, -19.0, -38.0, -1.0, -25.0, 4.0, -54.0, -4.0, 0.0]\n"
     ]
    }
   ],
   "source": [
    "resultados_egreedy=[]\n",
    "for i in range(10):\n",
    "    resultados_egreedy.append(play_and_watch(env,agent_egreedy))\n",
    "    #     print(f'Resultado para la partida {i} es {resultados[i]}')\n",
    "print (f' Resultados obtenidos en cada una de las {i+1} partidas \\n {resultados_egreedy}')"
   ]
  },
  {
   "cell_type": "code",
   "execution_count": 53,
   "metadata": {
    "ExecuteTime": {
     "end_time": "2021-12-10T11:17:52.090453Z",
     "start_time": "2021-12-10T11:17:51.681419Z"
    }
   },
   "outputs": [
    {
     "data": {
      "image/png": "[encoded data removed]",
      "text/plain": [
       "<Figure size 432x288 with 1 Axes>"
      ]
     },
     "metadata": {
      "needs_background": "light"
     },
     "output_type": "display_data"
    }
   ],
   "source": [
    "#Hacemos una representación visual observando como flutan las recompensas para cada una de las partidas que realizan los\n",
    "#dos agentes.\n",
    "plt.plot(range(1,11),resultados,label='Agente',marker='o')\n",
    "plt.plot(range(1,11),resultados_egreedy,label='Agente_e-greedy',marker='o')\n",
    "plt.legend()\n",
    "plt.xticks(range(1,11))\n",
    "plt.ylabel('Recompensa')\n",
    "plt.xlabel('Partida')\n",
    "plt.grid(True)\n",
    "plt.show()"
   ]
  },
  {
   "cell_type": "markdown",
   "metadata": {},
   "source": [
    "* **Respuesta:** \n",
    "    * En las diversas ejecuciones del juego tanto para el **agente** como para el **agente_e_greedy** observamos que en la mayoria de los casos el **agente**, gana tanto en rapidez como en puntuación al **agente_e-greedy** y esto es debido a la política que aplican el uno y el otro. \n",
    "    * Con la política que tiene el **agente_e_greedy** al tener un epsilon fijo de 0.25 y no disminuir este siempre seguira la misma política, mientras **agente** al ir disminuyendo el epsilon tenderá a una política cada vez más determinista, eligiendo la mejor acción.  Como resultado de esto **agente-e-greedy** al aplicar su política da muchos más pasos y esta cuestión es lo que penaliza el juego del Taxi, https://gym.openai.com/envs/Taxi-v3/, en el que por cada paso que da te descuenta un punto, sumandote 20 por cada finalización de trayecto a un cliente. Luego tiene otras penalizaciones por recogida o finalización de trayecto en un punto donde no se debe realizar."
   ]
  },
  {
   "cell_type": "raw",
   "metadata": {},
   "source": []
  }
 ],
 "metadata": {
  "jupytext": {
   "formats": "ipynb,md"
  },
  "kernelspec": {
   "display_name": "Python 3",
   "language": "python",
   "name": "python3"
  },
  "language_info": {
   "codemirror_mode": {
    "name": "ipython",
    "version": 3
   },
   "file_extension": ".py",
   "mimetype": "text/x-python",
   "name": "python",
   "nbconvert_exporter": "python",
   "pygments_lexer": "ipython3",
   "version": "3.8.5"
  },
  "toc": {
   "base_numbering": 1,
   "nav_menu": {},
   "number_sections": true,
   "sideBar": true,
   "skip_h1_title": false,
   "title_cell": "Table of Contents",
   "title_sidebar": "Contents",
   "toc_cell": false,
   "toc_position": {},
   "toc_section_display": true,
   "toc_window_display": false
  },
  "varInspector": {
   "cols": {
    "lenName": 16,
    "lenType": 16,
    "lenVar": 40
   },
   "kernels_config": {
    "python": {
     "delete_cmd_postfix": "",
     "delete_cmd_prefix": "del ",
     "library": "var_list.py",
     "varRefreshCmd": "print(var_dic_list())"
    },
    "r": {
     "delete_cmd_postfix": ") ",
     "delete_cmd_prefix": "rm(",
     "library": "var_list.r",
     "varRefreshCmd": "cat(var_dic_list()) "
    }
   },
   "types_to_exclude": [
    "module",
    "function",
    "builtin_function_or_method",
    "instance",
    "_Feature"
   ],
   "window_display": true
  }
 },
 "nbformat": 4,
 "nbformat_minor": 5
}
