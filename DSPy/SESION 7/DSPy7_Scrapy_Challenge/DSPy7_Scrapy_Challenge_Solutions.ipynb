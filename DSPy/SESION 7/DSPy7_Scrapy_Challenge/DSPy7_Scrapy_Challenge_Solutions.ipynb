{
 "cells": [
  {
   "cell_type": "markdown",
   "metadata": {},
   "source": [
    "<img src=\"mioti.png\" style=\"height: 100px\">\n",
    "<center style=\"color:#888\">Data Science with Python</center>\n",
    "\n",
    "# DSPy7 Challenge. Scrapy. Solutions.\n"
   ]
  },
  {
   "cell_type": "markdown",
   "metadata": {},
   "source": [
    "Vamos a intentar extraer datos de una web de una librería, que no es más que una web preparada para testear scrapping contra ella. \n",
    "\n",
    "<img src=\"books_to_scrape.png\" style=\"height: 500px\">\n",
    "\n",
    "Empezaremos concretamente en esta url: http://books.toscrape.com/catalogue/page-1.html"
   ]
  },
  {
   "cell_type": "markdown",
   "metadata": {
    "toc": true
   },
   "source": [
    "<h1>Table of Contents<span class=\"tocSkip\"></span></h1>\n",
    "<div class=\"toc\"><ul class=\"toc-item\"><li><span><a href=\"#Spider-para-el-ejercicio-1\" data-toc-modified-id=\"Spider-para-el-ejercicio-1-1\"><span class=\"toc-item-num\">1&nbsp;&nbsp;</span>Spider para el ejercicio 1</a></span></li><li><span><a href=\"#Spider-para-el-ejercicio-2\" data-toc-modified-id=\"Spider-para-el-ejercicio-2-2\"><span class=\"toc-item-num\">2&nbsp;&nbsp;</span>Spider para el ejercicio 2</a></span></li></ul></div>"
   ]
  },
  {
   "cell_type": "markdown",
   "metadata": {},
   "source": [
    "**Inicialización**"
   ]
  },
  {
   "cell_type": "code",
   "execution_count": null,
   "metadata": {},
   "outputs": [],
   "source": [
    "import logging\n",
    "import re\n",
    "import pandas as pd\n",
    "import json\n",
    "import scrapy\n",
    "from scrapy.crawler import CrawlerProcess\n",
    "# Para ir viendo la salida de los comandos a medida que ocurre\n",
    "from IPython.core.interactiveshell import InteractiveShell\n",
    "InteractiveShell.ast_node_interactivity = \"all\""
   ]
  },
  {
   "cell_type": "markdown",
   "metadata": {},
   "source": [
    "## Spider para el ejercicio 1"
   ]
  },
  {
   "cell_type": "markdown",
   "metadata": {},
   "source": [
    "**Ejercicio 1:** Obten en un dataframe una lista de los libros en esta página (no en toda la librería), con título y precio."
   ]
  },
  {
   "cell_type": "code",
   "execution_count": null,
   "metadata": {},
   "outputs": [],
   "source": [
    "import logging\n",
    "import re\n",
    "\n",
    "class SimpleBookSpider(scrapy.Spider):\n",
    "    name = \"simplebooks\"\n",
    "    start_urls = [\n",
    "        'http://books.toscrape.com/catalogue/page-1.html',\n",
    "    ]\n",
    "    \n",
    "    def parse(self, response):\n",
    "        for book in response.css('article.product_pod'):\n",
    "            yield {\n",
    "                'title': book.css('h3 a::attr(title)').extract_first(),\n",
    "                'price': book.css('p.price_color::text').extract_first(),\n",
    "            }"
   ]
  },
  {
   "cell_type": "code",
   "execution_count": null,
   "metadata": {
    "scrolled": false
   },
   "outputs": [],
   "source": [
    "# process = CrawlerProcess({'FEED_FORMAT': 'csv',\n",
    "#                           'FEED_URI': 'simplebook.csv'})\n",
    "# process.crawl(SimpleBookSpider)\n",
    "# process.start()\n",
    "\n",
    "# df = pd.read_csv('simplebook.csv')\n",
    "# df"
   ]
  },
  {
   "cell_type": "markdown",
   "metadata": {},
   "source": [
    "## Spider para el ejercicio 2"
   ]
  },
  {
   "cell_type": "markdown",
   "metadata": {},
   "source": [
    "**Ejercicio 2:** Ahora captura también el rating de los libros."
   ]
  },
  {
   "cell_type": "code",
   "execution_count": null,
   "metadata": {},
   "outputs": [],
   "source": [
    "import logging\n",
    "import re\n",
    "\n",
    "class RatingBookSpider(scrapy.Spider):\n",
    "    name = \"ratingbooks\"\n",
    "    start_urls = [\n",
    "        'http://books.toscrape.com/catalogue/page-1.html',\n",
    "    ]\n",
    "    def parse(self, response):\n",
    "        for book in response.css('.product_pod'):\n",
    "            yield {\n",
    "                'title': book.css('h3 a::attr(title)').extract_first(),\n",
    "                'price': book.css('p.price_color::text').extract_first(),\n",
    "                'rating': book.css('p.star-rating::attr(class)').extract_first().split()[-1]\n",
    "                \n",
    "            }"
   ]
  },
  {
   "cell_type": "code",
   "execution_count": null,
   "metadata": {
    "scrolled": false
   },
   "outputs": [],
   "source": [
    "process = CrawlerProcess({'FEED_FORMAT': 'csv',\n",
    "                          'FEED_URI': 'rating.csv'})\n",
    "process.crawl(RatingBookSpider)\n",
    "process.start()\n",
    "\n",
    "df = pd.read_csv('rating.csv')\n",
    "df"
   ]
  }
 ],
 "metadata": {
  "kernelspec": {
   "display_name": "Python 3",
   "language": "python",
   "name": "python3"
  },
  "language_info": {
   "codemirror_mode": {
    "name": "ipython",
    "version": 3
   },
   "file_extension": ".py",
   "mimetype": "text/x-python",
   "name": "python",
   "nbconvert_exporter": "python",
   "pygments_lexer": "ipython3",
   "version": "3.8.5"
  },
  "toc": {
   "base_numbering": 1,
   "nav_menu": {},
   "number_sections": true,
   "sideBar": true,
   "skip_h1_title": true,
   "title_cell": "Table of Contents",
   "title_sidebar": "Contents",
   "toc_cell": true,
   "toc_position": {},
   "toc_section_display": true,
   "toc_window_display": true
  },
  "varInspector": {
   "cols": {
    "lenName": 16,
    "lenType": 16,
    "lenVar": 40
   },
   "kernels_config": {
    "python": {
     "delete_cmd_postfix": "",
     "delete_cmd_prefix": "del ",
     "library": "var_list.py",
     "varRefreshCmd": "print(var_dic_list())"
    },
    "r": {
     "delete_cmd_postfix": ") ",
     "delete_cmd_prefix": "rm(",
     "library": "var_list.r",
     "varRefreshCmd": "cat(var_dic_list()) "
    }
   },
   "types_to_exclude": [
    "module",
    "function",
    "builtin_function_or_method",
    "instance",
    "_Feature"
   ],
   "window_display": false
  }
 },
 "nbformat": 4,
 "nbformat_minor": 2
}
