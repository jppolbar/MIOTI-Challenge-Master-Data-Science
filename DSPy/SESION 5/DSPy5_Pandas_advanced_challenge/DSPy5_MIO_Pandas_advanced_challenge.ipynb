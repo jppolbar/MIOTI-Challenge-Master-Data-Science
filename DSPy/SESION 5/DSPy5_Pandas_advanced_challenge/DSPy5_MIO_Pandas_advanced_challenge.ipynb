{
 "cells": [
  {
   "cell_type": "markdown",
   "metadata": {},
   "source": [
    "<h1>Table of Contents<span class=\"tocSkip\"></span></h1>\n",
    "<div class=\"toc\"><ul class=\"toc-item\"></ul></div>"
   ]
  },
  {
   "cell_type": "markdown",
   "metadata": {},
   "source": [
    "<img src=\"mioti.png\" style=\"height: 80px\">\n",
    "\n",
    "<center style=\"color:#888\">Data Science with Python</center>\n",
    "\n",
    "# DSPy5 Pandas \"advanced\". Challenge Solutions."
   ]
  },
  {
   "cell_type": "markdown",
   "metadata": {},
   "source": [
    "<img src=\"madrid_atasco.jpg\" style=\"width:800px\">"
   ]
  },
  {
   "cell_type": "markdown",
   "metadata": {},
   "source": [
    "**Inicialización**"
   ]
  },
  {
   "cell_type": "code",
   "execution_count": 1,
   "metadata": {
    "ExecuteTime": {
     "end_time": "2021-04-08T18:35:32.203829Z",
     "start_time": "2021-04-08T18:35:31.025969Z"
    }
   },
   "outputs": [],
   "source": [
    "%matplotlib inline\n",
    "import numpy as np\n",
    "import pandas as pd\n",
    "import matplotlib.pyplot as plt\n",
    "from matplotlib import rcParams\n",
    "rcParams['figure.figsize'] = (16, 9)"
   ]
  },
  {
   "cell_type": "markdown",
   "metadata": {},
   "source": [
    "Vamos a trabajar con el dataset del número de accidentes de tráfico en Madrid durante el 2019 (fuente: [https://datos.madrid.es/](https://datos.madrid.es/)). Fichero explicativo: `Estructura_DS_Accidentes_trafico_desde_2019.pdf`"
   ]
  },
  {
   "cell_type": "code",
   "execution_count": 2,
   "metadata": {
    "ExecuteTime": {
     "end_time": "2021-04-08T18:35:47.742553Z",
     "start_time": "2021-04-08T18:35:32.207808Z"
    }
   },
   "outputs": [],
   "source": [
    "df=pd.read_excel('2019_Accidentalidad.xlsx')"
   ]
  },
  {
   "cell_type": "code",
   "execution_count": 3,
   "metadata": {
    "ExecuteTime": {
     "end_time": "2021-04-08T18:35:47.819547Z",
     "start_time": "2021-04-08T18:35:47.745533Z"
    },
    "scrolled": true
   },
   "outputs": [
    {
     "name": "stdout",
     "output_type": "stream",
     "text": [
      "<class 'pandas.core.frame.DataFrame'>\n",
      "RangeIndex: 51806 entries, 0 to 51805\n",
      "Data columns (total 14 columns):\n",
      " #   Column                                                                                   Non-Null Count  Dtype  \n",
      "---  ------                                                                                   --------------  -----  \n",
      " 0   Nº  EXPEDIENTE                                                                           51806 non-null  object \n",
      " 1   FECHA                                                                                    51806 non-null  object \n",
      " 2   HORA                                                                                     51806 non-null  object \n",
      " 3   CALLE                                                                                    51806 non-null  object \n",
      " 4   NÚMERO                                                                                   51802 non-null  object \n",
      " 5   DISTRITO                                                                                 51801 non-null  object \n",
      " 6   TIPO ACCIDENTE                                                                           51804 non-null  object \n",
      " 7   ESTADO METEREOLÓGICO                                                                     46674 non-null  object \n",
      " 8   TIPO VEHÍCULO                                                                            51628 non-null  object \n",
      " 9   TIPO PERSONA                                                                             51781 non-null  object \n",
      " 10  RANGO EDAD                                                                               51806 non-null  object \n",
      " 11  SEXO                                                                                     46756 non-null  object \n",
      " 12  LESIVIDAD*                                                                               30030 non-null  float64\n",
      " 13  * La correspondencia de los códigos se encuentra descrito en la estructura del fichero.  0 non-null      float64\n",
      "dtypes: float64(2), object(12)\n",
      "memory usage: 5.5+ MB\n"
     ]
    }
   ],
   "source": [
    "df.info()"
   ]
  },
  {
   "cell_type": "code",
   "execution_count": 4,
   "metadata": {
    "ExecuteTime": {
     "end_time": "2021-04-08T18:35:47.866558Z",
     "start_time": "2021-04-08T18:35:47.823548Z"
    }
   },
   "outputs": [
    {
     "data": {
      "text/html": [
       "<div>\n",
       "<style scoped>\n",
       "    .dataframe tbody tr th:only-of-type {\n",
       "        vertical-align: middle;\n",
       "    }\n",
       "\n",
       "    .dataframe tbody tr th {\n",
       "        vertical-align: top;\n",
       "    }\n",
       "\n",
       "    .dataframe thead th {\n",
       "        text-align: right;\n",
       "    }\n",
       "</style>\n",
       "<table border=\"1\" class=\"dataframe\">\n",
       "  <thead>\n",
       "    <tr style=\"text-align: right;\">\n",
       "      <th></th>\n",
       "      <th>Nº  EXPEDIENTE</th>\n",
       "      <th>FECHA</th>\n",
       "      <th>HORA</th>\n",
       "      <th>CALLE</th>\n",
       "      <th>NÚMERO</th>\n",
       "      <th>DISTRITO</th>\n",
       "      <th>TIPO ACCIDENTE</th>\n",
       "      <th>ESTADO METEREOLÓGICO</th>\n",
       "      <th>TIPO VEHÍCULO</th>\n",
       "      <th>TIPO PERSONA</th>\n",
       "      <th>RANGO EDAD</th>\n",
       "      <th>SEXO</th>\n",
       "      <th>LESIVIDAD*</th>\n",
       "      <th>* La correspondencia de los códigos se encuentra descrito en la estructura del fichero.</th>\n",
       "    </tr>\n",
       "  </thead>\n",
       "  <tbody>\n",
       "    <tr>\n",
       "      <th>0</th>\n",
       "      <td>2019S000020</td>\n",
       "      <td>01/01/2019</td>\n",
       "      <td>23:30:00</td>\n",
       "      <td>CALL. FUENCARRAL</td>\n",
       "      <td>149</td>\n",
       "      <td>CHAMBERÍ</td>\n",
       "      <td>Caída</td>\n",
       "      <td>Despejado</td>\n",
       "      <td>Ciclomotor</td>\n",
       "      <td>Conductor</td>\n",
       "      <td>DE 25 A 29 AÑOS</td>\n",
       "      <td>Hombre</td>\n",
       "      <td>1.0</td>\n",
       "      <td>NaN</td>\n",
       "    </tr>\n",
       "    <tr>\n",
       "      <th>1</th>\n",
       "      <td>2019S000017</td>\n",
       "      <td>01/01/2019</td>\n",
       "      <td>22:15:00</td>\n",
       "      <td>CALL. OCA / CALL. PINZON</td>\n",
       "      <td>-</td>\n",
       "      <td>CARABANCHEL</td>\n",
       "      <td>Colisión fronto-lateral</td>\n",
       "      <td>Despejado</td>\n",
       "      <td>Turismo</td>\n",
       "      <td>Conductor</td>\n",
       "      <td>DE 40 A 44 AÑOS</td>\n",
       "      <td>Mujer</td>\n",
       "      <td>14.0</td>\n",
       "      <td>NaN</td>\n",
       "    </tr>\n",
       "    <tr>\n",
       "      <th>2</th>\n",
       "      <td>2019S000017</td>\n",
       "      <td>01/01/2019</td>\n",
       "      <td>22:15:00</td>\n",
       "      <td>CALL. OCA / CALL. PINZON</td>\n",
       "      <td>-</td>\n",
       "      <td>CARABANCHEL</td>\n",
       "      <td>Colisión fronto-lateral</td>\n",
       "      <td>Despejado</td>\n",
       "      <td>Ciclomotor</td>\n",
       "      <td>Conductor</td>\n",
       "      <td>DE 35 A 39 AÑOS</td>\n",
       "      <td>Hombre</td>\n",
       "      <td>3.0</td>\n",
       "      <td>NaN</td>\n",
       "    </tr>\n",
       "    <tr>\n",
       "      <th>3</th>\n",
       "      <td>2019S001812</td>\n",
       "      <td>01/01/2019</td>\n",
       "      <td>21:40:00</td>\n",
       "      <td>CALL. BAILEN / CUSTA. SAN VICENTE</td>\n",
       "      <td>-</td>\n",
       "      <td>CENTRO</td>\n",
       "      <td>Colisión fronto-lateral</td>\n",
       "      <td>Despejado</td>\n",
       "      <td>Turismo</td>\n",
       "      <td>Conductor</td>\n",
       "      <td>DE 40 A 44 AÑOS</td>\n",
       "      <td>Hombre</td>\n",
       "      <td>14.0</td>\n",
       "      <td>NaN</td>\n",
       "    </tr>\n",
       "    <tr>\n",
       "      <th>4</th>\n",
       "      <td>2019S001812</td>\n",
       "      <td>01/01/2019</td>\n",
       "      <td>21:40:00</td>\n",
       "      <td>CALL. BAILEN / CUSTA. SAN VICENTE</td>\n",
       "      <td>-</td>\n",
       "      <td>CENTRO</td>\n",
       "      <td>Colisión fronto-lateral</td>\n",
       "      <td>Despejado</td>\n",
       "      <td>Turismo</td>\n",
       "      <td>Conductor</td>\n",
       "      <td>DE 30 A 34 AÑOS</td>\n",
       "      <td>Mujer</td>\n",
       "      <td>7.0</td>\n",
       "      <td>NaN</td>\n",
       "    </tr>\n",
       "  </tbody>\n",
       "</table>\n",
       "</div>"
      ],
      "text/plain": [
       "  Nº  EXPEDIENTE       FECHA      HORA                              CALLE  \\\n",
       "0    2019S000020  01/01/2019  23:30:00                   CALL. FUENCARRAL   \n",
       "1    2019S000017  01/01/2019  22:15:00           CALL. OCA / CALL. PINZON   \n",
       "2    2019S000017  01/01/2019  22:15:00           CALL. OCA / CALL. PINZON   \n",
       "3    2019S001812  01/01/2019  21:40:00  CALL. BAILEN / CUSTA. SAN VICENTE   \n",
       "4    2019S001812  01/01/2019  21:40:00  CALL. BAILEN / CUSTA. SAN VICENTE   \n",
       "\n",
       "  NÚMERO     DISTRITO           TIPO ACCIDENTE ESTADO METEREOLÓGICO  \\\n",
       "0    149     CHAMBERÍ                    Caída            Despejado   \n",
       "1      -  CARABANCHEL  Colisión fronto-lateral            Despejado   \n",
       "2      -  CARABANCHEL  Colisión fronto-lateral            Despejado   \n",
       "3      -       CENTRO  Colisión fronto-lateral            Despejado   \n",
       "4      -       CENTRO  Colisión fronto-lateral            Despejado   \n",
       "\n",
       "  TIPO VEHÍCULO TIPO PERSONA       RANGO EDAD    SEXO  LESIVIDAD*  \\\n",
       "0    Ciclomotor    Conductor  DE 25 A 29 AÑOS  Hombre         1.0   \n",
       "1       Turismo    Conductor  DE 40 A 44 AÑOS   Mujer        14.0   \n",
       "2    Ciclomotor    Conductor  DE 35 A 39 AÑOS  Hombre         3.0   \n",
       "3       Turismo    Conductor  DE 40 A 44 AÑOS  Hombre        14.0   \n",
       "4       Turismo    Conductor  DE 30 A 34 AÑOS   Mujer         7.0   \n",
       "\n",
       "   * La correspondencia de los códigos se encuentra descrito en la estructura del fichero.  \n",
       "0                                                NaN                                        \n",
       "1                                                NaN                                        \n",
       "2                                                NaN                                        \n",
       "3                                                NaN                                        \n",
       "4                                                NaN                                        "
      ]
     },
     "execution_count": 4,
     "metadata": {},
     "output_type": "execute_result"
    }
   ],
   "source": [
    "df.head()"
   ]
  },
  {
   "cell_type": "markdown",
   "metadata": {},
   "source": [
    "**Ejercicio 1:** ¿Quién está implicado en más accidentes de tráfico, los hombres o las mujeres? ¿Y en función del rango de edad? ¿Hay alguna franja de edad en la que las mujeres esten implicadas en más accidentes que los hombres?"
   ]
  },
  {
   "cell_type": "code",
   "execution_count": 5,
   "metadata": {
    "ExecuteTime": {
     "end_time": "2021-04-08T18:35:47.898568Z",
     "start_time": "2021-04-08T18:35:47.869559Z"
    }
   },
   "outputs": [
    {
     "name": "stdout",
     "output_type": "stream",
     "text": [
      "El sexo con más accidentes es :  Hombre  con  31466  accidentes\n"
     ]
    }
   ],
   "source": [
    "print(\"El sexo con más accidentes es : \", df.groupby(by='SEXO').size().idxmax(), \" con \",df.groupby(by='SEXO').size().max(), ' accidentes' )"
   ]
  },
  {
   "cell_type": "code",
   "execution_count": 6,
   "metadata": {
    "ExecuteTime": {
     "end_time": "2021-04-08T18:35:47.930575Z",
     "start_time": "2021-04-08T18:35:47.902573Z"
    }
   },
   "outputs": [
    {
     "name": "stdout",
     "output_type": "stream",
     "text": [
      "El rango de edad con más accidentes es :  DE 40 A 44 AÑOS  con  5736  accidentes \n"
     ]
    }
   ],
   "source": [
    "print(\"El rango de edad con más accidentes es : \", df.groupby(by='RANGO EDAD').size().idxmax(), \" con \",df.groupby(by='RANGO EDAD').size().max(), \" accidentes \")"
   ]
  },
  {
   "cell_type": "code",
   "execution_count": null,
   "metadata": {},
   "outputs": [],
   "source": []
  },
  {
   "cell_type": "code",
   "execution_count": 39,
   "metadata": {
    "ExecuteTime": {
     "end_time": "2021-04-08T19:14:56.633972Z",
     "start_time": "2021-04-08T19:14:56.588427Z"
    }
   },
   "outputs": [
    {
     "data": {
      "text/plain": [
       "'DE 10 A 14 AÑOS'"
      ]
     },
     "execution_count": 39,
     "metadata": {},
     "output_type": "execute_result"
    }
   ],
   "source": [
    "#SOL1\n",
    "df_temp=df.groupby(by=(['RANGO EDAD', 'SEXO'])).size().reset_index()\n",
    "\n",
    "table = pd.pivot_table(df_temp, values=0, index=['RANGO EDAD'],\n",
    "                     columns=['SEXO'])\n",
    "table[(table['Mujer']>table['Hombre'])].index[0]"
   ]
  },
  {
   "cell_type": "code",
   "execution_count": 38,
   "metadata": {
    "ExecuteTime": {
     "end_time": "2021-04-08T19:14:38.540540Z",
     "start_time": "2021-04-08T19:14:38.493109Z"
    }
   },
   "outputs": [
    {
     "data": {
      "text/plain": [
       "'DE 10 A 14 AÑOS'"
      ]
     },
     "execution_count": 38,
     "metadata": {},
     "output_type": "execute_result"
    }
   ],
   "source": [
    "#SOL 2\n",
    "table = pd.pivot_table(df, values='Nº  EXPEDIENTE', index=['RANGO EDAD'],\n",
    "                     columns=['SEXO'],aggfunc='count')\n",
    "\n",
    "table[(table['Mujer']>table['Hombre'])].index[0]"
   ]
  },
  {
   "cell_type": "markdown",
   "metadata": {},
   "source": [
    "**Ejercicio 2:** Para el rango de edad para el cual hemos obtenido que hay más accidentes de tráfico con mujeres implicadas que con hombres, ¿esas mujeres eran conductoras, peatones o pasajeras? Para los casos en los que era conductora, ¿había alguna saltándose la ley y conduciendo un vehículo para el que necesitas carnet?"
   ]
  },
  {
   "cell_type": "code",
   "execution_count": 44,
   "metadata": {
    "ExecuteTime": {
     "end_time": "2021-04-08T19:18:54.882364Z",
     "start_time": "2021-04-08T19:18:54.843821Z"
    }
   },
   "outputs": [
    {
     "data": {
      "text/plain": [
       "TIPO PERSONA\n",
       "Conductor      8\n",
       "Pasajero     214\n",
       "Peatón        29\n",
       "dtype: int64"
      ]
     },
     "execution_count": 44,
     "metadata": {},
     "output_type": "execute_result"
    }
   ],
   "source": [
    "df_temp_2=df[(df['RANGO EDAD']=='DE 10 A 14 AÑOS') & (df['SEXO']=='Mujer')]\n",
    "df_temp_2.groupby(by=(['TIPO PERSONA'])).size()\n"
   ]
  },
  {
   "cell_type": "code",
   "execution_count": 46,
   "metadata": {
    "ExecuteTime": {
     "end_time": "2021-04-08T19:19:39.975359Z",
     "start_time": "2021-04-08T19:19:39.939118Z"
    }
   },
   "outputs": [
    {
     "data": {
      "text/plain": [
       "Pasajero     214\n",
       "Peatón        29\n",
       "Conductor      8\n",
       "Name: TIPO PERSONA, dtype: int64"
      ]
     },
     "execution_count": 46,
     "metadata": {},
     "output_type": "execute_result"
    }
   ],
   "source": [
    "aa=df[(df['RANGO EDAD']=='DE 10 A 14 AÑOS') & (df['SEXO']=='Mujer')]\n",
    "aa['TIPO PERSONA'].value_counts()\n",
    "#get_group('DE 10 A 14 AÑOS').groupby(by='TIPO PERSONA').size()"
   ]
  },
  {
   "cell_type": "code",
   "execution_count": 9,
   "metadata": {
    "ExecuteTime": {
     "end_time": "2021-04-08T18:35:48.058603Z",
     "start_time": "2021-04-08T18:35:48.046602Z"
    }
   },
   "outputs": [
    {
     "data": {
      "text/plain": [
       "TIPO PERSONA  TIPO VEHÍCULO            \n",
       "Conductor     Bicicleta                      6\n",
       "              Otros vehículos con motor      1\n",
       "              Sin especificar                1\n",
       "Pasajero      Autobús                        2\n",
       "              Autobús articulado             1\n",
       "              Bicicleta                      1\n",
       "              Camión rígido                  2\n",
       "              Furgoneta                      8\n",
       "              Motocicleta > 125cc            4\n",
       "              Motocicleta hasta 125cc        3\n",
       "              Otros vehículos con motor      2\n",
       "              Turismo                      191\n",
       "Peatón        Autobús                        1\n",
       "              Bicicleta                      1\n",
       "              Camión rígido                  1\n",
       "              Ciclomotor                     1\n",
       "              Furgoneta                      2\n",
       "              Motocicleta > 125cc            1\n",
       "              Motocicleta hasta 125cc        3\n",
       "              Sin especificar                1\n",
       "              Turismo                       17\n",
       "dtype: int64"
      ]
     },
     "execution_count": 9,
     "metadata": {},
     "output_type": "execute_result"
    }
   ],
   "source": [
    "df_temp_2.groupby(by=(['TIPO PERSONA','TIPO VEHÍCULO'])).size()"
   ]
  },
  {
   "cell_type": "markdown",
   "metadata": {},
   "source": [
    "**Ejercicio 3:** ¿Cuál fue el día del año en el que hubo más accidentes? Haz un plot del nº de accidentes por mes del año ¿Es el número de accidentes constante a lo largo de los meses de 2019?. _Hint: mismo Nº EXPEDIENTE implica que se trata del mismo accidente donde hay varios implicados y por lo tanto solo hay que contarlo una vez."
   ]
  },
  {
   "cell_type": "code",
   "execution_count": 75,
   "metadata": {
    "ExecuteTime": {
     "end_time": "2021-04-08T19:55:08.491760Z",
     "start_time": "2021-04-08T19:55:08.449216Z"
    }
   },
   "outputs": [
    {
     "name": "stdout",
     "output_type": "stream",
     "text": [
      "El dia con más accidentes del año es :  05/04/2019  con  120  accidentes \n"
     ]
    }
   ],
   "source": [
    "df_temp_3=df.copy()\n",
    "df_temp_3 = df_temp_3.drop_duplicates('Nº  EXPEDIENTE',keep='first')\n",
    "print(\"El dia con más accidentes del año es : \", df_temp_3.groupby(by='FECHA').size().idxmax(), \" con \",df_temp_3.groupby(by='FECHA').size().max(), \" accidentes \")"
   ]
  },
  {
   "cell_type": "code",
   "execution_count": 121,
   "metadata": {
    "ExecuteTime": {
     "end_time": "2021-04-09T07:27:20.503738Z",
     "start_time": "2021-04-09T07:27:17.542909Z"
    }
   },
   "outputs": [
    {
     "data": {
      "text/plain": [
       "<AxesSubplot:xlabel='MES'>"
      ]
     },
     "execution_count": 121,
     "metadata": {},
     "output_type": "execute_result"
    },
    {
     "data": {
      "image/png": "[encoded data removed]",
      "text/plain": [
       "<Figure size 1152x648 with 1 Axes>"
      ]
     },
     "metadata": {
      "needs_background": "light"
     },
     "output_type": "display_data"
    }
   ],
   "source": [
    "df_temp_3['MES']=df_temp_3['FECHA'].str[3:5]\n",
    "df_temp_3.groupby(by='MES').size().plot()\n"
   ]
  },
  {
   "cell_type": "code",
   "execution_count": 62,
   "metadata": {
    "ExecuteTime": {
     "end_time": "2021-04-08T19:37:18.423961Z",
     "start_time": "2021-04-08T19:37:17.986844Z"
    }
   },
   "outputs": [
    {
     "data": {
      "text/plain": [
       "<AxesSubplot:xlabel='FECHA'>"
      ]
     },
     "execution_count": 62,
     "metadata": {},
     "output_type": "execute_result"
    },
    {
     "data": {
      "image/png": "[encoded data removed]",
      "text/plain": [
       "<Figure size 1152x648 with 1 Axes>"
      ]
     },
     "metadata": {
      "needs_background": "light"
     },
     "output_type": "display_data"
    }
   ],
   "source": [
    "#SOL2 - EN ESTA CLASE NO VALE\n",
    "df_temp_3.FECHA = pd.to_datetime(df_temp_3.FECHA)\n",
    "#df_temp_3.info()\n",
    "df_temp_3.index = df_temp_3.FECHA\n",
    "df_temp_3.resample('M')['Nº  EXPEDIENTE'].count().plot.bar()\n"
   ]
  },
  {
   "cell_type": "markdown",
   "metadata": {},
   "source": [
    "**Ejercicio 4:** ¿Cuál fue el distrito con más accidentes? ¿y la calle? _Hint: de nuevo recordar que estamos hablando de nº de accidentes y el campo Nº EXPEDIENTE puede aparecer tantas veces como personas haya habido involucradas en el accidente."
   ]
  },
  {
   "cell_type": "code",
   "execution_count": 78,
   "metadata": {
    "ExecuteTime": {
     "end_time": "2021-04-08T19:56:53.619637Z",
     "start_time": "2021-04-08T19:56:53.577106Z"
    }
   },
   "outputs": [
    {
     "name": "stdout",
     "output_type": "stream",
     "text": [
      "El distrito con más accidentes del año es :  SALAMANCA  con  1736  accidentes \n"
     ]
    }
   ],
   "source": [
    "df_temp_4=df.copy()\n",
    "df_temp_4 = df_temp_4.drop_duplicates('Nº  EXPEDIENTE',keep='first')\n",
    "df_temp_4.groupby(by='DISTRITO')\n",
    "print(\"El distrito con más accidentes del año es : \", df_temp_4.groupby(by='DISTRITO').size().idxmax(), \" con \",df_temp_4.groupby(by='DISTRITO').size().max(), \" accidentes \")"
   ]
  },
  {
   "cell_type": "code",
   "execution_count": 102,
   "metadata": {
    "ExecuteTime": {
     "end_time": "2021-04-09T05:51:49.350606Z",
     "start_time": "2021-04-09T05:51:49.251077Z"
    }
   },
   "outputs": [
    {
     "name": "stdout",
     "output_type": "stream",
     "text": [
      "El distrito con más accidentes del año es :  PASEO. CASTELLANA  con  309  accidentes \n"
     ]
    }
   ],
   "source": [
    "print(\"El distrito con más accidentes del año es : \", df_temp_4.groupby(by=['CALLE']).size().idxmax(), \" con \",df_temp_4.groupby(by=['CALLE']).size().max(), \" accidentes \")"
   ]
  },
  {
   "cell_type": "markdown",
   "metadata": {},
   "source": [
    "**Ejercicio 5:** De las 7 calles con más accidentes del apartado anterior, genera una columna con la longitud de esa calle en metros o km (mismamente buscando en wikipedia) y obten el nº de accidentes por longitud de la calle. Una vez hecho esto podemos ver cual es la calle más propensa a tener accidentes de las 7 seleccionadas."
   ]
  },
  {
   "cell_type": "code",
   "execution_count": 116,
   "metadata": {
    "ExecuteTime": {
     "end_time": "2021-04-09T07:14:12.522838Z",
     "start_time": "2021-04-09T07:14:12.480306Z"
    }
   },
   "outputs": [
    {
     "data": {
      "text/html": [
       "<div>\n",
       "<style scoped>\n",
       "    .dataframe tbody tr th:only-of-type {\n",
       "        vertical-align: middle;\n",
       "    }\n",
       "\n",
       "    .dataframe tbody tr th {\n",
       "        vertical-align: top;\n",
       "    }\n",
       "\n",
       "    .dataframe thead th {\n",
       "        text-align: right;\n",
       "    }\n",
       "</style>\n",
       "<table border=\"1\" class=\"dataframe\">\n",
       "  <thead>\n",
       "    <tr style=\"text-align: right;\">\n",
       "      <th></th>\n",
       "      <th>Accidentes</th>\n",
       "      <th>Longitud</th>\n",
       "      <th>AccidentesxMetro</th>\n",
       "    </tr>\n",
       "  </thead>\n",
       "  <tbody>\n",
       "    <tr>\n",
       "      <th>PASEO. CASTELLANA</th>\n",
       "      <td>309</td>\n",
       "      <td>6300</td>\n",
       "      <td>0.049048</td>\n",
       "    </tr>\n",
       "    <tr>\n",
       "      <th>CALL. ALCALA</th>\n",
       "      <td>276</td>\n",
       "      <td>10500</td>\n",
       "      <td>0.026286</td>\n",
       "    </tr>\n",
       "    <tr>\n",
       "      <th>CALL. BRAVO MURILLO</th>\n",
       "      <td>122</td>\n",
       "      <td>4000</td>\n",
       "      <td>0.030500</td>\n",
       "    </tr>\n",
       "    <tr>\n",
       "      <th>AVDA. ALBUFERA</th>\n",
       "      <td>95</td>\n",
       "      <td>2500</td>\n",
       "      <td>0.038000</td>\n",
       "    </tr>\n",
       "    <tr>\n",
       "      <th>CALL. SERRANO</th>\n",
       "      <td>86</td>\n",
       "      <td>1910</td>\n",
       "      <td>0.045026</td>\n",
       "    </tr>\n",
       "    <tr>\n",
       "      <th>CALL. PRINCIPE DE VERGARA</th>\n",
       "      <td>80</td>\n",
       "      <td>4200</td>\n",
       "      <td>0.019048</td>\n",
       "    </tr>\n",
       "    <tr>\n",
       "      <th>PASEO. SANTA MARIA DE LA CABEZA</th>\n",
       "      <td>77</td>\n",
       "      <td>11500</td>\n",
       "      <td>0.006696</td>\n",
       "    </tr>\n",
       "  </tbody>\n",
       "</table>\n",
       "</div>"
      ],
      "text/plain": [
       "                                 Accidentes  Longitud  AccidentesxMetro\n",
       "PASEO. CASTELLANA                       309      6300          0.049048\n",
       "CALL. ALCALA                            276     10500          0.026286\n",
       "CALL. BRAVO MURILLO                     122      4000          0.030500\n",
       "AVDA. ALBUFERA                           95      2500          0.038000\n",
       "CALL. SERRANO                            86      1910          0.045026\n",
       "CALL. PRINCIPE DE VERGARA                80      4200          0.019048\n",
       "PASEO. SANTA MARIA DE LA CABEZA          77     11500          0.006696"
      ]
     },
     "execution_count": 116,
     "metadata": {},
     "output_type": "execute_result"
    }
   ],
   "source": [
    "df_temp_5=df_temp_4['CALLE'].value_counts(dropna=False).head(7)\n",
    "#df_temp_5.reset_index()\n",
    "df_temp_5=pd.DataFrame({'Accidentes':df_temp_5.values,\n",
    "                       'Longitud':[6300,10500,4000,2500,1910,4200,11500]},\n",
    "                       index=df_temp_5.index\n",
    "                      )\n",
    "# df_temp_5.loc[:,'Longitud']=6#[6300,10500,4000,2500,1910,4200,11500]\n",
    "df_temp_5['AccidentesxMetro']=df_temp_5['Accidentes']/df_temp_5['Longitud']\n",
    "df_temp_5"
   ]
  },
  {
   "cell_type": "code",
   "execution_count": null,
   "metadata": {},
   "outputs": [],
   "source": []
  },
  {
   "cell_type": "markdown",
   "metadata": {},
   "source": [
    "**Ejercicio 6:** Vamos a seleccionar los accidentes donde el tipo de vehículo implicado son las bicicletas. También disponemos del tráfico de bicicletas en Madrid durante el 2019 (BICICLETAS_2019.xlxs). Estudiar si existe algún tipo de correlación entre los distritos con más accidentes con bicicletas implicadas y los distritos donde más se usa la bicicleta (la comparativa puede ser a nivel nº total de accidentes con bicicleta en cada distrito en el año 2019 vs nº de bicicletas usadas por distrito en el año 2019)."
   ]
  },
  {
   "cell_type": "code",
   "execution_count": 152,
   "metadata": {
    "ExecuteTime": {
     "end_time": "2021-04-09T09:53:18.391353Z",
     "start_time": "2021-04-09T09:53:18.341849Z"
    }
   },
   "outputs": [
    {
     "data": {
      "text/html": [
       "<div>\n",
       "<style scoped>\n",
       "    .dataframe tbody tr th:only-of-type {\n",
       "        vertical-align: middle;\n",
       "    }\n",
       "\n",
       "    .dataframe tbody tr th {\n",
       "        vertical-align: top;\n",
       "    }\n",
       "\n",
       "    .dataframe thead th {\n",
       "        text-align: right;\n",
       "    }\n",
       "</style>\n",
       "<table border=\"1\" class=\"dataframe\">\n",
       "  <thead>\n",
       "    <tr style=\"text-align: right;\">\n",
       "      <th></th>\n",
       "      <th>DISTRITO</th>\n",
       "      <th>ACCIDENTES</th>\n",
       "    </tr>\n",
       "  </thead>\n",
       "  <tbody>\n",
       "    <tr>\n",
       "      <th>0</th>\n",
       "      <td>CENTRO</td>\n",
       "      <td>142</td>\n",
       "    </tr>\n",
       "    <tr>\n",
       "      <th>1</th>\n",
       "      <td>ARGANZUELA</td>\n",
       "      <td>72</td>\n",
       "    </tr>\n",
       "    <tr>\n",
       "      <th>2</th>\n",
       "      <td>SALAMANCA</td>\n",
       "      <td>72</td>\n",
       "    </tr>\n",
       "    <tr>\n",
       "      <th>3</th>\n",
       "      <td>CHAMBERÍ</td>\n",
       "      <td>70</td>\n",
       "    </tr>\n",
       "    <tr>\n",
       "      <th>4</th>\n",
       "      <td>RETIRO</td>\n",
       "      <td>59</td>\n",
       "    </tr>\n",
       "    <tr>\n",
       "      <th>5</th>\n",
       "      <td>FUENCARRAL-EL PARDO</td>\n",
       "      <td>49</td>\n",
       "    </tr>\n",
       "    <tr>\n",
       "      <th>6</th>\n",
       "      <td>TETUÁN</td>\n",
       "      <td>45</td>\n",
       "    </tr>\n",
       "    <tr>\n",
       "      <th>7</th>\n",
       "      <td>MONCLOA-ARAVACA</td>\n",
       "      <td>45</td>\n",
       "    </tr>\n",
       "    <tr>\n",
       "      <th>8</th>\n",
       "      <td>CARABANCHEL</td>\n",
       "      <td>43</td>\n",
       "    </tr>\n",
       "    <tr>\n",
       "      <th>9</th>\n",
       "      <td>PUENTE DE VALLECAS</td>\n",
       "      <td>36</td>\n",
       "    </tr>\n",
       "    <tr>\n",
       "      <th>10</th>\n",
       "      <td>CHAMARTÍN</td>\n",
       "      <td>32</td>\n",
       "    </tr>\n",
       "    <tr>\n",
       "      <th>11</th>\n",
       "      <td>LATINA</td>\n",
       "      <td>31</td>\n",
       "    </tr>\n",
       "    <tr>\n",
       "      <th>12</th>\n",
       "      <td>CIUDAD LINEAL</td>\n",
       "      <td>28</td>\n",
       "    </tr>\n",
       "    <tr>\n",
       "      <th>13</th>\n",
       "      <td>USERA</td>\n",
       "      <td>28</td>\n",
       "    </tr>\n",
       "    <tr>\n",
       "      <th>14</th>\n",
       "      <td>HORTALEZA</td>\n",
       "      <td>27</td>\n",
       "    </tr>\n",
       "    <tr>\n",
       "      <th>15</th>\n",
       "      <td>MORATALAZ</td>\n",
       "      <td>26</td>\n",
       "    </tr>\n",
       "    <tr>\n",
       "      <th>16</th>\n",
       "      <td>SAN BLAS-CANILLEJAS</td>\n",
       "      <td>20</td>\n",
       "    </tr>\n",
       "    <tr>\n",
       "      <th>17</th>\n",
       "      <td>VILLA DE VALLECAS</td>\n",
       "      <td>19</td>\n",
       "    </tr>\n",
       "    <tr>\n",
       "      <th>18</th>\n",
       "      <td>VILLAVERDE</td>\n",
       "      <td>18</td>\n",
       "    </tr>\n",
       "    <tr>\n",
       "      <th>19</th>\n",
       "      <td>BARAJAS</td>\n",
       "      <td>13</td>\n",
       "    </tr>\n",
       "    <tr>\n",
       "      <th>20</th>\n",
       "      <td>VICÁLVARO</td>\n",
       "      <td>9</td>\n",
       "    </tr>\n",
       "  </tbody>\n",
       "</table>\n",
       "</div>"
      ],
      "text/plain": [
       "               DISTRITO  ACCIDENTES\n",
       "0                CENTRO         142\n",
       "1            ARGANZUELA          72\n",
       "2             SALAMANCA          72\n",
       "3              CHAMBERÍ          70\n",
       "4                RETIRO          59\n",
       "5   FUENCARRAL-EL PARDO          49\n",
       "6                TETUÁN          45\n",
       "7       MONCLOA-ARAVACA          45\n",
       "8           CARABANCHEL          43\n",
       "9    PUENTE DE VALLECAS          36\n",
       "10            CHAMARTÍN          32\n",
       "11               LATINA          31\n",
       "12        CIUDAD LINEAL          28\n",
       "13                USERA          28\n",
       "14            HORTALEZA          27\n",
       "15            MORATALAZ          26\n",
       "16  SAN BLAS-CANILLEJAS          20\n",
       "17    VILLA DE VALLECAS          19\n",
       "18           VILLAVERDE          18\n",
       "19              BARAJAS          13\n",
       "20            VICÁLVARO           9"
      ]
     },
     "execution_count": 152,
     "metadata": {},
     "output_type": "execute_result"
    }
   ],
   "source": [
    "s_accidentes_bici=df[df['TIPO VEHÍCULO']=='Bicicleta']['DISTRITO'].value_counts()\n",
    "df_accidentes_bici=pd.DataFrame({'DISTRITO':s_accidentes_bici.index,\n",
    "                                'ACCIDENTES':s_accidentes_bici.values})\n",
    "df_accidentes_bici\n"
   ]
  },
  {
   "cell_type": "code",
   "execution_count": 131,
   "metadata": {
    "ExecuteTime": {
     "end_time": "2021-04-09T07:34:47.560231Z",
     "start_time": "2021-04-09T07:31:56.549033Z"
    }
   },
   "outputs": [],
   "source": [
    "df_uso_bicis=pd.read_excel('BICICLETAS_2019.xlsx')"
   ]
  },
  {
   "cell_type": "code",
   "execution_count": 90,
   "metadata": {
    "ExecuteTime": {
     "end_time": "2021-04-08T20:13:47.802937Z",
     "start_time": "2021-04-08T20:13:47.525765Z"
    },
    "scrolled": true
   },
   "outputs": [
    {
     "name": "stdout",
     "output_type": "stream",
     "text": [
      "<class 'pandas.core.frame.DataFrame'>\n",
      "RangeIndex: 598342 entries, 0 to 598341\n",
      "Data columns (total 12 columns):\n",
      " #   Column                   Non-Null Count   Dtype         \n",
      "---  ------                   --------------   -----         \n",
      " 0   FECHA                    598342 non-null  datetime64[ns]\n",
      " 1   HORA                     598342 non-null  object        \n",
      " 2   IDENTIFICADOR            598342 non-null  object        \n",
      " 3   BICICLETAS               598342 non-null  int64         \n",
      " 4   NÚMERO_DISTRITO          598342 non-null  int64         \n",
      " 5   DISTRITO                 598342 non-null  object        \n",
      " 6   NOMBRE_VIAL              598342 non-null  object        \n",
      " 7   NÚMERO                   598342 non-null  object        \n",
      " 8   CÓDIGO_POSTAL            598342 non-null  int64         \n",
      " 9   OBSERVACIONES_DIRECCION  598342 non-null  object        \n",
      " 10  LATITUD                  598342 non-null  float64       \n",
      " 11  LONGITUD                 598342 non-null  float64       \n",
      "dtypes: datetime64[ns](1), float64(2), int64(3), object(6)\n",
      "memory usage: 54.8+ MB\n"
     ]
    }
   ],
   "source": [
    "df_uso_bicis.info()"
   ]
  },
  {
   "cell_type": "code",
   "execution_count": 138,
   "metadata": {
    "ExecuteTime": {
     "end_time": "2021-04-09T09:44:52.138634Z",
     "start_time": "2021-04-09T09:44:52.109513Z"
    },
    "scrolled": true
   },
   "outputs": [
    {
     "data": {
      "text/html": [
       "<div>\n",
       "<style scoped>\n",
       "    .dataframe tbody tr th:only-of-type {\n",
       "        vertical-align: middle;\n",
       "    }\n",
       "\n",
       "    .dataframe tbody tr th {\n",
       "        vertical-align: top;\n",
       "    }\n",
       "\n",
       "    .dataframe thead th {\n",
       "        text-align: right;\n",
       "    }\n",
       "</style>\n",
       "<table border=\"1\" class=\"dataframe\">\n",
       "  <thead>\n",
       "    <tr style=\"text-align: right;\">\n",
       "      <th></th>\n",
       "      <th>FECHA</th>\n",
       "      <th>HORA</th>\n",
       "      <th>IDENTIFICADOR</th>\n",
       "      <th>BICICLETAS</th>\n",
       "      <th>NÚMERO_DISTRITO</th>\n",
       "      <th>DISTRITO</th>\n",
       "      <th>NOMBRE_VIAL</th>\n",
       "      <th>NÚMERO</th>\n",
       "      <th>CÓDIGO_POSTAL</th>\n",
       "      <th>OBSERVACIONES_DIRECCION</th>\n",
       "      <th>LATITUD</th>\n",
       "      <th>LONGITUD</th>\n",
       "    </tr>\n",
       "  </thead>\n",
       "  <tbody>\n",
       "    <tr>\n",
       "      <th>0</th>\n",
       "      <td>2019-01-01</td>\n",
       "      <td>00:00:00</td>\n",
       "      <td>PERM_BICI01_PM01</td>\n",
       "      <td>0</td>\n",
       "      <td>2</td>\n",
       "      <td>Arganzuela</td>\n",
       "      <td>Calle de Toledo</td>\n",
       "      <td>178</td>\n",
       "      <td>28005</td>\n",
       "      <td>Sentido Gta. Pirámides Datos en prueba</td>\n",
       "      <td>40.401882</td>\n",
       "      <td>-3.713965</td>\n",
       "    </tr>\n",
       "    <tr>\n",
       "      <th>1</th>\n",
       "      <td>2019-01-01</td>\n",
       "      <td>00:15:00</td>\n",
       "      <td>PERM_BICI01_PM01</td>\n",
       "      <td>0</td>\n",
       "      <td>2</td>\n",
       "      <td>Arganzuela</td>\n",
       "      <td>Calle de Toledo</td>\n",
       "      <td>178</td>\n",
       "      <td>28005</td>\n",
       "      <td>Sentido Gta. Pirámides Datos en prueba</td>\n",
       "      <td>40.401882</td>\n",
       "      <td>-3.713965</td>\n",
       "    </tr>\n",
       "    <tr>\n",
       "      <th>2</th>\n",
       "      <td>2019-01-01</td>\n",
       "      <td>00:30:00</td>\n",
       "      <td>PERM_BICI01_PM01</td>\n",
       "      <td>0</td>\n",
       "      <td>2</td>\n",
       "      <td>Arganzuela</td>\n",
       "      <td>Calle de Toledo</td>\n",
       "      <td>178</td>\n",
       "      <td>28005</td>\n",
       "      <td>Sentido Gta. Pirámides Datos en prueba</td>\n",
       "      <td>40.401882</td>\n",
       "      <td>-3.713965</td>\n",
       "    </tr>\n",
       "    <tr>\n",
       "      <th>3</th>\n",
       "      <td>2019-01-01</td>\n",
       "      <td>00:45:00</td>\n",
       "      <td>PERM_BICI01_PM01</td>\n",
       "      <td>0</td>\n",
       "      <td>2</td>\n",
       "      <td>Arganzuela</td>\n",
       "      <td>Calle de Toledo</td>\n",
       "      <td>178</td>\n",
       "      <td>28005</td>\n",
       "      <td>Sentido Gta. Pirámides Datos en prueba</td>\n",
       "      <td>40.401882</td>\n",
       "      <td>-3.713965</td>\n",
       "    </tr>\n",
       "    <tr>\n",
       "      <th>4</th>\n",
       "      <td>2019-01-01</td>\n",
       "      <td>01:00:00</td>\n",
       "      <td>PERM_BICI01_PM01</td>\n",
       "      <td>0</td>\n",
       "      <td>2</td>\n",
       "      <td>Arganzuela</td>\n",
       "      <td>Calle de Toledo</td>\n",
       "      <td>178</td>\n",
       "      <td>28005</td>\n",
       "      <td>Sentido Gta. Pirámides Datos en prueba</td>\n",
       "      <td>40.401882</td>\n",
       "      <td>-3.713965</td>\n",
       "    </tr>\n",
       "  </tbody>\n",
       "</table>\n",
       "</div>"
      ],
      "text/plain": [
       "       FECHA      HORA     IDENTIFICADOR  BICICLETAS  NÚMERO_DISTRITO  \\\n",
       "0 2019-01-01  00:00:00  PERM_BICI01_PM01           0                2   \n",
       "1 2019-01-01  00:15:00  PERM_BICI01_PM01           0                2   \n",
       "2 2019-01-01  00:30:00  PERM_BICI01_PM01           0                2   \n",
       "3 2019-01-01  00:45:00  PERM_BICI01_PM01           0                2   \n",
       "4 2019-01-01  01:00:00  PERM_BICI01_PM01           0                2   \n",
       "\n",
       "      DISTRITO      NOMBRE_VIAL NÚMERO  CÓDIGO_POSTAL  \\\n",
       "0   Arganzuela  Calle de Toledo    178          28005   \n",
       "1   Arganzuela  Calle de Toledo    178          28005   \n",
       "2   Arganzuela  Calle de Toledo    178          28005   \n",
       "3   Arganzuela  Calle de Toledo    178          28005   \n",
       "4   Arganzuela  Calle de Toledo    178          28005   \n",
       "\n",
       "                  OBSERVACIONES_DIRECCION    LATITUD  LONGITUD  \n",
       "0  Sentido Gta. Pirámides Datos en prueba  40.401882 -3.713965  \n",
       "1  Sentido Gta. Pirámides Datos en prueba  40.401882 -3.713965  \n",
       "2  Sentido Gta. Pirámides Datos en prueba  40.401882 -3.713965  \n",
       "3  Sentido Gta. Pirámides Datos en prueba  40.401882 -3.713965  \n",
       "4  Sentido Gta. Pirámides Datos en prueba  40.401882 -3.713965  "
      ]
     },
     "execution_count": 138,
     "metadata": {},
     "output_type": "execute_result"
    }
   ],
   "source": [
    "df_uso_bicis.head()"
   ]
  },
  {
   "cell_type": "code",
   "execution_count": 155,
   "metadata": {
    "ExecuteTime": {
     "end_time": "2021-04-09T09:54:14.860979Z",
     "start_time": "2021-04-09T09:54:14.754960Z"
    },
    "scrolled": true
   },
   "outputs": [
    {
     "data": {
      "text/html": [
       "<div>\n",
       "<style scoped>\n",
       "    .dataframe tbody tr th:only-of-type {\n",
       "        vertical-align: middle;\n",
       "    }\n",
       "\n",
       "    .dataframe tbody tr th {\n",
       "        vertical-align: top;\n",
       "    }\n",
       "\n",
       "    .dataframe thead th {\n",
       "        text-align: right;\n",
       "    }\n",
       "</style>\n",
       "<table border=\"1\" class=\"dataframe\">\n",
       "  <thead>\n",
       "    <tr style=\"text-align: right;\">\n",
       "      <th></th>\n",
       "      <th>DISTRITO</th>\n",
       "      <th>BICICLETAS</th>\n",
       "    </tr>\n",
       "  </thead>\n",
       "  <tbody>\n",
       "    <tr>\n",
       "      <th>0</th>\n",
       "      <td>ARGANZUELA</td>\n",
       "      <td>273015</td>\n",
       "    </tr>\n",
       "    <tr>\n",
       "      <th>1</th>\n",
       "      <td>CARABANCHEL</td>\n",
       "      <td>62404</td>\n",
       "    </tr>\n",
       "    <tr>\n",
       "      <th>2</th>\n",
       "      <td>CENTRO</td>\n",
       "      <td>253081</td>\n",
       "    </tr>\n",
       "    <tr>\n",
       "      <th>3</th>\n",
       "      <td>CHAMBERÍ</td>\n",
       "      <td>728878</td>\n",
       "    </tr>\n",
       "    <tr>\n",
       "      <th>4</th>\n",
       "      <td>CIUDAD LINEAL</td>\n",
       "      <td>51549</td>\n",
       "    </tr>\n",
       "    <tr>\n",
       "      <th>5</th>\n",
       "      <td>FUENCARRAL-EL PARDO</td>\n",
       "      <td>287069</td>\n",
       "    </tr>\n",
       "    <tr>\n",
       "      <th>6</th>\n",
       "      <td>HORTALEZA</td>\n",
       "      <td>184763</td>\n",
       "    </tr>\n",
       "    <tr>\n",
       "      <th>7</th>\n",
       "      <td>LATINA</td>\n",
       "      <td>1108190</td>\n",
       "    </tr>\n",
       "    <tr>\n",
       "      <th>8</th>\n",
       "      <td>MONCLOA-ARAVACA</td>\n",
       "      <td>58604</td>\n",
       "    </tr>\n",
       "    <tr>\n",
       "      <th>9</th>\n",
       "      <td>MORATALAZ</td>\n",
       "      <td>134215</td>\n",
       "    </tr>\n",
       "    <tr>\n",
       "      <th>10</th>\n",
       "      <td>PUENTE DE VALLECAS</td>\n",
       "      <td>128349</td>\n",
       "    </tr>\n",
       "    <tr>\n",
       "      <th>11</th>\n",
       "      <td>SALAMANCA</td>\n",
       "      <td>555178</td>\n",
       "    </tr>\n",
       "  </tbody>\n",
       "</table>\n",
       "</div>"
      ],
      "text/plain": [
       "               DISTRITO  BICICLETAS\n",
       "0            ARGANZUELA      273015\n",
       "1           CARABANCHEL       62404\n",
       "2                CENTRO      253081\n",
       "3              CHAMBERÍ      728878\n",
       "4         CIUDAD LINEAL       51549\n",
       "5   FUENCARRAL-EL PARDO      287069\n",
       "6             HORTALEZA      184763\n",
       "7                LATINA     1108190\n",
       "8       MONCLOA-ARAVACA       58604\n",
       "9             MORATALAZ      134215\n",
       "10   PUENTE DE VALLECAS      128349\n",
       "11            SALAMANCA      555178"
      ]
     },
     "execution_count": 155,
     "metadata": {},
     "output_type": "execute_result"
    }
   ],
   "source": [
    "df_uso_bicis_distrito=df_uso_bicis.groupby('DISTRITO').agg({'BICICLETAS':sum})\n",
    "df_uso_bicis_distrito=df_uso_bicis_distrito.reset_index()\n",
    "df_uso_bicis_distrito['DISTRITO']=df_uso_bicis_distrito['DISTRITO'].str[1:].str.upper()\n",
    "df_uso_bicis_distrito\n",
    "#df_uso_bicis.groupby(by=['DISTRITO','BICICLETAS']).size()"
   ]
  },
  {
   "cell_type": "code",
   "execution_count": 157,
   "metadata": {
    "ExecuteTime": {
     "end_time": "2021-04-09T09:55:46.598819Z",
     "start_time": "2021-04-09T09:55:46.572786Z"
    }
   },
   "outputs": [
    {
     "data": {
      "text/html": [
       "<div>\n",
       "<style scoped>\n",
       "    .dataframe tbody tr th:only-of-type {\n",
       "        vertical-align: middle;\n",
       "    }\n",
       "\n",
       "    .dataframe tbody tr th {\n",
       "        vertical-align: top;\n",
       "    }\n",
       "\n",
       "    .dataframe thead th {\n",
       "        text-align: right;\n",
       "    }\n",
       "</style>\n",
       "<table border=\"1\" class=\"dataframe\">\n",
       "  <thead>\n",
       "    <tr style=\"text-align: right;\">\n",
       "      <th></th>\n",
       "      <th>DISTRITO</th>\n",
       "      <th>ACCIDENTES</th>\n",
       "      <th>BICICLETAS</th>\n",
       "    </tr>\n",
       "  </thead>\n",
       "  <tbody>\n",
       "    <tr>\n",
       "      <th>0</th>\n",
       "      <td>CENTRO</td>\n",
       "      <td>142</td>\n",
       "      <td>253081</td>\n",
       "    </tr>\n",
       "    <tr>\n",
       "      <th>1</th>\n",
       "      <td>ARGANZUELA</td>\n",
       "      <td>72</td>\n",
       "      <td>273015</td>\n",
       "    </tr>\n",
       "    <tr>\n",
       "      <th>2</th>\n",
       "      <td>SALAMANCA</td>\n",
       "      <td>72</td>\n",
       "      <td>555178</td>\n",
       "    </tr>\n",
       "    <tr>\n",
       "      <th>3</th>\n",
       "      <td>CHAMBERÍ</td>\n",
       "      <td>70</td>\n",
       "      <td>728878</td>\n",
       "    </tr>\n",
       "    <tr>\n",
       "      <th>4</th>\n",
       "      <td>FUENCARRAL-EL PARDO</td>\n",
       "      <td>49</td>\n",
       "      <td>287069</td>\n",
       "    </tr>\n",
       "    <tr>\n",
       "      <th>5</th>\n",
       "      <td>MONCLOA-ARAVACA</td>\n",
       "      <td>45</td>\n",
       "      <td>58604</td>\n",
       "    </tr>\n",
       "    <tr>\n",
       "      <th>6</th>\n",
       "      <td>CARABANCHEL</td>\n",
       "      <td>43</td>\n",
       "      <td>62404</td>\n",
       "    </tr>\n",
       "    <tr>\n",
       "      <th>7</th>\n",
       "      <td>PUENTE DE VALLECAS</td>\n",
       "      <td>36</td>\n",
       "      <td>128349</td>\n",
       "    </tr>\n",
       "    <tr>\n",
       "      <th>8</th>\n",
       "      <td>LATINA</td>\n",
       "      <td>31</td>\n",
       "      <td>1108190</td>\n",
       "    </tr>\n",
       "    <tr>\n",
       "      <th>9</th>\n",
       "      <td>CIUDAD LINEAL</td>\n",
       "      <td>28</td>\n",
       "      <td>51549</td>\n",
       "    </tr>\n",
       "    <tr>\n",
       "      <th>10</th>\n",
       "      <td>HORTALEZA</td>\n",
       "      <td>27</td>\n",
       "      <td>184763</td>\n",
       "    </tr>\n",
       "    <tr>\n",
       "      <th>11</th>\n",
       "      <td>MORATALAZ</td>\n",
       "      <td>26</td>\n",
       "      <td>134215</td>\n",
       "    </tr>\n",
       "  </tbody>\n",
       "</table>\n",
       "</div>"
      ],
      "text/plain": [
       "               DISTRITO  ACCIDENTES  BICICLETAS\n",
       "0                CENTRO         142      253081\n",
       "1            ARGANZUELA          72      273015\n",
       "2             SALAMANCA          72      555178\n",
       "3              CHAMBERÍ          70      728878\n",
       "4   FUENCARRAL-EL PARDO          49      287069\n",
       "5       MONCLOA-ARAVACA          45       58604\n",
       "6           CARABANCHEL          43       62404\n",
       "7    PUENTE DE VALLECAS          36      128349\n",
       "8                LATINA          31     1108190\n",
       "9         CIUDAD LINEAL          28       51549\n",
       "10            HORTALEZA          27      184763\n",
       "11            MORATALAZ          26      134215"
      ]
     },
     "execution_count": 157,
     "metadata": {},
     "output_type": "execute_result"
    }
   ],
   "source": [
    "pd.merge(df_accidentes_bici, df_uso_bicis_distrito, how='inner', left_on='DISTRITO', right_on='DISTRITO')"
   ]
  },
  {
   "cell_type": "markdown",
   "metadata": {},
   "source": [
    "**Ejercicio 7:** Por último, tambien disponemos de los accidentes en 2020 (`2020_Accidentalidad.xlsx`). Comparar la serie mensual del nº de accidentes en 2019 vs 2020 y ver cuanto se han reducidos los accidentes cada mes debido al efecto del confinamiento."
   ]
  },
  {
   "cell_type": "code",
   "execution_count": null,
   "metadata": {
    "ExecuteTime": {
     "end_time": "2021-04-09T09:24:09.008334Z",
     "start_time": "2021-04-09T09:24:08.958060Z"
    }
   },
   "outputs": [],
   "source": []
  },
  {
   "cell_type": "code",
   "execution_count": null,
   "metadata": {
    "ExecuteTime": {
     "end_time": "2021-04-09T09:44:29.296783Z",
     "start_time": "2021-04-09T09:44:29.189749Z"
    }
   },
   "outputs": [],
   "source": []
  }
 ],
 "metadata": {
  "kernelspec": {
   "display_name": "Python 3",
   "language": "python",
   "name": "python3"
  },
  "language_info": {
   "codemirror_mode": {
    "name": "ipython",
    "version": 3
   },
   "file_extension": ".py",
   "mimetype": "text/x-python",
   "name": "python",
   "nbconvert_exporter": "python",
   "pygments_lexer": "ipython3",
   "version": "3.8.5"
  },
  "toc": {
   "base_numbering": 1,
   "nav_menu": {},
   "number_sections": true,
   "sideBar": true,
   "skip_h1_title": false,
   "title_cell": "Table of Contents",
   "title_sidebar": "Contents",
   "toc_cell": false,
   "toc_position": {
    "height": "calc(100% - 180px)",
    "left": "10px",
    "top": "150px",
    "width": "177px"
   },
   "toc_section_display": true,
   "toc_window_display": true
  },
  "varInspector": {
   "cols": {
    "lenName": 16,
    "lenType": 16,
    "lenVar": 40
   },
   "kernels_config": {
    "python": {
     "delete_cmd_postfix": "",
     "delete_cmd_prefix": "del ",
     "library": "var_list.py",
     "varRefreshCmd": "print(var_dic_list())"
    },
    "r": {
     "delete_cmd_postfix": ") ",
     "delete_cmd_prefix": "rm(",
     "library": "var_list.r",
     "varRefreshCmd": "cat(var_dic_list()) "
    }
   },
   "types_to_exclude": [
    "module",
    "function",
    "builtin_function_or_method",
    "instance",
    "_Feature"
   ],
   "window_display": false
  }
 },
 "nbformat": 4,
 "nbformat_minor": 2
}
