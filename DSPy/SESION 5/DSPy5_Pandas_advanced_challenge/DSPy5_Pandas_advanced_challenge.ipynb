{
 "cells": [
  {
   "cell_type": "markdown",
   "metadata": {},
   "source": [
    "<h1>Table of Contents<span class=\"tocSkip\"></span></h1>\n",
    "<div class=\"toc\"><ul class=\"toc-item\"></ul></div>"
   ]
  },
  {
   "cell_type": "markdown",
   "metadata": {},
   "source": [
    "<img src=\"mioti.png\" style=\"height: 80px\">\n",
    "\n",
    "<center style=\"color:#888\">Data Science with Python</center>\n",
    "\n",
    "# DSPy5 Pandas \"advanced\". Challenge Solutions."
   ]
  },
  {
   "cell_type": "markdown",
   "metadata": {},
   "source": [
    "<img src=\"madrid_atasco.jpg\" style=\"width:800px\">"
   ]
  },
  {
   "cell_type": "markdown",
   "metadata": {},
   "source": [
    "**Inicialización**"
   ]
  },
  {
   "cell_type": "code",
   "execution_count": null,
   "metadata": {},
   "outputs": [],
   "source": [
    "%matplotlib inline\n",
    "import numpy as np\n",
    "import pandas as pd\n",
    "import matplotlib.pyplot as plt\n",
    "from matplotlib import rcParams\n",
    "rcParams['figure.figsize'] = (16, 9)"
   ]
  },
  {
   "cell_type": "markdown",
   "metadata": {},
   "source": [
    "Vamos a trabajar con el dataset del número de accidentes de tráfico en Madrid durante el 2019 (fuente: [https://datos.madrid.es/](https://datos.madrid.es/)). Fichero explicativo: `Estructura_DS_Accidentes_trafico_desde_2019.pdf`"
   ]
  },
  {
   "cell_type": "code",
   "execution_count": null,
   "metadata": {},
   "outputs": [],
   "source": [
    "df=pd.read_excel('2019_Accidentalidad.xlsx')"
   ]
  },
  {
   "cell_type": "markdown",
   "metadata": {},
   "source": [
    "**Ejercicio 1:** ¿Quién está implicado en más accidentes de tráfico, los hombres o las mujeres? ¿Y en función del rango de edad? ¿Hay alguna franja de edad en la que las mujeres esten implicadas en más accidentes que los hombres?"
   ]
  },
  {
   "cell_type": "code",
   "execution_count": null,
   "metadata": {},
   "outputs": [],
   "source": []
  },
  {
   "cell_type": "code",
   "execution_count": null,
   "metadata": {},
   "outputs": [],
   "source": []
  },
  {
   "cell_type": "markdown",
   "metadata": {},
   "source": [
    "**Ejercicio 2:** Para el rango de edad para el cual hemos obtenido que hay más accidentes de tráfico con mujeres implicadas que con hombres, ¿esas mujeres eran conductoras, peatones o pasajeras? Para los casos en los que era conductora, ¿había alguna saltándose la ley y conduciendo un vehículo para el que necesitas carnet?"
   ]
  },
  {
   "cell_type": "code",
   "execution_count": null,
   "metadata": {},
   "outputs": [],
   "source": []
  },
  {
   "cell_type": "code",
   "execution_count": null,
   "metadata": {},
   "outputs": [],
   "source": []
  },
  {
   "cell_type": "markdown",
   "metadata": {},
   "source": [
    "**Ejercicio 3:** ¿Cuál fue el día del año en el que hubo más accidentes? Haz un plot del nº de accidentes por mes del año ¿Es el número de accidentes constante a lo largo de los meses de 2019?. _Hint: mismo Nº EXPEDIENTE implica que se trata del mismo accidente donde hay varios implicados y por lo tanto solo hay que contarlo una vez."
   ]
  },
  {
   "cell_type": "code",
   "execution_count": null,
   "metadata": {},
   "outputs": [],
   "source": []
  },
  {
   "cell_type": "code",
   "execution_count": null,
   "metadata": {},
   "outputs": [],
   "source": []
  },
  {
   "cell_type": "markdown",
   "metadata": {},
   "source": [
    "**Ejercicio 4:** ¿Cuál fue el distrito con más accidentes? ¿y la calle? _Hint: de nuevo recordar que estamos hablando de nº de accidentes y el campo Nº EXPEDIENTE puede aparecer tantas veces como personas haya habido involucradas en el accidente."
   ]
  },
  {
   "cell_type": "code",
   "execution_count": null,
   "metadata": {},
   "outputs": [],
   "source": []
  },
  {
   "cell_type": "code",
   "execution_count": null,
   "metadata": {},
   "outputs": [],
   "source": []
  },
  {
   "cell_type": "markdown",
   "metadata": {},
   "source": [
    "**Ejercicio 5:** De las 7 calles con más accidentes del apartado anterior, genera una columna con la longitud de esa calle en metros o km (mismamente buscando en wikipedia) y obten el nº de accidentes por longitud de la calle. Una vez hecho esto podemos ver cual es la calle más propensa a tener accidentes de las 7 seleccionadas."
   ]
  },
  {
   "cell_type": "code",
   "execution_count": null,
   "metadata": {},
   "outputs": [],
   "source": []
  },
  {
   "cell_type": "code",
   "execution_count": null,
   "metadata": {},
   "outputs": [],
   "source": []
  },
  {
   "cell_type": "markdown",
   "metadata": {},
   "source": [
    "**Ejercicio 6:** Vamos a seleccionar los accidentes donde el tipo de vehículo implicado son las bicicletas. También disponemos del tráfico de bicicletas en Madrid durante el 2019 (BICICLETAS_2019.xlxs). Estudiar si existe algún tipo de correlación entre los distritos con más accidentes con bicicletas implicadas y los distritos donde más se usa la bicicleta (la comparativa puede ser a nivel nº total de accidentes con bicicleta en cada distrito en el año 2019 vs nº de bicicletas usadas por distrito en el año 2019)."
   ]
  },
  {
   "cell_type": "code",
   "execution_count": null,
   "metadata": {},
   "outputs": [],
   "source": []
  },
  {
   "cell_type": "code",
   "execution_count": null,
   "metadata": {},
   "outputs": [],
   "source": []
  },
  {
   "cell_type": "markdown",
   "metadata": {},
   "source": [
    "**Ejercicio 7:** Por último, tambien disponemos de los accidentes en 2020 (`2020_Accidentalidad.xlsx`). Comparar la serie mensual del nº de accidentes en 2019 vs 2020 y ver cuanto se han reducidos los accidentes cada mes debido al efecto del confinamiento."
   ]
  },
  {
   "cell_type": "code",
   "execution_count": null,
   "metadata": {},
   "outputs": [],
   "source": []
  },
  {
   "cell_type": "code",
   "execution_count": null,
   "metadata": {},
   "outputs": [],
   "source": []
  }
 ],
 "metadata": {
  "kernelspec": {
   "display_name": "Python 3",
   "language": "python",
   "name": "python3"
  },
  "language_info": {
   "codemirror_mode": {
    "name": "ipython",
    "version": 3
   },
   "file_extension": ".py",
   "mimetype": "text/x-python",
   "name": "python",
   "nbconvert_exporter": "python",
   "pygments_lexer": "ipython3",
   "version": "3.7.4"
  },
  "toc": {
   "base_numbering": 1,
   "nav_menu": {},
   "number_sections": true,
   "sideBar": true,
   "skip_h1_title": false,
   "title_cell": "Table of Contents",
   "title_sidebar": "Contents",
   "toc_cell": false,
   "toc_position": {
    "height": "calc(100% - 180px)",
    "left": "10px",
    "top": "150px",
    "width": "177px"
   },
   "toc_section_display": true,
   "toc_window_display": true
  }
 },
 "nbformat": 4,
 "nbformat_minor": 2
}
