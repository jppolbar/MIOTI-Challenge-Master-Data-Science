{
 "cells": [
  {
   "cell_type": "markdown",
   "metadata": {},
   "source": [
    "<img src=\"mioti.png\" style=\"height: 100px\">\n",
    "<center style=\"color:#888\">Data Science with Python </center>\n",
    "\n",
    "# DSPy1. NumPy basics. Challenge"
   ]
  },
  {
   "cell_type": "markdown",
   "metadata": {
    "toc": true
   },
   "source": [
    "<h1>Table of Contents<span class=\"tocSkip\"></span></h1>\n",
    "<div class=\"toc\"><ul class=\"toc-item\"><li><span><a href=\"#Basic-slicing\" data-toc-modified-id=\"Basic-slicing-1\"><span class=\"toc-item-num\">1&nbsp;&nbsp;</span>Basic slicing</a></span></li><li><span><a href=\"#A-bit-more-of-slicing\" data-toc-modified-id=\"A-bit-more-of-slicing-2\"><span class=\"toc-item-num\">2&nbsp;&nbsp;</span>A bit more of slicing</a></span></li><li><span><a href=\"#Working-with-pics\" data-toc-modified-id=\"Working-with-pics-3\"><span class=\"toc-item-num\">3&nbsp;&nbsp;</span>Working with pics</a></span><ul class=\"toc-item\"><li><span><a href=\"#Aplicando-filtros-a-imagenes\" data-toc-modified-id=\"Aplicando-filtros-a-imagenes-3.1\"><span class=\"toc-item-num\">3.1&nbsp;&nbsp;</span>Aplicando filtros a imagenes</a></span></li></ul></li></ul></div>"
   ]
  },
  {
   "cell_type": "code",
   "execution_count": 1,
   "metadata": {},
   "outputs": [],
   "source": [
    "import numpy as np"
   ]
  },
  {
   "cell_type": "markdown",
   "metadata": {},
   "source": [
    "## Basic slicing"
   ]
  },
  {
   "cell_type": "markdown",
   "metadata": {},
   "source": [
    "<img src=\"slicing.png\" style=\"height: 200px\">\n",
    "\n",
    "Dado el siguiente array 2d:"
   ]
  },
  {
   "cell_type": "code",
   "execution_count": 2,
   "metadata": {},
   "outputs": [
    {
     "data": {
      "text/plain": [
       "array([[0, 1, 2],\n",
       "       [3, 4, 5],\n",
       "       [6, 7, 8]])"
      ]
     },
     "execution_count": 2,
     "metadata": {},
     "output_type": "execute_result"
    }
   ],
   "source": [
    "array2d = np.arange(9).reshape(3,3)\n",
    "array2d"
   ]
  },
  {
   "cell_type": "markdown",
   "metadata": {},
   "source": [
    "Selecciona cada una de las zonas sombreadas en la imagen superior:"
   ]
  },
  {
   "cell_type": "code",
   "execution_count": null,
   "metadata": {},
   "outputs": [],
   "source": [
    "# Upper-right square"
   ]
  },
  {
   "cell_type": "code",
   "execution_count": null,
   "metadata": {},
   "outputs": [],
   "source": [
    "# Last row"
   ]
  },
  {
   "cell_type": "code",
   "execution_count": null,
   "metadata": {},
   "outputs": [],
   "source": [
    "# First two columns"
   ]
  },
  {
   "cell_type": "code",
   "execution_count": null,
   "metadata": {},
   "outputs": [],
   "source": [
    "# Middle row without last column"
   ]
  },
  {
   "cell_type": "markdown",
   "metadata": {},
   "source": [
    "## A bit more of slicing\n",
    "\n",
    "* Crea una matriz tamaño n x m de todo ceros, rodeada de 1s. "
   ]
  },
  {
   "cell_type": "code",
   "execution_count": null,
   "metadata": {},
   "outputs": [],
   "source": [
    "n = 4\n",
    "m = 9\n"
   ]
  },
  {
   "cell_type": "markdown",
   "metadata": {},
   "source": [
    "* Crea una matriz con patrón de tablero de ajedrez. Las casillas negras serán 0, las blancas 1.\n",
    "<img src=\"chess.png\" style=\"height: 300px\">\n"
   ]
  },
  {
   "cell_type": "code",
   "execution_count": null,
   "metadata": {},
   "outputs": [],
   "source": []
  },
  {
   "cell_type": "markdown",
   "metadata": {},
   "source": [
    "## Working with pics"
   ]
  },
  {
   "cell_type": "markdown",
   "metadata": {},
   "source": [
    "El siguiente código carga una imagen de Internet y la convierte en un array multidimensional:"
   ]
  },
  {
   "cell_type": "code",
   "execution_count": null,
   "metadata": {},
   "outputs": [],
   "source": [
    "import imageio\n",
    "import PIL\n",
    "\n",
    "# Reads the image into RGB numpy array\n",
    "img = imageio.imread('https://bit.ly/33iZhPz')\n",
    "\n",
    "# Shows the numpy array as a picture\n",
    "PIL.Image.fromarray(img)\n"
   ]
  },
  {
   "cell_type": "markdown",
   "metadata": {},
   "source": [
    "* ¿Cómo podríamos aplicarle un tinte verde a la imagen?"
   ]
  },
  {
   "cell_type": "code",
   "execution_count": null,
   "metadata": {},
   "outputs": [],
   "source": []
  },
  {
   "cell_type": "markdown",
   "metadata": {},
   "source": [
    "* ¿Cómo la convertiríamos a escala de grises? (sin usar funciones... ¡operando con el array!)"
   ]
  },
  {
   "cell_type": "code",
   "execution_count": null,
   "metadata": {},
   "outputs": [],
   "source": []
  },
  {
   "cell_type": "markdown",
   "metadata": {},
   "source": [
    "* Recorta la imagen para quedarse con la cara de Pikachu:"
   ]
  },
  {
   "cell_type": "code",
   "execution_count": null,
   "metadata": {},
   "outputs": [],
   "source": []
  },
  {
   "cell_type": "markdown",
   "metadata": {},
   "source": [
    "* Aplica a la imagen una rotación de 180 grados:"
   ]
  },
  {
   "cell_type": "code",
   "execution_count": null,
   "metadata": {},
   "outputs": [],
   "source": []
  },
  {
   "cell_type": "markdown",
   "metadata": {},
   "source": [
    "### Aplicando filtros a imagenes"
   ]
  },
  {
   "cell_type": "markdown",
   "metadata": {},
   "source": [
    "Los algoritmos de computer vision realizan un filtrado de las imágenes para quedarse con sus principales características y para crear de una misma imagen un conjunto más amplio con el que entrenar al modelo. En este ejercicio se pide aplicar el filtrado de la media (para difuminar una imagen) y la mediana (para disminuir el ruido). Más información acerca de los diferente tipos de filtros [aqui](https://medium.com/image-vision/noise-filtering-in-digital-image-processing-d12b5266847c)."
   ]
  },
  {
   "cell_type": "markdown",
   "metadata": {},
   "source": [
    "* Primero vamos aplicar el filtro de la media a la imagen original de Pikachu. Para ello tenemos que ir recorriendo cada pixel de la imagen y generando una ventana (kernel) de tamaño n (el tamaño de la ventana va a ser simétrico en las dos dimensiones) que este centrada en el pixel, calcule la media de los elementos en esa ventana y reemplace el valor original del pixel por la media. En este ejemplo tendriamos una ventana de 3x3:\n",
    "<br/>\n",
    "<img src=\"mean_filter.png\" style=\"width: 600px\">"
   ]
  },
  {
   "cell_type": "code",
   "execution_count": null,
   "metadata": {},
   "outputs": [],
   "source": [
    "#Función que tiene como entrada el tamaño de la ventana:\n",
    "#Rellenar la función para que aplique el filtro de la media sobre la imagen de Pikachu\n",
    "#n es el tamaño de la ventana. A la función la pasamos el nombre o url de la imagen\n",
    "def mean_filter(n,imagen_name):\n",
    "    img = imageio.imread(imagen_name)\n",
    "\n",
    "\n",
    "#Tenemos que ir recorriendo cada pixel de la imagen. Para ellos usamos dos loops:\n",
    "    for i in range(img.shape[0]):\n",
    "        for j in range(img.shape[1]):\n",
    "\n",
    "    \n",
    "    return img_mean"
   ]
  },
  {
   "cell_type": "code",
   "execution_count": null,
   "metadata": {},
   "outputs": [],
   "source": []
  },
  {
   "cell_type": "code",
   "execution_count": null,
   "metadata": {},
   "outputs": [],
   "source": []
  },
  {
   "cell_type": "markdown",
   "metadata": {},
   "source": [
    "* El filtro de la mediana lo vamos a aplicar sobre una imagen en escala de grises que tiene simulado una gran cantidad de ruido. Este es el ejemplo de como actuaría el filtro de la mediana sobre un pixel y con una ventana de tamaño 3.\n",
    "<br/>\n",
    "<img src=\"median_filter.png\" style=\"width: 600px\">"
   ]
  },
  {
   "cell_type": "code",
   "execution_count": null,
   "metadata": {},
   "outputs": [],
   "source": [
    "#Función que tiene como entrada el tamaño de la ventana y aplica el filtro de la mediana:\n",
    "#Rellenar la función para que aplique el filtro de la mediana sobre la imagen noise.png\n",
    "#n es el tamaño de la ventana. A la función la pasamos el nombre o url de la imagen\n",
    "def median_filter(n,imagen_name):\n",
    "    img = imageio.imread(imagen_name)\n",
    "    \n",
    "#Tenemos que ir recorriendo cada pixel de la imagen. Para ellos usamos dos loops:\n",
    "    for i in range(img.shape[0]):\n",
    "        for j in range(img.shape[1]):\n",
    "       \n",
    "    return img_w_o_noise"
   ]
  },
  {
   "cell_type": "code",
   "execution_count": null,
   "metadata": {},
   "outputs": [],
   "source": [
    "#Imagen sobre la que aplicar el filtro de la mediana\n",
    "img = imageio.imread('noise.png')\n",
    "PIL.Image.fromarray(img)"
   ]
  },
  {
   "cell_type": "code",
   "execution_count": null,
   "metadata": {},
   "outputs": [],
   "source": []
  }
 ],
 "metadata": {
  "kernelspec": {
   "display_name": "Python 3",
   "language": "python",
   "name": "python3"
  },
  "language_info": {
   "codemirror_mode": {
    "name": "ipython",
    "version": 3
   },
   "file_extension": ".py",
   "mimetype": "text/x-python",
   "name": "python",
   "nbconvert_exporter": "python",
   "pygments_lexer": "ipython3",
   "version": "3.8.5"
  },
  "toc": {
   "base_numbering": 1,
   "nav_menu": {},
   "number_sections": true,
   "sideBar": true,
   "skip_h1_title": true,
   "title_cell": "Table of Contents",
   "title_sidebar": "Contents",
   "toc_cell": true,
   "toc_position": {
    "height": "calc(100% - 180px)",
    "left": "10px",
    "top": "150px",
    "width": "245.182px"
   },
   "toc_section_display": true,
   "toc_window_display": true
  },
  "varInspector": {
   "cols": {
    "lenName": 16,
    "lenType": 16,
    "lenVar": 40
   },
   "kernels_config": {
    "python": {
     "delete_cmd_postfix": "",
     "delete_cmd_prefix": "del ",
     "library": "var_list.py",
     "varRefreshCmd": "print(var_dic_list())"
    },
    "r": {
     "delete_cmd_postfix": ") ",
     "delete_cmd_prefix": "rm(",
     "library": "var_list.r",
     "varRefreshCmd": "cat(var_dic_list()) "
    }
   },
   "types_to_exclude": [
    "module",
    "function",
    "builtin_function_or_method",
    "instance",
    "_Feature"
   ],
   "window_display": false
  }
 },
 "nbformat": 4,
 "nbformat_minor": 2
}
