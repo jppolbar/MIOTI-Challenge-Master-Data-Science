{
 "cells": [
  {
   "cell_type": "markdown",
   "metadata": {},
   "source": [
    "<img src=\"mioti.png\" style=\"height: 100px\">\n",
    "<center style=\"color:#888\">Data Science with Python @ Máster IoT</center>\n",
    "\n",
    "# DSPy8. Data loading. Worksheet."
   ]
  },
  {
   "cell_type": "markdown",
   "metadata": {
    "toc": true
   },
   "source": [
    "<h1>Table of Contents<span class=\"tocSkip\"></span></h1>\n",
    "<div class=\"toc\"><ul class=\"toc-item\"><li><span><a href=\"#Ficheros\" data-toc-modified-id=\"Ficheros-1\"><span class=\"toc-item-num\">1&nbsp;&nbsp;</span>Ficheros</a></span><ul class=\"toc-item\"><li><span><a href=\"#CSV\" data-toc-modified-id=\"CSV-1.1\"><span class=\"toc-item-num\">1.1&nbsp;&nbsp;</span>CSV</a></span></li><li><span><a href=\"#JSON\" data-toc-modified-id=\"JSON-1.2\"><span class=\"toc-item-num\">1.2&nbsp;&nbsp;</span>JSON</a></span></li><li><span><a href=\"#HDF5\" data-toc-modified-id=\"HDF5-1.3\"><span class=\"toc-item-num\">1.3&nbsp;&nbsp;</span>HDF5</a></span></li></ul></li><li><span><a href=\"#Bases-de-datos\" data-toc-modified-id=\"Bases-de-datos-2\"><span class=\"toc-item-num\">2&nbsp;&nbsp;</span>Bases de datos</a></span></li><li><span><a href=\"#API-(REST)\" data-toc-modified-id=\"API-(REST)-3\"><span class=\"toc-item-num\">3&nbsp;&nbsp;</span>API (REST)</a></span></li></ul></div>"
   ]
  },
  {
   "cell_type": "markdown",
   "metadata": {},
   "source": [
    "## Ficheros\n",
    "En Pandas podemos leer muchos tipos de ficheros a través de las funciones `read_*()` y escribirlos a través de `to_*()`\n",
    "\n",
    "<img src=\"io.png\" style=\"width: 600px\">\n",
    "\n",
    "### CSV"
   ]
  },
  {
   "cell_type": "code",
   "execution_count": 1,
   "metadata": {
    "ExecuteTime": {
     "end_time": "2021-04-22T10:25:21.456414Z",
     "start_time": "2021-04-22T10:25:21.047669Z"
    }
   },
   "outputs": [],
   "source": [
    "import pandas as pd"
   ]
  },
  {
   "cell_type": "markdown",
   "metadata": {},
   "source": [
    "Para ver los contenidos en **Linux, MacOS**"
   ]
  },
  {
   "cell_type": "code",
   "execution_count": 2,
   "metadata": {},
   "outputs": [
    {
     "name": "stdout",
     "output_type": "stream",
     "text": [
      "a,b,c,d,message\r\n",
      "1,2,3,4,hello\r\n",
      "5,6,7,8,world\r\n",
      "9,10,11,12,foo"
     ]
    }
   ],
   "source": [
    "!cat ex_csv.csv"
   ]
  },
  {
   "cell_type": "markdown",
   "metadata": {},
   "source": [
    "Para ver los contenidos en **Windows**"
   ]
  },
  {
   "cell_type": "code",
   "execution_count": 2,
   "metadata": {
    "ExecuteTime": {
     "end_time": "2021-04-22T10:25:37.445891Z",
     "start_time": "2021-04-22T10:25:37.399869Z"
    },
    "scrolled": true
   },
   "outputs": [
    {
     "name": "stdout",
     "output_type": "stream",
     "text": [
      "a,b,c,d,message\n",
      "1,2,3,4,hello\n",
      "5,6,7,8,world\n",
      "9,10,11,12,foo\n"
     ]
    }
   ],
   "source": [
    "!type ex_csv.csv"
   ]
  },
  {
   "cell_type": "code",
   "execution_count": 4,
   "metadata": {},
   "outputs": [
    {
     "data": {
      "text/html": [
       "<div>\n",
       "<style scoped>\n",
       "    .dataframe tbody tr th:only-of-type {\n",
       "        vertical-align: middle;\n",
       "    }\n",
       "\n",
       "    .dataframe tbody tr th {\n",
       "        vertical-align: top;\n",
       "    }\n",
       "\n",
       "    .dataframe thead th {\n",
       "        text-align: right;\n",
       "    }\n",
       "</style>\n",
       "<table border=\"1\" class=\"dataframe\">\n",
       "  <thead>\n",
       "    <tr style=\"text-align: right;\">\n",
       "      <th></th>\n",
       "      <th>a</th>\n",
       "      <th>b</th>\n",
       "      <th>c</th>\n",
       "      <th>d</th>\n",
       "      <th>message</th>\n",
       "    </tr>\n",
       "  </thead>\n",
       "  <tbody>\n",
       "    <tr>\n",
       "      <th>0</th>\n",
       "      <td>1</td>\n",
       "      <td>2</td>\n",
       "      <td>3</td>\n",
       "      <td>4</td>\n",
       "      <td>hello</td>\n",
       "    </tr>\n",
       "    <tr>\n",
       "      <th>1</th>\n",
       "      <td>5</td>\n",
       "      <td>6</td>\n",
       "      <td>7</td>\n",
       "      <td>8</td>\n",
       "      <td>world</td>\n",
       "    </tr>\n",
       "    <tr>\n",
       "      <th>2</th>\n",
       "      <td>9</td>\n",
       "      <td>10</td>\n",
       "      <td>11</td>\n",
       "      <td>12</td>\n",
       "      <td>foo</td>\n",
       "    </tr>\n",
       "  </tbody>\n",
       "</table>\n",
       "</div>"
      ],
      "text/plain": [
       "   a   b   c   d message\n",
       "0  1   2   3   4   hello\n",
       "1  5   6   7   8   world\n",
       "2  9  10  11  12     foo"
      ]
     },
     "execution_count": 4,
     "metadata": {},
     "output_type": "execute_result"
    }
   ],
   "source": [
    "df_csv = pd.read_csv('ex_csv.csv')\n",
    "df_csv"
   ]
  },
  {
   "cell_type": "code",
   "execution_count": 5,
   "metadata": {},
   "outputs": [],
   "source": [
    "pd.read_csv?"
   ]
  },
  {
   "cell_type": "markdown",
   "metadata": {},
   "source": [
    "### JSON"
   ]
  },
  {
   "cell_type": "code",
   "execution_count": 6,
   "metadata": {},
   "outputs": [
    {
     "name": "stdout",
     "output_type": "stream",
     "text": [
      "{\r\n",
      "   \"1\": {\"a\": 1, \"b\": 2, \"c\": 3},\r\n",
      "   \"2\": {\"a\": 4, \"d\": 5, \"e\": 6},\r\n",
      "   \"3\": {\"a\": 7, \"b\": 8, \"c\": 9}\r\n",
      "}"
     ]
    }
   ],
   "source": [
    "!cat ex_json.json"
   ]
  },
  {
   "cell_type": "code",
   "execution_count": 7,
   "metadata": {},
   "outputs": [],
   "source": [
    "pd.read_json?"
   ]
  },
  {
   "cell_type": "code",
   "execution_count": 8,
   "metadata": {},
   "outputs": [
    {
     "data": {
      "text/html": [
       "<div>\n",
       "<style scoped>\n",
       "    .dataframe tbody tr th:only-of-type {\n",
       "        vertical-align: middle;\n",
       "    }\n",
       "\n",
       "    .dataframe tbody tr th {\n",
       "        vertical-align: top;\n",
       "    }\n",
       "\n",
       "    .dataframe thead th {\n",
       "        text-align: right;\n",
       "    }\n",
       "</style>\n",
       "<table border=\"1\" class=\"dataframe\">\n",
       "  <thead>\n",
       "    <tr style=\"text-align: right;\">\n",
       "      <th></th>\n",
       "      <th>a</th>\n",
       "      <th>b</th>\n",
       "      <th>c</th>\n",
       "      <th>d</th>\n",
       "      <th>e</th>\n",
       "    </tr>\n",
       "  </thead>\n",
       "  <tbody>\n",
       "    <tr>\n",
       "      <th>1</th>\n",
       "      <td>1</td>\n",
       "      <td>2.0</td>\n",
       "      <td>3.0</td>\n",
       "      <td>NaN</td>\n",
       "      <td>NaN</td>\n",
       "    </tr>\n",
       "    <tr>\n",
       "      <th>2</th>\n",
       "      <td>4</td>\n",
       "      <td>NaN</td>\n",
       "      <td>NaN</td>\n",
       "      <td>5.0</td>\n",
       "      <td>6.0</td>\n",
       "    </tr>\n",
       "    <tr>\n",
       "      <th>3</th>\n",
       "      <td>7</td>\n",
       "      <td>8.0</td>\n",
       "      <td>9.0</td>\n",
       "      <td>NaN</td>\n",
       "      <td>NaN</td>\n",
       "    </tr>\n",
       "  </tbody>\n",
       "</table>\n",
       "</div>"
      ],
      "text/plain": [
       "   a    b    c    d    e\n",
       "1  1  2.0  3.0  NaN  NaN\n",
       "2  4  NaN  NaN  5.0  6.0\n",
       "3  7  8.0  9.0  NaN  NaN"
      ]
     },
     "execution_count": 8,
     "metadata": {},
     "output_type": "execute_result"
    }
   ],
   "source": [
    "df_json = pd.read_json('ex_json.json', orient='index')\n",
    "df_json"
   ]
  },
  {
   "cell_type": "markdown",
   "metadata": {},
   "source": [
    "### HDF5\n"
   ]
  },
  {
   "cell_type": "markdown",
   "metadata": {},
   "source": [
    "_Hierarchical data format_. Para almacenar grandes cantidades de datos en forma de array (de forma jerárquica o no), puesto que comprime los datos y los almacena muy eficientemente. Además, permite leer y escribrir partes del mismo sin tener que cargarlo enteramente en memoria.\n",
    "<img src=\"hdf5.png\" style=\"height: 400px\">\n"
   ]
  },
  {
   "cell_type": "code",
   "execution_count": 9,
   "metadata": {
    "scrolled": true
   },
   "outputs": [
    {
     "name": "stdout",
     "output_type": "stream",
     "text": [
      "<class 'pandas.io.pytables.HDFStore'>\n",
      "File path: ex_hdf5.h5\n",
      "/ex_1                frame        (shape->[100,1])\n",
      "/ex_1_col            series       (shape->[100])  \n"
     ]
    }
   ],
   "source": [
    "store = pd.HDFStore('ex_hdf5.h5')\n",
    "print(store.info())"
   ]
  },
  {
   "cell_type": "code",
   "execution_count": 10,
   "metadata": {
    "scrolled": false
   },
   "outputs": [
    {
     "data": {
      "text/html": [
       "<div>\n",
       "<style scoped>\n",
       "    .dataframe tbody tr th:only-of-type {\n",
       "        vertical-align: middle;\n",
       "    }\n",
       "\n",
       "    .dataframe tbody tr th {\n",
       "        vertical-align: top;\n",
       "    }\n",
       "\n",
       "    .dataframe thead th {\n",
       "        text-align: right;\n",
       "    }\n",
       "</style>\n",
       "<table border=\"1\" class=\"dataframe\">\n",
       "  <thead>\n",
       "    <tr style=\"text-align: right;\">\n",
       "      <th></th>\n",
       "      <th>random_num</th>\n",
       "    </tr>\n",
       "  </thead>\n",
       "  <tbody>\n",
       "    <tr>\n",
       "      <th>0</th>\n",
       "      <td>-0.920824</td>\n",
       "    </tr>\n",
       "    <tr>\n",
       "      <th>1</th>\n",
       "      <td>0.933638</td>\n",
       "    </tr>\n",
       "    <tr>\n",
       "      <th>2</th>\n",
       "      <td>-0.895652</td>\n",
       "    </tr>\n",
       "    <tr>\n",
       "      <th>3</th>\n",
       "      <td>0.494537</td>\n",
       "    </tr>\n",
       "    <tr>\n",
       "      <th>4</th>\n",
       "      <td>-1.393682</td>\n",
       "    </tr>\n",
       "    <tr>\n",
       "      <th>...</th>\n",
       "      <td>...</td>\n",
       "    </tr>\n",
       "    <tr>\n",
       "      <th>95</th>\n",
       "      <td>0.541680</td>\n",
       "    </tr>\n",
       "    <tr>\n",
       "      <th>96</th>\n",
       "      <td>-1.224800</td>\n",
       "    </tr>\n",
       "    <tr>\n",
       "      <th>97</th>\n",
       "      <td>-0.329908</td>\n",
       "    </tr>\n",
       "    <tr>\n",
       "      <th>98</th>\n",
       "      <td>0.974290</td>\n",
       "    </tr>\n",
       "    <tr>\n",
       "      <th>99</th>\n",
       "      <td>1.446878</td>\n",
       "    </tr>\n",
       "  </tbody>\n",
       "</table>\n",
       "<p>100 rows × 1 columns</p>\n",
       "</div>"
      ],
      "text/plain": [
       "    random_num\n",
       "0    -0.920824\n",
       "1     0.933638\n",
       "2    -0.895652\n",
       "3     0.494537\n",
       "4    -1.393682\n",
       "..         ...\n",
       "95    0.541680\n",
       "96   -1.224800\n",
       "97   -0.329908\n",
       "98    0.974290\n",
       "99    1.446878\n",
       "\n",
       "[100 rows x 1 columns]"
      ]
     },
     "execution_count": 10,
     "metadata": {},
     "output_type": "execute_result"
    }
   ],
   "source": [
    "store[\"ex_1\"]"
   ]
  },
  {
   "cell_type": "markdown",
   "metadata": {},
   "source": [
    "Podemos hacerle queries si los datos se guardan de una determinada manera (formato `table`), aunque es más lenta la lectura / escritura."
   ]
  },
  {
   "cell_type": "markdown",
   "metadata": {},
   "source": [
    "## Bases de datos\n",
    "<img src=\"sql.png\" style=\"height: 350px\">"
   ]
  },
  {
   "cell_type": "markdown",
   "metadata": {},
   "source": [
    "Con interfaces que nos permiten hacer queries directamente en SQL o ORMs"
   ]
  },
  {
   "cell_type": "code",
   "execution_count": 3,
   "metadata": {
    "ExecuteTime": {
     "end_time": "2021-04-22T10:26:53.071531Z",
     "start_time": "2021-04-22T10:26:52.897016Z"
    },
    "scrolled": true
   },
   "outputs": [
    {
     "data": {
      "text/html": [
       "<div>\n",
       "<style scoped>\n",
       "    .dataframe tbody tr th:only-of-type {\n",
       "        vertical-align: middle;\n",
       "    }\n",
       "\n",
       "    .dataframe tbody tr th {\n",
       "        vertical-align: top;\n",
       "    }\n",
       "\n",
       "    .dataframe thead th {\n",
       "        text-align: right;\n",
       "    }\n",
       "</style>\n",
       "<table border=\"1\" class=\"dataframe\">\n",
       "  <thead>\n",
       "    <tr style=\"text-align: right;\">\n",
       "      <th></th>\n",
       "      <th>id</th>\n",
       "      <th>password</th>\n",
       "      <th>last_login</th>\n",
       "      <th>is_superuser</th>\n",
       "      <th>first_name</th>\n",
       "      <th>last_name</th>\n",
       "      <th>email</th>\n",
       "      <th>is_staff</th>\n",
       "      <th>is_active</th>\n",
       "      <th>date_joined</th>\n",
       "      <th>username</th>\n",
       "    </tr>\n",
       "  </thead>\n",
       "  <tbody>\n",
       "    <tr>\n",
       "      <th>0</th>\n",
       "      <td>1</td>\n",
       "      <td>pbkdf2_sha256$30000$WlwSnCmdZV6E$tpZv5yErj4621...</td>\n",
       "      <td>2017-01-12 18:42:29.105575</td>\n",
       "      <td>1</td>\n",
       "      <td></td>\n",
       "      <td></td>\n",
       "      <td>joe@example.com</td>\n",
       "      <td>1</td>\n",
       "      <td>1</td>\n",
       "      <td>2017-01-12 18:42:14.979901</td>\n",
       "      <td>joe</td>\n",
       "    </tr>\n",
       "    <tr>\n",
       "      <th>1</th>\n",
       "      <td>3</td>\n",
       "      <td>pbkdf2_sha256$30000$Ygkia1t9SDHC$wD5YqLXyPxRDC...</td>\n",
       "      <td>2017-08-27 12:21:45.300949</td>\n",
       "      <td>1</td>\n",
       "      <td></td>\n",
       "      <td></td>\n",
       "      <td>mario@mario.com</td>\n",
       "      <td>1</td>\n",
       "      <td>1</td>\n",
       "      <td>2017-04-17 13:51:06.371262</td>\n",
       "      <td>mario</td>\n",
       "    </tr>\n",
       "  </tbody>\n",
       "</table>\n",
       "</div>"
      ],
      "text/plain": [
       "   id                                           password  \\\n",
       "0   1  pbkdf2_sha256$30000$WlwSnCmdZV6E$tpZv5yErj4621...   \n",
       "1   3  pbkdf2_sha256$30000$Ygkia1t9SDHC$wD5YqLXyPxRDC...   \n",
       "\n",
       "                   last_login  is_superuser first_name last_name  \\\n",
       "0  2017-01-12 18:42:29.105575             1                        \n",
       "1  2017-08-27 12:21:45.300949             1                        \n",
       "\n",
       "             email  is_staff  is_active                 date_joined username  \n",
       "0  joe@example.com         1          1  2017-01-12 18:42:14.979901      joe  \n",
       "1  mario@mario.com         1          1  2017-04-17 13:51:06.371262    mario  "
      ]
     },
     "execution_count": 3,
     "metadata": {},
     "output_type": "execute_result"
    }
   ],
   "source": [
    "import sqlalchemy as sqla\n",
    "db = sqla.create_engine('sqlite:///db.sqlite3')\n",
    "pd.read_sql('select * from auth_user', db)"
   ]
  },
  {
   "cell_type": "markdown",
   "metadata": {},
   "source": [
    "## API (REST)"
   ]
  },
  {
   "cell_type": "markdown",
   "metadata": {},
   "source": [
    "REST: Representational State Transfer. Mecanismo request/response.\n",
    "\n",
    "<img src=\"rest.png\" style=\"height: 350px\">"
   ]
  },
  {
   "cell_type": "code",
   "execution_count": 4,
   "metadata": {
    "ExecuteTime": {
     "end_time": "2021-04-22T10:27:04.734117Z",
     "start_time": "2021-04-22T10:27:03.728136Z"
    },
    "scrolled": true
   },
   "outputs": [
    {
     "name": "stdout",
     "output_type": "stream",
     "text": [
      "pokemon_data: {'name': 'lapras', 'weight': 2200, 'height': 25, 'base_experience': 187, 'location_area_encounters': 'https://pokeapi.co/api/v2/pokemon/131/encounters'}\n",
      "pokemon_data: {'name': 'mewtwo', 'weight': 1220, 'height': 20, 'base_experience': 306, 'location_area_encounters': 'https://pokeapi.co/api/v2/pokemon/150/encounters'}\n",
      "pokemon_data: {'name': 'scyther', 'weight': 560, 'height': 15, 'base_experience': 100, 'location_area_encounters': 'https://pokeapi.co/api/v2/pokemon/123/encounters'}\n",
      "pokemon_data: {'name': 'shellder', 'weight': 40, 'height': 3, 'base_experience': 61, 'location_area_encounters': 'https://pokeapi.co/api/v2/pokemon/90/encounters'}\n"
     ]
    },
    {
     "data": {
      "text/html": [
       "<div>\n",
       "<style scoped>\n",
       "    .dataframe tbody tr th:only-of-type {\n",
       "        vertical-align: middle;\n",
       "    }\n",
       "\n",
       "    .dataframe tbody tr th {\n",
       "        vertical-align: top;\n",
       "    }\n",
       "\n",
       "    .dataframe thead th {\n",
       "        text-align: right;\n",
       "    }\n",
       "</style>\n",
       "<table border=\"1\" class=\"dataframe\">\n",
       "  <thead>\n",
       "    <tr style=\"text-align: right;\">\n",
       "      <th></th>\n",
       "      <th>weight</th>\n",
       "      <th>height</th>\n",
       "      <th>base_experience</th>\n",
       "      <th>location_area_encounters</th>\n",
       "    </tr>\n",
       "    <tr>\n",
       "      <th>name</th>\n",
       "      <th></th>\n",
       "      <th></th>\n",
       "      <th></th>\n",
       "      <th></th>\n",
       "    </tr>\n",
       "  </thead>\n",
       "  <tbody>\n",
       "    <tr>\n",
       "      <th>lapras</th>\n",
       "      <td>2200</td>\n",
       "      <td>25</td>\n",
       "      <td>187</td>\n",
       "      <td>https://pokeapi.co/api/v2/pokemon/131/encounters</td>\n",
       "    </tr>\n",
       "    <tr>\n",
       "      <th>mewtwo</th>\n",
       "      <td>1220</td>\n",
       "      <td>20</td>\n",
       "      <td>306</td>\n",
       "      <td>https://pokeapi.co/api/v2/pokemon/150/encounters</td>\n",
       "    </tr>\n",
       "    <tr>\n",
       "      <th>scyther</th>\n",
       "      <td>560</td>\n",
       "      <td>15</td>\n",
       "      <td>100</td>\n",
       "      <td>https://pokeapi.co/api/v2/pokemon/123/encounters</td>\n",
       "    </tr>\n",
       "    <tr>\n",
       "      <th>shellder</th>\n",
       "      <td>40</td>\n",
       "      <td>3</td>\n",
       "      <td>61</td>\n",
       "      <td>https://pokeapi.co/api/v2/pokemon/90/encounters</td>\n",
       "    </tr>\n",
       "  </tbody>\n",
       "</table>\n",
       "</div>"
      ],
      "text/plain": [
       "          weight  height  base_experience  \\\n",
       "name                                        \n",
       "lapras      2200      25              187   \n",
       "mewtwo      1220      20              306   \n",
       "scyther      560      15              100   \n",
       "shellder      40       3               61   \n",
       "\n",
       "                                  location_area_encounters  \n",
       "name                                                        \n",
       "lapras    https://pokeapi.co/api/v2/pokemon/131/encounters  \n",
       "mewtwo    https://pokeapi.co/api/v2/pokemon/150/encounters  \n",
       "scyther   https://pokeapi.co/api/v2/pokemon/123/encounters  \n",
       "shellder   https://pokeapi.co/api/v2/pokemon/90/encounters  "
      ]
     },
     "execution_count": 4,
     "metadata": {},
     "output_type": "execute_result"
    }
   ],
   "source": [
    "import requests\n",
    "import json\n",
    "\n",
    "wanted_keys = [\"name\", \"weight\", \"height\", \"base_experience\", \"location_area_encounters\"]\n",
    "\n",
    "data = {}\n",
    "for i in [131, 150, 123, 90]:\n",
    "    # We make a request for a particular pokemon id\n",
    "    response = requests.get('http://pokeapi.co/api/v2/pokemon/{}'.format(i)) \n",
    "    # Read the response (as a JSON)\n",
    "    response_dict = response.json()\n",
    "    # The update the data dict with a dictionary of only the wanted_keys of the response\n",
    "    pokemon_data = { key: response_dict[key] for key in wanted_keys}\n",
    "    print(f\"pokemon_data: {pokemon_data}\")\n",
    "    data.update({i: pokemon_data })\n",
    "    \n",
    "\n",
    "data = pd.DataFrame.from_dict(data, orient=\"index\").set_index(\"name\")\n",
    "data"
   ]
  },
  {
   "cell_type": "code",
   "execution_count": null,
   "metadata": {},
   "outputs": [],
   "source": []
  }
 ],
 "metadata": {
  "kernelspec": {
   "display_name": "Python 3",
   "language": "python",
   "name": "python3"
  },
  "language_info": {
   "codemirror_mode": {
    "name": "ipython",
    "version": 3
   },
   "file_extension": ".py",
   "mimetype": "text/x-python",
   "name": "python",
   "nbconvert_exporter": "python",
   "pygments_lexer": "ipython3",
   "version": "3.8.5"
  },
  "toc": {
   "base_numbering": 1,
   "nav_menu": {},
   "number_sections": true,
   "sideBar": true,
   "skip_h1_title": true,
   "title_cell": "Table of Contents",
   "title_sidebar": "Contents",
   "toc_cell": true,
   "toc_position": {
    "height": "calc(100% - 180px)",
    "left": "10px",
    "top": "150px",
    "width": "237.9891357421875px"
   },
   "toc_section_display": true,
   "toc_window_display": true
  },
  "varInspector": {
   "cols": {
    "lenName": 16,
    "lenType": 16,
    "lenVar": 40
   },
   "kernels_config": {
    "python": {
     "delete_cmd_postfix": "",
     "delete_cmd_prefix": "del ",
     "library": "var_list.py",
     "varRefreshCmd": "print(var_dic_list())"
    },
    "r": {
     "delete_cmd_postfix": ") ",
     "delete_cmd_prefix": "rm(",
     "library": "var_list.r",
     "varRefreshCmd": "cat(var_dic_list()) "
    }
   },
   "types_to_exclude": [
    "module",
    "function",
    "builtin_function_or_method",
    "instance",
    "_Feature"
   ],
   "window_display": false
  }
 },
 "nbformat": 4,
 "nbformat_minor": 2
}
