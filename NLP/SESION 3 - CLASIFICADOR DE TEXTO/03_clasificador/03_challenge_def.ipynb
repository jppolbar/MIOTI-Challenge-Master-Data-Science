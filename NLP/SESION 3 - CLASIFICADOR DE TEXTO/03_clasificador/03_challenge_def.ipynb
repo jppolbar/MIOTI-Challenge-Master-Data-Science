{
 "cells": [
  {
   "cell_type": "markdown",
   "metadata": {},
   "source": [
    "<img src=\"data:image/png;base64,iVBORw0KGgoAAAANSUhEUgAAAa8AAAB1CAMAAADOZ57OAAAAe1BMVEXoQ3H////nN2rpTnnzpbj0r8DnNGj3w9HpSXfoP27mKmPsZIr61d/nO2z4z9nxkar++PrxmrD86u/74+n73+b98vXqVX762uLvhqHtdZTrX4X0rL3ufpvwjqftb5H1tMT2vMvtcJLxl67rW4PmIF/ugp74yNTyoLX50dxex019AAAH1klEQVR4nO2d63byKhCGKUYMKp7PWrW11e/+r3CTqvWQYAYYCNnl/dXV1QYyT4aZAULI2/9fo3+tZLFcHUim2Wq5SPa9cdWdMhQZeW+yoMX5uqnS2sqy017ykXLBKOecnCV/opRy0hn2DO/9eEoQdcr1Yqc0RnNHZr6ftM91/nfrNlXpq2Xc0ri5bGRkiiWppdtkPtC/7ru6twb66j1fnzPlHxOSNvwCG7ab+V82qcKohDBDXqPdljChvOyVGV8l2l7WL7uslliOV6r+4wZpCK8edmLUB6/uIlU61qMksk1Lz8mq5UWERw9L2sQDr+O21LPuJdihqUOsYl6Ep76AndrEPa9jh8Fc6ybOSEFUValqXjJl8gMsw+WaV3emTevcTrqHNlE5L8KFj7R+yLK2nPIabcxoZTagqy6skep5eRkSP89QXPLaERtTct4HhbEAeBHuPOm44HLIa7QE5oRK0RnExULgRcRsAjaMic6DIXHIa5/a25GLpNzFguDlOK3/STV+5IrX0DhyPba3mZa1FAYvpzHshssRr8EHU15CT7RRNtAEwkvGW1dZ4vCGyw2v8QzPhlwcXzcWCi+Z0rrxsM/7Z98FrzlBGQt/23xdPAfDS961C2D9BxoOeB1TVFxlwMLhJWMYfpb4iMsBryNHxiVbLejk7YbC4SXrsLkOC4A+nxIBdF4TgY6ruJdXhcRLAsP1sOFz3obNa4Ibu367qW43KF7IQ+J9ZngxBC6v6cwJLvkQKKc6wuKFOlufx4XNq4NqvHszKLe2BMaLcIYFrF9QxOLyWqj/01b8oLqrwHhJD8MZEvtFxkTltcOa1SgSXShuKzReMoZhZImFuFB5TTRtoylF2+HxQknriwZDgsvLWfC6qHiCLkBeCB72XHddhcgrcRe8zhKbomZD5GWd1ufqrqvweI1dBq+z2kWtB8nLMq1XeRcmr63j0ZBkcaFgNey9zYr1yt254n9Yfn+vGS+rtP5d/eij8Trmazt80c98w+OuSuq75oe56p9yT4QhL8KFaQx7f/GkYfEaNNxMbDxLJyyonyDegV/FlJcs8c2AvcKFxstp6XVTccqhUMW8DLPEF4MhQeM1PfhxL8I1TFA1LyNgirrrKiRentxLz8Eq52UwJKozw7NweA1WntxLAoPvaqmel0w69OqwEu/C4nX05V6yw0PwzQfAS6b1OsBex66f20fh5aH2unUBfPch8CKcwofERfljj8Jr4m00zLoAfnMlCF6vllqfBFmNQuF1cj1zeC++hVo6DF4yS4QBAy0eovBytAlA1YfSLdoXBcILCKw8dmXC4DX3GL2k6A5o6VB4gYbE0szwcvMIvIY+h0OZ0S+Blg6GF2AuEeZdOLz8DocSGHBADIdXaVoPyAzPQuA19Vd8XTpR8gbEVQHxkp1+5WHfYBMi8Nr7HQ6lf/Vhlg6KF+f/lE18wy2IwAt3gRcgvoWdzxEUL5l05JZCL9LZBYjAy9/c4a9gc4hh8ZJpfbGHQVONHyHw8h2+SmJBsLwUab0WLgReEx8bAR5FYcffhMarMK3Xw4XAa+/fv8R7PXnJtP4ZGDiRv8iel/Nth3lxWMUcHi9pwMchcaP7sNvz8p4eSnOvQAliiLy4uM8SN9rPuj2vpX9epAFKEEPk9ZDWa9RdV1nzGnT8p/ME9iJ+kLxkWn8BNtCNXZnseRl02VqwN6zC5HX1MCNcCLxe3I8zwQqwQHnJGJYlHUa46soLtGIbKq+ftB4+xfsga15T/+Vy7XllU6CGVVDkVQkv41MvIq9qeJkqxq/Iy73qnR/aCKH+qqBernX9ZaU4v/HHeMX5Q6+y5/Ue5+c9Kq5//TVecX3Zp+x5zf3zquv+DQQh7I/yP8EBK5cjr2Jevo4GuFMt9x+iqJb7ezt13N+Lo1run4elG5FXKO+nAD+6E3kVm8r3DGIN3/9CU3y/8u/xiu8v+1M8H+AP8vI6INbu/A1UxfNt/iCvt61HYG2wpSMvFa9WPJ/Nk+p3/iH82OnIK54v+qD68orn93pSPB/7b/IaeKqZa3T+vBPV7PsOwJOIIq+LXixluP6aFFF8PyXyMuM1ch/BoAtfkddVryzm/BRfrWQj8soU4Pf1Iq9Av19Z+LW2yMvm+7AuR0TxrYkr8iqN+JqHjelIzDRpRV6kPENz9mEO9ffN1Yq8Snk5m+bg0I9a3CnyKq+ARm42t2lWXmdFXgC7TVIHwIp6Wa7IC/Kc9zg6MGaEK/KCjUs97CGRwV73yinygsWReQP3k+MJ3LgPiryAcX80wyucuQB+fSOvyAuapw0+sApn0dD7YOe9Ii94Xj1kKEGMLbVWvB4VeWnUQfvUPohxcYLbNa/IS6duHS+ppYvRmcGkxp0iL715hiaxcTEu+hZjYabIS3NeaLQxj2L0YOdcb5EX0Z/H687MiDECfgtFrcjLYN712GnrEuOMGM5oPCryMponb22ZThwT7LCGna9RpsjLbF3jrbsgwGGRU7E84tCKvIgpL5l57Lak1Ms45asT/HWhUnngRahntQt4rdvKP/8y5CU1bi4bVFmScUrTzknj5ROAvpS3wQ7wq3CmvAwh68SzTgVZ83zdVGlt9fhPe8lW1lWMit81Ms65oFSQ1bCnv0GjRCf1bUOPhJDaKY3R3BHsLgeo0b9WsvhYzX5wpavt92l/RBwEveo/edWrkVzXU5sAAAAASUVORK5CYII=\" style=\"height: 100px\">\n",
    "<center style=\"color:#888\">Módulo Advanced Data Science<br/>Natural Language Processing</center>\n",
    "\n",
    "# S3. Challenge. Clasificación multi-etiqueta (Parte 2)"
   ]
  },
  {
   "cell_type": "markdown",
   "metadata": {},
   "source": [
    "En este **challenge** vamos a aprender a predecir etiquetas de *posts* de [StackOverflow](https://stackoverflow.com). Técnicamente, es una tarea de clasificación multi-etiqueta. Nótese que el lenguaje en el que están escritas las entradas es el **INGLÉS**, con lo que algunos de los pasos serás específicos para dicho idioma.\n",
    "\n",
    "## Librerías\n",
    "\n",
    "Haremos uso de las siguientes librerías\n",
    "- [Numpy](http://www.numpy.org) \n",
    "- [Pandas](https://pandas.pydata.org) \n",
    "- [scikit-learn](http://scikit-learn.org/stable/index.html)\n",
    "- [NLTK](http://www.nltk.org) — librería básica para trabajar con texto en Python\n",
    "\n",
    "aunque si quieres pudes usar spaCy para algunas tareas."
   ]
  },
  {
   "cell_type": "markdown",
   "metadata": {},
   "source": [
    "##  Preprocesado"
   ]
  },
  {
   "cell_type": "markdown",
   "metadata": {},
   "source": [
    "Una de las primeras técnicas que vamos a utilizar para preprocesar textos es la eliminación de las conocidas como **stop words**, es decir, palabras que no aportan mucho significado, pero que son necesarias para que el texto sea legible y siga las normas. Para ello, lo primero es conseguir una lista con las *stop words* del lenguaje requerido.\n",
    "\n",
    "Una opción para conseguir esta lista de palabras, es usar la librería `nltk`."
   ]
  },
  {
   "cell_type": "code",
   "execution_count": 1,
   "metadata": {
    "ExecuteTime": {
     "end_time": "2021-10-04T18:21:02.824083Z",
     "start_time": "2021-10-04T18:21:00.153555Z"
    }
   },
   "outputs": [
    {
     "name": "stderr",
     "output_type": "stream",
     "text": [
      "[nltk_data] Downloading package stopwords to\n",
      "[nltk_data]     C:\\Users\\JPAS\\AppData\\Roaming\\nltk_data...\n",
      "[nltk_data]   Package stopwords is already up-to-date!\n"
     ]
    }
   ],
   "source": [
    "import nltk\n",
    "nltk.download('stopwords')\n",
    "from nltk.corpus import stopwords"
   ]
  },
  {
   "cell_type": "markdown",
   "metadata": {},
   "source": [
    "En el *challenge* tenemos un dataset con títulos de entradas de StackOverflow, debidamente etiquetado (con 100 etiquetas distintas)."
   ]
  },
  {
   "cell_type": "code",
   "execution_count": 2,
   "metadata": {
    "ExecuteTime": {
     "end_time": "2021-10-04T18:21:03.445990Z",
     "start_time": "2021-10-04T18:21:02.830831Z"
    }
   },
   "outputs": [],
   "source": [
    "from ast import literal_eval\n",
    "import pandas as pd\n",
    "import numpy as np\n",
    "from sklearn.model_selection import train_test_split\n",
    "import pprint"
   ]
  },
  {
   "cell_type": "code",
   "execution_count": 3,
   "metadata": {
    "ExecuteTime": {
     "end_time": "2021-10-04T18:21:03.461981Z",
     "start_time": "2021-10-04T18:21:03.451959Z"
    }
   },
   "outputs": [],
   "source": [
    "def read_data(filename):\n",
    "    data = pd.read_csv(filename, sep='\\t')\n",
    "    data['tags'] = data['tags'].apply(literal_eval)\n",
    "    return data"
   ]
  },
  {
   "cell_type": "code",
   "execution_count": 4,
   "metadata": {
    "ExecuteTime": {
     "end_time": "2021-10-04T18:21:07.050636Z",
     "start_time": "2021-10-04T18:21:03.465981Z"
    }
   },
   "outputs": [],
   "source": [
    "train = read_data('data/train.tsv')\n",
    "train, validation = train_test_split(train, test_size = .15, random_state = 0)\n",
    "test = read_data('data/test.tsv')"
   ]
  },
  {
   "cell_type": "code",
   "execution_count": 5,
   "metadata": {
    "ExecuteTime": {
     "end_time": "2021-10-04T18:21:07.097022Z",
     "start_time": "2021-10-04T18:21:07.055612Z"
    }
   },
   "outputs": [
    {
     "data": {
      "text/html": [
       "<div>\n",
       "<style scoped>\n",
       "    .dataframe tbody tr th:only-of-type {\n",
       "        vertical-align: middle;\n",
       "    }\n",
       "\n",
       "    .dataframe tbody tr th {\n",
       "        vertical-align: top;\n",
       "    }\n",
       "\n",
       "    .dataframe thead th {\n",
       "        text-align: right;\n",
       "    }\n",
       "</style>\n",
       "<table border=\"1\" class=\"dataframe\">\n",
       "  <thead>\n",
       "    <tr style=\"text-align: right;\">\n",
       "      <th></th>\n",
       "      <th>title</th>\n",
       "      <th>tags</th>\n",
       "    </tr>\n",
       "  </thead>\n",
       "  <tbody>\n",
       "    <tr>\n",
       "      <th>96598</th>\n",
       "      <td>How to create an array of leaf nodes of an htm...</td>\n",
       "      <td>[javascript, arrays, dom]</td>\n",
       "    </tr>\n",
       "    <tr>\n",
       "      <th>10007</th>\n",
       "      <td>how to make maven use test resources</td>\n",
       "      <td>[java, maven]</td>\n",
       "    </tr>\n",
       "    <tr>\n",
       "      <th>15802</th>\n",
       "      <td>How do I get the path where the user installed...</td>\n",
       "      <td>[java]</td>\n",
       "    </tr>\n",
       "    <tr>\n",
       "      <th>9114</th>\n",
       "      <td>why are my buttons not showing up?</td>\n",
       "      <td>[java, swing]</td>\n",
       "    </tr>\n",
       "    <tr>\n",
       "      <th>34247</th>\n",
       "      <td>How to loop an array with strings as indexes i...</td>\n",
       "      <td>[php, arrays, string, loops]</td>\n",
       "    </tr>\n",
       "  </tbody>\n",
       "</table>\n",
       "</div>"
      ],
      "text/plain": [
       "                                                   title  \\\n",
       "96598  How to create an array of leaf nodes of an htm...   \n",
       "10007               how to make maven use test resources   \n",
       "15802  How do I get the path where the user installed...   \n",
       "9114                  why are my buttons not showing up?   \n",
       "34247  How to loop an array with strings as indexes i...   \n",
       "\n",
       "                               tags  \n",
       "96598     [javascript, arrays, dom]  \n",
       "10007                 [java, maven]  \n",
       "15802                        [java]  \n",
       "9114                  [java, swing]  \n",
       "34247  [php, arrays, string, loops]  "
      ]
     },
     "execution_count": 5,
     "metadata": {},
     "output_type": "execute_result"
    }
   ],
   "source": [
    "train.head()"
   ]
  },
  {
   "cell_type": "markdown",
   "metadata": {},
   "source": [
    "Como vemos, la columna *title* contiene los títulos de las entradas, y la columna *tags* una lista con las etiquetas de cada entrada, que puede ser un número arbitrario."
   ]
  },
  {
   "cell_type": "markdown",
   "metadata": {},
   "source": [
    "Para seguir los convenios, inicializamos `X_train`, `X_val`, `X_test`, `y_train`, `y_val`, `y_test`."
   ]
  },
  {
   "cell_type": "code",
   "execution_count": 6,
   "metadata": {
    "ExecuteTime": {
     "end_time": "2021-10-04T18:21:07.112019Z",
     "start_time": "2021-10-04T18:21:07.102021Z"
    }
   },
   "outputs": [],
   "source": [
    "X_train, y_train = train['title'].values, train['tags'].values\n",
    "X_val, y_val = validation['title'].values, validation['tags'].values\n",
    "X_test, y_test = test['title'].values, test['tags'].values"
   ]
  },
  {
   "cell_type": "markdown",
   "metadata": {},
   "source": [
    "La principal dificultad de trabajar con lenguaje natural es que no está estructurado. Si cojemos el texto y creamos tokens simplemente separando por los espacios, tendremos *tokens* como '3.5?', 'do.', etc. Para evitar esos problemas, es útil preprocesar el texto.\n",
    "\n",
    "### **Tarea 1 (Preprocesado):**\n",
    "\n",
    "Implementa la función `text_tokenizer()` y `text_prepare()` siguiendo las instrucciones."
   ]
  },
  {
   "cell_type": "code",
   "execution_count": 7,
   "metadata": {
    "ExecuteTime": {
     "end_time": "2021-10-04T18:21:07.143549Z",
     "start_time": "2021-10-04T18:21:07.117021Z"
    }
   },
   "outputs": [],
   "source": [
    "from string import ascii_lowercase\n",
    "from __future__ import annotations\n",
    "\n",
    "def text_tokenizer(text :str) -> list[str]:\n",
    "    \"\"\"\n",
    "    Transforma un texto (str) en una lista de palabras/tokens (list).\n",
    "    Es importante usar esta función siempre para ser consistentes.\n",
    "    \"\"\"\n",
    "    ## ESCRIBE AQUÍ TU CÓDIGO\n",
    "    return text.split()\n",
    "    ##\n",
    "\n",
    "\n",
    "# cargamos estas variables fuera de la función\n",
    "# ya que la creación del set de stopwords es costoso y no queremos\n",
    "# que se repita cada vez que se llame a la función\n",
    "REPLACE_BY_SPACE = \"[/(){}\\[\\]\\|@,;]\"\n",
    "GOOD_CHARS = ascii_lowercase + \"\".join([str(n) for n in range(10)]) + \" #+_\"\n",
    "STOPWORDS = set(stopwords.words(\"english\"))\n",
    "\n",
    "\n",
    "def text_prepare(text:str) -> str:\n",
    "    \"\"\"\n",
    "    Preprocesa el texto inicial:\n",
    "    1. eliminando espacios al inicio y final, y convirtiéndolo a minúsculas\n",
    "    2. cambia los caracteres de REPLACE_BY_SPACE por espacios\n",
    "    3. elimina los caracteres que no estén en GOOD_CHARS\n",
    "    4. elimina los tokens que sean STOPWORDS\n",
    "\n",
    "    text: str\n",
    "    return: str\n",
    "    \"\"\"\n",
    "    ## ESCRIBE AQUÍ TU CÓDIGO\n",
    "    text = text.strip().lower()\n",
    "    for char in REPLACE_BY_SPACE:\n",
    "        if char in text:\n",
    "            text = text.replace(char, \" \")\n",
    "    for char in text:\n",
    "        if char not in GOOD_CHARS:\n",
    "            text = text.replace(char, \"\")\n",
    "    text = \" \".join([word for word in text_tokenizer(text) if word not in STOPWORDS])\n",
    "    return text\n",
    "    ##"
   ]
  },
  {
   "cell_type": "code",
   "execution_count": 8,
   "metadata": {
    "ExecuteTime": {
     "end_time": "2021-10-04T18:21:07.174555Z",
     "start_time": "2021-10-04T18:21:07.151546Z"
    }
   },
   "outputs": [
    {
     "name": "stdout",
     "output_type": "stream",
     "text": [
      "¡Tests correctos!\n"
     ]
    }
   ],
   "source": [
    "def test_text_prepare():\n",
    "    examples = [\"   SQL Server - any equivalent of Excel's CHOOSE function?\",\n",
    "                \"How to free c++ memory vector<int> * arr?\"]\n",
    "    answers = [\"sql server equivalent excels choose function\", \n",
    "               \"free c++ memory vectorint arr\"]\n",
    "    for ex, ans in zip(examples, answers):\n",
    "        if text_prepare(ex) != ans:\n",
    "            return \"Respuesta incorrecta para: '%s'\" % text_prepare(ex)\n",
    "    return '¡Tests correctos!'\n",
    "\n",
    "print(test_text_prepare())"
   ]
  },
  {
   "cell_type": "markdown",
   "metadata": {},
   "source": [
    "Ahora preprocesamos los textos de todos los conjuntos:"
   ]
  },
  {
   "cell_type": "code",
   "execution_count": 9,
   "metadata": {
    "ExecuteTime": {
     "end_time": "2021-10-04T18:21:09.041101Z",
     "start_time": "2021-10-04T18:21:07.179545Z"
    }
   },
   "outputs": [],
   "source": [
    "X_train = [text_prepare(x) for x in X_train]\n",
    "X_val = [text_prepare(x) for x in X_val]\n",
    "X_test = [text_prepare(x) for x in X_test]"
   ]
  },
  {
   "cell_type": "code",
   "execution_count": 10,
   "metadata": {
    "ExecuteTime": {
     "end_time": "2021-10-04T18:21:09.056283Z",
     "start_time": "2021-10-04T18:21:09.044731Z"
    }
   },
   "outputs": [
    {
     "data": {
      "text/plain": [
       "['create array leaf nodes html dom using javascript',\n",
       " 'make maven use test resources',\n",
       " 'get path user installed java application']"
      ]
     },
     "execution_count": 10,
     "metadata": {},
     "output_type": "execute_result"
    }
   ],
   "source": [
    "X_train[:3]"
   ]
  },
  {
   "cell_type": "markdown",
   "metadata": {},
   "source": [
    "### **Tarea 2 (Cuentas de palabras y etiquetas):** \n",
    "\n",
    "Cuénta cuantas veces aparece cada token (palabra) y cada etiqueta en el corpus de entrenamiento. Es decir, crea un diccionario con las cuentas totales de palabras y etiquetas.\n",
    " \n",
    "El resultado deben ser dos diccionarios *tags_counts* y *words_counts* del tipo `{'palabra_o_etiqueta': cuentas}`."
   ]
  },
  {
   "cell_type": "code",
   "execution_count": 11,
   "metadata": {
    "ExecuteTime": {
     "end_time": "2021-10-04T18:21:09.413955Z",
     "start_time": "2021-10-04T18:21:09.060283Z"
    }
   },
   "outputs": [],
   "source": [
    "######################################\n",
    "##ESCRIBE AQUÍ TU CÓDIGO\n",
    "######################################\n",
    "\n",
    "from collections import Counter\n",
    "# Diccionario con todas las etiquetas del corpus de entrenamiento con sus cuentas\n",
    "tags_counts = Counter([tag for y in y_train for tag in y ])\n",
    "# Diccionario con todas las palabras del corpus de entrenamiento con sus cuentas\n",
    "words_counts = Counter([word for sentence in X_train for word in sentence.split()])\n",
    "\n",
    "##"
   ]
  },
  {
   "cell_type": "markdown",
   "metadata": {},
   "source": [
    "Exploramos las más comunes:"
   ]
  },
  {
   "cell_type": "code",
   "execution_count": 12,
   "metadata": {
    "ExecuteTime": {
     "end_time": "2021-10-04T18:21:09.460680Z",
     "start_time": "2021-10-04T18:21:09.418783Z"
    }
   },
   "outputs": [
    {
     "name": "stdout",
     "output_type": "stream",
     "text": [
      "[('c#', 16259), ('javascript', 16219), ('java', 15835)]\n",
      "[('using', 7000), ('php', 4776), ('java', 4685)]\n"
     ]
    }
   ],
   "source": [
    "most_common_tags = sorted(tags_counts.items(), key=lambda x: x[1], reverse=True)[:3]\n",
    "most_common_words = sorted(words_counts.items(), key=lambda x: x[1], reverse=True)[:3]\n",
    "print(most_common_tags)\n",
    "print(most_common_words)"
   ]
  },
  {
   "cell_type": "markdown",
   "metadata": {},
   "source": [
    "### Transformando el texto a vectores\n",
    "\n",
    "Vamos a construir los vectores asociados a cada frase en dos representaciones distintas.\n",
    "\n",
    "\n",
    "#### Bag of words\n",
    "\n",
    "Recuerda que para crear la representación de *bag of words*, convertimos cada frase en un vector que cuenta el número de ocurrencias de cada token. Se siguien los pasos:\n",
    "1. Encuentra los **N** tokens mas comunes del corpus de entrenamiento y se les asigna un índice, este es nuestro **vocabulario**. Creamos un diccionario para convertir de tokens a índices y viceversa.\n",
    "2. Para cada frase en el corpus, creamos un vector de dimensión **N** y lo inicializamos con ceros.\n",
    "3. Iteramos sobre los tokens de cada frase, y si el token está en el diccionario, incrementamos en 1 el índice correspondiente del vector.\n",
    "   \n",
    "**Tarea 3 (BagOfWords):** \n",
    "\n",
    "Contruye la función que transforma un texto en su representación *bag of words*.\n",
    "\n",
    "Implementa la codificación de *bag of words* en la función `my_bag_of_words()` con un tamaño de diccionario de **N=5000**. Para definir el diccionario, sólo podemos usar el conjunto de entrenamiento, sino tendríamos un *data leaking*.\n",
    "\n",
    "Primero, contruimos el vocabulario y los diccionarios correspondientes, así como un `set` con las palabras del diccionario."
   ]
  },
  {
   "cell_type": "code",
   "execution_count": 13,
   "metadata": {
    "ExecuteTime": {
     "end_time": "2021-10-04T18:21:09.508378Z",
     "start_time": "2021-10-04T18:21:09.465652Z"
    }
   },
   "outputs": [],
   "source": [
    "DICT_SIZE = 5000\n",
    "\n",
    "## ESCRIBE AQUÍ TU CÓDIGO\n",
    "INDEX_TO_WORDS = dict(enumerate(map(lambda x: x[0],words_counts.most_common(n=DICT_SIZE))))\n",
    "WORDS_TO_INDEX = {v:k for k,v in INDEX_TO_WORDS.items()}\n",
    "##\n",
    "\n",
    "ALL_WORDS = WORDS_TO_INDEX.keys()\n",
    "assert len(ALL_WORDS)==DICT_SIZE"
   ]
  },
  {
   "cell_type": "code",
   "execution_count": 14,
   "metadata": {
    "ExecuteTime": {
     "end_time": "2021-10-04T18:21:09.524377Z",
     "start_time": "2021-10-04T18:21:09.512360Z"
    }
   },
   "outputs": [],
   "source": [
    "def my_bag_of_words(text: str, words_to_index: dict[str, int]) -> np.array:\n",
    "    \"\"\"\n",
    "    text: str\n",
    "    words_to_index: dict, diccionario con los índices del vocabulario\n",
    "\n",
    "    return\n",
    "    result_vector: numpy.array, vector con la representación bag-of-words de `text`\n",
    "    \"\"\"\n",
    "    dict_size = len(words_to_index)\n",
    "    result_vector = np.zeros(dict_size)\n",
    "\n",
    "    ## ESCRIBE AQUÍ TU CÓDIGO\n",
    "    for word in text_tokenizer(text):\n",
    "        if word in words_to_index:\n",
    "            result_vector[words_to_index[word]] += 1\n",
    "    ##\n",
    "\n",
    "    return result_vector"
   ]
  },
  {
   "cell_type": "code",
   "execution_count": 15,
   "metadata": {
    "ExecuteTime": {
     "end_time": "2021-10-04T18:21:09.540378Z",
     "start_time": "2021-10-04T18:21:09.529358Z"
    }
   },
   "outputs": [
    {
     "name": "stdout",
     "output_type": "stream",
     "text": [
      "¡Tests correctos!\n"
     ]
    }
   ],
   "source": [
    "def test_my_bag_of_words():\n",
    "    words_to_index = {\"hi\": 0, \"you\": 1, \"me\": 2, \"are\": 3}\n",
    "    examples = [\"hi how are you\", \"hi hi hi you house\"]\n",
    "    answers = [[1, 1, 0, 1], [3, 1, 0, 0]]\n",
    "    for ex, expected in zip(examples, answers):\n",
    "        output = my_bag_of_words(ex, words_to_index)\n",
    "        if (output != np.asarray(expected)).any():\n",
    "            return f\"Respuesta incorrecta: BOW('{ex}') = {output} != {expected}\"\n",
    "    return \"¡Tests correctos!\"\n",
    "\n",
    "\n",
    "print(test_my_bag_of_words())"
   ]
  },
  {
   "cell_type": "markdown",
   "metadata": {},
   "source": [
    "Ahora aplicamos la función anterior a todos los datos.\n",
    "\n",
    "La representación *bag of words* devuelve vectores __*sparse*__ (la mayoría de sus entradas son ceros), con lo que conviene usar estructuras de datos especiales para datos *sparse* para ser eficientes.\n",
    "\n",
    "Hay muchos [tipos de representación sparse](https://docs.scipy.org/doc/scipy/reference/sparse.html), y `sklearn` sólo trabaja con la representación [csr matrix](https://docs.scipy.org/doc/scipy/reference/generated/scipy.sparse.csr_matrix.html#scipy.sparse.csr_matrix), que es la que usamos."
   ]
  },
  {
   "cell_type": "code",
   "execution_count": 16,
   "metadata": {
    "ExecuteTime": {
     "end_time": "2021-10-04T18:21:09.555378Z",
     "start_time": "2021-10-04T18:21:09.545359Z"
    }
   },
   "outputs": [],
   "source": [
    "from scipy import sparse as sp_sparse"
   ]
  },
  {
   "cell_type": "code",
   "execution_count": 17,
   "metadata": {
    "ExecuteTime": {
     "end_time": "2021-10-04T18:22:15.393791Z",
     "start_time": "2021-10-04T18:21:09.560358Z"
    }
   },
   "outputs": [
    {
     "name": "stdout",
     "output_type": "stream",
     "text": [
      "X_train shape  (85000, 5000)\n",
      "X_val shape  (15000, 5000)\n",
      "X_test shape  (30000, 5000)\n"
     ]
    }
   ],
   "source": [
    "X_train_mybag = sp_sparse.vstack(\n",
    "    [sp_sparse.csr_matrix(my_bag_of_words(text, WORDS_TO_INDEX)) for text in X_train]\n",
    ")\n",
    "X_val_mybag = sp_sparse.vstack(\n",
    "    [sp_sparse.csr_matrix(my_bag_of_words(text, WORDS_TO_INDEX)) for text in X_val]\n",
    ")\n",
    "X_test_mybag = sp_sparse.vstack(\n",
    "    [sp_sparse.csr_matrix(my_bag_of_words(text, WORDS_TO_INDEX)) for text in X_test]\n",
    ")\n",
    "print(\"X_train shape \", X_train_mybag.shape)\n",
    "print(\"X_val shape \", X_val_mybag.shape)\n",
    "print(\"X_test shape \", X_test_mybag.shape)"
   ]
  },
  {
   "cell_type": "markdown",
   "metadata": {},
   "source": [
    "#### tf-idf\n",
    "\n",
    "En vez de hacerlo desde cero, podemos usar la clase [TfidfVectorizer](http://scikit-learn.org/stable/modules/generated/sklearn.feature_extraction.text.TfidfVectorizer.html) de `sklearn`. Como siempre, para entrenar el codificador sólo se puede usar el set de entrenamiento.\n",
    "\n",
    "Investiga los argumentos que definen `TfidfVectorizer`. Puedes filtrar las palabras muy raras y también las demasiado frecuentes. También permite utilizar combinaciones de palabras como tokens, es decir, n-gramas. Por último, el tokenizador por defecto separa palabras como 'c++' o 'c#' en varios tokens, pero esto no nos interesa, con lo que vamos a indicar que sólo separe por espacios con el parámetro `token_pattern`.\n",
    "\n",
    "Puedes usar:\n",
    "* `min_df=5`\n",
    "* `max_df=0.9`\n",
    "* `ngram_range=(1,2)` \n",
    "* `token_pattern='(\\S+)'`\n",
    "\n",
    "**Tarea 4 (tf-idf):** \n",
    "\n",
    "Contruye la función `tfidf_features()` que transforma el corpus en su representación *tf-idf*."
   ]
  },
  {
   "cell_type": "code",
   "execution_count": 18,
   "metadata": {
    "ExecuteTime": {
     "end_time": "2021-10-04T18:22:15.409818Z",
     "start_time": "2021-10-04T18:22:15.398792Z"
    }
   },
   "outputs": [],
   "source": [
    "from sklearn.feature_extraction.text import TfidfVectorizer\n",
    "import scipy\n",
    "\n",
    "# shorthand para el tipado de la CRS sparse matrix\n",
    "sp_matrix = scipy.sparse.csr.csr_matrix\n",
    "\n",
    "\n",
    "def tfidf_features(\n",
    "    X_train: list[str], X_val: list[str], X_test: list[str]\n",
    ") -> tuple[sp_matrix, sp_matrix, sp_matrix, dict]:\n",
    "    \"\"\"\n",
    "    X_train, X_val, X_test — lista de str\n",
    "    return representación TF-IDF de train, val y test, y el vocabulario word: idx\n",
    "    \"\"\"\n",
    "    ## ESCRIBE AQUÍ TU CÓDIGO\n",
    "    \n",
    "    # Crea el TF-IDF vectorizer con los parámetros adecuados\n",
    "    tfidf_vectorizer = TfidfVectorizer(min_df=5,max_df=0.9,ngram_range=(1,2),token_pattern=r'\\S+')  # rellena los parámetros\n",
    " \n",
    "    \n",
    "    \n",
    "    ## ESCRIBE AQUÍ TU CÓDIGO\n",
    "\n",
    "    # Ajusta tfidf_vectorizer al set de entrenamiento\n",
    "    # Transforma los sets de train, test, and val\n",
    "    X_train_tfidf = tfidf_vectorizer.fit_transform(X_train)\n",
    "    X_val_tfidf = tfidf_vectorizer.transform(X_val)\n",
    "    X_test_tfidf = tfidf_vectorizer.transform(X_test)\n",
    "\n",
    "    ##\n",
    "\n",
    "    return X_train_tfidf, X_val_tfidf, X_test_tfidf, tfidf_vectorizer.vocabulary_"
   ]
  },
  {
   "cell_type": "code",
   "execution_count": 19,
   "metadata": {
    "ExecuteTime": {
     "end_time": "2021-10-04T18:22:19.595198Z",
     "start_time": "2021-10-04T18:22:15.415460Z"
    }
   },
   "outputs": [],
   "source": [
    "X_train_tfidf, X_val_tfidf, X_test_tfidf, tfidf_vocab = tfidf_features(X_train, X_val, X_test)\n",
    "tfidf_reversed_vocab = {i:word for word,i in tfidf_vocab.items()}"
   ]
  },
  {
   "cell_type": "code",
   "execution_count": null,
   "metadata": {},
   "outputs": [],
   "source": []
  },
  {
   "cell_type": "code",
   "execution_count": 20,
   "metadata": {
    "ExecuteTime": {
     "end_time": "2021-10-04T18:22:19.611198Z",
     "start_time": "2021-10-04T18:22:19.599198Z"
    }
   },
   "outputs": [],
   "source": [
    "assert 'c++' in tfidf_vocab.keys()\n",
    "assert 'c#' in tfidf_vocab.keys()"
   ]
  },
  {
   "cell_type": "markdown",
   "metadata": {},
   "source": [
    "## Clasificador multi-etiqueta con sklearn\n",
    "\n",
    "El resultado de nuestro clasificador puede consistir en varias etiquetas. Lo primero que tenemos que hacer, es convertir los `y` en números, al igual que hicimos con las X.\n",
    "\n",
    "Se puede representar la multi-etiqueta convirtiendo cada lista de clases en un vector de 0's y 1's indicando la presencia de cada una de ellas.\n",
    "\n",
    "Esto se puede hacer automáticamente con [MultiLabelBinarizer](http://scikit-learn.org/stable/modules/generated/sklearn.preprocessing.MultiLabelBinarizer.html) de `sklearn`."
   ]
  },
  {
   "cell_type": "code",
   "execution_count": 21,
   "metadata": {
    "ExecuteTime": {
     "end_time": "2021-10-04T18:22:19.627198Z",
     "start_time": "2021-10-04T18:22:19.616198Z"
    }
   },
   "outputs": [],
   "source": [
    "from sklearn.preprocessing import MultiLabelBinarizer"
   ]
  },
  {
   "cell_type": "code",
   "execution_count": 22,
   "metadata": {
    "ExecuteTime": {
     "end_time": "2021-10-04T18:22:19.959816Z",
     "start_time": "2021-10-04T18:22:19.631198Z"
    }
   },
   "outputs": [],
   "source": [
    "mlb = MultiLabelBinarizer(classes=sorted(tags_counts.keys()))\n",
    "y_train = mlb.fit_transform(y_train)\n",
    "y_val = mlb.transform(y_val)\n",
    "y_test = mlb.transform(y_test)"
   ]
  },
  {
   "cell_type": "code",
   "execution_count": 23,
   "metadata": {
    "ExecuteTime": {
     "end_time": "2021-10-04T18:22:19.975873Z",
     "start_time": "2021-10-04T18:22:19.963797Z"
    }
   },
   "outputs": [
    {
     "data": {
      "text/plain": [
       "array(['.net', 'ajax', 'algorithm', 'android', 'angularjs', 'apache',\n",
       "       'arrays', 'asp.net', 'asp.net-mvc', 'c', 'c#', 'c++', 'class',\n",
       "       'cocoa-touch', 'codeigniter', 'css', 'csv', 'database', 'date',\n",
       "       'datetime', 'django', 'dom', 'eclipse', 'entity-framework',\n",
       "       'excel', 'facebook', 'file', 'forms', 'function', 'generics',\n",
       "       'google-maps', 'hibernate', 'html', 'html5', 'image', 'ios',\n",
       "       'iphone', 'java', 'javascript', 'jquery', 'json', 'jsp', 'laravel',\n",
       "       'linq', 'linux', 'list', 'loops', 'maven', 'mongodb',\n",
       "       'multithreading', 'mysql', 'node.js', 'numpy', 'objective-c',\n",
       "       'oop', 'opencv', 'osx', 'pandas', 'parsing', 'performance', 'php',\n",
       "       'pointers', 'python', 'python-2.7', 'python-3.x', 'qt', 'r',\n",
       "       'regex', 'rest', 'ruby', 'ruby-on-rails', 'ruby-on-rails-3',\n",
       "       'selenium', 'servlets', 'session', 'sockets', 'sorting', 'spring',\n",
       "       'spring-mvc', 'sql', 'sql-server', 'string', 'swift', 'swing',\n",
       "       'twitter-bootstrap', 'uitableview', 'unit-testing', 'validation',\n",
       "       'vb.net', 'visual-studio', 'visual-studio-2010', 'wcf',\n",
       "       'web-services', 'windows', 'winforms', 'wordpress', 'wpf', 'xaml',\n",
       "       'xcode', 'xml'], dtype=object)"
      ]
     },
     "execution_count": 23,
     "metadata": {},
     "output_type": "execute_result"
    }
   ],
   "source": [
    "#Se visualiza el orden de las palabras etiquetadas\n",
    "mlb.classes_"
   ]
  },
  {
   "cell_type": "code",
   "execution_count": 24,
   "metadata": {
    "ExecuteTime": {
     "end_time": "2021-10-04T18:22:19.991872Z",
     "start_time": "2021-10-04T18:22:19.979873Z"
    }
   },
   "outputs": [
    {
     "name": "stdout",
     "output_type": "stream",
     "text": [
      "[[0 0 0 0 0 0 1 0 0 0 0 0 0 0 0 0 0 0 0 0 0 1 0 0 0 0 0 0 0 0 0 0 0 0 0 0\n",
      "  0 0 1 0 0 0 0 0 0 0 0 0 0 0 0 0 0 0 0 0 0 0 0 0 0 0 0 0 0 0 0 0 0 0 0 0\n",
      "  0 0 0 0 0 0 0 0 0 0 0 0 0 0 0 0 0 0 0 0 0 0 0 0 0 0 0 0]\n",
      " [0 0 0 0 0 0 0 0 0 0 0 0 0 0 0 0 0 0 0 0 0 0 0 0 0 0 0 0 0 0 0 0 0 0 0 0\n",
      "  0 1 0 0 0 0 0 0 0 0 0 1 0 0 0 0 0 0 0 0 0 0 0 0 0 0 0 0 0 0 0 0 0 0 0 0\n",
      "  0 0 0 0 0 0 0 0 0 0 0 0 0 0 0 0 0 0 0 0 0 0 0 0 0 0 0 0]\n",
      " [0 0 0 0 0 0 0 0 0 0 0 0 0 0 0 0 0 0 0 0 0 0 0 0 0 0 0 0 0 0 0 0 0 0 0 0\n",
      "  0 1 0 0 0 0 0 0 0 0 0 0 0 0 0 0 0 0 0 0 0 0 0 0 0 0 0 0 0 0 0 0 0 0 0 0\n",
      "  0 0 0 0 0 0 0 0 0 0 0 0 0 0 0 0 0 0 0 0 0 0 0 0 0 0 0 0]\n",
      " [0 0 0 0 0 0 0 0 0 0 0 0 0 0 0 0 0 0 0 0 0 0 0 0 0 0 0 0 0 0 0 0 0 0 0 0\n",
      "  0 1 0 0 0 0 0 0 0 0 0 0 0 0 0 0 0 0 0 0 0 0 0 0 0 0 0 0 0 0 0 0 0 0 0 0\n",
      "  0 0 0 0 0 0 0 0 0 0 0 1 0 0 0 0 0 0 0 0 0 0 0 0 0 0 0 0]\n",
      " [0 0 0 0 0 0 1 0 0 0 0 0 0 0 0 0 0 0 0 0 0 0 0 0 0 0 0 0 0 0 0 0 0 0 0 0\n",
      "  0 0 0 0 0 0 0 0 0 0 1 0 0 0 0 0 0 0 0 0 0 0 0 0 1 0 0 0 0 0 0 0 0 0 0 0\n",
      "  0 0 0 0 0 0 0 0 0 1 0 0 0 0 0 0 0 0 0 0 0 0 0 0 0 0 0 0]]\n"
     ]
    }
   ],
   "source": [
    "print(y_train[0:5])"
   ]
  },
  {
   "cell_type": "markdown",
   "metadata": {},
   "source": [
    "### **Tarea 5 (Entrenamiento):** \n",
    "\n",
    "Implementa la función `train_classifier()` que entrena un clasificador dados los datos de entrenamiento. \n",
    "\n",
    "Como ya sabes, una clasificación multi-clase con $L$ etiquetas, se puede estudiar como $L$ clasificadores binarios. Esto se puede hacer en el formato *Uno contra todos*, que está implementado en [OneVsRestClassifier](http://scikit-learn.org/stable/modules/generated/sklearn.multiclass.OneVsRestClassifier.html).\n",
    "\n",
    "Como clasificador base se puede usar [LogisticRegression](http://scikit-learn.org/stable/modules/generated/sklearn.linear_model.LogisticRegression.html). Es uno de los métodos más simples, pero generalmente funciona bien en tareas de clasificación de texto."
   ]
  },
  {
   "cell_type": "code",
   "execution_count": 25,
   "metadata": {
    "ExecuteTime": {
     "end_time": "2021-10-04T18:22:20.007869Z",
     "start_time": "2021-10-04T18:22:19.996876Z"
    }
   },
   "outputs": [
    {
     "data": {
      "text/plain": [
       "(30000, 15708)"
      ]
     },
     "execution_count": 25,
     "metadata": {},
     "output_type": "execute_result"
    }
   ],
   "source": [
    "X_test_tfidf.shape"
   ]
  },
  {
   "cell_type": "code",
   "execution_count": 26,
   "metadata": {
    "ExecuteTime": {
     "end_time": "2021-10-04T18:22:20.039890Z",
     "start_time": "2021-10-04T18:22:20.020869Z"
    }
   },
   "outputs": [],
   "source": [
    "from sklearn.multiclass import OneVsRestClassifier\n",
    "from sklearn.linear_model import LogisticRegression, RidgeClassifier"
   ]
  },
  {
   "cell_type": "code",
   "execution_count": 27,
   "metadata": {
    "ExecuteTime": {
     "end_time": "2021-10-04T18:22:20.070898Z",
     "start_time": "2021-10-04T18:22:20.047890Z"
    }
   },
   "outputs": [],
   "source": [
    "def train_classifier(X_train: sp_matrix, y_train: np.array):\n",
    "    \"\"\"\n",
    "    X_train: sparse matrix con los datos X del conjunto de entrenamiento vectorizados\n",
    "    y_train: matriz con etiquetas binarizas\n",
    "\n",
    "    return: trained classifier\n",
    "    \"\"\"\n",
    "\n",
    "    # Crea y haz fit de una LogisticRegression envuelta en un OneVsRestClassifier.\n",
    "    assert X_train.shape[0] == y_train.shape[0]\n",
    "    ######################################\n",
    "    ## ESCRIBE AQUÍ TU CÓDIGO\n",
    "    ######################################\n",
    "    model = OneVsRestClassifier(LogisticRegression(max_iter=1000)).fit(X_train,y_train)\n",
    "    return model"
   ]
  },
  {
   "cell_type": "markdown",
   "metadata": {},
   "source": [
    "Entrena un modelo para cada una de las features que hemos construido: *bag-of-words* y *tf-idf*. Y luego calcula las predicciones sobre el conjunto de validación, vamos a necesitar las predicciones (labels) y las probabilidades (scores) para poder calcular métricas como la ROC curve."
   ]
  },
  {
   "cell_type": "code",
   "execution_count": 28,
   "metadata": {
    "ExecuteTime": {
     "end_time": "2021-10-04T18:25:22.681410Z",
     "start_time": "2021-10-04T18:22:20.076880Z"
    },
    "scrolled": false
   },
   "outputs": [],
   "source": [
    "classifier_mybag = train_classifier(X_train_mybag, y_train)\n",
    "classifier_tfidf = train_classifier(X_train_tfidf, y_train)"
   ]
  },
  {
   "cell_type": "code",
   "execution_count": 29,
   "metadata": {
    "ExecuteTime": {
     "end_time": "2021-10-04T18:25:23.055952Z",
     "start_time": "2021-10-04T18:25:22.686418Z"
    }
   },
   "outputs": [],
   "source": [
    "y_val_predicted_labels_mybag = classifier_mybag.predict(X_val_mybag)\n",
    "y_val_predicted_scores_mybag = classifier_mybag.decision_function(X_val_mybag)\n",
    "\n",
    "y_val_predicted_labels_tfidf = classifier_tfidf.predict(X_val_tfidf)\n",
    "y_val_predicted_scores_tfidf = classifier_tfidf.decision_function(X_val_tfidf)"
   ]
  },
  {
   "cell_type": "markdown",
   "metadata": {},
   "source": [
    "Veamos algún ejemplo:"
   ]
  },
  {
   "cell_type": "code",
   "execution_count": 30,
   "metadata": {
    "ExecuteTime": {
     "end_time": "2021-10-04T18:25:23.323974Z",
     "start_time": "2021-10-04T18:25:23.060951Z"
    }
   },
   "outputs": [
    {
     "name": "stdout",
     "output_type": "stream",
     "text": [
      "Title:\t'imlementing custom irouter aspnet 5 vnext mvc 6'\n",
      "True labels:\t\tasp.net-mvc,c#\n",
      "Predicted labels:\tasp.net,c#\n",
      "\n",
      "\n",
      "Title:\t'uiwebview application using proxy server'\n",
      "True labels:\t\tios,objective-c\n",
      "Predicted labels:\t\n",
      "\n",
      "\n",
      "Title:\t'formal argument type matched multiple actual arguments'\n",
      "True labels:\t\tr\n",
      "Predicted labels:\t\n",
      "\n",
      "\n"
     ]
    }
   ],
   "source": [
    "y_val_pred_inversed = mlb.inverse_transform(y_val_predicted_labels_tfidf)\n",
    "y_val_inversed = mlb.inverse_transform(y_val)\n",
    "for i in range(3):\n",
    "    print(\n",
    "        \"Title:\\t'{}'\\nTrue labels:\\t\\t{}\\nPredicted labels:\\t{}\\n\\n\".format(\n",
    "            X_val[i], \",\".join(y_val_inversed[i]), \",\".join(y_val_pred_inversed[i])\n",
    "        )\n",
    "    )"
   ]
  },
  {
   "cell_type": "markdown",
   "metadata": {},
   "source": [
    "### Evaluación\n",
    "\n",
    "Para evaluar el modelo de clasificación multi-clase, usaremos las siguientes métricas:\n",
    "\n",
    " - [Accuracy](http://scikit-learn.org/stable/modules/generated/sklearn.metrics.accuracy_score.html)\n",
    " - [F1-score](http://scikit-learn.org/stable/modules/generated/sklearn.metrics.f1_score.html)\n",
    " - [Area under ROC-curve](http://scikit-learn.org/stable/modules/generated/sklearn.metrics.roc_auc_score.html)\n",
    " - [Area under precision-recall curve](http://scikit-learn.org/stable/modules/generated/sklearn.metrics.average_precision_score.html#sklearn.metrics.average_precision_score) \n",
    "\n",
    "Estudia el significado de cada de las métricas, teniendo en cuenta que estamos ante un problema multi-clase y no binario. Lee sobre micro/macro/weighted averaging en la documentación de `sklearn`."
   ]
  },
  {
   "cell_type": "code",
   "execution_count": 31,
   "metadata": {
    "ExecuteTime": {
     "end_time": "2021-10-04T18:25:23.339978Z",
     "start_time": "2021-10-04T18:25:23.328984Z"
    }
   },
   "outputs": [],
   "source": [
    "from sklearn.metrics import accuracy_score\n",
    "from sklearn.metrics import f1_score\n",
    "from sklearn.metrics import roc_auc_score \n",
    "from sklearn.metrics import average_precision_score\n",
    "from sklearn.metrics import recall_score"
   ]
  },
  {
   "cell_type": "markdown",
   "metadata": {},
   "source": [
    "### **Tarea 6 (Evaluación):** \n",
    "\n",
    "Implementa la función `print_evaluation_scores()` que calcula e imprime las siguientes métricas:\n",
    " - *accuracy*\n",
    " - *F1-score macro/micro/weighted*\n",
    " - *Precision macro/micro/weighted*\n",
    " - *Recall macro/micro/weighted*\n",
    " \n",
    "Utiliza para ello las implementaciones de estas métricas de `sklearn`."
   ]
  },
  {
   "cell_type": "code",
   "execution_count": 32,
   "metadata": {
    "ExecuteTime": {
     "end_time": "2021-10-04T18:25:23.354974Z",
     "start_time": "2021-10-04T18:25:23.345957Z"
    }
   },
   "outputs": [],
   "source": [
    "def print_evaluation_scores(y_true, y_pred):\n",
    "    ######################################\n",
    "    ### ESCRIBE AQUÍ TU CÓDIGO\n",
    "    ######################################\n",
    "    avgs=['macro','micro','weighted']\n",
    "    print(f'Accuracy = {np.round( accuracy_score(y_true,y_pred),decimals=3)}')\n",
    "    for avg in avgs:\n",
    "        print(f'f1({avg}) = {np.round(f1_score(y_true,y_pred,average=avg) , decimals = 3)}')\n",
    "    for avg in avgs:\n",
    "        print(f'precision({avg}) = {np.round(average_precision_score(y_true,y_pred,average=avg), decimals = 3)}')\n",
    "    for avg in avgs:\n",
    "        print(f'recall({avg}) = {np.round(recall_score(y_true,y_pred,average=avg), decimals = 3)}')\n",
    "    \n",
    "    return None"
   ]
  },
  {
   "cell_type": "code",
   "execution_count": 33,
   "metadata": {
    "ExecuteTime": {
     "end_time": "2021-10-04T18:25:30.466787Z",
     "start_time": "2021-10-04T18:25:23.359954Z"
    }
   },
   "outputs": [
    {
     "name": "stdout",
     "output_type": "stream",
     "text": [
      "Bag-of-words\n",
      "Accuracy = 0.355\n",
      "f1(macro) = 0.493\n",
      "f1(micro) = 0.664\n",
      "f1(weighted) = 0.643\n",
      "precision(macro) = 0.332\n",
      "precision(micro) = 0.472\n",
      "precision(weighted) = 0.504\n",
      "recall(macro) = 0.4\n",
      "recall(micro) = 0.545\n",
      "recall(weighted) = 0.545\n",
      "\n",
      "Tfidf\n",
      "Accuracy = 0.327\n",
      "f1(macro) = 0.432\n",
      "f1(micro) = 0.628\n",
      "f1(weighted) = 0.602\n",
      "precision(macro) = 0.287\n",
      "precision(micro) = 0.442\n",
      "precision(weighted) = 0.472\n",
      "recall(macro) = 0.326\n",
      "recall(micro) = 0.486\n",
      "recall(weighted) = 0.486\n"
     ]
    }
   ],
   "source": [
    "print(\"Bag-of-words\")\n",
    "print_evaluation_scores(y_val, y_val_predicted_labels_mybag)\n",
    "print(\"\\nTfidf\")\n",
    "print_evaluation_scores(y_val, y_val_predicted_labels_tfidf)"
   ]
  },
  {
   "cell_type": "markdown",
   "metadata": {},
   "source": [
    "Es posible que también construir una generalización de la [curva ROC] (http://scikit-learn.org/stable/modules/model_evaluation.html#receiver-operating-characteristic-roc) para el caso de clasificación multi-etiqueta. \n",
    "\n",
    "Puedes cargar la función `roc_auc()` del módulo `metrics.py` en la misma carpeta del challenge. \n",
    "\n",
    "Los parámetros de entrada de esta función son:\n",
    " - y_test: Etiquetas verdaderas\n",
    " - y_score: Scores (probabilidades) del clasificador\n",
    " - n_classes: Número de etiquetas"
   ]
  },
  {
   "cell_type": "code",
   "execution_count": 34,
   "metadata": {
    "ExecuteTime": {
     "end_time": "2021-10-04T18:25:32.493083Z",
     "start_time": "2021-10-04T18:25:30.471798Z"
    }
   },
   "outputs": [
    {
     "name": "stdout",
     "output_type": "stream",
     "text": [
      "Número de etiquetas: 100\n"
     ]
    },
    {
     "data": {
      "image/png": "[encoded data removed]",
      "text/plain": [
       "<Figure size 432x288 with 1 Axes>"
      ]
     },
     "metadata": {
      "needs_background": "light"
     },
     "output_type": "display_data"
    }
   ],
   "source": [
    "from metrics import roc_auc\n",
    "\n",
    "n_labels = len(tags_counts)\n",
    "print(f\"Número de etiquetas: {n_labels}\")\n",
    "roc_auc(y_val, y_val_predicted_scores_mybag, n_labels)"
   ]
  },
  {
   "cell_type": "markdown",
   "metadata": {},
   "source": [
    "### Extra : Hyper parameter tuning"
   ]
  },
  {
   "cell_type": "markdown",
   "metadata": {},
   "source": [
    "Una vez hemos entrenado un modelo y lo hemos evaluado, podemos proceder a hacer ajuste de hiperparámetros, para ello usaremos como métrica de validación *F1-score weighted*, **sobre los datos de validación**.\n",
    "\n",
    "Por ejemplo, puedes seguir la siguiente estrategia:\n",
    "* Compara la calidad de bag of words y TF-IDF y elige uno.\n",
    "* Investiga cambiando los parámetros de la regularización *L1* y *L2* de la Logistic Regression (e.g. C con valores de 0.1, 1, 10, 100). \n",
    "\n",
    "Puedes elegir también otro clasificador base, como Random Forest. O modificar el preprocessing.\n",
    "\n",
    "Para finalizar, evalua el mejor modelo (sobre la métrica de validación) en el **set de test** para estimar sus métricas."
   ]
  },
  {
   "cell_type": "markdown",
   "metadata": {},
   "source": [
    "* Se elige **Bag of words** al haber conseguido unas métricas mejores en el primer modelo realizado"
   ]
  },
  {
   "cell_type": "code",
   "execution_count": 35,
   "metadata": {
    "ExecuteTime": {
     "end_time": "2021-10-04T18:41:27.935359Z",
     "start_time": "2021-10-04T18:25:32.498083Z"
    }
   },
   "outputs": [
    {
     "name": "stdout",
     "output_type": "stream",
     "text": [
      "Logistic Regression(penalty= l1 C= 0.1 solver= liblinear ) f1= 0.6041036504712527\n",
      "Logistic Regression(penalty= l1 C= 1 solver= liblinear ) f1= 0.6506245394298533\n",
      "Logistic Regression(penalty= l1 C= 10 solver= liblinear ) f1= 0.6390088265531615\n",
      "Logistic Regression(penalty= l1 C= 100 solver= liblinear ) f1= 0.6061816116931814\n",
      "Logistic Regression(penalty= l2 C= 0.1 solver= lbfgs ) f1= 0.5804655672302368\n",
      "Logistic Regression(penalty= l2 C= 1 solver= lbfgs ) f1= 0.6425937755606824\n",
      "Logistic Regression(penalty= l2 C= 10 solver= lbfgs ) f1= 0.6452345860815433\n",
      "Logistic Regression(penalty= l2 C= 100 solver= lbfgs ) f1= 0.6226075469965067\n",
      "Wall time: 15min 55s\n"
     ]
    }
   ],
   "source": [
    "%%time\n",
    "######################################\n",
    "## ESCRIBE AQUÍ TU CÓDIGO\n",
    "######################################\n",
    "def validate(model, X_train, y_train, X_val, y_val) -> float:\n",
    "    \"\"\"\n",
    "    model: Modelo de sklearn sin hacer el fit\n",
    "    X_train, y_train — training data\n",
    "    X_val, y_val: validation data\n",
    "\n",
    "    return: métrica de validación f1-weighted\n",
    "    \"\"\"\n",
    "    #Se entrena el modelo\n",
    "    model=model.fit(X_train,y_train)\n",
    "    #Se realiza predicción\n",
    "    y_predict=model.predict(X_val)\n",
    "    #Se realiza evaluación\n",
    "    val_metric = f1_score(y_val,y_predict,average='weighted')\n",
    "    return val_metric\n",
    "\n",
    "#Se definen los parámetros\n",
    "\n",
    "penaltis=['l1', 'l2']\n",
    "c_params=[0.1, 1, 10, 100]\n",
    "params=[]\n",
    "# bucle para hacer la Grid Search\n",
    "for penalti in penaltis:\n",
    "    \n",
    "    solve=\"\"#saga\"\n",
    "    if penalti=='l1':\n",
    "        solve='liblinear'\n",
    "    elif penalti=='l2':\n",
    "        solve='lbfgs'\n",
    "    for c in c_params:\n",
    "\n",
    "        modelo=OneVsRestClassifier(LogisticRegression(penalty=penalti,C=c,solver=solve,max_iter=1000))\n",
    "        resultado=validate(modelo,X_train_mybag,y_train,X_val_mybag,y_val)\n",
    "        print('Logistic Regression(penalty=',penalti,'C=',c,'solver=',solve,')','f1=',resultado)\n",
    "        #Se crea un diccionario con los hiperparámetros y f1 de cada iteración\n",
    "        diccionario=dict(penalty=penalti,C=c,solver=solve,f1=resultado)\n",
    "        #Se añaden los parámetros a una lista\n",
    "        params.append(diccionario)\n",
    "#Ordenamos los diccionarios por su f1\n",
    "params=sorted(params,key=lambda f1:f1['f1'],reverse=True)\n",
    "#Nos quedamos con el resultado que obtiene mejor f1\n",
    "best_params=params[0]"
   ]
  },
  {
   "cell_type": "markdown",
   "metadata": {},
   "source": [
    "* Hemos estado entorno a 15 minutos realizando pruebas para ver que cambiando los hiperparámetros del modelo original mejoraríamos el f1 en una centésima. "
   ]
  },
  {
   "cell_type": "code",
   "execution_count": 36,
   "metadata": {
    "ExecuteTime": {
     "end_time": "2021-10-04T18:41:27.950973Z",
     "start_time": "2021-10-04T18:41:27.940357Z"
    }
   },
   "outputs": [
    {
     "data": {
      "text/plain": [
       "{'penalty': 'l1', 'C': 1, 'solver': 'liblinear', 'f1': 0.6506245394298533}"
      ]
     },
     "execution_count": 36,
     "metadata": {},
     "output_type": "execute_result"
    }
   ],
   "source": [
    "best_params"
   ]
  },
  {
   "cell_type": "code",
   "execution_count": 37,
   "metadata": {
    "ExecuteTime": {
     "end_time": "2021-10-04T18:42:00.975796Z",
     "start_time": "2021-10-04T18:41:27.955981Z"
    }
   },
   "outputs": [
    {
     "data": {
      "text/plain": [
       "OneVsRestClassifier(estimator=LogisticRegression(C=1, max_iter=1000,\n",
       "                                                 penalty='l1',\n",
       "                                                 solver='liblinear'))"
      ]
     },
     "execution_count": 37,
     "metadata": {},
     "output_type": "execute_result"
    }
   ],
   "source": [
    "best_model=OneVsRestClassifier(LogisticRegression(penalty=best_params['penalty'],\n",
    "                                                  C=best_params['C'],\n",
    "                                                  solver=best_params['solver'],max_iter=1000))\n",
    "best_model.fit(X_train_mybag,y_train)"
   ]
  },
  {
   "cell_type": "code",
   "execution_count": 38,
   "metadata": {
    "ExecuteTime": {
     "end_time": "2021-10-04T18:42:12.184392Z",
     "start_time": "2021-10-04T18:42:00.981796Z"
    }
   },
   "outputs": [
    {
     "name": "stdout",
     "output_type": "stream",
     "text": [
      "Best params: {'penalty': 'l1', 'C': 1, 'solver': 'liblinear', 'f1': 0.6506245394298533}\n",
      "VALIDATION SET\n",
      "Accuracy = 0.362\n",
      "f1(macro) = 0.507\n",
      "f1(micro) = 0.672\n",
      "f1(weighted) = 0.651\n",
      "precision(macro) = 0.343\n",
      "precision(micro) = 0.48\n",
      "precision(weighted) = 0.512\n",
      "recall(macro) = 0.42\n",
      "recall(micro) = 0.558\n",
      "recall(weighted) = 0.558\n",
      "TEST SET\n",
      "Accuracy = 0.364\n",
      "f1(macro) = 0.517\n",
      "f1(micro) = 0.677\n",
      "f1(weighted) = 0.655\n",
      "precision(macro) = 0.355\n",
      "precision(micro) = 0.487\n",
      "precision(weighted) = 0.517\n",
      "recall(macro) = 0.429\n",
      "recall(micro) = 0.561\n",
      "recall(weighted) = 0.561\n"
     ]
    }
   ],
   "source": [
    "print(f\"Best params: {best_params}\")\n",
    "\n",
    "y_val_pred = best_model.predict(X_val_mybag) \n",
    "print(\"VALIDATION SET\")\n",
    "print_evaluation_scores(y_val, y_val_pred)\n",
    "\n",
    "y_test_pred = best_model.predict(X_test_mybag) \n",
    "print(\"TEST SET\")\n",
    "print_evaluation_scores(y_test, y_test_pred)"
   ]
  },
  {
   "cell_type": "markdown",
   "metadata": {},
   "source": [
    "### Extra: Interpretabilidad del modelo"
   ]
  },
  {
   "cell_type": "markdown",
   "metadata": {},
   "source": [
    "En la práctica es muy importante explorar las features (en este caso las palabras o n-gramas) que tienen pesos más altos en el modelo de regresión logística (en el caso de árboles de decisión slearn implementa por defecto la *feature importance*, aunque se recomienda usar la **permutation feature importance**).\n",
    "\n",
    "Implementa la función `print_words_for_tag()` para encontrarlas. Investiga la documentación de [OneVsRestClassifier](http://scikit-learn.org/stable/modules/generated/sklearn.multiclass.OneVsRestClassifier.html) y [LogisticRegression](http://scikit-learn.org/stable/modules/generated/sklearn.linear_model.LogisticRegression.html) para saber como acceder a los coeficientes de la regresión."
   ]
  },
  {
   "cell_type": "code",
   "execution_count": 39,
   "metadata": {
    "ExecuteTime": {
     "end_time": "2021-10-04T18:42:12.214418Z",
     "start_time": "2021-10-04T18:42:12.189392Z"
    }
   },
   "outputs": [],
   "source": [
    "def print_words_for_tag(classifier, tag, tags_classes, index_to_words, topn: int = 5) -> None:\n",
    "    \"\"\"\n",
    "    Imprime por pantalla los tokens que tienen los `topn` mayores/menores coeficientes\n",
    "    de un clasificador lineal de sklearn, para una `tag` concreta.\n",
    "    \n",
    "    classifier: modelo de sklearn entrenado\n",
    "    tag: modelo de la etiqueta que queremos interpretar\n",
    "    tags_classes: todas las etiquetas que considera el MultiLabelBinarizer\n",
    "    index_to_words: diccionario index_to_words\n",
    "    topn: número de tokens positivos y negativos\n",
    "\n",
    "    return None\n",
    "    \"\"\"\n",
    "    print(f\"Tag:\\t{tag}\")\n",
    "    \n",
    "    # Para implementar la interpretación seguiremos dos pasos:\n",
    "    # 1. Extrae el clasificador de la etiqueta concreta `tag`\n",
    "    # 2. Extrae los coeficientes del clasificador anterior y asócialos a los tokens\n",
    "\n",
    "    ######################################\n",
    "    ## ESCRIBE AQUÍ TU CÓDIGO\n",
    "    ######################################\n",
    "    \n",
    "    # Sacamos la posición que ocupa el tag y así podemos indexar el clasificador.\n",
    "    clf_tag=classifier_tfidf.estimators_[mlb.classes.index(tag)]\n",
    "    # Extaremos los valores de los coeficntes del clasifcador y lo redondeamos a 3 decimales.\n",
    "    lista_coeficientes=list(np.round(clf_tag.coef_[0][:],decimals=3))\n",
    "    # Sacams los topn positivos y negativos.\n",
    "    lista_coef_topn_mayores = sorted(lista_coeficientes,reverse=True)[:topn]\n",
    "    lista_coef_topn_menores = sorted(lista_coeficientes,reverse=True)[-topn:]\n",
    "\n",
    "    # Extaraemos la posición de los tokens cuyos coeficientes hemos extraido en el paso anterior\n",
    "\n",
    "    lista_indices_topn_mayores = [lista_coeficientes.index(topn_mayor) for topn_mayor in lista_coef_topn_mayores ]\n",
    "    lista_indices_topn_menores = [lista_coeficientes.index(topn_menor) for topn_menor in lista_coef_topn_menores ]\n",
    "\n",
    "    # Extraemos el token a partir de su indice.\n",
    "\n",
    "    lista_tokens_topn_mayores = [tfidf_reversed_vocab.get(ind) for ind in lista_indices_topn_mayores]\n",
    "    lista_tokens_topn_menores = [tfidf_reversed_vocab.get(ind) for ind in lista_indices_topn_menores]\n",
    "\n",
    "\n",
    "    diccionario_mayores=dict(zip(lista_tokens_topn_mayores,lista_coef_topn_mayores))\n",
    "    diccionario_menores=dict(zip(lista_tokens_topn_menores,lista_coef_topn_menores))\n",
    "    print(f\"Tokens con mayor coeficiente:\")\n",
    "    print(f\"\\t{diccionario_mayores}\\n\")\n",
    "    print(f\"Tokens con menor coeficiente:\")\n",
    "    print(f\"\\t{diccionario_menores}\\n\")\n",
    "    print(f\"\\n\")\n",
    "\n",
    "    return None"
   ]
  },
  {
   "cell_type": "code",
   "execution_count": 40,
   "metadata": {
    "ExecuteTime": {
     "end_time": "2021-10-04T18:42:12.477589Z",
     "start_time": "2021-10-04T18:42:12.220391Z"
    }
   },
   "outputs": [
    {
     "name": "stdout",
     "output_type": "stream",
     "text": [
      "Tag:\tpython\n",
      "Tokens con mayor coeficiente:\n",
      "\t{'python': 25.222, 'pandas': 10.701, 'numpy': 9.94, 'matplotlib': 9.484, 'flask': 8.725, 'tkinter': 8.395, 'sqlalchemy': 8.307, 'django': 7.455, 'beautifulsoup': 7.002, 'scrapy': 6.997}\n",
      "\n",
      "Tokens con menor coeficiente:\n",
      "\t{'swift': -3.541, 'c': -3.886, 'r': -4.245, 'rails': -4.259, 'c++': -4.671, 'jquery': -5.034, 'javascript': -5.56, 'c#': -7.107, 'java': -7.22, 'php': -7.712}\n",
      "\n",
      "\n",
      "\n",
      "Tag:\tpython-2.7\n",
      "Tokens con mayor coeficiente:\n",
      "\t{'python': 6.457, '27': 4.193, 'python 27': 2.949, 'list': 2.832, 'module': 2.709, 'tkinter': 2.64, 'install': 2.425, 'typeerror': 2.251, 'pandas': 2.047, 'pip': 1.981}\n",
      "\n",
      "Tokens con menor coeficiente:\n",
      "\t{'database': -0.83, 'add': -0.907, 'rails': -0.912, 'method': -0.915, 'c++': -1.15, 'jquery': -1.296, 'c#': -1.611, 'javascript': -1.614, 'php': -1.726, 'java': -1.885}\n",
      "\n",
      "\n",
      "\n",
      "Tag:\tpython-3.x\n",
      "Tokens con mayor coeficiente:\n",
      "\t{'python': 6.443, 'python 3': 5.835, 'python3': 5.776, '3': 3.767, 'tkinter': 3.364, 'pip': 2.469, 'python 32': 2.25, 'output': 2.237, 'input': 2.185, 'python 3x': 2.087}\n",
      "\n",
      "Tokens con menor coeficiente:\n",
      "\t{'android': -0.791, 'add': -0.825, 'array': -0.916, 'rails': -0.984, 'jquery': -1.063, 'c++': -1.139, 'c#': -1.609, 'javascript': -1.665, 'php': -1.895, 'java': -1.979}\n",
      "\n",
      "\n",
      "\n",
      "Tag:\tc\n",
      "Tokens con mayor coeficiente:\n",
      "\t{'c': 15.728, 'malloc': 5.355, 'scanf': 5.255, 'gcc': 5.084, 'pointer': 5.045, 'printf': 4.915, 'linux': 4.808, 'kernel': 4.546, 'struct': 4.244, 'char': 4.021}\n",
      "\n",
      "Tokens con menor coeficiente:\n",
      "\t{'class': -2.688, 'c++': -2.788, 'jquery': -3.496, 'objective': -4.061, 'c#': -4.394, 'javascript': -4.843, 'python': -5.196, 'php': -5.731, 'java': -5.769}\n",
      "\n",
      "\n",
      "\n",
      "Tag:\tc++\n",
      "Tokens con mayor coeficiente:\n",
      "\t{'c++': 19.689, 'qt': 9.581, 'boost': 7.157, 'mfc': 6.5, 'opencv': 5.989, 'stl': 5.68, 'c++11': 5.545, 'stdstring': 5.32, 'boostasio': 5.148, 'g++': 5.099}\n",
      "\n",
      "Tokens con menor coeficiente:\n",
      "\t{'rails': -3.735, 'swift': -3.758, 'r': -3.825, 'ruby': -3.893, 'jquery': -4.996, 'c#': -6.492, 'javascript': -6.735, 'python': -6.882, 'php': -7.527, 'java': -8.065}\n",
      "\n",
      "\n",
      "\n",
      "Tag:\tlinux\n",
      "Tokens con mayor coeficiente:\n",
      "\t{'linux': 12.448, 'ubuntu': 4.194, 'c': 3.399, 'unix': 3.261, 'shared': 3.124, 'address': 3.104, 'signal': 2.816, 'execute': 2.779, 'script': 2.695, 'gcc': 2.651}\n",
      "\n",
      "Tokens con menor coeficiente:\n",
      "\t{'image': -1.163, 'string': -1.2, 'page': -1.208, 'value': -1.29, 'aspnet': -1.324, 'method': -1.406, 'jquery': -1.786, 'array': -1.793, 'c#': -2.339, 'javascript': -2.345}\n",
      "\n",
      "\n",
      "\n",
      "Tag:\tr\n",
      "Tokens con mayor coeficiente:\n",
      "\t{'r': 17.877, 'ggplot2': 9.571, 'ggplot': 8.263, 'shiny': 6.209, 'dplyr': 6.14, 'rstudio': 5.594, 'dataframe': 5.144, 'data frame': 4.769, 'plot': 4.601, 'matrix': 4.117}\n",
      "\n",
      "Tokens con menor coeficiente:\n",
      "\t{'pandas': -1.989, 'android': -1.991, 'c++': -2.41, 'jquery': -2.423, 'array': -2.522, 'c#': -2.963, 'javascript': -3.162, 'php': -3.514, 'java': -3.515, 'python': -3.737}\n",
      "\n",
      "\n",
      "\n"
     ]
    }
   ],
   "source": [
    "for tag in [\"python\", 'python-2.7', \"python-3.x\", \"c\", \"c++\", \"linux\", \"r\"]:\n",
    "    print_words_for_tag(classifier_tfidf, tag, mlb.classes, tfidf_reversed_vocab, topn= 10)"
   ]
  },
  {
   "cell_type": "markdown",
   "metadata": {},
   "source": [
    "## Preguntas finales\n",
    "* ¿Qué features han resultado mejores para el modelo escogido, BoW o tf-idf? ¿Crees que esta superioridad se mantendrá en otros modelos?\n",
    "    * **Respuestas:**\n",
    "\n",
    "        * El modelo realizado con BoW a registrado unas métricas ligeramente mejores a tf-idf\n",
    "\n",
    "        * No se puede hablar de un modelo superior a otro. Mientras Bag of Words es más sencillo de interpretar, ya que solo tiene en cuenta la frecuencia de la palabra o n-grama en cada documento, el modelo TF-IDF además contiene información sobre las palabras más y menos importantes, ya que penaliza las palabras que aparecen mucho en los documentos de todo el corpus, como indicador que igual aportan poco significado para poder clasificarlos.\n",
    "\n",
    "    \n",
    "* ¿Qué valor se ha obtenido de accuracy para el clasificador? ¿Es esto un valor aceptable? Argumenta la respuesta.\n",
    "    * **Respuesta:**\n",
    "\n",
    "        * Utilizando un clasificador de regresión logística, obtenemos los mejores resultados con los siguientes hiperparámetros:\n",
    "            * **Penalización 'l1', valor de C=1 y solver 'liblinear' de esta manera obtenemos un accuracy del 0.36 tanto para validación como para test**\n",
    "\n",
    "    \n",
    "* En caso de haber realizado el hyperparameter tuning, ¿cuál ha sido la ganancia en F1-weighted entre haber realizado este paso adicional? ¿Cuánto tiempo adicional te ha llevado? ¿Merece la pena?\n",
    "    * **Respuestas:**\n",
    "\n",
    "        * Tras llevar a cabo la hiperparametrización ***la mejora en el F1-weighted ha sido de una centésima*** respecto a los valores por defecto. Teniendo en cuenta que el tiempo empleado para esta mejora mínima puede llegar a superar los 20 mínutos, en nuestros equipos, consideramos que el **coste-beneficio** de realizarlo merezca la pena, en este caso en concreto, en el que se ha utilizado LogisticRegresion, tal vez con otros algoritmos clasificadores si se hubira podido apreciar más.\n",
    "    \n",
    "    \n",
    "* En caso de haber realizado el hyperparameter tuning, ¿hay diferencia entre las métricas obtenidas por el mejor modelo sobre el conjunto de validación y el de test? En caso de que sea así, ¿puedes explicar el por qué de dichas diferencias?\n",
    "    * **Respuestas:**\n",
    "        * Las métricas obtenidas en ambos conjuntos son muy similares. \n",
    "        * La obtención de métricas o scores muy similares entre los modelos de validación y el de test es buena señal de que el modelo predice por igual con los datos tanto de validación que sirve para una estimación más o menos temprana, como para los de test que ya es la prueba de toque de como funciona nuestra modelo. Esta similitud de las métricas es un indicador de que no existe **OVERFEATING\\SOBREAJUSTE** de nuestro modelo. Si por el contrario las métricas hubieran sido muy dispares entre la parte train\\val y la parte test, nos hubiera dado una mala señal y muy probablemente de OVERFEATING dado que funcionaría muy bien con el la parte de train\\val y regular sobre la parte de test.\n",
    "    \n",
    "    \n",
    "* En caso de haber implementado la interpretabilidad del modelo, comenta sobre los resultados obtenidos. ¿Tiene esto sentido?\n",
    "    * **Respuestas:**\n",
    "        * Si tienen sentido. Los resultados de la interpretabilidad del modelo dan como resultado tokens positivos relacionados con herramientas y aplicaciones del programa correspondiente al tag analizado y token negativos de palabras relacionadas con otros programas, por ejemplo en el tag de 'python' los tokens positivos son 'matplotlib', 'pandas', 'numpy'..., muy ligados al mundo del desarrollo en python y como negativos 'r', 'c++', 'php'..., que nada o muy poco tienen que ver con python. Por lo que los resultados son totalmente coherentes, y podriamos entender que nuestro modelo está bien planteado."
   ]
  },
  {
   "cell_type": "code",
   "execution_count": null,
   "metadata": {},
   "outputs": [],
   "source": []
  }
 ],
 "metadata": {
  "jupytext": {
   "formats": "ipynb,md"
  },
  "kernelspec": {
   "display_name": "Python 3",
   "language": "python",
   "name": "python3"
  },
  "language_info": {
   "codemirror_mode": {
    "name": "ipython",
    "version": 3
   },
   "file_extension": ".py",
   "mimetype": "text/x-python",
   "name": "python",
   "nbconvert_exporter": "python",
   "pygments_lexer": "ipython3",
   "version": "3.9.2"
  },
  "toc": {
   "base_numbering": 1,
   "nav_menu": {},
   "number_sections": true,
   "sideBar": true,
   "skip_h1_title": false,
   "title_cell": "Table of Contents",
   "title_sidebar": "Contents",
   "toc_cell": false,
   "toc_position": {
    "height": "calc(100% - 180px)",
    "left": "10px",
    "top": "150px",
    "width": "245.76px"
   },
   "toc_section_display": true,
   "toc_window_display": true
  },
  "varInspector": {
   "cols": {
    "lenName": 16,
    "lenType": 16,
    "lenVar": 40
   },
   "kernels_config": {
    "python": {
     "delete_cmd_postfix": "",
     "delete_cmd_prefix": "del ",
     "library": "var_list.py",
     "varRefreshCmd": "print(var_dic_list())"
    },
    "r": {
     "delete_cmd_postfix": ") ",
     "delete_cmd_prefix": "rm(",
     "library": "var_list.r",
     "varRefreshCmd": "cat(var_dic_list()) "
    }
   },
   "types_to_exclude": [
    "module",
    "function",
    "builtin_function_or_method",
    "instance",
    "_Feature"
   ],
   "window_display": false
  }
 },
 "nbformat": 4,
 "nbformat_minor": 4
}
