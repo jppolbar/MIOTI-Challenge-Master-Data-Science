{
 "cells": [
  {
   "cell_type": "markdown",
   "metadata": {},
   "source": [
    "<img src=\"data:image/png;base64,iVBORw0KGgoAAAANSUhEUgAAAa8AAAB1CAMAAADOZ57OAAAAe1BMVEXoQ3H////nN2rpTnnzpbj0r8DnNGj3w9HpSXfoP27mKmPsZIr61d/nO2z4z9nxkar++PrxmrD86u/74+n73+b98vXqVX762uLvhqHtdZTrX4X0rL3ufpvwjqftb5H1tMT2vMvtcJLxl67rW4PmIF/ugp74yNTyoLX50dxex019AAAH1klEQVR4nO2d63byKhCGKUYMKp7PWrW11e/+r3CTqvWQYAYYCNnl/dXV1QYyT4aZAULI2/9fo3+tZLFcHUim2Wq5SPa9cdWdMhQZeW+yoMX5uqnS2sqy017ykXLBKOecnCV/opRy0hn2DO/9eEoQdcr1Yqc0RnNHZr6ftM91/nfrNlXpq2Xc0ri5bGRkiiWppdtkPtC/7ru6twb66j1fnzPlHxOSNvwCG7ab+V82qcKohDBDXqPdljChvOyVGV8l2l7WL7uslliOV6r+4wZpCK8edmLUB6/uIlU61qMksk1Lz8mq5UWERw9L2sQDr+O21LPuJdihqUOsYl6Ep76AndrEPa9jh8Fc6ybOSEFUValqXjJl8gMsw+WaV3emTevcTrqHNlE5L8KFj7R+yLK2nPIabcxoZTagqy6skep5eRkSP89QXPLaERtTct4HhbEAeBHuPOm44HLIa7QE5oRK0RnExULgRcRsAjaMic6DIXHIa5/a25GLpNzFguDlOK3/STV+5IrX0DhyPba3mZa1FAYvpzHshssRr8EHU15CT7RRNtAEwkvGW1dZ4vCGyw2v8QzPhlwcXzcWCi+Z0rrxsM/7Z98FrzlBGQt/23xdPAfDS961C2D9BxoOeB1TVFxlwMLhJWMYfpb4iMsBryNHxiVbLejk7YbC4SXrsLkOC4A+nxIBdF4TgY6ruJdXhcRLAsP1sOFz3obNa4Ibu367qW43KF7IQ+J9ZngxBC6v6cwJLvkQKKc6wuKFOlufx4XNq4NqvHszKLe2BMaLcIYFrF9QxOLyWqj/01b8oLqrwHhJD8MZEvtFxkTltcOa1SgSXShuKzReMoZhZImFuFB5TTRtoylF2+HxQknriwZDgsvLWfC6qHiCLkBeCB72XHddhcgrcRe8zhKbomZD5GWd1ufqrqvweI1dBq+z2kWtB8nLMq1XeRcmr63j0ZBkcaFgNey9zYr1yt254n9Yfn+vGS+rtP5d/eij8Trmazt80c98w+OuSuq75oe56p9yT4QhL8KFaQx7f/GkYfEaNNxMbDxLJyyonyDegV/FlJcs8c2AvcKFxstp6XVTccqhUMW8DLPEF4MhQeM1PfhxL8I1TFA1LyNgirrrKiRentxLz8Eq52UwJKozw7NweA1WntxLAoPvaqmel0w69OqwEu/C4nX05V6yw0PwzQfAS6b1OsBex66f20fh5aH2unUBfPch8CKcwofERfljj8Jr4m00zLoAfnMlCF6vllqfBFmNQuF1cj1zeC++hVo6DF4yS4QBAy0eovBytAlA1YfSLdoXBcILCKw8dmXC4DX3GL2k6A5o6VB4gYbE0szwcvMIvIY+h0OZ0S+Blg6GF2AuEeZdOLz8DocSGHBADIdXaVoPyAzPQuA19Vd8XTpR8gbEVQHxkp1+5WHfYBMi8Nr7HQ6lf/Vhlg6KF+f/lE18wy2IwAt3gRcgvoWdzxEUL5l05JZCL9LZBYjAy9/c4a9gc4hh8ZJpfbGHQVONHyHw8h2+SmJBsLwUab0WLgReEx8bAR5FYcffhMarMK3Xw4XAa+/fv8R7PXnJtP4ZGDiRv8iel/Nth3lxWMUcHi9pwMchcaP7sNvz8p4eSnOvQAliiLy4uM8SN9rPuj2vpX9epAFKEEPk9ZDWa9RdV1nzGnT8p/ME9iJ+kLxkWn8BNtCNXZnseRl02VqwN6zC5HX1MCNcCLxe3I8zwQqwQHnJGJYlHUa46soLtGIbKq+ftB4+xfsga15T/+Vy7XllU6CGVVDkVQkv41MvIq9qeJkqxq/Iy73qnR/aCKH+qqBernX9ZaU4v/HHeMX5Q6+y5/Ue5+c9Kq5//TVecX3Zp+x5zf3zquv+DQQh7I/yP8EBK5cjr2Jevo4GuFMt9x+iqJb7ezt13N+Lo1run4elG5FXKO+nAD+6E3kVm8r3DGIN3/9CU3y/8u/xiu8v+1M8H+AP8vI6INbu/A1UxfNt/iCvt61HYG2wpSMvFa9WPJ/Nk+p3/iH82OnIK54v+qD68orn93pSPB/7b/IaeKqZa3T+vBPV7PsOwJOIIq+LXixluP6aFFF8PyXyMuM1ch/BoAtfkddVryzm/BRfrWQj8soU4Pf1Iq9Av19Z+LW2yMvm+7AuR0TxrYkr8iqN+JqHjelIzDRpRV6kPENz9mEO9ffN1Yq8Snk5m+bg0I9a3CnyKq+ARm42t2lWXmdFXgC7TVIHwIp6Wa7IC/Kc9zg6MGaEK/KCjUs97CGRwV73yinygsWReQP3k+MJ3LgPiryAcX80wyucuQB+fSOvyAuapw0+sApn0dD7YOe9Ii94Xj1kKEGMLbVWvB4VeWnUQfvUPohxcYLbNa/IS6duHS+ppYvRmcGkxp0iL715hiaxcTEu+hZjYabIS3NeaLQxj2L0YOdcb5EX0Z/H687MiDECfgtFrcjLYN712GnrEuOMGM5oPCryMponb22ZThwT7LCGna9RpsjLbF3jrbsgwGGRU7E84tCKvIgpL5l57Lak1Ms45asT/HWhUnngRahntQt4rdvKP/8y5CU1bi4bVFmScUrTzknj5ROAvpS3wQ7wq3CmvAwh68SzTgVZ83zdVGlt9fhPe8lW1lWMit81Ms65oFSQ1bCnv0GjRCf1bUOPhJDaKY3R3BHsLgeo0b9WsvhYzX5wpavt92l/RBwEveo/edWrkVzXU5sAAAAASUVORK5CYII=\" style=\"height: 100px\">\n",
    "<center style=\"color:#888\">Módulo Advanced Data Science<br/>Natural Language Processing</center>\n",
    "\n",
    "# S1. Challenge. Clasificación multi-etiqueta (Parte 1)"
   ]
  },
  {
   "cell_type": "markdown",
   "metadata": {},
   "source": [
    "En este **challenge** vamos a aprender a predecir etiquetas de *posts* de [StackOverflow](https://stackoverflow.com). Técnicamente, es una tarea de clasificación multi-etiqueta. Nótese que el lenguaje en el que están escritas las entradas es el **INGLÉS**, con lo que algunos de los pasos serás específicos para dicho idioma.\n",
    "\n",
    "Debido a la longitud del proyecto, está dividido en dos partes. En esta primera parte nos enfocaremos en el preprocesado y construcción de features. Para terminar entrenando modelos en una segunda parte.\n",
    "\n",
    "## Librerías\n",
    "\n",
    "Haremos uso de las siguientes librerías\n",
    "- [Numpy](http://www.numpy.org) \n",
    "- [Pandas](https://pandas.pydata.org) \n",
    "- [scikit-learn](http://scikit-learn.org/stable/index.html)\n",
    "- [NLTK](http://www.nltk.org) — librería básica para trabajar con texto en Python\n",
    "\n",
    "aunque si quieres pudes usar spaCy para algunas tareas."
   ]
  },
  {
   "cell_type": "markdown",
   "metadata": {},
   "source": [
    "##  Preprocesado"
   ]
  },
  {
   "cell_type": "markdown",
   "metadata": {},
   "source": [
    "Una de las primeras técnicas que vamos a utilizar para preprocesar textos es la eliminación de las conocidas como **stop words**, es decir, palabras que no aportan mucho significado, pero que son necesarias para que el texto sea legible y siga las normas. Para ello, lo primero es conseguir una lista con las *stop words* del lenguaje requerido.\n",
    "\n",
    "Una opción para conseguir esta lista de palabras, es usar la librería `nltk`."
   ]
  },
  {
   "cell_type": "code",
   "execution_count": 1,
   "metadata": {
    "ExecuteTime": {
     "end_time": "2021-09-20T08:36:53.886707Z",
     "start_time": "2021-09-20T08:36:52.026589Z"
    }
   },
   "outputs": [
    {
     "name": "stderr",
     "output_type": "stream",
     "text": [
      "[nltk_data] Downloading package stopwords to\n",
      "[nltk_data]     C:\\Users\\JPAS\\AppData\\Roaming\\nltk_data...\n",
      "[nltk_data]   Package stopwords is already up-to-date!\n"
     ]
    }
   ],
   "source": [
    "import nltk\n",
    "nltk.download('stopwords')\n",
    "from nltk.corpus import stopwords"
   ]
  },
  {
   "cell_type": "markdown",
   "metadata": {},
   "source": [
    "En el *challenge* tenemos un dataset con títulos de entradas de StackOverflow, debidamente etiquetado (con 100 etiquetas distintas)."
   ]
  },
  {
   "cell_type": "code",
   "execution_count": 2,
   "metadata": {
    "ExecuteTime": {
     "end_time": "2021-09-20T08:36:54.345098Z",
     "start_time": "2021-09-20T08:36:53.889683Z"
    }
   },
   "outputs": [],
   "source": [
    "from __future__ import annotations\n",
    "from ast import literal_eval\n",
    "import pandas as pd\n",
    "import numpy as np\n",
    "from sklearn.model_selection import train_test_split"
   ]
  },
  {
   "cell_type": "code",
   "execution_count": 3,
   "metadata": {
    "ExecuteTime": {
     "end_time": "2021-09-20T08:36:54.360088Z",
     "start_time": "2021-09-20T08:36:54.348088Z"
    }
   },
   "outputs": [],
   "source": [
    "def read_data(filename):\n",
    "    data = pd.read_csv(filename, sep='\\t')\n",
    "    data['tags'] = data['tags'].apply(literal_eval)\n",
    "    return data"
   ]
  },
  {
   "cell_type": "code",
   "execution_count": 4,
   "metadata": {
    "ExecuteTime": {
     "end_time": "2021-09-20T08:36:55.930160Z",
     "start_time": "2021-09-20T08:36:54.362088Z"
    }
   },
   "outputs": [],
   "source": [
    "train = read_data('data/train.tsv')\n",
    "train, validation = train_test_split(train, test_size = .15, random_state = 0)\n",
    "test = read_data('data/test.tsv')"
   ]
  },
  {
   "cell_type": "code",
   "execution_count": 5,
   "metadata": {
    "ExecuteTime": {
     "end_time": "2021-09-20T08:36:55.961137Z",
     "start_time": "2021-09-20T08:36:55.932142Z"
    }
   },
   "outputs": [
    {
     "data": {
      "text/html": [
       "<div>\n",
       "<style scoped>\n",
       "    .dataframe tbody tr th:only-of-type {\n",
       "        vertical-align: middle;\n",
       "    }\n",
       "\n",
       "    .dataframe tbody tr th {\n",
       "        vertical-align: top;\n",
       "    }\n",
       "\n",
       "    .dataframe thead th {\n",
       "        text-align: right;\n",
       "    }\n",
       "</style>\n",
       "<table border=\"1\" class=\"dataframe\">\n",
       "  <thead>\n",
       "    <tr style=\"text-align: right;\">\n",
       "      <th></th>\n",
       "      <th>title</th>\n",
       "      <th>tags</th>\n",
       "    </tr>\n",
       "  </thead>\n",
       "  <tbody>\n",
       "    <tr>\n",
       "      <th>96598</th>\n",
       "      <td>How to create an array of leaf nodes of an htm...</td>\n",
       "      <td>[javascript, arrays, dom]</td>\n",
       "    </tr>\n",
       "    <tr>\n",
       "      <th>10007</th>\n",
       "      <td>how to make maven use test resources</td>\n",
       "      <td>[java, maven]</td>\n",
       "    </tr>\n",
       "    <tr>\n",
       "      <th>15802</th>\n",
       "      <td>How do I get the path where the user installed...</td>\n",
       "      <td>[java]</td>\n",
       "    </tr>\n",
       "    <tr>\n",
       "      <th>9114</th>\n",
       "      <td>why are my buttons not showing up?</td>\n",
       "      <td>[java, swing]</td>\n",
       "    </tr>\n",
       "    <tr>\n",
       "      <th>34247</th>\n",
       "      <td>How to loop an array with strings as indexes i...</td>\n",
       "      <td>[php, arrays, string, loops]</td>\n",
       "    </tr>\n",
       "  </tbody>\n",
       "</table>\n",
       "</div>"
      ],
      "text/plain": [
       "                                                   title  \\\n",
       "96598  How to create an array of leaf nodes of an htm...   \n",
       "10007               how to make maven use test resources   \n",
       "15802  How do I get the path where the user installed...   \n",
       "9114                  why are my buttons not showing up?   \n",
       "34247  How to loop an array with strings as indexes i...   \n",
       "\n",
       "                               tags  \n",
       "96598     [javascript, arrays, dom]  \n",
       "10007                 [java, maven]  \n",
       "15802                        [java]  \n",
       "9114                  [java, swing]  \n",
       "34247  [php, arrays, string, loops]  "
      ]
     },
     "execution_count": 5,
     "metadata": {},
     "output_type": "execute_result"
    }
   ],
   "source": [
    "train.head()"
   ]
  },
  {
   "cell_type": "markdown",
   "metadata": {},
   "source": [
    "Como vemos, la columna `\"title\"` contiene los títulos de las entradas, y la columna `\"tags\"` una lista con las etiquetas de cada entrada, que puede ser un número arbitrario."
   ]
  },
  {
   "cell_type": "markdown",
   "metadata": {},
   "source": [
    "Para seguir los convenios, inicializamos `X_train`, `X_val`, `X_test`, `y_train`, `y_val`, `y_test`."
   ]
  },
  {
   "cell_type": "code",
   "execution_count": 6,
   "metadata": {
    "ExecuteTime": {
     "end_time": "2021-09-20T08:36:55.976140Z",
     "start_time": "2021-09-20T08:36:55.963136Z"
    }
   },
   "outputs": [],
   "source": [
    "X_train, y_train = train['title'].values, train['tags'].values\n",
    "X_val, y_val = validation['title'].values, validation['tags'].values\n",
    "X_test, y_test = test['title'].values, test['tags'].values"
   ]
  },
  {
   "cell_type": "markdown",
   "metadata": {},
   "source": [
    "La principal dificultad de trabajar con lenguaje natural es que no está estructurado. Si cojemos el texto y creamos tokens simplemente separando por los espacios, tendremos *tokens* como `'3.5?'`, `'do.'`, etc. Para evitar esos problemas, es útil preprocesar el texto.\n",
    "\n",
    "### **Tarea 1 (Preprocesado):**\n",
    "\n",
    "Implementa la función `text_tokenizer()` y `text_prepare()` siguiendo las instrucciones."
   ]
  },
  {
   "cell_type": "code",
   "execution_count": 7,
   "metadata": {
    "ExecuteTime": {
     "end_time": "2021-09-20T08:37:02.798884Z",
     "start_time": "2021-09-20T08:36:55.979143Z"
    }
   },
   "outputs": [
    {
     "name": "stdout",
     "output_type": "stream",
     "text": [
      "Collecting en-core-web-sm==3.1.0\n",
      "  Downloading https://github.com/explosion/spacy-models/releases/download/en_core_web_sm-3.1.0/en_core_web_sm-3.1.0-py3-none-any.whl (13.6 MB)\n",
      "Requirement already satisfied: spacy<3.2.0,>=3.1.0 in c:\\users\\jpas\\anaconda3\\envs\\mioti_v2\\lib\\site-packages (from en-core-web-sm==3.1.0) (3.1.2)\n",
      "Requirement already satisfied: catalogue<2.1.0,>=2.0.4 in c:\\users\\jpas\\anaconda3\\envs\\mioti_v2\\lib\\site-packages (from spacy<3.2.0,>=3.1.0->en-core-web-sm==3.1.0) (2.0.6)\n",
      "Requirement already satisfied: requests<3.0.0,>=2.13.0 in c:\\users\\jpas\\anaconda3\\envs\\mioti_v2\\lib\\site-packages (from spacy<3.2.0,>=3.1.0->en-core-web-sm==3.1.0) (2.25.1)\n",
      "Requirement already satisfied: typer<0.4.0,>=0.3.0 in c:\\users\\jpas\\anaconda3\\envs\\mioti_v2\\lib\\site-packages (from spacy<3.2.0,>=3.1.0->en-core-web-sm==3.1.0) (0.3.2)\n",
      "Requirement already satisfied: wasabi<1.1.0,>=0.8.1 in c:\\users\\jpas\\anaconda3\\envs\\mioti_v2\\lib\\site-packages (from spacy<3.2.0,>=3.1.0->en-core-web-sm==3.1.0) (0.8.2)\n",
      "Requirement already satisfied: pydantic!=1.8,!=1.8.1,<1.9.0,>=1.7.4 in c:\\users\\jpas\\anaconda3\\envs\\mioti_v2\\lib\\site-packages (from spacy<3.2.0,>=3.1.0->en-core-web-sm==3.1.0) (1.8.2)\n",
      "Requirement already satisfied: srsly<3.0.0,>=2.4.1 in c:\\users\\jpas\\anaconda3\\envs\\mioti_v2\\lib\\site-packages (from spacy<3.2.0,>=3.1.0->en-core-web-sm==3.1.0) (2.4.1)\n",
      "Requirement already satisfied: thinc<8.1.0,>=8.0.8 in c:\\users\\jpas\\anaconda3\\envs\\mioti_v2\\lib\\site-packages (from spacy<3.2.0,>=3.1.0->en-core-web-sm==3.1.0) (8.0.10)\n",
      "Requirement already satisfied: numpy>=1.15.0 in c:\\users\\jpas\\anaconda3\\envs\\mioti_v2\\lib\\site-packages (from spacy<3.2.0,>=3.1.0->en-core-web-sm==3.1.0) (1.20.2)\n",
      "Requirement already satisfied: cymem<2.1.0,>=2.0.2 in c:\\users\\jpas\\anaconda3\\envs\\mioti_v2\\lib\\site-packages (from spacy<3.2.0,>=3.1.0->en-core-web-sm==3.1.0) (2.0.5)\n",
      "Requirement already satisfied: blis<0.8.0,>=0.4.0 in c:\\users\\jpas\\anaconda3\\envs\\mioti_v2\\lib\\site-packages (from spacy<3.2.0,>=3.1.0->en-core-web-sm==3.1.0) (0.7.4)\n",
      "Requirement already satisfied: jinja2 in c:\\users\\jpas\\anaconda3\\envs\\mioti_v2\\lib\\site-packages (from spacy<3.2.0,>=3.1.0->en-core-web-sm==3.1.0) (2.11.3)\n",
      "Requirement already satisfied: preshed<3.1.0,>=3.0.2 in c:\\users\\jpas\\anaconda3\\envs\\mioti_v2\\lib\\site-packages (from spacy<3.2.0,>=3.1.0->en-core-web-sm==3.1.0) (3.0.5)\n",
      "Requirement already satisfied: packaging>=20.0 in c:\\users\\jpas\\anaconda3\\envs\\mioti_v2\\lib\\site-packages (from spacy<3.2.0,>=3.1.0->en-core-web-sm==3.1.0) (20.9)\n",
      "Requirement already satisfied: tqdm<5.0.0,>=4.38.0 in c:\\users\\jpas\\anaconda3\\envs\\mioti_v2\\lib\\site-packages (from spacy<3.2.0,>=3.1.0->en-core-web-sm==3.1.0) (4.61.1)\n",
      "Requirement already satisfied: setuptools in c:\\users\\jpas\\anaconda3\\envs\\mioti_v2\\lib\\site-packages (from spacy<3.2.0,>=3.1.0->en-core-web-sm==3.1.0) (49.6.0.post20210108)\n",
      "Requirement already satisfied: pathy>=0.3.5 in c:\\users\\jpas\\anaconda3\\envs\\mioti_v2\\lib\\site-packages (from spacy<3.2.0,>=3.1.0->en-core-web-sm==3.1.0) (0.6.0)\n",
      "Requirement already satisfied: spacy-legacy<3.1.0,>=3.0.7 in c:\\users\\jpas\\anaconda3\\envs\\mioti_v2\\lib\\site-packages (from spacy<3.2.0,>=3.1.0->en-core-web-sm==3.1.0) (3.0.8)\n",
      "Requirement already satisfied: murmurhash<1.1.0,>=0.28.0 in c:\\users\\jpas\\anaconda3\\envs\\mioti_v2\\lib\\site-packages (from spacy<3.2.0,>=3.1.0->en-core-web-sm==3.1.0) (1.0.5)\n",
      "Requirement already satisfied: pyparsing>=2.0.2 in c:\\users\\jpas\\anaconda3\\envs\\mioti_v2\\lib\\site-packages (from packaging>=20.0->spacy<3.2.0,>=3.1.0->en-core-web-sm==3.1.0) (2.4.7)\n",
      "Requirement already satisfied: smart-open<6.0.0,>=5.0.0 in c:\\users\\jpas\\anaconda3\\envs\\mioti_v2\\lib\\site-packages (from pathy>=0.3.5->spacy<3.2.0,>=3.1.0->en-core-web-sm==3.1.0) (5.2.1)\n",
      "Requirement already satisfied: typing-extensions>=3.7.4.3 in c:\\users\\jpas\\anaconda3\\envs\\mioti_v2\\lib\\site-packages (from pydantic!=1.8,!=1.8.1,<1.9.0,>=1.7.4->spacy<3.2.0,>=3.1.0->en-core-web-sm==3.1.0) (3.10.0.0)\n",
      "Requirement already satisfied: urllib3<1.27,>=1.21.1 in c:\\users\\jpas\\anaconda3\\envs\\mioti_v2\\lib\\site-packages (from requests<3.0.0,>=2.13.0->spacy<3.2.0,>=3.1.0->en-core-web-sm==3.1.0) (1.26.4)\n",
      "Requirement already satisfied: certifi>=2017.4.17 in c:\\users\\jpas\\anaconda3\\envs\\mioti_v2\\lib\\site-packages (from requests<3.0.0,>=2.13.0->spacy<3.2.0,>=3.1.0->en-core-web-sm==3.1.0) (2021.5.30)\n",
      "Requirement already satisfied: chardet<5,>=3.0.2 in c:\\users\\jpas\\anaconda3\\envs\\mioti_v2\\lib\\site-packages (from requests<3.0.0,>=2.13.0->spacy<3.2.0,>=3.1.0->en-core-web-sm==3.1.0) (4.0.0)\n",
      "Requirement already satisfied: idna<3,>=2.5 in c:\\users\\jpas\\anaconda3\\envs\\mioti_v2\\lib\\site-packages (from requests<3.0.0,>=2.13.0->spacy<3.2.0,>=3.1.0->en-core-web-sm==3.1.0) (2.10)\n",
      "Requirement already satisfied: click<7.2.0,>=7.1.1 in c:\\users\\jpas\\anaconda3\\envs\\mioti_v2\\lib\\site-packages (from typer<0.4.0,>=0.3.0->spacy<3.2.0,>=3.1.0->en-core-web-sm==3.1.0) (7.1.2)\n",
      "Requirement already satisfied: MarkupSafe>=0.23 in c:\\users\\jpas\\anaconda3\\envs\\mioti_v2\\lib\\site-packages (from jinja2->spacy<3.2.0,>=3.1.0->en-core-web-sm==3.1.0) (1.1.1)\n",
      "[+] Download and installation successful\n",
      "You can now load the package via spacy.load('en_core_web_sm')\n"
     ]
    }
   ],
   "source": [
    "import sys\n",
    "!{sys.executable} -m spacy download en_core_web_sm "
   ]
  },
  {
   "cell_type": "code",
   "execution_count": 8,
   "metadata": {
    "ExecuteTime": {
     "end_time": "2021-09-20T08:37:03.912065Z",
     "start_time": "2021-09-20T08:37:02.803889Z"
    }
   },
   "outputs": [],
   "source": [
    "from string import ascii_lowercase\n",
    "import spacy\n",
    "nlp = spacy.load('en_core_web_sm') # Se crea un objeto de spacy tipo nlp, en idioma ingles para poder tokenizar.\n",
    "import re\n",
    "def text_tokenizer(text :str) -> list[str]:\n",
    "    \"\"\"\n",
    "    Transforma un texto (str) en una lista de palabras/tokens (list).\n",
    "    Es importante usar esta función siempre para ser consistentes.\n",
    "    \"\"\"\n",
    "    ## ESCRIBE AQUÍ TU CÓDIGO\n",
    "#     tokenizer = nlp.tokenizer # Creamos exclusivamente un tokenizador con el opbjeto nlp de Spacy\n",
    "#     tokens = [t.text for t in tokenizer(text)] # Crea una lista con las palabras del texto\n",
    "\n",
    "    tokens = nltk.tokenize.word_tokenize(text)\n",
    "    return tokens\n",
    "\n",
    "    ##\n",
    "\n",
    "\n",
    "# cargamos estas variables fuera de la función\n",
    "# ya que la creación del set de stopwords es costoso y no queremos\n",
    "# que se repita cada vez que se llame a la función\n",
    "REPLACE_BY_SPACE = \"[/(){}\\[\\]\\|@,;]\"\n",
    "GOOD_CHARS = ascii_lowercase + \"\".join([str(n) for n in range(10)]) + \" #+_\"\n",
    "STOPWORDS = set(stopwords.words(\"english\"))\n",
    "\n",
    "\n",
    "def text_prepare(text:str) -> str:\n",
    "    \"\"\"\n",
    "    Preprocesa el texto inicial:\n",
    "    1. eliminando espacios al inicio y final, y convirtiéndolo a minúsculas\n",
    "    2. cambia los caracteres de REPLACE_BY_SPACE por espacios\n",
    "    3. elimina los caracteres que no estén en GOOD_CHARS\n",
    "    4. elimina los tokens que sean STOPWORDS\n",
    "\n",
    "    text: str\n",
    "    return: str\n",
    "    \"\"\"\n",
    "    ## ESCRIBE AQUÍ TU CÓDIGO\n",
    "\n",
    "    text = text.lower().strip()\n",
    "    #Se reemplaza estos caracteres por espacios\n",
    "    text = re.sub(REPLACE_BY_SPACE, \" \", text)\n",
    "#     text = text.replace(REPLACE_BY_SPACE,' ')\n",
    "    # Se eliminan los caracteres que no son GOOD_CHARS\n",
    "    good_chars = [word for word in text if word in GOOD_CHARS]\n",
    "    # Se unen los caracteres en una cadena de texto mas filtrada de nuevo\n",
    "    text = \"\".join(good_chars)\n",
    "    #Se eliminan los tokens que no son stopwords\n",
    "    tokens=text_tokenizer(text)\n",
    "    tokens = [token for token in tokens if (token not in STOPWORDS)]\n",
    "    # Se unen los tokens filtrados en una cadena de texto\n",
    "    text = \" \".join(tokens)\n",
    "    return text\n",
    "    ##"
   ]
  },
  {
   "cell_type": "code",
   "execution_count": 9,
   "metadata": {
    "ExecuteTime": {
     "end_time": "2021-09-20T08:37:03.944035Z",
     "start_time": "2021-09-20T08:37:03.915044Z"
    }
   },
   "outputs": [
    {
     "name": "stdout",
     "output_type": "stream",
     "text": [
      "¡Tests correctos!\n"
     ]
    }
   ],
   "source": [
    "def test_text_prepare():\n",
    "    examples = [\"   SQL Server @ any equivalent of {Excel's} CHOOSE function?\",\n",
    "                \"How to free c++ memory vector<int> * arr?\"]\n",
    "    answers = [\"sql server equivalent excels choose function\", \n",
    "               \"free c++ memory vectorint arr\"]\n",
    "    for ex, ans in zip(examples, answers):\n",
    "        if text_prepare(ex) != ans:\n",
    "            return \"Respuesta incorrecta para: '%s'\" % text_prepare(ex)\n",
    "    return '¡Tests correctos!'\n",
    "\n",
    "print(test_text_prepare())"
   ]
  },
  {
   "cell_type": "markdown",
   "metadata": {},
   "source": [
    "Ahora preprocesamos los textos de todos los conjuntos:"
   ]
  },
  {
   "cell_type": "code",
   "execution_count": 10,
   "metadata": {
    "ExecuteTime": {
     "end_time": "2021-09-20T08:37:26.133839Z",
     "start_time": "2021-09-20T08:37:03.947038Z"
    }
   },
   "outputs": [],
   "source": [
    "X_train = [text_prepare(x) for x in X_train]\n",
    "X_val = [text_prepare(x) for x in X_val]\n",
    "X_test = [text_prepare(x) for x in X_test]"
   ]
  },
  {
   "cell_type": "code",
   "execution_count": 11,
   "metadata": {
    "ExecuteTime": {
     "end_time": "2021-09-20T08:37:26.149382Z",
     "start_time": "2021-09-20T08:37:26.138817Z"
    }
   },
   "outputs": [
    {
     "data": {
      "text/plain": [
       "['create array leaf nodes html dom using javascript',\n",
       " 'make maven use test resources',\n",
       " 'get path user installed java application']"
      ]
     },
     "execution_count": 11,
     "metadata": {},
     "output_type": "execute_result"
    }
   ],
   "source": [
    "X_train[:3]"
   ]
  },
  {
   "cell_type": "markdown",
   "metadata": {},
   "source": [
    "### **Tarea 2 (Cuentas de palabras y etiquetas):** \n",
    "\n",
    "Cuénta cuantas veces aparece cada token (palabra) y cada etiqueta en el corpus de entrenamiento. Es decir, crea un diccionario con las cuentas totales de palabras y etiquetas.\n",
    " \n",
    "El resultado deben ser dos diccionarios *tags_counts* y *words_counts* del tipo `{'palabra_o_etiqueta': cuentas}`."
   ]
  },
  {
   "cell_type": "code",
   "execution_count": 12,
   "metadata": {
    "ExecuteTime": {
     "end_time": "2021-09-20T08:37:45.724709Z",
     "start_time": "2021-09-20T08:37:26.155365Z"
    }
   },
   "outputs": [],
   "source": [
    "######################################\n",
    "##ESCRIBE AQUÍ TU CÓDIGO\n",
    "######################################\n",
    "# Diccionario con todas las etiquetas del corpus de entrenamiento con sus cuentas\n",
    "tags_counts_temp = dict ()\n",
    "for tags in y_train:\n",
    "    for tag in tags:\n",
    "        tags_counts_temp[tag]=tags_counts_temp.get(tag,0)+1\n",
    "    \n",
    "tags_counts = tags_counts_temp\n",
    "\n",
    "# Diccionario con todas las palabras del corpus de entrenamiento con sus cuentas\n",
    "\n",
    "words_counts_temp = dict ()\n",
    "cont=0\n",
    "for comment in X_train:\n",
    "    tokens = text_tokenizer(comment)\n",
    "    for word in tokens:\n",
    "        cont+=1\n",
    "        words_counts_temp[word]=words_counts_temp.get(word,0)+1\n",
    "\n",
    "words_counts = words_counts_temp\n",
    "\n",
    "# print(cont)\n",
    "##\n"
   ]
  },
  {
   "cell_type": "markdown",
   "metadata": {},
   "source": [
    "Exploramos las más comunes:"
   ]
  },
  {
   "cell_type": "code",
   "execution_count": 13,
   "metadata": {
    "ExecuteTime": {
     "end_time": "2021-09-20T08:37:45.898265Z",
     "start_time": "2021-09-20T08:37:45.729704Z"
    }
   },
   "outputs": [
    {
     "name": "stdout",
     "output_type": "stream",
     "text": [
      "[('c#', 16259), ('javascript', 16219), ('java', 15835)]\n",
      "[('using', 7000), ('c', 4911), ('php', 4774)]\n"
     ]
    }
   ],
   "source": [
    "most_common_tags = sorted(tags_counts.items(), key=lambda x: x[1], reverse=True)[:3]\n",
    "most_common_words = sorted(words_counts.items(), key=lambda x: x[1], reverse=True)[:3]\n",
    "print(most_common_tags)\n",
    "print(most_common_words)"
   ]
  },
  {
   "cell_type": "markdown",
   "metadata": {},
   "source": [
    "* Como alternativa se puede utilizar la función FreqDist de nltk"
   ]
  },
  {
   "cell_type": "code",
   "execution_count": 14,
   "metadata": {
    "ExecuteTime": {
     "end_time": "2021-09-20T08:38:05.955266Z",
     "start_time": "2021-09-20T08:37:45.903282Z"
    }
   },
   "outputs": [],
   "source": [
    "#Se descarga la librería de frecuencias y para imprimir diccionarios\n",
    "from nltk.probability import FreqDist\n",
    "import pprint\n",
    "#Se tokeniza el conjunto de entrenamiento para obtener las palabras\n",
    "token=[text_tokenizer(t) for t in X_train]\n",
    "#Se unen las listas del conjunto\n",
    "entrenamiento=[]\n",
    "for i in token:\n",
    "    entrenamiento+=i\n",
    "#Se unen las listas del conjunto de etiquetas para poder aplicar FreqDist\n",
    "etiquetas=[]\n",
    "for i in y_train:\n",
    "    etiquetas+=i\n",
    "# Diccionario con todas las etiquetas del corpus de entrenamiento con sus cuentas\n",
    "tags_counts = FreqDist(etiquetas)\n",
    "# Diccionario con todas las palabras del corpus de entrenamiento con sus cuentas\n",
    "words_counts = FreqDist(entrenamiento)"
   ]
  },
  {
   "cell_type": "code",
   "execution_count": 15,
   "metadata": {
    "ExecuteTime": {
     "end_time": "2021-09-20T08:38:07.065014Z",
     "start_time": "2021-09-20T08:38:05.959254Z"
    }
   },
   "outputs": [
    {
     "data": {
      "image/png": "[encoded data removed]",
      "text/plain": [
       "<Figure size 432x288 with 1 Axes>"
      ]
     },
     "metadata": {
      "needs_background": "light"
     },
     "output_type": "display_data"
    }
   ],
   "source": [
    "#Graficamos las 10 etiquetas más frecuentes\n",
    "tags_counts.plot(10,title='top 10 etiquetas');"
   ]
  },
  {
   "cell_type": "code",
   "execution_count": 16,
   "metadata": {
    "ExecuteTime": {
     "end_time": "2021-09-20T08:38:07.348998Z",
     "start_time": "2021-09-20T08:38:07.069995Z"
    }
   },
   "outputs": [
    {
     "data": {
      "image/png": "[encoded data removed]",
      "text/plain": [
       "<Figure size 432x288 with 1 Axes>"
      ]
     },
     "metadata": {
      "needs_background": "light"
     },
     "output_type": "display_data"
    }
   ],
   "source": [
    "#Graficamos las 10 palabras más frecuentes\n",
    "words_counts.plot(10,title='top 10 palabras');"
   ]
  },
  {
   "cell_type": "markdown",
   "metadata": {},
   "source": [
    "### Transformando el texto a vectores\n",
    "\n",
    "Vamos a construir los vectores asociados a cada frase en dos representaciones distintas, Bag of Words y tf-idf. Dejaremos la segunda para la parte 2 del Challenge.\n",
    "\n",
    "\n",
    "#### Bag of words\n",
    "\n",
    "Recuerda que para crear la representación de *bag of words*, convertimos cada frase en un vector que cuenta el número de ocurrencias de cada token. Se siguien los pasos:\n",
    "1. Encuentra los **N** tokens mas comunes del corpus de entrenamiento y se les asigna un índice, este es nuestro **vocabulario**. Creamos un diccionario para convertir de tokens a índices y viceversa.\n",
    "2. Para cada frase en el corpus, creamos un vector de dimensión **N** y lo inicializamos con ceros.\n",
    "3. Iteramos sobre los tokens de cada frase, y si el token está en el diccionario, incrementamos en 1 el índice correspondiente del vector.\n",
    "   \n",
    "**Tarea 3 (BagOfWords):** \n",
    "\n",
    "Contruye la función que transforma un texto en su representación *bag of words*.\n",
    "\n",
    "Implementa la codificación de *bag of words* en la función `my_bag_of_words()` con un tamaño de diccionario de **N=5000**. Para definir el diccionario, sólo podemos usar el conjunto de entrenamiento, sino tendríamos un *data leaking*.\n",
    "\n",
    "Primero, contruimos el vocabulario y los diccionarios correspondientes, así como un `set` con las palabras del diccionario."
   ]
  },
  {
   "cell_type": "code",
   "execution_count": 17,
   "metadata": {
    "ExecuteTime": {
     "end_time": "2021-09-20T08:38:07.396988Z",
     "start_time": "2021-09-20T08:38:07.354014Z"
    }
   },
   "outputs": [],
   "source": [
    "DICT_SIZE = 5000\n",
    "\n",
    "## ESCRIBE AQUÍ TU CÓDIGO\n",
    "most_common_words_dict_size = sorted(words_counts.items(), key=lambda x: x[1], reverse=True)[:DICT_SIZE]\n",
    "INDEX_TO_WORDS = dict (zip(range (0,DICT_SIZE), (tupla[0] for tupla in most_common_words_dict_size)))\n",
    "WORDS_TO_INDEX = dict (zip((tupla[0] for tupla in most_common_words_dict_size),range (0,DICT_SIZE)))\n",
    "##\n",
    "ALL_WORDS = WORDS_TO_INDEX.keys()\n",
    "assert len(ALL_WORDS)==DICT_SIZE"
   ]
  },
  {
   "cell_type": "code",
   "execution_count": 18,
   "metadata": {
    "ExecuteTime": {
     "end_time": "2021-09-20T08:38:07.411998Z",
     "start_time": "2021-09-20T08:38:07.402016Z"
    }
   },
   "outputs": [],
   "source": [
    "def my_bag_of_words(text: str, words_to_index: dict[str, int]) -> np.array:\n",
    "    \"\"\"\n",
    "    text: str\n",
    "    words_to_index: dict, diccionario con los índices del vocabulario\n",
    "\n",
    "    return\n",
    "    result_vector: numpy.array, vector con la representación bag-of-words de `text`\n",
    "    \"\"\"\n",
    "    dict_size = len(words_to_index)\n",
    "    result_vector = np.zeros(dict_size)\n",
    "\n",
    "    ## ESCRIBE AQUÍ TU CÓDIGO\n",
    "    tokens = text_tokenizer(text)\n",
    "    for word in tokens:\n",
    "        if word in words_to_index:\n",
    "            result_vector[words_to_index[word]]+=1\n",
    "    ##\n",
    "\n",
    "    return result_vector"
   ]
  },
  {
   "cell_type": "code",
   "execution_count": 19,
   "metadata": {
    "ExecuteTime": {
     "end_time": "2021-09-20T08:38:07.442007Z",
     "start_time": "2021-09-20T08:38:07.416992Z"
    }
   },
   "outputs": [
    {
     "name": "stdout",
     "output_type": "stream",
     "text": [
      "¡Tests correctos!\n"
     ]
    }
   ],
   "source": [
    "def test_my_bag_of_words():\n",
    "    words_to_index = {\"hi\": 0, \"you\": 1, \"me\": 2, \"are\": 3}\n",
    "    examples = [\"hi how are you\", \"hi hi hi you house\"]\n",
    "    answers = [[1, 1, 0, 1], [3, 1, 0, 0]]\n",
    "    for ex, expected in zip(examples, answers):\n",
    "        output = my_bag_of_words(ex, words_to_index)\n",
    "        if (output != np.asarray(expected)).any():\n",
    "            return f\"Respuesta incorrecta: BOW('{ex}') = {output} != {expected}\"\n",
    "    return \"¡Tests correctos!\"\n",
    "\n",
    "\n",
    "print(test_my_bag_of_words())"
   ]
  },
  {
   "cell_type": "markdown",
   "metadata": {},
   "source": [
    "Ahora aplicamos la función anterior a todos los datos.\n",
    "\n",
    "La representación *bag of words* devuelve vectores __*sparse*__ (la mayoría de sus entradas son ceros), con lo que conviene usar estructuras de datos especiales para datos *sparse* para ser eficientes.\n",
    "\n",
    "Hay muchos [tipos de representación sparse](https://docs.scipy.org/doc/scipy/reference/sparse.html), y `sklearn` sólo trabaja con la representación [csr matrix](https://docs.scipy.org/doc/scipy/reference/generated/scipy.sparse.csr_matrix.html#scipy.sparse.csr_matrix), que es la que usamos."
   ]
  },
  {
   "cell_type": "code",
   "execution_count": 20,
   "metadata": {
    "ExecuteTime": {
     "end_time": "2021-09-20T08:38:07.457996Z",
     "start_time": "2021-09-20T08:38:07.447014Z"
    }
   },
   "outputs": [],
   "source": [
    "from scipy import sparse as sp_sparse"
   ]
  },
  {
   "cell_type": "code",
   "execution_count": 21,
   "metadata": {
    "ExecuteTime": {
     "end_time": "2021-09-20T08:39:49.348206Z",
     "start_time": "2021-09-20T08:38:07.463002Z"
    }
   },
   "outputs": [
    {
     "name": "stdout",
     "output_type": "stream",
     "text": [
      "X_train shape  (85000, 5000)\n",
      "X_val shape  (15000, 5000)\n",
      "X_test shape  (30000, 5000)\n"
     ]
    }
   ],
   "source": [
    "X_train_mybag = sp_sparse.vstack(\n",
    "    [sp_sparse.csr_matrix(my_bag_of_words(text, WORDS_TO_INDEX)) for text in X_train]\n",
    ")\n",
    "X_val_mybag = sp_sparse.vstack(\n",
    "    [sp_sparse.csr_matrix(my_bag_of_words(text, WORDS_TO_INDEX)) for text in X_val]\n",
    ")\n",
    "X_test_mybag = sp_sparse.vstack(\n",
    "    [sp_sparse.csr_matrix(my_bag_of_words(text, WORDS_TO_INDEX)) for text in X_test]\n",
    ")\n",
    "print(\"X_train shape \", X_train_mybag.shape)\n",
    "print(\"X_val shape \", X_val_mybag.shape)\n",
    "print(\"X_test shape \", X_test_mybag.shape)"
   ]
  },
  {
   "cell_type": "markdown",
   "metadata": {},
   "source": [
    "## Preguntas finales\n",
    "\n",
    "* ¿Qué efecto tienen los caracteres de `REPLACE_BY_SPACE` y `GOOD_CHARS` sobre las features generadas? ¿Se te ocurre una mejor elección de los caracteres escogidos?\n",
    "    \n",
    "    * *Respuesta 1 - Genera features con textos más limpios. Elimanos caracteres que no aportan nada.*\n",
    "    * *Respuesta 2 - Se nos ocurre como mejor elección haber ampliado a más simbolos el `REPLACE_BY_SPACE` como por ejemplo % ¡! ¿?*"
   ]
  },
  {
   "cell_type": "markdown",
   "metadata": {},
   "source": [
    "* Como hemos comentado en el worksheet, la representación Bag of Words no tiene en cuenta el orden de los tokens. Pero hay extensiones de Bag of Words que en cierto grado tienen en cuenta el orden de las palabras. ¿Puedes dar una idea de cómo hacer esto? ¿Crees que puede ser relevante para el contexto del problema?\n",
    "\n",
    "    * *Respuesta - Para recoger más contexto e intentar reflejarlo en el bag of words podemos realizarla teniendo en cuenta n-gramas en vez de unigramas. Recoger n-gramas de 2 o más palabras recoge más contexto y nos da más información. Por ejemplo unigramas como \"blue\", \"sea\", \"deep\" dan la significación aislada de su termino, pero si recogieramos n-gramas por ejemplo podriamos recoger \"blue sea\",\"deep sea\", \"deep blue\". Este último termino dpendiendo el ámbito de los textos que analicemos puede tener multiples significados.https://es.wikipedia.org/wiki/Deep_Blue*.\n"
   ]
  },
  {
   "cell_type": "markdown",
   "metadata": {},
   "source": [
    "***Como muestra, codifcamos un ejemplo de como crear un Bag of Words de n-gramas***"
   ]
  },
  {
   "cell_type": "code",
   "execution_count": 22,
   "metadata": {
    "ExecuteTime": {
     "end_time": "2021-09-20T08:39:49.363718Z",
     "start_time": "2021-09-20T08:39:49.353153Z"
    }
   },
   "outputs": [],
   "source": [
    "from sklearn.feature_extraction.text import CountVectorizer\n",
    "import random\n",
    "# Función que apoyandose en CountVectorizar de sklearn, se construira \n",
    "# el Bag of Words de n-gramas en este caso de 2.\n",
    "\n",
    "def ngram_bag_of_words(text):\n",
    "    # Con ngrams nos ayuda a capturar el contexto ya que no\n",
    "    # contaremos palabras como unidad de información\n",
    "    # sino como parejas de palabras.\n",
    "    \n",
    "    vectorizer = CountVectorizer(ngram_range=(2, 2))\n",
    "    X_train_counts = vectorizer.fit_transform(X_train)\n",
    "    print('La dimensión de la matriz es : ', X_train_counts.shape,'\\n')\n",
    "    return vectorizer.get_feature_names()"
   ]
  },
  {
   "cell_type": "code",
   "execution_count": 23,
   "metadata": {
    "ExecuteTime": {
     "end_time": "2021-09-20T08:39:52.774342Z",
     "start_time": "2021-09-20T08:39:49.368271Z"
    }
   },
   "outputs": [
    {
     "name": "stdout",
     "output_type": "stream",
     "text": [
      "La dimensión de la matriz es :  (85000, 226162) \n",
      "\n",
      "['function exe',\n",
      " 'thread window',\n",
      " 'converting miles',\n",
      " 'routing multiple',\n",
      " 'nokogiri installing',\n",
      " 'methodget pass',\n",
      " 'started game',\n",
      " 'container type',\n",
      " 'pointer class',\n",
      " 'cli script',\n",
      " 'use git',\n",
      " 'close row',\n",
      " 'attach icommand',\n",
      " 'php includes',\n",
      " 'creating proxy',\n",
      " 'html new',\n",
      " '16bit image',\n",
      " 'characters missing',\n",
      " 'backend yii',\n",
      " 'use gui',\n",
      " 'throwing javascript',\n",
      " 'center uitableviewcell',\n",
      " 'related panel',\n",
      " 'selenuim web',\n",
      " 'triple des',\n",
      " 'implementation googles',\n",
      " 'inside switch',\n",
      " 'chrome jquery',\n",
      " 'recommendation open',\n",
      " 'table eclipse']\n"
     ]
    }
   ],
   "source": [
    "#Visualizamos ejemplos los n-gramas o features que conforman la matriz.\n",
    "pprint.pprint(random.sample(ngram_bag_of_words(X_train),30))"
   ]
  },
  {
   "cell_type": "markdown",
   "metadata": {},
   "source": [
    "* ¿Cómo actuará un modelo entrenado con estas features ante erratas?\n",
    "    * *Respuesta - Las erratas en principio no afectaran por que no estarían dentro de las 5000 palabras que se han tenido en cuenta bag of words y no serían detectadas, salvo que hubieran estado en la parte de entrenamiento y fueran muy numerosas, lo cual se conderarían como una palabra más.*"
   ]
  }
 ],
 "metadata": {
  "jupytext": {
   "formats": "ipynb,md"
  },
  "kernelspec": {
   "display_name": "Python 3",
   "language": "python",
   "name": "python3"
  },
  "language_info": {
   "codemirror_mode": {
    "name": "ipython",
    "version": 3
   },
   "file_extension": ".py",
   "mimetype": "text/x-python",
   "name": "python",
   "nbconvert_exporter": "python",
   "pygments_lexer": "ipython3",
   "version": "3.9.2"
  },
  "toc": {
   "base_numbering": 1,
   "nav_menu": {},
   "number_sections": true,
   "sideBar": true,
   "skip_h1_title": false,
   "title_cell": "Table of Contents",
   "title_sidebar": "Contents",
   "toc_cell": false,
   "toc_position": {},
   "toc_section_display": true,
   "toc_window_display": true
  },
  "varInspector": {
   "cols": {
    "lenName": 16,
    "lenType": 16,
    "lenVar": 40
   },
   "kernels_config": {
    "python": {
     "delete_cmd_postfix": "",
     "delete_cmd_prefix": "del ",
     "library": "var_list.py",
     "varRefreshCmd": "print(var_dic_list())"
    },
    "r": {
     "delete_cmd_postfix": ") ",
     "delete_cmd_prefix": "rm(",
     "library": "var_list.r",
     "varRefreshCmd": "cat(var_dic_list()) "
    }
   },
   "types_to_exclude": [
    "module",
    "function",
    "builtin_function_or_method",
    "instance",
    "_Feature"
   ],
   "window_display": false
  }
 },
 "nbformat": 4,
 "nbformat_minor": 4
}
