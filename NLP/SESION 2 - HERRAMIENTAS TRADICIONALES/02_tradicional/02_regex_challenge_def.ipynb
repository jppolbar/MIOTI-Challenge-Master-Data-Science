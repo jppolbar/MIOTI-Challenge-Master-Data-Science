{
 "cells": [
  {
   "cell_type": "markdown",
   "metadata": {},
   "source": [
    "<img src=\"data:image/png;base64,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\" style=\"height: 100px\">\n",
    "<center style=\"color:#888\">Módulo Advanced Data Science<br/>Natural Language Processing</center>\n",
    "\n",
    "# S2. Challenge. Parseo de formularios con RegEx\n",
    "\n",
    "En muchas aplicaciones de NLP, es necesario la estructuración de información que viene de forma textual. En el mejor de los casos, esta información ya vendrá semi-estructurada, por ejemplo, siguiente la plantilla de un formulario.\n",
    "\n",
    "Esto simplifica mucho la tarea, pero no la resuelve al 100%, ya que puede darse el caso de que hay más de un formulario posible (distintas plantillas), así como que nos interesa poder acceder a cada uno de los campos por separado."
   ]
  },
  {
   "cell_type": "markdown",
   "metadata": {},
   "source": [
    "## Calentamiento\n",
    "\n",
    "Para cada uno de los ejercicios siguientes, debes obtener al menos una solución basada en regex. \n",
    "Es decir, tienes que encontrar tanto el patrón de regex como una función a utilizar de la librería `re`.\n",
    "\n",
    "**Opcionalmente, puedes añadir alguna solución que sólo use métodos de strings de Python y Python puro.**"
   ]
  },
  {
   "cell_type": "code",
   "execution_count": 1,
   "metadata": {
    "ExecuteTime": {
     "end_time": "2021-09-22T15:48:30.028933Z",
     "start_time": "2021-09-22T15:48:30.017933Z"
    }
   },
   "outputs": [],
   "source": [
    "import re"
   ]
  },
  {
   "cell_type": "markdown",
   "metadata": {},
   "source": [
    "### Ejercicio 1\n",
    "\n",
    "Extraiga el nombre de dominio de estas URL simples, que siempre comienzan con \"https\" y terminan con \".com\".\n",
    "\n",
    "**Pista: el metacaracter que coincide con todos los caracteres `.` es útil.**"
   ]
  },
  {
   "cell_type": "code",
   "execution_count": 2,
   "metadata": {
    "ExecuteTime": {
     "end_time": "2021-09-22T15:48:30.060933Z",
     "start_time": "2021-09-22T15:48:30.034933Z"
    }
   },
   "outputs": [
    {
     "name": "stdout",
     "output_type": "stream",
     "text": [
      "https://www.kaggle.com https://www.google.com https://www.wikipedia.com\n"
     ]
    }
   ],
   "source": [
    "texto1 = 'https://www.kaggle.com https://www.google.com https://www.wikipedia.com'\n",
    "print(texto1)"
   ]
  },
  {
   "cell_type": "code",
   "execution_count": 3,
   "metadata": {
    "ExecuteTime": {
     "end_time": "2021-09-22T15:48:30.091958Z",
     "start_time": "2021-09-22T15:48:30.068942Z"
    }
   },
   "outputs": [
    {
     "name": "stdout",
     "output_type": "stream",
     "text": [
      "Los dominios extraidos son :  ['kaggle', 'google', 'wikipedia']\n"
     ]
    }
   ],
   "source": [
    "### ESCRIBE AQUÍ TU SOLUCIÓN\n",
    "patron = re.compile(r\"(?<=https:\\/\\/www.).+?(?=.com)\")\n",
    "s = patron.findall(texto1)\n",
    "print('Los dominios extraidos son : ',s)"
   ]
  },
  {
   "cell_type": "markdown",
   "metadata": {},
   "source": [
    "### Ejercicio 2\n",
    "\n",
    "Escribe un patrón que devuelva números que no contengan ceros ni unos.\n",
    "        \n",
    "**Sugerencia: el caracter especial de límite de palabra `\\b` es útil.**\n",
    "    "
   ]
  },
  {
   "cell_type": "code",
   "execution_count": 4,
   "metadata": {
    "ExecuteTime": {
     "end_time": "2021-09-22T15:48:30.106944Z",
     "start_time": "2021-09-22T15:48:30.096949Z"
    }
   },
   "outputs": [
    {
     "name": "stdout",
     "output_type": "stream",
     "text": [
      "123, 012410, 01010, , 000, 111, 3495873, 3, not a number!, ...!@$,.\n"
     ]
    }
   ],
   "source": [
    "texto2 = '123, 012410, 01010, , 000, 111, 3495873, 3, not a number!, ...!@$,.'\n",
    "print(texto2)"
   ]
  },
  {
   "cell_type": "code",
   "execution_count": 5,
   "metadata": {
    "ExecuteTime": {
     "end_time": "2021-09-22T15:48:30.121939Z",
     "start_time": "2021-09-22T15:48:30.111942Z"
    }
   },
   "outputs": [
    {
     "name": "stdout",
     "output_type": "stream",
     "text": [
      "['3495873', '3']\n"
     ]
    }
   ],
   "source": [
    "### ESCRIBE AQUÍ TU SOLUCIÓN\n",
    "patron = re.compile(r\"\\b[2-9]+\\b\")\n",
    "s = patron.findall(texto2)\n",
    "print(s)"
   ]
  },
  {
   "cell_type": "markdown",
   "metadata": {},
   "source": [
    "### Ejercicio 3\n",
    "\n",
    "Cuente el número de palabras en esta oración con al menos cinco caracteres."
   ]
  },
  {
   "cell_type": "code",
   "execution_count": 6,
   "metadata": {
    "ExecuteTime": {
     "end_time": "2021-09-22T15:48:30.137944Z",
     "start_time": "2021-09-22T15:48:30.126941Z"
    }
   },
   "outputs": [
    {
     "name": "stdout",
     "output_type": "stream",
     "text": [
      "Cuenta el número de palabras en esta frase con al menos cinco caracteres.\n"
     ]
    }
   ],
   "source": [
    "texto3 = 'Cuenta el número de palabras en esta frase con al menos cinco caracteres.'\n",
    "print(texto3)"
   ]
  },
  {
   "cell_type": "code",
   "execution_count": 7,
   "metadata": {
    "ExecuteTime": {
     "end_time": "2021-09-22T15:48:30.153945Z",
     "start_time": "2021-09-22T15:48:30.143936Z"
    }
   },
   "outputs": [
    {
     "name": "stdout",
     "output_type": "stream",
     "text": [
      "El número de palabras con al menos 5 caracteres son : 7\n"
     ]
    }
   ],
   "source": [
    "### ESCRIBE AQUÍ TU SOLUCIÓN\n",
    "patron = re.compile(r\"[\\w]{5,}\")\n",
    "s = patron.findall(texto3)\n",
    "print('El número de palabras con al menos 5 caracteres son :', len(s))"
   ]
  },
  {
   "cell_type": "markdown",
   "metadata": {},
   "source": [
    "### Ejercicio 4\n",
    "\n",
    "Soluciona los extraños problemas de espacios en blanco con la oración del problema."
   ]
  },
  {
   "cell_type": "code",
   "execution_count": 8,
   "metadata": {
    "ExecuteTime": {
     "end_time": "2021-09-22T15:48:30.185932Z",
     "start_time": "2021-09-22T15:48:30.162949Z"
    }
   },
   "outputs": [
    {
     "name": "stdout",
     "output_type": "stream",
     "text": [
      "Weird whitespace   issues\t\t\t can be\n",
      "\n",
      " annoying.\n"
     ]
    }
   ],
   "source": [
    "texto4 = \"Weird whitespace   issues\\t\\t\\t can be\\n\\n annoying.\"\n",
    "print(texto4)"
   ]
  },
  {
   "cell_type": "code",
   "execution_count": 9,
   "metadata": {
    "ExecuteTime": {
     "end_time": "2021-09-22T15:48:30.215947Z",
     "start_time": "2021-09-22T15:48:30.192944Z"
    }
   },
   "outputs": [
    {
     "name": "stdout",
     "output_type": "stream",
     "text": [
      "Weird whitespace issues can be annoying\n"
     ]
    }
   ],
   "source": [
    "### ESCRIBE AQUÍ TU SOLUCIÓN\n",
    "patron = re.compile(r\"\\S+\\b\")\n",
    "s = patron.findall(texto4)\n",
    "print(' '.join(s))"
   ]
  },
  {
   "cell_type": "markdown",
   "metadata": {},
   "source": [
    "### Ejercicio 5 \n",
    "\n",
    "Identifica todas las palabras que parecen nombres en la oración. En otras palabras, las que están en mayúscula pero no son la primera palabra de la oración."
   ]
  },
  {
   "cell_type": "code",
   "execution_count": 10,
   "metadata": {
    "ExecuteTime": {
     "end_time": "2021-09-22T15:48:30.231942Z",
     "start_time": "2021-09-22T15:48:30.220940Z"
    }
   },
   "outputs": [
    {
     "name": "stdout",
     "output_type": "stream",
     "text": [
      "Esto no es un nombre, pero Pedro si. También lo es Susana. Juan debería perderse por estar al principio de la frase.\n"
     ]
    }
   ],
   "source": [
    "texto5 = \"Esto no es un nombre, pero Pedro si. También lo es Susana. Juan debería perderse por estar al principio de la frase.\"\n",
    "print(texto5)"
   ]
  },
  {
   "cell_type": "code",
   "execution_count": 11,
   "metadata": {
    "ExecuteTime": {
     "end_time": "2021-09-22T15:48:30.247933Z",
     "start_time": "2021-09-22T15:48:30.237939Z"
    }
   },
   "outputs": [
    {
     "name": "stdout",
     "output_type": "stream",
     "text": [
      "['Pedro', 'Susana']\n"
     ]
    }
   ],
   "source": [
    "### ESCRIBE AQUÍ TU SOLUCIÓN\n",
    "patron = re.compile(r\"(?<!^)(?<!\\.\\s)\\b[A-Z][a-z]+\\b\")\n",
    "s = patron.findall(texto5)\n",
    "print(s)"
   ]
  },
  {
   "cell_type": "markdown",
   "metadata": {},
   "source": [
    "## Uso de regex en Pandas\n",
    "\n",
    "En este challenge vamos a poner en prácica los conocimientos de tratamiento de strings en Python, así como como los patrones de RegEx y su implementación sobre un conjunto de formularios a través de la archiconocida librería `pandas`.\n",
    "Aunque no lo hayamos cubierto en el worksheet, la librería `pandas` tiene una gran variedad de métodos que permite aplicar RegEx a cadenas de caracteres, tanto para validar patrones, como para extraer información.\n",
    "\n",
    "\n",
    "Los objetos `pd.Series` y `pd.Index` están equipados con un conjunto de métodos de procesamiento de strings que facilitan la operación en cada elemento del conjunto. Quizás lo más importante es que estos métodos excluyen automáticamente los valores nulos o NaN. \n",
    "Se accede a ellos a través del atributo `str` y generalmente tienen nombres que coinciden con los métodos de strings que vienen de serie en Python (`lower()`, `upper()`, `strip()`, `count()`, `split()`,`replace()`, etc).\n",
    "\n",
    "\n",
    "Estos se suelen invocar con la estructura `pd.Series.str.method()`. Algunas son:\n",
    "\n",
    "|   Methods  |                                                           Description                                                          |\n",
    "|:----------:|:------------------------------------------------------------------------------------------------------------------------------:|\n",
    "| `count()`    | Cuenta el número de ocurrencias del patrón de regex en la string                                                                |\n",
    "| `replace()`  | Reemplaza la string o patrón de regex con un valor alternativo                                                                    |\n",
    "| `contains()` | Comprueba si la string o regex aparece en cualquier lugar de cada string. Equivale a utilizar `re.search()` sobre cada entrada y devolver un `bool` |\n",
    "| `match()`    | Comprueba si cada string coincide con el patrón empezando desde el inicio de cada una. Equivale a utilizar `re.match()` sobre cada entrada y devolver un `bool` |\n",
    "| `fullmatch()`| Comprueba si hay una coincidencia completa de cada string con el patrón. Equivale a utilizar `re.fullmatch()` sobre cada entrada y devolver un `bool` |\n",
    "| `extract()`  | Extrae los grupos de captura de la regex como columnas de un nuevo `pd.DataFrame` de la **primera coincidencia**. Si no encuentra el patrón, devuelve `NaN`. Equivale a llamar a `re.search()` en cada elemento.   |\n",
    "| `extractall()`  | Como el anterior, pero devolviendo **todas las coincidencias** encontradas en cada string. Devuelve un `pd.DataFrame` con `MultiIndex`. Llama a `re.findall()` en cada elemento, devolviendo un `pd.DataFrame` con una fila por cada coincidencia, y una columna por cada grupo de captura.|\n",
    "| `findall()`  | Devuelve todas las strings que coincidan con la regex. Equivalente a aplicar `re.findall()` a todos los elementos           |\n",
    "| `split()`    | Equivalente a `str.split()`, pero acepta además regex|\n",
    "\n",
    "\n",
    "\n",
    "La distinción entre `match()`, `fullmatch()` y `contains()` es el nivel de precisión: `fullmatch()` comprueba si toda la cadena coincide con la expresión regular; `match()` prueba si hay una coincidencia de la expresión regular que comienza en el primer carácter de la cadena; y `contains()` prueba si hay una coincidencia de la expresión regular en cualquier posición dentro de la cadena.\n",
    "\n",
    "Una lista exhaustiva de los métodos con el antecesor `str` en `pandas` se puede encontrar en su [documentación](https://pandas.pydata.org/pandas-docs/stable/user_guide/text.html#method-summary)."
   ]
  },
  {
   "cell_type": "markdown",
   "metadata": {},
   "source": [
    "## Dataset: Economía occidental desde 1785 hasta 1974\n",
    "\n",
    "En el dataset [NBER Macrohistory Database Western economic history data spanning 1785-1974](https://www.kaggle.com/sohier/nber-macrohistory-database/), hay un archivo con la documentación, que sirve de índice de todo el contenido de este dataset.\n",
    "\n",
    "En la columna `\"description\"` podemos encontrar un título, así como un range de fechas del período involucrado. Queremos extraer, para cada entrada, este rango de fechas, así como el inicio y el fin, y añadir esta información como tres columnas en el dataframe:\n",
    "* `\"fecha_ini\"`: fecha inicial en formato `Int64`\n",
    "* `\"fecha_fin\"`: fecha final en formato `Int64`\n",
    "* `\"fecha_rango\"`: rango de fechas en formato `str`\n",
    "\n",
    "Para finalizar, dibuja un histograma con la duración (en años) del período tratado por cada documento del dataset.\n",
    "\n",
    "**Ayuda:** Puedes utilizar los métodos `str.findall()` o `str.extractall()` de pandas, con un patrón de regex para detectar los rangos de fechas.\n",
    "\n",
    "**Ayuda:** `pandas` 1.0+ puede lidiar con NaNs en las columnas de tipo int, sólo tienes que convertir dicha columnas a tipo \"Int64\" con `df[col] = df[col].astype(\"Int64\")`. Por defecto, los enteros con NaNs se guardan como `float`.\n",
    "\n",
    "**Avanzado:** Cabe la posibilidad de que, en una misma entada, encontremos varios rangos de fecha. ¿Puedes detectar qué casos cumplen esto? Trata este caso de forma apropiada. Los campos`\"fecha_ini\"` y `\"fecha_fin\"` deben ser el menor/mayor año que aparezca en los rangos individuales. Y `\"fecha_rango\"` una string en la que los rangos se separen por comas."
   ]
  },
  {
   "cell_type": "code",
   "execution_count": 12,
   "metadata": {
    "ExecuteTime": {
     "end_time": "2021-09-22T15:48:31.317631Z",
     "start_time": "2021-09-22T15:48:30.251933Z"
    }
   },
   "outputs": [
    {
     "data": {
      "text/html": [
       "<div>\n",
       "<style scoped>\n",
       "    .dataframe tbody tr th:only-of-type {\n",
       "        vertical-align: middle;\n",
       "    }\n",
       "\n",
       "    .dataframe tbody tr th {\n",
       "        vertical-align: top;\n",
       "    }\n",
       "\n",
       "    .dataframe thead th {\n",
       "        text-align: right;\n",
       "    }\n",
       "</style>\n",
       "<table border=\"1\" class=\"dataframe\">\n",
       "  <thead>\n",
       "    <tr style=\"text-align: right;\">\n",
       "      <th></th>\n",
       "      <th>file_name</th>\n",
       "      <th>description</th>\n",
       "      <th>documentation</th>\n",
       "      <th>chapter</th>\n",
       "    </tr>\n",
       "  </thead>\n",
       "  <tbody>\n",
       "    <tr>\n",
       "      <th>0</th>\n",
       "      <td>a01005a</td>\n",
       "      <td>U.S. Index of Crop Production 1862-1930</td>\n",
       "      <td>VAR 0094      01005 CROP RO 1R 862-930        ...</td>\n",
       "      <td>1</td>\n",
       "    </tr>\n",
       "    <tr>\n",
       "      <th>1</th>\n",
       "      <td>a01005aa</td>\n",
       "      <td>U.S. Index of Crop Producton, Twelve Important...</td>\n",
       "      <td>VAR 0096      01005A TWELVE 1R 866-940        ...</td>\n",
       "      <td>1</td>\n",
       "    </tr>\n",
       "    <tr>\n",
       "      <th>2</th>\n",
       "      <td>a01005b</td>\n",
       "      <td>U.S. Index of Total Crop Production 1866-1950</td>\n",
       "      <td>VAR 0095      01005 CROP RO 1R 866-950        ...</td>\n",
       "      <td>1</td>\n",
       "    </tr>\n",
       "    <tr>\n",
       "      <th>3</th>\n",
       "      <td>a01006</td>\n",
       "      <td>Great Britain Index of Crop Production 1866-1947</td>\n",
       "      <td>VAR 0099      01006 IND ROP 1R 866-947        ...</td>\n",
       "      <td>1</td>\n",
       "    </tr>\n",
       "    <tr>\n",
       "      <th>4</th>\n",
       "      <td>a01007a</td>\n",
       "      <td>U.S. Index of Manufacturing Production 1863-1930</td>\n",
       "      <td>VAR 0253      01007 IN MANU 1A 863-830        ...</td>\n",
       "      <td>1</td>\n",
       "    </tr>\n",
       "  </tbody>\n",
       "</table>\n",
       "</div>"
      ],
      "text/plain": [
       "  file_name                                        description  \\\n",
       "0   a01005a            U.S. Index of Crop Production 1862-1930   \n",
       "1  a01005aa  U.S. Index of Crop Producton, Twelve Important...   \n",
       "2   a01005b      U.S. Index of Total Crop Production 1866-1950   \n",
       "3    a01006   Great Britain Index of Crop Production 1866-1947   \n",
       "4   a01007a   U.S. Index of Manufacturing Production 1863-1930   \n",
       "\n",
       "                                       documentation  chapter  \n",
       "0  VAR 0094      01005 CROP RO 1R 862-930        ...        1  \n",
       "1  VAR 0096      01005A TWELVE 1R 866-940        ...        1  \n",
       "2  VAR 0095      01005 CROP RO 1R 866-950        ...        1  \n",
       "3  VAR 0099      01006 IND ROP 1R 866-947        ...        1  \n",
       "4  VAR 0253      01007 IN MANU 1A 863-830        ...        1  "
      ]
     },
     "execution_count": 12,
     "metadata": {},
     "output_type": "execute_result"
    }
   ],
   "source": [
    "import re\n",
    "import pandas as pd\n",
    "from pathlib import Path\n",
    "def load_dataset(folder:str = \"./data\"):\n",
    "    folder = Path(folder)\n",
    "    df = pd.read_csv(folder/\"documentation.csv\")\n",
    "    return df\n",
    "\n",
    "df_economy = load_dataset()\n",
    "df_economy.head()"
   ]
  },
  {
   "cell_type": "code",
   "execution_count": 13,
   "metadata": {
    "ExecuteTime": {
     "end_time": "2021-09-22T15:48:31.349240Z",
     "start_time": "2021-09-22T15:48:31.322631Z"
    }
   },
   "outputs": [
    {
     "name": "stdout",
     "output_type": "stream",
     "text": [
      "['U.S. Revenue and Non-Revenue Net Ton-Miles of Freight Hauled '\n",
      " '04/1907-06/1914; 04/1916-07/1942; 10/1942-08/1943',\n",
      " 'Great Britain Index of Business Activity 01/1920-04/1935',\n",
      " 'U.S. Contracts For Commercial Buildings, Value, F. W. Dodge Corp. '\n",
      " '01/1956-12/1963',\n",
      " 'U.S. Index of Production Of Manufactures, Seasonally Adjusted '\n",
      " '01/1919-12/1940',\n",
      " 'U.S. Borrowings At Federal Reserve Banks, Member Banks Outside New York City '\n",
      " '01/1944-04/1949',\n",
      " 'U.S. Demand Deposits, All Commercial Banks 01/1947-05/1968',\n",
      " 'U.S. Approximate Number of Acres Subdivided Within 1931 City Limits Of '\n",
      " 'Chicago 1830-1932',\n",
      " 'U.S. Net Military Construction, Kuznets (Constant Dollars) 1914-55',\n",
      " 'U.S. Wholesale Price of Carbonate Of Lead (White Lead, American, in Oil, '\n",
      " 'Kegs) 01/1890-05/1944',\n",
      " \"U.S. Manufacturers' Shipments, Machinery Except Electrical, Total \"\n",
      " '01/1953-12/1965']\n"
     ]
    }
   ],
   "source": [
    "import pprint\n",
    "pprint.pprint(df_economy[\"description\"].sample(10, random_state = 0).to_list())"
   ]
  },
  {
   "cell_type": "code",
   "execution_count": 14,
   "metadata": {
    "ExecuteTime": {
     "end_time": "2021-09-22T15:48:31.381194Z",
     "start_time": "2021-09-22T15:48:31.354242Z"
    }
   },
   "outputs": [
    {
     "data": {
      "text/html": [
       "<div>\n",
       "<style scoped>\n",
       "    .dataframe tbody tr th:only-of-type {\n",
       "        vertical-align: middle;\n",
       "    }\n",
       "\n",
       "    .dataframe tbody tr th {\n",
       "        vertical-align: top;\n",
       "    }\n",
       "\n",
       "    .dataframe thead th {\n",
       "        text-align: right;\n",
       "    }\n",
       "</style>\n",
       "<table border=\"1\" class=\"dataframe\">\n",
       "  <thead>\n",
       "    <tr style=\"text-align: right;\">\n",
       "      <th></th>\n",
       "      <th>file_name</th>\n",
       "      <th>description</th>\n",
       "      <th>documentation</th>\n",
       "      <th>chapter</th>\n",
       "    </tr>\n",
       "  </thead>\n",
       "  <tbody>\n",
       "    <tr>\n",
       "      <th>2621</th>\n",
       "      <td>a09056a</td>\n",
       "      <td>U.S. Changes Inother Assets, Large Manufacturi...</td>\n",
       "      <td>VAR 0020      09056 OTHERAS 1A 915-922        ...</td>\n",
       "      <td>9</td>\n",
       "    </tr>\n",
       "    <tr>\n",
       "      <th>1022</th>\n",
       "      <td>m02205c</td>\n",
       "      <td>U.S. New Private Housing Units Authorized By B...</td>\n",
       "      <td>VAR 0341      02205 PVT HSNG R 959-963        ...</td>\n",
       "      <td>2</td>\n",
       "    </tr>\n",
       "    <tr>\n",
       "      <th>2328</th>\n",
       "      <td>m08160</td>\n",
       "      <td>U.S. Road Freight Service, Time Paid For But N...</td>\n",
       "      <td>VAR 0721      08160 BUT NOT 3R 926-940        ...</td>\n",
       "      <td>8</td>\n",
       "    </tr>\n",
       "    <tr>\n",
       "      <th>589</th>\n",
       "      <td>a02180a</td>\n",
       "      <td>U.S. Private Nonfarm Residential Buildings, Va...</td>\n",
       "      <td>VAR 0308      02180 PVT RES  R 915-946        ...</td>\n",
       "      <td>2</td>\n",
       "    </tr>\n",
       "    <tr>\n",
       "      <th>2618</th>\n",
       "      <td>a09054b</td>\n",
       "      <td>U.S. Changes in Fixed Property Assets, Large M...</td>\n",
       "      <td>VAR 0019      09054 FIXEDAS 1A 921-943        ...</td>\n",
       "      <td>9</td>\n",
       "    </tr>\n",
       "  </tbody>\n",
       "</table>\n",
       "</div>"
      ],
      "text/plain": [
       "     file_name                                        description  \\\n",
       "2621   a09056a  U.S. Changes Inother Assets, Large Manufacturi...   \n",
       "1022   m02205c  U.S. New Private Housing Units Authorized By B...   \n",
       "2328    m08160  U.S. Road Freight Service, Time Paid For But N...   \n",
       "589    a02180a  U.S. Private Nonfarm Residential Buildings, Va...   \n",
       "2618   a09054b  U.S. Changes in Fixed Property Assets, Large M...   \n",
       "\n",
       "                                          documentation  chapter  \n",
       "2621  VAR 0020      09056 OTHERAS 1A 915-922        ...        9  \n",
       "1022  VAR 0341      02205 PVT HSNG R 959-963        ...        2  \n",
       "2328  VAR 0721      08160 BUT NOT 3R 926-940        ...        8  \n",
       "589   VAR 0308      02180 PVT RES  R 915-946        ...        2  \n",
       "2618  VAR 0019      09054 FIXEDAS 1A 921-943        ...        9  "
      ]
     },
     "execution_count": 14,
     "metadata": {},
     "output_type": "execute_result"
    }
   ],
   "source": [
    "### ESCRIBE AQUÍ TU SOLUCIÓN\n",
    "#Se hace una copia del df original para no estropearlo\n",
    "contrato=df_economy.copy()\n",
    "contrato.sample(5)"
   ]
  },
  {
   "cell_type": "code",
   "execution_count": 15,
   "metadata": {
    "ExecuteTime": {
     "end_time": "2021-09-22T15:48:31.413235Z",
     "start_time": "2021-09-22T15:48:31.385191Z"
    }
   },
   "outputs": [
    {
     "name": "stdout",
     "output_type": "stream",
     "text": [
      "<class 'pandas.core.frame.DataFrame'>\n",
      "RangeIndex: 3493 entries, 0 to 3492\n",
      "Data columns (total 4 columns):\n",
      " #   Column         Non-Null Count  Dtype \n",
      "---  ------         --------------  ----- \n",
      " 0   file_name      3493 non-null   object\n",
      " 1   description    3492 non-null   object\n",
      " 2   documentation  3493 non-null   object\n",
      " 3   chapter        3493 non-null   int64 \n",
      "dtypes: int64(1), object(3)\n",
      "memory usage: 109.3+ KB\n"
     ]
    }
   ],
   "source": [
    "#Revisamos el dataframe\n",
    "contrato.info()"
   ]
  },
  {
   "cell_type": "code",
   "execution_count": 16,
   "metadata": {
    "ExecuteTime": {
     "end_time": "2021-09-22T15:48:31.460608Z",
     "start_time": "2021-09-22T15:48:31.418241Z"
    }
   },
   "outputs": [
    {
     "name": "stdout",
     "output_type": "stream",
     "text": [
      "<class 'pandas.core.frame.DataFrame'>\n",
      "RangeIndex: 3492 entries, 0 to 3491\n",
      "Data columns (total 4 columns):\n",
      " #   Column         Non-Null Count  Dtype \n",
      "---  ------         --------------  ----- \n",
      " 0   file_name      3492 non-null   object\n",
      " 1   description    3492 non-null   object\n",
      " 2   documentation  3492 non-null   object\n",
      " 3   chapter        3492 non-null   int64 \n",
      "dtypes: int64(1), object(3)\n",
      "memory usage: 109.2+ KB\n"
     ]
    }
   ],
   "source": [
    "#Vemos que hay un valor nulo en la descripción que pasamos a eliminar\n",
    "contrato=contrato.dropna(axis=0).reset_index(drop=True)\n",
    "contrato.info()"
   ]
  },
  {
   "cell_type": "markdown",
   "metadata": {},
   "source": [
    "* Aplicamos la primera regex para opbtener la mayor parte de las fechas que hay en los documentos."
   ]
  },
  {
   "cell_type": "code",
   "execution_count": 17,
   "metadata": {
    "ExecuteTime": {
     "end_time": "2021-09-22T15:48:31.508166Z",
     "start_time": "2021-09-22T15:48:31.467177Z"
    }
   },
   "outputs": [],
   "source": [
    "contrato['fecha']=contrato['description'].str.findall(r'(\\b[1-?][7-9]\\d{1,2}-?\\d{1,2}\\b(?!\\/))')"
   ]
  },
  {
   "cell_type": "markdown",
   "metadata": {},
   "source": [
    "* Visualizamos como nos ha quedado la información en la columna fecha que es donde guardamos todos los años recogidos en cada uno de los documentos."
   ]
  },
  {
   "cell_type": "code",
   "execution_count": 18,
   "metadata": {
    "ExecuteTime": {
     "end_time": "2021-09-22T15:48:31.538171Z",
     "start_time": "2021-09-22T15:48:31.513165Z"
    }
   },
   "outputs": [
    {
     "data": {
      "text/plain": [
       "0                               [1862, 1930]\n",
       "1                               [1866, 1940]\n",
       "2                               [1866, 1950]\n",
       "3                               [1866, 1947]\n",
       "4                               [1863, 1930]\n",
       "                        ...                 \n",
       "3487                            [1933, 1938]\n",
       "3488                [1927, 1939, 1946, 1958]\n",
       "3489    [1948, 1952, 1952, 1956, 1957, 1958]\n",
       "3490    [1949, 1952, 1953, 1957, 1957, 1958]\n",
       "3491                            [1947, 1958]\n",
       "Name: fecha, Length: 3492, dtype: object"
      ]
     },
     "execution_count": 18,
     "metadata": {},
     "output_type": "execute_result"
    }
   ],
   "source": [
    "contrato['fecha']"
   ]
  },
  {
   "cell_type": "code",
   "execution_count": 19,
   "metadata": {
    "ExecuteTime": {
     "end_time": "2021-09-22T15:48:31.569171Z",
     "start_time": "2021-09-22T15:48:31.544172Z"
    }
   },
   "outputs": [
    {
     "data": {
      "text/plain": [
       "[89, 179, 462, 727, 1036, 1088, 1115, 1608, 2676, 3179, 3185]"
      ]
     },
     "execution_count": 19,
     "metadata": {},
     "output_type": "execute_result"
    }
   ],
   "source": [
    "#Al aplicar las fórmulas al dataframe nos encontramos con que hay listas vacías en el campo fecha, pasamos\n",
    "#a examinar esos registros\n",
    "cont=-1\n",
    "lista=[]\n",
    "for i in contrato['fecha']:\n",
    "    cont=cont+1\n",
    "    if (len(i)==0 or (len(i)==1 and len(i[0])==4)):\n",
    "        lista.append(cont)\n",
    "lista"
   ]
  },
  {
   "cell_type": "markdown",
   "metadata": {},
   "source": [
    "* Al revisar esos registros vemos que: \n",
    "    * algunos tienen otro formato [89, 179, 462,3185].\n",
    "    * otros no tienen fecha [727, 1036, 1088, 1115,1608]\n",
    "    * y otros tienen erratas en sus fechas [2676, 3179]"
   ]
  },
  {
   "cell_type": "markdown",
   "metadata": {
    "ExecuteTime": {
     "end_time": "2021-09-22T15:10:47.948895Z",
     "start_time": "2021-09-22T15:10:47.934595Z"
    }
   },
   "source": [
    "* Mostramos el texto de los contratos"
   ]
  },
  {
   "cell_type": "code",
   "execution_count": 20,
   "metadata": {
    "ExecuteTime": {
     "end_time": "2021-09-22T15:48:31.600724Z",
     "start_time": "2021-09-22T15:48:31.574181Z"
    }
   },
   "outputs": [
    {
     "name": "stdout",
     "output_type": "stream",
     "text": [
      "Indice :  89 \n",
      "\n",
      "Contrato: U.S. Vacuum Cleaners . Floor , Shipments 1919/1-1942/1 \n",
      "\n",
      "Indice :  179 \n",
      "\n",
      "Contrato: U.S. Indexes of Physical Production 1884/01-1889/12 \n",
      "\n",
      "Indice :  462 \n",
      "\n",
      "Contrato: U.S. Vacuum Cleaners . Floor , Shipments 1919/1-1942/1 \n",
      "\n",
      "Indice :  727 \n",
      "\n",
      "Contrato: Value of Building Permits, Outside New York City, Dun & Bradstreet, Original Data \n",
      "\n",
      "Indice :  1036 \n",
      "\n",
      "Contrato: U.S. Private Commercial, Industrial, and Public Utility Construction, BLS-Dept. of Commerce (Current Dollars) \n",
      "\n",
      "Indice :  1088 \n",
      "\n",
      "Contrato: U.S. Revenue Per Freight Ton-Mile, Seven Railroads \n",
      "\n",
      "Indice :  1115 \n",
      "\n",
      "Contrato: U.S. Revenue Per Freight Ton-Mile, Seven Railroads \n",
      "\n",
      "Indice :  1608 \n",
      "\n",
      "Contrato: U.S. NBER Series: 05069 \n",
      "\n",
      "Indice :  2676 \n",
      "\n",
      "Contrato: U.S. Number of Business Failures, Manufacturing Companies With Liabilities Over One Hundred Thousand Dollars 01/1894008/1938 \n",
      "\n",
      "Indice :  3179 \n",
      "\n",
      "Contrato: France NBER Series: 14101 01/1895-021940 \n",
      "\n",
      "Indice :  3185 \n",
      "\n",
      "Contrato: U.K. NBER Series: 14107 10/1877/12/1914 \n",
      "\n"
     ]
    }
   ],
   "source": [
    "for i in lista:\n",
    "    print('Indice : ', i ,'\\n')\n",
    "    print('Contrato:', str(contrato['description'].iloc[i]),'\\n')"
   ]
  },
  {
   "cell_type": "markdown",
   "metadata": {},
   "source": [
    "* Volvemos a reprocesar con otra regex los contratos que tienen otros formatos que no han sido detectados por la primera"
   ]
  },
  {
   "cell_type": "code",
   "execution_count": 21,
   "metadata": {
    "ExecuteTime": {
     "end_time": "2021-09-22T15:48:31.631731Z",
     "start_time": "2021-09-22T15:48:31.605731Z"
    }
   },
   "outputs": [],
   "source": [
    "contrato.loc[[89, 179,462,3185],'fecha']=contrato.loc[[89, 179, 462,3185],'description'].str.findall(r'(\\b[1-?][7-9]\\d{1,2}-?\\d{1,2}\\b(?!-))')"
   ]
  },
  {
   "cell_type": "code",
   "execution_count": 22,
   "metadata": {
    "ExecuteTime": {
     "end_time": "2021-09-22T15:48:31.663321Z",
     "start_time": "2021-09-22T15:48:31.639733Z"
    }
   },
   "outputs": [
    {
     "data": {
      "text/plain": [
       "89      [1919, 1942]\n",
       "179     [1884, 1889]\n",
       "462     [1919, 1942]\n",
       "3185    [1877, 1914]\n",
       "Name: fecha, dtype: object"
      ]
     },
     "execution_count": 22,
     "metadata": {},
     "output_type": "execute_result"
    }
   ],
   "source": [
    "contrato.loc[[89, 179, 462,3185],'fecha']"
   ]
  },
  {
   "cell_type": "markdown",
   "metadata": {},
   "source": [
    "* Pasamos a eliminar los registros que no tienen fecha o son fechas con erratas."
   ]
  },
  {
   "cell_type": "code",
   "execution_count": 23,
   "metadata": {
    "ExecuteTime": {
     "end_time": "2021-09-22T15:48:31.694866Z",
     "start_time": "2021-09-22T15:48:31.670314Z"
    }
   },
   "outputs": [],
   "source": [
    "#Pasamos a eliminar esos registros ya que no nos dan información relevante\n",
    "eliminar=[727, 1036, 1088, 1115, 1608,2676, 3179]\n",
    "contrato=contrato.drop(eliminar,axis=0).reset_index(drop=True)"
   ]
  },
  {
   "cell_type": "markdown",
   "metadata": {},
   "source": [
    "* Hemos extraido las fechas, sin embargo es necesario realizar un preprocesamiento a los resultados por los siguientes motivos:\n",
    "\n",
    "    * La extracción puede ser una lista de un único valor como en este ejemplo [1919-33], en este caso hay que convertir ese valor en [1919,1933]\n",
    "    \n",
    "    * La extracción puede ser también de este tipo [1919-33,...,1939], en este caso el resultado final debería ser [1919,...,1939]\n",
    "    \n",
    "    * Otro caso sería este [1919,...,1920-33] donde tenemos que obtener [1919,...,1933]\n",
    "    \n",
    "    * Y por último una combinación de los dos anteriores [1919-20,...,1930-36] donde lo que buscamos es [1919,...,1936]"
   ]
  },
  {
   "cell_type": "code",
   "execution_count": 24,
   "metadata": {
    "ExecuteTime": {
     "end_time": "2021-09-22T15:48:31.725900Z",
     "start_time": "2021-09-22T15:48:31.699866Z"
    }
   },
   "outputs": [],
   "source": [
    "def fechas(fecha):\n",
    "    #Para que en este tipo de fechas [1919-33] devuelva [1919,1933]\n",
    "    if len(fecha)==1:\n",
    "        if len(fecha[0])>4:\n",
    "            aux=fecha[0][:2]+fecha[0][-2:]\n",
    "            fecha=[fecha[0][:4]]\n",
    "            fecha.append(aux)\n",
    "    #Para que en este tipo de fechas [1826-68, 1872, 1912, 1920-35] devuelva el primer valor como [1826,1872,1912,1935]\n",
    "    else:\n",
    "        if len(fecha[0])>4:\n",
    "            fecha[0]=fecha[0][:4]\n",
    "        if len(fecha[-1])>4:\n",
    "            fecha[-1]=fecha[-1][:2]+fecha[-1][-2:]\n",
    "    fecha.sort()\n",
    "    return fecha"
   ]
  },
  {
   "cell_type": "code",
   "execution_count": 25,
   "metadata": {
    "ExecuteTime": {
     "end_time": "2021-09-22T15:48:31.756900Z",
     "start_time": "2021-09-22T15:48:31.730900Z"
    }
   },
   "outputs": [],
   "source": [
    "#Se aplica la función\n",
    "contrato['fecha']=contrato['fecha'].apply(fechas)"
   ]
  },
  {
   "cell_type": "markdown",
   "metadata": {},
   "source": [
    "* Ahora pasamos a crear las filas de fecha inicial y final tomando el primer y último elemento de cada lista funciones de fechas"
   ]
  },
  {
   "cell_type": "code",
   "execution_count": 26,
   "metadata": {
    "ExecuteTime": {
     "end_time": "2021-09-22T15:48:31.788914Z",
     "start_time": "2021-09-22T15:48:31.771907Z"
    }
   },
   "outputs": [],
   "source": [
    "def ini(x):\n",
    "    return x[0]\n",
    "def fin(x):\n",
    "    return x[len(x)-1]"
   ]
  },
  {
   "cell_type": "code",
   "execution_count": 27,
   "metadata": {
    "ExecuteTime": {
     "end_time": "2021-09-22T15:48:31.820481Z",
     "start_time": "2021-09-22T15:48:31.797913Z"
    }
   },
   "outputs": [],
   "source": [
    "#Ahora si aplicamos las fórmulas para obtener las fechas de inicio y final\n",
    "contrato['fecha_ini']=contrato['fecha'].apply(ini)\n",
    "contrato['fecha_fin']=contrato['fecha'].apply(fin)"
   ]
  },
  {
   "cell_type": "code",
   "execution_count": 28,
   "metadata": {
    "ExecuteTime": {
     "end_time": "2021-09-22T15:48:31.851482Z",
     "start_time": "2021-09-22T15:48:31.826491Z"
    }
   },
   "outputs": [],
   "source": [
    "#A continuación pasamos a crear el rango de fechas a través de las dos columnas generadas\n",
    "contrato['fecha_rango']=contrato['fecha_ini']+\"-\"+contrato['fecha_fin']"
   ]
  },
  {
   "cell_type": "code",
   "execution_count": 29,
   "metadata": {
    "ExecuteTime": {
     "end_time": "2021-09-22T15:48:31.882477Z",
     "start_time": "2021-09-22T15:48:31.857485Z"
    }
   },
   "outputs": [],
   "source": [
    "#Eliminamos la columna fecha\n",
    "contrato=contrato.drop('fecha',axis=1)"
   ]
  },
  {
   "cell_type": "code",
   "execution_count": 30,
   "metadata": {
    "ExecuteTime": {
     "end_time": "2021-09-22T15:48:31.944022Z",
     "start_time": "2021-09-22T15:48:31.889477Z"
    }
   },
   "outputs": [
    {
     "name": "stdout",
     "output_type": "stream",
     "text": [
      "<class 'pandas.core.frame.DataFrame'>\n",
      "RangeIndex: 3485 entries, 0 to 3484\n",
      "Data columns (total 7 columns):\n",
      " #   Column         Non-Null Count  Dtype \n",
      "---  ------         --------------  ----- \n",
      " 0   file_name      3485 non-null   object\n",
      " 1   description    3485 non-null   object\n",
      " 2   documentation  3485 non-null   object\n",
      " 3   chapter        3485 non-null   int64 \n",
      " 4   fecha_ini      3485 non-null   int64 \n",
      " 5   fecha_fin      3485 non-null   int64 \n",
      " 6   fecha_rango    3485 non-null   object\n",
      "dtypes: int64(3), object(4)\n",
      "memory usage: 190.7+ KB\n"
     ]
    }
   ],
   "source": [
    "#Al revisar el dataframe vemos que los campos de fecha_ini y fin son de tipo objeto, los necesitamos como enteros\n",
    "#para poder operar con ellos\n",
    "contrato['fecha_ini']=pd.to_numeric(contrato['fecha_ini'])\n",
    "contrato['fecha_fin']=pd.to_numeric(contrato['fecha_fin'])\n",
    "contrato.info()"
   ]
  },
  {
   "cell_type": "markdown",
   "metadata": {
    "ExecuteTime": {
     "end_time": "2021-09-22T15:18:12.200590Z",
     "start_time": "2021-09-22T15:18:12.187037Z"
    }
   },
   "source": [
    "* Sacamos los años de duración de cada tratado"
   ]
  },
  {
   "cell_type": "code",
   "execution_count": 31,
   "metadata": {
    "ExecuteTime": {
     "end_time": "2021-09-22T15:48:31.960026Z",
     "start_time": "2021-09-22T15:48:31.948028Z"
    }
   },
   "outputs": [],
   "source": [
    "contrato['duracion']=contrato['fecha_fin']-contrato['fecha_ini']"
   ]
  },
  {
   "cell_type": "code",
   "execution_count": 32,
   "metadata": {
    "ExecuteTime": {
     "end_time": "2021-09-22T15:48:31.990041Z",
     "start_time": "2021-09-22T15:48:31.965029Z"
    }
   },
   "outputs": [
    {
     "data": {
      "text/html": [
       "<div>\n",
       "<style scoped>\n",
       "    .dataframe tbody tr th:only-of-type {\n",
       "        vertical-align: middle;\n",
       "    }\n",
       "\n",
       "    .dataframe tbody tr th {\n",
       "        vertical-align: top;\n",
       "    }\n",
       "\n",
       "    .dataframe thead th {\n",
       "        text-align: right;\n",
       "    }\n",
       "</style>\n",
       "<table border=\"1\" class=\"dataframe\">\n",
       "  <thead>\n",
       "    <tr style=\"text-align: right;\">\n",
       "      <th></th>\n",
       "      <th>file_name</th>\n",
       "      <th>description</th>\n",
       "      <th>documentation</th>\n",
       "      <th>chapter</th>\n",
       "      <th>fecha_ini</th>\n",
       "      <th>fecha_fin</th>\n",
       "      <th>fecha_rango</th>\n",
       "      <th>duracion</th>\n",
       "    </tr>\n",
       "  </thead>\n",
       "  <tbody>\n",
       "    <tr>\n",
       "      <th>247</th>\n",
       "      <td>m01095b</td>\n",
       "      <td>U.S. Knit Underwear Production 01/1930-09/1933</td>\n",
       "      <td>VAR 0439      01095 KNITUND 3R 930-933        ...</td>\n",
       "      <td>1</td>\n",
       "      <td>1930</td>\n",
       "      <td>1933</td>\n",
       "      <td>1930-1933</td>\n",
       "      <td>3</td>\n",
       "    </tr>\n",
       "    <tr>\n",
       "      <th>2402</th>\n",
       "      <td>m08232</td>\n",
       "      <td>U.S. Index of Factory Employment, Wool, Nicb 1...</td>\n",
       "      <td>VAR           08232                           ...</td>\n",
       "      <td>8</td>\n",
       "      <td>1920</td>\n",
       "      <td>1942</td>\n",
       "      <td>1920-1942</td>\n",
       "      <td>22</td>\n",
       "    </tr>\n",
       "    <tr>\n",
       "      <th>2832</th>\n",
       "      <td>m10170</td>\n",
       "      <td>U.S. New Commitments For Future Investment of ...</td>\n",
       "      <td>VAR 0203      10170 FOR FUT 3R 952-965        ...</td>\n",
       "      <td>10</td>\n",
       "      <td>1952</td>\n",
       "      <td>1965</td>\n",
       "      <td>1952-1965</td>\n",
       "      <td>13</td>\n",
       "    </tr>\n",
       "    <tr>\n",
       "      <th>2834</th>\n",
       "      <td>m10175</td>\n",
       "      <td>U.S. Total Noninstalment Credit Outstanding, E...</td>\n",
       "      <td>VAR 0134      10175 NON RED 3R 929-969        ...</td>\n",
       "      <td>10</td>\n",
       "      <td>1929</td>\n",
       "      <td>1969</td>\n",
       "      <td>1929-1969</td>\n",
       "      <td>40</td>\n",
       "    </tr>\n",
       "    <tr>\n",
       "      <th>2736</th>\n",
       "      <td>a10042a</td>\n",
       "      <td>U.S. Marketable Securities Held, Year End, Lar...</td>\n",
       "      <td>VAR 0092      10042 EAR END 1R 914-943        ...</td>\n",
       "      <td>10</td>\n",
       "      <td>1914</td>\n",
       "      <td>1943</td>\n",
       "      <td>1914-1943</td>\n",
       "      <td>29</td>\n",
       "    </tr>\n",
       "  </tbody>\n",
       "</table>\n",
       "</div>"
      ],
      "text/plain": [
       "     file_name                                        description  \\\n",
       "247    m01095b     U.S. Knit Underwear Production 01/1930-09/1933   \n",
       "2402    m08232  U.S. Index of Factory Employment, Wool, Nicb 1...   \n",
       "2832    m10170  U.S. New Commitments For Future Investment of ...   \n",
       "2834    m10175  U.S. Total Noninstalment Credit Outstanding, E...   \n",
       "2736   a10042a  U.S. Marketable Securities Held, Year End, Lar...   \n",
       "\n",
       "                                          documentation  chapter  fecha_ini  \\\n",
       "247   VAR 0439      01095 KNITUND 3R 930-933        ...        1       1930   \n",
       "2402  VAR           08232                           ...        8       1920   \n",
       "2832  VAR 0203      10170 FOR FUT 3R 952-965        ...       10       1952   \n",
       "2834  VAR 0134      10175 NON RED 3R 929-969        ...       10       1929   \n",
       "2736  VAR 0092      10042 EAR END 1R 914-943        ...       10       1914   \n",
       "\n",
       "      fecha_fin fecha_rango  duracion  \n",
       "247        1933   1930-1933         3  \n",
       "2402       1942   1920-1942        22  \n",
       "2832       1965   1952-1965        13  \n",
       "2834       1969   1929-1969        40  \n",
       "2736       1943   1914-1943        29  "
      ]
     },
     "execution_count": 32,
     "metadata": {},
     "output_type": "execute_result"
    }
   ],
   "source": [
    "#Vamos a echar un vistazo de los resultados obtenidos\n",
    "contrato.sample(5)"
   ]
  },
  {
   "cell_type": "markdown",
   "metadata": {},
   "source": [
    "* Una vez obtenidos los resultados, vamos ha realizar una revisión para ver si existen irregularidades como duraciones negativas o de más de 150 años"
   ]
  },
  {
   "cell_type": "code",
   "execution_count": 33,
   "metadata": {
    "ExecuteTime": {
     "end_time": "2021-09-22T15:48:32.036023Z",
     "start_time": "2021-09-22T15:48:31.995023Z"
    }
   },
   "outputs": [
    {
     "data": {
      "text/html": [
       "<div>\n",
       "<style scoped>\n",
       "    .dataframe tbody tr th:only-of-type {\n",
       "        vertical-align: middle;\n",
       "    }\n",
       "\n",
       "    .dataframe tbody tr th {\n",
       "        vertical-align: top;\n",
       "    }\n",
       "\n",
       "    .dataframe thead th {\n",
       "        text-align: right;\n",
       "    }\n",
       "</style>\n",
       "<table border=\"1\" class=\"dataframe\">\n",
       "  <thead>\n",
       "    <tr style=\"text-align: right;\">\n",
       "      <th></th>\n",
       "      <th>file_name</th>\n",
       "      <th>description</th>\n",
       "      <th>documentation</th>\n",
       "      <th>chapter</th>\n",
       "      <th>fecha_ini</th>\n",
       "      <th>fecha_fin</th>\n",
       "      <th>fecha_rango</th>\n",
       "      <th>duracion</th>\n",
       "    </tr>\n",
       "  </thead>\n",
       "  <tbody>\n",
       "    <tr>\n",
       "      <th>56</th>\n",
       "      <td>a01028</td>\n",
       "      <td>U.S. Cotton Crop 1798-1955</td>\n",
       "      <td>VAR 0126      01028 COTTON  1A 798-955        ...</td>\n",
       "      <td>1</td>\n",
       "      <td>1798</td>\n",
       "      <td>1955</td>\n",
       "      <td>1798-1955</td>\n",
       "      <td>157</td>\n",
       "    </tr>\n",
       "    <tr>\n",
       "      <th>517</th>\n",
       "      <td>a02081</td>\n",
       "      <td>Germany, Berlin Germany: Net Construction of R...</td>\n",
       "      <td>VAR 0420      02081 RES APTS   841-894        ...</td>\n",
       "      <td>2</td>\n",
       "      <td>1841</td>\n",
       "      <td>1994</td>\n",
       "      <td>1841-1994</td>\n",
       "      <td>153</td>\n",
       "    </tr>\n",
       "  </tbody>\n",
       "</table>\n",
       "</div>"
      ],
      "text/plain": [
       "    file_name                                        description  \\\n",
       "56     a01028                         U.S. Cotton Crop 1798-1955   \n",
       "517    a02081  Germany, Berlin Germany: Net Construction of R...   \n",
       "\n",
       "                                         documentation  chapter  fecha_ini  \\\n",
       "56   VAR 0126      01028 COTTON  1A 798-955        ...        1       1798   \n",
       "517  VAR 0420      02081 RES APTS   841-894        ...        2       1841   \n",
       "\n",
       "     fecha_fin fecha_rango  duracion  \n",
       "56        1955   1798-1955       157  \n",
       "517       1994   1841-1994       153  "
      ]
     },
     "execution_count": 33,
     "metadata": {},
     "output_type": "execute_result"
    }
   ],
   "source": [
    "contrato[contrato['duracion']>=150]"
   ]
  },
  {
   "cell_type": "code",
   "execution_count": 34,
   "metadata": {
    "ExecuteTime": {
     "end_time": "2021-09-22T15:48:32.114033Z",
     "start_time": "2021-09-22T15:48:32.042310Z"
    }
   },
   "outputs": [
    {
     "name": "stdout",
     "output_type": "stream",
     "text": [
      "U.S. Cotton Crop 1798-1955\n",
      "\n",
      "Germany, Berlin Germany: Net Construction of Residential Apartments, Berlin, Emmy Reich- Statistiches Landesamt 1841-1994\n"
     ]
    }
   ],
   "source": [
    "print(contrato['description'].iloc[56])\n",
    "print()\n",
    "print(contrato['description'].iloc[517])"
   ]
  },
  {
   "cell_type": "markdown",
   "metadata": {},
   "source": [
    "* Los casos con una duración de más de 150 años vemos que son coherentes con la descripción de sus contratos. \n",
    "* Ahora vamos a ver wsi existen contratos con duraciones nulas o negativas"
   ]
  },
  {
   "cell_type": "code",
   "execution_count": 35,
   "metadata": {
    "ExecuteTime": {
     "end_time": "2021-09-22T15:48:32.146027Z",
     "start_time": "2021-09-22T15:48:32.118030Z"
    }
   },
   "outputs": [
    {
     "data": {
      "text/html": [
       "<div>\n",
       "<style scoped>\n",
       "    .dataframe tbody tr th:only-of-type {\n",
       "        vertical-align: middle;\n",
       "    }\n",
       "\n",
       "    .dataframe tbody tr th {\n",
       "        vertical-align: top;\n",
       "    }\n",
       "\n",
       "    .dataframe thead th {\n",
       "        text-align: right;\n",
       "    }\n",
       "</style>\n",
       "<table border=\"1\" class=\"dataframe\">\n",
       "  <thead>\n",
       "    <tr style=\"text-align: right;\">\n",
       "      <th></th>\n",
       "      <th>file_name</th>\n",
       "      <th>description</th>\n",
       "      <th>documentation</th>\n",
       "      <th>chapter</th>\n",
       "      <th>fecha_ini</th>\n",
       "      <th>fecha_fin</th>\n",
       "      <th>fecha_rango</th>\n",
       "      <th>duracion</th>\n",
       "    </tr>\n",
       "  </thead>\n",
       "  <tbody>\n",
       "  </tbody>\n",
       "</table>\n",
       "</div>"
      ],
      "text/plain": [
       "Empty DataFrame\n",
       "Columns: [file_name, description, documentation, chapter, fecha_ini, fecha_fin, fecha_rango, duracion]\n",
       "Index: []"
      ]
     },
     "execution_count": 35,
     "metadata": {},
     "output_type": "execute_result"
    }
   ],
   "source": [
    "contrato[contrato['duracion']<=0]"
   ]
  },
  {
   "cell_type": "markdown",
   "metadata": {},
   "source": [
    "* Vemos que no quedan contratos con valores negativos o con duración 0."
   ]
  },
  {
   "cell_type": "markdown",
   "metadata": {
    "ExecuteTime": {
     "end_time": "2021-09-22T15:21:14.335105Z",
     "start_time": "2021-09-22T15:21:14.315895Z"
    }
   },
   "source": [
    "**Vamos a generar el histograma de la duración en años de los contratos**"
   ]
  },
  {
   "cell_type": "code",
   "execution_count": 36,
   "metadata": {
    "ExecuteTime": {
     "end_time": "2021-09-22T15:48:32.176027Z",
     "start_time": "2021-09-22T15:48:32.151025Z"
    }
   },
   "outputs": [],
   "source": [
    "#Se agrupan los datos por el campo duración\n",
    "tiempo=contrato.groupby('duracion').count()"
   ]
  },
  {
   "cell_type": "code",
   "execution_count": 37,
   "metadata": {
    "ExecuteTime": {
     "end_time": "2021-09-22T15:48:33.153844Z",
     "start_time": "2021-09-22T15:48:32.182030Z"
    }
   },
   "outputs": [
    {
     "data": {
      "image/png": "[encoded data removed]",
      "text/plain": [
       "<Figure size 720x360 with 1 Axes>"
      ]
     },
     "metadata": {
      "needs_background": "light"
     },
     "output_type": "display_data"
    }
   ],
   "source": [
    "#Se dibuja el histograma\n",
    "import matplotlib.pyplot as plt\n",
    "fig,ax=plt.subplots(1,figsize=(10,5))\n",
    "ax.hist(tiempo['file_name'])\n",
    "ax.grid(True,axis='y')\n",
    "ax.set_xlabel('Duración')\n",
    "ax.set_ylabel('Nº contratos')\n",
    "ax.spines['top'].set_visible(False)\n",
    "ax.spines['right'].set_visible(False)\n",
    "ax.spines['bottom'].set_visible(False)\n",
    "ax.spines['left'].set_visible(False)\n",
    "ax.set_title('Duración en años de los contratos');"
   ]
  },
  {
   "cell_type": "markdown",
   "metadata": {},
   "source": [
    "## Extra: Dataset: Emails fraudulentos\n",
    "\n",
    "Tenemos un dataset con un conjunto de emails fraudulentos, es decir, usados para estafar. Los datos del correo están semi-estructurados, es decir, siguen el esquema de un formulario. Veámoslo:"
   ]
  },
  {
   "cell_type": "code",
   "execution_count": 38,
   "metadata": {
    "ExecuteTime": {
     "end_time": "2021-09-22T15:48:33.386321Z",
     "start_time": "2021-09-22T15:48:33.158850Z"
    }
   },
   "outputs": [
    {
     "data": {
      "text/html": [
       "<div>\n",
       "<style scoped>\n",
       "    .dataframe tbody tr th:only-of-type {\n",
       "        vertical-align: middle;\n",
       "    }\n",
       "\n",
       "    .dataframe tbody tr th {\n",
       "        vertical-align: top;\n",
       "    }\n",
       "\n",
       "    .dataframe thead th {\n",
       "        text-align: right;\n",
       "    }\n",
       "</style>\n",
       "<table border=\"1\" class=\"dataframe\">\n",
       "  <thead>\n",
       "    <tr style=\"text-align: right;\">\n",
       "      <th></th>\n",
       "      <th>raw_email</th>\n",
       "    </tr>\n",
       "  </thead>\n",
       "  <tbody>\n",
       "    <tr>\n",
       "      <th>1059</th>\n",
       "      <td>From r  Fri Aug 13 01:23:39 2004\\nReturn-Path:...</td>\n",
       "    </tr>\n",
       "    <tr>\n",
       "      <th>31</th>\n",
       "      <td>From r  Mon Nov 25 12:01:22 2002\\nReturn-Path:...</td>\n",
       "    </tr>\n",
       "    <tr>\n",
       "      <th>861</th>\n",
       "      <td>From r  Sat May 29 07:36:31 2004\\nReturn-Path:...</td>\n",
       "    </tr>\n",
       "    <tr>\n",
       "      <th>3141</th>\n",
       "      <td>From r  Sat Oct 14 08:47:13 2006\\nReturn-Path:...</td>\n",
       "    </tr>\n",
       "    <tr>\n",
       "      <th>1559</th>\n",
       "      <td>From r  Mon Apr  4 08:48:24 2005\\nReturn-Path:...</td>\n",
       "    </tr>\n",
       "  </tbody>\n",
       "</table>\n",
       "</div>"
      ],
      "text/plain": [
       "                                              raw_email\n",
       "1059  From r  Fri Aug 13 01:23:39 2004\\nReturn-Path:...\n",
       "31    From r  Mon Nov 25 12:01:22 2002\\nReturn-Path:...\n",
       "861   From r  Sat May 29 07:36:31 2004\\nReturn-Path:...\n",
       "3141  From r  Sat Oct 14 08:47:13 2006\\nReturn-Path:...\n",
       "1559  From r  Mon Apr  4 08:48:24 2005\\nReturn-Path:..."
      ]
     },
     "execution_count": 38,
     "metadata": {},
     "output_type": "execute_result"
    }
   ],
   "source": [
    "from pathlib import Path\n",
    "def load_dataset2(folder:str = \"./data\"):\n",
    "    folder = Path(folder)\n",
    "    with open(folder/\"fradulent_emails.txt\", \"r\", encoding = 'utf8', errors= \"ignore\") as f:\n",
    "        emails = f.read()\n",
    "    mail_iter = ((\"From r\" + email).strip() for email in emails.split(\"From r\") if len(email.strip())> 0)\n",
    "    df = pd.Series(mail_iter, name = \"raw_email\").to_frame()\n",
    "    return df\n",
    "\n",
    "df_emails = load_dataset2()\n",
    "df_emails.sample(5, random_state = 0)"
   ]
  },
  {
   "cell_type": "code",
   "execution_count": 39,
   "metadata": {
    "ExecuteTime": {
     "end_time": "2021-09-22T15:48:33.401844Z",
     "start_time": "2021-09-22T15:48:33.392121Z"
    }
   },
   "outputs": [
    {
     "name": "stdout",
     "output_type": "stream",
     "text": [
      "From r  Tue Jun  3 08:22:16 2003\n",
      "Return-Path: <mfrred@hknetmail.com>\n",
      "\tby fistfulofdollars.mr.itd.UM (3.6u) with ESMTP id h53CM6k24750\n",
      "\tfor <R@M>; Tue, 3 Jun 2003 08:22:06 -0400 (EDT)\n",
      "\tfor <acl-webmaster@cs.CU>; Tue, 3 Jun 2003 08:22:03 -0400 (EDT)\n",
      "Message-Id: <200306031221.h53CLpkM017171@cs.CU>\n",
      "From: \"Fred Mbonu\" <mfrred@hknetmail.com>\n",
      "Reply-To: mfred@hknetmail.com\n",
      "To: webmaster@aclweb.org\n",
      "Date: Tue, 3 Jun 2003 13:22:36 -0700\n",
      "Subject: DEAR PARTNER\n",
      "X-Mailer: Microsoft Outlook Express 5.00.2919.6900 DM\n",
      "MIME-Version: 1.0\n",
      "Content-Type: text/plain; charset=\"us-ascii\"\n",
      "Content-Transfer-Encoding: quoted-printable\n",
      "Status: O\n",
      "\n",
      "DEAR PARTNER=2C\n",
      "\n",
      "I GUESS THIS LETTER MAY COME TO YOU AS SURPRISE SINCE I\n",
      "HAD NO PREVIOUS CORRESPONDENCE WITH YOU=2E I AM THE\n",
      "CHAIRMAN TENDER BOARD OF INDEPENDENT NATIONAL ELECTORAL COMMISSION\n",
      "=28INEC=29=2E I GOT YOUR CONTACT IN THE COURSE OF MY SEARCH\n",
      "FOR A RELIABLE PERSON WITH WHOM TO HANDLE A VERY\n",
      "CONFIDENTIAL TRANSACTION INVOLVING THE\n",
      "TRANSFER OF THE SUM OF $30=2C000=2C000=2E00 D0LLARS\n",
      "=28THIRTY MILLION UNITED STATES DOLLARS=29 INTO\n",
      "YOUR PRIVATE ACCOUNT FOR SAFE KEEPING THE\n",
      "ABOVE FUND IN QUESTION IS NOT CONNECTED WITH ARMS=2C\n",
      "DRUGS OR MONEY LAUNDERING=2E IT IS THE PRODUCT OF AN\n",
      "OVER INVOICE ON CONTRACT AWARDED IN 1999 BY INEC TO A\n",
      "FOREIGN COMPANY FOR THE SUPPLY OF ELECTORAL\n",
      "MATERIALS THAT WAS USED FOR CONDUCTING 1999\n",
      "ELECTION=2E THE CONTRACT HAS LONG BEEN EXECUTED AND\n",
      "PAYMENT OF THE ACTUAL CONTRACT AMOUNT HAS BEEN\n",
      "PAID TO THE FOREIGN CONTRACTOR LEAVING THE BALANCE\n",
      "OF US$30MILLION DOLLARS IN A DORMANT ACCOUNT=2C WHICH\n",
      "MY COLLEAGUES AND I NOW WANT TO TRANSFER OUT OF\n",
      "NIGERIA INTO A RELIABLE FOREIGN ACCOUNT FOR OUR\n",
      "PERSONAL USE=2E AS CIVIL SERVANTS WE DO NOT HAVE THE\n",
      "NECESSARY FOREIGN ACCOUNT MACHINERY TO\n",
      "SUCCESSFULLY HANDLE THIS TRANSACTION THEREFORE IT\n",
      "BECOMES NECESSARY TO SOURCE FOR A FOREIGN COMPANY\n",
      "OR AN INDIVIDUAL WITH THE CAPABILITY TO ACT AS THE\n",
      "ORIGINAL BENEFICIARY OR THE CONTRACTOR=2E MY DEAR=2C\n",
      "IT IS A GOOD THING THE PRESIDENT HAS ENDORSED THE\n",
      "RESOLUTION PASSED BY THE SENATE THAT ALL FOREIGN\n",
      "CONTRACTORS OWED BY THE FEDERAL GOVERNMENT OF\n",
      "NIGERIA SHOULD BE PAID=2E WE WILL SEIZE THIS GOOD\n",
      "OPPORTUNITY TO SUPPORT YOU AS ONE OF THE\n",
      "BENEFICIARIES TO BE PAID=2E IF YOU ARE INTERESTED IN\n",
      "THE PROPOSAL KINDLY GET BACK TO ME BY SENDING ME\n",
      "YOUR LETTER OF ACCEPTANCE ALONG WITH YOUR DIRECT\n",
      "TELEPHONE AND FAX NUMBERS=2C BUT IF YOU CANNOT FOR\n",
      "ANY REASON TO HANDLE THIS TRANSACTION I SHOULD BE\n",
      "GRATEFUL=2C IF YOU CAN INTRODUCE IT TO A RELIABLE AND\n",
      "TRUST WORTHY PERSON IN WHICH IN ANY CASE YOUR\n",
      "INTEREST WILL BE PROPERLY TAKEN CARE OF=2E MEANWHILE=2C\n",
      "MY COLLEAGUES AND I HAVE DECIDED TO SHARE THE MONEY\n",
      "IN THE FOLLOWING RATIO=3A 60% FOR MY COLLEAGUES AND I=2C\n",
      "THEN 30% FOR YOU THE ACCOUNT OWNER AND 10% FOR\n",
      "ALL LOCAL AND INTERNATIONAL EXPENSES THAT MAY\n",
      "ARISE IN THE COURSE OF THIS TRANSACTION=2E FURTHER\n",
      "DETAILS ABOUT THIS TRANSACTION WILL BE DISCUSSED\n",
      "IN THE SUBSEQUENT CORRESPONDENCE=2E THIS TRANSACTION\n",
      "IS STRICTLY CONFIDENTIAL BUT 100% RISK FREE=2E NOTE ALSO\n",
      "THAT THE PARTICULAR NATURE OF YOUR BUSINESS IS\n",
      "IRRELEVANT TO THIS TRANSACTION AND THIS TRANSACTION\n",
      "IS EXPECTED TO BE CONCLUDED WITHIN 21 WORKING DAYS\n",
      "SINCE ALL LOCAL CONTACTS AND ARRANGEMENTS HAVE\n",
      "BEEN PROPERLY PERFECTED FOR A SMOOTH AND\n",
      "SUCCESSFUL CONCLUSION OF THISTRANSACTION=2E CONTACT\n",
      "ME VIA EMAIL WITH YOUR CONTACT TELEPHONE AND\n",
      "FAX NUMBERS=2C SO THAT I CAN CALL YOU FOR A DISCUSSION=2E\n",
      "THANK YOU AS I AWAIT YOUR RESPONSE=2E\n",
      "\n",
      "YOURS FAITHFULLY=2C\n",
      "\n",
      "FREDRICK MBONU\n"
     ]
    }
   ],
   "source": [
    "print(df_emails.raw_email[250])"
   ]
  },
  {
   "cell_type": "markdown",
   "metadata": {},
   "source": [
    "### Tarea 1: Extracción del campo \"From:\"\n",
    "\n",
    "Estamos interesados en extraer tanto el nombre como el email del campo \"From:\" de cada correo electrónico. Esto se puede implementar tanto usando regex como con métodos de strings de Python. \n",
    "\n",
    "En cada caso, puedes valorar cuál es la mejor opción, explicando el por qué de dicha decisión.\n",
    "\n",
    "En caso de usar regex, es recomendable utilizar la flag `re.MULTILINE`, ya que sabemos que ese campo corresponde únicamente a una línea. Y así podemos utilizar los metacarcteres `^` y `$` para señalizar el inicio y el fin de la línea."
   ]
  },
  {
   "cell_type": "code",
   "execution_count": 40,
   "metadata": {
    "ExecuteTime": {
     "end_time": "2021-09-22T15:48:33.417338Z",
     "start_time": "2021-09-22T15:48:33.407348Z"
    }
   },
   "outputs": [],
   "source": [
    "#Primero hacemos una copia del dataset original\n",
    "df_emails_copy=df_emails.copy()"
   ]
  },
  {
   "cell_type": "code",
   "execution_count": 41,
   "metadata": {
    "ExecuteTime": {
     "end_time": "2021-09-22T15:48:33.448918Z",
     "start_time": "2021-09-22T15:48:33.421347Z"
    }
   },
   "outputs": [
    {
     "name": "stdout",
     "output_type": "stream",
     "text": [
      "<class 'pandas.core.frame.DataFrame'>\n",
      "RangeIndex: 3977 entries, 0 to 3976\n",
      "Data columns (total 1 columns):\n",
      " #   Column     Non-Null Count  Dtype \n",
      "---  ------     --------------  ----- \n",
      " 0   raw_email  3977 non-null   object\n",
      "dtypes: object(1)\n",
      "memory usage: 31.2+ KB\n"
     ]
    }
   ],
   "source": [
    "df_emails_copy.info()"
   ]
  },
  {
   "cell_type": "markdown",
   "metadata": {},
   "source": [
    "* Vamos a utilizar una regex con la función str.extract que nos devolverá la información que se encuentra después de **\"From:\"**. Esta regex esta diseñada para que no recoja la información de **\"From:\"** que se observan en el cuerpo de algunos mails. \n",
    "* Finalmente los mail que no contienen ninguna dirección de email en el **\"From:\"**, por lo que se consideran anónimos y se marcan con el literal *'Correo fraudulento anonimo'.*"
   ]
  },
  {
   "cell_type": "code",
   "execution_count": 42,
   "metadata": {
    "ExecuteTime": {
     "end_time": "2021-09-22T15:48:33.495020Z",
     "start_time": "2021-09-22T15:48:33.453921Z"
    }
   },
   "outputs": [],
   "source": [
    "## ESCRIBE AQUÍ TU SOLUCIÓN\n",
    "df_emails_copy['name_mail']=df_emails_copy['raw_email'].str.extract(r'From: \\W?(\\W?\\w.*@\\w.*\\b\\>?)',expand=False)\n",
    "df_emails_copy['name_mail'].fillna('Correo fraudulento anonimo',inplace=True)"
   ]
  },
  {
   "cell_type": "markdown",
   "metadata": {
    "ExecuteTime": {
     "end_time": "2021-09-20T15:22:29.271226Z",
     "start_time": "2021-09-20T15:22:29.229210Z"
    },
    "code_folding": [
     0
    ]
   },
   "source": [
    "* Contabilizamos los correos marcados como anónimos"
   ]
  },
  {
   "cell_type": "code",
   "execution_count": 43,
   "metadata": {
    "ExecuteTime": {
     "end_time": "2021-09-22T15:48:33.526258Z",
     "start_time": "2021-09-22T15:48:33.502067Z"
    }
   },
   "outputs": [
    {
     "name": "stdout",
     "output_type": "stream",
     "text": [
      "El número de correos anónimos es :  381\n"
     ]
    }
   ],
   "source": [
    "print('El número de correos anónimos es : ', len(df_emails_copy[df_emails_copy['name_mail']=='Correo fraudulento anonimo']))"
   ]
  },
  {
   "cell_type": "markdown",
   "metadata": {},
   "source": [
    "Por último sacamos una muestra de que tipo de información se ha guardado en el campo name_mail, donde se ha volcado la información que contiene **\"From:\"**"
   ]
  },
  {
   "cell_type": "code",
   "execution_count": 44,
   "metadata": {
    "ExecuteTime": {
     "end_time": "2021-09-22T15:48:33.556632Z",
     "start_time": "2021-09-22T15:48:33.531261Z"
    },
    "scrolled": true
   },
   "outputs": [
    {
     "data": {
      "text/html": [
       "<div>\n",
       "<style scoped>\n",
       "    .dataframe tbody tr th:only-of-type {\n",
       "        vertical-align: middle;\n",
       "    }\n",
       "\n",
       "    .dataframe tbody tr th {\n",
       "        vertical-align: top;\n",
       "    }\n",
       "\n",
       "    .dataframe thead th {\n",
       "        text-align: right;\n",
       "    }\n",
       "</style>\n",
       "<table border=\"1\" class=\"dataframe\">\n",
       "  <thead>\n",
       "    <tr style=\"text-align: right;\">\n",
       "      <th></th>\n",
       "      <th>raw_email</th>\n",
       "      <th>name_mail</th>\n",
       "    </tr>\n",
       "  </thead>\n",
       "  <tbody>\n",
       "    <tr>\n",
       "      <th>2351</th>\n",
       "      <td>From r  Sun Mar 19 05:44:58 2006\\nReturn-Path:...</td>\n",
       "      <td>Mr. Abudullah Mohamed\" &lt;mustapha_mohan@yahoo.com&gt;</td>\n",
       "    </tr>\n",
       "    <tr>\n",
       "      <th>111</th>\n",
       "      <td>From r  Wed Feb 12 11:18:00 2003\\nReturn-Path:...</td>\n",
       "      <td>MR.YARO BAMIYI\" &lt;doomer@themail.com&gt;</td>\n",
       "    </tr>\n",
       "    <tr>\n",
       "      <th>2267</th>\n",
       "      <td>From r  Tue Feb 28 16:00:24 2006\\nReturn-Path:...</td>\n",
       "      <td>SANDRA MENDES\" &lt;sandra_1mendes@yahoo.co.nz&gt;</td>\n",
       "    </tr>\n",
       "    <tr>\n",
       "      <th>1737</th>\n",
       "      <td>From r  Mon Jul 11 16:46:25 2005\\nReturn-Path:...</td>\n",
       "      <td>MUSA EYADEMA\" &lt;musa_eyadema@yahoo.com&gt;</td>\n",
       "    </tr>\n",
       "    <tr>\n",
       "      <th>3254</th>\n",
       "      <td>From r  Sun Nov 12 13:49:12 2006\\nReturn-Path:...</td>\n",
       "      <td>Correo fraudulento anonimo</td>\n",
       "    </tr>\n",
       "    <tr>\n",
       "      <th>674</th>\n",
       "      <td>From r  Sun Jan 25 22:40:09 2004\\nReturn-Path:...</td>\n",
       "      <td>abu_saeed04@tiscali.co.uk</td>\n",
       "    </tr>\n",
       "    <tr>\n",
       "      <th>1973</th>\n",
       "      <td>From r  Wed Nov 23 03:42:44 2005\\nReturn-Path:...</td>\n",
       "      <td>Daniel Williams &lt;daanwiiil@yahoo.com&gt;</td>\n",
       "    </tr>\n",
       "    <tr>\n",
       "      <th>764</th>\n",
       "      <td>From r  Thu Mar 18 14:42:56 2004\\nReturn-Path:...</td>\n",
       "      <td>kamasutu &lt;kamasutu@telstra.com&gt;</td>\n",
       "    </tr>\n",
       "    <tr>\n",
       "      <th>1106</th>\n",
       "      <td>From r  Mon Sep  6 15:02:59 2004\\nReturn-Path:...</td>\n",
       "      <td>larryamu@handbag.com</td>\n",
       "    </tr>\n",
       "    <tr>\n",
       "      <th>3148</th>\n",
       "      <td>From r  Mon Oct 16 08:45:08 2006\\nReturn-Path:...</td>\n",
       "      <td>lucie issa &lt;lucie_tn8882001@yahoo.co.jp&gt;</td>\n",
       "    </tr>\n",
       "  </tbody>\n",
       "</table>\n",
       "</div>"
      ],
      "text/plain": [
       "                                              raw_email  \\\n",
       "2351  From r  Sun Mar 19 05:44:58 2006\\nReturn-Path:...   \n",
       "111   From r  Wed Feb 12 11:18:00 2003\\nReturn-Path:...   \n",
       "2267  From r  Tue Feb 28 16:00:24 2006\\nReturn-Path:...   \n",
       "1737  From r  Mon Jul 11 16:46:25 2005\\nReturn-Path:...   \n",
       "3254  From r  Sun Nov 12 13:49:12 2006\\nReturn-Path:...   \n",
       "674   From r  Sun Jan 25 22:40:09 2004\\nReturn-Path:...   \n",
       "1973  From r  Wed Nov 23 03:42:44 2005\\nReturn-Path:...   \n",
       "764   From r  Thu Mar 18 14:42:56 2004\\nReturn-Path:...   \n",
       "1106  From r  Mon Sep  6 15:02:59 2004\\nReturn-Path:...   \n",
       "3148  From r  Mon Oct 16 08:45:08 2006\\nReturn-Path:...   \n",
       "\n",
       "                                              name_mail  \n",
       "2351  Mr. Abudullah Mohamed\" <mustapha_mohan@yahoo.com>  \n",
       "111                MR.YARO BAMIYI\" <doomer@themail.com>  \n",
       "2267        SANDRA MENDES\" <sandra_1mendes@yahoo.co.nz>  \n",
       "1737             MUSA EYADEMA\" <musa_eyadema@yahoo.com>  \n",
       "3254                         Correo fraudulento anonimo  \n",
       "674                           abu_saeed04@tiscali.co.uk  \n",
       "1973              Daniel Williams <daanwiiil@yahoo.com>  \n",
       "764                     kamasutu <kamasutu@telstra.com>  \n",
       "1106                               larryamu@handbag.com  \n",
       "3148           lucie issa <lucie_tn8882001@yahoo.co.jp>  "
      ]
     },
     "execution_count": 44,
     "metadata": {},
     "output_type": "execute_result"
    }
   ],
   "source": [
    "#Sacamos una muestra del resultado\n",
    "df_emails_copy.sample(10)"
   ]
  },
  {
   "cell_type": "markdown",
   "metadata": {},
   "source": [
    "### Tarea 2: Extracción del correo electrónico y dominio del emisor\n",
    "\n",
    "Una vez hemos aislado el campo `From:` podemos extraer los correos electrónicos que aparecen en este. Lo más sencillo es utilizar regex en este caso, y el método `pd.Series.str.extract()`. Recuerda que para que `extract()` devuelva algo hay que definir un grupo de captura en el patrón con `()`\n",
    "\n",
    "Ya que es difícil estar seguro de que lo estemos haciendo bien, hay que validar la expresión e iterar. Lo mejor es empezar con una expresión restrictiva, y ver los casos en los que no hemos extraído nada.\n",
    "\n",
    "Algunas condiciones sobre el correo electrónico.\n",
    "\n",
    "Sólo puede contener una `@`, que separa la parte local del dominio. `local@dominio`\n",
    "\n",
    "La parte del dominio sólo puede contener letras latinas, dígitos, y guiones `-`. Así como puntos `.` para separar los subdominios. Además, el dominio tiene que terminaren una extensión de al menos dos letras.\n",
    "\n",
    "La parte local tiene más libertad. Letras y dígitos. Vamos a aceptar sólamente los caracteres especiales `!#$%&*+-=?^_~` y puntos."
   ]
  },
  {
   "cell_type": "markdown",
   "metadata": {},
   "source": [
    "Por ejemplo, para la parte del dominio, como la abreviatura `\\w` es equivalente a `[a-zA-Z0-9_]`, por lo tanto los caracteres disponibles son:"
   ]
  },
  {
   "cell_type": "code",
   "execution_count": 45,
   "metadata": {
    "ExecuteTime": {
     "end_time": "2021-09-22T15:48:33.571672Z",
     "start_time": "2021-09-22T15:48:33.561628Z"
    }
   },
   "outputs": [],
   "source": [
    "char_domain = r\"[a-zA-Z0-9\\-\\.]\""
   ]
  },
  {
   "cell_type": "markdown",
   "metadata": {},
   "source": [
    "Ahora, tenemos que construir la estrucuta completa del email, es decir, `local`+ `@`+ `dominio` + `.` + `extension`"
   ]
  },
  {
   "cell_type": "code",
   "execution_count": 46,
   "metadata": {
    "ExecuteTime": {
     "end_time": "2021-09-22T15:48:33.587667Z",
     "start_time": "2021-09-22T15:48:33.576668Z"
    }
   },
   "outputs": [],
   "source": [
    "### ESCRIBE AQUÍ TU SOLUCIÓN\n",
    "# Eliminamos los correos anónimos por que al no tener información ene From: no tiene sentido procesar\n",
    "# estos registros, por que no vamos a poder sacra ni el dominio ni el email.\n",
    "df_emails_sin_anonimos= df_emails_copy.copy()\n",
    "df_emails_sin_anonimos= df_emails_sin_anonimos[df_emails_sin_anonimos['name_mail']!='Correo fraudulento anonimo']\n"
   ]
  },
  {
   "cell_type": "code",
   "execution_count": 47,
   "metadata": {
    "ExecuteTime": {
     "end_time": "2021-09-22T15:48:33.650662Z",
     "start_time": "2021-09-22T15:48:33.594669Z"
    }
   },
   "outputs": [],
   "source": [
    "# Generamos la regex que nos va a extraer la dirección de email.\n",
    "patron=r'([a-zA-Z0-9.!#$&*+\\-=?^_~]+@+[a-zA-Z0-9\\-\\.]+\\.[a-z]{2,3})'\n",
    "df_emails_sin_anonimos['mail']=df_emails_sin_anonimos['name_mail'].str.extract(patron,expand=False)\n",
    "\n",
    "# Generamos un nuevo regex que nos va a extraer el dominio de la direción de email previamente extraida\n",
    "patron2=r'@([a-zA-Z0-9\\-\\.]+)\\.[A-Za-z]{2,3}'\n",
    "df_emails_sin_anonimos['domain_mail']=df_emails_sin_anonimos['mail'].str.extract(patron2,expand=False)"
   ]
  },
  {
   "cell_type": "markdown",
   "metadata": {},
   "source": [
    "* Seguidamente pasamos a visualizar como ha quedado la información en las columnas mail donde se guarda la dirección de mail y domain_mail donde guardamos el dominio de las direcciones de correo detectadas"
   ]
  },
  {
   "cell_type": "code",
   "execution_count": 48,
   "metadata": {
    "ExecuteTime": {
     "end_time": "2021-09-22T15:48:33.682665Z",
     "start_time": "2021-09-22T15:48:33.655669Z"
    }
   },
   "outputs": [
    {
     "data": {
      "text/html": [
       "<div>\n",
       "<style scoped>\n",
       "    .dataframe tbody tr th:only-of-type {\n",
       "        vertical-align: middle;\n",
       "    }\n",
       "\n",
       "    .dataframe tbody tr th {\n",
       "        vertical-align: top;\n",
       "    }\n",
       "\n",
       "    .dataframe thead th {\n",
       "        text-align: right;\n",
       "    }\n",
       "</style>\n",
       "<table border=\"1\" class=\"dataframe\">\n",
       "  <thead>\n",
       "    <tr style=\"text-align: right;\">\n",
       "      <th></th>\n",
       "      <th>mail</th>\n",
       "      <th>domain_mail</th>\n",
       "    </tr>\n",
       "  </thead>\n",
       "  <tbody>\n",
       "    <tr>\n",
       "      <th>0</th>\n",
       "      <td>james_ngola2002@maktoob.com</td>\n",
       "      <td>maktoob</td>\n",
       "    </tr>\n",
       "    <tr>\n",
       "      <th>1</th>\n",
       "      <td>bensul2004nng@spinfinder.com</td>\n",
       "      <td>spinfinder</td>\n",
       "    </tr>\n",
       "    <tr>\n",
       "      <th>2</th>\n",
       "      <td>obong_715@epatra.com</td>\n",
       "      <td>epatra</td>\n",
       "    </tr>\n",
       "    <tr>\n",
       "      <th>3</th>\n",
       "      <td>obong_715@epatra.com</td>\n",
       "      <td>epatra</td>\n",
       "    </tr>\n",
       "    <tr>\n",
       "      <th>4</th>\n",
       "      <td>m_abacha03@www.com</td>\n",
       "      <td>www</td>\n",
       "    </tr>\n",
       "    <tr>\n",
       "      <th>...</th>\n",
       "      <td>...</td>\n",
       "      <td>...</td>\n",
       "    </tr>\n",
       "    <tr>\n",
       "      <th>3971</th>\n",
       "      <td>tony_eselu2@virgilio.it</td>\n",
       "      <td>virgilio</td>\n",
       "    </tr>\n",
       "    <tr>\n",
       "      <th>3972</th>\n",
       "      <td>michealagu0255@zipmail.com.br</td>\n",
       "      <td>zipmail.com</td>\n",
       "    </tr>\n",
       "    <tr>\n",
       "      <th>3973</th>\n",
       "      <td>ali_sherif252@hotmail.fr</td>\n",
       "      <td>hotmail</td>\n",
       "    </tr>\n",
       "    <tr>\n",
       "      <th>3974</th>\n",
       "      <td>drusmanibrahimtg08@hotmail.fr</td>\n",
       "      <td>hotmail</td>\n",
       "    </tr>\n",
       "    <tr>\n",
       "      <th>3975</th>\n",
       "      <td>motherdorisk61@hotmail.com</td>\n",
       "      <td>hotmail</td>\n",
       "    </tr>\n",
       "  </tbody>\n",
       "</table>\n",
       "<p>3596 rows × 2 columns</p>\n",
       "</div>"
      ],
      "text/plain": [
       "                               mail  domain_mail\n",
       "0       james_ngola2002@maktoob.com      maktoob\n",
       "1      bensul2004nng@spinfinder.com   spinfinder\n",
       "2              obong_715@epatra.com       epatra\n",
       "3              obong_715@epatra.com       epatra\n",
       "4                m_abacha03@www.com          www\n",
       "...                             ...          ...\n",
       "3971        tony_eselu2@virgilio.it     virgilio\n",
       "3972  michealagu0255@zipmail.com.br  zipmail.com\n",
       "3973       ali_sherif252@hotmail.fr      hotmail\n",
       "3974  drusmanibrahimtg08@hotmail.fr      hotmail\n",
       "3975     motherdorisk61@hotmail.com      hotmail\n",
       "\n",
       "[3596 rows x 2 columns]"
      ]
     },
     "execution_count": 48,
     "metadata": {},
     "output_type": "execute_result"
    }
   ],
   "source": [
    "df_emails_sin_anonimos[['mail','domain_mail']]"
   ]
  },
  {
   "cell_type": "markdown",
   "metadata": {},
   "source": [
    "* A continuación y para poder aportar más facilidad para poder conultar la información, creamos unos gráficos de barra, para poder sacar un ranking de los dominios más utilizados para la emisión de corrreos fraudulentos y de direcciones de correo más usadas."
   ]
  },
  {
   "cell_type": "code",
   "execution_count": 49,
   "metadata": {
    "ExecuteTime": {
     "end_time": "2021-09-22T15:48:34.009920Z",
     "start_time": "2021-09-22T15:48:33.688671Z"
    }
   },
   "outputs": [
    {
     "data": {
      "image/png": "[encoded data removed]",
      "text/plain": [
       "<Figure size 720x360 with 1 Axes>"
      ]
     },
     "metadata": {
      "needs_background": "light"
     },
     "output_type": "display_data"
    }
   ],
   "source": [
    "dominios=df_emails_sin_anonimos['domain_mail'].value_counts()\n",
    "fig,ax=plt.subplots(1,figsize=(10,5))\n",
    "ax.bar(dominios.index[:10],dominios[:10])\n",
    "ax.grid(True,axis='y')\n",
    "ax.set_ylabel('Número de emails')\n",
    "ax.set_xlabel('Dominio')\n",
    "ax.spines['top'].set_visible(False)\n",
    "ax.spines['right'].set_visible(False)\n",
    "ax.spines['bottom'].set_visible(False)\n",
    "ax.spines['left'].set_visible(False)\n",
    "ax.set_title('Top 10 de dominios emisores de emails fraudulentos');"
   ]
  },
  {
   "cell_type": "code",
   "execution_count": 50,
   "metadata": {
    "ExecuteTime": {
     "end_time": "2021-09-22T15:48:34.416813Z",
     "start_time": "2021-09-22T15:48:34.014920Z"
    }
   },
   "outputs": [
    {
     "data": {
      "image/png": "[encoded data removed]",
      "text/plain": [
       "<Figure size 720x360 with 1 Axes>"
      ]
     },
     "metadata": {
      "needs_background": "light"
     },
     "output_type": "display_data"
    }
   ],
   "source": [
    "fig,ax=plt.subplots(1,figsize=(10,5))\n",
    "emails=df_emails_sin_anonimos['mail'].value_counts()\n",
    "ax.barh(emails.index[:10],emails[:10])\n",
    "ax.grid(True,axis='x')\n",
    "# ax.set_ylabel('Dirección de email')\n",
    "ax.set_xlabel('Número de emails')\n",
    "ax.spines['top'].set_visible(False)\n",
    "ax.spines['right'].set_visible(False)\n",
    "ax.spines['bottom'].set_visible(False)\n",
    "ax.spines['left'].set_visible(False)\n",
    "ax.set_title('Top 10 de direcciones de emails fraudulentos');"
   ]
  },
  {
   "cell_type": "markdown",
   "metadata": {},
   "source": [
    "# References\n",
    "* [Fraudulent E-mail Corpus CLAIR collection of \"Nigerian\" fraud emails](https://www.kaggle.com/rtatman/fraudulent-email-corpus)\n",
    "* [NBER Macrohistory Database Western economic history data spanning 1785-1974](https://www.kaggle.com/sohier/nber-macrohistory-database/)"
   ]
  },
  {
   "cell_type": "code",
   "execution_count": null,
   "metadata": {},
   "outputs": [],
   "source": []
  }
 ],
 "metadata": {
  "jupytext": {
   "formats": "ipynb,md"
  },
  "kernelspec": {
   "display_name": "Python 3",
   "language": "python",
   "name": "python3"
  },
  "language_info": {
   "codemirror_mode": {
    "name": "ipython",
    "version": 3
   },
   "file_extension": ".py",
   "mimetype": "text/x-python",
   "name": "python",
   "nbconvert_exporter": "python",
   "pygments_lexer": "ipython3",
   "version": "3.9.2"
  },
  "toc": {
   "base_numbering": 1,
   "nav_menu": {},
   "number_sections": true,
   "sideBar": true,
   "skip_h1_title": false,
   "title_cell": "Table of Contents",
   "title_sidebar": "Contents",
   "toc_cell": false,
   "toc_position": {},
   "toc_section_display": true,
   "toc_window_display": true
  },
  "varInspector": {
   "cols": {
    "lenName": 16,
    "lenType": 16,
    "lenVar": 40
   },
   "kernels_config": {
    "python": {
     "delete_cmd_postfix": "",
     "delete_cmd_prefix": "del ",
     "library": "var_list.py",
     "varRefreshCmd": "print(var_dic_list())"
    },
    "r": {
     "delete_cmd_postfix": ") ",
     "delete_cmd_prefix": "rm(",
     "library": "var_list.r",
     "varRefreshCmd": "cat(var_dic_list()) "
    }
   },
   "types_to_exclude": [
    "module",
    "function",
    "builtin_function_or_method",
    "instance",
    "_Feature"
   ],
   "window_display": false
  }
 },
 "nbformat": 4,
 "nbformat_minor": 4
}
