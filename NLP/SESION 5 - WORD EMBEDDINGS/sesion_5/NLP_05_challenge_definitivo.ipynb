{
 "cells": [
  {
   "cell_type": "markdown",
   "metadata": {},
   "source": [
    "<img src=\"mioti.png\" style=\"height: 100px\">\n",
    "<center style=\"color:#888\">Módulo Advanced Data Science<br/>Natural Language Processing</center>\n",
    "\n",
    "# S5 Challenge. Word embeddings puestos a prueba"
   ]
  },
  {
   "cell_type": "markdown",
   "metadata": {},
   "source": [
    "# Encontrar preguntas similares en StackOverflow\n",
    "\n",
    "En este challenge vamos a calcular la similaridad entre dos trozos documentos. Utilizando esta técnica vamos a aprender a buscar preguntas duplicadas en [StackOverflow](https://stackoverflow.com)."
   ]
  },
  {
   "cell_type": "markdown",
   "metadata": {},
   "source": [
    "### Librerías\n",
    "\n",
    "- [Gensim](https://radimrehurek.com/gensim/)\n",
    "- [Numpy](http://www.numpy.org) \n",
    "- [scikit-learn](http://scikit-learn.org/stable/index.html) \n",
    "- [Nltk](http://www.nltk.org)"
   ]
  },
  {
   "cell_type": "code",
   "execution_count": 1,
   "metadata": {
    "ExecuteTime": {
     "end_time": "2021-10-27T07:37:43.978344Z",
     "start_time": "2021-10-27T07:37:37.604004Z"
    }
   },
   "outputs": [],
   "source": [
    "import utils_05\n",
    "import gensim\n",
    "import numpy as np\n",
    "from typing import List, Tuple\n",
    "from gensim.models import KeyedVectors,Word2Vec\n",
    "import math\n",
    "import nltk\n",
    "import re\n",
    "from nltk.corpus import stopwords"
   ]
  },
  {
   "cell_type": "markdown",
   "metadata": {},
   "source": [
    "### Datos\n",
    "\n",
    "Lo primero es descargar los datos necesarios, que se guardarán en `week3/data`."
   ]
  },
  {
   "cell_type": "code",
   "execution_count": 2,
   "metadata": {
    "ExecuteTime": {
     "end_time": "2021-10-27T07:37:44.009658Z",
     "start_time": "2021-10-27T07:37:43.984648Z"
    }
   },
   "outputs": [
    {
     "name": "stdout",
     "output_type": "stream",
     "text": [
      "Downloading GoogleNews-vectors-negative300.bin.gz (1.5G) for you, it will take a while...\n",
      "File already downloaded!\n",
      "Done!\n"
     ]
    }
   ],
   "source": [
    "from download_utils import download_embeddings_challenge\n",
    "download_embeddings_challenge()"
   ]
  },
  {
   "cell_type": "markdown",
   "metadata": {},
   "source": [
    "## Word embedding\n",
    "\n",
    "En la tarea vamos a usar word-embeddings, tanto preentrenados como entrenados por nosotros de cero:\n",
    "\n",
    " - [Word vectors Pre-entrenados](https://code.google.com/archive/p/word2vec/) de Google que fueron entrenados en una parte del dataset 'Google News' (con alreadedor de 100K millones de palabras). Es un modelo con vectores de 300 dimensiones, y un vocabulario de 3 millones de palabras. Están en el archivo `GoogleNews-vectors-negative300.bin.gz`.\n",
    " - Extra: Vamos a entrenar un modelo en nuestros datos usando gensim."
   ]
  },
  {
   "cell_type": "markdown",
   "metadata": {},
   "source": [
    "Siempre es más fácil comenzar con embeddings pre-entrenados. Carga los vectores de Goggle pre-entrenados y cárguelos usando la función [gensim.models.KeyedVectors.load_word2vec_format](https://radimrehurek.com/gensim/models/keyedvectors.html) de gensim con el parámetro `binary = True`. Si el tamaño de los vectores es mayor que la memoria disponible, puede cargar solo una parte del vocabulario definiendo el parámetro `limit` (recomendado: 500000)."
   ]
  },
  {
   "cell_type": "code",
   "execution_count": 3,
   "metadata": {
    "ExecuteTime": {
     "end_time": "2021-10-27T07:38:57.668905Z",
     "start_time": "2021-10-27T07:37:44.015642Z"
    }
   },
   "outputs": [],
   "source": [
    "path = '../embeddings/GoogleNews-vectors-negative300.bin'\n",
    "### ESCRIBE AQUÍ TU CÓDIGO\n",
    "wv_embeddings = KeyedVectors.load_word2vec_format(path, binary=True)  # Cargamos el formato binario\n",
    "###"
   ]
  },
  {
   "cell_type": "markdown",
   "metadata": {},
   "source": [
    "### ¿Cómo utilizar los embeddings ?\n",
    "\n",
    "Una vez que haya cargado las representaciones, asegúrate de poder acceder a ellas. Primero, puedes verificar si los embeddings cargados contienen una palabra:\n",
    "\n",
    "    'word' in wv_embeddings\n",
    "    \n",
    "También, puedes obtener el embedding correspondiente accediendo como si fuera un diccionario:\n",
    "\n",
    "    wv_embeddings['word']\n",
    " \n",
    "### Check de los embeddings\n",
    " \n",
    "Para evitar errores durante la primera parte, podemos verificar que los embeddings cargados son correctos. Llama a la función `check_embeddings()`, implementada a continuación, que ejecuta 3 pruebas:\n",
    "1. Encuentra la palabra más similar para las palabras \"positivas\" y \"negativas\" proporcionadas.\n",
    "2. Encuentra qué palabra de la lista dada no coincide con las demás.\n",
    "3. Encuentra la palabra más similar a la dada.\n",
    "\n",
    "En el caso correcto, la función devolverá la cadena *¡Todo correcto!*. De lo contrario, repasa el código anterior."
   ]
  },
  {
   "cell_type": "code",
   "execution_count": 4,
   "metadata": {
    "ExecuteTime": {
     "end_time": "2021-10-27T07:38:57.807880Z",
     "start_time": "2021-10-27T07:38:57.675876Z"
    }
   },
   "outputs": [
    {
     "data": {
      "text/plain": [
       "array([ 3.59375000e-01,  4.15039062e-02,  9.03320312e-02,  5.46875000e-02,\n",
       "       -1.47460938e-01,  4.76074219e-02, -8.49609375e-02, -2.04101562e-01,\n",
       "        3.10546875e-01, -1.05590820e-02, -6.15234375e-02, -1.55273438e-01,\n",
       "       -1.52343750e-01,  8.54492188e-02, -2.70996094e-02,  3.84765625e-01,\n",
       "        4.78515625e-02,  2.58789062e-02,  4.49218750e-02, -2.79296875e-01,\n",
       "        9.09423828e-03,  4.08203125e-01,  2.40234375e-01, -3.06640625e-01,\n",
       "       -1.80664062e-01,  4.73632812e-02, -2.63671875e-01,  9.08203125e-02,\n",
       "        1.37695312e-01, -7.20977783e-04,  2.67333984e-02,  1.92382812e-01,\n",
       "       -2.29492188e-02,  9.70458984e-03, -7.37304688e-02,  4.29687500e-01,\n",
       "       -7.93457031e-03,  1.06445312e-01,  2.80761719e-02, -2.29492188e-01,\n",
       "       -1.91650391e-02, -2.36816406e-02,  3.51562500e-02,  1.71875000e-01,\n",
       "       -1.12304688e-01,  6.25000000e-02, -1.69921875e-01,  1.29882812e-01,\n",
       "       -1.54296875e-01,  1.58203125e-01, -7.76367188e-02,  1.78710938e-01,\n",
       "       -1.72851562e-01,  9.96093750e-02,  3.94531250e-01,  6.44531250e-02,\n",
       "       -6.83593750e-02, -3.18359375e-01,  5.95703125e-02, -1.02539062e-02,\n",
       "        9.37500000e-02,  8.25195312e-02, -2.52685547e-02,  1.09863281e-01,\n",
       "       -6.73828125e-02, -1.70898438e-01,  6.78710938e-02,  1.04492188e-01,\n",
       "       -2.11914062e-01,  1.30859375e-01, -1.24573708e-05,  1.85546875e-02,\n",
       "       -1.61132812e-01, -8.00781250e-02,  9.42382812e-02, -8.78906250e-02,\n",
       "        1.82617188e-01, -2.48718262e-03,  8.74023438e-02,  1.75781250e-01,\n",
       "       -2.17285156e-02, -1.96289062e-01,  9.52148438e-02, -5.15136719e-02,\n",
       "        1.01928711e-02,  6.22558594e-02, -2.13867188e-01,  2.25585938e-01,\n",
       "        2.46093750e-01, -6.12792969e-02,  1.74560547e-02, -1.46484375e-01,\n",
       "        3.93676758e-03, -1.62109375e-01, -1.10839844e-01,  6.88476562e-02,\n",
       "       -1.83593750e-01,  1.13281250e-01,  9.08203125e-02, -1.64062500e-01,\n",
       "       -3.71093750e-01, -5.39550781e-02, -8.66699219e-03, -1.18164062e-01,\n",
       "       -5.93261719e-02,  8.74023438e-02, -1.98242188e-01, -1.36718750e-01,\n",
       "        6.39648438e-02, -1.88476562e-01, -2.96875000e-01,  6.39648438e-02,\n",
       "        2.16796875e-01, -7.71484375e-02,  1.13769531e-01,  1.96533203e-02,\n",
       "        2.31445312e-01,  6.59179688e-02,  1.02539062e-01, -6.39648438e-02,\n",
       "       -1.48437500e-01, -5.59082031e-02, -2.43164062e-01,  2.71484375e-01,\n",
       "        1.83593750e-01,  3.06396484e-02, -2.01416016e-02, -1.53320312e-01,\n",
       "        7.08007812e-02, -2.35595703e-02, -9.66796875e-02, -2.83203125e-01,\n",
       "       -2.57568359e-02, -7.42187500e-02, -4.27246094e-02,  6.98242188e-02,\n",
       "       -1.74804688e-01,  2.27539062e-01,  2.92968750e-01, -1.86767578e-02,\n",
       "        2.94921875e-01, -1.12304688e-01,  4.85839844e-02, -2.15820312e-01,\n",
       "        1.03149414e-02, -1.14257812e-01, -6.39648438e-02,  7.27539062e-02,\n",
       "       -1.47460938e-01, -2.16796875e-01,  1.32812500e-01,  1.83593750e-01,\n",
       "       -1.48437500e-01, -1.31835938e-01, -3.73535156e-02,  1.19628906e-01,\n",
       "       -2.01171875e-01,  1.00097656e-01, -8.93554688e-02,  1.23596191e-03,\n",
       "        7.17773438e-02,  1.42578125e-01, -3.03955078e-02, -1.89453125e-01,\n",
       "       -8.88671875e-02,  3.83300781e-02, -1.74804688e-01, -3.66210938e-03,\n",
       "       -2.08007812e-01,  8.97216797e-03,  2.35351562e-01,  1.06933594e-01,\n",
       "       -2.65625000e-01, -2.16796875e-01,  7.08007812e-02,  9.08203125e-02,\n",
       "        3.00781250e-01, -1.07421875e-01,  1.01562500e-01, -6.25000000e-02,\n",
       "        1.33789062e-01, -1.62353516e-02,  2.50000000e-01, -1.72851562e-01,\n",
       "        3.32031250e-01,  1.12304688e-01, -1.47705078e-02, -1.04980469e-01,\n",
       "       -8.05664062e-02,  3.30078125e-01,  9.32617188e-02, -1.47460938e-01,\n",
       "       -2.05078125e-01, -7.56835938e-02, -1.04492188e-01,  6.25000000e-02,\n",
       "       -2.02148438e-01, -1.09375000e-01, -8.05664062e-02,  5.49316406e-02,\n",
       "       -8.88671875e-02,  5.24902344e-02, -2.23632812e-01,  5.17578125e-02,\n",
       "       -1.83593750e-01, -6.73828125e-02, -9.13085938e-02,  1.29882812e-01,\n",
       "       -2.31933594e-02, -1.04003906e-01,  1.79687500e-01,  8.34960938e-02,\n",
       "       -8.78906250e-02, -2.17773438e-01, -6.34765625e-02,  1.33789062e-01,\n",
       "        1.62109375e-01,  2.87109375e-01, -1.14257812e-01,  6.05468750e-02,\n",
       "        1.49414062e-01, -3.08227539e-03,  1.96289062e-01, -8.98437500e-02,\n",
       "        1.45507812e-01,  1.02539062e-02,  1.22070312e-02,  3.20312500e-01,\n",
       "        1.24511719e-01,  1.20849609e-02, -1.78710938e-01,  3.71093750e-02,\n",
       "        6.98242188e-02,  1.62109375e-01,  9.86328125e-02, -2.61718750e-01,\n",
       "        1.89453125e-01, -2.83203125e-02,  4.06250000e-01,  3.56445312e-02,\n",
       "        3.10058594e-02,  2.27050781e-02,  1.30859375e-01, -1.05957031e-01,\n",
       "        8.69140625e-02, -9.76562500e-02,  1.89453125e-01,  3.17382812e-02,\n",
       "        1.10351562e-01,  2.11914062e-01, -1.66992188e-01,  1.45263672e-02,\n",
       "        1.15234375e-01,  1.59179688e-01,  9.91210938e-02, -2.40234375e-01,\n",
       "       -2.34375000e-01,  1.74804688e-01,  1.20605469e-01, -3.67187500e-01,\n",
       "       -7.81250000e-02,  1.10839844e-01, -3.35937500e-01, -9.81445312e-02,\n",
       "       -7.47070312e-02, -1.89453125e-01,  7.81250000e-02, -2.53906250e-01,\n",
       "       -6.03027344e-02, -2.46093750e-01, -9.37500000e-02,  8.64257812e-02,\n",
       "        1.15722656e-01, -1.24511719e-01,  1.61132812e-01, -6.03027344e-02,\n",
       "       -2.47070312e-01, -9.52148438e-02, -4.05273438e-02,  2.51953125e-01,\n",
       "       -1.95312500e-01, -1.31835938e-01,  6.88476562e-02,  2.67333984e-02,\n",
       "        1.03027344e-01,  1.05957031e-01, -3.01513672e-02,  3.04687500e-01,\n",
       "       -8.74023438e-02,  1.19140625e-01, -1.74560547e-02,  8.78906250e-03,\n",
       "       -1.38671875e-01, -2.85156250e-01,  2.29492188e-01, -3.55468750e-01,\n",
       "        9.52148438e-03, -4.07714844e-02, -8.88671875e-02, -1.39160156e-02],\n",
       "      dtype=float32)"
      ]
     },
     "execution_count": 4,
     "metadata": {},
     "output_type": "execute_result"
    }
   ],
   "source": [
    "wv_embeddings['word']"
   ]
  },
  {
   "cell_type": "code",
   "execution_count": 5,
   "metadata": {
    "ExecuteTime": {
     "end_time": "2021-10-27T07:39:01.636340Z",
     "start_time": "2021-10-27T07:38:57.811874Z"
    }
   },
   "outputs": [
    {
     "name": "stdout",
     "output_type": "stream",
     "text": [
      "¡Todo correcto!\n"
     ]
    }
   ],
   "source": [
    "print(utils_05.check_embeddings(wv_embeddings))"
   ]
  },
  {
   "cell_type": "markdown",
   "metadata": {},
   "source": [
    "## Convierte el texto a word embeddings\n",
    "\n",
    "### **Tarea 1 (Question2Vec):**\n",
    "\n",
    "Por lo general, se usan embeddings para las palabras, pero para la tarea necesitamos crear una representación para toda la pregunta. Se podría hacer de diferentes maneras. En nuestro caso, usaremos una **media** de todos los vectores de palabras en la pregunta. Para ello hay que implementar la función `question_to_vec()`, que calcula la representación de preguntas descrita anteriormente. Esta función debería funcionar con el texto de entrada tal como está, sin ningún procesamiento previo.\n",
    "\n",
    "Ten en cuenta que podría haber palabras sin un embedding. En este caso, no tengas en cuenta esas palabras para calcular el embedding del texto. Si la pregunta no tiene ninguna palabra conocida, la función debería devolver un vector de ceros (pero del mismo tamaño que el resto)."
   ]
  },
  {
   "cell_type": "code",
   "execution_count": 6,
   "metadata": {
    "ExecuteTime": {
     "end_time": "2021-10-27T07:39:01.666314Z",
     "start_time": "2021-10-27T07:39:01.643314Z"
    }
   },
   "outputs": [],
   "source": [
    "def question_to_vec(\n",
    "    question: str, embeddings: gensim.models.keyedvectors.KeyedVectors, dim: int = 300\n",
    "):\n",
    "    \"\"\"\n",
    "    question: a string\n",
    "    embeddings: dict where the key is a word and a value is its' embedding\n",
    "    dim: size of the representation\n",
    "\n",
    "    result: vector representation for the question\n",
    "    \"\"\"\n",
    "    ######################################\n",
    "    ### ESCRIBE AQUÍ TÚ CÓDIGO\n",
    "    ######################################\n",
    "    # recoremos el texto, sacamos los tokens. luego su vector y lueho el promedio de las palabras-\n",
    "    \n",
    "    v_result = np.zeros(dim)\n",
    "    tokens = question.split()\n",
    "#     tokens = nltk.tokenize.word_tokenize(question)\n",
    "    i_token_count = 0\n",
    "    for token in tokens:\n",
    "        \n",
    "        try:\n",
    "            v_emmbedding = embeddings[token]\n",
    "        except KeyError:   \n",
    "             #print(f\"No existe {token} en el embedding.\")\n",
    "            pass\n",
    "\n",
    "        else:\n",
    "            i_token_count+=1\n",
    "            v_result=v_result+v_emmbedding\n",
    "            \n",
    "    if i_token_count:\n",
    "        v_result=v_result/i_token_count\n",
    "    \n",
    "    result = v_result\n",
    "#     print(result)\n",
    "    return result\n"
   ]
  },
  {
   "cell_type": "markdown",
   "metadata": {},
   "source": [
    "Para comprobar que la implementación es correcta, corre `question_to_vec_tests`."
   ]
  },
  {
   "cell_type": "code",
   "execution_count": 7,
   "metadata": {
    "ExecuteTime": {
     "end_time": "2021-10-27T07:39:01.681319Z",
     "start_time": "2021-10-27T07:39:01.672317Z"
    }
   },
   "outputs": [
    {
     "name": "stdout",
     "output_type": "stream",
     "text": [
      "Test correctos.\n"
     ]
    }
   ],
   "source": [
    "print(utils_05.question_to_vec_tests(question_to_vec, wv_embeddings))"
   ]
  },
  {
   "cell_type": "markdown",
   "metadata": {},
   "source": [
    "## Evaluación de similitud de texto. Problemas de ranking\n",
    "\n",
    "Ahora tenemos un método para crear una representación de cualquier frase y esto nos da una forma de resolver el problema. Primero, necesitamos comprobar qué tan bien funciona nuestra solución (los vectores de Google + `question_to_vec ()`), y para ello lo primero que tenemos que determinar **es cómo evaluar la calidad de un modelo**.\n",
    "\n",
    "Podemos esperar que, si usamos buenos *embeddings*, la **similitud** entre los vectores de las preguntas duplicadas debería ser menor que entre dos aleatorias. Ordenando según la **similitud del coseno**, para cada sentencia podemos ordenar el resto de sentencias de la base de datos, y comprobar en qué posición queda la pregunta duplicada. Podemos asumir que el resto de preguntas **no son parecidas**, es decir, son casos negativos.\n",
    "\n",
    "\n",
    "Por ejemplo, si tenemos la pregunta _\"Exceptions What really happens\"_ y estamos seguros de que otra pregunta _\"How does the catch keyword determine the type of exception that was thrown\"_ es un duplicado. Pero nuestro modelo no lo sabe e intenta encontrar la mejor opción también entre preguntas como _\"How Can I Make These Links Rotate in PHP\"_ , _\"NSLog array description not memory address\"_ y _\"PECL_HTTP not recognised php ubuntu\"_. El objetivo del modelo es ordenar todas estas 4 preguntas (1 *positiva* y *R* = 3 *negativas*) de tal forma que la duplicada esté en la primera posición.\n",
    "\n",
    "\n",
    "\n",
    "En general, lo normal no es que el mejor candidato esté en la primera posición, y no queremos una métrica tan rígica que sólo considere una respuesta como buena si el resultado correcto está en la primera posición. Se pueden utilizar métricas **más suaves**, en las que tomamos la posición en la que se encuentra el candidato.\n",
    "\n",
    "Supongamos que nos fijamos en los primeros $K$ elementos del ranking propuestos por el modelo, y $N$ es el número total de documentos que son duplicados, es decir, los **casos positivos** que hay en el dataset. Dos de las métricas más comunes son:\n",
    "\n",
    "\n",
    "### Hits @ K\n",
    "\n",
    "La primera métrica es simplemente el promedio de resultados correctos con *K* fijo:\n",
    "\n",
    "$$ \\text{Hits@K} = \\frac{1}{N}\\sum_{i=1}^N \\, [dup_i \\in topK(q_i)]$$\n",
    "\n",
    "donde $q_i$ es la i-ésima consulta, $dup_i$ es su duplicado, $topK(q_i)$ son las $K$ primeras propuestas proporcionadas por nuestro modelo y el operador **indicador** $[dup_i \\in topK(q_i)]$ es igual a 1 si el duplicado $q_i$ está entre las primeras $K$ propuestas y 0 en caso contrario (para más detalles sobre el operador [aquí](https://en.wikipedia.org/wiki/Iverson_bracket).\n",
    "\n",
    "\n",
    "### DCG @ K\n",
    "La segunda propuesta tiene más en cuenta la posición del ranking de la respuesta correcta. Es una [métrica DCG](https://en.wikipedia.org/wiki/Discounted_cumulative_gain) simplificada:\n",
    "\n",
    "$$ \\text{DCG@K} = \\frac{1}{N} \\sum_{i=1}^N\\frac{1}{\\log_2(1+rank_{dup_i})}\\cdot[rank_{dup_i} \\le K] $$\n",
    "\n",
    "donde $rank_{dup_i}$ es una posición del duplicado en el ranking para la consulta $ q_i $. Según esta métrica, el modelo obtiene una mayor recompensa por una posición más alta en el ranking. Si la respuesta no aparece en topK, la recompensa es cero."
   ]
  },
  {
   "cell_type": "markdown",
   "metadata": {},
   "source": [
    "### Ejemplo de las métricas\n",
    "\n",
    "Vamos a calcular las métricas definidas sobre el ejemplo que hemos introducido antes. En este caso tenemos que $N$ = 1 (sólo hay un duplicado), y que lo correcto es que $q_1$ fuera _\"How does the catch keyword determine the type of exception that was thrown\"_. Vamos a imaginar que el modelo devuelve el siguiente ranking:\n",
    "1. _\"How Can I Make These Links Rotate in PHP\"_\n",
    "2. _\"How does the catch keyword determine the type of exception that was thrown\"_\n",
    "3. _\"NSLog array description not memory address\"_\n",
    "4. _\"PECL_HTTP not recognised php ubuntu\"_\n",
    "\n",
    "Usando este ranking, calcula la métrica _Hits@K_ para $K$ = 1, 2, 4: \n",
    " \n",
    "- [K = 1] $\\text{Hits@1} = \\frac{1}{1}\\sum_{i=1}^1 \\, [dup_i \\in top1(q_i)] = [dup_1 \\in top1(q_1)] = 0$ porque la respuesta correcta no aparece en el _top1_.\n",
    "- [K = 2] $\\text{Hits@2} = \\frac{1}{1}\\sum_{i=1}^1 \\, [dup_i \\in top2(q_i)] = [dup_1 \\in top2(q_1)] = 1$ porque $rank_{dup_1} = 2$.\n",
    "- [K = 4] $\\text{Hits@4} = \\frac{1}{1}\\sum_{i=1}^1 \\, [dup_i \\in top4(q_i)] = [dup_1 \\in top4(q_1)] = 1$\n",
    "\n",
    "Usando este ranking, calcula la métrica _DCG@K_ para $K$ = 1, 2, 4:\n",
    "\n",
    "- [K = 1] $\\text{DCG@1} = \\frac{1}{1} \\sum_{i=1}^1\\frac{1}{\\log_2(1+rank_{dup_i})}\\cdot[rank_{dup_i} \\le 1] = \\frac{1}{\\log_2(1+rank_{dup_i})}\\cdot[rank_{dup_i} \\le 1] = 0$ porque la respuesta correcta no aparece en el _top1_.\n",
    "- [K = 2] $\\text{DCG@2} = \\frac{1}{1} \\sum_{i=1}^1\\frac{1}{\\log_2(1+rank_{dup_i})}\\cdot[rank_{dup_i} \\le 2] = \\frac{1}{\\log_2{3}}$, porque $rank_{dup_1} = 2$.\n",
    "- [K = 4] $\\text{DCG@4} = \\frac{1}{1} \\sum_{i=1}^1\\frac{1}{\\log_2(1+rank_{dup_i})}\\cdot[rank_{dup_i} \\le 4] = \\frac{1}{\\log_2{3}}$.\n"
   ]
  },
  {
   "cell_type": "markdown",
   "metadata": {},
   "source": [
    "### **Tasks 2 y 3 (HitsCount y DCGScore):** \n",
    "\n",
    "Implementa las funciones `hits_count()` y `dcg_score()`, como se han descrito antes. Cada función tiene dos entradas, `dup_ranks` and `k`. Donde `dup_ranks` es la lista que contiene las posiciones en el ranking de los duplicados. Por ejemplo, en el ejemplo anterior la longitud de `dup_ranks` es $N$=1, y `dup_ranks = [2]`, puesto que la respuesta correcta está en la posición 2."
   ]
  },
  {
   "cell_type": "code",
   "execution_count": 8,
   "metadata": {
    "ExecuteTime": {
     "end_time": "2021-10-27T07:39:01.713312Z",
     "start_time": "2021-10-27T07:39:01.688313Z"
    }
   },
   "outputs": [],
   "source": [
    "def hits_count(dup_ranks: List[int], k: int) -> float:\n",
    "    \"\"\"\n",
    "    dup_ranks: list of duplicates' ranks; one rank per question;\n",
    "               length is a number of questions which we are looking for duplicates;\n",
    "               rank is a number from 1 to len(candidates of the question);\n",
    "               e.g. [2, 3] means that the first duplicate has the rank 2, and the second 3.\n",
    "    k: number of top-ranked elements (k in Hits@k metric)\n",
    "\n",
    "    result: return Hits@k value for current ranking\n",
    "    \"\"\"\n",
    "    ######################################\n",
    "    ### ESCRIBE AQUÍ TÚ CÓDIGO\n",
    "    ######################################\n",
    "    \n",
    "    dup_ranks_ = np.asarray(dup_ranks)\n",
    "    k_ = np.array([k]) # Convertimos K en numpy array para poder operar de forma más optima.\n",
    "    N=len(dup_ranks_) # Númeero de elementos repetidos\n",
    "    result = np.sum(dup_ranks_ <= k_)/N # Generamos la media de las veces que aparecen dentro del ranking\n",
    "    return result"
   ]
  },
  {
   "cell_type": "markdown",
   "metadata": {},
   "source": [
    "Vamos a comprobar que está bien programado:"
   ]
  },
  {
   "cell_type": "code",
   "execution_count": 9,
   "metadata": {
    "ExecuteTime": {
     "end_time": "2021-10-27T07:39:01.743324Z",
     "start_time": "2021-10-27T07:39:01.726311Z"
    }
   },
   "outputs": [
    {
     "name": "stdout",
     "output_type": "stream",
     "text": [
      "Tests correctos.\n"
     ]
    }
   ],
   "source": [
    "print(utils_05.test_hits(hits_count))"
   ]
  },
  {
   "cell_type": "code",
   "execution_count": 10,
   "metadata": {
    "ExecuteTime": {
     "end_time": "2021-10-27T07:39:01.773315Z",
     "start_time": "2021-10-27T07:39:01.753308Z"
    }
   },
   "outputs": [],
   "source": [
    "def dcg_score(dup_ranks: List[int], k: int) -> float:\n",
    "    \"\"\"\n",
    "    dup_ranks: list of duplicates' ranks; one rank per question;\n",
    "               length is a number of questions which we are looking for duplicates;\n",
    "               rank is a number from 1 to len(candidates of the question);\n",
    "               e.g. [2, 3] means that the first duplicate has the rank 2, the second one — 3.\n",
    "    k: number of top-ranked elements (k in DCG@k metric)\n",
    "\n",
    "    result: return DCG@k value for current ranking\n",
    "    \"\"\"\n",
    "    ######################################\n",
    "    ### ESCRIBE AQUÍ TÚ CÓDIGO\n",
    "    ######################################\n",
    "    dup_ranks_ = np.asarray(dup_ranks)\n",
    "    k_ = np.array([k])\n",
    "    N=len(dup_ranks_) # Número de elementos repetidos\n",
    "    \n",
    "    # Se incrementará de (1/log2(1+ranking)) en (1/log2(1+ranking)) cada vez \n",
    "    #que el ranking del duplicado este dentro del top K\n",
    "    result = np.sum( (1./(np.log2(1. + dup_ranks_)))*(dup_ranks_ <= k_) )/N\n",
    "    #     print(result)\n",
    "    \n",
    "    return result"
   ]
  },
  {
   "cell_type": "code",
   "execution_count": 11,
   "metadata": {
    "ExecuteTime": {
     "end_time": "2021-10-27T07:39:01.805311Z",
     "start_time": "2021-10-27T07:39:01.780311Z"
    }
   },
   "outputs": [
    {
     "name": "stdout",
     "output_type": "stream",
     "text": [
      "Tests correctos.\n"
     ]
    }
   ],
   "source": [
    "print(utils_05.test_dcg(dcg_score))"
   ]
  },
  {
   "cell_type": "markdown",
   "metadata": {},
   "source": [
    "##  Algoritmo: embeddings pre-entrenados"
   ]
  },
  {
   "cell_type": "markdown",
   "metadata": {},
   "source": [
    "Tenemos sólo un corpus: **test**. Cada entrada separada por '\\t', y el formato es el siguiente:\n",
    " - *test* tiene las siguientes columnas: *question*, *similar question*, *negative example 1*, *negative example 2*, ... "
   ]
  },
  {
   "cell_type": "markdown",
   "metadata": {},
   "source": [
    "Vamos a leer el corpus de *test*, en `data/test_small.tsv`. Que usaremos para evaluar nuestra solución."
   ]
  },
  {
   "cell_type": "code",
   "execution_count": 12,
   "metadata": {
    "ExecuteTime": {
     "end_time": "2021-10-27T07:39:01.835306Z",
     "start_time": "2021-10-27T07:39:01.812315Z"
    }
   },
   "outputs": [],
   "source": [
    "def read_corpus(filename: str) -> List[List[str]]:\n",
    "    data = []\n",
    "    for line in open(filename, encoding=\"utf-8\"):\n",
    "        data.append(line.strip().split(\"\\t\"))\n",
    "    return data"
   ]
  },
  {
   "cell_type": "code",
   "execution_count": 13,
   "metadata": {
    "ExecuteTime": {
     "end_time": "2021-10-27T07:39:02.769075Z",
     "start_time": "2021-10-27T07:39:01.842316Z"
    }
   },
   "outputs": [],
   "source": [
    "test = read_corpus('data/test_small.tsv')"
   ]
  },
  {
   "cell_type": "code",
   "execution_count": 14,
   "metadata": {
    "ExecuteTime": {
     "end_time": "2021-10-27T07:39:02.785047Z",
     "start_time": "2021-10-27T07:39:02.775050Z"
    }
   },
   "outputs": [
    {
     "data": {
      "text/plain": [
       "1500"
      ]
     },
     "execution_count": 14,
     "metadata": {},
     "output_type": "execute_result"
    }
   ],
   "source": [
    "len(test)"
   ]
  },
  {
   "cell_type": "code",
   "execution_count": 15,
   "metadata": {
    "ExecuteTime": {
     "end_time": "2021-10-27T07:39:02.832041Z",
     "start_time": "2021-10-27T07:39:02.791058Z"
    }
   },
   "outputs": [
    {
     "data": {
      "text/plain": [
       "['How to print a binary heap tree without recursion?',\n",
       " 'How do you best convert a recursive function to an iterative one?',\n",
       " 'How can i use ng-model with directive in angular js',\n",
       " 'flash: drawing and erasing',\n",
       " 'toggle react component using hide show classname',\n",
       " 'Use a usercontrol from another project to current webpage',\n",
       " '~ Paths resolved differently after upgrading to ASP.NET 4',\n",
       " 'Materialize datepicker - Rendering when an icon is clicked',\n",
       " 'Creating PyPi package - Could not find a version that satisfies the requirement iso8601',\n",
       " 'How can I analyze a confusion matrix?',\n",
       " 'How do I declare a C array in Swift?',\n",
       " 'Using rand() when flipping a coin and rolling a die',\n",
       " 'Handling a JSON field with a special character in its name in Java',\n",
       " 'React Native select row on ListView when push it',\n",
       " \"Get 'creation_time' of video using ffmpeg and regex\",\n",
       " 'Does row exist and multiple where',\n",
       " \"How to specify a classifier in a gradle dependency's dependency?\",\n",
       " 'Using $unwind on multiple documents',\n",
       " 'Visual Studio Code: Missing X509Certificate2UI',\n",
       " 'Developing Cordova plugins for Firefox OS',\n",
       " 'Update multiple rows for 2 columns in MySQL',\n",
       " 'Analyse format of alpha-numeric string',\n",
       " 'Dealing with large TIFF images C++/Magick/libtiff',\n",
       " 'What does Error: [$injector:unpr] Unknown provider: tProvider <- t <- myActiveLinkDirective mean?',\n",
       " 'AngularJS - Apply directive instantly, formating currency',\n",
       " 'Can I change the font color on a portion of a string?',\n",
       " \"Spring AOP does not intercept methods within Spring's container\",\n",
       " 'How to retrieve json in original nested form in apache solr?',\n",
       " \"Spatial autocorrelation using Moran's I or other spatial overlap index\",\n",
       " 'how to stop my php page from continuing when field is empty',\n",
       " 'Selecting all CheckBoxes in ListBox not displayed properly',\n",
       " \"PHP warning: Illegal string offset 'field'\",\n",
       " 'WebBrowser control crashes on Windows 10',\n",
       " 'Error while opening a modal in angular',\n",
       " 'Port 25 works when exe run manually but blocked when run as service',\n",
       " 'Why does 6.00 + (plus) 5.00 = \"5.006.00\"?',\n",
       " 'Count number of processes created using fork in a for loop',\n",
       " 'When should I use UIImagePickerControllerSourceTypePhotoLibrary instead of UIImagePickerControllerSourceTypeSavedPhotosAlbum?',\n",
       " 'Read File in Java, output the first comma delimited String',\n",
       " 'Simple recursive method',\n",
       " 'Ensure SQLite table only has one row',\n",
       " 'Why is there a method iterator() on java.util.Collection',\n",
       " 'Development for Cloudant using local CouchDB',\n",
       " 'Regex to find method calls',\n",
       " 'ASP.NET Menu rendering different from vs2008 to vs2010',\n",
       " 'Maven - Change jUnit Version in Quickstart Archetype',\n",
       " 'Writing sublists in a list of lists to separate text files',\n",
       " 'iPad: problems with table rows in popovercontrol',\n",
       " 'Retrieve multiple results set',\n",
       " 'pagination is not working in codeigniter :(',\n",
       " 'Angular NVD3 Change Colors In Legends Also',\n",
       " 'node.js server not responding while large file upload with express and busboy',\n",
       " 'Send request & Get Response in Windows Phone 8.1 WinRT',\n",
       " 'want to delete only empty folders from directory before last 30 days using batch',\n",
       " 'Creating X amount of threads that execute a task at the same time',\n",
       " 'Android Studio 2.2 update: aligned APK (zipAlign) not generated using the new Gradle Plugin 2.2.0',\n",
       " 'Entity Framework - adding the same entity twice in many-to-many relationships',\n",
       " 'Join two tables, only display unique values and maxium date',\n",
       " 'How to use absolute position relative to parent element',\n",
       " 'Search refinement for WebMatrix site',\n",
       " 'Maven project version as expression, not constant',\n",
       " 'Can I prevent App.g.i.cs to be generated?',\n",
       " 'Troubles converting XSD to Java using JAXB',\n",
       " 'Cannot run a jax rs web service with tomcat',\n",
       " 'make a password protected bash script resist/refuse \"bash -x\" when the password is given',\n",
       " 'Does youtube api play function trigger a view count?',\n",
       " 'Why is this Perl loop over strings then characters so slow?',\n",
       " 'How can I change the size of rgl plots in Shiny RMarkdown?',\n",
       " 'How do I programmatically disconnect clients which are connected to Solace appliance?',\n",
       " 'Rails before_filter (Correct_user OR Admin)',\n",
       " 'How to gitignore everything except hidden subdir?',\n",
       " 'Should I use weakSelf in nested blocks?',\n",
       " 'CSS background color not behaving as expected',\n",
       " 'Android app Listview cannot be scrolled to bottom to search a specific element using appium in java',\n",
       " 'Rails: Why \"has_many ..., :through => ...\" association results in \"NameError: uninitialized constant ...\"',\n",
       " 'How to send data between fragments when swiping tabs in ViewPager',\n",
       " 'Wordpress static pages: how to embed content into templates?',\n",
       " 'Troubles with importing classes from Angular 2 modules with Typescript 1.7',\n",
       " 'i am not able to get the images read in java for exporting it as JAR',\n",
       " 'How do I create a resource dll',\n",
       " 'error: linker command failed: ld: duplicate symbol _main',\n",
       " 'sql to find non-printable characters in a string',\n",
       " 'i want to generate payperiod for each month',\n",
       " 'Interactively enter headline under which to place an entry using capture',\n",
       " 'Querying the DNS service records to find the hostname and TCP/IP',\n",
       " 'Can I use setContentView outside the oncreate method?',\n",
       " 'Consolitate data from multible sheets ,re-arrange the data as per the column name',\n",
       " \"Why is my 'transparent' overlay view opaque?\",\n",
       " 'how can I run play framework with port=9001 under windows cmd not under play console?',\n",
       " 'Rails 3 - Ajax POSTS from a link click',\n",
       " 'Add html content to mysql die error?',\n",
       " 'Best way to run a Plack PSGI Perl application outside of Apache using FastCGI?',\n",
       " 'How to Call NSUserDefault Value To Another View Controller?',\n",
       " 'Does Qt have a way to get the font that the particular css resolves to?',\n",
       " 'How to update Parent component about the data that child component modified(angular 1.5)',\n",
       " '2d array, pushing to one array shows up in all arrays?',\n",
       " 'Get NSData from assets-library URL',\n",
       " 'How to specify image size in HTML Doxygen?',\n",
       " 'NSFetchedResultsControllerDelegate in a second view controller (not firing?)',\n",
       " 'Draggable divs getting mixed with another divs',\n",
       " 'creating MLP in python showing error',\n",
       " 'Create SharePoint 2010 ribbon button programmatically w/o feature XML',\n",
       " 'how can I use pyglet write a music player can play a music list',\n",
       " 'How can I efficiently debug loops consisting of a large number of iterations on Eclipse?',\n",
       " 'Passing a model object to a RedirectToAction without polluting the URL?',\n",
       " \"Automatically receiving mobile phone's SMS to hyperterminal\",\n",
       " 'Output \"System.out.println\" into Emacs Cider\\'s REPL (or other buffer)',\n",
       " 'Scoring regression model using PMML with Augustus in Python',\n",
       " 'Safari View Controller - send data back to app',\n",
       " 'Signalling a bash script running in the background in an infinite loop',\n",
       " 'How do I add in-app purchase to a published app in play store and test it before going into production?',\n",
       " 'FileNotFoundException in Windows 10 Universal App (UAP)',\n",
       " 'How to map one column with other columns in an avro file?',\n",
       " 'Retrieving all the cell data from a jQuery datatable on post',\n",
       " 'In Play! Frame work Can I Make classes In models package Singleton?',\n",
       " 'Binding events with Hammer.js and .on()',\n",
       " 'yii making user auto logged in on signup end (auto authentication after signup)',\n",
       " 'Unreal Engine 4: save rendered frame to memory',\n",
       " 'Building HelloWorld C++ Program in Linux with ncurses',\n",
       " 'Generating Checkbox Lists with MVC3 using a complex viewmodel and a cross table with Linq to SQL',\n",
       " 'CordovaWebView: TIMEOUT ERROR',\n",
       " 'Whats wrong in my xsd schema ? It gives type element is not declared on include of another xsd file',\n",
       " 'Angular and papaParse Integration',\n",
       " 'Setup a graylog2 server with elasticsearch in a vagrant machine',\n",
       " '(Solved-See my comment)How to make a password form on tumblr?',\n",
       " 'Javascript: Call a method inside another method',\n",
       " 'aws api gateway client-side ssl certificate verification with nginx',\n",
       " 'Kendo UI drop downs posting arrays',\n",
       " 'ServiceStack Identity on field other than PK - Insert fails',\n",
       " 'Redirection when rendering controller in twig SYMFONY 302',\n",
       " 'CSS Sprites Bottom repeating',\n",
       " 'How can I sort a table of Laravel Eloquent objects by a custom attribute?',\n",
       " 'Comparing elements in a generic list',\n",
       " 'Set minDate for Bootstrap DateTimePicker from another',\n",
       " 'What is the difference between :g and :%s commands in vim',\n",
       " 'Java: creating self extracting jar that can extract parts of itself out of the archive?',\n",
       " 'set html text color and size using javascript',\n",
       " 'Queue using Arrays',\n",
       " 'foreach loop when using Xml.XmlElement in remote scriptblock',\n",
       " 'How to print list of categories and click on each category one by one in selenium/appium?',\n",
       " 'Every now and then, ABCpdf runs out of memory',\n",
       " 'In Spring OAuth2, why is my resource still unprotected even though I have marked it in my resource server?',\n",
       " 'how to restart node application automatically on aws elastic-beanstalk',\n",
       " 'Unresolved external symbol LNK2019',\n",
       " 'Celltemplate in angular-ui-grid is not working properly',\n",
       " 'Escaping backslashes in method call stringByReplacingOccurrencesOfString Does not work in Objective C',\n",
       " 'APEX Data Loading - Add a column programatically',\n",
       " 'MySQL / MariaDB shuts down after exactly 1 minute 42 seconds',\n",
       " 'Mouse movement / mouseover and JavaScript evaluation in watir',\n",
       " 'Removing backslashes from a string in Python',\n",
       " 'Array manipulation (accessing specific bytes)',\n",
       " 'Rails: Does Application.css load all css.scss files?',\n",
       " 'LongListSelector cannot change ItemsSource',\n",
       " 'C# DateTime not recognising timezone change (BST)',\n",
       " 'deinit in child view controllers',\n",
       " 'How to send back to custom class which object of that class was clicked',\n",
       " 'delete from array returning self',\n",
       " 'MS Access Properties',\n",
       " 'UIWebView always add a parameter in url issue',\n",
       " 'comparing two spanned strings in edittext in android',\n",
       " 'Add prefix to control id and still have it bind MVC Razor',\n",
       " 'EXC_BAD_ACCESS when setting Integer to anything else than zero',\n",
       " ':hover CSS is not working?',\n",
       " 'Blowfish last block incomplete in decryption',\n",
       " \"Reading uploaded image: undefined method `file' for nil:NilClass\",\n",
       " 'How can I run IntelliJ IDEA on a remote desktop',\n",
       " 'How to get the JSONObject server response in Volley',\n",
       " 'Guide in organizing large Django projects',\n",
       " 'how to populate a dropdownlist based on another dropdownlist selected value in mvc 4?',\n",
       " 'Azure ServiceBus Token Expired',\n",
       " 'iBatis to MyBatis migration efforts?',\n",
       " 'Where should I look for the document generated using htp package',\n",
       " \"Tortoise SVN Error after update: 'The specified path has an unexpected status'\",\n",
       " 'Extract html data after logging into website from android app',\n",
       " 'Add key value to array without triggering an array',\n",
       " 'How to write this math equation into c++',\n",
       " 'Undefined index php mysql error',\n",
       " 'when text changed inputbox automatically updates next 6 text boxes',\n",
       " 'Unable to get email of facebook user',\n",
       " 'iphone: Facebook logout feature is not work in my app',\n",
       " 'how to force my app NOT to use the 3g data proxy setting',\n",
       " 'Unit Testing - What do you do when your code is pretty much just a calculation (GetHashCode for example)?',\n",
       " \"Status of CheckBox can't be detected\",\n",
       " 'Sort a list with multiple conditions Ruby on Rails',\n",
       " 'How to sharp the text in css3?',\n",
       " 'How to change the class of an object dynamically in C#?',\n",
       " 'Creating an Array with a Default Value,But the default value is changed',\n",
       " 'How to call a delegate\\'s function without getting the \"instance method not found\" warning in ios?',\n",
       " 'Android, background drawable appear black in genymotion but looks fine in intellij',\n",
       " 'Table has no columns using google charts',\n",
       " 'Dropdown list where options populate a second list js/php?',\n",
       " 'difference between <% and <%= ruby',\n",
       " 'How to remove the functionality of changelist filter appearing in django admin?',\n",
       " 'how to unpack stxetx data in python',\n",
       " 'Ansible: playbook calling Role in a directory that is in the roles directory',\n",
       " 'Setting up HTTPS redirects on Heroku Laravel Instance',\n",
       " \"Input helper valueBinding is deprecated - what's the alternative?\",\n",
       " 'Using MySQL.connector with Twisted Python to execute multiple queries',\n",
       " 'MySQL - 1 large table with 100 columns OR split into 5 tables and JOIN',\n",
       " \"neo4j load csv when field name has a '.' in it\",\n",
       " 'Mocha + React: navigator is not defined',\n",
       " 'semantic ui grid - display full width of column, after \"computer only\" columns is hidden',\n",
       " 'populating select menu options using javascript',\n",
       " 'Serializing MongoDB find() return into non-anonymous JSON array, using PyMongo',\n",
       " 'Geom tile white space issue when the x variable is spread unevenly accross facet grids',\n",
       " 'Moving files depending on the profile in a WAR',\n",
       " \"Check if it's the last record in sqldatareader\",\n",
       " 'Assigning to columns in NumPy?',\n",
       " 'Android Facebook ApiException: Invalid Application',\n",
       " 'Django: customizing the message after a successful form save',\n",
       " 'Custom TextBox with built-in Validator: server side validation not firing',\n",
       " 'How to embed mjpeg file on a webpage',\n",
       " 'php delete on jQuery doesnt work',\n",
       " \"AWK doesn't work in Bash Script\",\n",
       " 'Launch specific app when external accessory attached',\n",
       " 'Three Inputs in a Row - Bootstrap 3',\n",
       " 'How compiler like GCC implement acquire/release semantics for std::mutex',\n",
       " 'Framework search for upcoming project',\n",
       " 'Implementing a Web Service Server in Windows CE 2013',\n",
       " 'Why do I keep getting \"The digital signature of the object did not verify\" for Windows JavaEE installer',\n",
       " 'hide paging numbers in gridview?',\n",
       " 'How to remove sublayers from a view afer a touch',\n",
       " 'CUDA: Can i find out if i have global memory coalescence?',\n",
       " 'How to read a google chrome crash dump with windbg',\n",
       " 'jQuery targeting nested list',\n",
       " 'pass the column value when checkbox is clicked in wijmogrid column',\n",
       " \"How to normalize your database in hibernate? (Repeating values don't get saved again and again)\",\n",
       " 'how to stop validation on a particular textbox after hiding this textbox using angularjs',\n",
       " 'opencv imshow with waitKey too slow on Mac OS X 10.10.2 (using c++)',\n",
       " 'Setting an Input Box Background',\n",
       " 'IntelliJ IDEA: \"Element ignore is not allowed here\"',\n",
       " 'Slider does not work in the jQuery Tabs',\n",
       " 'Carrierwave getting image width and height and storing it in an hstore field',\n",
       " 'OpenProcess() succeeds, but EnumProcessModules() fails',\n",
       " 'Django + Forms: Dynamic choices for ChoiceField',\n",
       " 'using Url.Content to display the file content with .net mvc',\n",
       " 'PDO cannot able to fetch image from database',\n",
       " 'error in adding overlay in current location',\n",
       " 'Internal section link fails in beamer output of pandoc markdown',\n",
       " 'Adding ROW_NUMBER() to query loses DISTINCT, defeats the purpose of paged results attempt',\n",
       " 'android studio 135.1339820 launches wrong java version on openSuse 12.3',\n",
       " 'My Facebook object is empty',\n",
       " 'Java code reads UTF-8 text incorrectly',\n",
       " 'PHP session.cookie_secure does not actually set the cookie to secure',\n",
       " 'Using webapp2, how can I get the value of a form\\'s \"name\" attribute during a POST request?',\n",
       " 'Finding Uppercase Character then Adding Space',\n",
       " 'Table data pass into stored procedure as param and insert into another table in mysql',\n",
       " 'Inject entry point class in GWT with GIN',\n",
       " 'How to group by week of the year dates or day dates that start on Sundays in oracle 10?',\n",
       " 'What are the options Some and None SML?',\n",
       " 'Reversing a .mp3 programmatically',\n",
       " 'Convert Associative Array in PHP and insert it to database',\n",
       " 'Why is the \"map\" version of ThreeSum so slow?',\n",
       " 'ant keeps recompiling',\n",
       " 'HttpContext.Current.User.Identity.Name returns blank',\n",
       " 'UIWebView Javascript Window to Window Communication',\n",
       " 'Fluent NHibernate Exception: An association from the table X refers to an unmapped class: System.String',\n",
       " 'Are .NET memcache libraries production ready?',\n",
       " \"DB2 Can't connect to db with new user\",\n",
       " 'Django flatpages backup?',\n",
       " 'Trouble with Creating One-Time Calendar Event from Google Sheet row',\n",
       " 'The colored image turned to have no color and just a grey vector in drawable?',\n",
       " 'how to show pattern in asp-Repeater item template?',\n",
       " 'Fastest scripting language for Java?',\n",
       " 'Tried to reverse engineer my app, but got some weird-looking file tree',\n",
       " 'Startup for bundles placed in the deploy folder of Karaf',\n",
       " 'd3js force layout with hide/unhide on node click misplaces nodes after expanding',\n",
       " 'Unique column definition in SQL',\n",
       " 'Hash of a cell text in Google Spreadsheet',\n",
       " 'How to pin/unpin Microsoft Edge developer tools in Windows 10',\n",
       " 'Which editor can align tables in reStructuredText for Sphinx?',\n",
       " 'How to walk through a directory in c and print all files name and permissions',\n",
       " 'iOS KVC DRY mutation',\n",
       " \"IBM MobileFirst Platform iFix doesn't update the version displayed in Operations Console\",\n",
       " 'relative layout aligning images about right bottom corner',\n",
       " 'How to retrieve a PDF(document) from the Tridion File System and create a multimedia component out of it',\n",
       " 'HTML sends x y POST data with no inputs - how is this possible?',\n",
       " 'How can I view Azure logfiles when running locally?',\n",
       " 'is there a web service client code generator on iOS?',\n",
       " 'Get smallest type to include data range',\n",
       " 'Get dates as check if it is ending',\n",
       " 'Cordova brightness still returns -1',\n",
       " 'How to detect 3 keyboard buttons in Swing?',\n",
       " 'Python calculations in two groups',\n",
       " 'create array from mysql query php',\n",
       " 'TDD vs Defensive Programming',\n",
       " 'Display logo or image in the Ribbon using VSTO',\n",
       " 'How can I get a meaning of a jsp variable in java code on the same page?',\n",
       " 'Conversion of cloud data into 2d image using OpenCV',\n",
       " '[python-suds]Bug? One additional element is created when using Factory',\n",
       " 'Using clang to analyze C++ code',\n",
       " 'Login with email and password control not working',\n",
       " 'ansible: use different logging level for terminal and log file',\n",
       " 'Draggable window with pyqt4',\n",
       " 'dynamically adding edittext depending on the elements of json array',\n",
       " 'How to convert ftp.getModificationTime(file) to readable format',\n",
       " 'PHP Login Form using DashDB',\n",
       " 'Building a properties file to the top level of a WAR file, Spring-MVC/Maven',\n",
       " 'Enabling breakpoints in goclipse',\n",
       " 'error while including external JARs in ant script',\n",
       " 'Comparison of web widgets in flash and javascript',\n",
       " 'Why must I free this data? Am I the owner?',\n",
       " 'Optimizing a very huge mysql table (query or mysql)',\n",
       " 'tlbexp.exe outputs different tlb information on 2012 versus 2010',\n",
       " 'How to create a Facebook Like with a post/comment box',\n",
       " 'Codeigniter PDO integration',\n",
       " 'pass string array as parameter to asp.net mvc webapi method',\n",
       " 'Removing space in dataframe python',\n",
       " 'How to set application identity of an application pool using web administration module in powershell?',\n",
       " 'how to handle play database connection exceptions',\n",
       " 'querydsl 3.3.0 - using collection.any() with elementcollections in a query with N boolean arguments generates N \"exists\" sub-queries',\n",
       " 'Gson: Change the way Map-Keys are being serialized',\n",
       " 'Improving gnuplot 3d plots from data files with pm3d',\n",
       " 'Divide problem',\n",
       " 'Yii2: Using Kartik Depdrop Widget?',\n",
       " 'Can anyone post an example of how to enable SSL in Tsung?',\n",
       " 'MPI_Isend and MPI_Irecv seem to be causing a deadlock',\n",
       " 'Virtual Box port forwarding misery with Ruby Sinatra:4567 / Shotgun:9292',\n",
       " 'Enhancing regex to match more URLs',\n",
       " 'JavaScript classlist selector error',\n",
       " 'My IntelliJ IDEA 11.1.5 lost the ability to debug node.js applications after upgrading to windows 8.1',\n",
       " 'Scientific notation android java',\n",
       " 'How to make a JSON array case insensitive for Twitter Typeahead?',\n",
       " 'Membase can someone explain the idea behind their technology',\n",
       " 'Struts 2 + Dojo + Datetimepicker',\n",
       " 'Cannot retrieve data from find query',\n",
       " 'How long are resources used (file descriptor and memory) for Java temporary files (jar_cache####.tmp)?',\n",
       " 'how to pass a variable in WHERE IN clause of oracle sql?',\n",
       " 'How can I transform the coordinates of a Shapefile?',\n",
       " 'Mapping result of aggregate query to hibernate object',\n",
       " 'Drawing Application how to save drawing in android phone memory',\n",
       " 'Error while using npm install -g generator-jhipster',\n",
       " 'Get abs path from the currently edited file in Eclipse',\n",
       " 'Post form data to foreign aspx form',\n",
       " 'Logging in Azure web jobs',\n",
       " 'MTM with (automated) CodedUITest test-cases developed in VS2013 issues',\n",
       " 'How to print contents of an HTML element in MacGap?',\n",
       " 'ASP.NET Control not available in CodeBehind',\n",
       " 'How can I disable the IIViewDeck functionality momentarily?',\n",
       " 'Why would I create a struct with only a `PhantomData<()>` member?',\n",
       " 'Accessing masterpage properties from child pages in ASP.net VB',\n",
       " 'Bash read inside a loop reading a file',\n",
       " 'Random number between 1 and 20 excluding numbers already picked',\n",
       " 'Wordpress Navigation Label in Browser tab',\n",
       " 'Taking control of the soundCard with JAVA',\n",
       " 'STL containers and large amounts of data',\n",
       " 'Colour in Backorder Products dropdown based on stock in WooCommerce',\n",
       " 'Richfaces - <rich:autocomplete> not showing suggestions',\n",
       " 'How to select and enlarge a Masterpane in Zedgraph',\n",
       " 'react-native android publishing keystore',\n",
       " 'What is a good way to find a specific value in an XML document using C#?',\n",
       " 'Can i make my own Singleton Stateless Bean with EJB 3.0?',\n",
       " 'How does Google App Engine precompile Java?',\n",
       " 'Using dispose() method instead of close() method to a form',\n",
       " 'Spring Oauth2 \"Full authentication is required to access this resource\" with valid access token',\n",
       " 'Why is my code only displaying incorrect even if I have the right answer?',\n",
       " 'Forcing function in ODE',\n",
       " 'Get sum of column on last row, good practice?',\n",
       " 'Simple Karma + Typescript configuration - Reference Error: x is not defined',\n",
       " 'Error building Player because scripts have compile errors in the editor',\n",
       " 'Property Testers do not load despite forcePluginActivation. For popup menu enablement',\n",
       " 'Javascript regex to match last word regardless of specials characters',\n",
       " 'Develop multilangual system',\n",
       " \"angular-mock testing in Karma+Mocha can't find module\",\n",
       " 'How to append an element inside object using a common way',\n",
       " 'Generate random \"dark\" colours only in Java',\n",
       " 'Access element in list using indexes stored in another list',\n",
       " 'How to correctly use setq in elisp?',\n",
       " \"iOS - Today Extension 'show more' & 'show less' state incorrect. Collapsed says 'show less' - requiring multipule presses to fix\",\n",
       " 'how to get the position of the cursor in an editable div',\n",
       " 'flickering of image in SWT',\n",
       " 'Completely random identifier of a given length',\n",
       " 'Angular 2 Render Flat List from Hierarchal Data',\n",
       " 'Java RMI threads on client-side are executing sequentially or concurrently when calling the same remote object?',\n",
       " 'Variable-size buffer for receiving UDP packets',\n",
       " 'CreateSqlQuery on entity with formula property',\n",
       " 'Datepicker TIMESTAMP divide by 100',\n",
       " 'how to print out the whole table using anonymous block in pl sql?',\n",
       " 'In Sentora i will need to integrate a clamav Module',\n",
       " 'how do i set a value of a multiple <select> tag from the database',\n",
       " 'show decimal value in C#',\n",
       " 'Javascript: how to affect other element when hovering?',\n",
       " 'Creating new popup window when click button',\n",
       " 'How to Depict Either/Or Inheritance in a UML diagram?',\n",
       " 'Ajax post success data: Can you separate results?',\n",
       " 'Document.getElementById() not available for ChromiumWebBrowser in visual studio',\n",
       " 'target of assignment expands to non-language object',\n",
       " 'How do I configure distributed transactions for NServiceBus',\n",
       " 'How to combine an array of png images like layers using C#?',\n",
       " \"yii2 gii CRUD Generator error - Class 'Message' does not exist or has syntax error\",\n",
       " 'Get values of checkbox to other page',\n",
       " 'Session on subdomains still not working',\n",
       " 'How can I turn off host name resolutios?',\n",
       " 'syntax error, unexpected end-of-input',\n",
       " 'Erlang: \"extending\" an existing module with new functions',\n",
       " 'tcl string replacement',\n",
       " 'how to access directory in plesk (control panel )',\n",
       " 'Minimizing the sum of a special function over a list',\n",
       " 'VB.Net & Access - Set two foreign keys, that refer to the same table/field',\n",
       " 'Memory Monitoring Tool for Erlang Threads',\n",
       " 'Disable Spring Boot Security @Secured at runtime',\n",
       " 'Join two tables on the same date or closest date (before or after)',\n",
       " 'Power Point viewer asp.net mvc',\n",
       " 'Swift: Get an element from a tuple',\n",
       " 'images rotation to the right',\n",
       " 'Can I access the visual voicemail files on the iphone thru the SDK?',\n",
       " 'Proximity alert for locations saved at server',\n",
       " 'Tableviewcell button',\n",
       " 'Angularjs select does not mark matching model as selected',\n",
       " 'How can i use id to do action on an object of an android using Robotium tool?',\n",
       " 'How can i pass a value to constructors of collection of instances at runtime with simple injector?',\n",
       " 'Large binary shifts in 8086 assembly?',\n",
       " 'Directshow, format type change filter',\n",
       " 'How to open model window on option selection?',\n",
       " 'Update value in sqlite iphone sdk',\n",
       " 'Installing ADT plugin in Eclipse for Android development',\n",
       " 'Automating a ContextMenu with Watin',\n",
       " 'how to evaluate the performance of any cryptographic algorithm (say elliptic curve)?',\n",
       " 'Nth-child Selector with Prototype',\n",
       " 'Difference in performance of compiled accelerate code ran from ghci and shell',\n",
       " 'Database design for email messaging system',\n",
       " 'Java SE Development Kit 8u20 Install Options',\n",
       " 'Reading a file in chunks',\n",
       " 'Twitter style Web Application based on LAMP, Symfony2, Backbone : possible?',\n",
       " 'Regexp for C preprocessor command',\n",
       " 'Cmposition, I dont quite get this?',\n",
       " 'CakePHP form submits the \"array\"',\n",
       " 'Store feed forward network in mongodb',\n",
       " 'bash read strings and output as one key and multiple values',\n",
       " 'http client in python fails to recive',\n",
       " 'Dynamic languages - which one should I choose?',\n",
       " 'How to start an IntentService from a WakefulBroadcastReceiver',\n",
       " 'C++: Converting wstring to unsigned char',\n",
       " 'How to make echo interpret backslash escapes and not print a trailing newline?',\n",
       " 'AngularJS.. http.get working, when splitting into its own service module its no longer working',\n",
       " 'How do I determine the number of elements in an array reference?',\n",
       " '\"TypeError: \\'NoneType\\' object is not iterable\" on what should be a list',\n",
       " 'Replace random image on website',\n",
       " 'Rotation matrix between two camera system',\n",
       " 'Animated border which wraps around',\n",
       " 'cron job not picking up oracle query result',\n",
       " 'Formview and MS-Ajax UpdatePanel',\n",
       " 'How to update data with TreeStore or TreeEditor component?',\n",
       " 'Get kwargs passed to url_for in Flask view',\n",
       " 'how to reload the template when working with enlive without restar',\n",
       " 'Thread-safe get (accessor method)',\n",
       " 'How can I tell if \"inline\" worked?',\n",
       " 'calling some logic before user is logged out using spring security?',\n",
       " 'Java pattern to find two groups of two letters in `ABC`',\n",
       " 'MYSQL distincs entry of two columns even when switched',\n",
       " 'How Antlr creates tokens',\n",
       " 'Play Framework 2.4 - Java - Http header and cached response',\n",
       " 'List of Strings in a Grails domain class',\n",
       " 'Insert into MongoDB via Node.js',\n",
       " 'How to stop or pause Pandora and Spotify',\n",
       " 'Oracle Function: Replicate wm_concat',\n",
       " 'Return user to previous page after login (Rails)',\n",
       " 'Custom Layout Manager using predefined and developer-defined child view(s)',\n",
       " 'In Ruby, how do I specify a file in another directory as an input?',\n",
       " 'Unable to read View Bag value from controller to view',\n",
       " 'Parameters on time stamps in oracle sql developer',\n",
       " 'measuring the time to load a page - Python',\n",
       " 'Set height of child to height of parent',\n",
       " 'How can I find the element that caused another element to fire the focusout event?',\n",
       " 'How to get the latest created table in MySQL?',\n",
       " 'Better way to reference $scope in AngularJS',\n",
       " 'Sharing data between Elastic Beanstalk web and worker tiers',\n",
       " 'iOS certificate pinning with Swift and NSURLSession',\n",
       " 'Sharing UDP Data across apps (background/foreground or Split screen multitasking) in iOS',\n",
       " 'iPhone: Facebook logout feature does not working',\n",
       " 'AutoHotKey. Hotstrings and Auto-replace not working in Visual Studio 2008',\n",
       " 'Issue setting up Android SDK - Failed to Start Emulator',\n",
       " 'Why is the dismissable alert not being dismissed?',\n",
       " 'Error while executing change data capture sql query',\n",
       " 'multiple queries - Route.get() requires callback functions but got a [object Undefined]',\n",
       " 'How to attach custom element to shadow DOM in html web components in a secure way?',\n",
       " \"flash javascript don't work (Second try)\",\n",
       " 'How do EGit versions map to Git versions',\n",
       " 'How the ftp uploads works in PHP?',\n",
       " 'Sql XML to Delphi',\n",
       " 'Lookup table with the query with arbitrary length without using a for loop in R',\n",
       " 'C# XML deserialization XmlAttribute',\n",
       " 'CSS, JQuery: Animated transform from 3 lines menu to cross',\n",
       " 'Can m2e install an external jar file? Or do I need to install the maven command line tool?',\n",
       " 'Does gSOAP RESTful implementation require the definition of a WSDL',\n",
       " 'Automatically create an appointment in Outlook using message content',\n",
       " 'JSoup error: java.lang.IllegalArgumentException',\n",
       " 'Add Button to CMS_Page_Edit via Observer',\n",
       " 'How to do an XOR of the binary forms of all integer items in a list',\n",
       " 'How to add regularization in Scipy Linear Programming (Non-negative Least-Squares)',\n",
       " 'Highlight backgroung colors of some words in HTML Document in java',\n",
       " 'Is there a way to retrieve process stats using Perl or Python?',\n",
       " 'Excel NamedRange.Find Method with Regex pattern match in C#',\n",
       " 'cmake error when configuring',\n",
       " 'How to set first column to a constant value of an empty np.zeros numPy matrix?',\n",
       " 'Eclipse Plugin - get Launch Configurations Tree List in a Dialog.',\n",
       " 'What are the RESTful best practices on defining a query parameter with an or condition?',\n",
       " 'Extracting text from the input field - using Webdriver',\n",
       " 'One <hr> tag is working but not the other in Firefox. Why is that?',\n",
       " 'ajax request xml from php',\n",
       " 'Embedded Java server using Grizzly: How do you enable http2',\n",
       " 'Finding Minimum Completion Time of Scheduled Tasks with Topological Sort',\n",
       " 'How to set jQuery draggable min/max-left and min/max-right',\n",
       " 'semantic-ui modal size keeps extending to the height of a page',\n",
       " 'Is there any direct git command to push changes to another branch',\n",
       " 'How and is it worth to integrate Java Webapp + drools + Guvnor?',\n",
       " 'How to debug Error Messsage in Odoo',\n",
       " 'calculate differences between two numbers',\n",
       " 'Data constructor in template haskell',\n",
       " 'Tying composer.json to a specific Laravel 5 SHA',\n",
       " 'Django 1.7.1 requires a Default value for field - but no entry is in database. Why?',\n",
       " 'addEntriesFromDictionary: a true copy method?',\n",
       " 'Spring Boot OAuth2 with encrypted JWT access token',\n",
       " 'Wrap text if it is longer than max_characters',\n",
       " 'iptables: Duplicating/Forwarding ports',\n",
       " 'Multiple custom fields stored as meta_keys, how to connect with the post?',\n",
       " 'Android GridView crashes or is very slow on some devices (Samsung Galaxy S4, S3)',\n",
       " 'HTML/CSS: Input element weird indent ie7',\n",
       " 'What exactly does Double mean in java?',\n",
       " 'Most effective ways to extract Android Cursor (sqlite) into an array to be used in AlertDialog.Builder?',\n",
       " 'jenkins can not find android SDK',\n",
       " 'Can I open a new window and change the DOM of the calling window in JavaScript?',\n",
       " 'dynamically Change Itemized overlay draw circle using seek bar progress',\n",
       " 'How do I fix django.db.utils.IntegrityError: duplicate key value violates unique constraint?',\n",
       " 'Inno Setup not creating registry entry in Software/Microsoft/Windows/CurrentVersion/Uninstall',\n",
       " 'build from hadoop source code in centos',\n",
       " 'C# LinqToSql SubmitChanges() does not update, even though PK is set',\n",
       " 'How to read utf16 text file to string in golang?',\n",
       " 'Objective C ePub framework',\n",
       " 'Reducer output to different files based on keys',\n",
       " \"Is it possible for a Chrome Extension to get a user's full browsing history?\",\n",
       " 'Variable Number of Nested For Loops',\n",
       " 'Ordered http request parameters',\n",
       " 'Testing the Oracle to_date function',\n",
       " 'Getting the error of POST method from another PHP file',\n",
       " 'Multiple selection of worksheets into one workbook copy paste of content into one main sheet',\n",
       " 'Why do I keep getting \"developer inactive\" errors when calling the Beats Music API?',\n",
       " \"My select command doesn't work\",\n",
       " 'node js read files line by line',\n",
       " 'PHPStorm/Webstorm increase memory to more than 512MB',\n",
       " 'Want to open google.com at specific location and make it specific window size',\n",
       " 'Database not updating new row',\n",
       " 'Spring suite tools start error - spring boot',\n",
       " 'Slider in codenameone',\n",
       " 'Issue with $(this) and toggle() multiple classes',\n",
       " 'How to load file from dir using Racket?',\n",
       " 'Removing quotation mark using javascript does not remove single quotation marks',\n",
       " 'Firebase Android ChildEventListener Triggered onChildRemoved() before onChildAdded() When new data added',\n",
       " 'Python. Error using animation.FuncAnimation',\n",
       " 'How to make inline comments in Org-mode?',\n",
       " 'Find years with distinct digits - CCC 2013',\n",
       " 'Identify customer visits occurring after a given time period in mysql',\n",
       " 'Finding the distinct count from a cassandra column using Tableau',\n",
       " 'Prism : Change the active view',\n",
       " 'Get Color from int',\n",
       " 'Dynamic subversion repos via subdomains (in Apache)',\n",
       " 'How to multithread my for loop in Python',\n",
       " 'How to get recycler view list item count using Espresso',\n",
       " 'How to PIVOT and calculating column average',\n",
       " 'Fastest way to separate the digits of an int into an array in .NET?',\n",
       " 'Escaping special characters in SphinxSE',\n",
       " 'Importing sqlite file into r',\n",
       " 'Sort order of related products not working in Magento 1.6',\n",
       " \"Display 404 not found template for 'slugs' when publication returns empty cursor - Meteor - iron-router\",\n",
       " 'Is there a way to tell if an object has implemented ToString explicitly in c#',\n",
       " 'VFS: file-max limit 1231582 reached',\n",
       " 'Play 2.2 EssentialAction With Futures',\n",
       " 'AppBarLayout / CollapsingToolbarLayout expands indefinitely',\n",
       " 'how to deselect all Radio Button in Radio ButtonGroup on button click in flash as3?',\n",
       " 'numpy array creating with a sequence',\n",
       " 'Sed: Matching words with any permutation of two characters',\n",
       " 'Make Child element appear outside of parent',\n",
       " \"MobilePin createuserwizard doesn't work?\",\n",
       " 'Fit Image in canvas using WPF',\n",
       " 'Adding a fontawesome icon with border into form input',\n",
       " 'finding pixel location of Listview item seems to return wrong value',\n",
       " 'sails 0.9.8 not work, when created controller and lift it',\n",
       " 'Larave File not found at path but it does exist',\n",
       " 'RequiredFieldValidator causes validation on Server even if validator is disabled(CausesValidation=\"false\")',\n",
       " 'Retrieving HTML content from a page requiring authentication using PHP',\n",
       " 'How to generate linked-axis in matplotlib',\n",
       " 'Print % sign with string formatting',\n",
       " 'How to calculate the dimensions of the monitor in PyQt4/Windows/Linux?',\n",
       " 'VBA Outlook 2010 retrieving information from Active Directory',\n",
       " 'Modifying bootstrap thumbnails',\n",
       " \"ASP.Net: What's keeping old AppDomains alive?\",\n",
       " 'A library uses the same package as this project after importing Facebook SDK',\n",
       " 'Unable to run compiled .classes from the command line',\n",
       " 'Is it possible to partially decode and update JSON? (go)',\n",
       " 'How to use Apache-Commons DBCP with EclipseLink JPA and Tomcat 7.x',\n",
       " 'How to do batch geocoding using google-maps-services-java',\n",
       " 'Inserting an img into a text field (html, css)',\n",
       " 'NoClassDefFoundError during Tomcat graceful shutdown',\n",
       " 'Indesign (IDML file) Automation using HTML5 and Javascript',\n",
       " 'Writing to the ObjectOutputStream and getting rubbish back',\n",
       " 'How do I stop md-cards from stretching images to full vertical height?',\n",
       " 'SQL, missing end, but why?',\n",
       " 'SED - Search two pattern in a line and insert few word at the end of the line if pattern match is found',\n",
       " 'How to configure & run multiple websites with respective databases with single Laravel code instance',\n",
       " 'three.js CanvasRenderer - setting initial color for object together with transparency textures',\n",
       " 'IHTMLDocument2 - click button inside iframe',\n",
       " \"Resource 1 works, 2 doesn't\",\n",
       " 'how to show an image in an image field by a button click event in c# asp.net',\n",
       " 'How to use this for killing array of threads?',\n",
       " 'MVC scaffolding does not support Entity Framework 6 or later',\n",
       " 'Parse error using Remotipart',\n",
       " 'JAVA JAX-WS Deployment (JAVA Eclipse EE IDE)',\n",
       " 'kaminari and order_by',\n",
       " 'multisampling and fragment shader',\n",
       " 'C program- change char order in sentence',\n",
       " 'How to reload an IFrame every x seconds?',\n",
       " 'EF6 table per hierarchy, with unique index on derived property',\n",
       " 'Shell Script to add extension on file and directory',\n",
       " 'Absolute beginners guide to working with audio in C/C++?',\n",
       " 'Extract part of string',\n",
       " 'stopping toast android in other actvity',\n",
       " 'Client-side SSL not working with AWS API Gateway',\n",
       " 'Top Left Menu Bar Is Frozen when Main Window Shows Up',\n",
       " 'Category Axis Label Alignment for Multi Series bar chart in JAsper',\n",
       " 'Invalid Label - jQuery Ajax/Json request',\n",
       " 'Optimizing Haskell Recursive Lists',\n",
       " 'Symfony3: Service not able to get arguments',\n",
       " 'Reverse Geocoding not displaying info window on markers when clicked',\n",
       " 'How to restrict background click in Ionic confirmation popup',\n",
       " 'how to use CSPARQL-ReadyToGoPack-0.9 in a SBT project',\n",
       " 'How to sort UTF-8 lines in Vim?',\n",
       " 'How to handle NotFoundException elegantly in Neo4j 2.0?',\n",
       " 'Download multiple files simultaneously with PHP - Forking, Sockets',\n",
       " 'Submit form on one server, process it and then post results to another domain',\n",
       " 'Flyway Mysql multiline comment directive not parsed',\n",
       " 'Non-Blocking File Reads',\n",
       " 'ORACLE sql dynamic variables in stored procedure',\n",
       " 'nested ngFor with two data classes in angular2',\n",
       " 'Crossplatform webview in Qt5.6',\n",
       " 'Set the default encoding to UTF-8 for all JSPs without using @page directives',\n",
       " 'XSLT creating a table with varying amount of columns',\n",
       " 'how to send email with powershell',\n",
       " 'Asynchronous method using .Result',\n",
       " 'Is JENKINS Extensible Choice Parameter compatible with linux?',\n",
       " 'Starting Speech Recognition with CreateProcess() in C++',\n",
       " 'How do I animate adding subviews?',\n",
       " 'How can I change the default font for a Jekyll website',\n",
       " 'Impossible to compile Fortran code with include statement',\n",
       " 'Lazy loading images in Vue/Laravel',\n",
       " 'Web API read header value in controller constructor',\n",
       " 'Android wear WearableListView ImageView selector',\n",
       " 'Function pack() returns 0',\n",
       " 'Is it possible to have Firebase authentication via Facebook in a Phonegap App?',\n",
       " 'PHP Export MySQL to CSV - Results showing HTML',\n",
       " 'How to detect language preference in Laravel 5',\n",
       " 'VB WebBrowser click button',\n",
       " 'Reports using java collections',\n",
       " 'How to write all files Contain in the subfolders and in the folders in to a .txt file',\n",
       " 'Checking negative values from Google Forms',\n",
       " 'Libgdx reading json array values',\n",
       " 'Custom Buddypress Notification on Post Save',\n",
       " 'UITableView with UITextField - keep the data even after user scrolls',\n",
       " 'Visual Studio 2015 Update 1 automatically checks in files',\n",
       " 'Mobilefirst Failed synchronizing application from the administration service',\n",
       " 'Cannot execute for loop in vue.js',\n",
       " 'how to prevent duplicate item',\n",
       " 'Java Apache CLI OptionBuilder not working as Builder pattern',\n",
       " \"What's a proper way to turn off genymotion emulator?\",\n",
       " 'Jade select field populating data',\n",
       " \"Why is ' 2' > '10'?\",\n",
       " 'Mysql dump comments directives and simple comments',\n",
       " 'Cropping library not working on Nexus S',\n",
       " 'Create a segue and attach it between two view controllers through Swift?',\n",
       " 'Function to search recursively for patterns in vim',\n",
       " 'Integrating wordpress and laravel user management',\n",
       " 'Behaviour after takePicture() different on different devices/Android versions',\n",
       " 'Exporting Plone content: how to get the tarball created by quintagroup.transmogrifier.writer',\n",
       " 'Cassandra to Hive using Spark',\n",
       " 'Ruby on Rails :before_filter => :only_when_user_is_logged_in',\n",
       " 'How can I integrate Jacoco reports with SonarQube without using maven?',\n",
       " 'Can I use NSPredicate as key in a NSDictionary',\n",
       " 'Proxy Authentication Failed error',\n",
       " 'Could someone explain how to use the UpdateManager in TideSDK 1.3.1 Beta?',\n",
       " 'Properties - how to avoid code repetition',\n",
       " 'Pause/resume video recording using AVCaptureMovieFileOutput',\n",
       " 'Swift enum recursive associated value',\n",
       " 'How to grep particular string occurring multiple times',\n",
       " 'Hover map area sprite with jquery',\n",
       " 'Spark `LiveListenerBus` Exception is freaking me out',\n",
       " 'how to use pyplot.arrow or patches.Arrow in matplotlib?',\n",
       " 'Apache on Windows and Fiddler',\n",
       " 'how to pass the variable from api gateway to the url of another service running on EC2',\n",
       " 'Open link when doubleclicking on table row with jQuery',\n",
       " 'Wget span host only for images/stylesheets/javascript but not links',\n",
       " 'I am trying to show data using api . but data is not showing in custom listView . list is empty',\n",
       " \"Graphing sbt's incremental compilation logic\",\n",
       " 'how to get functionality of Long Press gesture in ios ver below 3.2',\n",
       " 'Change priority headings for a task with the api',\n",
       " 'Get values on a row based on two or more rows in Excel',\n",
       " 'Is using Silverlight a hindrance for Startups?',\n",
       " 'spotify session callback get_audio_buffer_stats',\n",
       " 'talend - specify jndi as datasource',\n",
       " 'Long data load time in Matlab',\n",
       " 'how can i change column width in base to content with vb.net and bootstrap?',\n",
       " 'Alternative to Microsoft.Practices.EnterpriseLibrary.Data',\n",
       " 'How to facet.pivot with spring-data-solr',\n",
       " 'Check empty output from fish function',\n",
       " 'pysolr update document with error',\n",
       " 'How to retrieve same column twice with different values of other column in same table',\n",
       " 'Updated: NodeJS - connect-keycloak middleware empty response error',\n",
       " 'Accordion open when page loads',\n",
       " \"Activity doesn't refresh after associated Broadcast Receiver's onReceive gets called.\",\n",
       " 'How do you detect DOCTYPE (Transitional or Strict) server-side in ASP.NET?',\n",
       " 'Firefox 9.0.1 Broke Internal Wiki Layout',\n",
       " 'onchange function in dropDownList yii2',\n",
       " 'play mp3 without default player',\n",
       " 'Convert SVG Data to SVG File that can be uploaded',\n",
       " 'Folder Picker for MS Word',\n",
       " \"Can't hide or close form after switching to another form\",\n",
       " 'How to ShellCode in linux with x64 processor.',\n",
       " 'How to set a specific timezone for windows CE By C#',\n",
       " 'Vagrant enters aborted state during apt-get update',\n",
       " \"attempting to make enter button 'clickable'\",\n",
       " 'ImageMagick Convert not generating correct color',\n",
       " 'Mybatis select with nested objects',\n",
       " \"My css height auto doesn't work\",\n",
       " 'D3 AngularJs Force Directed Graph',\n",
       " 'I want to add 30 days to mysql date row',\n",
       " 'How I can use FlexyPool with HikariCPFactory?',\n",
       " 'Wix installer: Verify that you have sufficient privileges to start system services',\n",
       " 'r, ts - error in stl, series has less than two periods (erroneous?)',\n",
       " 'typo3 - Adding content to the footer',\n",
       " 'Knockout re render template with new data model on change event of dropdown menu',\n",
       " '@ManyToMany relation not save',\n",
       " 'Downsampling of fMRI image with FSL',\n",
       " 'How to use Android AutoCompleteTextView on Xamarin.Forms',\n",
       " 'Why fstream::tellg() return value is enlarged by the number of newlines in the input text file, when file is formated for Windows (\\\\r\\\\n)?',\n",
       " 'Determine If Two Points Are Near',\n",
       " 'clicking logo on home page breaks navigation menu on mobile site',\n",
       " 'Use Iframe to embed csv and allow user to search from it',\n",
       " 'Install Chrome extension through windows registry',\n",
       " 'Display message on success does not work',\n",
       " 'jQuery masked input - format date as m/d/yyyy or m/dd/yyyy or mm/dd/yyyy or mm/d/yyyy',\n",
       " 'How to change spring session (redis) cookie name?',\n",
       " 'Any tool to suggest unit reference automatically for Delphi 2010?',\n",
       " 'Why does my method return a null password?',\n",
       " 'SQL Script - manipulate value based on previous non zero value',\n",
       " 'rotate image shows \"Out of memory\" exception',\n",
       " 'count button clicks',\n",
       " 'Joomla Custom Compoment Dev Env : Hot Deployment',\n",
       " 'Nexus 5 not showing on connected devices',\n",
       " 'How work the method TrueForAll? C# LINQ',\n",
       " 'PHP - Simplest Way to Post & Display',\n",
       " 'Update Temp Table with Group By',\n",
       " 'How to use Parse Push with Cordova, Appcelerator, etc',\n",
       " 'AS3 bitmapdata send to server picture is small in upperleft corner',\n",
       " 'How to set the Z order index for adorner in WPF',\n",
       " 'php microseconds',\n",
       " 'Creating a global database connection on an mdi form',\n",
       " 'Uncaught ReferenceError: React is not defined',\n",
       " 'VBA search column for strings and copy row to new worksheet',\n",
       " 'How can I record a test using Espresso without doing a clean install?',\n",
       " 'How can I char array in reverse order?',\n",
       " 'What kind of SCTP support is there on various Windows versions?',\n",
       " 'Saving changes to an EC2 instance without having to register an AMI each time?',\n",
       " 'Auto run Jetty on boot',\n",
       " 'How To Cache jQuery Template In Backbone View via Ajax?',\n",
       " 'Does this C++ static analysis rule make sense as is?',\n",
       " 'Same Ripple drawable(effect) appearing differently on ListView and RecyclerView',\n",
       " 'R ggplot2 assigning colours to a factor',\n",
       " 'Verifying a method was called without using IoC',\n",
       " \"What is 'seg cs' in bootsect.s\",\n",
       " 'setTimeout keeps firing',\n",
       " 'Formatting the way a string is entered into my database',\n",
       " 'Creating Jenkins Job using python API',\n",
       " 'python create single thread to do one task then quit',\n",
       " 'z order in issue in ConstraintLayout Android',\n",
       " 'Can I derive from a class that can only be created by a \"factory\"?',\n",
       " 'PHP OOP :: passing session key between classes',\n",
       " 'ASP.NET MVC 3, SQL Server',\n",
       " 'Recreating or deleting google services json',\n",
       " 'Probe problem when writing a I2C device driver',\n",
       " 'Jersey produce duplicate log messages',\n",
       " 'Exit / stop Array2D.initBased early',\n",
       " 'how to set array of date to fireDate in local notification at a time',\n",
       " 'alternative to async: false ajax',\n",
       " 'Oracle: how to get percent of total by a query?',\n",
       " 'How to match the recursive pattern `a(?R)b` including another string e.g. \"test{aaabbb}\"? (Regex)',\n",
       " 'How to disable GestureListener?',\n",
       " 'How to specify Code Style settings in a Qt Creator `.pro.shared` file?',\n",
       " 'cal extension template modification with .tmpl',\n",
       " 'Getting started with Groovy/Grails?',\n",
       " \"Opening a Ruby program's source file in the default editor\",\n",
       " 'How can I pass an array of Guid via Web API?',\n",
       " 'Backbone-Relational find or load?',\n",
       " \"what's the best way to format an xml string in ruby?\",\n",
       " 'Partial classes in Google Closure?',\n",
       " 'Add a repository in AccountController',\n",
       " 'Wikipedia API Autocomplete with Json',\n",
       " 'Apache Pig: unable to run my own pig.jar and pig-withouthadoop.jar',\n",
       " 'Optimizing list comprehension to find pairs of co-prime numbers',\n",
       " 'kivy access child id',\n",
       " 'Stucture values not staying, values changed to -858993460',\n",
       " 'Set toolbar title',\n",
       " 'How to add a row to a table using swt',\n",
       " 'jQuery ui selectmenu vertical position offset (relatively to buttons in this line)',\n",
       " 'SSIS : Warning: Failed to decrypt an encrypted XML node',\n",
       " 'gps not getting user location',\n",
       " 'Exporting a simple model with texture from Blender to three.js',\n",
       " 'Postman - Required MultipartFile parameter is not present - Spring, Java',\n",
       " 'Prevent akka actor from restarting child actor',\n",
       " 'UITableView not loaded',\n",
       " 'NTFS permission with modify date',\n",
       " 'QTreeView - how to tell if a drag/drop event is a reorder or a move between parents?',\n",
       " 'Prevent XUL notificationBox from closing when button is hit',\n",
       " 'Code not working. Notification that should go off once a day',\n",
       " 'Android Action Bar Button does not show up',\n",
       " '$.widget is not a function',\n",
       " 'jquery hide not taking parameter',\n",
       " \"How can i use a one form/table for multiple MVC's?\",\n",
       " 'MSTest: execution order of tests within the same TestClass',\n",
       " 'How to call jQuery function in HTML returned by AJAX',\n",
       " 'OAuth2 security considerations for client_id',\n",
       " 'Google Compute Instance 100% CPU Utilisation',\n",
       " 'Incompatible block pointer type when returning array?',\n",
       " 'Calling a REST api with an encrypted PEM client certificate',\n",
       " 'Select all objects in a list',\n",
       " 'Drag and insert div into another div',\n",
       " 'How to prevent firefox from scrolling to the bottom of the page when a large popup is opened',\n",
       " 'How to handle ((List<string>)Session.Add(\"\")',\n",
       " 'mysql inserting into 2 tables at once that have primary key and foreign key',\n",
       " \"What's the right way to remove multiple items from a QTableWidget?\",\n",
       " \"When MSTest fails in TestInitialize, why doesn't TestCleanup get executed?\",\n",
       " 'PHP CodeIgniter application not opening any page except default controller',\n",
       " 'Parsing JSON data without quotes with jQuery',\n",
       " 'Rewrite url in .htaccess',\n",
       " 'I/O error(socket error): [Errno 111] Connection refused',\n",
       " 'Git Error; RPC failed; result=22, HTTP code = 401',\n",
       " 'TFS 2010 - Set the State field to a certain value',\n",
       " 'ActionScript 3.0 How to create ProgressEvent instances in for loop with multiple files loaded from XML',\n",
       " 'how can i extract my query to find average',\n",
       " 'C# Windows Service - Default Arguments on Install',\n",
       " 'Upload large files with node js',\n",
       " 'Changing table headers in cakephp',\n",
       " 'hello world with JMS on Glassfish',\n",
       " 'Countdown timer using DateTime.Parse without defined date',\n",
       " \"Images in the 'drawable' folder are resized automatically?\",\n",
       " 'Find files with the same size and dellete all duplicates except the one has the shortest name using shell script',\n",
       " 'Writing Rules both in Firebase and in your Code',\n",
       " 'Search for words with specific starts and endings',\n",
       " 'Install Neo4j 3.0+ as a windows service',\n",
       " 'PHP convert 2 digit year to a 4 digit year',\n",
       " 'JSDoc auto-complete documentation in Eclipse is not working for Class.create()',\n",
       " 'Split a infix String to an array of String in java',\n",
       " 'Folder permissions in Azure web sites',\n",
       " 'Only have separators between UITableViewCells',\n",
       " 'Uncaught Syntax error, unrecognized expression: [object Object]',\n",
       " 'Need htaccess redirection',\n",
       " 'How to create this bootstrap carousel of iframes?',\n",
       " 'Doctrine2 - Get entity ID before flush',\n",
       " 'Xquery help sorted parent child relationship',\n",
       " 'How To Load Separate Pages In Android Gridview While Clicking Blocks or Items?',\n",
       " 'kineticjs rect fillText',\n",
       " 'is a query string with a / in it valid?',\n",
       " 'How to convert the BYTEARRAYS to NSString in objective -c',\n",
       " 'why is std::chrono::duration based on seconds',\n",
       " 'WCF REST Client Exception',\n",
       " 'Using UIBinder to create a Widget to go into a Dialog',\n",
       " 'OneDrive for Business :\"invalid_request\",\"error_description\":\"AADSTS90014: The request body must contain the following parameter: \\'grant_type',\n",
       " 'Are the any options for interfacing with the command prompt process from a .NET application other than the standard IO?',\n",
       " 'Adding data in the database using microsoft access and OleDb in C#',\n",
       " 'jQuery Ajax header not being passed',\n",
       " 'AngularJS: Multiple views with routing without losing scope',\n",
       " 'BackboneJS How to merge collections',\n",
       " 'Specflow :Could not load file or assembly TechTalk.SpecFlow, Version=2.2.0.0',\n",
       " 'Max byte calculated by System.Runtime.InteropServices.Marshal.SizeOf()',\n",
       " 'How can my application retrieve custom fields from a DocuSign transaction?',\n",
       " 'add active state to button in a button group',\n",
       " 'How to define clear range for pixel color',\n",
       " 'Roslyn VisualBasic.ScriptEngine doesnt recognize hostObject written on C#',\n",
       " \"Neither BindingResult nor plain target object for bean name 'categoryOptions' available as request attribute\",\n",
       " 'How to change Wicket behaviour on Page Expired',\n",
       " 'PHPUnit code coverage show 0% coverage',\n",
       " 'How to prove code correctness lemmas with the \"undefined\" constant',\n",
       " 'Visual Studio has insufficient privileges to debug this process. To debug this process, Visual Studio must be run as an administrator',\n",
       " 'WebApi EntitySetController using composite keys',\n",
       " 'How do I set up an OpenGL project using XCode 4.2 in C++?',\n",
       " 'Initialize static NSString at class level',\n",
       " 'Rich Text Editor inside Flux Form',\n",
       " 'Setting $PATH in xampp osx',\n",
       " 'How to extract data from html using PHP',\n",
       " 'How to get Current location using MapModule?',\n",
       " 'Excel VBA Syntax Errors & Compiling Issues',\n",
       " 'How to read Logback configuration file from path outside the war file?',\n",
       " 'jQuery ajax not getting every div elements',\n",
       " 'TCP Socket on JAVA - Any byte >= 128 is received as 65533',\n",
       " 'SqlBulkCopy keeps on throwing connection forcibly closed exception',\n",
       " 'Error sending to the following VALID addresses Jenkins',\n",
       " 'How to determine if a text has balanced delimiters?',\n",
       " 'How to flick through a deck of cards?',\n",
       " 'Selecting in SQLite Database Android',\n",
       " \"TSQL merge Incorrect syntax near ','\",\n",
       " 'Building Pocketsphinx On Android on Windows',\n",
       " 'Add background image in a div without empty space between div and footer',\n",
       " 'Include github project into wordpress plugin',\n",
       " 'django multivaluefield & multiwidget - compress and/or decompress not working',\n",
       " 'Android : Can i call my onresume() inside onpause().?',\n",
       " 'How to fit picture to absolute positioning modal window?',\n",
       " 'Redirect URL to PHP only if file does not exist with Nginx',\n",
       " 'Laravel 4 Exception: NotFoundHttpException',\n",
       " 'How To Start Using Kostache?',\n",
       " 'Assigned access application exits when Ctrl + Alt + Delete is pressed.',\n",
       " 'Circular dependency error when running migrations in Django 1.7c2',\n",
       " 'JavaFX setOnShown fires before window is visible',\n",
       " 'Flash Develop - Publishing',\n",
       " 'I want to use the variable I declared somewhere else but I cannot (simple sql query)',\n",
       " 'buttons are not displayed',\n",
       " 'Prevent Twitter responsive layout from collapsing when width < 320px',\n",
       " 'Show azure cost analysis data using Azure billing API/SDK',\n",
       " 'find the field names from a search query',\n",
       " 'OAuth 2.0 OpenID Connect Loopback and Keycloak',\n",
       " 'Windows Phone: How to retrieve the same photo from media library between application instances',\n",
       " 'Symfony2: determine if a controller is called from a development environment or from a production environment',\n",
       " 'When UITableView is fully reloaded',\n",
       " 'http.post(url, postData, options) does not set header',\n",
       " 'JSON stringify outputs empty object for not empty object',\n",
       " 'Display.syncExec not working inside Callable',\n",
       " 'XPath to first occurrence of element with text length >= 200 characters',\n",
       " 'Unable to push a docker image to local OpenShift Origin registry',\n",
       " 'SlideDown() using JavaScript not working as intended',\n",
       " 'Threading.Tasks Dispose meaning issue',\n",
       " 'VAL() function in JavaScript',\n",
       " 'Using php to send form to my email..Having an issue with 405 Not Allowed when form is submitted',\n",
       " 'Netty closeFuture().sync().channel(); blocks rest api',\n",
       " 'How to check if a specific button exists in Scrapy?',\n",
       " 'Remove logs from ORMLite Android',\n",
       " 'Language detection API/Library',\n",
       " 'Should I make 1 form for each upvote button or 1 form for all the buttons?',\n",
       " 'Eclipse GAE JDO 3.0',\n",
       " 'django-cms editors and HTML data attribute cleaned up',\n",
       " 'Xcode build error clang failed',\n",
       " 'setTimeout from a web worker',\n",
       " 'C# Populating a listview from a List',\n",
       " 'Javascript not working in django inline formset using urlify.js',\n",
       " 'PHP multi cURL performance worse than sequential file_get_contents',\n",
       " 'Converting PHP Contact Form to SMTP',\n",
       " 'How do I prevent the original method being called when mocking a class with PHPUnit?',\n",
       " 'Ensure footer will stick to bottom of page and flex with content',\n",
       " 'How to share files from any path using a FileProvider?',\n",
       " 'R: How to build sum of arrays third dimension containing NAs and returning a list?',\n",
       " 'Speeding up a strangely slow Rcpp function',\n",
       " 'How to create a service that sends/receives UDP broadcasts on multiple interfaces',\n",
       " 'Can someone tell me how to replace the following javascript code with a loop?',\n",
       " 'UIImageView layer border issue',\n",
       " 'COM object created by CComObject::CreateInstance not destroyed when pointer goes out of scope',\n",
       " 'Run 2 sql query with 1 query for save query result as .csv format',\n",
       " 'AWS Elastic Beanstalk Vs EC2 Container Service (ECS) - Docker',\n",
       " 'Connect to remote MongoDB instance from ASP.NET',\n",
       " 'Copying files with unicode names',\n",
       " \"ASP.NET Web application doesn't unload AppDomains after deploy\",\n",
       " 'Getting YouTube livestream URL',\n",
       " \"Can't use ToString() in LINQ to Entities query\",\n",
       " 'list comprehension to create list and for no-data value feed default value',\n",
       " \"JSX element type 'XXX' does not have any construct or call signatures\",\n",
       " 'Subroutine unexpectedly ends when a Workbook is closed',\n",
       " 'Creating a result set (using a select statement ) within a loop',\n",
       " 'Laravel 4.2 - Environment detection - homestead.yaml vs. start.php',\n",
       " 'Deploy a shell script with Ruby gem and install in bin directory',\n",
       " 'Change a string into an int',\n",
       " 'How do I stop a MySQL decimal field from being rounded?',\n",
       " \"Respecting argparse's privacy, vs. usability\",\n",
       " 'Very simple Web Service in Python',\n",
       " 'Emoji and UIWebView in iOS 5',\n",
       " 'Getting IOError: [Errno Invalid number of channels] -9998 when using mic with PyAudio on Raspberry Pi',\n",
       " 'Mono on Mac OS X - Parallel HTTP Downloads limited to 2',\n",
       " 'Delete files, directories and buckets in amazon s3 java',\n",
       " 'Android: Saving form data on a swipe rather than from a button',\n",
       " 'No description or item name on PayPal Payment Received email',\n",
       " 'Code igniter with data mapper giving in valid json',\n",
       " 'Where can I find official / canonical documentation for using JavaScript with \"classic\" ASP?',\n",
       " \"BroadcastReceiver isn't working\",\n",
       " 'Array compare and count which has similar values and which not',\n",
       " \"How to cancel 'viewWillAppear' after UIImagePickerController is dismissed\",\n",
       " 'In Scala, is it possible to write a script which refers to another script',\n",
       " \"after reload page IE is not retaining it's scroll position\",\n",
       " 'SpringBoot multiple authentication adapter',\n",
       " 'SMTP Contact Form blank screen on Submit',\n",
       " 'Destroy all sessions but one',\n",
       " 'C# WIndows CE Compact Framework 2.0 Set System Timezone',\n",
       " 'Appropriate representation of a 2D game board in Clojure',\n",
       " 'Ionic emulate ios shows black screen',\n",
       " 'How update APi with AngularJS?',\n",
       " 'Javascript based redirect: will it hurt SEO?',\n",
       " 'What is the difference between these two SOAP requests?',\n",
       " 'Microsoft Access Report - How to cycle through all pages of a report in print view?',\n",
       " \"What does Actor[akka:\\\\\\\\play\\\\deadLetters].tell() mean in a New Relic's trace of a Play Framework 2.0 web transaction?\",\n",
       " 'JRuby 1.7.0 will not install bundler given plenty of memory',\n",
       " 'solr multiple tokenizers for query',\n",
       " 'Is it possible to pass an EJS variable to an Angular ng-repeat filter?',\n",
       " 'How To Read Data using Ip Address',\n",
       " 'SSIS XML Decryption Message',\n",
       " 'Detecting selection change on a UITextView?',\n",
       " 'Different CSS background-image depending on month and year',\n",
       " \"What's the equivalent averageifs for standard deviation?\",\n",
       " 'Segmentation faults using f2py',\n",
       " ...]"
      ]
     },
     "execution_count": 15,
     "metadata": {},
     "output_type": "execute_result"
    }
   ],
   "source": [
    "test[0]"
   ]
  },
  {
   "cell_type": "code",
   "execution_count": 16,
   "metadata": {
    "ExecuteTime": {
     "end_time": "2021-10-27T07:39:02.847042Z",
     "start_time": "2021-10-27T07:39:02.837041Z"
    }
   },
   "outputs": [
    {
     "data": {
      "text/plain": [
       "1001"
      ]
     },
     "execution_count": 16,
     "metadata": {},
     "output_type": "execute_result"
    }
   ],
   "source": [
    "len(test[0])"
   ]
  },
  {
   "cell_type": "markdown",
   "metadata": {},
   "source": [
    "### **Tarea 4 (ranking)**\n",
    "\n",
    "Ahora que tenemos como construir las *features*, y tenémos métricas para evaluar como de bueno es nuestro algoritmo de ranking, vamos a construir la función que nos hace el ranking.\n",
    "\n",
    "Para comparar preguntas, usaremos la similaridad de coseno o *cosine similarity*. Tenemos que implementar la función `rank_candidates()`. La función debe retornar una lista ordenada de pares *(índice inicial en la lista de candidatos, candidato)*.\n",
    "\n",
    "Por ejemplo, si la lista de candidatos es `[a,b,c]` y el más similar es `c`, después `a`, y luego `b`, entonces la función debe retornar `[(2, c), (0, a), (1, b)]`\n",
    "\n",
    "**Ayuda:** Puedes utilizar la función `cosine_similarity()` de `sklearn.metrics.pairwise`. \n",
    "\n",
    "En cualquier caso, es preferible usar una versión vectorizada de la función `cosine_similarity()`, es decir, que no utilice bucles ni *list comprehension*. Si no el cómputo será demasiado lento. La función de sklearn cumple esto."
   ]
  },
  {
   "cell_type": "code",
   "execution_count": 17,
   "metadata": {
    "ExecuteTime": {
     "end_time": "2021-10-27T07:39:02.878044Z",
     "start_time": "2021-10-27T07:39:02.851042Z"
    }
   },
   "outputs": [],
   "source": [
    "from sklearn.metrics.pairwise import cosine_similarity\n",
    "\n",
    "\n",
    "def rank_candidates(\n",
    "    question: str,\n",
    "    candidates: List[str],\n",
    "    embeddings: gensim.models.keyedvectors.KeyedVectors,\n",
    "    dim: int = 300,\n",
    ") -> List[Tuple[int, str]]:\n",
    "    \"\"\"\n",
    "    question: a string\n",
    "    candidates: a list of strings (candidates) which we want to rank\n",
    "    embeddings: some embeddings\n",
    "    dim: dimension of the current embeddings\n",
    "\n",
    "    result: a list of pairs (initial position in the list, question)\n",
    "    \"\"\"\n",
    "\n",
    "    ######################################\n",
    "    ### ESCRIBE AQUÍ TÚ CÓDIGO\n",
    "    ######################################\n",
    "    #Obtenemos el vector de representación de la quetion\n",
    "    v_repre_question=np.asarray([question_to_vec(question,embeddings,dim),])\n",
    "    #Obtenemos los vectores de representación de los candidatos\n",
    "    l_v_repre_candidates = [question_to_vec(candidate,embeddings,dim) for candidate in candidates]\n",
    "    a_v_repre_candidates =  np.asarray(l_v_repre_candidates)\n",
    "    \n",
    "    # Calculamos la simlitud del coseno entre el vector de la question y los vectores de los candidatos.\n",
    "    v_result_cosine = cosine_similarity(v_repre_question,a_v_repre_candidates)\n",
    "#     print (f'Cosine_similarity : {result_cosine}')\n",
    "    \n",
    "    # Ordenamos los indices de los valores obtenidos de mayor a menor similitud\n",
    "    v_result_cosine = np.argsort(v_result_cosine[0])[::-1]\n",
    "#     print(result_cosine)\n",
    "    \n",
    "    #Construimos la lista de tuplas\n",
    "    result=[(index, candidates[index]) for index in v_result_cosine]\n",
    "#     print(result)\n",
    "    return result"
   ]
  },
  {
   "cell_type": "markdown",
   "metadata": {},
   "source": [
    "Comprobamos que es correcto:"
   ]
  },
  {
   "cell_type": "code",
   "execution_count": 18,
   "metadata": {
    "ExecuteTime": {
     "end_time": "2021-10-27T07:39:02.908067Z",
     "start_time": "2021-10-27T07:39:02.882059Z"
    }
   },
   "outputs": [
    {
     "name": "stdout",
     "output_type": "stream",
     "text": [
      "Test correctos.\n"
     ]
    }
   ],
   "source": [
    "print(utils_05.test_rank_candidates(rank_candidates, wv_embeddings))"
   ]
  },
  {
   "cell_type": "markdown",
   "metadata": {},
   "source": [
    "Ahora comprobamos cómo de bueno es nuestro algoritmo. Ejecuta las siguientes celdas para obtener los resultados.\n",
    "\n",
    "El cálculo de la similaridad entre vectores lleva su tiempo, y este cálculo puede llevar unos 2 minutos."
   ]
  },
  {
   "cell_type": "code",
   "execution_count": 19,
   "metadata": {
    "ExecuteTime": {
     "end_time": "2021-10-27T07:41:04.379291Z",
     "start_time": "2021-10-27T07:39:02.913042Z"
    }
   },
   "outputs": [],
   "source": [
    "wv_ranking = []\n",
    "for line in test:\n",
    "    q, *ex = line\n",
    "    ranks = rank_candidates(q, ex, wv_embeddings)\n",
    "    wv_ranking.append([r[0] for r in ranks].index(0) + 1)"
   ]
  },
  {
   "cell_type": "code",
   "execution_count": 20,
   "metadata": {
    "ExecuteTime": {
     "end_time": "2021-10-27T07:41:04.410291Z",
     "start_time": "2021-10-27T07:41:04.383291Z"
    }
   },
   "outputs": [
    {
     "name": "stdout",
     "output_type": "stream",
     "text": [
      "DCG@   1: 0.211 | Hits@   1: 0.211\n",
      "DCG@   5: 0.268 | Hits@   5: 0.319\n",
      "DCG@  10: 0.285 | Hits@  10: 0.370\n",
      "DCG@ 100: 0.324 | Hits@ 100: 0.567\n",
      "DCG@ 500: 0.357 | Hits@ 500: 0.825\n",
      "DCG@1000: 0.376 | Hits@1000: 1.000\n"
     ]
    }
   ],
   "source": [
    "for k in [1, 5, 10, 100, 500, 1000]:\n",
    "    print(\"DCG@%4d: %.3f | Hits@%4d: %.3f\" % (k, dcg_score(wv_ranking, k), k, hits_count(wv_ranking, k)))"
   ]
  },
  {
   "cell_type": "markdown",
   "metadata": {},
   "source": [
    "Si has hecho todos los pasos correctamente, debes estar un poco frustrado con los resultados obtenidos. Vamos a intentar entender por qué la calidad es tan baja.\n",
    "\n",
    "Lo primero, antes de trabajar con los datos, hay que explorarlos para tener una idea de cómo son. Vamos a imprimir algunas de las preguntas del dataset:"
   ]
  },
  {
   "cell_type": "code",
   "execution_count": 21,
   "metadata": {
    "ExecuteTime": {
     "end_time": "2021-10-27T07:41:04.441296Z",
     "start_time": "2021-10-27T07:41:04.416295Z"
    }
   },
   "outputs": [
    {
     "name": "stdout",
     "output_type": "stream",
     "text": [
      "How to print a binary heap tree without recursion? How do you best convert a recursive function to an iterative one? How can i use ng-model with directive in angular js flash: drawing and erasing\n",
      "How to start PhoneStateListener programmatically? PhoneStateListener and service Java cast object[] to model WCF and What does this mean?\n",
      "jQuery: Show a div2 when mousenter over div1 is over when hover on div1 depenting on if it is on div2 or not it should act differently How to run selenium in google app engine/cloud? Python Comparing two lists of strings for similarities\n"
     ]
    }
   ],
   "source": [
    "for line in test[:3]:\n",
    "    q, *examples = line\n",
    "    print(q, *examples[:3])"
   ]
  },
  {
   "cell_type": "markdown",
   "metadata": {},
   "source": [
    "Como puedes ver, estamos tratando con datos sin procesar. Tienen singos de puntuación, caracteres especiales y letras en mayúsculas. Esto provoca que para muchas palabras no tengamos un *word embedding* correspondiente. Por ejemplo, para la palabra \"grid?\". \n",
    "\n",
    "Para resolver esto, vamos a utilizar la función `text_prepare()`, que preprocesa el texto. Puedes usar también cualquiera de las usadas en los challenges anteriores.\n",
    "\n",
    "Ahora, prepara el corpus de test:"
   ]
  },
  {
   "cell_type": "code",
   "execution_count": 22,
   "metadata": {
    "ExecuteTime": {
     "end_time": "2021-10-27T07:41:17.172169Z",
     "start_time": "2021-10-27T07:41:04.449297Z"
    }
   },
   "outputs": [],
   "source": [
    "from utils_05 import text_prepare\n",
    "\n",
    "prepared_test = []\n",
    "for line in test:\n",
    "    prepared_test.append([text_prepare(sentence) for sentence in line])"
   ]
  },
  {
   "cell_type": "markdown",
   "metadata": {},
   "source": [
    "Ahora evaluamos los resultados sobre los datos preprocesados:"
   ]
  },
  {
   "cell_type": "code",
   "execution_count": 23,
   "metadata": {
    "ExecuteTime": {
     "end_time": "2021-10-27T07:42:48.972760Z",
     "start_time": "2021-10-27T07:41:17.176169Z"
    }
   },
   "outputs": [],
   "source": [
    "wv_prepared_ranking = []\n",
    "for line in prepared_test:\n",
    "    q, *ex = line\n",
    "    ranks = rank_candidates(q, ex, wv_embeddings)\n",
    "    wv_prepared_ranking.append([r[0] for r in ranks].index(0) + 1)"
   ]
  },
  {
   "cell_type": "code",
   "execution_count": 24,
   "metadata": {
    "ExecuteTime": {
     "end_time": "2021-10-27T07:42:49.003771Z",
     "start_time": "2021-10-27T07:42:48.977760Z"
    }
   },
   "outputs": [
    {
     "name": "stdout",
     "output_type": "stream",
     "text": [
      "DCG@   1: 0.336 | Hits@   1: 0.336\n",
      "DCG@   5: 0.399 | Hits@   5: 0.454\n",
      "DCG@  10: 0.417 | Hits@  10: 0.511\n",
      "DCG@ 100: 0.449 | Hits@ 100: 0.670\n",
      "DCG@ 500: 0.471 | Hits@ 500: 0.841\n",
      "DCG@1000: 0.488 | Hits@1000: 1.000\n"
     ]
    }
   ],
   "source": [
    "for k in [1, 5, 10, 100, 500, 1000]:\n",
    "    print(\"DCG@%4d: %.3f | Hits@%4d: %.3f\" % (k, dcg_score(wv_prepared_ranking, k), \n",
    "                                              k, hits_count(wv_prepared_ranking, k)))"
   ]
  },
  {
   "cell_type": "markdown",
   "metadata": {},
   "source": [
    "## Extra: Usa un modelo de fasttext en lugar de word2vec\n",
    "\n",
    "Para tener información sobre los modelos pre-entrenados disponibles, visita la siguiente web.\n",
    "\n",
    "https://fasttext.cc/docs/en/crawl-vectors.html\n",
    "\n",
    "Con la librería de Python `fasttext` podrás descargarlos de forma sencilla.\n",
    "\n",
    "**Imprime las métricas DCG@K y Hits@K al igual que en los modelos anteriores**"
   ]
  },
  {
   "cell_type": "code",
   "execution_count": 25,
   "metadata": {
    "ExecuteTime": {
     "end_time": "2021-10-27T07:43:28.473760Z",
     "start_time": "2021-10-27T07:42:49.009774Z"
    }
   },
   "outputs": [
    {
     "name": "stdout",
     "output_type": "stream",
     "text": [
      "Requirement already satisfied: fasttext in c:\\users\\jpas\\anaconda3\\envs\\mioti_v2\\lib\\site-packages (0.9.2)\n",
      "Requirement already satisfied: numpy in c:\\users\\jpas\\anaconda3\\envs\\mioti_v2\\lib\\site-packages (from fasttext) (1.19.5)\n",
      "Requirement already satisfied: setuptools>=0.7.0 in c:\\users\\jpas\\anaconda3\\envs\\mioti_v2\\lib\\site-packages (from fasttext) (49.6.0.post20210108)\n",
      "Requirement already satisfied: pybind11>=2.2 in c:\\users\\jpas\\anaconda3\\envs\\mioti_v2\\lib\\site-packages (from fasttext) (2.8.0)\n"
     ]
    },
    {
     "name": "stderr",
     "output_type": "stream",
     "text": [
      "WARNING: You are using pip version 21.2.4; however, version 21.3.1 is available.\n",
      "You should consider upgrading via the 'C:\\Users\\JPAS\\Anaconda3\\envs\\mioti_v2\\python.exe -m pip install --upgrade pip' command.\n"
     ]
    },
    {
     "name": "stdout",
     "output_type": "stream",
     "text": [
      "Requirement already satisfied: fasttext in c:\\users\\jpas\\anaconda3\\envs\\mioti_v2\\lib\\site-packages (0.9.2)\n",
      "Requirement already satisfied: setuptools>=0.7.0 in c:\\users\\jpas\\anaconda3\\envs\\mioti_v2\\lib\\site-packages (from fasttext) (49.6.0.post20210108)\n",
      "Requirement already satisfied: numpy in c:\\users\\jpas\\anaconda3\\envs\\mioti_v2\\lib\\site-packages (from fasttext) (1.19.5)\n",
      "Requirement already satisfied: pybind11>=2.2 in c:\\users\\jpas\\anaconda3\\envs\\mioti_v2\\lib\\site-packages (from fasttext) (2.8.0)\n"
     ]
    },
    {
     "name": "stderr",
     "output_type": "stream",
     "text": [
      "WARNING: You are using pip version 21.2.4; however, version 21.3.1 is available.\n",
      "You should consider upgrading via the 'C:\\Users\\JPAS\\Anaconda3\\envs\\mioti_v2\\python.exe -m pip install --upgrade pip' command.\n"
     ]
    },
    {
     "name": "stdout",
     "output_type": "stream",
     "text": [
      "Requirement already satisfied: fasttext in c:\\users\\jpas\\anaconda3\\envs\\mioti_v2\\lib\\site-packages (0.9.2)\n",
      "Requirement already satisfied: pybind11>=2.2 in c:\\users\\jpas\\anaconda3\\envs\\mioti_v2\\lib\\site-packages (from fasttext) (2.8.0)\n",
      "Requirement already satisfied: setuptools>=0.7.0 in c:\\users\\jpas\\anaconda3\\envs\\mioti_v2\\lib\\site-packages (from fasttext) (49.6.0.post20210108)\n",
      "Requirement already satisfied: numpy in c:\\users\\jpas\\anaconda3\\envs\\mioti_v2\\lib\\site-packages (from fasttext) (1.19.5)\n"
     ]
    },
    {
     "name": "stderr",
     "output_type": "stream",
     "text": [
      "WARNING: You are using pip version 21.2.4; however, version 21.3.1 is available.\n",
      "You should consider upgrading via the 'C:\\Users\\JPAS\\Anaconda3\\envs\\mioti_v2\\python.exe -m pip install --upgrade pip' command.\n"
     ]
    },
    {
     "name": "stdout",
     "output_type": "stream",
     "text": [
      "Requirement already satisfied: fasttext in c:\\users\\jpas\\anaconda3\\envs\\mioti_v2\\lib\\site-packages (0.9.2)\n",
      "Requirement already satisfied: numpy in c:\\users\\jpas\\anaconda3\\envs\\mioti_v2\\lib\\site-packages (from fasttext) (1.19.5)\n",
      "Requirement already satisfied: setuptools>=0.7.0 in c:\\users\\jpas\\anaconda3\\envs\\mioti_v2\\lib\\site-packages (from fasttext) (49.6.0.post20210108)\n",
      "Requirement already satisfied: pybind11>=2.2 in c:\\users\\jpas\\anaconda3\\envs\\mioti_v2\\lib\\site-packages (from fasttext) (2.8.0)\n"
     ]
    },
    {
     "name": "stderr",
     "output_type": "stream",
     "text": [
      "WARNING: You are using pip version 21.2.4; however, version 21.3.1 is available.\n",
      "You should consider upgrading via the 'C:\\Users\\JPAS\\Anaconda3\\envs\\mioti_v2\\python.exe -m pip install --upgrade pip' command.\n"
     ]
    },
    {
     "name": "stdout",
     "output_type": "stream",
     "text": [
      "Requirement already satisfied: fasttext in c:\\users\\jpas\\anaconda3\\envs\\mioti_v2\\lib\\site-packages (0.9.2)\n",
      "Requirement already satisfied: numpy in c:\\users\\jpas\\anaconda3\\envs\\mioti_v2\\lib\\site-packages (from fasttext) (1.19.5)\n",
      "Requirement already satisfied: setuptools>=0.7.0 in c:\\users\\jpas\\anaconda3\\envs\\mioti_v2\\lib\\site-packages (from fasttext) (49.6.0.post20210108)\n",
      "Requirement already satisfied: pybind11>=2.2 in c:\\users\\jpas\\anaconda3\\envs\\mioti_v2\\lib\\site-packages (from fasttext) (2.8.0)\n"
     ]
    },
    {
     "name": "stderr",
     "output_type": "stream",
     "text": [
      "WARNING: You are using pip version 21.2.4; however, version 21.3.1 is available.\n",
      "You should consider upgrading via the 'C:\\Users\\JPAS\\Anaconda3\\envs\\mioti_v2\\python.exe -m pip install --upgrade pip' command.\n"
     ]
    },
    {
     "name": "stdout",
     "output_type": "stream",
     "text": [
      "Requirement already satisfied: fasttext in c:\\users\\jpas\\anaconda3\\envs\\mioti_v2\\lib\\site-packages (0.9.2)\n",
      "Requirement already satisfied: numpy in c:\\users\\jpas\\anaconda3\\envs\\mioti_v2\\lib\\site-packages (from fasttext) (1.19.5)\n",
      "Requirement already satisfied: pybind11>=2.2 in c:\\users\\jpas\\anaconda3\\envs\\mioti_v2\\lib\\site-packages (from fasttext) (2.8.0)\n",
      "Requirement already satisfied: setuptools>=0.7.0 in c:\\users\\jpas\\anaconda3\\envs\\mioti_v2\\lib\\site-packages (from fasttext) (49.6.0.post20210108)\n"
     ]
    },
    {
     "name": "stderr",
     "output_type": "stream",
     "text": [
      "WARNING: You are using pip version 21.2.4; however, version 21.3.1 is available.\n",
      "You should consider upgrading via the 'C:\\Users\\JPAS\\Anaconda3\\envs\\mioti_v2\\python.exe -m pip install --upgrade pip' command.\n"
     ]
    },
    {
     "name": "stdout",
     "output_type": "stream",
     "text": [
      "Requirement already satisfied: fasttext in c:\\users\\jpas\\anaconda3\\envs\\mioti_v2\\lib\\site-packages (0.9.2)\n",
      "Requirement already satisfied: pybind11>=2.2 in c:\\users\\jpas\\anaconda3\\envs\\mioti_v2\\lib\\site-packages (from fasttext) (2.8.0)\n",
      "Requirement already satisfied: setuptools>=0.7.0 in c:\\users\\jpas\\anaconda3\\envs\\mioti_v2\\lib\\site-packages (from fasttext) (49.6.0.post20210108)\n",
      "Requirement already satisfied: numpy in c:\\users\\jpas\\anaconda3\\envs\\mioti_v2\\lib\\site-packages (from fasttext) (1.19.5)\n"
     ]
    },
    {
     "name": "stderr",
     "output_type": "stream",
     "text": [
      "WARNING: You are using pip version 21.2.4; however, version 21.3.1 is available.\n",
      "You should consider upgrading via the 'C:\\Users\\JPAS\\Anaconda3\\envs\\mioti_v2\\python.exe -m pip install --upgrade pip' command.\n"
     ]
    },
    {
     "name": "stdout",
     "output_type": "stream",
     "text": [
      "Requirement already satisfied: fasttext in c:\\users\\jpas\\anaconda3\\envs\\mioti_v2\\lib\\site-packages (0.9.2)\n",
      "Requirement already satisfied: numpy in c:\\users\\jpas\\anaconda3\\envs\\mioti_v2\\lib\\site-packages (from fasttext) (1.19.5)\n",
      "Requirement already satisfied: pybind11>=2.2 in c:\\users\\jpas\\anaconda3\\envs\\mioti_v2\\lib\\site-packages (from fasttext) (2.8.0)\n",
      "Requirement already satisfied: setuptools>=0.7.0 in c:\\users\\jpas\\anaconda3\\envs\\mioti_v2\\lib\\site-packages (from fasttext) (49.6.0.post20210108)\n",
      "4.81 s ± 40.3 ms per loop (mean ± std. dev. of 7 runs, 1 loop each)\n"
     ]
    },
    {
     "name": "stderr",
     "output_type": "stream",
     "text": [
      "WARNING: You are using pip version 21.2.4; however, version 21.3.1 is available.\n",
      "You should consider upgrading via the 'C:\\Users\\JPAS\\Anaconda3\\envs\\mioti_v2\\python.exe -m pip install --upgrade pip' command.\n"
     ]
    }
   ],
   "source": [
    "%%timeit\n",
    "# descargamos un modelo, lleva bastante tiempo\n",
    "# url = \"https://dl.fbaipublicfiles.com/fasttext/vectors-crawl/cc.en.300.bin.gz\"\n",
    "import sys\n",
    "!{sys.executable} -m pip install fasttext\n",
    "\n",
    "import fasttext\n",
    "import fasttext.util\n",
    "fasttext.util.download_model('en', if_exists='ignore')  # English"
   ]
  },
  {
   "cell_type": "code",
   "execution_count": 26,
   "metadata": {
    "ExecuteTime": {
     "end_time": "2021-10-27T07:56:08.449816Z",
     "start_time": "2021-10-27T07:43:28.478760Z"
    }
   },
   "outputs": [],
   "source": [
    "# cargamos el modelo tipo fasttext en gensim\n",
    "# la ventaja de cargar el modelo y no los vectores es que tenemos OOV (out-of-vocabulary) vectors\n",
    "ft_model = gensim.models.fasttext.load_facebook_model('cc.en.300.bin.gz')\n",
    "ft_embeddings = ft_model.wv"
   ]
  },
  {
   "cell_type": "code",
   "execution_count": 27,
   "metadata": {
    "ExecuteTime": {
     "end_time": "2021-10-27T07:56:08.830227Z",
     "start_time": "2021-10-27T07:56:08.555743Z"
    }
   },
   "outputs": [
    {
     "data": {
      "text/plain": [
       "array([-4.86496761e-02, -4.55158651e-02, -9.72260237e-02,  4.03840579e-02,\n",
       "       -3.90644334e-02, -7.71286935e-02,  8.89645442e-02,  3.61033492e-02,\n",
       "        1.11490022e-03, -8.33936967e-04, -7.75447115e-03,  9.72571597e-02,\n",
       "       -1.11513743e-02, -1.02696680e-02, -5.11458106e-02,  1.87770724e-02,\n",
       "       -1.34799145e-02, -8.55755731e-02, -3.66249420e-02,  2.39651948e-02,\n",
       "        3.84481214e-02,  2.85097957e-03, -1.21261068e-02,  4.35700491e-02,\n",
       "       -7.63629824e-02, -2.72414945e-02,  9.94105823e-03, -4.59332839e-02,\n",
       "       -5.97596243e-02,  5.27391434e-02, -1.35981468e-02, -8.02709684e-02,\n",
       "        2.62324177e-02, -6.37386590e-02,  5.42014651e-03, -7.44198859e-02,\n",
       "       -5.91174401e-02,  6.13477156e-02,  2.42813528e-02, -2.03960761e-02,\n",
       "       -7.01110363e-02, -3.63789126e-03, -3.30209360e-02, -8.02930072e-03,\n",
       "       -7.72294253e-02, -2.17669457e-02, -1.08852968e-01, -6.58725128e-02,\n",
       "        3.80129702e-02,  1.28018633e-02,  1.88515075e-02,  1.51783484e-03,\n",
       "        2.71031242e-02, -4.76562567e-02, -9.73351523e-02, -3.28829326e-02,\n",
       "       -2.11376045e-02, -4.40855995e-02, -3.90420109e-02,  3.38733308e-02,\n",
       "        1.51374340e-02, -2.35124119e-02, -8.47934186e-02,  3.19307409e-02,\n",
       "        4.35603186e-02, -4.86260280e-03,  5.01185395e-02, -1.35231558e-02,\n",
       "        2.44827999e-04,  4.77042906e-02,  2.70297173e-02,  1.95787977e-02,\n",
       "       -6.21075928e-02,  2.27185413e-02, -4.70088013e-02, -1.05035469e-01,\n",
       "       -1.51685234e-02,  6.48447722e-02,  5.53376228e-03,  4.47919220e-02,\n",
       "        5.15931174e-02,  2.19028406e-02, -5.21950759e-02,  1.17783351e-02,\n",
       "       -1.84068885e-02,  1.11940922e-02,  1.60989724e-02, -6.17443211e-02,\n",
       "        2.97054555e-03,  1.90145373e-02, -3.96616459e-02, -2.59540211e-02,\n",
       "        1.31082945e-02,  2.55939588e-02,  1.25255324e-02, -1.34264883e-02,\n",
       "        1.58360638e-02, -3.00008822e-02,  1.24572534e-02,  6.94502294e-02,\n",
       "        5.72434515e-02, -1.02314979e-01,  6.81642070e-02, -7.95529038e-02,\n",
       "       -1.93893891e-02, -1.28892854e-01, -3.31303291e-03, -9.80245247e-02,\n",
       "        1.16409622e-02,  3.68340947e-02, -2.49781441e-02, -4.52765077e-02,\n",
       "       -7.10481778e-02,  2.42020860e-02, -1.12257069e-02, -6.96007535e-02,\n",
       "       -6.02780730e-02, -3.66897248e-02, -1.84974801e-02, -1.42194852e-02,\n",
       "       -3.99671048e-02,  2.10585296e-02, -3.75673175e-02,  2.93170009e-02,\n",
       "       -1.43942349e-02,  4.21750098e-02, -3.19830813e-02, -6.67130426e-02,\n",
       "       -9.19324458e-02,  6.96194619e-02, -2.66563781e-02,  7.89133832e-03,\n",
       "       -1.32193621e-02, -1.91870220e-02,  3.62048373e-02, -5.21368086e-02,\n",
       "        2.49874927e-02,  5.57824448e-02,  2.70299707e-02, -4.39811610e-02,\n",
       "       -5.24465889e-02,  5.82316481e-02, -7.13010430e-02, -3.96113247e-02,\n",
       "        1.38923898e-02,  3.89013216e-02, -1.69042572e-01, -5.31285219e-02,\n",
       "       -6.14634855e-03, -1.22667495e-02, -1.06585044e-02,  4.04580962e-03,\n",
       "        8.75260606e-02, -1.25558048e-01,  2.41667610e-02, -4.19283397e-02,\n",
       "        8.59617591e-02,  7.26418942e-03,  1.33487880e-02,  4.51719202e-02,\n",
       "        1.22166669e-03,  1.34103969e-02,  1.90327335e-02, -8.23694933e-03,\n",
       "        5.78299314e-02,  3.97343189e-02, -1.88921904e-03,  5.92257269e-03,\n",
       "       -5.25462255e-02, -3.97325791e-02, -8.85187984e-02,  3.56120430e-02,\n",
       "        2.68680342e-02,  6.50284439e-02, -2.51287781e-02, -8.86372663e-03,\n",
       "        4.74147052e-02, -9.02157277e-03, -8.55256710e-03, -8.48469809e-02,\n",
       "       -2.80130524e-02, -2.94926111e-02, -5.48577495e-03, -1.73844770e-03,\n",
       "        2.40741782e-02, -1.63937341e-02,  5.38452901e-02,  3.18364147e-03,\n",
       "        1.94046218e-02, -2.56685466e-02, -2.49770693e-02, -5.71252313e-03,\n",
       "       -8.79277941e-03,  1.00587323e-01,  2.05477402e-02, -1.86657906e-03,\n",
       "       -6.06665872e-02, -1.02507202e-02, -5.82119897e-02,  2.57839598e-02,\n",
       "        9.34375450e-03,  1.21945273e-02,  3.99102978e-02, -4.83534150e-02,\n",
       "        1.17283128e-02, -5.25723696e-02, -3.04939151e-02, -2.34392509e-02,\n",
       "       -2.65744645e-02, -4.51934636e-02,  6.51811287e-02, -3.63473371e-02,\n",
       "       -6.27374277e-02,  3.07935514e-02, -5.30832186e-02, -8.20281655e-02,\n",
       "        3.89687531e-02, -6.66311197e-03,  5.81667870e-02,  2.46518403e-02,\n",
       "        6.29311502e-02,  3.54712121e-02, -7.66570121e-02,  1.00379596e-02,\n",
       "       -1.72630735e-02,  3.22590992e-02,  7.72990845e-03,  3.76879163e-02,\n",
       "        1.69836581e-01, -1.02412608e-02, -1.31863039e-02,  2.08918601e-02,\n",
       "       -4.03240249e-02,  4.82402220e-02, -3.79504189e-02, -2.66197287e-02,\n",
       "        8.18073004e-03, -4.89918254e-02,  4.75893170e-02, -3.20323929e-03,\n",
       "        2.78635565e-02,  1.15869135e-01, -1.05350748e-01, -9.49228033e-02,\n",
       "        1.19083591e-01,  4.84931134e-02,  1.56361610e-02,  3.78772360e-03,\n",
       "        2.11952180e-02, -4.34891582e-02,  6.32506534e-02, -1.24311075e-04,\n",
       "        1.83659382e-02,  7.73740038e-02,  1.90749709e-02,  7.14959949e-02,\n",
       "       -3.24835069e-04, -7.37802833e-02,  1.15229655e-03, -8.53297338e-02,\n",
       "       -1.04521602e-01, -4.74640876e-02, -3.03415414e-02,  7.76306866e-03,\n",
       "       -1.54974982e-02, -3.85870300e-02,  6.82225153e-02, -1.04647569e-01,\n",
       "       -8.26979503e-02, -8.31770897e-03,  5.20488545e-02, -4.42874804e-02,\n",
       "       -6.19586781e-02,  1.75397359e-02, -7.69183040e-02, -6.61896095e-02,\n",
       "       -6.05986528e-02, -1.76169984e-02, -4.42673527e-02, -3.41944247e-02,\n",
       "        5.63239753e-02, -4.85028513e-03, -6.85157925e-02,  3.03047430e-02,\n",
       "       -8.57443362e-03,  5.49191013e-02,  9.08967778e-02,  3.43252271e-02,\n",
       "        4.41061668e-02,  4.91071939e-02, -8.32582545e-03,  6.15161061e-02,\n",
       "       -1.35173231e-01, -1.21171717e-02, -3.78410071e-02,  3.18424255e-02,\n",
       "       -3.27883586e-02,  1.11404032e-01, -9.48984548e-03,  2.78004371e-02],\n",
       "      dtype=float32)"
      ]
     },
     "execution_count": 27,
     "metadata": {},
     "output_type": "execute_result"
    }
   ],
   "source": [
    "ft_embeddings['world']"
   ]
  },
  {
   "cell_type": "code",
   "execution_count": 28,
   "metadata": {
    "ExecuteTime": {
     "end_time": "2021-10-27T07:58:50.351370Z",
     "start_time": "2021-10-27T07:56:08.846232Z"
    }
   },
   "outputs": [
    {
     "name": "stdout",
     "output_type": "stream",
     "text": [
      "DCG@   1: 0.305 | Hits@   1: 0.305\n",
      "DCG@   5: 0.369 | Hits@   5: 0.429\n",
      "DCG@  10: 0.388 | Hits@  10: 0.487\n",
      "DCG@ 100: 0.431 | Hits@ 100: 0.697\n",
      "DCG@ 500: 0.456 | Hits@ 500: 0.893\n",
      "DCG@1000: 0.468 | Hits@1000: 1.000\n"
     ]
    }
   ],
   "source": [
    "######################################\n",
    "### ESCRIBE AQUÍ TÚ CÓDIGO\n",
    "######################################\n",
    "\n",
    "from utils_05 import text_prepare\n",
    "\n",
    "prepared_test = []\n",
    "for line in test:\n",
    "    prepared_test.append([text_prepare(sentence) for sentence in line])\n",
    "    \n",
    "ft_wv_prepared_ranking = []\n",
    "for line in prepared_test:\n",
    "    q, *ex = line\n",
    "    ranks = rank_candidates(q, ex, ft_embeddings)\n",
    "    ft_wv_prepared_ranking.append([r[0] for r in ranks].index(0) + 1)\n",
    "    \n",
    "\n",
    "for k in [1, 5, 10, 100, 500, 1000]:\n",
    "    print(\"DCG@%4d: %.3f | Hits@%4d: %.3f\" % (k, dcg_score(ft_wv_prepared_ranking, k), \n",
    "                                              k, hits_count(ft_wv_prepared_ranking, k)))   "
   ]
  },
  {
   "cell_type": "markdown",
   "metadata": {},
   "source": [
    "## Extra: Entrena tu propio word-embedding con gensim y usálo para crear un algoritmo de ranking"
   ]
  },
  {
   "cell_type": "markdown",
   "metadata": {},
   "source": [
    "* El primer word-embedding que vamos a entrenar lo vamos ha hacer utilizando el libro del Quijote. Aplicaremos el tratamiento correspondiente y después probaremos un ranking con frases de las novelas ejemplares de Cervantes"
   ]
  },
  {
   "cell_type": "code",
   "execution_count": 29,
   "metadata": {
    "ExecuteTime": {
     "end_time": "2021-10-27T07:58:57.894493Z",
     "start_time": "2021-10-27T07:58:50.356264Z"
    }
   },
   "outputs": [],
   "source": [
    "import requests\n",
    "r = requests.get(\"https://www.gutenberg.org/cache/epub/2000/pg2000.txt\")\n",
    "with open(\"don_quijote.txt\", \"wb\") as f:\n",
    "    f.write(r.content)\n",
    "r.close()\n",
    "test = read_corpus('don_quijote.txt')"
   ]
  },
  {
   "cell_type": "code",
   "execution_count": 30,
   "metadata": {
    "ExecuteTime": {
     "end_time": "2021-10-27T07:58:57.910585Z",
     "start_time": "2021-10-27T07:58:57.900486Z"
    }
   },
   "outputs": [
    {
     "name": "stdout",
     "output_type": "stream",
     "text": [
      "\n",
      "\n",
      "Most people start at our Web site which has the main PG search facility:\n",
      "\n",
      "https://www.gutenberg.org\n",
      "\n",
      "This Web site includes information about Project Gutenberg-tm,\n",
      "including how to make donations to the Project Gutenberg Literary\n",
      "Archive Foundation, how to help produce our new eBooks, and how to\n",
      "subscribe to our email newsletter to hear about new eBooks.\n"
     ]
    }
   ],
   "source": [
    "for line in test[-10:]:\n",
    "    q, *examples = line\n",
    "    print(q, *examples)"
   ]
  },
  {
   "cell_type": "code",
   "execution_count": 31,
   "metadata": {
    "ExecuteTime": {
     "end_time": "2021-10-27T07:58:57.942577Z",
     "start_time": "2021-10-27T07:58:57.916583Z"
    }
   },
   "outputs": [],
   "source": [
    "import re\n",
    "from nltk.corpus import stopwords\n",
    "\n",
    "REPLACE_BY_SPACE_RE = re.compile('[/(){}\\[\\]\\|@,;]')\n",
    "GOOD_SYMBOLS_RE = re.compile('[^0-9a-z #+_]')\n",
    "STOPWORDS = set(stopwords.words('english'))\n",
    "STOPWORDS_ES = set(stopwords.words('spanish'))\n",
    "\n",
    "def text_prepare_es_en(text):\n",
    "    sentences = []\n",
    "    for sentence in text:\n",
    "            for line in sentence:\n",
    "\n",
    "                line = line.lower()\n",
    "                line = REPLACE_BY_SPACE_RE.sub(' ', line)\n",
    "                line = GOOD_SYMBOLS_RE.sub('', line)\n",
    "                line = ' '.join([x for x in line.split() if x and x not in STOPWORDS_ES])\n",
    "                line = ' '.join([x for x in line.split() if x and x not in STOPWORDS])\n",
    "                line = line.strip()\n",
    "                line = str.split(line)\n",
    "                if(len(line)>0):\n",
    "                    sentences.append(line)\n",
    "    return sentences\n"
   ]
  },
  {
   "cell_type": "code",
   "execution_count": 32,
   "metadata": {
    "ExecuteTime": {
     "end_time": "2021-10-27T07:58:58.553871Z",
     "start_time": "2021-10-27T07:58:57.947586Z"
    }
   },
   "outputs": [],
   "source": [
    "# define los datos de entrenamiento\n",
    "sentences=text_prepare_es_en(test)"
   ]
  },
  {
   "cell_type": "code",
   "execution_count": 33,
   "metadata": {
    "ExecuteTime": {
     "end_time": "2021-10-27T07:58:58.583866Z",
     "start_time": "2021-10-27T07:58:58.559858Z"
    }
   },
   "outputs": [
    {
     "data": {
      "text/plain": [
       "[['seguistes', 'yndole', 'ello', 'cuanto', 'ms', 'si', 'bien', 'caigo'],\n",
       " ['cuenta', 'libro', 'necesidad', 'ninguna', 'cosa'],\n",
       " ['aquellas', 'vos', 'decs', 'falta', 'l', 'invectiva'],\n",
       " ['libros', 'caballeras', 'nunca', 'acord', 'aristteles', 'dijo'],\n",
       " ['san', 'basilio', 'alcanz', 'cicern', 'caen', 'debajo', 'cuenta'],\n",
       " ['fabulosos', 'disparates', 'puntualidades', 'verdad', 'observaciones'],\n",
       " ['astrologa', 'importancia', 'medidas', 'geomtricas']]"
      ]
     },
     "execution_count": 33,
     "metadata": {},
     "output_type": "execute_result"
    }
   ],
   "source": [
    "sentences[250:257]"
   ]
  },
  {
   "cell_type": "code",
   "execution_count": 34,
   "metadata": {
    "ExecuteTime": {
     "end_time": "2021-10-27T07:59:03.209931Z",
     "start_time": "2021-10-27T07:58:58.588858Z"
    }
   },
   "outputs": [
    {
     "name": "stdout",
     "output_type": "stream",
     "text": [
      "Word2Vec(vocab=22765, vector_size=300, alpha=0.025)\n",
      "<gensim.models.keyedvectors.KeyedVectors object at 0x000001BDF311D460>\n",
      "Word2Vec(vocab=22765, vector_size=300, alpha=0.025)\n"
     ]
    },
    {
     "data": {
      "text/plain": [
       "array([-9.04883295e-02,  6.98136270e-01,  2.71197915e-01,  2.28709295e-01,\n",
       "        5.10908403e-02, -8.45430553e-01,  6.18608892e-01,  1.36443603e+00,\n",
       "        1.76739872e-01, -2.96765387e-01,  2.70668954e-01, -2.51963824e-01,\n",
       "        2.00709596e-01,  1.21149220e-01, -2.71378815e-01, -4.21786875e-01,\n",
       "        3.95062894e-01, -1.61175117e-01,  9.09386650e-02, -1.83225781e-01,\n",
       "       -2.60947317e-01, -2.69418340e-02,  4.80208009e-01,  2.76008010e-01,\n",
       "        4.43885803e-01,  9.66602564e-02, -6.83615923e-01,  7.32327327e-02,\n",
       "       -3.17467421e-01, -5.44813991e-01,  1.38510853e-01, -4.00048792e-01,\n",
       "        5.40683120e-02, -2.56613225e-01, -9.21578184e-02,  2.47084230e-01,\n",
       "        8.23650286e-02, -4.28261578e-01, -2.36538872e-01, -1.10327065e-01,\n",
       "       -5.07121205e-01,  6.73128515e-02,  1.30832255e-01, -3.44049931e-01,\n",
       "        3.00084531e-01,  3.83489549e-01,  9.80851799e-02,  1.13953762e-01,\n",
       "       -2.81675637e-01,  5.65839648e-01,  1.42017901e-01, -2.50716005e-02,\n",
       "       -4.62955475e-01,  2.15251535e-01, -1.22059211e-01,  5.24739087e-01,\n",
       "        1.67715624e-01,  6.95410073e-02,  4.24820057e-04, -6.15677498e-02,\n",
       "       -3.20700377e-01, -1.58831477e-01,  1.32287949e-01,  4.55757454e-02,\n",
       "       -6.94507584e-02,  2.75406450e-01, -7.20658898e-03,  2.78941035e-01,\n",
       "       -4.49677795e-01, -2.19988346e-01,  1.60943508e-01,  4.31877017e-01,\n",
       "        6.37303054e-01, -4.89788920e-01, -1.35583267e-01, -7.09649846e-02,\n",
       "       -6.05872810e-01,  3.80456261e-02, -2.17706740e-01,  4.06836301e-01,\n",
       "       -3.21299583e-01, -5.75345278e-01,  6.17210977e-02,  9.83444870e-01,\n",
       "        3.95338267e-01, -1.35911018e-01, -1.71546623e-01,  1.29602522e-01,\n",
       "        4.44158524e-01,  1.27364293e-01,  5.40236652e-01, -4.90636319e-01,\n",
       "        4.96492893e-01, -3.70109528e-02,  6.06045246e-01,  4.40943539e-01,\n",
       "        5.94527662e-01, -2.93615222e-01, -4.23831493e-01,  3.21911693e-01,\n",
       "       -6.82432130e-02, -3.31428796e-02,  3.79828274e-01,  7.58193880e-02,\n",
       "        9.66679752e-02, -4.37619299e-01,  3.83709259e-02,  2.81670481e-01,\n",
       "       -3.91173065e-01,  6.24028370e-02, -8.00765932e-01, -3.09107691e-01,\n",
       "       -1.29487842e-01,  6.69830680e-01,  3.02230686e-01,  3.90087247e-01,\n",
       "       -1.25114098e-01, -5.13099022e-02,  7.47574270e-01, -8.18355858e-01,\n",
       "        4.87976134e-01,  2.47538775e-01,  6.03328288e-01,  7.08195940e-02,\n",
       "       -2.13928849e-01,  4.57359225e-01, -6.06031306e-02, -4.00583506e-01,\n",
       "       -8.38380679e-03,  2.86270410e-01,  3.40290785e-01,  5.37095308e-01,\n",
       "        2.07087919e-01, -6.21678174e-01,  3.65147889e-01,  4.51253861e-01,\n",
       "       -2.98690826e-01, -3.66860539e-01, -6.05571628e-01, -5.07225335e-01,\n",
       "        2.56369978e-01, -6.09329402e-01, -2.84806252e-01,  4.99441057e-01,\n",
       "        4.57827747e-01, -1.69323385e-01, -8.16892207e-01, -8.23057592e-02,\n",
       "        4.58006442e-01, -3.76396924e-01,  1.82684988e-01, -8.59032989e-01,\n",
       "       -4.21983033e-01, -2.90494829e-01,  6.85601979e-02,  4.23869431e-01,\n",
       "       -5.52407444e-01, -2.51905203e-01, -1.84379071e-01,  5.67645609e-01,\n",
       "        7.95735046e-02,  2.51455337e-01, -7.88340449e-01,  6.56537592e-01,\n",
       "       -2.49462128e-01,  2.31180027e-01,  1.29955888e-01, -1.25648052e-01,\n",
       "        2.14756429e-01,  1.04718316e+00, -1.51899651e-01, -7.53219873e-02,\n",
       "        2.71733403e-01,  2.70356178e-01, -1.77593529e-01,  1.13842480e-01,\n",
       "       -1.07774220e-01, -2.73954779e-01,  6.63296843e-04, -1.19981766e-01,\n",
       "       -4.72234637e-01,  4.36155826e-01, -4.17330801e-01, -5.46334803e-01,\n",
       "       -2.26716742e-01, -4.65689041e-02,  7.68631935e-01,  5.84161162e-01,\n",
       "        4.07270104e-01, -6.97546542e-01,  1.63042143e-01,  4.60801199e-02,\n",
       "       -5.24007678e-01, -5.20508289e-02,  2.01083571e-01, -4.67070967e-01,\n",
       "        1.80099249e-01, -5.18954456e-01,  1.70368060e-01,  8.55044369e-03,\n",
       "       -3.90141517e-01,  2.01974332e-01, -3.87948491e-02, -3.33491653e-01,\n",
       "        1.92952350e-01, -2.35555172e-02, -1.03659272e-01,  3.24956983e-01,\n",
       "        9.36315209e-02, -2.95801640e-01,  8.10783803e-02, -4.51644123e-01,\n",
       "       -3.61302972e-01, -2.73286492e-01,  5.05275428e-01, -5.97703576e-01,\n",
       "       -3.39971155e-01, -9.89041567e-01, -6.83032155e-01, -4.46483850e-01,\n",
       "        3.81169826e-01, -3.28687429e-02, -2.06228331e-01, -4.39750999e-01,\n",
       "       -3.10349584e-01, -4.80402291e-01,  1.52670890e-01,  5.74791692e-02,\n",
       "       -3.80890578e-01,  1.64402083e-01,  5.15745223e-01, -2.50011772e-01,\n",
       "       -1.95100620e-01,  2.70816028e-01, -3.19970816e-01,  2.05458298e-01,\n",
       "        1.28147304e-01,  3.10578167e-01, -2.96487361e-02, -9.88549352e-01,\n",
       "        3.00674260e-01, -2.09537774e-01, -3.60957056e-01,  2.89099179e-02,\n",
       "       -5.87968454e-02, -5.67553163e-01,  8.52694511e-02,  9.44154784e-02,\n",
       "        6.86739758e-02,  2.95621157e-01,  3.22491139e-01,  1.10367253e-01,\n",
       "        3.47392321e-01, -5.52569181e-02, -7.65128553e-01, -2.83221573e-01,\n",
       "        8.90546203e-01,  1.24629714e-01, -1.09491086e+00, -4.34298545e-01,\n",
       "        3.85014027e-01,  2.76125282e-01,  1.96274355e-01, -7.63268113e-01,\n",
       "       -3.60699952e-01,  2.01678023e-01,  2.51076490e-01,  4.18100685e-01,\n",
       "       -7.15777099e-01,  1.07748635e-01, -6.82214424e-02, -4.50445525e-02,\n",
       "       -4.45326138e-03, -3.22399646e-01,  6.22058928e-01,  1.55892953e-01,\n",
       "        1.87893435e-01,  2.14560241e-01, -4.54055369e-01, -1.52885497e-01,\n",
       "        5.33722401e-01, -1.94897667e-01, -2.71922827e-01,  2.19308078e-01,\n",
       "       -9.89445001e-02, -1.56416237e-01, -7.42653668e-01,  4.31337923e-01,\n",
       "        2.99131069e-02,  6.11579895e-01,  5.33310473e-02,  7.88397312e-01,\n",
       "        4.90271181e-01,  5.75207025e-02,  6.10349178e-01,  6.93385839e-01,\n",
       "       -8.81499797e-02, -2.15424672e-01,  2.91943103e-01, -2.69550443e-01],\n",
       "      dtype=float32)"
      ]
     },
     "execution_count": 34,
     "metadata": {},
     "output_type": "execute_result"
    }
   ],
   "source": [
    "from gensim.models import Word2Vec\n",
    "\n",
    "# entrenamiento modelo\n",
    "model = Word2Vec(sentences, min_count=1,vector_size=300)\n",
    "# summarize el modelo cargado\n",
    "print(model)\n",
    "# summarize vocabulario\n",
    "print(model.wv)\n",
    "#salvamos el modelo    \n",
    "model.save('my_model.bin')\n",
    "\n",
    "# cargamos el modelo\n",
    "new_model = Word2Vec.load('my_model.bin')\n",
    "my_wv_embeddings = new_model.wv\n",
    "print(new_model)\n",
    "my_wv_embeddings['sancho']"
   ]
  },
  {
   "cell_type": "code",
   "execution_count": 35,
   "metadata": {
    "ExecuteTime": {
     "end_time": "2021-10-27T07:59:03.224953Z",
     "start_time": "2021-10-27T07:59:03.214927Z"
    }
   },
   "outputs": [],
   "source": [
    "#Se definen los candidatos\n",
    "\n",
    "question='Confía en el tiempo, que suele dar dulces salidas a muchas amargas dificultades'\n",
    "candidates=['Nunca el consejo del pobre, por bueno que sea, es admitido','Yo no soy bueno para palacio, porque tengo vergüenza y no sé lisonjear',\n",
    "           'En la lengua consisten los mayores daños de la vida humana','Las honestas palabras dan indicio de la honestidad del que las pronuncia o las escribe',\n",
    "           'Cuando supe tu desgracia, me pesó en el alma, y se aseguró mi pecho, que estaba sobresaltado','Aún entre los demonios hay unos peores que otros, y entre muchos malos hombres suele haber alguno bueno']"
   ]
  },
  {
   "cell_type": "code",
   "execution_count": 36,
   "metadata": {
    "ExecuteTime": {
     "end_time": "2021-10-27T07:59:03.256932Z",
     "start_time": "2021-10-27T07:59:03.229932Z"
    }
   },
   "outputs": [
    {
     "data": {
      "text/plain": [
       "[(3,\n",
       "  'Las honestas palabras dan indicio de la honestidad del que las pronuncia o las escribe'),\n",
       " (5,\n",
       "  'Aún entre los demonios hay unos peores que otros, y entre muchos malos hombres suele haber alguno bueno'),\n",
       " (2, 'En la lengua consisten los mayores daños de la vida humana'),\n",
       " (0, 'Nunca el consejo del pobre, por bueno que sea, es admitido'),\n",
       " (1, 'Yo no soy bueno para palacio, porque tengo vergüenza y no sé lisonjear'),\n",
       " (4,\n",
       "  'Cuando supe tu desgracia, me pesó en el alma, y se aseguró mi pecho, que estaba sobresaltado')]"
      ]
     },
     "execution_count": 36,
     "metadata": {},
     "output_type": "execute_result"
    }
   ],
   "source": [
    "#Se imprimen los ranking de la frase y la pregunta\n",
    "rank_candidates(question, candidates, my_wv_embeddings)"
   ]
  },
  {
   "cell_type": "code",
   "execution_count": 41,
   "metadata": {
    "ExecuteTime": {
     "end_time": "2021-10-27T08:00:44.763632Z",
     "start_time": "2021-10-27T08:00:44.715659Z"
    }
   },
   "outputs": [
    {
     "name": "stdout",
     "output_type": "stream",
     "text": [
      "DCG@   1: 0.000 | Hits@   1: 0.000\n",
      "DCG@   5: 0.000 | Hits@   5: 0.000\n",
      "DCG@  10: 0.000 | Hits@  10: 0.000\n",
      "DCG@ 100: 0.136 | Hits@ 100: 0.833\n",
      "DCG@ 500: 0.161 | Hits@ 500: 1.000\n",
      "DCG@1000: 0.161 | Hits@1000: 1.000\n"
     ]
    }
   ],
   "source": [
    "#Se imprimen las métricas DCG@K y Hits@K\n",
    "from utils_05 import text_prepare\n",
    "\n",
    "prepared_test = []\n",
    "for line in candidates:\n",
    "    prepared_test.append([text_prepare(sentence) for sentence in line])\n",
    "    \n",
    "my_wv_prepared_ranking = []\n",
    "for line in prepared_test:\n",
    "    q, *ex = line\n",
    "    ranks = rank_candidates(q, ex, my_wv_embeddings)\n",
    "    my_wv_prepared_ranking.append([r[0] for r in ranks].index(0) + 1)\n",
    "    \n",
    "\n",
    "for k in [1, 5, 10, 100, 500, 1000]:\n",
    "    print(\"DCG@%4d: %.3f | Hits@%4d: %.3f\" % (k, dcg_score(my_wv_prepared_ranking, k), \n",
    "                                              k, hits_count(my_wv_prepared_ranking, k)))   "
   ]
  },
  {
   "cell_type": "markdown",
   "metadata": {},
   "source": [
    "* En segundo lugar vamos a entrenar un word-embedding con una página de wikipedia sobre inteligencia artificial. Para ello primero tenemos que tener instaladas unas librerías para realizar correctamente la captura de internet"
   ]
  },
  {
   "cell_type": "code",
   "execution_count": 42,
   "metadata": {
    "ExecuteTime": {
     "end_time": "2021-10-27T08:01:06.741176Z",
     "start_time": "2021-10-27T08:01:06.731859Z"
    }
   },
   "outputs": [],
   "source": [
    "#Instalación de librerías\n",
    "\n",
    "# !pip install beautifulsoup4\n",
    "# !pip install lxml"
   ]
  },
  {
   "cell_type": "code",
   "execution_count": 43,
   "metadata": {
    "ExecuteTime": {
     "end_time": "2021-10-27T08:01:09.225460Z",
     "start_time": "2021-10-27T08:01:08.848805Z"
    }
   },
   "outputs": [],
   "source": [
    "#Se importan las librerías\n",
    "\n",
    "import bs4 as bs\n",
    "import urllib.request"
   ]
  },
  {
   "cell_type": "code",
   "execution_count": 44,
   "metadata": {
    "ExecuteTime": {
     "end_time": "2021-10-27T08:01:16.883283Z",
     "start_time": "2021-10-27T08:01:15.561055Z"
    }
   },
   "outputs": [],
   "source": [
    "#Se obtiene el texto de la página de wikipedia\n",
    "\n",
    "scrapped_data = urllib.request.urlopen('https://en.wikipedia.org/wiki/Artificial_intelligence')\n",
    "article = scrapped_data .read()\n",
    "\n",
    "parsed_article = bs.BeautifulSoup(article,'lxml')\n",
    "\n",
    "paragraphs = parsed_article.find_all('p')\n",
    "\n",
    "articulo = \"\"\n",
    "\n",
    "for p in paragraphs:\n",
    "    articulo += p.text"
   ]
  },
  {
   "cell_type": "code",
   "execution_count": 45,
   "metadata": {
    "ExecuteTime": {
     "end_time": "2021-10-27T08:01:21.245908Z",
     "start_time": "2021-10-27T08:01:16.888289Z"
    }
   },
   "outputs": [],
   "source": [
    "#Pasamos al preprocesamiento del texto\n",
    "\n",
    "articulo_min = articulo.lower()\n",
    "articulo_regex = re.sub('[^a-zA-Z]', ' ', articulo_min )\n",
    "articulo_regex = re.sub(r's+', ' ', articulo_regex)\n",
    "\n",
    "#tokenización\n",
    "\n",
    "articulo_frases=nltk.sent_tokenize(articulo_regex)\n",
    "articulo_palabras = [nltk.word_tokenize(frase) for frase in articulo_frases]\n",
    "\n",
    "#Eliminación de stopwords\n",
    "\n",
    "for i in range(len(articulo_palabras)):\n",
    "    articulo_palabras[i] = [w for w in articulo_palabras[i] if w not in stopwords.words('english')]"
   ]
  },
  {
   "cell_type": "code",
   "execution_count": 46,
   "metadata": {
    "ExecuteTime": {
     "end_time": "2021-10-27T08:01:21.548137Z",
     "start_time": "2021-10-27T08:01:21.251913Z"
    }
   },
   "outputs": [
    {
     "name": "stdout",
     "output_type": "stream",
     "text": [
      "Word2Vec(vocab=1737, vector_size=300, alpha=0.025)\n"
     ]
    }
   ],
   "source": [
    "#Se entrena el modelo\n",
    "\n",
    "model=Word2Vec(articulo_palabras,min_count=1,vector_size=300)\n",
    "print(model)"
   ]
  },
  {
   "cell_type": "code",
   "execution_count": 47,
   "metadata": {
    "ExecuteTime": {
     "end_time": "2021-10-27T08:01:21.579802Z",
     "start_time": "2021-10-27T08:01:21.554145Z"
    }
   },
   "outputs": [
    {
     "data": {
      "text/plain": [
       "array([-1.7147678e-03, -8.4864514e-05, -2.3740393e-03,  3.6334898e-03,\n",
       "       -3.9545275e-04, -4.4211429e-03,  2.5741529e-04,  5.8221230e-03,\n",
       "        6.1479048e-05, -2.2252637e-03,  5.7122915e-04, -2.6932163e-03,\n",
       "       -2.0240669e-04,  4.5642816e-04, -2.4866257e-03,  1.2474941e-03,\n",
       "        2.6945374e-03, -3.8034604e-03,  2.4679652e-03, -3.0559527e-03,\n",
       "       -1.2827468e-03,  1.5120611e-03, -1.8172583e-04, -1.9035680e-04,\n",
       "        4.3028640e-03, -1.2814786e-03, -4.9921996e-03,  2.7034350e-03,\n",
       "       -1.8261098e-03, -2.9813736e-03,  3.6321583e-03,  7.7805447e-04,\n",
       "        1.0148692e-03,  2.6778437e-03, -3.1795900e-03,  2.4634872e-03,\n",
       "        1.5754655e-03, -5.6849082e-04,  8.5842394e-04,  1.0505862e-03,\n",
       "        8.0099783e-04,  2.1635678e-03, -1.3639734e-03, -3.3757936e-03,\n",
       "        8.6707430e-04,  2.9361870e-03, -3.4430466e-04,  2.4327433e-03,\n",
       "        9.1209513e-04,  3.7630496e-03,  7.9355808e-04,  2.8716193e-03,\n",
       "       -1.7108674e-03,  3.6309729e-03,  4.4061005e-04, -4.7684161e-04,\n",
       "       -2.2678157e-04, -8.8355684e-04,  2.0744102e-03, -5.7880074e-04,\n",
       "       -1.8701757e-03,  2.0488035e-03,  2.8980095e-03,  2.7678529e-04,\n",
       "       -1.2817716e-03, -8.6458505e-04, -1.7347176e-03, -3.2285335e-03,\n",
       "       -3.9306638e-04, -2.1142862e-03,  8.1925304e-04,  3.1149511e-03,\n",
       "        1.5124147e-04, -4.7306535e-03,  9.1501075e-05, -1.3153740e-03,\n",
       "       -1.4907144e-03, -1.2214615e-03,  2.1682687e-03,  1.9784046e-03,\n",
       "        8.8570841e-06, -3.0674019e-03, -2.1490685e-04,  5.6682704e-03,\n",
       "        8.2773931e-04, -2.2248791e-03, -4.3582735e-03,  5.5229722e-04,\n",
       "        4.3767183e-03,  2.7698642e-03, -8.0396351e-04,  8.8930398e-04,\n",
       "        2.2920752e-03,  2.9411584e-03,  5.0111073e-03, -4.5404534e-04,\n",
       "       -1.3355534e-03,  1.0449818e-03,  1.4849864e-03,  2.9251082e-03,\n",
       "        1.9272789e-03, -4.6249951e-04,  4.3027289e-03, -3.0737959e-03,\n",
       "       -2.3953107e-03, -3.0424611e-03, -1.6560565e-03,  1.5111982e-03,\n",
       "       -3.0892754e-03, -2.2784094e-03,  5.3481467e-04, -2.6525166e-03,\n",
       "        2.7685601e-03, -1.8929198e-04,  2.4148037e-03,  2.6951979e-03,\n",
       "       -1.7122073e-04, -1.2046432e-03,  3.2734545e-03, -4.9761734e-03,\n",
       "        5.3968321e-04,  2.3330108e-04,  3.7809249e-03, -6.1096944e-04,\n",
       "       -3.6396678e-03,  2.3874447e-03,  9.0909231e-04, -3.0697768e-03,\n",
       "        2.0792573e-03,  1.7570602e-03, -3.4085344e-04,  2.5168818e-03,\n",
       "        3.6979353e-03,  9.5282588e-04,  3.2871671e-03,  2.4753960e-03,\n",
       "        2.2964674e-04, -2.3438863e-03, -3.8350082e-03, -2.3180691e-03,\n",
       "        2.1302667e-05, -2.2180001e-03, -2.1246700e-03,  3.7132038e-03,\n",
       "       -1.1277759e-03, -3.5657340e-03, -3.8054867e-03, -1.3685401e-03,\n",
       "       -1.2157673e-03, -7.7471428e-04, -1.7492566e-03, -3.4980921e-03,\n",
       "       -3.7333735e-03, -4.1121541e-04,  1.0823256e-03,  1.0104812e-03,\n",
       "       -3.4102136e-03, -1.9524306e-03,  1.8672368e-03,  3.0886361e-03,\n",
       "       -2.7650658e-03, -2.5576413e-05, -1.7882192e-03,  2.6714094e-03,\n",
       "       -4.8284405e-03,  1.9917320e-03, -2.5393190e-03, -2.9535207e-03,\n",
       "        1.2998737e-03,  2.4036970e-03,  6.9670839e-04,  3.5961440e-03,\n",
       "        1.7060365e-05,  4.2096288e-03,  1.6915496e-04,  4.0388848e-03,\n",
       "        2.2935534e-03, -4.6113566e-03, -9.3343720e-04,  2.0818668e-03,\n",
       "        7.1759720e-04,  3.7700452e-03,  7.8208593e-04,  2.0313256e-03,\n",
       "       -3.6632174e-03,  2.2589513e-03,  2.4207888e-04,  2.8683294e-03,\n",
       "        2.9624123e-03, -2.7330322e-04,  2.4752615e-03,  1.9607649e-04,\n",
       "       -2.4514657e-03,  2.1946582e-03, -1.3989005e-03, -1.4271506e-03,\n",
       "        3.1167886e-03, -3.4807231e-03,  2.6913052e-03, -2.3853902e-03,\n",
       "        1.9243284e-03,  3.2339243e-03,  3.8727489e-04,  1.7551203e-04,\n",
       "        4.4559140e-04, -2.6009802e-03, -1.2385329e-03,  3.0029409e-03,\n",
       "       -1.5104798e-03, -1.6247144e-03,  1.8893125e-03, -5.1128783e-04,\n",
       "       -1.6864374e-03, -1.3528694e-03,  3.3672000e-03, -3.7365279e-03,\n",
       "       -2.4981459e-03, -5.7838666e-03, -4.0321113e-03, -4.3340600e-03,\n",
       "       -9.0266767e-05, -2.6997402e-03,  1.6256869e-06, -3.4796833e-03,\n",
       "       -4.1559846e-03, -3.2927482e-03, -2.2695791e-03,  1.9241307e-03,\n",
       "       -4.2163351e-04,  8.1723428e-04,  6.6956843e-04, -3.0170253e-03,\n",
       "       -1.3827085e-03,  1.5506250e-03, -1.4302482e-04,  1.0903860e-03,\n",
       "        3.1162947e-04,  4.7306906e-04, -2.4960905e-03, -5.2081835e-03,\n",
       "       -2.5903117e-03, -1.6452495e-03, -1.2603642e-03,  2.4165206e-03,\n",
       "       -1.0769169e-03, -3.0847813e-03,  2.5813277e-03,  9.8498457e-04,\n",
       "       -6.1757962e-04,  4.4428534e-03,  1.6206909e-03, -1.2343890e-03,\n",
       "        3.6437758e-03,  1.3545252e-03, -4.5070178e-03, -7.6859829e-04,\n",
       "        3.0892745e-03,  2.4083196e-03, -3.5529637e-03, -2.5586910e-03,\n",
       "        2.1339429e-03,  1.4610072e-03,  9.2574388e-05, -3.7352892e-03,\n",
       "       -3.6459363e-03,  2.2414764e-03,  2.9655795e-03,  3.1554624e-03,\n",
       "       -4.6214624e-03,  1.1461793e-03, -2.5290539e-03,  3.1524787e-03,\n",
       "        8.7996077e-04,  4.1173416e-04,  3.1210100e-03,  3.2642356e-03,\n",
       "       -3.0943990e-04,  3.0329330e-03, -2.3617367e-03, -1.4893517e-03,\n",
       "        2.4200290e-04,  3.1755453e-03, -2.4295824e-03,  1.6618861e-04,\n",
       "        2.3233420e-03, -6.0243346e-04, -4.5547280e-03, -1.3595870e-03,\n",
       "        3.4003793e-03,  4.4718035e-03,  1.7221894e-03,  1.8575969e-03,\n",
       "       -1.2061390e-03,  1.5576773e-03,  4.5942347e-03,  4.1579991e-04,\n",
       "       -2.7014362e-03, -1.8133526e-03, -6.4801541e-04, -1.0703159e-03],\n",
       "      dtype=float32)"
      ]
     },
     "execution_count": 47,
     "metadata": {},
     "output_type": "execute_result"
    }
   ],
   "source": [
    "#Se visualiza la vectoización de una palabra\n",
    "\n",
    "model.wv['intelligence']"
   ]
  },
  {
   "cell_type": "code",
   "execution_count": 48,
   "metadata": {
    "ExecuteTime": {
     "end_time": "2021-10-27T08:01:21.595821Z",
     "start_time": "2021-10-27T08:01:21.584800Z"
    }
   },
   "outputs": [],
   "source": [
    "#Se crea una variable con el word_embedding entrenado\n",
    "\n",
    "self_embedding=model.wv"
   ]
  },
  {
   "cell_type": "code",
   "execution_count": 49,
   "metadata": {
    "ExecuteTime": {
     "end_time": "2021-10-27T08:01:21.611826Z",
     "start_time": "2021-10-27T08:01:21.600813Z"
    }
   },
   "outputs": [],
   "source": [
    "#Vamos a crear una lista de frases candidatas a las que aplicar el ranking\n",
    "\n",
    "question='what is artificial intelligence'\n",
    "candidates=['Artificial intelligence (AI) is a wide-ranging branch of computer science concerned with building smart machines capable of performing tasks that typically require human intelligence',\n",
    "           'Self-driving cars','How Does Artificial Intelligence Work',\"AI is the branch of computer science that aims to answer Turing's question in the affirmative\",\n",
    "           'Norvig and Russell focus particularly on rational agents that act to achieve the best outcome','algorithms enabled by constraints, exposed by representations that support models targeted at loops that tie thinking, perception and action together',\n",
    "           'Perceiving the world directly means that reactive machines are designed to complete only a limited number of specialized duties']"
   ]
  },
  {
   "cell_type": "code",
   "execution_count": 50,
   "metadata": {
    "ExecuteTime": {
     "end_time": "2021-10-27T08:01:21.641799Z",
     "start_time": "2021-10-27T08:01:21.618811Z"
    }
   },
   "outputs": [
    {
     "data": {
      "text/plain": [
       "[(0,\n",
       "  'Artificial intelligence (AI) is a wide-ranging branch of computer science concerned with building smart machines capable of performing tasks that typically require human intelligence'),\n",
       " (6,\n",
       "  'Perceiving the world directly means that reactive machines are designed to complete only a limited number of specialized duties'),\n",
       " (5,\n",
       "  'algorithms enabled by constraints, exposed by representations that support models targeted at loops that tie thinking, perception and action together'),\n",
       " (3,\n",
       "  \"AI is the branch of computer science that aims to answer Turing's question in the affirmative\"),\n",
       " (4,\n",
       "  'Norvig and Russell focus particularly on rational agents that act to achieve the best outcome'),\n",
       " (2, 'How Does Artificial Intelligence Work'),\n",
       " (1, 'Self-driving cars')]"
      ]
     },
     "execution_count": 50,
     "metadata": {},
     "output_type": "execute_result"
    }
   ],
   "source": [
    "#Se imprimen los rankings de las frases frente a la pregunta\n",
    "rank_candidates(question, candidates, self_embedding)"
   ]
  },
  {
   "cell_type": "code",
   "execution_count": 51,
   "metadata": {
    "ExecuteTime": {
     "end_time": "2021-10-27T08:01:21.689806Z",
     "start_time": "2021-10-27T08:01:21.646808Z"
    }
   },
   "outputs": [
    {
     "name": "stdout",
     "output_type": "stream",
     "text": [
      "DCG@   1: 0.000 | Hits@   1: 0.000\n",
      "DCG@   5: 0.000 | Hits@   5: 0.000\n",
      "DCG@  10: 0.000 | Hits@  10: 0.000\n",
      "DCG@ 100: 0.139 | Hits@ 100: 0.714\n",
      "DCG@ 500: 0.177 | Hits@ 500: 1.000\n",
      "DCG@1000: 0.177 | Hits@1000: 1.000\n"
     ]
    }
   ],
   "source": [
    "#Se imprimen las métricas DCG@K y Hits@K\n",
    "from utils_05 import text_prepare\n",
    "\n",
    "prepared_test = []\n",
    "for line in candidates:\n",
    "    prepared_test.append([text_prepare(sentence) for sentence in line])\n",
    "    \n",
    "wv_prepared_ranking = []\n",
    "for line in prepared_test:\n",
    "    q, *ex = line\n",
    "    ranks = rank_candidates(q, ex, self_embedding)\n",
    "    wv_prepared_ranking.append([r[0] for r in ranks].index(0) + 1)\n",
    "    \n",
    "\n",
    "for k in [1, 5, 10, 100, 500, 1000]:\n",
    "    print(\"DCG@%4d: %.3f | Hits@%4d: %.3f\" % (k, dcg_score(wv_prepared_ranking, k), \n",
    "                                              k, hits_count(wv_prepared_ranking, k)))   "
   ]
  },
  {
   "cell_type": "code",
   "execution_count": null,
   "metadata": {},
   "outputs": [],
   "source": []
  }
 ],
 "metadata": {
  "jupytext": {
   "formats": "ipynb,md"
  },
  "kernelspec": {
   "display_name": "Python 3",
   "language": "python",
   "name": "python3"
  },
  "language_info": {
   "codemirror_mode": {
    "name": "ipython",
    "version": 3
   },
   "file_extension": ".py",
   "mimetype": "text/x-python",
   "name": "python",
   "nbconvert_exporter": "python",
   "pygments_lexer": "ipython3",
   "version": "3.9.2"
  },
  "latex_envs": {
   "LaTeX_envs_menu_present": true,
   "autoclose": true,
   "autocomplete": true,
   "bibliofile": "biblio.bib",
   "cite_by": "apalike",
   "current_citInitial": 1,
   "eqLabelWithNumbers": true,
   "eqNumInitial": 1,
   "hotkeys": {
    "equation": "Ctrl-E",
    "itemize": "Ctrl-I"
   },
   "labels_anchors": false,
   "latex_user_defs": false,
   "report_style_numbering": true,
   "user_envs_cfg": true
  },
  "toc": {
   "base_numbering": 1,
   "nav_menu": {},
   "number_sections": true,
   "sideBar": true,
   "skip_h1_title": false,
   "title_cell": "Table of Contents",
   "title_sidebar": "Contents",
   "toc_cell": false,
   "toc_position": {
    "height": "calc(100% - 180px)",
    "left": "10px",
    "top": "150px",
    "width": "165px"
   },
   "toc_section_display": true,
   "toc_window_display": true
  },
  "varInspector": {
   "cols": {
    "lenName": 16,
    "lenType": 16,
    "lenVar": 40
   },
   "kernels_config": {
    "python": {
     "delete_cmd_postfix": "",
     "delete_cmd_prefix": "del ",
     "library": "var_list.py",
     "varRefreshCmd": "print(var_dic_list())"
    },
    "r": {
     "delete_cmd_postfix": ") ",
     "delete_cmd_prefix": "rm(",
     "library": "var_list.r",
     "varRefreshCmd": "cat(var_dic_list()) "
    }
   },
   "types_to_exclude": [
    "module",
    "function",
    "builtin_function_or_method",
    "instance",
    "_Feature"
   ],
   "window_display": false
  }
 },
 "nbformat": 4,
 "nbformat_minor": 4
}
