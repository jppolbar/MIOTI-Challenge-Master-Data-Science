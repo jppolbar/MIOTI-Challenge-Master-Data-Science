{
  "nbformat": 4,
  "nbformat_minor": 0,
  "metadata": {
    "anaconda-cloud": {},
    "kernelspec": {
      "display_name": "Python 3",
      "language": "python",
      "name": "python3"
    },
    "language_info": {
      "codemirror_mode": {
        "name": "ipython",
        "version": 3
      },
      "file_extension": ".py",
      "mimetype": "text/x-python",
      "name": "python",
      "nbconvert_exporter": "python",
      "pygments_lexer": "ipython3",
      "version": "3.6.12"
    },
    "colab": {
      "name": "S2_DL_ExerciseLR.ipynb",
      "provenance": [],
      "collapsed_sections": []
    }
  },
  "cells": [
    {
      "cell_type": "markdown",
      "metadata": {
        "id": "hBjOUkjCe2sn"
      },
      "source": [
        "<img src=\"mioti.png\" style=\"height: 100px\">\n",
        "<center style=\"color:#888\">Módulo Data Science in IoT<br/>Asignatura Deep Learning</center>\n",
        "\n",
        "# Exercise S2: Machine Learning Basics en TensorFlow\n",
        "\n",
        "## Objetivos\n",
        "\n",
        "El objetivo de este challenge es familiarizarnos con TensorFlow y con su funcionamiento básico enfrentandose a problemas de regresión.\n",
        "\n",
        "\n",
        "## Regresión\n",
        "\n",
        "### Punto de partida\n",
        "\n",
        "El punto de partida se corresponde con el código que hemos visto en el worksheet:"
      ]
    },
    {
      "cell_type": "code",
      "metadata": {
        "colab": {
          "base_uri": "https://localhost:8080/"
        },
        "id": "NDykeSwTe2s0",
        "outputId": "f7ddb5fd-c772-4eaa-e44f-0b71630dab29"
      },
      "source": [
        "import os\n",
        "import sys\n",
        "\n",
        "import numpy as np\n",
        "import pandas as pd\n",
        "import matplotlib.pyplot as plt\n",
        "from matplotlib import rcParams\n",
        "rcParams['figure.figsize'] = (14, 7)\n",
        "rcParams.update({'font.size': 14})\n",
        "from IPython.display import clear_output\n",
        "from six.moves import urllib\n",
        "\n",
        "import tensorflow.compat.v2.feature_column as fc\n",
        "\n",
        "import tensorflow as tf\n",
        "\n",
        "# Cargamos el dataset\n",
        "dftrain = pd.read_csv('https://storage.googleapis.com/tf-datasets/titanic/train.csv')\n",
        "dfeval = pd.read_csv('https://storage.googleapis.com/tf-datasets/titanic/eval.csv')\n",
        "y_train = dftrain.pop('survived')\n",
        "y_eval = dfeval.pop('survived')\n",
        "\n",
        "# Creamos las estructuras que contienen las categorías\n",
        "CATEGORICAL_COLUMNS = ['sex', 'n_siblings_spouses', 'parch', 'class', 'deck',\n",
        "                       'embark_town', 'alone']\n",
        "NUMERIC_COLUMNS = ['age', 'fare']\n",
        "\n",
        "feature_columns = []\n",
        "for feature_name in CATEGORICAL_COLUMNS:\n",
        "  vocabulary = dftrain[feature_name].unique()  # lista de todos los valores únicos contenidos en una columna\n",
        "  feature_columns.append(tf.feature_column.categorical_column_with_vocabulary_list(feature_name, vocabulary))\n",
        "\n",
        "for feature_name in NUMERIC_COLUMNS:\n",
        "  feature_columns.append(tf.feature_column.numeric_column(feature_name, dtype=tf.float32))\n",
        "\n",
        "# Definimos nuestra función de input\n",
        "\n",
        "def make_input_fn(data_df, label_df, num_epochs=10, shuffle=True, batch_size=32):\n",
        "  def input_function():  # función interna, esto es lo que será devuelto\n",
        "    ds = tf.data.Dataset.from_tensor_slices((dict(data_df), label_df))  # crea un objeto tf.data.Dataset que contendrá datos y etiquetas \n",
        "    if shuffle:\n",
        "      ds = ds.shuffle(1000)  # con esta línea aleatorizamos la selección de elementos\n",
        "    ds = ds.batch(batch_size).repeat(num_epochs)  # divide el dataset en batches el número de veces especificado por num_epocs \n",
        "    return ds  # devuelve un batch del dataset\n",
        "  return input_function  # devuelve el objeto completo para ser utilizado.\n",
        "\n",
        "train_input_fn = make_input_fn(dftrain, y_train)  # así llamamos a la función que se nos devuelve para extraer el objeto dataset que inyectaremos en el modelo\n",
        "eval_input_fn = make_input_fn(dfeval, y_eval, num_epochs=1, shuffle=False)\n",
        "\n",
        "\n",
        "# Creamos el modelo\n",
        "linear_est = tf.estimator.LinearClassifier(feature_columns=feature_columns)\n",
        "\n",
        "# Lo entrenamos\n",
        "linear_est.train(train_input_fn)  # entrenamos el modelo\n",
        "result = linear_est.evaluate(eval_input_fn)  # obtenemos las estimaciones del conjunto de evaluación\n",
        "\n",
        "clear_output()  # limpiamos la consola\n",
        "print(result['accuracy'])  # la viariable result es un diccionario con los resultados de nuestro modelo"
      ],
      "execution_count": null,
      "outputs": [
        {
          "output_type": "stream",
          "name": "stdout",
          "text": [
            "0.7462121\n"
          ]
        }
      ]
    },
    {
      "cell_type": "markdown",
      "metadata": {
        "id": "z6IfP1bFe2s7"
      },
      "source": [
        "## Tareas\n",
        "\n",
        "\n",
        "### Cambiando el histograma\n",
        "\n",
        "En el worksheet tenemos el ejemplo de un histograma con las posibilidades de supervivencia de cada individuo del conjunto de evaluación, representad a continuación el mismo histograma pero con el conjunto de entrenamiento.\n"
      ]
    },
    {
      "cell_type": "code",
      "metadata": {
        "collapsed": true,
        "colab": {
          "base_uri": "https://localhost:8080/",
          "height": 623
        },
        "id": "NLbsoDvce2s9",
        "outputId": "171bda7b-0812-4cc0-98ae-36da8ff70d4e"
      },
      "source": [
        "pred_dicts = list(linear_est.predict(train_input_fn)) # Hace predicciones y devuelve un array con las probabilidades y los parámetros del modelo para este ejemplo\n",
        "\n",
        "probs = pd.Series([pred['probabilities'][1] for pred in pred_dicts]) # Seleccionamos la probabilidad de supervivencia y lo metemos en una serie de Panda para poder representarlo fácilmente\n",
        "\n",
        "probs.plot(kind='hist', bins=20, title='Training set - predicted probabilities') # Representamos en forma de histograma"
      ],
      "execution_count": null,
      "outputs": [
        {
          "output_type": "stream",
          "name": "stdout",
          "text": [
            "INFO:tensorflow:Calling model_fn.\n"
          ]
        },
        {
          "output_type": "stream",
          "name": "stderr",
          "text": [
            "/usr/local/lib/python3.7/dist-packages/keras/engine/base_layer_v1.py:1684: UserWarning: `layer.add_variable` is deprecated and will be removed in a future version. Please use `layer.add_weight` method instead.\n",
            "  warnings.warn('`layer.add_variable` is deprecated and '\n"
          ]
        },
        {
          "output_type": "stream",
          "name": "stdout",
          "text": [
            "INFO:tensorflow:Done calling model_fn.\n",
            "INFO:tensorflow:Graph was finalized.\n",
            "INFO:tensorflow:Restoring parameters from /tmp/tmpq1iune4o/model.ckpt-200\n",
            "INFO:tensorflow:Running local_init_op.\n",
            "INFO:tensorflow:Done running local_init_op.\n"
          ]
        },
        {
          "output_type": "execute_result",
          "data": {
            "text/plain": [
              "<matplotlib.axes._subplots.AxesSubplot at 0x7f14613dc110>"
            ]
          },
          "metadata": {},
          "execution_count": 13
        },
        {
          "output_type": "display_data",
          "data": {
            "image/png": "[encoded data removed]",
            "text/plain": [
              "<Figure size 1008x504 with 1 Axes>"
            ]
          },
          "metadata": {
            "needs_background": "light"
          }
        }
      ]
    },
    {
      "cell_type": "markdown",
      "metadata": {
        "id": "XD8vMKgce2s-"
      },
      "source": [
        "¿Y si lo que queremos es pintar el histograma de la mortalidad de cada individuo del conjunto de evaluación?\n",
        "\n",
        "Pista, mirad la estructura del diccionario que devuelve *linear_est.predict()*"
      ]
    },
    {
      "cell_type": "code",
      "metadata": {
        "collapsed": true,
        "colab": {
          "base_uri": "https://localhost:8080/"
        },
        "id": "kSPJUUZJe2s_",
        "outputId": "45d4a75a-c669-4ddd-e202-063ea9d8ba8b"
      },
      "source": [
        "import pprint\n",
        "# Observamos como es la estructura, una lista con los valores para cada individuo contenidos en un diccionario,\n",
        "# Este diccionario por individuo tiene multiples entradas o claves donde se contiene los resultados de la predicción.\n",
        "# Atendemos que en el campo probabilities vienen dos valores con probabilidad. \n",
        "# El primero que corresponde al valor de clase 0 - Mortalidad y otro al valor de clase 1 Supervivencia.\n",
        "\n",
        "pprint.pprint(pred_dicts[0:3])"
      ],
      "execution_count": null,
      "outputs": [
        {
          "output_type": "stream",
          "name": "stdout",
          "text": [
            "[{'all_class_ids': array([0, 1], dtype=int32),\n",
            "  'all_classes': array([b'0', b'1'], dtype=object),\n",
            "  'class_ids': array([1]),\n",
            "  'classes': array([b'1'], dtype=object),\n",
            "  'logistic': array([0.6653086], dtype=float32),\n",
            "  'logits': array([0.687042], dtype=float32),\n",
            "  'probabilities': array([0.3346914 , 0.66530854], dtype=float32)},\n",
            " {'all_class_ids': array([0, 1], dtype=int32),\n",
            "  'all_classes': array([b'0', b'1'], dtype=object),\n",
            "  'class_ids': array([1]),\n",
            "  'classes': array([b'1'], dtype=object),\n",
            "  'logistic': array([0.9491404], dtype=float32),\n",
            "  'logits': array([2.9264874], dtype=float32),\n",
            "  'probabilities': array([0.05085962, 0.94914037], dtype=float32)},\n",
            " {'all_class_ids': array([0, 1], dtype=int32),\n",
            "  'all_classes': array([b'0', b'1'], dtype=object),\n",
            "  'class_ids': array([0]),\n",
            "  'classes': array([b'0'], dtype=object),\n",
            "  'logistic': array([0.07851383], dtype=float32),\n",
            "  'logits': array([-2.4627125], dtype=float32),\n",
            "  'probabilities': array([0.92148614, 0.07851386], dtype=float32)}]\n"
          ]
        }
      ]
    },
    {
      "cell_type": "code",
      "metadata": {
        "colab": {
          "base_uri": "https://localhost:8080/",
          "height": 623
        },
        "id": "ZF7l4EgetF5M",
        "outputId": "7d3758ba-e547-4c0c-aef5-3b322ea7f63d"
      },
      "source": [
        "# Lanzamos la predicción de nuevop como el conjunto de evaluación\n",
        "pred_dicts = list(linear_est.predict(eval_input_fn))\n",
        "# Seleccionamos la probabilidad de mortalidad que en este caso ocupa la posición 0 de la clave del diccionario probabilities\n",
        "mortality_probs = pd.Series([pred['probabilities'][0] for pred in pred_dicts]) \n",
        "\n",
        "mortality_probs.plot(kind='hist', bins=20, title='Mortality Predicted Probabilities') # Representamos en forma de histograma"
      ],
      "execution_count": null,
      "outputs": [
        {
          "output_type": "stream",
          "name": "stdout",
          "text": [
            "INFO:tensorflow:Calling model_fn.\n"
          ]
        },
        {
          "output_type": "stream",
          "name": "stderr",
          "text": [
            "/usr/local/lib/python3.7/dist-packages/keras/engine/base_layer_v1.py:1684: UserWarning: `layer.add_variable` is deprecated and will be removed in a future version. Please use `layer.add_weight` method instead.\n",
            "  warnings.warn('`layer.add_variable` is deprecated and '\n"
          ]
        },
        {
          "output_type": "stream",
          "name": "stdout",
          "text": [
            "INFO:tensorflow:Done calling model_fn.\n",
            "INFO:tensorflow:Graph was finalized.\n",
            "INFO:tensorflow:Restoring parameters from /tmp/tmpq1iune4o/model.ckpt-200\n",
            "INFO:tensorflow:Running local_init_op.\n",
            "INFO:tensorflow:Done running local_init_op.\n"
          ]
        },
        {
          "output_type": "execute_result",
          "data": {
            "text/plain": [
              "<matplotlib.axes._subplots.AxesSubplot at 0x7f1465181a50>"
            ]
          },
          "metadata": {},
          "execution_count": 14
        },
        {
          "output_type": "display_data",
          "data": {
            "image/png": "[encoded data removed]",
            "text/plain": [
              "<Figure size 1008x504 with 1 Axes>"
            ]
          },
          "metadata": {
            "needs_background": "light"
          }
        }
      ]
    },
    {
      "cell_type": "markdown",
      "metadata": {
        "id": "2pm6ryq8e2s_"
      },
      "source": [
        "### Cambiando el conjunto de entrenamiento\n",
        "\n",
        "Sabemos que uno de los factores más importantes en el entrenamiento de redes neuronales es la cantidad y calidad del conjunto de entrenamiento. ¿Es igual de importante en regresión lineal?\n",
        "\n",
        "Vamos a ver cuál sería el porcentaje de acierto de nuestro modelo si entrenamos con la mitad del conjunto de entrenamiento:"
      ]
    },
    {
      "cell_type": "code",
      "metadata": {
        "colab": {
          "base_uri": "https://localhost:8080/"
        },
        "id": "HKeqYF0sz7Wy",
        "outputId": "2ac0121b-8822-43d2-ab3f-ffb7f02f5bb5"
      },
      "source": [
        "#Procedemos a dividir el set de entrenamiento a la mitad. Tanto la parte de las features como el de las clases.\n",
        "middle_dftrain = dftrain.iloc[:dftrain.shape[0]//2]\n",
        "middel_y_train = y_train.iloc[:y_train.shape[0]//2]\n",
        "print(middle_dftrain.shape)\n",
        "print(middel_y_train.shape)"
      ],
      "execution_count": null,
      "outputs": [
        {
          "output_type": "stream",
          "name": "stdout",
          "text": [
            "(313, 9)\n",
            "(313,)\n"
          ]
        }
      ]
    },
    {
      "cell_type": "code",
      "metadata": {
        "colab": {
          "base_uri": "https://localhost:8080/"
        },
        "id": "AdrO7F9tytf3",
        "outputId": "5c8b3159-ef09-4d2a-8ba2-5b8f9a876fe1"
      },
      "source": [
        "# Creamos el modelo\n",
        "middle_linear_est = tf.estimator.LinearClassifier(feature_columns=feature_columns)\n",
        "\n",
        "# Preparamos los datos para pasarlos al modelo.\n",
        "middle_train_input_fn = make_input_fn(middle_dftrain, middel_y_train) \n",
        "\n",
        "# Entrenamos el modelo\n",
        "middle_linear_est.train(middle_train_input_fn) \n",
        "\n",
        "# Generamos los resultados con resepecto al dataset de evaluación\n",
        "middle_result = middle_linear_est.evaluate(eval_input_fn)  \n",
        "clear_output()  # limpiamos la consola\n",
        "#Observamos los indicadores que nos muestra en la predicción.\n",
        "pprint.pprint(middle_result)\n"
      ],
      "execution_count": null,
      "outputs": [
        {
          "output_type": "stream",
          "name": "stdout",
          "text": [
            "{'accuracy': 0.7462121,\n",
            " 'accuracy_baseline': 0.625,\n",
            " 'auc': 0.79048055,\n",
            " 'auc_precision_recall': 0.75991195,\n",
            " 'average_loss': 0.5495553,\n",
            " 'global_step': 100,\n",
            " 'label/mean': 0.375,\n",
            " 'loss': 0.55702466,\n",
            " 'precision': 0.63793105,\n",
            " 'prediction/mean': 0.4907745,\n",
            " 'recall': 0.74747473}\n"
          ]
        }
      ]
    },
    {
      "cell_type": "code",
      "metadata": {
        "colab": {
          "base_uri": "https://localhost:8080/"
        },
        "id": "U2kcZ1s_OfcP",
        "outputId": "6c4d1368-f790-4a39-e4dc-5f7287c3f6c3"
      },
      "source": [
        "# Tomaremos el valor de precisión que nos devuelve la capacidad del modelo para detectar el porcentaje de detactra los positivos\n",
        "print(f\"Precission con la mitad de los datos : {middle_result['precision']}\")"
      ],
      "execution_count": null,
      "outputs": [
        {
          "output_type": "stream",
          "name": "stdout",
          "text": [
            "Precission con la mitad de los datos : 0.6379310488700867\n"
          ]
        }
      ]
    },
    {
      "cell_type": "markdown",
      "metadata": {
        "id": "1FIUw7fxe2tB"
      },
      "source": [
        "Y si entrenamos con una décima parte de en nuestro ejemplo original?"
      ]
    },
    {
      "cell_type": "code",
      "metadata": {
        "collapsed": true,
        "colab": {
          "base_uri": "https://localhost:8080/"
        },
        "id": "rMrIrdjMe2tC",
        "outputId": "f74c9c85-2906-4eeb-fdb9-d00847ff9818"
      },
      "source": [
        "#Procedemos a dividir el set de entrenamiento a la mitad. Tanto la parte de las features como el de las clases.\n",
        "tenth_dftrain = dftrain.iloc[:dftrain.shape[0]//10]\n",
        "tenth_y_train = y_train.iloc[:y_train.shape[0]//10]\n",
        "print(tenth_dftrain.shape)\n",
        "print(tenth_y_train.shape)"
      ],
      "execution_count": null,
      "outputs": [
        {
          "output_type": "stream",
          "name": "stdout",
          "text": [
            "(62, 9)\n",
            "(62,)\n"
          ]
        }
      ]
    },
    {
      "cell_type": "code",
      "metadata": {
        "colab": {
          "base_uri": "https://localhost:8080/"
        },
        "id": "iGOgNmCB4rFC",
        "outputId": "5ab54c2a-ff04-4b56-c588-cb00d88b1eff"
      },
      "source": [
        "# Creamos el modelo\n",
        "tenth_linear_est = tf.estimator.LinearClassifier(feature_columns=feature_columns)\n",
        "\n",
        "# Preparamos los datos para pasarlos al modelo.\n",
        "tenth_train_input_fn = make_input_fn(tenth_dftrain, tenth_y_train) \n",
        "\n",
        "# Entrenamos el modelo\n",
        "tenth_linear_est.train(tenth_train_input_fn) \n",
        "\n",
        "# Generamos los resultados con resepecto al dataset de evaluación\n",
        "tenth_result = tenth_linear_est.evaluate(eval_input_fn)  \n",
        "clear_output()  # limpiamos la consola\n",
        "pprint.pprint(tenth_result)"
      ],
      "execution_count": null,
      "outputs": [
        {
          "output_type": "stream",
          "name": "stdout",
          "text": [
            "{'accuracy': 0.64772725,\n",
            " 'accuracy_baseline': 0.625,\n",
            " 'auc': 0.74153656,\n",
            " 'auc_precision_recall': 0.6275006,\n",
            " 'average_loss': 0.6232077,\n",
            " 'global_step': 20,\n",
            " 'label/mean': 0.375,\n",
            " 'loss': 0.62094957,\n",
            " 'precision': 0.6875,\n",
            " 'prediction/mean': 0.2446909,\n",
            " 'recall': 0.11111111}\n"
          ]
        }
      ]
    },
    {
      "cell_type": "code",
      "metadata": {
        "colab": {
          "base_uri": "https://localhost:8080/"
        },
        "id": "3oZ3A8XrPeq2",
        "outputId": "16480b50-1b93-4fbf-ae6d-469c1299600d"
      },
      "source": [
        "# Tomaremos el valor de precisión que nos devuelve la capacidad del modelo para detectar el porcentaje de detactra los positivos\n",
        "print(f\"Precission con la decima parte de los datos : {tenth_result['precision']}\")"
      ],
      "execution_count": null,
      "outputs": [
        {
          "output_type": "stream",
          "name": "stdout",
          "text": [
            "Precission con la decima parte de los datos : 0.6875\n"
          ]
        }
      ]
    },
    {
      "cell_type": "markdown",
      "metadata": {
        "id": "PrnHJNLfe2tD"
      },
      "source": [
        "Por último, vamos a mostrar también el accuracy que tenemos sobre el conjunto de datos de entrenamiento (podemos utilizar cualquiera de los modelos que acabamos de entrenar)\n"
      ]
    },
    {
      "cell_type": "code",
      "metadata": {
        "collapsed": true,
        "colab": {
          "base_uri": "https://localhost:8080/"
        },
        "id": "agZnmjqBe2tD",
        "outputId": "ccb43418-daff-4bc0-d1e9-765236a9bfde"
      },
      "source": [
        "print(f\"Accuracy con la mitad de los datos :  {middle_result['accuracy']}\")\n",
        "print(f\"Accuracy con la decima parte de los datos : {tenth_result['accuracy']}\")"
      ],
      "execution_count": null,
      "outputs": [
        {
          "output_type": "stream",
          "name": "stdout",
          "text": [
            "Accuracy con la mitad de los datos :  0.7462121248245239\n",
            "Accuracy con la decima parte de los datos : 0.6477272510528564\n"
          ]
        }
      ]
    },
    {
      "cell_type": "markdown",
      "metadata": {
        "id": "bizst5lse2tE"
      },
      "source": [
        "### Conclusiones:\n",
        " \n",
        "¿Hay mucha diferencia entre el entrenamiento original y el que hemos realizado con datos diezmados? ¿Por qué?"
      ]
    },
    {
      "cell_type": "code",
      "metadata": {
        "id": "Z2i-pvVnAUs6"
      },
      "source": [
        ""
      ],
      "execution_count": null,
      "outputs": []
    },
    {
      "cell_type": "markdown",
      "metadata": {
        "id": "d7OYpgzfhv74"
      },
      "source": [
        "Se observan diferencias en los indicadores señeccionados, tanto el ***precission*** como el ***accuracy***, en el que son cada vez más bajos conforme vamos reduciendo la cantidad de datos de entranamiento.\n",
        "La razón es que contra menos datos de entranamiento le proveamos a nuestro modelo, menos conocimiento o casuísticas tendra entrenadas para abordar los datos reales\\de producción."
      ]
    }
  ]
}