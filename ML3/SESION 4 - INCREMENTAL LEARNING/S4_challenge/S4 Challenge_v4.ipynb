{
 "cells": [
  {
   "cell_type": "markdown",
   "metadata": {},
   "source": [
    "<br/><img width=\"300px\" alt=\"\" src=\"data:image/jpeg;base64,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\" /><br/><br/>\n",
    "<center style=\"color:#888\">Machine learning 3</center>\n",
    "<center style=\"color:#aaa; margin-top:10px;\"><b>Prof. Diego García Morate</b><br>diegogm@faculty.mioti.es</center>\n",
    "<p style=\"font-size: 2.5em; text-align:center\">Challenge S4: Analizando bosques<br/>"
   ]
  },
  {
   "cell_type": "markdown",
   "metadata": {},
   "source": [
    "# Objetivos\n",
    "\n",
    "El objetivo de este challenge es ser capaz de clasificar un dataset de tipos de suelo mediante las técnicas de aprendizaje incremental vistas en el worksheet.\n",
    "\n",
    "Importante: sólo hay una única restricción: ¡**No puedes en ningún momento de este challenge cargar el dataset completo en memoria!** (a excepción que se indique lo contrario)."
   ]
  },
  {
   "cell_type": "markdown",
   "metadata": {},
   "source": [
    "## Configuración del entorno"
   ]
  },
  {
   "cell_type": "code",
   "execution_count": 1,
   "metadata": {
    "ExecuteTime": {
     "end_time": "2021-12-09T17:40:23.758811Z",
     "start_time": "2021-12-09T17:40:20.391830Z"
    }
   },
   "outputs": [],
   "source": [
    "%matplotlib inline\n",
    "\n",
    "import warnings\n",
    "warnings.filterwarnings(\"ignore\")\n",
    "\n",
    "import numpy as np\n",
    "import pandas as pd\n",
    "import matplotlib.pyplot as plt\n",
    "from math import sqrt\n",
    "import sklearn\n",
    "\n",
    "import random\n",
    "\n",
    "from sklearn.metrics import confusion_matrix\n",
    "from sklearn.model_selection import cross_val_score\n",
    "from sklearn.model_selection import train_test_split\n",
    "\n",
    "from sklearn.linear_model import Perceptron\n",
    "import os"
   ]
  },
  {
   "cell_type": "markdown",
   "metadata": {},
   "source": [
    "## Covertype dataset\n",
    "\n",
    "El dataset que vamos a utilizar en este challenge se denomina Covertype dataset (https://archive.ics.uci.edu/ml/datasets/covertype). Este dataset está formado por más de 500.000 observaciones de regiones de 30x30m de bosques en el parque nacional Roosevelt en Colorado.\n",
    "\n",
    "Las variables de las que está compuesto el dataset según la documentación (`dataset/covtype.info`) son las siguientes:\n",
    "\n",
    "<pre style=\"font-size:10px\">\n",
    "Name                                     Data Type    Measurement                       Description\n",
    "\n",
    "Elevation                               quantitative    meters                       Elevation in meters\n",
    "Aspect                                  quantitative    azimuth                      Aspect in degrees azimuth\n",
    "Slope                                   quantitative    degrees                      Slope in degrees\n",
    "Horizontal_Distance_To_Hydrology        quantitative    meters                       Horz Dist to nearest surface water features\n",
    "Vertical_Distance_To_Hydrology          quantitative    meters                       Vert Dist to nearest surface water features\n",
    "Horizontal_Distance_To_Roadways         quantitative    meters                       Horz Dist to nearest roadway\n",
    "Hillshade_9am                           quantitative    0 to 255 index               Hillshade index at 9am, summer solstice\n",
    "Hillshade_Noon                          quantitative    0 to 255 index               Hillshade index at noon, summer soltice\n",
    "Hillshade_3pm                           quantitative    0 to 255 index               Hillshade index at 3pm, summer solstice\n",
    "Horizontal_Distance_To_Fire_Points      quantitative    meters                       Horz Dist to nearest wildfire ignition points\n",
    "Wilderness_Area (4 binary columns)      qualitative     0 (absence) or 1 (presence)  Wilderness area designation\n",
    "Soil_Type (40 binary columns)           qualitative     0 (absence) or 1 (presence)  Soil Type designation\n",
    "Cover_Type (7 types)                    integer         1 to 7                       Forest Cover Type designation\n",
    "</pre>\n",
    "\n",
    "Utilizaremos como variable objetivo la última variable `Cover_Type` que indica la categoría de bosque en la que se clasifica ese área:\n",
    "\n",
    "<pre style=\"font-size:10px\">\n",
    "Forest Cover Type Classes:\t\n",
    "\n",
    "1 -- Spruce/Fir\n",
    "2 -- Lodgepole Pine\n",
    "3 -- Ponderosa Pine\n",
    "4 -- Cottonwood/Willow\n",
    "5 -- Aspen\n",
    "6 -- Douglas-fir\n",
    "7 -- Krummholz\n",
    "</pre>"
   ]
  },
  {
   "cell_type": "markdown",
   "metadata": {},
   "source": [
    "# Análisis previo del dataset\n",
    "\n",
    "\n",
    "Carga un fragmento del dataset (`dataset/covtype.csv`), verifica que las variables cargadas coinciden con el archivo de información del dataset."
   ]
  },
  {
   "cell_type": "code",
   "execution_count": 2,
   "metadata": {
    "ExecuteTime": {
     "end_time": "2021-12-09T17:40:23.854811Z",
     "start_time": "2021-12-09T17:40:23.770816Z"
    }
   },
   "outputs": [
    {
     "name": "stdout",
     "output_type": "stream",
     "text": [
      "<class 'pandas.core.frame.DataFrame'>\n",
      "RangeIndex: 5 entries, 0 to 4\n",
      "Data columns (total 55 columns):\n",
      " #   Column                              Non-Null Count  Dtype\n",
      "---  ------                              --------------  -----\n",
      " 0   Elevation                           5 non-null      int32\n",
      " 1   Aspect                              5 non-null      int32\n",
      " 2   Slope                               5 non-null      int32\n",
      " 3   Horizontal_Distance_To_Hydrology    5 non-null      int32\n",
      " 4   Vertical_Distance_To_Hydrology      5 non-null      int32\n",
      " 5   Horizontal_Distance_To_Roadways     5 non-null      int32\n",
      " 6   Hillshade_9am                       5 non-null      int32\n",
      " 7   Hillshade_Noon                      5 non-null      int32\n",
      " 8   Hillshade_3pm                       5 non-null      int32\n",
      " 9   Horizontal_Distance_To_Fire_Points  5 non-null      int32\n",
      " 10  Wilderness_Area1                    5 non-null      int32\n",
      " 11  Wilderness_Area2                    5 non-null      int32\n",
      " 12  Wilderness_Area3                    5 non-null      int32\n",
      " 13  Wilderness_Area4                    5 non-null      int32\n",
      " 14  Soil_Type1                          5 non-null      int32\n",
      " 15  Soil_Type2                          5 non-null      int32\n",
      " 16  Soil_Type3                          5 non-null      int32\n",
      " 17  Soil_Type4                          5 non-null      int32\n",
      " 18  Soil_Type5                          5 non-null      int32\n",
      " 19  Soil_Type6                          5 non-null      int32\n",
      " 20  Soil_Type7                          5 non-null      int32\n",
      " 21  Soil_Type8                          5 non-null      int32\n",
      " 22  Soil_Type9                          5 non-null      int32\n",
      " 23  Soil_Type10                         5 non-null      int32\n",
      " 24  Soil_Type11                         5 non-null      int32\n",
      " 25  Soil_Type12                         5 non-null      int32\n",
      " 26  Soil_Type13                         5 non-null      int32\n",
      " 27  Soil_Type14                         5 non-null      int32\n",
      " 28  Soil_Type15                         5 non-null      int32\n",
      " 29  Soil_Type16                         5 non-null      int32\n",
      " 30  Soil_Type17                         5 non-null      int32\n",
      " 31  Soil_Type18                         5 non-null      int32\n",
      " 32  Soil_Type19                         5 non-null      int32\n",
      " 33  Soil_Type20                         5 non-null      int32\n",
      " 34  Soil_Type21                         5 non-null      int32\n",
      " 35  Soil_Type22                         5 non-null      int32\n",
      " 36  Soil_Type23                         5 non-null      int32\n",
      " 37  Soil_Type24                         5 non-null      int32\n",
      " 38  Soil_Type25                         5 non-null      int32\n",
      " 39  Soil_Type26                         5 non-null      int32\n",
      " 40  Soil_Type27                         5 non-null      int32\n",
      " 41  Soil_Type28                         5 non-null      int32\n",
      " 42  Soil_Type29                         5 non-null      int32\n",
      " 43  Soil_Type30                         5 non-null      int32\n",
      " 44  Soil_Type31                         5 non-null      int32\n",
      " 45  Soil_Type32                         5 non-null      int32\n",
      " 46  Soil_Type33                         5 non-null      int32\n",
      " 47  Soil_Type34                         5 non-null      int32\n",
      " 48  Soil_Type35                         5 non-null      int32\n",
      " 49  Soil_Type36                         5 non-null      int32\n",
      " 50  Soil_Type37                         5 non-null      int32\n",
      " 51  Soil_Type38                         5 non-null      int32\n",
      " 52  Soil_Type39                         5 non-null      int32\n",
      " 53  Soil_Type40                         5 non-null      int32\n",
      " 54  Cover_Type                          5 non-null      int32\n",
      "dtypes: int32(55)\n",
      "memory usage: 1.2 KB\n"
     ]
    }
   ],
   "source": [
    "df = pd.read_csv(\"dataset/covtype.csv\",nrows=5,dtype='int32')\n",
    "df.info()"
   ]
  },
  {
   "cell_type": "code",
   "execution_count": 3,
   "metadata": {
    "ExecuteTime": {
     "end_time": "2021-12-09T17:40:25.098523Z",
     "start_time": "2021-12-09T17:40:23.858818Z"
    }
   },
   "outputs": [
    {
     "name": "stdout",
     "output_type": "stream",
     "text": [
      "<class 'pandas.core.frame.DataFrame'>\n",
      "RangeIndex: 581012 entries, 0 to 581011\n",
      "Data columns (total 1 columns):\n",
      " #   Column      Non-Null Count   Dtype\n",
      "---  ------      --------------   -----\n",
      " 0   Cover_Type  581012 non-null  int64\n",
      "dtypes: int64(1)\n",
      "memory usage: 4.4 MB\n"
     ]
    }
   ],
   "source": [
    "df = pd.read_csv(\"dataset/covtype.csv\",usecols=[\"Cover_Type\"])\n",
    "df.info()"
   ]
  },
  {
   "cell_type": "code",
   "execution_count": 4,
   "metadata": {
    "ExecuteTime": {
     "end_time": "2021-12-09T17:40:25.148593Z",
     "start_time": "2021-12-09T17:40:25.102498Z"
    }
   },
   "outputs": [
    {
     "data": {
      "text/plain": [
       "2    283301\n",
       "1    211840\n",
       "3     35754\n",
       "7     20510\n",
       "6     17367\n",
       "5      9493\n",
       "4      2747\n",
       "Name: Cover_Type, dtype: int64"
      ]
     },
     "execution_count": 4,
     "metadata": {},
     "output_type": "execute_result"
    }
   ],
   "source": [
    "df['Cover_Type'].value_counts()"
   ]
  },
  {
   "cell_type": "code",
   "execution_count": 5,
   "metadata": {
    "ExecuteTime": {
     "end_time": "2021-12-09T17:40:25.180597Z",
     "start_time": "2021-12-09T17:40:25.152592Z"
    }
   },
   "outputs": [
    {
     "data": {
      "text/plain": [
       "2    48.759922\n",
       "1    36.460521\n",
       "3     6.153746\n",
       "7     3.530048\n",
       "6     2.989095\n",
       "5     1.633873\n",
       "4     0.472796\n",
       "Name: Cover_Type, dtype: float64"
      ]
     },
     "execution_count": 5,
     "metadata": {},
     "output_type": "execute_result"
    }
   ],
   "source": [
    "df['Cover_Type'].value_counts(normalize=True)*100"
   ]
  },
  {
   "cell_type": "code",
   "execution_count": 6,
   "metadata": {
    "ExecuteTime": {
     "end_time": "2021-12-09T17:40:25.514612Z",
     "start_time": "2021-12-09T17:40:25.184594Z"
    }
   },
   "outputs": [
    {
     "data": {
      "image/png": "[encoded data removed]",
      "text/plain": [
       "<Figure size 432x288 with 1 Axes>"
      ]
     },
     "metadata": {
      "needs_background": "light"
     },
     "output_type": "display_data"
    }
   ],
   "source": [
    "df['Cover_Type'].value_counts(ascending=False,normalize=True).plot.bar(title='Dataset Class Distribution');\n",
    "plt.show()"
   ]
  },
  {
   "cell_type": "markdown",
   "metadata": {},
   "source": [
    "# Conjunto de entrenamiento y test\n",
    "\n",
    "Divide los datos en conjunto de entrenamiento y test (70% entrenamiento y 30%). Para ello deberás leer el fichero una sola vez y guardar los resultados en dos ficheros distintos: `train.csv` y `test.csv`.\n",
    "\n",
    "Recuerda que no puedes cargar los datos en memoria en su totalidad y usar `train_test_split`."
   ]
  },
  {
   "cell_type": "code",
   "execution_count": 7,
   "metadata": {
    "ExecuteTime": {
     "end_time": "2021-12-09T17:40:25.542613Z",
     "start_time": "2021-12-09T17:40:25.522600Z"
    }
   },
   "outputs": [],
   "source": [
    "BATCH_SIZE = 100000\n",
    "OBJ_VAR = 'Cover_Type'\n",
    "TEST_SIZE = 0.3\n",
    "STRATIFIED = True\n",
    "PATH_DATA = 'dataset/covtype.csv'\n",
    "PATH_TRAIN = 'dataset/train.csv'\n",
    "PATH_TEST = 'dataset/test.csv'"
   ]
  },
  {
   "cell_type": "code",
   "execution_count": 8,
   "metadata": {
    "ExecuteTime": {
     "end_time": "2021-12-09T17:40:25.574591Z",
     "start_time": "2021-12-09T17:40:25.546585Z"
    }
   },
   "outputs": [],
   "source": [
    "\"\"\" Funciín que nos permite partir en una parte de train y test un dataset de entrada.\n",
    "Se le puede indicar el tamaño de la parte de test que queremos generar, así como que los datos \n",
    "estén estratificados\"\"\"\n",
    "\n",
    "def split_data (my_df,my_obj_var,test_size=.3,stratified=False):\n",
    "    a_aux_test= np.empty(0)\n",
    "    a_aux_train= np.empty(0)\n",
    "#     print(len(my_df))\n",
    "#     print(my_df.head(2))\n",
    "    my_df.reset_index(inplace=True,drop=True)\n",
    "    # Con estratificación\n",
    "    if stratified:\n",
    "        # Recogemos los grupos que hay de la variable objetivo en el dataset\n",
    "        grupos=list(my_df.groupby(my_obj_var).groups.keys())\n",
    "#         print(grupos)\n",
    "\n",
    "        for grupo in grupos:\n",
    "            #Capturamos los indicices de cada uno de los elementos de ese grupo\n",
    "            indices=np.array(my_df.groupby(my_obj_var).groups.get(grupo))\n",
    "            numero_elementos=len(indices)\n",
    "#             print(numero_elementos)\n",
    "            #Repartimos los indices en la prooporción que nos indica el test_size\n",
    "            a_aux_test=np.append(a_aux_test,indices[:int(numero_elementos*test_size)])\n",
    "            a_aux_train=np.append(a_aux_train,indices[int(numero_elementos*test_size):])\n",
    "    else:# Sin estratificación.\n",
    "        \n",
    "        indices = np.array(my_df.index)\n",
    "        numero_elementos=len(indices)\n",
    "        #Repartimos los indices en la prooporción que nos indica el test_size\n",
    "        a_aux_test=np.append(a_aux_test,indices[:int(numero_elementos*test_size)])\n",
    "        a_aux_train=np.append(a_aux_train,indices[int(numero_elementos*test_size):])\n",
    "\n",
    "    #Desordenamos los indices.\n",
    "    random.shuffle(a_aux_test)\n",
    "    random.shuffle(a_aux_train)\n",
    "    \n",
    "    #Seleccionamos los dataset de train y test conforme los indices elegidos.\n",
    "    df_aux_test = my_df.iloc[a_aux_test]\n",
    "    df_aux_train = my_df.iloc[a_aux_train]\n",
    "        \n",
    "    return df_aux_train,df_aux_test"
   ]
  },
  {
   "cell_type": "code",
   "execution_count": 9,
   "metadata": {
    "ExecuteTime": {
     "end_time": "2021-12-09T17:40:44.465816Z",
     "start_time": "2021-12-09T17:40:25.578591Z"
    },
    "scrolled": false
   },
   "outputs": [
    {
     "name": "stdout",
     "output_type": "stream",
     "text": [
      "Cargado batch de datos de 100000 elementos.\n",
      "Cargado df_train de datos de 70002 elementos.\n",
      "Cargado df_test de datos de 29998 elementos.\n"
     ]
    },
    {
     "data": {
      "image/png": "[encoded data removed]",
      "text/plain": [
       "<Figure size 1080x360 with 3 Axes>"
      ]
     },
     "metadata": {
      "needs_background": "light"
     },
     "output_type": "display_data"
    },
    {
     "name": "stdout",
     "output_type": "stream",
     "text": [
      "Cargado batch de datos de 100000 elementos.\n",
      "Cargado df_train de datos de 70002 elementos.\n",
      "Cargado df_test de datos de 29998 elementos.\n"
     ]
    },
    {
     "data": {
      "image/png": "[encoded data removed]",
      "text/plain": [
       "<Figure size 1080x360 with 3 Axes>"
      ]
     },
     "metadata": {
      "needs_background": "light"
     },
     "output_type": "display_data"
    },
    {
     "name": "stdout",
     "output_type": "stream",
     "text": [
      "Cargado batch de datos de 100000 elementos.\n",
      "Cargado df_train de datos de 70003 elementos.\n",
      "Cargado df_test de datos de 29997 elementos.\n"
     ]
    },
    {
     "data": {
      "image/png": "[encoded data removed]",
      "text/plain": [
       "<Figure size 1080x360 with 3 Axes>"
      ]
     },
     "metadata": {
      "needs_background": "light"
     },
     "output_type": "display_data"
    },
    {
     "name": "stdout",
     "output_type": "stream",
     "text": [
      "Cargado batch de datos de 100000 elementos.\n",
      "Cargado df_train de datos de 70003 elementos.\n",
      "Cargado df_test de datos de 29997 elementos.\n"
     ]
    },
    {
     "data": {
      "image/png": "[encoded data removed]",
      "text/plain": [
       "<Figure size 1080x360 with 3 Axes>"
      ]
     },
     "metadata": {
      "needs_background": "light"
     },
     "output_type": "display_data"
    },
    {
     "name": "stdout",
     "output_type": "stream",
     "text": [
      "Cargado batch de datos de 100000 elementos.\n",
      "Cargado df_train de datos de 70003 elementos.\n",
      "Cargado df_test de datos de 29997 elementos.\n"
     ]
    },
    {
     "data": {
      "image/png": "[encoded data removed]",
      "text/plain": [
       "<Figure size 1080x360 with 3 Axes>"
      ]
     },
     "metadata": {
      "needs_background": "light"
     },
     "output_type": "display_data"
    },
    {
     "name": "stdout",
     "output_type": "stream",
     "text": [
      "Cargado batch de datos de 81012 elementos.\n",
      "Cargado df_train de datos de 56711 elementos.\n",
      "Cargado df_test de datos de 24301 elementos.\n"
     ]
    },
    {
     "data": {
      "image/png": "[encoded data removed]",
      "text/plain": [
       "<Figure size 1080x360 with 3 Axes>"
      ]
     },
     "metadata": {
      "needs_background": "light"
     },
     "output_type": "display_data"
    }
   ],
   "source": [
    "\"\"\" Esta parte permite generar los ficheros de train y test generandolos por bloques\"\"\"      \n",
    "with open(PATH_DATA, 'r') as file:\n",
    "    iterator = pd.read_csv(file, chunksize=BATCH_SIZE)\n",
    "\n",
    "    # Si el fichero de test existe lo borramos.\n",
    "    if os.path.exists(PATH_TEST):\n",
    "        os.remove(PATH_TEST)\n",
    "    # Si el fichero de train existe lo borramos.\n",
    "    if os.path.exists(PATH_TRAIN):\n",
    "        os.remove(PATH_TRAIN)\n",
    "        \n",
    "    # Variable que se activa para que la primera vez escriba las cabeceras.\n",
    "    header_write=True\n",
    "      \n",
    "    for batch in iterator:\n",
    "        \n",
    "        print (f'Cargado batch de datos de {len(batch)} elementos.')\n",
    "            \n",
    "        df_train,df_test=split_data(batch,OBJ_VAR,TEST_SIZE,stratified=STRATIFIED)\n",
    "        \n",
    "        print (f'Cargado df_train de datos de {len(df_train)} elementos.')\n",
    "        print (f'Cargado df_test de datos de {len(df_test)} elementos.')\n",
    "       \n",
    "        # Visualizamos las distribuciones de las clases en el batch original y en el train y test generados.\n",
    "        # Con esto podemos observar si la distribución de las clases sigue siendo la misma en train y test.\n",
    "        plt.subplots(figsize=(15, 5))\n",
    "        plt.subplot(131)\n",
    "        batch[OBJ_VAR].value_counts(ascending=False,normalize=True).plot.bar(title='Batch-Class Distribution',color=\"green\");\n",
    "        plt.subplot(132)\n",
    "        df_train[OBJ_VAR].value_counts(ascending=False,normalize=True).plot.bar(title='df_train-Class Distribution',color=\"orange\");\n",
    "        plt.subplot(133)\n",
    "        df_test[OBJ_VAR].value_counts(ascending=False,normalize=True).plot.bar(title='df_test-Class Distribution');\n",
    "        plt.show()\n",
    "        \n",
    "        # Guradamos en el fichero de test\n",
    "        df_test.to_csv(PATH_TEST,mode='a',header=header_write,index=False)\n",
    "        # Guradamos en el fichero de train\n",
    "        df_train.to_csv(PATH_TRAIN,mode='a',header=header_write,index=False)\n",
    "        # Una vez hemmos escrito la cabacera descativamos la variable para que ya no lo vuelva escribir.\n",
    "        if header_write:\n",
    "            header_write=False\n",
    "            "
   ]
  },
  {
   "cell_type": "markdown",
   "metadata": {},
   "source": [
    "# ¿Qué deberías hacer si quieres hacer que la división entre entrenamiento y test sea estratificado?\n",
    "\n",
    "Te recuerdo que una división se denomina estratificada cuando garantiza que la distribución de la variable objetivo se mantiene entre el conjunto de entrenamiento y test. \n",
    "\n",
    "No hace falta que implementes la función, con explicar como lo resolverías es suficiente."
   ]
  },
  {
   "cell_type": "markdown",
   "metadata": {},
   "source": [
    "**Respuesta:**  Para que la división fuera estratificada, se resolvería trasladando la proporciones de la division de train a test a cada uno de los grupos que pudieran conformar cada uno de los valores que pudiera contemplar la variable objetivo, independientemente de que un grupo fuera de clase fuera más numeroso y otro fuera menos numeroso. \n",
    "\n",
    "El ejemplo lo he realizado en la función **split_data** del aparatdo anterior que servirá para crear un fichero de train y test con las mismas proporciones (estratificado). En el ejemplo hemos fijado un 30% para el conjunto de test y un 70% para el train. Y la solución ha sido agrupar por los ditintos valores que tiene la variable objetivo/predicha **Cover_Type** y aplicar para cada grupo la división de 30% de los registros para test y el 70% pra train, así para todos los grupos."
   ]
  },
  {
   "cell_type": "markdown",
   "metadata": {},
   "source": [
    "# Entrenamiento incremental\n",
    "\n",
    "Entrena de forma incremental un `Perceptron` para este conjunto de datos. El dataset de test lo puedes cargar en memoria en su totalidad. Te recomiendo que utilices funciones al menos con el preprocesamiento para poder reutilizarlo.\n",
    "\n",
    "Intenta obtener los mejores resultados posibles. Algunas de las técnicas explicadas en el worksheet te ayudarán a obtener mejores resultados.\n",
    "\n",
    "Por último indica cual sería el porcentaje de acierto del modelo. ¿es único? ¿cambia a lo largo del tiempo?."
   ]
  },
  {
   "cell_type": "code",
   "execution_count": 10,
   "metadata": {
    "ExecuteTime": {
     "end_time": "2021-12-09T17:40:44.494583Z",
     "start_time": "2021-12-09T17:40:44.469964Z"
    }
   },
   "outputs": [],
   "source": [
    "\"\"\"Función que permite generar la parte Preditora X y la parte Predicha y a partir de un dataset y la variable\n",
    "objetivo\"\"\"\n",
    "def creatre_X_y (my_df, my_obj_var):\n",
    "\n",
    "    X=my_df.loc[:].drop(my_obj_var,axis=1).to_numpy()\n",
    "    y=my_df[my_obj_var].to_numpy()\n",
    "    \n",
    "    return X,y"
   ]
  },
  {
   "cell_type": "code",
   "execution_count": 23,
   "metadata": {
    "ExecuteTime": {
     "end_time": "2021-12-09T17:45:16.531230Z",
     "start_time": "2021-12-09T17:45:16.503228Z"
    }
   },
   "outputs": [],
   "source": [
    "\"\"\" Función que permitirá entrenar en bacthes. Tine como parámetros:\n",
    "    path_train -> Ruta donde se encuentra el dataset de train.\n",
    "    model -> El modelo que se utiliza para hacer el entrenamiento y la predicción.\n",
    "    normalizator -> El nomralizador del dataset.\n",
    "    my_batch_size -> El tamaño del batch con el que iremos leyendo.\"\"\"\n",
    "\n",
    "def train_with_batches(path_train, model, normalizator=None, my_batch_size=100000):\n",
    "    \"\"\"\n",
    "    Entrena un modelo con minibatches y devuelve el mismo una vez entrenado.\n",
    "    \"\"\"    \n",
    "    classes = np.unique([1,2,3,4,5,6,7]) # Clases que tenemos en el dataset.\n",
    "\n",
    "    with open(path_train, 'r') as file:\n",
    "        iterator = pd.read_csv(file, chunksize=my_batch_size)\n",
    "        for batch in iterator:\n",
    "#             print (f'Cargado batch de datos de {len(batch)} elementos.')\n",
    "            X_train,y_train=creatre_X_y (batch,OBJ_VAR)\n",
    "            # Normalizamos utilizando partial_fit ya que vamos entrenando por batchs\n",
    "            if (normalizator) :\n",
    "                X_train=normalizator.fit(X_train).transform(X_train) \n",
    "            model.partial_fit(X_train, y_train, classes)\n",
    "            \n",
    "    return model     "
   ]
  },
  {
   "cell_type": "code",
   "execution_count": 24,
   "metadata": {
    "ExecuteTime": {
     "end_time": "2021-12-09T17:45:21.327013Z",
     "start_time": "2021-12-09T17:45:20.143480Z"
    }
   },
   "outputs": [],
   "source": [
    "# Leemos el dataset de test, reduciendo a la mitad la memoria que ocupa, obligando que el tipo sea int32 en vez\n",
    "# de int64.\n",
    "df_test = pd.read_csv(PATH_TEST,index_col=False,dtype='int32')\n",
    "X_test,y_test=creatre_X_y(df_test,OBJ_VAR')"
   ]
  },
  {
   "cell_type": "code",
   "execution_count": 25,
   "metadata": {
    "ExecuteTime": {
     "end_time": "2021-12-09T17:45:27.929881Z",
     "start_time": "2021-12-09T17:45:23.953251Z"
    }
   },
   "outputs": [
    {
     "name": "stdout",
     "output_type": "stream",
     "text": [
      "Porcentaje de acierto: 54.9126 %\n"
     ]
    }
   ],
   "source": [
    "model_incremental=train_with_batches(PATH_TRAIN, Perceptron(random_state=42),my_batch_size=BATCH_SIZE)\n",
    "resultados = model_incremental.score(X_test, y_test)\n",
    "print(f'Porcentaje de acierto: {(resultados*100):.4f} %')"
   ]
  },
  {
   "cell_type": "markdown",
   "metadata": {},
   "source": [
    "### Normalización"
   ]
  },
  {
   "cell_type": "code",
   "execution_count": 26,
   "metadata": {
    "ExecuteTime": {
     "end_time": "2021-12-09T17:45:31.602400Z",
     "start_time": "2021-12-09T17:45:31.594141Z"
    }
   },
   "outputs": [],
   "source": [
    "#Utilizamos StandarScaler para normalizar los datos.\n",
    "from sklearn.preprocessing import StandardScaler\n",
    "scaler_Train = StandardScaler()\n",
    "scaler_Test = StandardScaler()"
   ]
  },
  {
   "cell_type": "code",
   "execution_count": 27,
   "metadata": {
    "ExecuteTime": {
     "end_time": "2021-12-09T17:45:36.120261Z",
     "start_time": "2021-12-09T17:45:34.601426Z"
    }
   },
   "outputs": [],
   "source": [
    "df_test = pd.read_csv(PATH_TEST,index_col=False,dtype='int32')\n",
    "X_test,y_test=creatre_X_y(df_test,OBJ_VAR)\n",
    "X_test=scaler_Test.fit(X_test).transform(X_test)"
   ]
  },
  {
   "cell_type": "code",
   "execution_count": 28,
   "metadata": {
    "ExecuteTime": {
     "end_time": "2021-12-09T17:45:43.869115Z",
     "start_time": "2021-12-09T17:45:38.808653Z"
    }
   },
   "outputs": [
    {
     "name": "stdout",
     "output_type": "stream",
     "text": [
      "Porcentaje de acierto: 55.7944 %\n"
     ]
    }
   ],
   "source": [
    "model_incremental=train_with_batches(PATH_TRAIN,\n",
    "                                     Perceptron(random_state=42,\n",
    "                                                eta0=0.1, \n",
    "                                                max_iter=200000),\n",
    "                                     scaler_Train,\n",
    "                                     BATCH_SIZE)\n",
    "resultados = model_incremental.score(X_test, y_test)\n",
    "print(f'Porcentaje de acierto: {(resultados*100):.4f} %')"
   ]
  },
  {
   "cell_type": "markdown",
   "metadata": {},
   "source": [
    "* **Respuesta:** \n",
    "    * Los resultados mejoran al realizarle un proceso de Normalización, en este caso usando un StandardScaler, aunque se ha hecho pruebas con MinMaxScaler, pero los resultados no eran tan satisfactorios, debido a que seguramante se vea bastante afectado por outlayers.\n",
    "    * A nivel general y por lo visto en los entrenamientos, el resultado puede fluctuar dependiendo principalmente del tamaño del batchsize, a mayor tamaño los valores son más estables, a menor tamaño a variabilidad de los reusltados es mayor y a nivel global el score es más bajo. \n"
   ]
  },
  {
   "cell_type": "markdown",
   "metadata": {},
   "source": [
    "# Entrenamiento no incremental\n",
    "\n",
    "Carga el dataset completo en memoria, dividelo en conjunto de entrenamiento y test y entrenalo en un único paso. Calcula el porcentaje de acierto. "
   ]
  },
  {
   "cell_type": "code",
   "execution_count": 17,
   "metadata": {
    "ExecuteTime": {
     "end_time": "2021-12-09T17:40:57.792570Z",
     "start_time": "2021-12-09T17:40:54.713800Z"
    }
   },
   "outputs": [
    {
     "name": "stdout",
     "output_type": "stream",
     "text": [
      "<class 'pandas.core.frame.DataFrame'>\n",
      "RangeIndex: 406724 entries, 0 to 406723\n",
      "Data columns (total 55 columns):\n",
      " #   Column                              Non-Null Count   Dtype\n",
      "---  ------                              --------------   -----\n",
      " 0   Elevation                           406724 non-null  int32\n",
      " 1   Aspect                              406724 non-null  int32\n",
      " 2   Slope                               406724 non-null  int32\n",
      " 3   Horizontal_Distance_To_Hydrology    406724 non-null  int32\n",
      " 4   Vertical_Distance_To_Hydrology      406724 non-null  int32\n",
      " 5   Horizontal_Distance_To_Roadways     406724 non-null  int32\n",
      " 6   Hillshade_9am                       406724 non-null  int32\n",
      " 7   Hillshade_Noon                      406724 non-null  int32\n",
      " 8   Hillshade_3pm                       406724 non-null  int32\n",
      " 9   Horizontal_Distance_To_Fire_Points  406724 non-null  int32\n",
      " 10  Wilderness_Area1                    406724 non-null  int32\n",
      " 11  Wilderness_Area2                    406724 non-null  int32\n",
      " 12  Wilderness_Area3                    406724 non-null  int32\n",
      " 13  Wilderness_Area4                    406724 non-null  int32\n",
      " 14  Soil_Type1                          406724 non-null  int32\n",
      " 15  Soil_Type2                          406724 non-null  int32\n",
      " 16  Soil_Type3                          406724 non-null  int32\n",
      " 17  Soil_Type4                          406724 non-null  int32\n",
      " 18  Soil_Type5                          406724 non-null  int32\n",
      " 19  Soil_Type6                          406724 non-null  int32\n",
      " 20  Soil_Type7                          406724 non-null  int32\n",
      " 21  Soil_Type8                          406724 non-null  int32\n",
      " 22  Soil_Type9                          406724 non-null  int32\n",
      " 23  Soil_Type10                         406724 non-null  int32\n",
      " 24  Soil_Type11                         406724 non-null  int32\n",
      " 25  Soil_Type12                         406724 non-null  int32\n",
      " 26  Soil_Type13                         406724 non-null  int32\n",
      " 27  Soil_Type14                         406724 non-null  int32\n",
      " 28  Soil_Type15                         406724 non-null  int32\n",
      " 29  Soil_Type16                         406724 non-null  int32\n",
      " 30  Soil_Type17                         406724 non-null  int32\n",
      " 31  Soil_Type18                         406724 non-null  int32\n",
      " 32  Soil_Type19                         406724 non-null  int32\n",
      " 33  Soil_Type20                         406724 non-null  int32\n",
      " 34  Soil_Type21                         406724 non-null  int32\n",
      " 35  Soil_Type22                         406724 non-null  int32\n",
      " 36  Soil_Type23                         406724 non-null  int32\n",
      " 37  Soil_Type24                         406724 non-null  int32\n",
      " 38  Soil_Type25                         406724 non-null  int32\n",
      " 39  Soil_Type26                         406724 non-null  int32\n",
      " 40  Soil_Type27                         406724 non-null  int32\n",
      " 41  Soil_Type28                         406724 non-null  int32\n",
      " 42  Soil_Type29                         406724 non-null  int32\n",
      " 43  Soil_Type30                         406724 non-null  int32\n",
      " 44  Soil_Type31                         406724 non-null  int32\n",
      " 45  Soil_Type32                         406724 non-null  int32\n",
      " 46  Soil_Type33                         406724 non-null  int32\n",
      " 47  Soil_Type34                         406724 non-null  int32\n",
      " 48  Soil_Type35                         406724 non-null  int32\n",
      " 49  Soil_Type36                         406724 non-null  int32\n",
      " 50  Soil_Type37                         406724 non-null  int32\n",
      " 51  Soil_Type38                         406724 non-null  int32\n",
      " 52  Soil_Type39                         406724 non-null  int32\n",
      " 53  Soil_Type40                         406724 non-null  int32\n",
      " 54  Cover_Type                          406724 non-null  int32\n",
      "dtypes: int32(55)\n",
      "memory usage: 85.3 MB\n"
     ]
    }
   ],
   "source": [
    "# Cargamos los datos de entreno y test\n",
    "df_train = pd.read_csv(PATH_TRAIN,index_col=False,dtype='int32')\n",
    "df_test = pd.read_csv(PATH_TEST,index_col=False,dtype='int32')\n",
    "#Mostramos información de la parte de entreno.\n",
    "df_train.info()"
   ]
  },
  {
   "cell_type": "code",
   "execution_count": 18,
   "metadata": {
    "ExecuteTime": {
     "end_time": "2021-12-09T17:41:13.615350Z",
     "start_time": "2021-12-09T17:40:57.796543Z"
    }
   },
   "outputs": [
    {
     "name": "stdout",
     "output_type": "stream",
     "text": [
      "Porcentaje de acierto: 63.0669 %\n"
     ]
    }
   ],
   "source": [
    "# Generamos parte X,y de la parte Train y Test.\n",
    "X_train_no_inc,y_train_no_inc=creatre_X_y(df_train,OBJ_VAR)\n",
    "X_test_no_inc,y_test_no_inc=creatre_X_y(df_test,OBJ_VAR)\n",
    "\n",
    "# Usamos StandardScaler para normalizar/estandarizar los valores del dataset.\n",
    "scaler_Train = StandardScaler()\n",
    "scaler_Test = StandardScaler()\n",
    "\n",
    "#Normalizamos por separado la parte de Train y la parte de Test.\n",
    "X_train_no_inc=scaler_Train.fit(X_train_no_inc).transform(X_train_no_inc)\n",
    "X_test_no_inc=scaler_Test.fit(X_test_no_inc).transform(X_test_no_inc)\n",
    "\n",
    "#Instanciamos el Perceptron.\n",
    "cls_no_incremental=Perceptron(random_state=42,\n",
    "                              eta0=0.1,\n",
    "                              max_iter=200000,\n",
    "                              early_stopping=True)\n",
    "#Realizamos el entrenamiento y sacamos el score comparando con la parte de test.\n",
    "resultados_no_inc=cls_no_incremental.fit(X_train_no_inc,y_train_no_inc).score(X_test_no_inc, y_test_no_inc)\n",
    "                    \n",
    "print(f'Porcentaje de acierto: {(resultados_no_inc*100):.4f} %')"
   ]
  },
  {
   "cell_type": "markdown",
   "metadata": {},
   "source": [
    "# Conclusiones\n",
    "\n",
    "Compara los resultados obtenidos del aprendizaje incremental con el no incremental. Explica las ventajas e inconvenientes de cada uno de los enfoques. \n",
    "\n",
    "Indica también algún punto de mejora que se ocurra."
   ]
  },
  {
   "cell_type": "markdown",
   "metadata": {},
   "source": [
    "* **Respuesta:** Los resultados son mejores en el **no incremental** que en el **incremental**. Y dentro del incremental se mejoran resultados normalizando y parametrizando con otros valores y parámetros el modelo, en este caso el Perceptron. Como principales PROS y CONTRAS para los dos tipos de entrenamiento:\n",
    "    * **No Incremental:**\n",
    "        * **PROS:** Se entrena con todo el dataset recogiendo toda la casuística en los datos.   Todos los modelos soportan el entranamiento No Incremental\n",
    "        * **CONTRAS:** A veces no se puede disponer de todos los datos, bien por que los datos se generan en tiempo real, o por partes, bien por que no se dispone de capacidad de hardware para poder tenerlos cargados en memoria.\n",
    "        \n",
    "    * **No Incremental:**\n",
    "        * **PROS:** Es ideal cuando tenemos limitaciones tanto del tipo \"hardware\" y no hay capacidad para poder tener cargados los datos en memoria como por la carateristicas de los datos en el que no se disponen de la totalidad en el momento del entreno ya que se van generando en tiempo real, o se recogen en tandas o batchs.\n",
    "        * **CONTRAS:** No todos los modelos soportan el entreno incremental, como por ejemplo los Knn, SVM. Y los que pueden no están permitidos todos los parámetros.\n",
    "        \n",
    "    * **Como acciones de mejora:**\n",
    "        * Utilizar un modelo en principio más complejo como un MLPClassifier,SGDClassifier\n",
    "        * Reducir dimensionalidad con un IncrementalPCA que admite partial_fit.\n",
    "        * Aumentar en la medida de lo posible el tamaño del batch_size.\n",
    "       \n",
    "        "
   ]
  },
  {
   "cell_type": "code",
   "execution_count": null,
   "metadata": {
    "ExecuteTime": {
     "end_time": "2021-12-09T18:06:53.728102Z",
     "start_time": "2021-12-09T18:06:30.853214Z"
    }
   },
   "outputs": [],
   "source": []
  }
 ],
 "metadata": {
  "anaconda-cloud": {},
  "kernelspec": {
   "display_name": "Python 3",
   "language": "python",
   "name": "python3"
  },
  "language_info": {
   "codemirror_mode": {
    "name": "ipython",
    "version": 3
   },
   "file_extension": ".py",
   "mimetype": "text/x-python",
   "name": "python",
   "nbconvert_exporter": "python",
   "pygments_lexer": "ipython3",
   "version": "3.8.5"
  },
  "toc": {
   "base_numbering": 1,
   "nav_menu": {},
   "number_sections": true,
   "sideBar": true,
   "skip_h1_title": false,
   "title_cell": "Table of Contents",
   "title_sidebar": "Contents",
   "toc_cell": false,
   "toc_position": {
    "height": "calc(100% - 180px)",
    "left": "10px",
    "top": "150px",
    "width": "165px"
   },
   "toc_section_display": true,
   "toc_window_display": true
  },
  "varInspector": {
   "cols": {
    "lenName": 16,
    "lenType": 16,
    "lenVar": 40
   },
   "kernels_config": {
    "python": {
     "delete_cmd_postfix": "",
     "delete_cmd_prefix": "del ",
     "library": "var_list.py",
     "varRefreshCmd": "print(var_dic_list())"
    },
    "r": {
     "delete_cmd_postfix": ") ",
     "delete_cmd_prefix": "rm(",
     "library": "var_list.r",
     "varRefreshCmd": "cat(var_dic_list()) "
    }
   },
   "types_to_exclude": [
    "module",
    "function",
    "builtin_function_or_method",
    "instance",
    "_Feature"
   ],
   "window_display": false
  }
 },
 "nbformat": 4,
 "nbformat_minor": 2
}
