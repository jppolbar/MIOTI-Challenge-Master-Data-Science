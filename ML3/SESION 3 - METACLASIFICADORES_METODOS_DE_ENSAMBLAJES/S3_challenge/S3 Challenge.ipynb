{
 "cells": [
  {
   "cell_type": "markdown",
   "metadata": {},
   "source": [
    "<br/><img width=\"300px\" alt=\"\" src=\"data:image/jpeg;base64,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\" /><br/><br/>\n",
    "<center style=\"color:#888\">Machine learning 3</center>\n",
    "<center style=\"color:#aaa; margin-top:10px;\"><b>Prof. Diego García Morate</b><br>diegogm@faculty.mioti.es</center>\n",
    "<p style=\"font-size: 2.5em; text-align:center; line-height:35px\">Challenge S3: Jugando con metaclasificadores</p><br/>"
   ]
  },
  {
   "cell_type": "markdown",
   "metadata": {},
   "source": [
    "# Objetivos\n",
    "\n",
    "El objetivo de este challenge es entrenar varios metaclasificadores intentando predecir el rendimiento académico de varios alumnos en base a variables de su entorno.\n",
    "\n",
    "## Prerrequisitos\n",
    "\n",
    "Para hacer funcionar este worksheet deberás tener instalados los paquetes:\n",
    "\n",
    "* `numpy`\n",
    "* `pandas`\n",
    "* `scikit-learn`\n",
    "* `scipy`"
   ]
  },
  {
   "cell_type": "markdown",
   "metadata": {},
   "source": [
    "## Configuración del entorno"
   ]
  },
  {
   "cell_type": "code",
   "execution_count": 1,
   "metadata": {
    "ExecuteTime": {
     "end_time": "2021-11-29T16:30:15.694591Z",
     "start_time": "2021-11-29T16:30:12.097602Z"
    }
   },
   "outputs": [],
   "source": [
    "%matplotlib inline\n",
    "\n",
    "\n",
    "import warnings\n",
    "warnings.filterwarnings(\"ignore\")\n",
    "\n",
    "import numpy as np\n",
    "import pandas as pd\n",
    "import matplotlib\n",
    "import matplotlib.pyplot as plt\n",
    "# # Seleccionamos un tamaño de letra que se pueda leer.\n",
    "# matplotlib.rcParams.update({'font.size': 14})\n",
    "from math import sqrt, exp, pi\n",
    "import sklearn\n",
    "\n",
    "import random\n",
    "\n",
    "from sklearn.metrics import confusion_matrix\n",
    "from sklearn.model_selection import cross_val_score\n",
    "from sklearn.model_selection import train_test_split\n",
    "\n",
    "from sklearn import svm\n",
    "from sklearn.neural_network import MLPClassifier"
   ]
  },
  {
   "cell_type": "markdown",
   "metadata": {},
   "source": [
    "# Dataset\n",
    "\n",
    "En este challenge vamos a trabajar con un dataset publicado en rel repositorio de la UCI que se llama `Student Performance`. Este dataset relaciona el rendimiento académico de alumnos portugueses de secundaria con un conjunto de variables de entorno. Lo puedes encontrar en: https://archive.ics.uci.edu/ml/datasets/Student+Performance\n",
    "\n",
    "\n",
    "A continuación se muestra la descripción del dataset: \n",
    "\n",
    "\n",
    "<p class=\"small-heading\"><b>Data Set Information:</b></p>\n",
    "<p class=\"normal\">This data approach student achievement in secondary education of two Portuguese schools. The data attributes include student grades, demographic, social and school related features) and it was collected by using school reports and questionnaires. Two datasets are provided regarding the performance in two distinct subjects: Mathematics (mat) and Portuguese language (por). In [Cortez and Silva, 2008], the two datasets were modeled under binary/five-level classification and regression tasks. Important note: the target attribute G3 has a strong correlation with attributes G2 and G1. This occurs because G3 is the final year grade (issued at the 3rd period), while G1 and G2 correspond to the 1st and 2nd period grades. It is more difficult to predict G3 without G2 and G1, but such prediction is much more useful (see paper source for more details).</p>\n",
    "\n",
    "<br />\n",
    "\n",
    "<p class=\"small-heading\"><b>Attribute Information:</b></p>\n",
    "<p class=\"normal\"># Attributes for both student-mat.csv (Math course) and student-por.csv (Portuguese language course) datasets:\n",
    "<br>1 school - student's school (binary: 'GP' - Gabriel Pereira or 'MS' - Mousinho da Silveira)\n",
    "<br>2 sex - student's sex (binary: 'F' - female or 'M' - male)\n",
    "<br>3 age - student's age (numeric: from 15 to 22)\n",
    "<br>4 address - student's home address type (binary: 'U' - urban or 'R' - rural)\n",
    "<br>5 famsize - family size (binary: 'LE3' - less or equal to 3 or 'GT3' - greater than 3)\n",
    "<br>6 Pstatus - parent's cohabitation status (binary: 'T' - living together or 'A' - apart)\n",
    "<br>7 Medu - mother's education (numeric: 0 - none,  1 - primary education (4th grade), 2 â€“ 5th to 9th grade, 3 â€“ secondary education or 4 â€“ higher education)\n",
    "<br>8 Fedu - father's education (numeric: 0 - none,  1 - primary education (4th grade), 2 â€“ 5th to 9th grade, 3 â€“ secondary education or 4 â€“ higher education)\n",
    "<br>9 Mjob - mother's job (nominal: 'teacher', 'health' care related, civil 'services' (e.g. administrative or police), 'at_home' or 'other')\n",
    "<br>10 Fjob - father's job (nominal: 'teacher', 'health' care related, civil 'services' (e.g. administrative or police), 'at_home' or 'other')\n",
    "<br>11 reason - reason to choose this school (nominal: close to 'home', school 'reputation', 'course' preference or 'other')\n",
    "<br>12 guardian - student's guardian (nominal: 'mother', 'father' or 'other')\n",
    "<br>13 traveltime - home to school travel time (numeric: 1 - <15 min., 2 - 15 to 30 min., 3 - 30 min. to 1 hour, or 4 - >1 hour)\n",
    "<br>14 studytime - weekly study time (numeric: 1 - <2 hours, 2 - 2 to 5 hours, 3 - 5 to 10 hours, or 4 - >10 hours)\n",
    "<br>15 failures - number of past class failures (numeric: n if 1<=n<3, else 4)\n",
    "<br>16 schoolsup - extra educational support (binary: yes or no)\n",
    "<br>17 famsup - family educational support (binary: yes or no)\n",
    "<br>18 paid - extra paid classes within the course subject (Math or Portuguese) (binary: yes or no)\n",
    "<br>19 activities - extra-curricular activities (binary: yes or no)\n",
    "<br>20 nursery - attended nursery school (binary: yes or no)\n",
    "<br>21 higher - wants to take higher education (binary: yes or no)\n",
    "<br>22 internet - Internet access at home (binary: yes or no)\n",
    "<br>23 romantic - with a romantic relationship (binary: yes or no)\n",
    "<br>24 famrel - quality of family relationships (numeric: from 1 - very bad to 5 - excellent)\n",
    "<br>25 freetime - free time after school (numeric: from 1 - very low to 5 - very high)\n",
    "<br>26 goout - going out with friends (numeric: from 1 - very low to 5 - very high)\n",
    "<br>27 Dalc - workday alcohol consumption (numeric: from 1 - very low to 5 - very high)\n",
    "<br>28 Walc - weekend alcohol consumption (numeric: from 1 - very low to 5 - very high)\n",
    "<br>29 health - current health status (numeric: from 1 - very bad to 5 - very good)\n",
    "<br>30 absences - number of school absences (numeric: from 0 to 93)\n",
    "<br>\n",
    "<br># these grades are related with the course subject, Math or Portuguese:\n",
    "<br>31 G1 - first period grade (numeric: from 0 to 20)\n",
    "<br>31 G2 - second period grade (numeric: from 0 to 20)\n",
    "<br>32 G3 - final grade (numeric: from 0 to 20, output target)</p>\n",
    "    "
   ]
  },
  {
   "cell_type": "markdown",
   "metadata": {},
   "source": [
    "# Preprocessing\n",
    "\n",
    "Empezaremos, como siempre, realizando todo el preprocesamiento necesario.\n",
    "\n",
    "Lo primero que haremos es cargar el dataset y tratamiento todas las columnas no numéricas:"
   ]
  },
  {
   "cell_type": "code",
   "execution_count": 2,
   "metadata": {
    "ExecuteTime": {
     "end_time": "2021-11-29T16:30:15.726604Z",
     "start_time": "2021-11-29T16:30:15.700601Z"
    }
   },
   "outputs": [],
   "source": [
    "df = pd.read_csv('student-por.csv', sep=';')"
   ]
  },
  {
   "cell_type": "code",
   "execution_count": 3,
   "metadata": {
    "ExecuteTime": {
     "end_time": "2021-11-29T16:30:15.790605Z",
     "start_time": "2021-11-29T16:30:15.738608Z"
    }
   },
   "outputs": [
    {
     "name": "stdout",
     "output_type": "stream",
     "text": [
      "<class 'pandas.core.frame.DataFrame'>\n",
      "RangeIndex: 649 entries, 0 to 648\n",
      "Data columns (total 33 columns):\n",
      " #   Column      Non-Null Count  Dtype \n",
      "---  ------      --------------  ----- \n",
      " 0   school      649 non-null    object\n",
      " 1   sex         649 non-null    object\n",
      " 2   age         649 non-null    int64 \n",
      " 3   address     649 non-null    object\n",
      " 4   famsize     649 non-null    object\n",
      " 5   Pstatus     649 non-null    object\n",
      " 6   Medu        649 non-null    int64 \n",
      " 7   Fedu        649 non-null    int64 \n",
      " 8   Mjob        649 non-null    object\n",
      " 9   Fjob        649 non-null    object\n",
      " 10  reason      649 non-null    object\n",
      " 11  guardian    649 non-null    object\n",
      " 12  traveltime  649 non-null    int64 \n",
      " 13  studytime   649 non-null    int64 \n",
      " 14  failures    649 non-null    int64 \n",
      " 15  schoolsup   649 non-null    object\n",
      " 16  famsup      649 non-null    object\n",
      " 17  paid        649 non-null    object\n",
      " 18  activities  649 non-null    object\n",
      " 19  nursery     649 non-null    object\n",
      " 20  higher      649 non-null    object\n",
      " 21  internet    649 non-null    object\n",
      " 22  romantic    649 non-null    object\n",
      " 23  famrel      649 non-null    int64 \n",
      " 24  freetime    649 non-null    int64 \n",
      " 25  goout       649 non-null    int64 \n",
      " 26  Dalc        649 non-null    int64 \n",
      " 27  Walc        649 non-null    int64 \n",
      " 28  health      649 non-null    int64 \n",
      " 29  absences    649 non-null    int64 \n",
      " 30  G1          649 non-null    int64 \n",
      " 31  G2          649 non-null    int64 \n",
      " 32  G3          649 non-null    int64 \n",
      "dtypes: int64(16), object(17)\n",
      "memory usage: 167.4+ KB\n"
     ]
    }
   ],
   "source": [
    "df.info()"
   ]
  },
  {
   "cell_type": "code",
   "execution_count": 4,
   "metadata": {
    "ExecuteTime": {
     "end_time": "2021-11-29T16:30:15.852602Z",
     "start_time": "2021-11-29T16:30:15.795606Z"
    }
   },
   "outputs": [
    {
     "data": {
      "text/html": [
       "<div>\n",
       "<style scoped>\n",
       "    .dataframe tbody tr th:only-of-type {\n",
       "        vertical-align: middle;\n",
       "    }\n",
       "\n",
       "    .dataframe tbody tr th {\n",
       "        vertical-align: top;\n",
       "    }\n",
       "\n",
       "    .dataframe thead th {\n",
       "        text-align: right;\n",
       "    }\n",
       "</style>\n",
       "<table border=\"1\" class=\"dataframe\">\n",
       "  <thead>\n",
       "    <tr style=\"text-align: right;\">\n",
       "      <th></th>\n",
       "      <th>school</th>\n",
       "      <th>sex</th>\n",
       "      <th>age</th>\n",
       "      <th>address</th>\n",
       "      <th>famsize</th>\n",
       "      <th>Pstatus</th>\n",
       "      <th>Medu</th>\n",
       "      <th>Fedu</th>\n",
       "      <th>Mjob</th>\n",
       "      <th>Fjob</th>\n",
       "      <th>...</th>\n",
       "      <th>famrel</th>\n",
       "      <th>freetime</th>\n",
       "      <th>goout</th>\n",
       "      <th>Dalc</th>\n",
       "      <th>Walc</th>\n",
       "      <th>health</th>\n",
       "      <th>absences</th>\n",
       "      <th>G1</th>\n",
       "      <th>G2</th>\n",
       "      <th>G3</th>\n",
       "    </tr>\n",
       "  </thead>\n",
       "  <tbody>\n",
       "    <tr>\n",
       "      <th>0</th>\n",
       "      <td>GP</td>\n",
       "      <td>F</td>\n",
       "      <td>18</td>\n",
       "      <td>U</td>\n",
       "      <td>GT3</td>\n",
       "      <td>A</td>\n",
       "      <td>4</td>\n",
       "      <td>4</td>\n",
       "      <td>at_home</td>\n",
       "      <td>teacher</td>\n",
       "      <td>...</td>\n",
       "      <td>4</td>\n",
       "      <td>3</td>\n",
       "      <td>4</td>\n",
       "      <td>1</td>\n",
       "      <td>1</td>\n",
       "      <td>3</td>\n",
       "      <td>4</td>\n",
       "      <td>0</td>\n",
       "      <td>11</td>\n",
       "      <td>11</td>\n",
       "    </tr>\n",
       "    <tr>\n",
       "      <th>1</th>\n",
       "      <td>GP</td>\n",
       "      <td>F</td>\n",
       "      <td>17</td>\n",
       "      <td>U</td>\n",
       "      <td>GT3</td>\n",
       "      <td>T</td>\n",
       "      <td>1</td>\n",
       "      <td>1</td>\n",
       "      <td>at_home</td>\n",
       "      <td>other</td>\n",
       "      <td>...</td>\n",
       "      <td>5</td>\n",
       "      <td>3</td>\n",
       "      <td>3</td>\n",
       "      <td>1</td>\n",
       "      <td>1</td>\n",
       "      <td>3</td>\n",
       "      <td>2</td>\n",
       "      <td>9</td>\n",
       "      <td>11</td>\n",
       "      <td>11</td>\n",
       "    </tr>\n",
       "    <tr>\n",
       "      <th>2</th>\n",
       "      <td>GP</td>\n",
       "      <td>F</td>\n",
       "      <td>15</td>\n",
       "      <td>U</td>\n",
       "      <td>LE3</td>\n",
       "      <td>T</td>\n",
       "      <td>1</td>\n",
       "      <td>1</td>\n",
       "      <td>at_home</td>\n",
       "      <td>other</td>\n",
       "      <td>...</td>\n",
       "      <td>4</td>\n",
       "      <td>3</td>\n",
       "      <td>2</td>\n",
       "      <td>2</td>\n",
       "      <td>3</td>\n",
       "      <td>3</td>\n",
       "      <td>6</td>\n",
       "      <td>12</td>\n",
       "      <td>13</td>\n",
       "      <td>12</td>\n",
       "    </tr>\n",
       "    <tr>\n",
       "      <th>3</th>\n",
       "      <td>GP</td>\n",
       "      <td>F</td>\n",
       "      <td>15</td>\n",
       "      <td>U</td>\n",
       "      <td>GT3</td>\n",
       "      <td>T</td>\n",
       "      <td>4</td>\n",
       "      <td>2</td>\n",
       "      <td>health</td>\n",
       "      <td>services</td>\n",
       "      <td>...</td>\n",
       "      <td>3</td>\n",
       "      <td>2</td>\n",
       "      <td>2</td>\n",
       "      <td>1</td>\n",
       "      <td>1</td>\n",
       "      <td>5</td>\n",
       "      <td>0</td>\n",
       "      <td>14</td>\n",
       "      <td>14</td>\n",
       "      <td>14</td>\n",
       "    </tr>\n",
       "    <tr>\n",
       "      <th>4</th>\n",
       "      <td>GP</td>\n",
       "      <td>F</td>\n",
       "      <td>16</td>\n",
       "      <td>U</td>\n",
       "      <td>GT3</td>\n",
       "      <td>T</td>\n",
       "      <td>3</td>\n",
       "      <td>3</td>\n",
       "      <td>other</td>\n",
       "      <td>other</td>\n",
       "      <td>...</td>\n",
       "      <td>4</td>\n",
       "      <td>3</td>\n",
       "      <td>2</td>\n",
       "      <td>1</td>\n",
       "      <td>2</td>\n",
       "      <td>5</td>\n",
       "      <td>0</td>\n",
       "      <td>11</td>\n",
       "      <td>13</td>\n",
       "      <td>13</td>\n",
       "    </tr>\n",
       "  </tbody>\n",
       "</table>\n",
       "<p>5 rows × 33 columns</p>\n",
       "</div>"
      ],
      "text/plain": [
       "  school sex  age address famsize Pstatus  Medu  Fedu     Mjob      Fjob  ...  \\\n",
       "0     GP   F   18       U     GT3       A     4     4  at_home   teacher  ...   \n",
       "1     GP   F   17       U     GT3       T     1     1  at_home     other  ...   \n",
       "2     GP   F   15       U     LE3       T     1     1  at_home     other  ...   \n",
       "3     GP   F   15       U     GT3       T     4     2   health  services  ...   \n",
       "4     GP   F   16       U     GT3       T     3     3    other     other  ...   \n",
       "\n",
       "  famrel freetime  goout  Dalc  Walc health absences  G1  G2  G3  \n",
       "0      4        3      4     1     1      3        4   0  11  11  \n",
       "1      5        3      3     1     1      3        2   9  11  11  \n",
       "2      4        3      2     2     3      3        6  12  13  12  \n",
       "3      3        2      2     1     1      5        0  14  14  14  \n",
       "4      4        3      2     1     2      5        0  11  13  13  \n",
       "\n",
       "[5 rows x 33 columns]"
      ]
     },
     "execution_count": 4,
     "metadata": {},
     "output_type": "execute_result"
    }
   ],
   "source": [
    "df.head()"
   ]
  },
  {
   "cell_type": "markdown",
   "metadata": {},
   "source": [
    "Como podemos ver existen multitud de columnas que son enumerados. En general, para poder entrenar modelos con este tipo de datos tendremos que convertir estos valores en valores numéricos, para ello nos vamos a construir una función que nos ayude en esta tarea:"
   ]
  },
  {
   "cell_type": "code",
   "execution_count": 5,
   "metadata": {
    "ExecuteTime": {
     "end_time": "2021-11-29T16:30:15.868593Z",
     "start_time": "2021-11-29T16:30:15.857605Z"
    }
   },
   "outputs": [],
   "source": [
    "def preprocess_column(df, column_name):\n",
    "    if 'int' in str(df[column_name].dtype):\n",
    "        return df\n",
    "        \n",
    "    values = df[column_name].unique()\n",
    "    if len(values) == 2:\n",
    "        # 2 valores, no hay dudas: mapping binario\n",
    "        df[column_name] = df[column_name].map({values[0]: 0, values[1]: 1})\n",
    "    elif len(values) == 3:\n",
    "        # 3 valores: Variables dummy\n",
    "        df = pd.get_dummies(df, columns=[column_name])\n",
    "    else:\n",
    "        # 4 o más: mapping numérico. \n",
    "        mapping = {}\n",
    "        index = 0\n",
    "        for value in values:\n",
    "            mapping[value] = index\n",
    "            index += 1        \n",
    "        \n",
    "        df[column_name] = df[column_name].map(mapping)\n",
    "        \n",
    "    return df"
   ]
  },
  {
   "cell_type": "code",
   "execution_count": 6,
   "metadata": {
    "ExecuteTime": {
     "end_time": "2021-11-29T16:30:15.930592Z",
     "start_time": "2021-11-29T16:30:15.878595Z"
    }
   },
   "outputs": [],
   "source": [
    "for column in df.columns:\n",
    "    df = preprocess_column(df, column)"
   ]
  },
  {
   "cell_type": "code",
   "execution_count": 7,
   "metadata": {
    "ExecuteTime": {
     "end_time": "2021-11-29T16:30:15.961603Z",
     "start_time": "2021-11-29T16:30:15.935592Z"
    }
   },
   "outputs": [
    {
     "data": {
      "text/html": [
       "<div>\n",
       "<style scoped>\n",
       "    .dataframe tbody tr th:only-of-type {\n",
       "        vertical-align: middle;\n",
       "    }\n",
       "\n",
       "    .dataframe tbody tr th {\n",
       "        vertical-align: top;\n",
       "    }\n",
       "\n",
       "    .dataframe thead th {\n",
       "        text-align: right;\n",
       "    }\n",
       "</style>\n",
       "<table border=\"1\" class=\"dataframe\">\n",
       "  <thead>\n",
       "    <tr style=\"text-align: right;\">\n",
       "      <th></th>\n",
       "      <th>school</th>\n",
       "      <th>sex</th>\n",
       "      <th>age</th>\n",
       "      <th>address</th>\n",
       "      <th>famsize</th>\n",
       "      <th>Pstatus</th>\n",
       "      <th>Medu</th>\n",
       "      <th>Fedu</th>\n",
       "      <th>Mjob</th>\n",
       "      <th>Fjob</th>\n",
       "      <th>...</th>\n",
       "      <th>Dalc</th>\n",
       "      <th>Walc</th>\n",
       "      <th>health</th>\n",
       "      <th>absences</th>\n",
       "      <th>G1</th>\n",
       "      <th>G2</th>\n",
       "      <th>G3</th>\n",
       "      <th>guardian_father</th>\n",
       "      <th>guardian_mother</th>\n",
       "      <th>guardian_other</th>\n",
       "    </tr>\n",
       "  </thead>\n",
       "  <tbody>\n",
       "    <tr>\n",
       "      <th>0</th>\n",
       "      <td>0</td>\n",
       "      <td>0</td>\n",
       "      <td>18</td>\n",
       "      <td>0</td>\n",
       "      <td>0</td>\n",
       "      <td>0</td>\n",
       "      <td>4</td>\n",
       "      <td>4</td>\n",
       "      <td>0</td>\n",
       "      <td>0</td>\n",
       "      <td>...</td>\n",
       "      <td>1</td>\n",
       "      <td>1</td>\n",
       "      <td>3</td>\n",
       "      <td>4</td>\n",
       "      <td>0</td>\n",
       "      <td>11</td>\n",
       "      <td>11</td>\n",
       "      <td>0</td>\n",
       "      <td>1</td>\n",
       "      <td>0</td>\n",
       "    </tr>\n",
       "    <tr>\n",
       "      <th>1</th>\n",
       "      <td>0</td>\n",
       "      <td>0</td>\n",
       "      <td>17</td>\n",
       "      <td>0</td>\n",
       "      <td>0</td>\n",
       "      <td>1</td>\n",
       "      <td>1</td>\n",
       "      <td>1</td>\n",
       "      <td>0</td>\n",
       "      <td>1</td>\n",
       "      <td>...</td>\n",
       "      <td>1</td>\n",
       "      <td>1</td>\n",
       "      <td>3</td>\n",
       "      <td>2</td>\n",
       "      <td>9</td>\n",
       "      <td>11</td>\n",
       "      <td>11</td>\n",
       "      <td>1</td>\n",
       "      <td>0</td>\n",
       "      <td>0</td>\n",
       "    </tr>\n",
       "    <tr>\n",
       "      <th>2</th>\n",
       "      <td>0</td>\n",
       "      <td>0</td>\n",
       "      <td>15</td>\n",
       "      <td>0</td>\n",
       "      <td>1</td>\n",
       "      <td>1</td>\n",
       "      <td>1</td>\n",
       "      <td>1</td>\n",
       "      <td>0</td>\n",
       "      <td>1</td>\n",
       "      <td>...</td>\n",
       "      <td>2</td>\n",
       "      <td>3</td>\n",
       "      <td>3</td>\n",
       "      <td>6</td>\n",
       "      <td>12</td>\n",
       "      <td>13</td>\n",
       "      <td>12</td>\n",
       "      <td>0</td>\n",
       "      <td>1</td>\n",
       "      <td>0</td>\n",
       "    </tr>\n",
       "    <tr>\n",
       "      <th>3</th>\n",
       "      <td>0</td>\n",
       "      <td>0</td>\n",
       "      <td>15</td>\n",
       "      <td>0</td>\n",
       "      <td>0</td>\n",
       "      <td>1</td>\n",
       "      <td>4</td>\n",
       "      <td>2</td>\n",
       "      <td>1</td>\n",
       "      <td>2</td>\n",
       "      <td>...</td>\n",
       "      <td>1</td>\n",
       "      <td>1</td>\n",
       "      <td>5</td>\n",
       "      <td>0</td>\n",
       "      <td>14</td>\n",
       "      <td>14</td>\n",
       "      <td>14</td>\n",
       "      <td>0</td>\n",
       "      <td>1</td>\n",
       "      <td>0</td>\n",
       "    </tr>\n",
       "    <tr>\n",
       "      <th>4</th>\n",
       "      <td>0</td>\n",
       "      <td>0</td>\n",
       "      <td>16</td>\n",
       "      <td>0</td>\n",
       "      <td>0</td>\n",
       "      <td>1</td>\n",
       "      <td>3</td>\n",
       "      <td>3</td>\n",
       "      <td>2</td>\n",
       "      <td>1</td>\n",
       "      <td>...</td>\n",
       "      <td>1</td>\n",
       "      <td>2</td>\n",
       "      <td>5</td>\n",
       "      <td>0</td>\n",
       "      <td>11</td>\n",
       "      <td>13</td>\n",
       "      <td>13</td>\n",
       "      <td>1</td>\n",
       "      <td>0</td>\n",
       "      <td>0</td>\n",
       "    </tr>\n",
       "  </tbody>\n",
       "</table>\n",
       "<p>5 rows × 35 columns</p>\n",
       "</div>"
      ],
      "text/plain": [
       "   school  sex  age  address  famsize  Pstatus  Medu  Fedu  Mjob  Fjob  ...  \\\n",
       "0       0    0   18        0        0        0     4     4     0     0  ...   \n",
       "1       0    0   17        0        0        1     1     1     0     1  ...   \n",
       "2       0    0   15        0        1        1     1     1     0     1  ...   \n",
       "3       0    0   15        0        0        1     4     2     1     2  ...   \n",
       "4       0    0   16        0        0        1     3     3     2     1  ...   \n",
       "\n",
       "   Dalc  Walc  health  absences  G1  G2  G3  guardian_father  guardian_mother  \\\n",
       "0     1     1       3         4   0  11  11                0                1   \n",
       "1     1     1       3         2   9  11  11                1                0   \n",
       "2     2     3       3         6  12  13  12                0                1   \n",
       "3     1     1       5         0  14  14  14                0                1   \n",
       "4     1     2       5         0  11  13  13                1                0   \n",
       "\n",
       "   guardian_other  \n",
       "0               0  \n",
       "1               0  \n",
       "2               0  \n",
       "3               0  \n",
       "4               0  \n",
       "\n",
       "[5 rows x 35 columns]"
      ]
     },
     "execution_count": 7,
     "metadata": {},
     "output_type": "execute_result"
    }
   ],
   "source": [
    "df.head()"
   ]
  },
  {
   "cell_type": "code",
   "execution_count": 8,
   "metadata": {
    "ExecuteTime": {
     "end_time": "2021-11-29T16:30:15.993599Z",
     "start_time": "2021-11-29T16:30:15.966594Z"
    }
   },
   "outputs": [
    {
     "name": "stdout",
     "output_type": "stream",
     "text": [
      "<class 'pandas.core.frame.DataFrame'>\n",
      "RangeIndex: 649 entries, 0 to 648\n",
      "Data columns (total 35 columns):\n",
      " #   Column           Non-Null Count  Dtype\n",
      "---  ------           --------------  -----\n",
      " 0   school           649 non-null    int64\n",
      " 1   sex              649 non-null    int64\n",
      " 2   age              649 non-null    int64\n",
      " 3   address          649 non-null    int64\n",
      " 4   famsize          649 non-null    int64\n",
      " 5   Pstatus          649 non-null    int64\n",
      " 6   Medu             649 non-null    int64\n",
      " 7   Fedu             649 non-null    int64\n",
      " 8   Mjob             649 non-null    int64\n",
      " 9   Fjob             649 non-null    int64\n",
      " 10  reason           649 non-null    int64\n",
      " 11  traveltime       649 non-null    int64\n",
      " 12  studytime        649 non-null    int64\n",
      " 13  failures         649 non-null    int64\n",
      " 14  schoolsup        649 non-null    int64\n",
      " 15  famsup           649 non-null    int64\n",
      " 16  paid             649 non-null    int64\n",
      " 17  activities       649 non-null    int64\n",
      " 18  nursery          649 non-null    int64\n",
      " 19  higher           649 non-null    int64\n",
      " 20  internet         649 non-null    int64\n",
      " 21  romantic         649 non-null    int64\n",
      " 22  famrel           649 non-null    int64\n",
      " 23  freetime         649 non-null    int64\n",
      " 24  goout            649 non-null    int64\n",
      " 25  Dalc             649 non-null    int64\n",
      " 26  Walc             649 non-null    int64\n",
      " 27  health           649 non-null    int64\n",
      " 28  absences         649 non-null    int64\n",
      " 29  G1               649 non-null    int64\n",
      " 30  G2               649 non-null    int64\n",
      " 31  G3               649 non-null    int64\n",
      " 32  guardian_father  649 non-null    uint8\n",
      " 33  guardian_mother  649 non-null    uint8\n",
      " 34  guardian_other   649 non-null    uint8\n",
      "dtypes: int64(32), uint8(3)\n",
      "memory usage: 164.3 KB\n"
     ]
    }
   ],
   "source": [
    "df.info()"
   ]
  },
  {
   "cell_type": "markdown",
   "metadata": {},
   "source": [
    "## Matriz de características (X)\n",
    "\n",
    "Eliminaremos del dataframe todas las columnas objetivo:"
   ]
  },
  {
   "cell_type": "code",
   "execution_count": 9,
   "metadata": {
    "ExecuteTime": {
     "end_time": "2021-11-29T16:30:16.009600Z",
     "start_time": "2021-11-29T16:30:15.997596Z"
    }
   },
   "outputs": [],
   "source": [
    "X = np.array(df[df.columns.difference(['G1', 'G2', 'G3'])])"
   ]
  },
  {
   "cell_type": "code",
   "execution_count": 10,
   "metadata": {
    "ExecuteTime": {
     "end_time": "2021-11-29T16:30:16.024600Z",
     "start_time": "2021-11-29T16:30:16.013603Z"
    }
   },
   "outputs": [
    {
     "data": {
      "text/plain": [
       "(649, 32)"
      ]
     },
     "execution_count": 10,
     "metadata": {},
     "output_type": "execute_result"
    }
   ],
   "source": [
    "X.shape"
   ]
  },
  {
   "cell_type": "code",
   "execution_count": 11,
   "metadata": {
    "ExecuteTime": {
     "end_time": "2021-11-29T16:30:16.039603Z",
     "start_time": "2021-11-29T16:30:16.029603Z"
    }
   },
   "outputs": [
    {
     "data": {
      "text/plain": [
       "array([[1, 4, 0, ..., 0, 2, 2],\n",
       "       [1, 1, 1, ..., 0, 2, 1],\n",
       "       [2, 1, 1, ..., 0, 2, 1],\n",
       "       ...,\n",
       "       [1, 1, 1, ..., 0, 2, 2],\n",
       "       [3, 1, 2, ..., 1, 1, 2],\n",
       "       [3, 2, 1, ..., 1, 1, 3]], dtype=int64)"
      ]
     },
     "execution_count": 11,
     "metadata": {},
     "output_type": "execute_result"
    }
   ],
   "source": [
    "X"
   ]
  },
  {
   "cell_type": "markdown",
   "metadata": {},
   "source": [
    "Por último normalizaremos los datos:"
   ]
  },
  {
   "cell_type": "code",
   "execution_count": 12,
   "metadata": {
    "ExecuteTime": {
     "end_time": "2021-11-29T16:30:16.055592Z",
     "start_time": "2021-11-29T16:30:16.045597Z"
    }
   },
   "outputs": [],
   "source": [
    "from sklearn.preprocessing import normalize\n",
    "\n",
    "X = normalize(X)"
   ]
  },
  {
   "cell_type": "code",
   "execution_count": 13,
   "metadata": {
    "ExecuteTime": {
     "end_time": "2021-11-29T16:30:16.071602Z",
     "start_time": "2021-11-29T16:30:16.060593Z"
    }
   },
   "outputs": [
    {
     "data": {
      "text/plain": [
       "array([[0.04805693, 0.19222773, 0.        , ..., 0.        , 0.09611387,\n",
       "        0.09611387],\n",
       "       [0.05263158, 0.05263158, 0.05263158, ..., 0.        , 0.10526316,\n",
       "        0.05263158],\n",
       "       [0.11094004, 0.05547002, 0.05547002, ..., 0.        , 0.11094004,\n",
       "        0.05547002],\n",
       "       ...,\n",
       "       [0.04938648, 0.04938648, 0.04938648, ..., 0.        , 0.09877296,\n",
       "        0.09877296],\n",
       "       [0.14383899, 0.04794633, 0.09589266, ..., 0.04794633, 0.04794633,\n",
       "        0.09589266],\n",
       "       [0.13912167, 0.09274778, 0.04637389, ..., 0.04637389, 0.04637389,\n",
       "        0.13912167]])"
      ]
     },
     "execution_count": 13,
     "metadata": {},
     "output_type": "execute_result"
    }
   ],
   "source": [
    "X"
   ]
  },
  {
   "cell_type": "markdown",
   "metadata": {},
   "source": [
    "## Variable objetivo (y)\n",
    "\n",
    "Usaremos como variable objetivo la puntuación del primer periodo: `G1`."
   ]
  },
  {
   "cell_type": "code",
   "execution_count": 14,
   "metadata": {
    "ExecuteTime": {
     "end_time": "2021-11-29T16:30:16.087597Z",
     "start_time": "2021-11-29T16:30:16.077602Z"
    }
   },
   "outputs": [],
   "source": [
    "y, bins = pd.cut(df.G1, 3, labels=[0, 1, 2], retbins=True)"
   ]
  },
  {
   "cell_type": "code",
   "execution_count": 15,
   "metadata": {
    "ExecuteTime": {
     "end_time": "2021-11-29T16:30:16.103610Z",
     "start_time": "2021-11-29T16:30:16.093603Z"
    }
   },
   "outputs": [
    {
     "data": {
      "text/plain": [
       "0      0\n",
       "1      1\n",
       "2      1\n",
       "3      2\n",
       "4      1\n",
       "      ..\n",
       "644    1\n",
       "645    2\n",
       "646    1\n",
       "647    1\n",
       "648    1\n",
       "Name: G1, Length: 649, dtype: category\n",
       "Categories (3, int64): [0 < 1 < 2]"
      ]
     },
     "execution_count": 15,
     "metadata": {},
     "output_type": "execute_result"
    }
   ],
   "source": [
    "y"
   ]
  },
  {
   "cell_type": "code",
   "execution_count": 16,
   "metadata": {
    "ExecuteTime": {
     "end_time": "2021-11-29T16:30:16.119605Z",
     "start_time": "2021-11-29T16:30:16.108607Z"
    }
   },
   "outputs": [
    {
     "data": {
      "text/plain": [
       "array([-0.019     ,  6.33333333, 12.66666667, 19.        ])"
      ]
     },
     "execution_count": 16,
     "metadata": {},
     "output_type": "execute_result"
    }
   ],
   "source": [
    "bins"
   ]
  },
  {
   "cell_type": "code",
   "execution_count": 17,
   "metadata": {
    "ExecuteTime": {
     "end_time": "2021-11-29T16:30:16.135599Z",
     "start_time": "2021-11-29T16:30:16.125605Z"
    }
   },
   "outputs": [
    {
     "data": {
      "text/plain": [
       "(649,)"
      ]
     },
     "execution_count": 17,
     "metadata": {},
     "output_type": "execute_result"
    }
   ],
   "source": [
    "y.shape"
   ]
  },
  {
   "cell_type": "code",
   "execution_count": 18,
   "metadata": {
    "ExecuteTime": {
     "end_time": "2021-11-29T16:30:16.167598Z",
     "start_time": "2021-11-29T16:30:16.140609Z"
    }
   },
   "outputs": [
    {
     "data": {
      "text/plain": [
       "0      0\n",
       "1      1\n",
       "2      1\n",
       "3      2\n",
       "4      1\n",
       "      ..\n",
       "644    1\n",
       "645    2\n",
       "646    1\n",
       "647    1\n",
       "648    1\n",
       "Name: G1, Length: 649, dtype: category\n",
       "Categories (3, int64): [0 < 1 < 2]"
      ]
     },
     "execution_count": 18,
     "metadata": {},
     "output_type": "execute_result"
    }
   ],
   "source": [
    "y"
   ]
  },
  {
   "cell_type": "markdown",
   "metadata": {},
   "source": [
    "Finalmente vamos a crear el conjunto de entrenamiento y el conjunto de test:"
   ]
  },
  {
   "cell_type": "code",
   "execution_count": 19,
   "metadata": {
    "ExecuteTime": {
     "end_time": "2021-11-29T16:30:16.183597Z",
     "start_time": "2021-11-29T16:30:16.172603Z"
    }
   },
   "outputs": [
    {
     "data": {
      "text/plain": [
       "(649,)"
      ]
     },
     "execution_count": 19,
     "metadata": {},
     "output_type": "execute_result"
    }
   ],
   "source": [
    "y.shape"
   ]
  },
  {
   "cell_type": "markdown",
   "metadata": {},
   "source": [
    "Con esto ya tenemos terminado nuestro preprocesamiento."
   ]
  },
  {
   "cell_type": "markdown",
   "metadata": {},
   "source": [
    "# Clasificador simple\n",
    "\n",
    "Entrena un clasificador `svm` simple, con validación cruzada estratificada (5 folds) y evalúa su rendimiento en términos de accuracy calculando la media y varianza de los resultados."
   ]
  },
  {
   "cell_type": "code",
   "execution_count": 20,
   "metadata": {
    "ExecuteTime": {
     "end_time": "2021-11-29T16:30:16.448599Z",
     "start_time": "2021-11-29T16:30:16.188606Z"
    }
   },
   "outputs": [
    {
     "name": "stdout",
     "output_type": "stream",
     "text": [
      "Avg: 0.6363625521765057\n",
      "Var: 0.00034036046280502645\n"
     ]
    }
   ],
   "source": [
    "from sklearn import svm\n",
    "from sklearn.model_selection import cross_val_score\n",
    "\n",
    "results = cross_val_score(svm.SVC(random_state=42), X, y, scoring='accuracy', cv=5)\n",
    "\n",
    "print(f\"Avg: {np.mean(results)}\")\n",
    "print(f\"Var: {np.var(results)}\")"
   ]
  },
  {
   "cell_type": "markdown",
   "metadata": {},
   "source": [
    "# Voting\n",
    "\n",
    "Construye un metaclasificador usando `voting` con svm y redes neuronales (MLClassifier), evalúa los resultados en los mismo términos que antes. ¿Los resultados son mejores o peores? ¿es coherente el resultado?"
   ]
  },
  {
   "cell_type": "code",
   "execution_count": 21,
   "metadata": {
    "ExecuteTime": {
     "end_time": "2021-11-29T16:30:25.056704Z",
     "start_time": "2021-11-29T16:30:16.459592Z"
    },
    "scrolled": true
   },
   "outputs": [
    {
     "name": "stdout",
     "output_type": "stream",
     "text": [
      "Avg: 0.6409779367918903\n",
      "Var: 0.00023192506993314032\n"
     ]
    }
   ],
   "source": [
    "from sklearn.ensemble import VotingClassifier\n",
    "\n",
    "clasificadores = [\n",
    "    ('svm', svm.SVC(random_state=42)),\n",
    "    ('nn', MLPClassifier(random_state=42))\n",
    "]\n",
    "\n",
    "metaclasificador_combined = VotingClassifier(estimators=clasificadores, voting='hard')\n",
    "results = cross_val_score(metaclasificador_combined, X, y, scoring='accuracy', cv=5)\n",
    "print(f\"Avg: {np.mean(results)}\")\n",
    "print(f\"Var: {np.var(results)}\")"
   ]
  },
  {
   "cell_type": "markdown",
   "metadata": {},
   "source": [
    "**Respuesta1:** Son algo mejores por que el accuracy es un poquito mejor y la varianza también disminuye un poco."
   ]
  },
  {
   "cell_type": "markdown",
   "metadata": {},
   "source": [
    "**Respuesta2:** En principio si parecen lógicos, ya que al estar utilizando dos modelos distintos reducimos el sesgo y subimos la complekidad del modelo resultante de combinarlos.\n"
   ]
  },
  {
   "cell_type": "markdown",
   "metadata": {},
   "source": [
    "# Stacking\n",
    "\n",
    "Entrena un modelo stacked con capas de redes neuronales (MLPClassifier), entrenalo con 1,2,3,4 y 5 capas y evalua los resultados."
   ]
  },
  {
   "cell_type": "code",
   "execution_count": 38,
   "metadata": {
    "ExecuteTime": {
     "end_time": "2021-12-01T18:01:15.460586Z",
     "start_time": "2021-12-01T18:01:15.445593Z"
    }
   },
   "outputs": [],
   "source": [
    "#Funcón que crea 1 MLPClasifier con n capas que se pasan en el parámetro num_layers\n",
    "def create_MLP_Multilayer (num_layers,num_neurons=50):\n",
    "    hidden_layers=tuple(np.full_like(np.arange(num_layers), num_neurons))\n",
    "#     print(hidden_layers)\n",
    "    return [('nn',MLPClassifier(hidden_layer_sizes=hidden_layers,random_state=42))]"
   ]
  },
  {
   "cell_type": "code",
   "execution_count": 39,
   "metadata": {
    "ExecuteTime": {
     "end_time": "2021-12-01T18:01:17.819805Z",
     "start_time": "2021-12-01T18:01:17.811799Z"
    }
   },
   "outputs": [],
   "source": [
    "# Función que devuelve una lista de n MLPClasifier. El n es pasado en el parámetro num_mplc\n",
    "def create_n_MLP (num_mlpc,num_neurons=50):\n",
    "    list_mlpc=[('nn_'+str(i),MLPClassifier(hidden_layer_sizes=(num_neurons,),random_state=42)) for i in range(num_mlpc)]\n",
    "#     print(list_mlpc)\n",
    "    return list_mlpc"
   ]
  },
  {
   "cell_type": "code",
   "execution_count": 24,
   "metadata": {
    "ExecuteTime": {
     "end_time": "2021-11-29T16:30:25.119268Z",
     "start_time": "2021-11-29T16:30:25.092279Z"
    }
   },
   "outputs": [],
   "source": [
    "def print_result(resul_list,resul_list_2=None,legend=None,plt_title=None,x_label=None):\n",
    "    \n",
    "    name_x_var=list(resul_list[0].keys())[0]\n",
    "    x_values= [element.get(name_x_var) for element in resul_list]\n",
    "\n",
    "    var = [element.get('var') for element in resul_list]\n",
    "    avg = [element.get('avg') for element in resul_list]\n",
    "    var_2 = None\n",
    "    avg_2 = None\n",
    "    \n",
    "    \n",
    "    if (resul_list_2):\n",
    "        name_x_var_2=list(resul_list_2[0].keys())[0]\n",
    "        var_2 = [element.get('var') for element in resul_list_2]\n",
    "        avg_2 = [element.get('avg') for element in resul_list_2]\n",
    "\n",
    "    fig, (ax1, ax2) = plt.subplots(nrows=1, ncols=2,figsize=(14,5))\n",
    "\n",
    "    #Varianzas\n",
    "    ax1.plot(x_values, var, label = 'Acuracy Variance '+name_x_var,marker='o', linewidth=2, markersize=7)\n",
    "    if var_2:\n",
    "        ax1.plot(x_values, var_2, label = 'Acuracy Variance '+name_x_var_2,marker='o', linewidth=2, markersize=7)\n",
    "    title= 'Accuracy Variance'\n",
    "    ax1.set_title(title)\n",
    "    ax1.legend()\n",
    "    ax1.grid(True)\n",
    "    ax1.set(xlabel=x_label, ylabel=\"Values\")\n",
    "#     ax1.set_xticks(x_values)\n",
    "   \n",
    "    # Promedios\n",
    "    ax2.plot(x_values, avg, label = 'Acuracy Average '+name_x_var,marker='o', linewidth=2, markersize=7)\n",
    "    if avg_2:\n",
    "        ax2.plot(x_values, avg_2, label = 'Acuracy Average '+name_x_var_2,marker='o', linewidth=2, markersize=7)\n",
    "    title='Accuracy Average'\n",
    "    ax2.set_title(title)\n",
    "    ax2.legend()\n",
    "    ax2.grid(True)\n",
    "    ax2.set(xlabel=x_label, ylabel=\"Values\")\n",
    "#     ax2.set_xticks(x_values)\n",
    "    \n",
    "    \n",
    "    # Etiquetamos la figura.\n",
    "    fig.suptitle(plt_title)\n",
    "    \n",
    "    plt.show()\n",
    "    \n",
    "    return plt"
   ]
  },
  {
   "cell_type": "code",
   "execution_count": 25,
   "metadata": {
    "ExecuteTime": {
     "end_time": "2021-11-29T16:45:29.097418Z",
     "start_time": "2021-11-29T16:30:25.123277Z"
    }
   },
   "outputs": [
    {
     "data": {
      "text/plain": [
       "[{'num_mlpc': 1, 'avg': 0.6533691115086463, 'var': 0.0008399543581138612},\n",
       " {'num_mlpc': 2, 'avg': 0.6502921884317232, 'var': 0.0011352435650309766},\n",
       " {'num_mlpc': 3, 'avg': 0.6533691115086463, 'var': 0.0012659898610724424},\n",
       " {'num_mlpc': 4, 'avg': 0.6533691115086463, 'var': 0.0011476466658061706},\n",
       " {'num_mlpc': 5, 'avg': 0.6533691115086463, 'var': 0.0011476466658061706}]"
      ]
     },
     "execution_count": 25,
     "metadata": {},
     "output_type": "execute_result"
    }
   ],
   "source": [
    "from sklearn.ensemble import StackingClassifier\n",
    "\n",
    "layers = list(np.arange(1,6)) # Generamos una lista con las capas que quermos probar. En este caso 5\n",
    "resul_list_stacking=[]\n",
    "resul_list_stacking_2=[]\n",
    "\n",
    "for num_layers in layers:\n",
    "#     print(f\"Para {num_layers} capas\")\n",
    "    metaclasificador_stacked_n_mlpc = StackingClassifier(estimators=create_n_MLP(num_layers))\n",
    "    results = cross_val_score(metaclasificador_stacked_n_mlpc, X, y, scoring='accuracy', cv=5)\n",
    "    resul_list_stacking.append(dict(num_mlpc=num_layers,avg=np.mean(results),var=np.var(results)))\n",
    "    \n",
    "    \n",
    "    metaclasificador_stacked_mlpc_nlayers = StackingClassifier(estimators=create_MLP_Multilayer(num_layers))\n",
    "    results_2 = cross_val_score(metaclasificador_stacked_mlpc_nlayers, X, y, scoring='accuracy', cv=5)\n",
    "    resul_list_stacking_2.append(dict(num_layers=num_layers,avg=np.mean(results_2),var=np.var(results_2)))\n",
    "    \n",
    "      \n",
    "resul_list_stacking\n",
    "\n",
    "# Lo comparamos con una red neuronal de las mismas capas."
   ]
  },
  {
   "cell_type": "code",
   "execution_count": 41,
   "metadata": {
    "ExecuteTime": {
     "end_time": "2021-12-01T18:03:39.765285Z",
     "start_time": "2021-12-01T18:03:39.738282Z"
    }
   },
   "outputs": [],
   "source": [
    "#Funcón que crea 1 MLPClasifier con n capas que se pasan en el parámetro num_layers\n",
    "def create_MLP_Multilayer_2 (num_layers,num_neurons=50):\n",
    "    hidden_layers=tuple(np.full_like(np.arange(num_layers), num_neurons))\n",
    "#     print(hidden_layers)\n",
    "    return MLPClassifier(hidden_layer_sizes=hidden_layers,random_state=42)"
   ]
  },
  {
   "cell_type": "code",
   "execution_count": 44,
   "metadata": {
    "ExecuteTime": {
     "end_time": "2021-12-01T18:19:32.298992Z",
     "start_time": "2021-12-01T18:18:08.827333Z"
    }
   },
   "outputs": [
    {
     "name": "stdout",
     "output_type": "stream",
     "text": [
      "Para 1 capas\n",
      "Para 2 capas\n",
      "Para 3 capas\n",
      "Para 4 capas\n",
      "Para 5 capas\n"
     ]
    },
    {
     "data": {
      "text/plain": [
       "[{'num_layers': 1, 'avg': 0.6518306499701848, 'var': 0.001794699553288397},\n",
       " {'num_layers': 2, 'avg': 0.6363983303518187, 'var': 0.002091244089862888},\n",
       " {'num_layers': 3, 'avg': 0.6364102564102564, 'var': 0.001657856673241289},\n",
       " {'num_layers': 4, 'avg': 0.6194633273703042, 'var': 0.0013044684316806463},\n",
       " {'num_layers': 5, 'avg': 0.6041025641025641, 'var': 0.003167915844838919}]"
      ]
     },
     "execution_count": 44,
     "metadata": {},
     "output_type": "execute_result"
    }
   ],
   "source": [
    "layers = list(np.arange(1,6)) # Generamos una lista con las capas que quermos probar. En este caso 5\n",
    "resul_list_stacking_3=[]\n",
    "\n",
    "for num_layers in layers:\n",
    "    print(f\"Para {num_layers} capas\")\n",
    "    mlpc_nlayers = create_MLP_Multilayer_2(num_layers)\n",
    "    results_3 = cross_val_score(mlpc_nlayers, X, y, scoring='accuracy', cv=5)\n",
    "    resul_list_stacking_3.append(dict(num_layers=num_layers,avg=np.mean(results_3),var=np.var(results_3)))\n",
    "resul_list_stacking_3"
   ]
  },
  {
   "cell_type": "code",
   "execution_count": 26,
   "metadata": {
    "ExecuteTime": {
     "end_time": "2021-11-29T16:45:29.893425Z",
     "start_time": "2021-11-29T16:45:29.101432Z"
    }
   },
   "outputs": [
    {
     "data": {
      "image/png": "[encoded data removed]",
      "text/plain": [
       "<Figure size 1008x360 with 2 Axes>"
      ]
     },
     "metadata": {
      "needs_background": "light"
     },
     "output_type": "display_data"
    }
   ],
   "source": [
    "print_result(resul_list_stacking,plt_title='Stacking Results with n MLPC',x_label='Number of MLPC');"
   ]
  },
  {
   "cell_type": "code",
   "execution_count": 27,
   "metadata": {
    "ExecuteTime": {
     "end_time": "2021-11-29T16:45:29.908428Z",
     "start_time": "2021-11-29T16:45:29.897427Z"
    }
   },
   "outputs": [
    {
     "data": {
      "text/plain": [
       "[{'num_layers': 1, 'avg': 0.6533691115086463, 'var': 0.0008399543581138612},\n",
       " {'num_layers': 2, 'avg': 0.6317829457364341, 'var': 0.0004295955416311532},\n",
       " {'num_layers': 3, 'avg': 0.6286821705426358, 'var': 0.0007968370699160731},\n",
       " {'num_layers': 4, 'avg': 0.6440906380441264, 'var': 0.0008448792442136025},\n",
       " {'num_layers': 5, 'avg': 0.6102564102564101, 'var': 0.002132807363576594}]"
      ]
     },
     "execution_count": 27,
     "metadata": {},
     "output_type": "execute_result"
    }
   ],
   "source": [
    "resul_list_stacking_2"
   ]
  },
  {
   "cell_type": "code",
   "execution_count": 28,
   "metadata": {
    "ExecuteTime": {
     "end_time": "2021-11-29T16:45:30.637948Z",
     "start_time": "2021-11-29T16:45:29.912437Z"
    }
   },
   "outputs": [
    {
     "data": {
      "image/png": "[encoded data removed]",
      "text/plain": [
       "<Figure size 1008x360 with 2 Axes>"
      ]
     },
     "metadata": {
      "needs_background": "light"
     },
     "output_type": "display_data"
    }
   ],
   "source": [
    "print_result(resul_list_stacking_2, plt_title='Stacking Results - 1 MLPC with n Layers ',x_label='Number of Layers in MLPC');"
   ]
  },
  {
   "cell_type": "code",
   "execution_count": 29,
   "metadata": {
    "ExecuteTime": {
     "end_time": "2021-11-29T16:45:31.458965Z",
     "start_time": "2021-11-29T16:45:30.641949Z"
    },
    "scrolled": false
   },
   "outputs": [
    {
     "data": {
      "image/png": "[encoded data removed]",
      "text/plain": [
       "<Figure size 1008x360 with 2 Axes>"
      ]
     },
     "metadata": {
      "needs_background": "light"
     },
     "output_type": "display_data"
    }
   ],
   "source": [
    "print_result(resul_list_stacking,resul_list_stacking_2,plt_title='Stacking Results - n MLPC Vs 1 MLPC with n Layers', x_label='Number of MLPC/Layers');"
   ]
  },
  {
   "cell_type": "markdown",
   "metadata": {},
   "source": [
    "* **Respuesta:** Se han utilizado MLPC con capas de 50 neuronas.\n",
    "    * Para la casuística de ir incorporando MLPC a MLPC de una capa hasta llegar a 5 MLPC, los resultados que se visualizan es que a partir del 3 MLPC los resultados se estancan tanto en la varianza como en el promedio.\n",
    "    * Para la casuística de utilizar un único MPLC con N layers hasta llegar 5, los resultados que observamos es que al ir utilizando más capas la varianza va aumentando al final con 5 capas el incremento es mayor. El promedio del accuracy también va empeorando conforme se van incluyendo capas, salvo en en el de 4 capas que mejora. En el de 5 capas obtenemos los peores resultados. Por lo que parece que conforme se va a haciendo más complejo los resultados van siendo peores.\n",
    "    * Comparativamente, estimo que se obtienen mejores resultados al ir incorporando MLPC, que no ir apilando capas a 1 MLPC, en este caso el ir depurando las entradas de un MLPC con la salida del otro, parece que da mejores resultados o por lo menos son más estables."
   ]
  },
  {
   "cell_type": "code",
   "execution_count": null,
   "metadata": {},
   "outputs": [],
   "source": []
  },
  {
   "cell_type": "markdown",
   "metadata": {},
   "source": [
    "# Bagging\n",
    "\n",
    "\n",
    "Entrena con bagging un svm y varia el número de estimadores de 100, 250, 500, 750, 1000. Comenta los resultados."
   ]
  },
  {
   "cell_type": "code",
   "execution_count": 34,
   "metadata": {
    "ExecuteTime": {
     "end_time": "2021-11-29T16:51:40.800181Z",
     "start_time": "2021-11-29T16:50:57.946565Z"
    }
   },
   "outputs": [
    {
     "data": {
      "text/plain": [
       "[{'num_estimator': 100,\n",
       "  'avg': 0.6332856290995826,\n",
       "  'var': 0.0002233016122935835},\n",
       " {'num_estimator': 250,\n",
       "  'avg': 0.6363625521765057,\n",
       "  'var': 0.00017467998943224633},\n",
       " {'num_estimator': 500,\n",
       "  'avg': 0.6332856290995826,\n",
       "  'var': 0.0001049584170273107},\n",
       " {'num_estimator': 750,\n",
       "  'avg': 0.6394394752534287,\n",
       "  'var': 0.0003201412068075954},\n",
       " {'num_estimator': 1000,\n",
       "  'avg': 0.6348240906380441,\n",
       "  'var': 0.0002486949428747498}]"
      ]
     },
     "execution_count": 34,
     "metadata": {},
     "output_type": "execute_result"
    }
   ],
   "source": [
    "from sklearn.ensemble import BaggingClassifier\n",
    "estimators = [100,250,500,750,1000]\n",
    "resul_list_bagging=[]\n",
    "for num_estimator in estimators:\n",
    "   \n",
    "    metaclasificador_bagging = BaggingClassifier(\n",
    "        base_estimator=svm.SVC(random_state=42),\n",
    "        n_estimators=100, \n",
    "        max_samples=0.66, \n",
    "        max_features=0.66 \n",
    "\n",
    "    )\n",
    "    results = cross_val_score(metaclasificador_bagging, X, y, scoring='accuracy', cv=5)\n",
    "#     print(f\"Avg: {np.mean(results)}\")\n",
    "#     print(f\"Var: {np.var(results)}\")\n",
    "    resul_list_bagging.append(dict(num_estimator=num_estimator,avg=np.mean(results),var=np.var(results)))\n",
    "resul_list_bagging"
   ]
  },
  {
   "cell_type": "code",
   "execution_count": 35,
   "metadata": {
    "ExecuteTime": {
     "end_time": "2021-11-29T16:51:59.473647Z",
     "start_time": "2021-11-29T16:51:58.941648Z"
    }
   },
   "outputs": [
    {
     "data": {
      "image/png": "[encoded data removed]",
      "text/plain": [
       "<Figure size 1008x360 with 2 Axes>"
      ]
     },
     "metadata": {
      "needs_background": "light"
     },
     "output_type": "display_data"
    }
   ],
   "source": [
    "print_result(resul_list_bagging);"
   ]
  },
  {
   "cell_type": "markdown",
   "metadata": {},
   "source": [
    "* **Respuesta:** Las variaciones de los valores tanto de la varianza como del promedio del accuracy son mínimos (aunque en las gráficas parezcan más), nos movemos tanto en uno como en otro en el rango de milésimas. Los mejores resultados se obtienen con 750 estimadores, en cuanto al promedio del accuracy. Los más bajos en 500 estimadores, tanto del promedio como de la varianza. En principio los valores son muy similares a los de Stacking y Voting"
   ]
  },
  {
   "cell_type": "markdown",
   "metadata": {},
   "source": [
    "# Boosting\n",
    "\n",
    "Entrena un modelo con Adaboost con 100, 250, 500, 750, 1000 estimadores y comenta los resultados en términos de accuracy y varianza del mismo."
   ]
  },
  {
   "cell_type": "code",
   "execution_count": 32,
   "metadata": {
    "ExecuteTime": {
     "end_time": "2021-11-29T16:47:32.113523Z",
     "start_time": "2021-11-29T16:46:18.603104Z"
    }
   },
   "outputs": [
    {
     "data": {
      "text/plain": [
       "[{'num_estimator': 100,\n",
       "  'avg': 0.6055694692903995,\n",
       "  'var': 0.004606439147055697},\n",
       " {'num_estimator': 250,\n",
       "  'avg': 0.5886583184257603,\n",
       "  'var': 0.004180972283114814},\n",
       " {'num_estimator': 500,\n",
       "  'avg': 0.5932737030411449,\n",
       "  'var': 0.004465546385220221},\n",
       " {'num_estimator': 750,\n",
       "  'avg': 0.6055933214072748,\n",
       "  'var': 0.0044478784665663235},\n",
       " {'num_estimator': 1000,\n",
       "  'avg': 0.6086821705426357,\n",
       "  'var': 0.003023413832449901}]"
      ]
     },
     "execution_count": 32,
     "metadata": {},
     "output_type": "execute_result"
    }
   ],
   "source": [
    "# Pintar una gráfica de como fluctua la varianza y el accuracy con respecto al número de estimadores.\n",
    "\n",
    "from sklearn.ensemble import AdaBoostClassifier\n",
    "estimators = [100, 250, 500, 750, 1000]\n",
    "resul_list_Boosting = []\n",
    "for num_estimator in estimators:\n",
    "    metaclasificador_boosting = AdaBoostClassifier(n_estimators=num_estimator,random_state=42)\n",
    "    results = cross_val_score(metaclasificador_boosting,X, y, scoring='accuracy', cv=5)\n",
    "#     print(f\"Avg: {np.mean(results)}\")\n",
    "#     print(f\"Var: {np.var(results)}\")\n",
    "    resul_list_Boosting.append(dict(num_estimator=num_estimator,avg=np.mean(results),var=np.var(results)))\n",
    "resul_list_Boosting"
   ]
  },
  {
   "cell_type": "code",
   "execution_count": 33,
   "metadata": {
    "ExecuteTime": {
     "end_time": "2021-11-29T16:47:32.768525Z",
     "start_time": "2021-11-29T16:47:32.117534Z"
    },
    "scrolled": false
   },
   "outputs": [
    {
     "data": {
      "image/png": "[encoded data removed]",
      "text/plain": [
       "<Figure size 1008x360 with 2 Axes>"
      ]
     },
     "metadata": {
      "needs_background": "light"
     },
     "output_type": "display_data"
    }
   ],
   "source": [
    "print_result(resul_list_Boosting,plt_title='Boosting Result',x_label='Estimators');"
   ]
  },
  {
   "cell_type": "markdown",
   "metadata": {},
   "source": [
    "**Respuesta:** Se observa que en los puntos donde mejora el promedio del accuracy la varianza esta en mínimos. Los mejores resultados se obtienen con 1000 estimadores. Los valores, en principio parecen los más modestos comparados con los de los anteriores metaclasifcadores."
   ]
  }
 ],
 "metadata": {
  "anaconda-cloud": {},
  "kernelspec": {
   "display_name": "Python 3",
   "language": "python",
   "name": "python3"
  },
  "language_info": {
   "codemirror_mode": {
    "name": "ipython",
    "version": 3
   },
   "file_extension": ".py",
   "mimetype": "text/x-python",
   "name": "python",
   "nbconvert_exporter": "python",
   "pygments_lexer": "ipython3",
   "version": "3.8.5"
  },
  "toc": {
   "base_numbering": 1,
   "nav_menu": {},
   "number_sections": true,
   "sideBar": true,
   "skip_h1_title": false,
   "title_cell": "Table of Contents",
   "title_sidebar": "Contents",
   "toc_cell": false,
   "toc_position": {
    "height": "calc(100% - 180px)",
    "left": "10px",
    "top": "150px",
    "width": "299.2px"
   },
   "toc_section_display": true,
   "toc_window_display": true
  },
  "varInspector": {
   "cols": {
    "lenName": 16,
    "lenType": 16,
    "lenVar": 40
   },
   "kernels_config": {
    "python": {
     "delete_cmd_postfix": "",
     "delete_cmd_prefix": "del ",
     "library": "var_list.py",
     "varRefreshCmd": "print(var_dic_list())"
    },
    "r": {
     "delete_cmd_postfix": ") ",
     "delete_cmd_prefix": "rm(",
     "library": "var_list.r",
     "varRefreshCmd": "cat(var_dic_list()) "
    }
   },
   "types_to_exclude": [
    "module",
    "function",
    "builtin_function_or_method",
    "instance",
    "_Feature"
   ],
   "window_display": false
  }
 },
 "nbformat": 4,
 "nbformat_minor": 2
}
