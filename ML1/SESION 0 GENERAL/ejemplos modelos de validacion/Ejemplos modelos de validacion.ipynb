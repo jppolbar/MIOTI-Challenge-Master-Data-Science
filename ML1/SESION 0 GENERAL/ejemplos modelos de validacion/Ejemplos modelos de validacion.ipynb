{
 "cells": [
  {
   "cell_type": "code",
   "execution_count": 1,
   "metadata": {
    "colab": {},
    "colab_type": "code",
    "id": "j07ZbAWaBASW"
   },
   "outputs": [],
   "source": [
    "from IPython.display import Image\n",
    "from IPython.core.display import HTML \n"
   ]
  },
  {
   "cell_type": "markdown",
   "metadata": {
    "colab_type": "text",
    "id": "LFilW7JZ_aBz"
   },
   "source": [
    "## Configuración del entorno"
   ]
  },
  {
   "cell_type": "code",
   "execution_count": 2,
   "metadata": {
    "colab": {},
    "colab_type": "code",
    "id": "pjGoRF4K_aB0"
   },
   "outputs": [],
   "source": [
    "%matplotlib inline\n",
    "\n",
    "import warnings\n",
    "warnings.filterwarnings(\"ignore\")\n",
    "\n",
    "import numpy as np\n",
    "import pandas as pd\n",
    "import matplotlib.pyplot as plt\n",
    "import sklearn\n",
    "from sklearn.metrics import confusion_matrix\n",
    "from sklearn.model_selection import cross_val_score\n",
    "from sklearn.model_selection import train_test_split"
   ]
  },
  {
   "cell_type": "code",
   "execution_count": 3,
   "metadata": {
    "colab": {},
    "colab_type": "code",
    "id": "GA2oTty5_aB5"
   },
   "outputs": [],
   "source": [
    "def dibuja_dataset(X, y):  \n",
    "    from matplotlib.colors import ListedColormap\n",
    "    cm_bright = ListedColormap(['#FF0000', '#0000FF'])\n",
    "    plt.scatter(X[:,0], X[:, 1], c=y, cmap=cm_bright, edgecolors='k')"
   ]
  },
  {
   "cell_type": "markdown",
   "metadata": {
    "colab_type": "text",
    "collapsed": true,
    "id": "4xErE651_aB8"
   },
   "source": [
    "## Dataset\n",
    "\n",
    "Como en otras ocasiones vamos a generar un dataset ficticio:"
   ]
  },
  {
   "cell_type": "code",
   "execution_count": 4,
   "metadata": {
    "colab": {},
    "colab_type": "code",
    "id": "Qw2ZmnEf_aB9"
   },
   "outputs": [],
   "source": [
    "from sklearn.datasets import make_moons\n",
    "dataset_X, dataset_y = make_moons(noise=0.7, random_state=10)"
   ]
  },
  {
   "cell_type": "code",
   "execution_count": 5,
   "metadata": {
    "colab": {
     "base_uri": "https://localhost:8080/",
     "height": 269
    },
    "colab_type": "code",
    "executionInfo": {
     "elapsed": 851,
     "status": "ok",
     "timestamp": 1560013324749,
     "user": {
      "displayName": "Manuel Lopez-Martin",
      "photoUrl": "https://lh3.googleusercontent.com/-w9URsrVicEo/AAAAAAAAAAI/AAAAAAAAASs/BEZo6dPc8Pw/s64/photo.jpg",
      "userId": "05920962092300421674"
     },
     "user_tz": -120
    },
    "id": "CVJo9jGL_aB_",
    "outputId": "cc08f140-ae17-4919-ae07-31354ae56b8f"
   },
   "outputs": [
    {
     "data": {
      "image/png": "[encoded data removed]",
      "text/plain": [
       "<matplotlib.figure.Figure at 0x1dc9b514518>"
      ]
     },
     "metadata": {},
     "output_type": "display_data"
    }
   ],
   "source": [
    "dibuja_dataset(dataset_X, dataset_y)"
   ]
  },
  {
   "cell_type": "code",
   "execution_count": 10,
   "metadata": {
    "colab": {},
    "colab_type": "code",
    "id": "Fr8Fxuy9_aCF"
   },
   "outputs": [],
   "source": [
    "# Dividimos en conjunto de entrenamiento y test\n",
    "X_train, X_test, y_train, y_test = train_test_split(dataset_X, dataset_y, test_size=.3, random_state=54)"
   ]
  },
  {
   "cell_type": "markdown",
   "metadata": {},
   "source": [
    "# Modelo solo Entrenamiento y Test"
   ]
  },
  {
   "cell_type": "markdown",
   "metadata": {},
   "source": [
    "<img src=\"dib1.png\"  width=\"600\">"
   ]
  },
  {
   "cell_type": "code",
   "execution_count": 11,
   "metadata": {
    "colab": {
     "base_uri": "https://localhost:8080/",
     "height": 161
    },
    "colab_type": "code",
    "executionInfo": {
     "elapsed": 570,
     "status": "ok",
     "timestamp": 1560017966661,
     "user": {
      "displayName": "Manuel Lopez-Martin",
      "photoUrl": "https://lh3.googleusercontent.com/-w9URsrVicEo/AAAAAAAAAAI/AAAAAAAAASs/BEZo6dPc8Pw/s64/photo.jpg",
      "userId": "05920962092300421674"
     },
     "user_tz": -120
    },
    "id": "h_UeQiS1TXFq",
    "outputId": "42d90138-cf3e-41c1-906e-da8eed761bf9"
   },
   "outputs": [
    {
     "data": {
      "text/plain": [
       "LogisticRegression(C=1.0, class_weight=None, dual=False, fit_intercept=True,\n",
       "          intercept_scaling=1, max_iter=100, multi_class='ovr', n_jobs=1,\n",
       "          penalty='l2', random_state=42, solver='liblinear', tol=0.0001,\n",
       "          verbose=0, warm_start=False)"
      ]
     },
     "execution_count": 11,
     "metadata": {},
     "output_type": "execute_result"
    }
   ],
   "source": [
    "from sklearn.linear_model import LogisticRegression\n",
    "clf = LogisticRegression(random_state=42)\n",
    "clf.fit(X_train, y_train) "
   ]
  },
  {
   "cell_type": "code",
   "execution_count": 12,
   "metadata": {
    "colab": {
     "base_uri": "https://localhost:8080/",
     "height": 35
    },
    "colab_type": "code",
    "executionInfo": {
     "elapsed": 468,
     "status": "ok",
     "timestamp": 1560017967866,
     "user": {
      "displayName": "Manuel Lopez-Martin",
      "photoUrl": "https://lh3.googleusercontent.com/-w9URsrVicEo/AAAAAAAAAAI/AAAAAAAAASs/BEZo6dPc8Pw/s64/photo.jpg",
      "userId": "05920962092300421674"
     },
     "user_tz": -120
    },
    "id": "tAYXSNG4TXFt",
    "outputId": "a91dd2cb-6c12-48df-a441-2ae291e26683"
   },
   "outputs": [
    {
     "data": {
      "text/plain": [
       "0.81428571428571428"
      ]
     },
     "execution_count": 12,
     "metadata": {},
     "output_type": "execute_result"
    }
   ],
   "source": [
    "clf.score(X_train, y_train)"
   ]
  },
  {
   "cell_type": "code",
   "execution_count": 13,
   "metadata": {
    "colab": {
     "base_uri": "https://localhost:8080/",
     "height": 35
    },
    "colab_type": "code",
    "executionInfo": {
     "elapsed": 662,
     "status": "ok",
     "timestamp": 1560017969812,
     "user": {
      "displayName": "Manuel Lopez-Martin",
      "photoUrl": "https://lh3.googleusercontent.com/-w9URsrVicEo/AAAAAAAAAAI/AAAAAAAAASs/BEZo6dPc8Pw/s64/photo.jpg",
      "userId": "05920962092300421674"
     },
     "user_tz": -120
    },
    "id": "8_zuuMQxTXFv",
    "outputId": "64b19d36-d082-446a-9f0c-158a21a2a38a",
    "scrolled": true
   },
   "outputs": [
    {
     "data": {
      "text/plain": [
       "0.73333333333333328"
      ]
     },
     "execution_count": 13,
     "metadata": {},
     "output_type": "execute_result"
    }
   ],
   "source": [
    "clf.score(X_test, y_test)"
   ]
  },
  {
   "cell_type": "markdown",
   "metadata": {},
   "source": [
    "# Modelo solo Cross-Validation, variante 1"
   ]
  },
  {
   "cell_type": "markdown",
   "metadata": {},
   "source": [
    "<img src=\"dib2.png\"  width=\"300\">"
   ]
  },
  {
   "cell_type": "code",
   "execution_count": 14,
   "metadata": {
    "colab": {
     "base_uri": "https://localhost:8080/",
     "height": 319
    },
    "colab_type": "code",
    "executionInfo": {
     "elapsed": 558,
     "status": "ok",
     "timestamp": 1560013337470,
     "user": {
      "displayName": "Manuel Lopez-Martin",
      "photoUrl": "https://lh3.googleusercontent.com/-w9URsrVicEo/AAAAAAAAAAI/AAAAAAAAASs/BEZo6dPc8Pw/s64/photo.jpg",
      "userId": "05920962092300421674"
     },
     "user_tz": -120
    },
    "id": "BQxdsJhT_aCW",
    "outputId": "eed69012-9d46-46dc-fff5-e4b3464b66cd",
    "scrolled": false
   },
   "outputs": [
    {
     "name": "stdout",
     "output_type": "stream",
     "text": [
      "Kernel:   linear\tC: 0.010\tMean Accuracy: 0.760\tAccuracy CV: [ 0.7  0.7  0.9  0.8  0.7]\n",
      "Kernel:   linear\tC: 10.000\tMean Accuracy: 0.780\tAccuracy CV: [ 0.7  0.8  0.8  0.9  0.7]\n",
      "Kernel:      rbf\tC: 0.010\tMean Accuracy: 0.770\tAccuracy CV: [ 0.7   0.8   0.85  0.8   0.7 ]\n",
      "Kernel:      rbf\tC: 10.000\tMean Accuracy: 0.800\tAccuracy CV: [ 0.7   0.85  0.8   0.85  0.8 ]\n"
     ]
    }
   ],
   "source": [
    "from sklearn.svm import SVC\n",
    "from sklearn.model_selection import cross_val_score\n",
    "\n",
    "# Probamos la combinación de parámetros \n",
    "for kernel in ['linear', 'rbf']:\n",
    "    for C in [0.01, 10 ]:\n",
    "        scores = cross_val_score(SVC(kernel=kernel, C=C), dataset_X, dataset_y, cv=5)\n",
    "        print(\"Kernel: %8s\\tC: %0.3f\\tMean Accuracy: %.3f\\tAccuracy CV: %s\" % (kernel, C, np.mean(scores), scores))"
   ]
  },
  {
   "cell_type": "markdown",
   "metadata": {},
   "source": [
    "# Modelo solo Cross-Validation, variante 2"
   ]
  },
  {
   "cell_type": "markdown",
   "metadata": {},
   "source": [
    "<img src=\"dib2.png\"  width=\"300\">"
   ]
  },
  {
   "cell_type": "code",
   "execution_count": 15,
   "metadata": {
    "colab": {},
    "colab_type": "code",
    "id": "44EibXbn_aCa"
   },
   "outputs": [],
   "source": [
    "from sklearn.model_selection import GridSearchCV\n",
    "\n",
    "params_grid = {\n",
    "    'C': [0.001, 1, 10], \n",
    "    'kernel': ['linear', 'rbf']\n",
    "}\n",
    "\n",
    "grid_svm = GridSearchCV(\n",
    "    SVC(), \n",
    "    param_grid=params_grid, \n",
    "    n_jobs=4, \n",
    "    scoring='accuracy',\n",
    "    cv = 3\n",
    ")"
   ]
  },
  {
   "cell_type": "code",
   "execution_count": 16,
   "metadata": {
    "colab": {
     "base_uri": "https://localhost:8080/",
     "height": 218
    },
    "colab_type": "code",
    "executionInfo": {
     "elapsed": 3530,
     "status": "ok",
     "timestamp": 1560013348735,
     "user": {
      "displayName": "Manuel Lopez-Martin",
      "photoUrl": "https://lh3.googleusercontent.com/-w9URsrVicEo/AAAAAAAAAAI/AAAAAAAAASs/BEZo6dPc8Pw/s64/photo.jpg",
      "userId": "05920962092300421674"
     },
     "user_tz": -120
    },
    "id": "fME-yywE_aCd",
    "outputId": "e930bd95-d092-4743-c9da-966fe554d062",
    "scrolled": true
   },
   "outputs": [
    {
     "data": {
      "text/plain": [
       "GridSearchCV(cv=3, error_score='raise',\n",
       "       estimator=SVC(C=1.0, cache_size=200, class_weight=None, coef0=0.0,\n",
       "  decision_function_shape='ovr', degree=3, gamma='auto', kernel='rbf',\n",
       "  max_iter=-1, probability=False, random_state=None, shrinking=True,\n",
       "  tol=0.001, verbose=False),\n",
       "       fit_params=None, iid=True, n_jobs=4,\n",
       "       param_grid={'C': [0.001, 1, 10], 'kernel': ['linear', 'rbf']},\n",
       "       pre_dispatch='2*n_jobs', refit=True, return_train_score='warn',\n",
       "       scoring='accuracy', verbose=0)"
      ]
     },
     "execution_count": 16,
     "metadata": {},
     "output_type": "execute_result"
    }
   ],
   "source": [
    "grid_svm.fit(dataset_X, dataset_y)"
   ]
  },
  {
   "cell_type": "code",
   "execution_count": 17,
   "metadata": {
    "colab": {
     "base_uri": "https://localhost:8080/",
     "height": 34
    },
    "colab_type": "code",
    "executionInfo": {
     "elapsed": 660,
     "status": "ok",
     "timestamp": 1560013377262,
     "user": {
      "displayName": "Manuel Lopez-Martin",
      "photoUrl": "https://lh3.googleusercontent.com/-w9URsrVicEo/AAAAAAAAAAI/AAAAAAAAASs/BEZo6dPc8Pw/s64/photo.jpg",
      "userId": "05920962092300421674"
     },
     "user_tz": -120
    },
    "id": "RXTDVo1J_aC-",
    "outputId": "51c0d72b-bd90-4c04-f1d4-8c71a2b4af9a"
   },
   "outputs": [
    {
     "name": "stdout",
     "output_type": "stream",
     "text": [
      "{'C': 0.001, 'kernel': 'rbf'}\n"
     ]
    }
   ],
   "source": [
    "print(grid_svm.best_params_)"
   ]
  },
  {
   "cell_type": "code",
   "execution_count": 18,
   "metadata": {
    "colab": {
     "base_uri": "https://localhost:8080/",
     "height": 35
    },
    "colab_type": "code",
    "executionInfo": {
     "elapsed": 631,
     "status": "ok",
     "timestamp": 1560015011397,
     "user": {
      "displayName": "Manuel Lopez-Martin",
      "photoUrl": "https://lh3.googleusercontent.com/-w9URsrVicEo/AAAAAAAAAAI/AAAAAAAAASs/BEZo6dPc8Pw/s64/photo.jpg",
      "userId": "05920962092300421674"
     },
     "user_tz": -120
    },
    "id": "PTlZhpXx_aDB",
    "outputId": "aeede42f-6f8a-4c17-88c8-d8947a51c163"
   },
   "outputs": [
    {
     "name": "stdout",
     "output_type": "stream",
     "text": [
      "0.77\n"
     ]
    }
   ],
   "source": [
    "print(grid_svm.best_score_) # roc_auc"
   ]
  },
  {
   "cell_type": "markdown",
   "metadata": {},
   "source": [
    "# Modelo  Cross-Validation y conjunto de Test adicional"
   ]
  },
  {
   "cell_type": "markdown",
   "metadata": {},
   "source": [
    "<img src=\"dib4.png\"  width=\"300\">"
   ]
  },
  {
   "cell_type": "code",
   "execution_count": 19,
   "metadata": {
    "colab": {
     "base_uri": "https://localhost:8080/",
     "height": 230
    },
    "colab_type": "code",
    "executionInfo": {
     "elapsed": 634,
     "status": "ok",
     "timestamp": 1560014848134,
     "user": {
      "displayName": "Manuel Lopez-Martin",
      "photoUrl": "https://lh3.googleusercontent.com/-w9URsrVicEo/AAAAAAAAAAI/AAAAAAAAASs/BEZo6dPc8Pw/s64/photo.jpg",
      "userId": "05920962092300421674"
     },
     "user_tz": -120
    },
    "id": "jtVEbntX_aDH",
    "outputId": "26db08b5-b5d0-43d4-d690-445435c5d5a2"
   },
   "outputs": [
    {
     "data": {
      "text/plain": [
       "GridSearchCV(cv=None, error_score='raise',\n",
       "       estimator=SVC(C=1.0, cache_size=200, class_weight=None, coef0=0.0,\n",
       "  decision_function_shape='ovr', degree=3, gamma='auto', kernel='rbf',\n",
       "  max_iter=-1, probability=False, random_state=None, shrinking=True,\n",
       "  tol=0.001, verbose=False),\n",
       "       fit_params=None, iid=True, n_jobs=1,\n",
       "       param_grid={'C': [0.001, 1, 10], 'kernel': ['linear', 'rbf']},\n",
       "       pre_dispatch='2*n_jobs', refit=True, return_train_score='warn',\n",
       "       scoring='accuracy', verbose=0)"
      ]
     },
     "execution_count": 19,
     "metadata": {},
     "output_type": "execute_result"
    }
   ],
   "source": [
    "from sklearn.model_selection import GridSearchCV\n",
    "\n",
    "# Ajustamos los hiperparámetros a analizar\n",
    "params_grid = {\n",
    "    'C': [0.001, 1, 10], \n",
    "    'kernel': ['linear', 'rbf']\n",
    "}\n",
    "\n",
    "grid_svm = GridSearchCV(SVC(), param_grid=params_grid, scoring=\"accuracy\")\n",
    "\n",
    "# Entrenamos el modelo sobre X_train\n",
    "grid_svm.fit(X_train, y_train)"
   ]
  },
  {
   "cell_type": "code",
   "execution_count": 20,
   "metadata": {
    "colab": {
     "base_uri": "https://localhost:8080/",
     "height": 35
    },
    "colab_type": "code",
    "executionInfo": {
     "elapsed": 614,
     "status": "ok",
     "timestamp": 1560014649455,
     "user": {
      "displayName": "Manuel Lopez-Martin",
      "photoUrl": "https://lh3.googleusercontent.com/-w9URsrVicEo/AAAAAAAAAAI/AAAAAAAAASs/BEZo6dPc8Pw/s64/photo.jpg",
      "userId": "05920962092300421674"
     },
     "user_tz": -120
    },
    "id": "SAa-_QHL_aDK",
    "outputId": "a1166e8b-adb1-40ae-cf43-696f57245ee4"
   },
   "outputs": [
    {
     "data": {
      "text/plain": [
       "{'C': 1, 'kernel': 'rbf'}"
      ]
     },
     "execution_count": 20,
     "metadata": {},
     "output_type": "execute_result"
    }
   ],
   "source": [
    "# Lo evaluamos, datos test\n",
    "grid_svm.best_params_"
   ]
  },
  {
   "cell_type": "code",
   "execution_count": 21,
   "metadata": {},
   "outputs": [
    {
     "data": {
      "text/plain": [
       "0.75714285714285712"
      ]
     },
     "execution_count": 21,
     "metadata": {},
     "output_type": "execute_result"
    }
   ],
   "source": [
    "grid_svm.best_score_"
   ]
  },
  {
   "cell_type": "code",
   "execution_count": 22,
   "metadata": {
    "colab": {
     "base_uri": "https://localhost:8080/",
     "height": 35
    },
    "colab_type": "code",
    "executionInfo": {
     "elapsed": 614,
     "status": "ok",
     "timestamp": 1560014649455,
     "user": {
      "displayName": "Manuel Lopez-Martin",
      "photoUrl": "https://lh3.googleusercontent.com/-w9URsrVicEo/AAAAAAAAAAI/AAAAAAAAASs/BEZo6dPc8Pw/s64/photo.jpg",
      "userId": "05920962092300421674"
     },
     "user_tz": -120
    },
    "id": "SAa-_QHL_aDK",
    "outputId": "a1166e8b-adb1-40ae-cf43-696f57245ee4"
   },
   "outputs": [
    {
     "data": {
      "text/plain": [
       "0.73333333333333328"
      ]
     },
     "execution_count": 22,
     "metadata": {},
     "output_type": "execute_result"
    }
   ],
   "source": [
    "# Lo evaluamos, datos test\n",
    "grid_svm.score(X_test, y_test)"
   ]
  },
  {
   "cell_type": "markdown",
   "metadata": {},
   "source": [
    "# Modelo  conjunto de validación y conjunto de test adicional"
   ]
  },
  {
   "cell_type": "markdown",
   "metadata": {},
   "source": [
    "<img src=\"dib5.png\"  width=\"600\">"
   ]
  },
  {
   "cell_type": "code",
   "execution_count": 23,
   "metadata": {
    "colab": {},
    "colab_type": "code",
    "id": "Fr8Fxuy9_aCF"
   },
   "outputs": [],
   "source": [
    "X_train_total, X_test, y_train_total, y_test = train_test_split(dataset_X, dataset_y, test_size=.2, random_state=54)\n",
    "X_train, X_val, y_train, y_val = train_test_split(X_train_total, y_train_total, test_size=.2, random_state=41) # usamos el X_train_total para hacer una partición adicional\n",
    "# ahora tenemos tres conjuntos de datos: train, validacion y test."
   ]
  },
  {
   "cell_type": "code",
   "execution_count": 24,
   "metadata": {},
   "outputs": [
    {
     "name": "stdout",
     "output_type": "stream",
     "text": [
      "Kernel:   linear\tC: 0.010\tAccuracy: 0.688\n",
      "Kernel:   linear\tC: 10.000\tAccuracy: 0.688\n",
      "Kernel:      rbf\tC: 0.010\tAccuracy: 0.500\n",
      "Kernel:      rbf\tC: 10.000\tAccuracy: 0.875\n"
     ]
    }
   ],
   "source": [
    "# Probamos la combinación de parámetros sobre train y val\n",
    "for kernel in ['linear', 'rbf']:\n",
    "    for C in [0.01, 10 ]:\n",
    "        clasificador = SVC(kernel=kernel, C=C).fit(X_train, y_train)\n",
    "        scores = clasificador.score(X_val, y_val)\n",
    "        print(\"Kernel: %8s\\tC: %0.3f\\tAccuracy: %.3f\" % (kernel, C, scores))"
   ]
  },
  {
   "cell_type": "code",
   "execution_count": 25,
   "metadata": {},
   "outputs": [
    {
     "data": {
      "text/plain": [
       "0.75"
      ]
     },
     "execution_count": 25,
     "metadata": {},
     "output_type": "execute_result"
    }
   ],
   "source": [
    "# Una vez sabemos cuales son los mejores parametros usamos todo el conjunto de entrenamiento para entrenar de nuevo\n",
    "# el modelo y sacamos el resultado sobre el conjunto de test.\n",
    "clasificador_elegido = SVC(kernel='rbf', C=10.).fit(X_train_total, y_train_total)\n",
    "clasificador_elegido.score(X_test, y_test)"
   ]
  },
  {
   "cell_type": "code",
   "execution_count": null,
   "metadata": {},
   "outputs": [],
   "source": []
  },
  {
   "cell_type": "markdown",
   "metadata": {},
   "source": [
    "## Otra forma ya vista en un worksheet anterior"
   ]
  },
  {
   "cell_type": "markdown",
   "metadata": {},
   "source": [
    "### Cuando hacemos muchas comparaciones deberiamos realizar las busquedas del hiperparametro optimo con un conjunto de datos de entrenamiento y validacion, distintos al conjunto de test"
   ]
  },
  {
   "cell_type": "markdown",
   "metadata": {},
   "source": [
    "### Esto se puede hacer de varias maneras, a continuacion veremos dos formas:"
   ]
  },
  {
   "cell_type": "markdown",
   "metadata": {},
   "source": [
    "### 1. Usando validacion cruzada para realizar las validaciones en la busqueda del valor optimo de los hiperparametros"
   ]
  },
  {
   "cell_type": "code",
   "execution_count": 23,
   "metadata": {},
   "outputs": [],
   "source": [
    "from sklearn.neighbors import KNeighborsClassifier"
   ]
  },
  {
   "cell_type": "code",
   "execution_count": 24,
   "metadata": {},
   "outputs": [],
   "source": [
    "X_train, X_test, y_train, y_test = train_test_split(dataset_X, dataset_y, test_size=.3, random_state=42)\n",
    "\n",
    "val_errors = []\n",
    "t = list(reversed(range(1, 50, 2)))\n",
    "np.random.seed(123)\n",
    "for n in t:\n",
    "    accuracy_cv = cross_val_score(KNeighborsClassifier(n_neighbors=n), X_train, y_train, cv=5,scoring='accuracy').mean()\n",
    "    val_errors.append(1-accuracy_cv) # error de validacion\n",
    "\n",
    "  "
   ]
  },
  {
   "cell_type": "code",
   "execution_count": 25,
   "metadata": {
    "scrolled": true
   },
   "outputs": [
    {
     "data": {
      "image/png": "[encoded data removed]",
      "text/plain": [
       "<matplotlib.figure.Figure at 0x1adcebb4cf8>"
      ]
     },
     "metadata": {},
     "output_type": "display_data"
    }
   ],
   "source": [
    "import matplotlib.pyplot as plt\n",
    "\n",
    "plt.plot(t, val_errors, 'g') # verde --> error de validacion\n",
    "plt.gca().invert_xaxis()\n",
    "plt.show()"
   ]
  },
  {
   "cell_type": "code",
   "execution_count": 26,
   "metadata": {},
   "outputs": [
    {
     "data": {
      "text/plain": [
       "14"
      ]
     },
     "execution_count": 26,
     "metadata": {},
     "output_type": "execute_result"
    }
   ],
   "source": [
    "# Valor optimo\n",
    "50-np.argmin(val_errors)*2"
   ]
  },
  {
   "cell_type": "markdown",
   "metadata": {},
   "source": [
    "#### Con este valor optimo obtenemos el resultado sobre el conjunto de test"
   ]
  },
  {
   "cell_type": "code",
   "execution_count": 27,
   "metadata": {},
   "outputs": [
    {
     "name": "stdout",
     "output_type": "stream",
     "text": [
      "accuracy sobre el conjunto de test final: 0.8333333333333334\n"
     ]
    }
   ],
   "source": [
    "from sklearn.metrics import accuracy_score\n",
    "\n",
    "knn_opt = KNeighborsClassifier(n_neighbors=14)\n",
    "knn_opt.fit(X_train,y_train)\n",
    "y_hat = knn_opt.predict(X_test)\n",
    "print(\"accuracy sobre el conjunto de test final: {}\".format(accuracy_score(y_test,y_hat)))"
   ]
  },
  {
   "cell_type": "markdown",
   "metadata": {},
   "source": [
    "### 2. Usando un conjunto de validacion (diferente al de entrenamiento y test) en la busqueda del valor optimo de los hiperparametros"
   ]
  },
  {
   "cell_type": "code",
   "execution_count": 28,
   "metadata": {},
   "outputs": [],
   "source": [
    "X_train_total, X_test, y_train_total, y_test = train_test_split(dataset_X, dataset_y, test_size=.2, random_state=42)\n",
    "X_train, X_val, y_train, y_val = train_test_split(X_train_total, y_train_total, test_size=.2, random_state=41) # usamos el X_train_total para hacer una partición adicional\n",
    "# ahora tenemos tres conjuntos de datos: train, validacion y test.\n",
    "\n",
    "val_errors = []\n",
    "t = list(reversed(range(1, 50, 2)))\n",
    "np.random.seed(123)\n",
    "for n in t:\n",
    "    knn = KNeighborsClassifier(n_neighbors=n)\n",
    "    knn.fit(X_train, y_train)\n",
    "    y_val_hat = knn.predict(X_val)\n",
    "    val_errors.append(1-accuracy_score(y_val, y_val_hat)) # error de validacion\n",
    "\n",
    "  "
   ]
  },
  {
   "cell_type": "code",
   "execution_count": 29,
   "metadata": {
    "scrolled": false
   },
   "outputs": [
    {
     "data": {
      "image/png": "[encoded data removed]",
      "text/plain": [
       "<matplotlib.figure.Figure at 0x1adce98fb38>"
      ]
     },
     "metadata": {},
     "output_type": "display_data"
    }
   ],
   "source": [
    "import matplotlib.pyplot as plt\n",
    "\n",
    "plt.plot(t, val_errors, 'g') # verde --> error de validacion\n",
    "plt.gca().invert_xaxis()\n",
    "plt.show()"
   ]
  },
  {
   "cell_type": "code",
   "execution_count": 30,
   "metadata": {},
   "outputs": [
    {
     "data": {
      "text/plain": [
       "20"
      ]
     },
     "execution_count": 30,
     "metadata": {},
     "output_type": "execute_result"
    }
   ],
   "source": [
    "# Valor optimo\n",
    "50-np.argmin(val_errors)*2"
   ]
  },
  {
   "cell_type": "markdown",
   "metadata": {},
   "source": [
    "#### Con este valor optimo obtenemos el resultado sobre el conjunto de test"
   ]
  },
  {
   "cell_type": "code",
   "execution_count": 31,
   "metadata": {},
   "outputs": [
    {
     "name": "stdout",
     "output_type": "stream",
     "text": [
      "accuracy sobre el conjunto de test final: 0.85\n"
     ]
    }
   ],
   "source": [
    "from sklearn.metrics import accuracy_score\n",
    "\n",
    "knn_opt = KNeighborsClassifier(n_neighbors=20)\n",
    "knn_opt.fit(X_train_total,y_train_total) #usamos todos los datos de entrenaiento para hacer un ajuste final\n",
    "y_test_hat = knn_opt.predict(X_test)\n",
    "print(\"accuracy sobre el conjunto de test final: {}\".format(accuracy_score(y_test,y_test_hat)))"
   ]
  },
  {
   "cell_type": "markdown",
   "metadata": {},
   "source": [
    "#### En este caso vemos que no hay grandes diferencias, pero cuando el numero de muestras es pequeño y/o el numero de busquedas del hiperparametro es elevado, la diferencia puede ser importante."
   ]
  },
  {
   "cell_type": "code",
   "execution_count": null,
   "metadata": {},
   "outputs": [],
   "source": []
  },
  {
   "cell_type": "code",
   "execution_count": null,
   "metadata": {},
   "outputs": [],
   "source": []
  },
  {
   "cell_type": "code",
   "execution_count": null,
   "metadata": {},
   "outputs": [],
   "source": []
  },
  {
   "cell_type": "code",
   "execution_count": null,
   "metadata": {},
   "outputs": [],
   "source": []
  }
 ],
 "metadata": {
  "colab": {
   "collapsed_sections": [
    "TByenKS4_aDN"
   ],
   "name": "S7_ML_worksheet_clase.ipynb",
   "provenance": [],
   "version": "0.3.2"
  },
  "kernelspec": {
   "display_name": "Python 3",
   "language": "python",
   "name": "python3"
  },
  "language_info": {
   "codemirror_mode": {
    "name": "ipython",
    "version": 3
   },
   "file_extension": ".py",
   "mimetype": "text/x-python",
   "name": "python",
   "nbconvert_exporter": "python",
   "pygments_lexer": "ipython3",
   "version": "3.9.2"
  },
  "toc": {
   "base_numbering": 1,
   "nav_menu": {},
   "number_sections": true,
   "sideBar": true,
   "skip_h1_title": false,
   "title_cell": "Table of Contents",
   "title_sidebar": "Contents",
   "toc_cell": false,
   "toc_position": {},
   "toc_section_display": true,
   "toc_window_display": false
  },
  "varInspector": {
   "cols": {
    "lenName": 16,
    "lenType": 16,
    "lenVar": 40
   },
   "kernels_config": {
    "python": {
     "delete_cmd_postfix": "",
     "delete_cmd_prefix": "del ",
     "library": "var_list.py",
     "varRefreshCmd": "print(var_dic_list())"
    },
    "r": {
     "delete_cmd_postfix": ") ",
     "delete_cmd_prefix": "rm(",
     "library": "var_list.r",
     "varRefreshCmd": "cat(var_dic_list()) "
    }
   },
   "types_to_exclude": [
    "module",
    "function",
    "builtin_function_or_method",
    "instance",
    "_Feature"
   ],
   "window_display": false
  }
 },
 "nbformat": 4,
 "nbformat_minor": 1
}
