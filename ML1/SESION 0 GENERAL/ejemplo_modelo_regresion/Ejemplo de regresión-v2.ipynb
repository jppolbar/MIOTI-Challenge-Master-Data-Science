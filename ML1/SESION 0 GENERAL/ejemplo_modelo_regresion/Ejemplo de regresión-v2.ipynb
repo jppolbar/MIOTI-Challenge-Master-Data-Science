{
 "cells": [
  {
   "cell_type": "markdown",
   "metadata": {},
   "source": [
    "* MIO-PARA REGRESIÓN TODO ES IGUAL EN CUANTO A PREPROCESAMIENTO, SELECCIÓN DE CARACTERISTICAS, AJUSTES Y SOBREAJUSTES.\n",
    "* MIO- LO QUE CAMBIAN SON LAS MÉTRICAS."
   ]
  },
  {
   "cell_type": "code",
   "execution_count": null,
   "metadata": {},
   "outputs": [],
   "source": []
  },
  {
   "cell_type": "code",
   "execution_count": 3,
   "metadata": {
    "ExecuteTime": {
     "end_time": "2021-06-17T17:34:12.198717Z",
     "start_time": "2021-06-17T17:34:12.186714Z"
    }
   },
   "outputs": [],
   "source": [
    "%matplotlib inline\n",
    "\n",
    "import warnings\n",
    "warnings.filterwarnings(\"ignore\")\n",
    "\n",
    "import numpy as np\n",
    "import pandas as pd\n",
    "import matplotlib.pyplot as plt\n",
    "import sklearn\n",
    "from sklearn.metrics import confusion_matrix\n",
    "from sklearn.model_selection import cross_val_score\n",
    "from sklearn.linear_model import LogisticRegression\n",
    "from sklearn.metrics import mean_squared_error, mean_absolute_error, median_absolute_error, r2_score\n",
    "\n",
    "pd.set_option(\"display.max_columns\", 50)"
   ]
  },
  {
   "cell_type": "code",
   "execution_count": 4,
   "metadata": {
    "ExecuteTime": {
     "end_time": "2021-06-17T17:34:15.506859Z",
     "start_time": "2021-06-17T17:34:15.496264Z"
    }
   },
   "outputs": [],
   "source": [
    "# Symmetric mean absolute percentage error,https://en.wikipedia.org/wiki/Symmetric_mean_absolute_percentage_error\n",
    "def smape(y_true, y_pred):\n",
    "    return ((100.0/len(y_true)) * np.sum(2 * np.abs(y_pred - y_true) / (np.abs(y_true) + np.abs(y_pred))+ np.finfo(float).eps))"
   ]
  },
  {
   "cell_type": "code",
   "execution_count": 5,
   "metadata": {
    "ExecuteTime": {
     "end_time": "2021-06-17T17:34:18.639999Z",
     "start_time": "2021-06-17T17:34:18.632020Z"
    }
   },
   "outputs": [],
   "source": [
    "def mean_absolute_percentage_error(y_true, y_pred): \n",
    "    epsilon = 1e-10 \n",
    "    y_true, y_pred = np.array(y_true), np.array(y_pred)\n",
    "    return np.mean(np.abs((y_true - y_pred) / np.maximum(epsilon,np.abs(y_true)))) * 100"
   ]
  },
  {
   "cell_type": "code",
   "execution_count": 6,
   "metadata": {
    "ExecuteTime": {
     "end_time": "2021-06-17T17:34:22.085237Z",
     "start_time": "2021-06-17T17:34:22.064222Z"
    }
   },
   "outputs": [],
   "source": [
    "# Relative root mean square error\n",
    "def RRMSE (real, predicted):\n",
    "  a = np.linalg.norm((real-predicted), ord='fro')\n",
    "  b = np.linalg.norm(real, ord='fro')\n",
    "  return(a/b)"
   ]
  },
  {
   "cell_type": "markdown",
   "metadata": {},
   "source": [
    "# Cargamos el dataset"
   ]
  },
  {
   "cell_type": "code",
   "execution_count": 7,
   "metadata": {
    "ExecuteTime": {
     "end_time": "2021-06-17T17:34:27.333787Z",
     "start_time": "2021-06-17T17:34:25.826361Z"
    },
    "scrolled": true
   },
   "outputs": [
    {
     "data": {
      "text/plain": [
       "{'data': array([[   8.3252    ,   41.        ,    6.98412698, ...,    2.55555556,\n",
       "           37.88      , -122.23      ],\n",
       "        [   8.3014    ,   21.        ,    6.23813708, ...,    2.10984183,\n",
       "           37.86      , -122.22      ],\n",
       "        [   7.2574    ,   52.        ,    8.28813559, ...,    2.80225989,\n",
       "           37.85      , -122.24      ],\n",
       "        ...,\n",
       "        [   1.7       ,   17.        ,    5.20554273, ...,    2.3256351 ,\n",
       "           39.43      , -121.22      ],\n",
       "        [   1.8672    ,   18.        ,    5.32951289, ...,    2.12320917,\n",
       "           39.43      , -121.32      ],\n",
       "        [   2.3886    ,   16.        ,    5.25471698, ...,    2.61698113,\n",
       "           39.37      , -121.24      ]]),\n",
       " 'target': array([4.526, 3.585, 3.521, ..., 0.923, 0.847, 0.894]),\n",
       " 'frame': None,\n",
       " 'target_names': ['MedHouseVal'],\n",
       " 'feature_names': ['MedInc',\n",
       "  'HouseAge',\n",
       "  'AveRooms',\n",
       "  'AveBedrms',\n",
       "  'Population',\n",
       "  'AveOccup',\n",
       "  'Latitude',\n",
       "  'Longitude'],\n",
       " 'DESCR': '.. _california_housing_dataset:\\n\\nCalifornia Housing dataset\\n--------------------------\\n\\n**Data Set Characteristics:**\\n\\n    :Number of Instances: 20640\\n\\n    :Number of Attributes: 8 numeric, predictive attributes and the target\\n\\n    :Attribute Information:\\n        - MedInc        median income in block\\n        - HouseAge      median house age in block\\n        - AveRooms      average number of rooms\\n        - AveBedrms     average number of bedrooms\\n        - Population    block population\\n        - AveOccup      average house occupancy\\n        - Latitude      house block latitude\\n        - Longitude     house block longitude\\n\\n    :Missing Attribute Values: None\\n\\nThis dataset was obtained from the StatLib repository.\\nhttp://lib.stat.cmu.edu/datasets/\\n\\nThe target variable is the median house value for California districts.\\n\\nThis dataset was derived from the 1990 U.S. census, using one row per census\\nblock group. A block group is the smallest geographical unit for which the U.S.\\nCensus Bureau publishes sample data (a block group typically has a population\\nof 600 to 3,000 people).\\n\\nIt can be downloaded/loaded using the\\n:func:`sklearn.datasets.fetch_california_housing` function.\\n\\n.. topic:: References\\n\\n    - Pace, R. Kelley and Ronald Barry, Sparse Spatial Autoregressions,\\n      Statistics and Probability Letters, 33 (1997) 291-297\\n'}"
      ]
     },
     "execution_count": 7,
     "metadata": {},
     "output_type": "execute_result"
    }
   ],
   "source": [
    "from sklearn.datasets import fetch_california_housing\n",
    "data = fetch_california_housing()\n",
    "data"
   ]
  },
  {
   "cell_type": "markdown",
   "metadata": {},
   "source": [
    "# EDA, Exploratory Data Analysis"
   ]
  },
  {
   "cell_type": "markdown",
   "metadata": {},
   "source": [
    "## No NaNs"
   ]
  },
  {
   "cell_type": "code",
   "execution_count": 8,
   "metadata": {
    "ExecuteTime": {
     "end_time": "2021-06-17T17:34:43.479043Z",
     "start_time": "2021-06-17T17:34:43.465042Z"
    },
    "scrolled": true
   },
   "outputs": [
    {
     "data": {
      "text/plain": [
       "False"
      ]
     },
     "execution_count": 8,
     "metadata": {},
     "output_type": "execute_result"
    }
   ],
   "source": [
    "np.isnan(data.data).any()"
   ]
  },
  {
   "cell_type": "markdown",
   "metadata": {},
   "source": [
    "## Histogramas"
   ]
  },
  {
   "cell_type": "code",
   "execution_count": 10,
   "metadata": {
    "ExecuteTime": {
     "end_time": "2021-06-17T17:35:01.964051Z",
     "start_time": "2021-06-17T17:34:59.233843Z"
    },
    "scrolled": false
   },
   "outputs": [
    {
     "data": {
      "image/png": "[encoded data removed]",
      "text/plain": [
       "<Figure size 720x720 with 9 Axes>"
      ]
     },
     "metadata": {
      "needs_background": "light"
     },
     "output_type": "display_data"
    }
   ],
   "source": [
    "pd.DataFrame(data.data, columns=data.feature_names).hist(bins=50, figsize=(10, 10));"
   ]
  },
  {
   "cell_type": "code",
   "execution_count": 8,
   "metadata": {},
   "outputs": [
    {
     "data": {
      "text/plain": [
       "<matplotlib.axes._subplots.AxesSubplot at 0x24a75e3ed68>"
      ]
     },
     "execution_count": 8,
     "metadata": {},
     "output_type": "execute_result"
    },
    {
     "data": {
      "image/png": "[encoded data removed]",
      "text/plain": [
       "<matplotlib.figure.Figure at 0x24a756809b0>"
      ]
     },
     "metadata": {},
     "output_type": "display_data"
    }
   ],
   "source": [
    "pd.Series(pd.Series(data.target)).plot.hist(bins=50, figsize=(5, 5), title='Target')"
   ]
  },
  {
   "cell_type": "markdown",
   "metadata": {},
   "source": [
    "# Montamos los datasets X e y"
   ]
  },
  {
   "cell_type": "code",
   "execution_count": 9,
   "metadata": {},
   "outputs": [
    {
     "name": "stdout",
     "output_type": "stream",
     "text": [
      "(20640, 8) (20640,)\n",
      "['MedInc', 'HouseAge', 'AveRooms', 'AveBedrms', 'Population', 'AveOccup', 'Latitude', 'Longitude']\n"
     ]
    }
   ],
   "source": [
    "dataset_X = data.data\n",
    "dataset_y = data.target\n",
    "print(dataset_X.shape, dataset_y.shape)\n",
    "print(data.feature_names)"
   ]
  },
  {
   "cell_type": "code",
   "execution_count": 10,
   "metadata": {},
   "outputs": [
    {
     "name": "stdout",
     "output_type": "stream",
     "text": [
      "(14448, 8) (6192, 8) (14448,) (6192,)\n"
     ]
    }
   ],
   "source": [
    "from sklearn.model_selection import train_test_split\n",
    "\n",
    "X_train, X_test, y_train, y_test = train_test_split(dataset_X, dataset_y, test_size=.3, random_state=42)\n",
    "print(X_train.shape, X_test.shape, y_train.shape, y_test.shape)"
   ]
  },
  {
   "cell_type": "markdown",
   "metadata": {},
   "source": [
    "# Modelo"
   ]
  },
  {
   "cell_type": "code",
   "execution_count": 11,
   "metadata": {
    "colab": {},
    "colab_type": "code",
    "id": "XN4GbjdcakHW"
   },
   "outputs": [],
   "source": [
    "from sklearn.ensemble import RandomForestRegressor\n",
    "rf = RandomForestRegressor(n_estimators=100, random_state=123)"
   ]
  },
  {
   "cell_type": "code",
   "execution_count": 12,
   "metadata": {
    "colab": {
     "base_uri": "https://localhost:8080/",
     "height": 164
    },
    "colab_type": "code",
    "executionInfo": {
     "elapsed": 926,
     "status": "ok",
     "timestamp": 1591088959437,
     "user": {
      "displayName": "Manuel Lopez-Martin",
      "photoUrl": "https://lh3.googleusercontent.com/a-/AOh14GiHs6fiCLTexg9bOkEOioTINckLqsSsfo5rxoyJLg=s64",
      "userId": "05920962092300421674"
     },
     "user_tz": -120
    },
    "id": "CF-dqi-5akHX",
    "outputId": "c443605f-614d-4b46-ecbd-5ff17e58a453",
    "scrolled": true
   },
   "outputs": [
    {
     "data": {
      "text/plain": [
       "RandomForestRegressor(bootstrap=True, criterion='mse', max_depth=None,\n",
       "           max_features='auto', max_leaf_nodes=None,\n",
       "           min_impurity_decrease=0.0, min_impurity_split=None,\n",
       "           min_samples_leaf=1, min_samples_split=2,\n",
       "           min_weight_fraction_leaf=0.0, n_estimators=100, n_jobs=1,\n",
       "           oob_score=False, random_state=123, verbose=0, warm_start=False)"
      ]
     },
     "execution_count": 12,
     "metadata": {},
     "output_type": "execute_result"
    }
   ],
   "source": [
    "rf.fit(X_train, y_train)"
   ]
  },
  {
   "cell_type": "markdown",
   "metadata": {},
   "source": [
    "# Predicción, métricas"
   ]
  },
  {
   "cell_type": "markdown",
   "metadata": {},
   "source": [
    "### Predicción de la primera muestra del conjunto de test"
   ]
  },
  {
   "cell_type": "code",
   "execution_count": 13,
   "metadata": {},
   "outputs": [
    {
     "data": {
      "text/plain": [
       "array([ 0.48486])"
      ]
     },
     "execution_count": 13,
     "metadata": {},
     "output_type": "execute_result"
    }
   ],
   "source": [
    "rf.predict(X_test[0:1,:])"
   ]
  },
  {
   "cell_type": "markdown",
   "metadata": {},
   "source": [
    "### Devuelve el coeficiente $R^2$ de la predicción"
   ]
  },
  {
   "cell_type": "code",
   "execution_count": 14,
   "metadata": {
    "colab": {
     "base_uri": "https://localhost:8080/",
     "height": 35
    },
    "colab_type": "code",
    "executionInfo": {
     "elapsed": 595,
     "status": "ok",
     "timestamp": 1591088959785,
     "user": {
      "displayName": "Manuel Lopez-Martin",
      "photoUrl": "https://lh3.googleusercontent.com/a-/AOh14GiHs6fiCLTexg9bOkEOioTINckLqsSsfo5rxoyJLg=s64",
      "userId": "05920962092300421674"
     },
     "user_tz": -120
    },
    "id": "rXHOT60OakHa",
    "outputId": "d207b787-ad40-42ca-d4f3-10d29817e058"
   },
   "outputs": [
    {
     "data": {
      "text/plain": [
       "0.80493364639560161"
      ]
     },
     "execution_count": 14,
     "metadata": {},
     "output_type": "execute_result"
    }
   ],
   "source": [
    "rf.score(X_test, y_test)  # devuelve el coeficiente $R^2$ de la predicción. Cuando te acercas al 1 es mejor. -1 es malo. El 0 te devuleve la media."
   ]
  },
  {
   "cell_type": "markdown",
   "metadata": {},
   "source": [
    "### Todas las metricas"
   ]
  },
  {
   "cell_type": "code",
   "execution_count": 15,
   "metadata": {},
   "outputs": [],
   "source": [
    "y_test_hat = rf.predict(X_test)"
   ]
  },
  {
   "cell_type": "code",
   "execution_count": 16,
   "metadata": {},
   "outputs": [
    {
     "name": "stdout",
     "output_type": "stream",
     "text": [
      "Metricas de rendimiento de predicción\n"
     ]
    },
    {
     "data": {
      "text/html": [
       "<div>\n",
       "<style scoped>\n",
       "    .dataframe tbody tr th:only-of-type {\n",
       "        vertical-align: middle;\n",
       "    }\n",
       "\n",
       "    .dataframe tbody tr th {\n",
       "        vertical-align: top;\n",
       "    }\n",
       "\n",
       "    .dataframe thead th {\n",
       "        text-align: right;\n",
       "    }\n",
       "</style>\n",
       "<table border=\"1\" class=\"dataframe\">\n",
       "  <thead>\n",
       "    <tr style=\"text-align: right;\">\n",
       "      <th></th>\n",
       "      <th>metricas</th>\n",
       "    </tr>\n",
       "  </thead>\n",
       "  <tbody>\n",
       "    <tr>\n",
       "      <th>MSE</th>\n",
       "      <td>0.256032</td>\n",
       "    </tr>\n",
       "    <tr>\n",
       "      <th>MAE</th>\n",
       "      <td>0.33151</td>\n",
       "    </tr>\n",
       "    <tr>\n",
       "      <th>MAD</th>\n",
       "      <td>0.20917</td>\n",
       "    </tr>\n",
       "    <tr>\n",
       "      <th>R2</th>\n",
       "      <td>0.804934</td>\n",
       "    </tr>\n",
       "    <tr>\n",
       "      <th>SMAPE</th>\n",
       "      <td>16.7186</td>\n",
       "    </tr>\n",
       "    <tr>\n",
       "      <th>MAPE</th>\n",
       "      <td>19.0087</td>\n",
       "    </tr>\n",
       "    <tr>\n",
       "      <th>RRMSE</th>\n",
       "      <td>0.214111</td>\n",
       "    </tr>\n",
       "  </tbody>\n",
       "</table>\n",
       "</div>"
      ],
      "text/plain": [
       "       metricas\n",
       "MSE    0.256032\n",
       "MAE     0.33151\n",
       "MAD     0.20917\n",
       "R2     0.804934\n",
       "SMAPE   16.7186\n",
       "MAPE    19.0087\n",
       "RRMSE  0.214111"
      ]
     },
     "execution_count": 16,
     "metadata": {},
     "output_type": "execute_result"
    }
   ],
   "source": [
    "print('Metricas de rendimiento de predicción')\n",
    "results_table = pd.DataFrame(index=['MSE','MAE','MAD','R2','SMAPE', 'MAPE','RRMSE'],columns=['metricas'])\n",
    "for i in range(1):\n",
    "    results_table.iloc[0,i] = mean_squared_error( y_test, y_test_hat)\n",
    "    results_table.iloc[1,i] = mean_absolute_error(   y_test, y_test_hat)\n",
    "    results_table.iloc[2,i] = median_absolute_error(  y_test, y_test_hat)\n",
    "    results_table.iloc[3,i] = r2_score( y_test, y_test_hat)\n",
    "    results_table.iloc[4,i] = smape(  y_test, y_test_hat)\n",
    "    results_table.iloc[5,i] = mean_absolute_percentage_error(  y_test, y_test_hat)## Porcentaje de error frente a tu valor de salida# Porcentaje de error frente a tu valor de salida.La relación entre el error abasoluto/erores absoluto de las variables-\n",
    "    #MAPE POR DEBAJO DE 20% ES BUENO Y POR DEBAJO DEL 10% EXCELENTE\n",
    "    results_table.iloc[6,i] = RRMSE( np.expand_dims(y_test, axis=1), np.expand_dims(y_test_hat, axis=1))\n",
    "results_table"
   ]
  },
  {
   "cell_type": "markdown",
   "metadata": {},
   "source": [
    "# Regresión Cuantílica"
   ]
  },
  {
   "cell_type": "markdown",
   "metadata": {},
   "source": [
    "La regresión cuantilica permite predecir un valor que no se corresponda con la media del valor esperado (lo que es habitual) sino con algún cuantil de dicho valor. Por ejemplo, si hacemos la predicción para el cuantil 95% obtendremos un valor tal que el 95% de los valores esté por debajo de él. Si el cuantil es el 50% obtendremos la mediana. De esta foirma podemos obtener tambien intervalos de confianza....\n",
    "\n",
    "\n",
    "Podemos hacer regresión cuantílica con:\n",
    "- statsmodels: con una perspectiva estadistica (https://www.statology.org/quantile-regression-in-python/)\n",
    "- Tensorflow/Keras: usando la funcion de coste pinball.\n",
    "- Gradient Boosting Regressor: usando scikit-learn o xgboost (veremos esta opción)"
   ]
  },
  {
   "cell_type": "markdown",
   "metadata": {},
   "source": [
    "### Crear un modelo para cada predicción"
   ]
  },
  {
   "cell_type": "code",
   "execution_count": 17,
   "metadata": {},
   "outputs": [],
   "source": [
    "from sklearn.ensemble import GradientBoostingRegressor\n",
    "\n",
    "clf_sup = GradientBoostingRegressor(loss='quantile', alpha=0.95)\n",
    "clf_inf = GradientBoostingRegressor(loss='quantile', alpha=0.05)\n",
    "clf_50 = GradientBoostingRegressor(loss='quantile', alpha=0.5)\n",
    "clf_mean = GradientBoostingRegressor()  # Sacamos el valor de la media. por defecto la funcionde coste es: least square - ls. Esta es la función de coste de las redes neuronales cuando las usamos modalidad de regresión."
   ]
  },
  {
   "cell_type": "markdown",
   "metadata": {},
   "source": [
    "### Entrenar cada modelo"
   ]
  },
  {
   "cell_type": "code",
   "execution_count": 18,
   "metadata": {},
   "outputs": [
    {
     "data": {
      "text/plain": [
       "GradientBoostingRegressor(alpha=0.9, criterion='friedman_mse', init=None,\n",
       "             learning_rate=0.1, loss='ls', max_depth=3, max_features=None,\n",
       "             max_leaf_nodes=None, min_impurity_decrease=0.0,\n",
       "             min_impurity_split=None, min_samples_leaf=1,\n",
       "             min_samples_split=2, min_weight_fraction_leaf=0.0,\n",
       "             n_estimators=100, presort='auto', random_state=None,\n",
       "             subsample=1.0, verbose=0, warm_start=False)"
      ]
     },
     "execution_count": 18,
     "metadata": {},
     "output_type": "execute_result"
    }
   ],
   "source": [
    "clf_sup.fit(X_train, y_train)\n",
    "clf_inf.fit(X_train, y_train)\n",
    "clf_50.fit(X_train, y_train)\n",
    "clf_mean.fit(X_train, y_train)"
   ]
  },
  {
   "cell_type": "markdown",
   "metadata": {},
   "source": [
    "### Predicciones en el conjunto de test"
   ]
  },
  {
   "cell_type": "code",
   "execution_count": 19,
   "metadata": {},
   "outputs": [],
   "source": [
    "y_test_hat_sup = clf_sup.predict(X_test)\n",
    "y_test_hat_inf = clf_inf.predict(X_test)\n",
    "y_test_hat_50 = clf_50.predict(X_test)\n",
    "y_test_hat_mean = clf_mean.predict(X_test)"
   ]
  },
  {
   "cell_type": "markdown",
   "metadata": {},
   "source": [
    "### Comprobar las predicciones"
   ]
  },
  {
   "cell_type": "code",
   "execution_count": 20,
   "metadata": {},
   "outputs": [
    {
     "name": "stdout",
     "output_type": "stream",
     "text": [
      "Predicción cuantilica para varias muestras\n"
     ]
    },
    {
     "data": {
      "text/html": [
       "<div>\n",
       "<style scoped>\n",
       "    .dataframe tbody tr th:only-of-type {\n",
       "        vertical-align: middle;\n",
       "    }\n",
       "\n",
       "    .dataframe tbody tr th {\n",
       "        vertical-align: top;\n",
       "    }\n",
       "\n",
       "    .dataframe thead th {\n",
       "        text-align: right;\n",
       "    }\n",
       "</style>\n",
       "<table border=\"1\" class=\"dataframe\">\n",
       "  <thead>\n",
       "    <tr style=\"text-align: right;\">\n",
       "      <th></th>\n",
       "      <th>1</th>\n",
       "      <th>2</th>\n",
       "      <th>3</th>\n",
       "      <th>4</th>\n",
       "      <th>5</th>\n",
       "      <th>6</th>\n",
       "      <th>7</th>\n",
       "      <th>8</th>\n",
       "      <th>9</th>\n",
       "      <th>10</th>\n",
       "      <th>11</th>\n",
       "      <th>12</th>\n",
       "      <th>13</th>\n",
       "      <th>14</th>\n",
       "      <th>15</th>\n",
       "      <th>16</th>\n",
       "      <th>17</th>\n",
       "      <th>18</th>\n",
       "      <th>19</th>\n",
       "      <th>20</th>\n",
       "      <th>21</th>\n",
       "      <th>22</th>\n",
       "      <th>23</th>\n",
       "      <th>24</th>\n",
       "      <th>25</th>\n",
       "      <th>26</th>\n",
       "      <th>27</th>\n",
       "      <th>28</th>\n",
       "      <th>29</th>\n",
       "      <th>30</th>\n",
       "      <th>31</th>\n",
       "      <th>32</th>\n",
       "      <th>33</th>\n",
       "      <th>34</th>\n",
       "      <th>35</th>\n",
       "      <th>36</th>\n",
       "      <th>37</th>\n",
       "      <th>38</th>\n",
       "      <th>39</th>\n",
       "    </tr>\n",
       "  </thead>\n",
       "  <tbody>\n",
       "    <tr>\n",
       "      <th>Q 95%</th>\n",
       "      <td>2.409</td>\n",
       "      <td>5.58109</td>\n",
       "      <td>3.54751</td>\n",
       "      <td>3.18494</td>\n",
       "      <td>2.79776</td>\n",
       "      <td>3.41352</td>\n",
       "      <td>2.48536</td>\n",
       "      <td>4.95209</td>\n",
       "      <td>5.10037</td>\n",
       "      <td>1.74602</td>\n",
       "      <td>2.46806</td>\n",
       "      <td>1.97817</td>\n",
       "      <td>2.56116</td>\n",
       "      <td>3.20479</td>\n",
       "      <td>2.2805</td>\n",
       "      <td>3.28812</td>\n",
       "      <td>2.99835</td>\n",
       "      <td>2.54871</td>\n",
       "      <td>1.98637</td>\n",
       "      <td>5.18569</td>\n",
       "      <td>4.57328</td>\n",
       "      <td>2.99699</td>\n",
       "      <td>4.98431</td>\n",
       "      <td>2.34777</td>\n",
       "      <td>1.84704</td>\n",
       "      <td>2.79218</td>\n",
       "      <td>1.73023</td>\n",
       "      <td>2.31609</td>\n",
       "      <td>4.65049</td>\n",
       "      <td>2.21847</td>\n",
       "      <td>2.25667</td>\n",
       "      <td>3.62825</td>\n",
       "      <td>4.33523</td>\n",
       "      <td>2.79938</td>\n",
       "      <td>3.53399</td>\n",
       "      <td>3.9588</td>\n",
       "      <td>2.12603</td>\n",
       "      <td>1.69151</td>\n",
       "      <td>1.96059</td>\n",
       "    </tr>\n",
       "    <tr>\n",
       "      <th>Mediana</th>\n",
       "      <td>0.920376</td>\n",
       "      <td>3.4788</td>\n",
       "      <td>2.52511</td>\n",
       "      <td>2.14369</td>\n",
       "      <td>1.68273</td>\n",
       "      <td>2.40209</td>\n",
       "      <td>1.7505</td>\n",
       "      <td>2.77494</td>\n",
       "      <td>4.22393</td>\n",
       "      <td>0.939046</td>\n",
       "      <td>1.80096</td>\n",
       "      <td>1.67105</td>\n",
       "      <td>1.82224</td>\n",
       "      <td>2.35944</td>\n",
       "      <td>1.69478</td>\n",
       "      <td>2.21837</td>\n",
       "      <td>1.95091</td>\n",
       "      <td>1.68629</td>\n",
       "      <td>0.930259</td>\n",
       "      <td>3.16227</td>\n",
       "      <td>2.95461</td>\n",
       "      <td>1.6286</td>\n",
       "      <td>3.91491</td>\n",
       "      <td>1.71804</td>\n",
       "      <td>0.424459</td>\n",
       "      <td>1.9797</td>\n",
       "      <td>1.13083</td>\n",
       "      <td>1.45864</td>\n",
       "      <td>3.72022</td>\n",
       "      <td>1.14227</td>\n",
       "      <td>1.13776</td>\n",
       "      <td>2.33862</td>\n",
       "      <td>3.69065</td>\n",
       "      <td>2.30904</td>\n",
       "      <td>2.56562</td>\n",
       "      <td>3.01092</td>\n",
       "      <td>1.53957</td>\n",
       "      <td>0.908852</td>\n",
       "      <td>1.4621</td>\n",
       "    </tr>\n",
       "    <tr>\n",
       "      <th>Media</th>\n",
       "      <td>0.978304</td>\n",
       "      <td>4.04556</td>\n",
       "      <td>2.61149</td>\n",
       "      <td>2.26133</td>\n",
       "      <td>1.60433</td>\n",
       "      <td>2.4411</td>\n",
       "      <td>1.73953</td>\n",
       "      <td>3.00393</td>\n",
       "      <td>4.34219</td>\n",
       "      <td>0.882436</td>\n",
       "      <td>1.89526</td>\n",
       "      <td>1.61968</td>\n",
       "      <td>1.88456</td>\n",
       "      <td>2.27686</td>\n",
       "      <td>1.66019</td>\n",
       "      <td>2.17273</td>\n",
       "      <td>2.08299</td>\n",
       "      <td>1.64489</td>\n",
       "      <td>1.09605</td>\n",
       "      <td>3.52875</td>\n",
       "      <td>3.45852</td>\n",
       "      <td>1.38416</td>\n",
       "      <td>4.29279</td>\n",
       "      <td>1.61711</td>\n",
       "      <td>0.449411</td>\n",
       "      <td>2.08627</td>\n",
       "      <td>1.16878</td>\n",
       "      <td>1.56268</td>\n",
       "      <td>3.87533</td>\n",
       "      <td>1.36149</td>\n",
       "      <td>1.42175</td>\n",
       "      <td>2.32202</td>\n",
       "      <td>3.88674</td>\n",
       "      <td>2.33807</td>\n",
       "      <td>2.58774</td>\n",
       "      <td>3.17396</td>\n",
       "      <td>1.57186</td>\n",
       "      <td>1.02629</td>\n",
       "      <td>1.43241</td>\n",
       "    </tr>\n",
       "    <tr>\n",
       "      <th>Real</th>\n",
       "      <td>0.458</td>\n",
       "      <td>5.00001</td>\n",
       "      <td>2.186</td>\n",
       "      <td>2.78</td>\n",
       "      <td>1.587</td>\n",
       "      <td>1.982</td>\n",
       "      <td>1.575</td>\n",
       "      <td>3.4</td>\n",
       "      <td>4.466</td>\n",
       "      <td>1.232</td>\n",
       "      <td>2.539</td>\n",
       "      <td>2.151</td>\n",
       "      <td>2.205</td>\n",
       "      <td>2.198</td>\n",
       "      <td>1.362</td>\n",
       "      <td>1.784</td>\n",
       "      <td>1.875</td>\n",
       "      <td>1.398</td>\n",
       "      <td>1.375</td>\n",
       "      <td>4.25</td>\n",
       "      <td>4.056</td>\n",
       "      <td>1.388</td>\n",
       "      <td>5.00001</td>\n",
       "      <td>1.621</td>\n",
       "      <td>0.514</td>\n",
       "      <td>1.513</td>\n",
       "      <td>0.948</td>\n",
       "      <td>2.041</td>\n",
       "      <td>3.615</td>\n",
       "      <td>0.851</td>\n",
       "      <td>1.384</td>\n",
       "      <td>1.375</td>\n",
       "      <td>4.65</td>\n",
       "      <td>2.718</td>\n",
       "      <td>2.394</td>\n",
       "      <td>3.409</td>\n",
       "      <td>1.504</td>\n",
       "      <td>1.281</td>\n",
       "      <td>1.56</td>\n",
       "    </tr>\n",
       "    <tr>\n",
       "      <th>Q 5%</th>\n",
       "      <td>0.624492</td>\n",
       "      <td>1.26672</td>\n",
       "      <td>1.84757</td>\n",
       "      <td>1.29336</td>\n",
       "      <td>1.45242</td>\n",
       "      <td>1.58541</td>\n",
       "      <td>1.28291</td>\n",
       "      <td>1.61618</td>\n",
       "      <td>2.64462</td>\n",
       "      <td>0.648794</td>\n",
       "      <td>1.24783</td>\n",
       "      <td>1.19334</td>\n",
       "      <td>1.28229</td>\n",
       "      <td>1.72279</td>\n",
       "      <td>1.36371</td>\n",
       "      <td>1.27618</td>\n",
       "      <td>1.18528</td>\n",
       "      <td>1.17079</td>\n",
       "      <td>0.56382</td>\n",
       "      <td>1.60105</td>\n",
       "      <td>1.58199</td>\n",
       "      <td>1.22066</td>\n",
       "      <td>2.04507</td>\n",
       "      <td>1.32488</td>\n",
       "      <td>0.396526</td>\n",
       "      <td>1.15939</td>\n",
       "      <td>0.771252</td>\n",
       "      <td>1.20124</td>\n",
       "      <td>2.03585</td>\n",
       "      <td>0.901334</td>\n",
       "      <td>0.918006</td>\n",
       "      <td>1.095</td>\n",
       "      <td>2.45783</td>\n",
       "      <td>1.18615</td>\n",
       "      <td>1.78746</td>\n",
       "      <td>1.48356</td>\n",
       "      <td>1.23397</td>\n",
       "      <td>0.755322</td>\n",
       "      <td>1.08573</td>\n",
       "    </tr>\n",
       "  </tbody>\n",
       "</table>\n",
       "</div>"
      ],
      "text/plain": [
       "               1        2        3        4        5        6        7   \\\n",
       "Q 95%       2.409  5.58109  3.54751  3.18494  2.79776  3.41352  2.48536   \n",
       "Mediana  0.920376   3.4788  2.52511  2.14369  1.68273  2.40209   1.7505   \n",
       "Media    0.978304  4.04556  2.61149  2.26133  1.60433   2.4411  1.73953   \n",
       "Real        0.458  5.00001    2.186     2.78    1.587    1.982    1.575   \n",
       "Q 5%     0.624492  1.26672  1.84757  1.29336  1.45242  1.58541  1.28291   \n",
       "\n",
       "              8        9         10       11       12       13       14  \\\n",
       "Q 95%    4.95209  5.10037   1.74602  2.46806  1.97817  2.56116  3.20479   \n",
       "Mediana  2.77494  4.22393  0.939046  1.80096  1.67105  1.82224  2.35944   \n",
       "Media    3.00393  4.34219  0.882436  1.89526  1.61968  1.88456  2.27686   \n",
       "Real         3.4    4.466     1.232    2.539    2.151    2.205    2.198   \n",
       "Q 5%     1.61618  2.64462  0.648794  1.24783  1.19334  1.28229  1.72279   \n",
       "\n",
       "              15       16       17       18        19       20       21  \\\n",
       "Q 95%     2.2805  3.28812  2.99835  2.54871   1.98637  5.18569  4.57328   \n",
       "Mediana  1.69478  2.21837  1.95091  1.68629  0.930259  3.16227  2.95461   \n",
       "Media    1.66019  2.17273  2.08299  1.64489   1.09605  3.52875  3.45852   \n",
       "Real       1.362    1.784    1.875    1.398     1.375     4.25    4.056   \n",
       "Q 5%     1.36371  1.27618  1.18528  1.17079   0.56382  1.60105  1.58199   \n",
       "\n",
       "              22       23       24        25       26        27       28  \\\n",
       "Q 95%    2.99699  4.98431  2.34777   1.84704  2.79218   1.73023  2.31609   \n",
       "Mediana   1.6286  3.91491  1.71804  0.424459   1.9797   1.13083  1.45864   \n",
       "Media    1.38416  4.29279  1.61711  0.449411  2.08627   1.16878  1.56268   \n",
       "Real       1.388  5.00001    1.621     0.514    1.513     0.948    2.041   \n",
       "Q 5%     1.22066  2.04507  1.32488  0.396526  1.15939  0.771252  1.20124   \n",
       "\n",
       "              29        30        31       32       33       34       35  \\\n",
       "Q 95%    4.65049   2.21847   2.25667  3.62825  4.33523  2.79938  3.53399   \n",
       "Mediana  3.72022   1.14227   1.13776  2.33862  3.69065  2.30904  2.56562   \n",
       "Media    3.87533   1.36149   1.42175  2.32202  3.88674  2.33807  2.58774   \n",
       "Real       3.615     0.851     1.384    1.375     4.65    2.718    2.394   \n",
       "Q 5%     2.03585  0.901334  0.918006    1.095  2.45783  1.18615  1.78746   \n",
       "\n",
       "              36       37        38       39  \n",
       "Q 95%     3.9588  2.12603   1.69151  1.96059  \n",
       "Mediana  3.01092  1.53957  0.908852   1.4621  \n",
       "Media    3.17396  1.57186   1.02629  1.43241  \n",
       "Real       3.409    1.504     1.281     1.56  \n",
       "Q 5%     1.48356  1.23397  0.755322  1.08573  "
      ]
     },
     "execution_count": 20,
     "metadata": {},
     "output_type": "execute_result"
    }
   ],
   "source": [
    "print('Predicción cuantilica para varias muestras')\n",
    "\n",
    "index_test_inf = 1\n",
    "index_test_sup = 40\n",
    "test_index = np.arange(index_test_inf,index_test_sup) # indice de las muestras del conjunto de test\n",
    "\n",
    "pred_table = pd.DataFrame(index=['Q 95%','Mediana','Media','Real','Q 5%'],columns=test_index)\n",
    "pred_table.iloc[0,:] = y_test_hat_sup[test_index]\n",
    "pred_table.iloc[1,:] = y_test_hat_50[test_index]\n",
    "pred_table.iloc[2,:] = y_test_hat_mean[test_index]\n",
    "pred_table.iloc[3,:] = y_test[test_index]\n",
    "pred_table.iloc[4,:] = y_test_hat_inf[test_index]\n",
    "\n",
    "pred_table"
   ]
  },
  {
   "cell_type": "code",
   "execution_count": 21,
   "metadata": {},
   "outputs": [
    {
     "data": {
      "image/png": "[encoded data removed]",
      "text/plain": [
       "<matplotlib.figure.Figure at 0x24a771ce3c8>"
      ]
     },
     "metadata": {},
     "output_type": "display_data"
    }
   ],
   "source": [
    "index_test_inf = 1\n",
    "index_test_sup = 40\n",
    "test_index = np.arange(index_test_inf,index_test_sup)\n",
    "\n",
    "fig = plt.figure(figsize=(15,5))\n",
    "plt.plot(test_index, y_test_hat_mean[test_index], 'r-', label=u'Media')\n",
    "plt.plot(test_index, y_test_hat_50[test_index], 'g-', label=u'Mediana')\n",
    "plt.plot(test_index, y_test[test_index], 'k.', markersize=5, label=u'Real')\n",
    "plt.plot(test_index, y_test_hat_sup[test_index], 'k-')\n",
    "plt.plot(test_index, y_test_hat_inf[test_index], 'k-')\n",
    "plt.fill(np.concatenate([test_index, test_index[::-1]]),\n",
    "         np.concatenate([y_test_hat_sup[test_index], y_test_hat_inf[test_index][::-1]]),\n",
    "         alpha=.5, fc='b', ec='None', label='90% intervalo de predicción')\n",
    "plt.xticks(test_index)\n",
    "plt.xlabel('Indices de las muestras de Test')\n",
    "plt.ylabel('Predicción')\n",
    "plt.legend(loc='upper right')\n",
    "plt.show()"
   ]
  },
  {
   "cell_type": "markdown",
   "metadata": {},
   "source": [
    "### Porcentajes de error"
   ]
  },
  {
   "cell_type": "markdown",
   "metadata": {},
   "source": [
    "#### Porcentaje en el que el valor real esta por encima de la prediccion cuantilica superior"
   ]
  },
  {
   "cell_type": "code",
   "execution_count": 22,
   "metadata": {
    "scrolled": true
   },
   "outputs": [
    {
     "data": {
      "text/plain": [
       "0.072997416020671835"
      ]
     },
     "execution_count": 22,
     "metadata": {},
     "output_type": "execute_result"
    }
   ],
   "source": [
    "np.mean(y_test > y_test_hat_sup)"
   ]
  },
  {
   "cell_type": "markdown",
   "metadata": {},
   "source": [
    "#### Porcentaje en el que el valor real esta por debajo de la prediccion cuantilica inferior"
   ]
  },
  {
   "cell_type": "code",
   "execution_count": 23,
   "metadata": {},
   "outputs": [
    {
     "data": {
      "text/plain": [
       "0.058785529715762272"
      ]
     },
     "execution_count": 23,
     "metadata": {},
     "output_type": "execute_result"
    }
   ],
   "source": [
    "np.mean(y_test < y_test_hat_inf)"
   ]
  },
  {
   "cell_type": "markdown",
   "metadata": {},
   "source": [
    "#### Bastante ajustado a las predicciones !!!"
   ]
  },
  {
   "cell_type": "code",
   "execution_count": null,
   "metadata": {},
   "outputs": [],
   "source": []
  }
 ],
 "metadata": {
  "kernelspec": {
   "display_name": "Python 3",
   "language": "python",
   "name": "python3"
  },
  "language_info": {
   "codemirror_mode": {
    "name": "ipython",
    "version": 3
   },
   "file_extension": ".py",
   "mimetype": "text/x-python",
   "name": "python",
   "nbconvert_exporter": "python",
   "pygments_lexer": "ipython3",
   "version": "3.9.2"
  },
  "toc": {
   "base_numbering": 1,
   "nav_menu": {},
   "number_sections": true,
   "sideBar": true,
   "skip_h1_title": false,
   "title_cell": "Table of Contents",
   "title_sidebar": "Contents",
   "toc_cell": false,
   "toc_position": {},
   "toc_section_display": true,
   "toc_window_display": false
  },
  "varInspector": {
   "cols": {
    "lenName": 16,
    "lenType": 16,
    "lenVar": 40
   },
   "kernels_config": {
    "python": {
     "delete_cmd_postfix": "",
     "delete_cmd_prefix": "del ",
     "library": "var_list.py",
     "varRefreshCmd": "print(var_dic_list())"
    },
    "r": {
     "delete_cmd_postfix": ") ",
     "delete_cmd_prefix": "rm(",
     "library": "var_list.r",
     "varRefreshCmd": "cat(var_dic_list()) "
    }
   },
   "types_to_exclude": [
    "module",
    "function",
    "builtin_function_or_method",
    "instance",
    "_Feature"
   ],
   "window_display": false
  }
 },
 "nbformat": 4,
 "nbformat_minor": 2
}
