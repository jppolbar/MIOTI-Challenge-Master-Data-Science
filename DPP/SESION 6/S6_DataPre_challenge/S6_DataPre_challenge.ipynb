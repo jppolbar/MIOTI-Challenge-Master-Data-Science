{
 "cells": [
  {
   "cell_type": "markdown",
   "metadata": {},
   "source": [
    "<img src=\"mioti.png\" style=\"height: 100px\">\n",
    "<center style=\"color:#888\">Módulo Data Science in IoT<br/>Asignatura Data preprocessing</center>\n",
    "\n",
    "# Challenge S6: Análisis y visualización de texto"
   ]
  },
  {
   "cell_type": "markdown",
   "metadata": {},
   "source": [
    "## Objetivo\n",
    "\n",
    "El objetivo de este challenge es a construir un análisis de opiniones con un dataset que contiene:\n",
    "\n",
    "* Opiniones con contenido positivo\n",
    "* Opiniones con contenido negativo\n",
    "\n",
    "Para ello vamos a utilizar un dataset, o corpus, de texto. Constuiremos nuestro WordCloud con estos datos preprocesando el texto previamente."
   ]
  },
  {
   "cell_type": "markdown",
   "metadata": {},
   "source": [
    "## Configuración del entorno"
   ]
  },
  {
   "cell_type": "code",
   "execution_count": 1,
   "metadata": {},
   "outputs": [],
   "source": [
    "%matplotlib inline\n",
    "\n",
    "import numpy as np\n",
    "import pandas as pd\n",
    "import matplotlib.pyplot as plt\n",
    "from wordcloud import WordCloud\n",
    "\n",
    "import nltk\n",
    "from nltk.tokenize import sent_tokenize, word_tokenize\n",
    "from nltk.corpus import stopwords\n",
    "from nltk.probability import FreqDist\n",
    "\n",
    "stopwords = stopwords.words('english')"
   ]
  },
  {
   "cell_type": "markdown",
   "metadata": {},
   "source": [
    "## Carga de datos\n",
    "\n",
    "En este caso las reviews etiquetadas se encuentran en un fichero txt (`reviews.txt`) que contiene una línea por cada review y tiene la siguiente estructura `(0|1)<TABULADOR>texto`:"
   ]
  },
  {
   "cell_type": "code",
   "execution_count": 2,
   "metadata": {},
   "outputs": [],
   "source": [
    "reviews_pos = []\n",
    "reviews_neg = []\n",
    "\n",
    "with open('reviews.txt', 'r', encoding='utf-8') as file:\n",
    "    for line in file:\n",
    "        trozos = line.split('\\t')\n",
    "        \n",
    "        if trozos[0] == '0':\n",
    "            # Negativos\n",
    "            reviews_neg.append(trozos[1].lower())\n",
    "        elif trozos[0] == '1':\n",
    "            # Positivos\n",
    "            reviews_pos.append(trozos[1].lower())"
   ]
  },
  {
   "cell_type": "code",
   "execution_count": 3,
   "metadata": {},
   "outputs": [
    {
     "name": "stdout",
     "output_type": "stream",
     "text": [
      "['the da vinci code book is just awesome.\\n', \"this was the first clive cussler i've ever read, but even books like relic, and da vinci code were more plausible than this.\\n\", 'i liked the da vinci code a lot.\\n', 'i liked the da vinci code a lot.\\n', \"i liked the da vinci code but it ultimatly didn't seem to hold it's own.\\n\"]\n"
     ]
    }
   ],
   "source": [
    "print(reviews_pos[0:5])"
   ]
  },
  {
   "cell_type": "code",
   "execution_count": 6,
   "metadata": {},
   "outputs": [
    {
     "name": "stdout",
     "output_type": "stream",
     "text": [
      "['da vinci code was a terrible movie.\\n', 'then again, the da vinci code is super shitty movie, and it made like 700 million.\\n', 'the da vinci code comes out tomorrow, which sucks.\\n', 'i thought the da vinci code movie was really boring.\\n', \"god, yahoo games has this truly-awful looking da vinci code-themed skin on it's chessboard right now.\\n\"]\n"
     ]
    }
   ],
   "source": [
    "print(reviews_neg[0:5])"
   ]
  },
  {
   "cell_type": "markdown",
   "metadata": {},
   "source": [
    "## Limpieza de signos\n",
    "La primera función a implementar una función que nos filtre las reviews completas sin signos de puntuación:"
   ]
  },
  {
   "cell_type": "code",
   "execution_count": null,
   "metadata": {},
   "outputs": [],
   "source": [
    "def filtrar_review(review):\n",
    "    review_limpia = \"\"\n",
    "    '''\n",
    "    Filtra un review devolviendo una review \"limpio\"\n",
    "    '''\n",
    "  \n",
    "    # IMPLEMENTA AQUÍ TU CÓDIGO\n",
    "    \n",
    "    return review_limpia"
   ]
  },
  {
   "cell_type": "code",
   "execution_count": null,
   "metadata": {},
   "outputs": [],
   "source": [
    "reviews_pos_filtradas = [filtrar_review(x) for x in reviews_pos]\n",
    "print(reviews_pos_filtradas[0:5])"
   ]
  },
  {
   "cell_type": "code",
   "execution_count": null,
   "metadata": {},
   "outputs": [],
   "source": [
    "reviews_neg_filtradas = [filtrar_review(x) for x in reviews_neg]\n",
    "print(reviews_neg_filtradas[0:5])"
   ]
  },
  {
   "cell_type": "markdown",
   "metadata": {},
   "source": [
    "## Obtención de palabras\n",
    "El siguiente paso de nuestro pipeline es convertir las reviews en palabras separadas:"
   ]
  },
  {
   "cell_type": "code",
   "execution_count": null,
   "metadata": {},
   "outputs": [],
   "source": [
    "def obtener_palabras(review):\n",
    "    '''\n",
    "    Realiza la separación en palabras de un review devolviendo una lista de palabras.\n",
    "    '''\n",
    "    palabras_review = []\n",
    "    \n",
    "    # IMPLEMENTA AQUÍ TU CÓDIGO\n",
    "\n",
    "    return palabras_review"
   ]
  },
  {
   "cell_type": "code",
   "execution_count": null,
   "metadata": {},
   "outputs": [],
   "source": [
    "palabras_positivas = []\n",
    "for t in reviews_pos_filtradas:\n",
    "    palabras_positivas.extend(obtener_palabras(t))\n",
    "    \n",
    "print(\"palabras_positivas: \" + str(len(palabras_positivas)))\n",
    "print(palabras_positivas[0:50])"
   ]
  },
  {
   "cell_type": "code",
   "execution_count": null,
   "metadata": {},
   "outputs": [],
   "source": [
    "palabras_negativas = []\n",
    "for t in reviews_neg_filtradas:\n",
    "    palabras_negativas.extend(obtener_palabras(t))\n",
    "    \n",
    "print(\"palabras_negativas: \" + str(len(palabras_negativas)))\n",
    "print(palabras_negativas[0:50])"
   ]
  },
  {
   "cell_type": "markdown",
   "metadata": {},
   "source": [
    "## Filtrar palabras\n",
    "Una vez obtenidas las palabras debemos filtrar todas las palabras que no aporte información relevante al resultado. Acuérdate de filtrar también los signos de puntuación que puedan haber:"
   ]
  },
  {
   "cell_type": "code",
   "execution_count": null,
   "metadata": {},
   "outputs": [],
   "source": [
    "def filtrar_palabras(palabras):\n",
    "    ''' \n",
    "    Elimina de la lista de entrada las palabras no deseadas\n",
    "    Devuelve una lista de palabras filtradas.\n",
    "    '''\n",
    "    out = []\n",
    "    # IMPLEMENTA AQUÍ TU CÓDIGO\n",
    "\n",
    "    return out"
   ]
  },
  {
   "cell_type": "code",
   "execution_count": null,
   "metadata": {},
   "outputs": [],
   "source": [
    "palabras_positivas_filtradas = filtrar_palabras(palabras_positivas)\n",
    "\n",
    "print(\"palabras_positivas_filtradas: \" + str(len(palabras_positivas_filtradas)))\n",
    "print(palabras_positivas_filtradas[0:50])"
   ]
  },
  {
   "cell_type": "code",
   "execution_count": null,
   "metadata": {},
   "outputs": [],
   "source": [
    "palabras_negativas_filtradas = filtrar_palabras(palabras_negativas)\n",
    "\n",
    "print(\"palabras_negativas_filtradas: \" + str(len(palabras_negativas_filtradas)))\n",
    "print(palabras_negativas_filtradas[0:50])"
   ]
  },
  {
   "cell_type": "markdown",
   "metadata": {},
   "source": [
    "## Wordclouds"
   ]
  },
  {
   "cell_type": "markdown",
   "metadata": {},
   "source": [
    "Vamos a dar un primer vistazo a los resultados. Construye un wordcloud para sentimiento positivo, uno para sentimiento negativo y otro que combine ambos tipos de palabras. \n",
    "\n",
    "Recuerda que wordcloud espera que le pases las palabras separadas por espacios en una misma cadena. Para ello, ayúdate de `join`: `palabras_positivas_juntas = ' '.join(palabras_positivas)`"
   ]
  },
  {
   "cell_type": "markdown",
   "metadata": {},
   "source": [
    "### Wordcloud de sentimientos positivos"
   ]
  },
  {
   "cell_type": "code",
   "execution_count": null,
   "metadata": {},
   "outputs": [],
   "source": [
    "# IMPLEMENTA AQUÍ TU CÓDIGO"
   ]
  },
  {
   "cell_type": "markdown",
   "metadata": {},
   "source": [
    "### Wordcloud de sentimientos negativos"
   ]
  },
  {
   "cell_type": "code",
   "execution_count": null,
   "metadata": {},
   "outputs": [],
   "source": [
    "# IMPLEMENTA AQUÍ TU CÓDIGO"
   ]
  },
  {
   "cell_type": "markdown",
   "metadata": {},
   "source": [
    "### Wordcloud de ambos sentimientos"
   ]
  },
  {
   "cell_type": "code",
   "execution_count": null,
   "metadata": {},
   "outputs": [],
   "source": [
    "# IMPLEMENTA AQUÍ TU CÓDIGO"
   ]
  },
  {
   "cell_type": "markdown",
   "metadata": {},
   "source": [
    "* ¿Qué te parecen los resultados?\n",
    "* ¿Qué crees que se podría mejorar?"
   ]
  },
  {
   "cell_type": "markdown",
   "metadata": {},
   "source": [
    "## Análisis de frecuencias de reviews negativos y positivos\n",
    "A partir de las palabras filtradas queremos el conjunto de palabras que nos muestre cuales son las palabras más probables en cada categoría (reviews positivo o negativo)."
   ]
  },
  {
   "cell_type": "code",
   "execution_count": null,
   "metadata": {},
   "outputs": [],
   "source": [
    "def calcula_palabras_mas_probables(palabras, n):\n",
    "    '''\n",
    "    Devuelve un conjunto con las n palabras más probables\n",
    "    '''\n",
    "    conjunto = set()\n",
    "        \n",
    "    # IMPLEMENTA AQUÍ TU CÓDIGO\n",
    "\n",
    "    return conjunto"
   ]
  },
  {
   "cell_type": "code",
   "execution_count": null,
   "metadata": {},
   "outputs": [],
   "source": [
    "conjunto_positivas = calcula_palabras_mas_probables(palabras_positivas_filtradas, 150)  \n",
    "\n",
    "print(\"conjunto_positivas: \" + str(len(conjunto_positivas)))\n",
    "print(conjunto_positivas)"
   ]
  },
  {
   "cell_type": "code",
   "execution_count": null,
   "metadata": {},
   "outputs": [],
   "source": [
    "conjunto_negativas = calcula_palabras_mas_probables(palabras_negativas_filtradas, 150)    \n",
    "    \n",
    "print(\"conjunto_negativas: \" + str(len(conjunto_negativas)))\n",
    "print(conjunto_negativas)"
   ]
  },
  {
   "cell_type": "markdown",
   "metadata": {},
   "source": [
    "### ¿Se te ocurre cómo mejorarlo?\n",
    "Como ves existen muchas palabras parecidas, o directamente las mismas, ¿se te ocurre cómo podríamos mejorarlo?. Por ejemplo, podríamos eliminar esas palabras comunes de ambos conjuntos, ya que no aportan nada.\n",
    "\n",
    "**¡CUIDADO!** Palabras comunes no es lo mismo que palabras frecuentes. Las palabras comunes aparecen en ambos conjuntos, aunque sólo sea una única vez. Las frecuentes, aparecen muchas veces en cualquiera de los dos conjuntos."
   ]
  },
  {
   "cell_type": "code",
   "execution_count": null,
   "metadata": {},
   "outputs": [],
   "source": [
    "comunes = {} # IMPLEMENTA AQUÍ TU CÓDIGO\n",
    "\n",
    "freq_len10 = [(w, n) for w, n in fdist.items() if len(w) > 10]\n",
    "print(\"# de palabras: \" + str(len(freq_len10)))\n",
    "print(\"Mostrando 20 primeras:\")\n",
    "freq_len10[: 20]\n",
    "\n",
    "print(comunes)"
   ]
  },
  {
   "cell_type": "markdown",
   "metadata": {},
   "source": [
    "Una vez tenemos las palabras comunes, podemos aplicarlo a los conjuntos tal y como hemos hecho con el resto de transformaciones."
   ]
  },
  {
   "cell_type": "code",
   "execution_count": null,
   "metadata": {},
   "outputs": [],
   "source": [
    "def quitar_comunes(words, comunes):\n",
    "    out = []\n",
    "    # IMPLEMENTA AQUÍ TU CÓDIGO\n",
    "    return out"
   ]
  },
  {
   "cell_type": "code",
   "execution_count": null,
   "metadata": {},
   "outputs": [],
   "source": [
    "conjunto_positivas_filtradas = quitar_comunes(conjunto_positivas, comunes)\n",
    "print(\"conjunto_positivas_filtradas: \", str(conjunto_positivas_filtradas))"
   ]
  },
  {
   "cell_type": "code",
   "execution_count": null,
   "metadata": {},
   "outputs": [],
   "source": [
    "conjunto_negativas_filtradas = quitar_comunes(conjunto_negativas, comunes)\n",
    "print(\"conjunto_negativas_filtradas: \", str(conjunto_negativas_filtradas))"
   ]
  },
  {
   "cell_type": "markdown",
   "metadata": {},
   "source": [
    "###  Punto extra: histogramas"
   ]
  },
  {
   "cell_type": "markdown",
   "metadata": {},
   "source": [
    "Construye histogramas para cada uno de los casos anteriores y compara si tiene sentido lo que se muestra."
   ]
  },
  {
   "cell_type": "code",
   "execution_count": null,
   "metadata": {},
   "outputs": [],
   "source": [
    "# IMPLEMENTA AQUÍ TU CÓDIGO"
   ]
  },
  {
   "cell_type": "markdown",
   "metadata": {
    "collapsed": true
   },
   "source": [
    "## Conclusiones\n",
    "\n",
    "* ¿Qué otras técnicas habrías aplicado?\n",
    "* ¿Cuál crees que sería el siguiente paso?"
   ]
  }
 ],
 "metadata": {
  "anaconda-cloud": {},
  "kernelspec": {
   "display_name": "Python 3",
   "language": "python",
   "name": "python3"
  },
  "language_info": {
   "codemirror_mode": {
    "name": "ipython",
    "version": 3
   },
   "file_extension": ".py",
   "mimetype": "text/x-python",
   "name": "python",
   "nbconvert_exporter": "python",
   "pygments_lexer": "ipython3",
   "version": "3.8.5"
  },
  "toc": {
   "base_numbering": 1,
   "nav_menu": {},
   "number_sections": true,
   "sideBar": true,
   "skip_h1_title": false,
   "title_cell": "Table of Contents",
   "title_sidebar": "Contents",
   "toc_cell": false,
   "toc_position": {},
   "toc_section_display": true,
   "toc_window_display": false
  },
  "varInspector": {
   "cols": {
    "lenName": 16,
    "lenType": 16,
    "lenVar": 40
   },
   "kernels_config": {
    "python": {
     "delete_cmd_postfix": "",
     "delete_cmd_prefix": "del ",
     "library": "var_list.py",
     "varRefreshCmd": "print(var_dic_list())"
    },
    "r": {
     "delete_cmd_postfix": ") ",
     "delete_cmd_prefix": "rm(",
     "library": "var_list.r",
     "varRefreshCmd": "cat(var_dic_list()) "
    }
   },
   "types_to_exclude": [
    "module",
    "function",
    "builtin_function_or_method",
    "instance",
    "_Feature"
   ],
   "window_display": false
  }
 },
 "nbformat": 4,
 "nbformat_minor": 2
}
