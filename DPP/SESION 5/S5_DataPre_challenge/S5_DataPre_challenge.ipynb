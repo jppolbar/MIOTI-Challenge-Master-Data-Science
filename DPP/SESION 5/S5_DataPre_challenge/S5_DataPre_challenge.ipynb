{
 "cells": [
  {
   "cell_type": "markdown",
   "metadata": {},
   "source": [
    "##### <img src=\"mioti.png\" style=\"height: 100px\">\n",
    "<center style=\"color:#888\">Módulo Data Science in IoT<br/>Asignatura Data preprocessing</center>\n",
    "\n",
    "# Challenge S5: Liga de Fútbol Profesional"
   ]
  },
  {
   "cell_type": "markdown",
   "metadata": {},
   "source": [
    "## Objetivos\n",
    "\n",
    "El objetivo de este challenge es simular mediante el método de montecarlo el resultado de la próxima liga 2019-2020.\n",
    "\n",
    "Para ello, utilizando las distribuciones de probabilidad, y todos los conceptos previos que hemos aprendido realizaremos una simulación lo más realista posible."
   ]
  },
  {
   "cell_type": "markdown",
   "metadata": {},
   "source": [
    "## Configuración del entorno"
   ]
  },
  {
   "cell_type": "code",
   "execution_count": 3,
   "metadata": {},
   "outputs": [],
   "source": [
    "%matplotlib inline\n",
    "\n",
    "import numpy as np\n",
    "import pandas as pd\n",
    "import matplotlib.pyplot as plt\n",
    "import math"
   ]
  },
  {
   "cell_type": "markdown",
   "metadata": {},
   "source": [
    "## Carga de datos\n",
    "\n",
    "Para este challenge dispones de varias fuentes de datos que puedes utilizar:\n",
    "\n",
    "* `equipos_liga_2019-20.txt` Fichero TXT con los equipos que disputarán la temporada 2010 - 2020 en la primera división de Liga de Fútbol profesional en España.\n",
    "* `clasificacion_historica.csv` Fichero con resultados acumulados de todos los equipos que han jugado alguna vez en primera division.\n",
    "* Cualquier otra fuente de datos que quieras añadir o información tuya si sabes mucho de fútbol 😄."
   ]
  },
  {
   "cell_type": "markdown",
   "metadata": {},
   "source": [
    "El primer paso será la carga de datos a partir del fichero `TXT`. Como sólo contiene el nombre de los equipos meteremos los valores en una lista."
   ]
  },
  {
   "cell_type": "code",
   "execution_count": 4,
   "metadata": {},
   "outputs": [
    {
     "data": {
      "text/plain": [
       "['D. Alavés',\n",
       " 'Athletic Club',\n",
       " 'Atlético de Madrid',\n",
       " 'FC Barcelona',\n",
       " 'Real Betis',\n",
       " 'RC Celta',\n",
       " 'SD Eibar',\n",
       " 'RCD Espanyol',\n",
       " 'Getafe CF',\n",
       " 'Granada CF',\n",
       " 'CD Leganés',\n",
       " 'Levante UD',\n",
       " 'RCD Mallorca',\n",
       " 'C.A. Osasuna',\n",
       " 'Real Madrid',\n",
       " 'Real Sociedad',\n",
       " 'R. Valladolid CF',\n",
       " 'Sevilla FC',\n",
       " 'Valencia CF',\n",
       " 'Villarreal CF']"
      ]
     },
     "execution_count": 4,
     "metadata": {},
     "output_type": "execute_result"
    }
   ],
   "source": [
    "with open('equipos_liga_2019-20.txt', encoding='utf-8') as f:\n",
    "    equipos = f.readlines()\n",
    "    equipos = [x.strip() for x in equipos] \n",
    "\n",
    "equipos"
   ]
  },
  {
   "cell_type": "markdown",
   "metadata": {},
   "source": [
    "## Simulador de partidos\n",
    "\n",
    "El primer paso para realizar un análisis de montecarlo es definir la función que nos permita simular cada caso individual, en nuestro casos son los partidos. Puedes implementar esta función como quieras.\n",
    "\n",
    "Tip: puedes usar `clasificacion_historica.csv` que contiene datos históricos de los distintos equipos, usar una fuente que busques por internet, o puedes hacer una función con tu \"conocimiento futbolístico\"."
   ]
  },
  {
   "cell_type": "code",
   "execution_count": 7,
   "metadata": {},
   "outputs": [],
   "source": [
    "clashist=pd.read_csv(\"clasificacion_historica.csv\",sep='\\t')"
   ]
  },
  {
   "cell_type": "markdown",
   "metadata": {},
   "source": [
    "Podemos ver los datos de clasificación histórica de los equipos que jugarán la liga la próxima temporada"
   ]
  },
  {
   "cell_type": "code",
   "execution_count": 8,
   "metadata": {},
   "outputs": [
    {
     "data": {
      "text/html": [
       "<div>\n",
       "<style scoped>\n",
       "    .dataframe tbody tr th:only-of-type {\n",
       "        vertical-align: middle;\n",
       "    }\n",
       "\n",
       "    .dataframe tbody tr th {\n",
       "        vertical-align: top;\n",
       "    }\n",
       "\n",
       "    .dataframe thead th {\n",
       "        text-align: right;\n",
       "    }\n",
       "</style>\n",
       "<table border=\"1\" class=\"dataframe\">\n",
       "  <thead>\n",
       "    <tr style=\"text-align: right;\">\n",
       "      <th></th>\n",
       "      <th>Pos</th>\n",
       "      <th>Equipo</th>\n",
       "      <th>Ptos</th>\n",
       "      <th>PJ</th>\n",
       "      <th>PG</th>\n",
       "      <th>PE</th>\n",
       "      <th>PP</th>\n",
       "      <th>GFavor</th>\n",
       "      <th>GContra</th>\n",
       "      <th>DifGoles</th>\n",
       "    </tr>\n",
       "  </thead>\n",
       "  <tbody>\n",
       "    <tr>\n",
       "      <th>0</th>\n",
       "      <td>1º</td>\n",
       "      <td>Real Madrid</td>\n",
       "      <td>4529</td>\n",
       "      <td>2838</td>\n",
       "      <td>1690</td>\n",
       "      <td>567</td>\n",
       "      <td>581</td>\n",
       "      <td>6104</td>\n",
       "      <td>3230</td>\n",
       "      <td>2874</td>\n",
       "    </tr>\n",
       "    <tr>\n",
       "      <th>1</th>\n",
       "      <td>2º</td>\n",
       "      <td>FC Barcelona</td>\n",
       "      <td>4442</td>\n",
       "      <td>2838</td>\n",
       "      <td>1635</td>\n",
       "      <td>578</td>\n",
       "      <td>625</td>\n",
       "      <td>6089</td>\n",
       "      <td>3179</td>\n",
       "      <td>2910</td>\n",
       "    </tr>\n",
       "    <tr>\n",
       "      <th>2</th>\n",
       "      <td>3º</td>\n",
       "      <td>Atlético de Madrid</td>\n",
       "      <td>3597</td>\n",
       "      <td>2690</td>\n",
       "      <td>1286</td>\n",
       "      <td>618</td>\n",
       "      <td>786</td>\n",
       "      <td>4647</td>\n",
       "      <td>3360</td>\n",
       "      <td>1287</td>\n",
       "    </tr>\n",
       "    <tr>\n",
       "      <th>3</th>\n",
       "      <td>4º</td>\n",
       "      <td>Valencia CF</td>\n",
       "      <td>3520</td>\n",
       "      <td>2740</td>\n",
       "      <td>1224</td>\n",
       "      <td>639</td>\n",
       "      <td>877</td>\n",
       "      <td>4514</td>\n",
       "      <td>3542</td>\n",
       "      <td>972</td>\n",
       "    </tr>\n",
       "    <tr>\n",
       "      <th>4</th>\n",
       "      <td>5º</td>\n",
       "      <td>Athletic Club</td>\n",
       "      <td>3464</td>\n",
       "      <td>2838</td>\n",
       "      <td>1232</td>\n",
       "      <td>660</td>\n",
       "      <td>946</td>\n",
       "      <td>4713</td>\n",
       "      <td>3794</td>\n",
       "      <td>919</td>\n",
       "    </tr>\n",
       "    <tr>\n",
       "      <th>5</th>\n",
       "      <td>6º</td>\n",
       "      <td>Sevilla FC</td>\n",
       "      <td>2936</td>\n",
       "      <td>2484</td>\n",
       "      <td>1024</td>\n",
       "      <td>546</td>\n",
       "      <td>914</td>\n",
       "      <td>3791</td>\n",
       "      <td>3478</td>\n",
       "      <td>313</td>\n",
       "    </tr>\n",
       "    <tr>\n",
       "      <th>6</th>\n",
       "      <td>7º</td>\n",
       "      <td>RCD Espanyol</td>\n",
       "      <td>2894</td>\n",
       "      <td>2702</td>\n",
       "      <td>974</td>\n",
       "      <td>632</td>\n",
       "      <td>1096</td>\n",
       "      <td>3693</td>\n",
       "      <td>3976</td>\n",
       "      <td>-283</td>\n",
       "    </tr>\n",
       "    <tr>\n",
       "      <th>7</th>\n",
       "      <td>8º</td>\n",
       "      <td>Real Sociedad</td>\n",
       "      <td>2672</td>\n",
       "      <td>2378</td>\n",
       "      <td>891</td>\n",
       "      <td>595</td>\n",
       "      <td>892</td>\n",
       "      <td>3339</td>\n",
       "      <td>3335</td>\n",
       "      <td>4</td>\n",
       "    </tr>\n",
       "    <tr>\n",
       "      <th>9</th>\n",
       "      <td>10º</td>\n",
       "      <td>Real Betis</td>\n",
       "      <td>1995</td>\n",
       "      <td>1804</td>\n",
       "      <td>638</td>\n",
       "      <td>454</td>\n",
       "      <td>712</td>\n",
       "      <td>2266</td>\n",
       "      <td>2604</td>\n",
       "      <td>-338</td>\n",
       "    </tr>\n",
       "    <tr>\n",
       "      <th>10</th>\n",
       "      <td>11º</td>\n",
       "      <td>RC Celta</td>\n",
       "      <td>1879</td>\n",
       "      <td>1774</td>\n",
       "      <td>609</td>\n",
       "      <td>410</td>\n",
       "      <td>755</td>\n",
       "      <td>2390</td>\n",
       "      <td>2747</td>\n",
       "      <td>-357</td>\n",
       "    </tr>\n",
       "    <tr>\n",
       "      <th>12</th>\n",
       "      <td>13º</td>\n",
       "      <td>R. Valladolid CF</td>\n",
       "      <td>1512</td>\n",
       "      <td>1504</td>\n",
       "      <td>473</td>\n",
       "      <td>395</td>\n",
       "      <td>636</td>\n",
       "      <td>1797</td>\n",
       "      <td>2233</td>\n",
       "      <td>-436</td>\n",
       "    </tr>\n",
       "    <tr>\n",
       "      <th>15</th>\n",
       "      <td>16º</td>\n",
       "      <td>C.A. Osasuna</td>\n",
       "      <td>1348</td>\n",
       "      <td>1316</td>\n",
       "      <td>425</td>\n",
       "      <td>326</td>\n",
       "      <td>565</td>\n",
       "      <td>1497</td>\n",
       "      <td>1833</td>\n",
       "      <td>-336</td>\n",
       "    </tr>\n",
       "    <tr>\n",
       "      <th>17</th>\n",
       "      <td>18º</td>\n",
       "      <td>RCD Mallorca</td>\n",
       "      <td>1148</td>\n",
       "      <td>988</td>\n",
       "      <td>333</td>\n",
       "      <td>256</td>\n",
       "      <td>399</td>\n",
       "      <td>1182</td>\n",
       "      <td>1371</td>\n",
       "      <td>-189</td>\n",
       "    </tr>\n",
       "    <tr>\n",
       "      <th>18</th>\n",
       "      <td>19º</td>\n",
       "      <td>Villarreal CF</td>\n",
       "      <td>1075</td>\n",
       "      <td>722</td>\n",
       "      <td>294</td>\n",
       "      <td>193</td>\n",
       "      <td>235</td>\n",
       "      <td>998</td>\n",
       "      <td>891</td>\n",
       "      <td>107</td>\n",
       "    </tr>\n",
       "    <tr>\n",
       "      <th>22</th>\n",
       "      <td>23º</td>\n",
       "      <td>Getafe CF</td>\n",
       "      <td>667</td>\n",
       "      <td>532</td>\n",
       "      <td>177</td>\n",
       "      <td>136</td>\n",
       "      <td>219</td>\n",
       "      <td>610</td>\n",
       "      <td>701</td>\n",
       "      <td>-91</td>\n",
       "    </tr>\n",
       "    <tr>\n",
       "      <th>23</th>\n",
       "      <td>24º</td>\n",
       "      <td>Granada CF</td>\n",
       "      <td>667</td>\n",
       "      <td>742</td>\n",
       "      <td>218</td>\n",
       "      <td>175</td>\n",
       "      <td>349</td>\n",
       "      <td>819</td>\n",
       "      <td>1158</td>\n",
       "      <td>-339</td>\n",
       "    </tr>\n",
       "    <tr>\n",
       "      <th>27</th>\n",
       "      <td>28º</td>\n",
       "      <td>D. Alavés</td>\n",
       "      <td>518</td>\n",
       "      <td>456</td>\n",
       "      <td>153</td>\n",
       "      <td>94</td>\n",
       "      <td>209</td>\n",
       "      <td>537</td>\n",
       "      <td>728</td>\n",
       "      <td>-191</td>\n",
       "    </tr>\n",
       "    <tr>\n",
       "      <th>29</th>\n",
       "      <td>30º</td>\n",
       "      <td>Levante UD</td>\n",
       "      <td>506</td>\n",
       "      <td>478</td>\n",
       "      <td>135</td>\n",
       "      <td>119</td>\n",
       "      <td>224</td>\n",
       "      <td>533</td>\n",
       "      <td>756</td>\n",
       "      <td>-223</td>\n",
       "    </tr>\n",
       "    <tr>\n",
       "      <th>38</th>\n",
       "      <td>39º</td>\n",
       "      <td>SD Eibar</td>\n",
       "      <td>230</td>\n",
       "      <td>190</td>\n",
       "      <td>60</td>\n",
       "      <td>50</td>\n",
       "      <td>80</td>\n",
       "      <td>229</td>\n",
       "      <td>267</td>\n",
       "      <td>-38</td>\n",
       "    </tr>\n",
       "    <tr>\n",
       "      <th>45</th>\n",
       "      <td>46º</td>\n",
       "      <td>CD Leganés</td>\n",
       "      <td>123</td>\n",
       "      <td>114</td>\n",
       "      <td>31</td>\n",
       "      <td>30</td>\n",
       "      <td>53</td>\n",
       "      <td>107</td>\n",
       "      <td>149</td>\n",
       "      <td>-42</td>\n",
       "    </tr>\n",
       "  </tbody>\n",
       "</table>\n",
       "</div>"
      ],
      "text/plain": [
       "    Pos              Equipo  Ptos    PJ    PG   PE    PP  GFavor  GContra  \\\n",
       "0    1º         Real Madrid  4529  2838  1690  567   581    6104     3230   \n",
       "1    2º        FC Barcelona  4442  2838  1635  578   625    6089     3179   \n",
       "2    3º  Atlético de Madrid  3597  2690  1286  618   786    4647     3360   \n",
       "3    4º         Valencia CF  3520  2740  1224  639   877    4514     3542   \n",
       "4    5º       Athletic Club  3464  2838  1232  660   946    4713     3794   \n",
       "5    6º          Sevilla FC  2936  2484  1024  546   914    3791     3478   \n",
       "6    7º        RCD Espanyol  2894  2702   974  632  1096    3693     3976   \n",
       "7    8º       Real Sociedad  2672  2378   891  595   892    3339     3335   \n",
       "9   10º          Real Betis  1995  1804   638  454   712    2266     2604   \n",
       "10  11º            RC Celta  1879  1774   609  410   755    2390     2747   \n",
       "12  13º    R. Valladolid CF  1512  1504   473  395   636    1797     2233   \n",
       "15  16º        C.A. Osasuna  1348  1316   425  326   565    1497     1833   \n",
       "17  18º        RCD Mallorca  1148   988   333  256   399    1182     1371   \n",
       "18  19º       Villarreal CF  1075   722   294  193   235     998      891   \n",
       "22  23º           Getafe CF   667   532   177  136   219     610      701   \n",
       "23  24º          Granada CF   667   742   218  175   349     819     1158   \n",
       "27  28º           D. Alavés   518   456   153   94   209     537      728   \n",
       "29  30º          Levante UD   506   478   135  119   224     533      756   \n",
       "38  39º            SD Eibar   230   190    60   50    80     229      267   \n",
       "45  46º          CD Leganés   123   114    31   30    53     107      149   \n",
       "\n",
       "    DifGoles  \n",
       "0       2874  \n",
       "1       2910  \n",
       "2       1287  \n",
       "3        972  \n",
       "4        919  \n",
       "5        313  \n",
       "6       -283  \n",
       "7          4  \n",
       "9       -338  \n",
       "10      -357  \n",
       "12      -436  \n",
       "15      -336  \n",
       "17      -189  \n",
       "18       107  \n",
       "22       -91  \n",
       "23      -339  \n",
       "27      -191  \n",
       "29      -223  \n",
       "38       -38  \n",
       "45       -42  "
      ]
     },
     "execution_count": 8,
     "metadata": {},
     "output_type": "execute_result"
    }
   ],
   "source": [
    "clashist[clashist.Equipo.isin(equipos)]"
   ]
  },
  {
   "cell_type": "markdown",
   "metadata": {},
   "source": [
    "Lo primero es simular un partido entre 2 equipos"
   ]
  },
  {
   "cell_type": "code",
   "execution_count": 2,
   "metadata": {},
   "outputs": [],
   "source": [
    "def simular_partido(equipo_local, equipo_visitante):\n",
    "    '''Simula un partido, devuelve una entero: 0 gana el equipo local, 1 empate, 2 gana el equipo visitante'''\n",
    "    resultado = 1\n",
    "    # AQUI TU CODIGO\n",
    "    return resultado       "
   ]
  },
  {
   "cell_type": "code",
   "execution_count": null,
   "metadata": {},
   "outputs": [],
   "source": [
    "simular_partido('Real Madrid', 'Valencia CF')"
   ]
  },
  {
   "cell_type": "markdown",
   "metadata": {},
   "source": [
    "## Simulador de temporadas\n",
    "\n",
    "Una vez que tenemos una función que nos simula un partido, vamos a hacer una función que nos simule una temporada completa `simular_temporada`:"
   ]
  },
  {
   "cell_type": "code",
   "execution_count": null,
   "metadata": {},
   "outputs": [],
   "source": [
    "def simular_temporada():\n",
    "    '''Simula una temporada completa, y devuelve un diccionario con el resultado en puntos obtenido por cada equipo'''\n",
    "    \n",
    "    # Creo una clasificación vacía (diccionario con puntos)\n",
    "    clasificacion = {}\n",
    "    for e in equipos:\n",
    "        clasificacion[e] = 0 \n",
    "\n",
    "    for equipo_local in equipos:\n",
    "        for equipo_visitante in equipos:\n",
    "            if equipo_local == equipo_visitante:\n",
    "                pass\n",
    "            resultado = simular_partido(equipo_local, equipo_visitante)\n",
    "            \n",
    "            if resultado == 0: \n",
    "                # Gana el equipo local\n",
    "                clasificacion[equipo_local] += 3\n",
    "            elif resultado == 1: \n",
    "                # Empate\n",
    "                clasificacion[equipo_local] += 1\n",
    "                clasificacion[equipo_visitante] += 1\n",
    "            elif resultado == 2:\n",
    "                # Gana el equipo visitante\n",
    "                clasificacion[equipo_visitante] += 3\n",
    "                \n",
    "    return clasificacion"
   ]
  },
  {
   "cell_type": "markdown",
   "metadata": {},
   "source": [
    "## Agregador de resultados\n",
    "Por último necesitamos una función (`simular_lfp`) que nos genere los distintos casos de prueba a evaluar (temporadas) y por cada una de ella nos agrege los resultados"
   ]
  },
  {
   "cell_type": "code",
   "execution_count": null,
   "metadata": {},
   "outputs": [],
   "source": [
    "def simular_lfp(num_iteraciones):\n",
    "    '''\n",
    "    Realiza la simulación de montecarlo\n",
    "    Devuelve un dataframe que tiene por columnas los distintos equipos y por cada fila la posición\n",
    "    de cada equipo en la simulación.\n",
    "    '''\n",
    "    # Creo una clasificación global vacía\n",
    "    clasificacion_global = pd.DataFrame(columns=equipos)\n",
    "\n",
    "    num_intentos = 0\n",
    "    for intento in range(0, num_iteraciones):\n",
    "        if intento % 5 == 0:\n",
    "            print(\"Simulando temporada \" + str(intento) + \"...\")\n",
    "\n",
    "        # Obtenemos los resultados de puntos de la temporada\n",
    "        temporada_i = simular_temporada()     \n",
    "        #print(\"Resultados: \" + str(temporada_i))\n",
    "\n",
    "        # Convertimos los puntos en clasificacion\n",
    "        clasificacion = {}\n",
    "        posicion = 1\n",
    "        for equipo in sorted(temporada_i, key=temporada_i.get, reverse=True):\n",
    "            clasificacion[equipo] = posicion\n",
    "            posicion += 1\n",
    "\n",
    "        #print(\"Clasificación: \" + str(clasificacion))\n",
    "\n",
    "        # Obtengo el equipo ganador\n",
    "        clasificacion_global.loc[intento] = clasificacion\n",
    "\n",
    "        num_intentos += 1\n",
    "\n",
    "    #print(clasificacion_global)\n",
    "    print(\"Fin de la simulación.\")\n",
    "    return clasificacion_global"
   ]
  },
  {
   "cell_type": "markdown",
   "metadata": {},
   "source": [
    "## Ejecución del análisis"
   ]
  },
  {
   "cell_type": "code",
   "execution_count": null,
   "metadata": {},
   "outputs": [],
   "source": [
    "clasificacion_global = simular_lfp(110)"
   ]
  },
  {
   "cell_type": "code",
   "execution_count": null,
   "metadata": {},
   "outputs": [],
   "source": [
    "clasificacion_global.head()"
   ]
  },
  {
   "cell_type": "markdown",
   "metadata": {},
   "source": [
    "## Análisis de resultados\n",
    "\n",
    "Ahora, con los resultados obtenidos, vamos a plantearnos algunas preguntas:\n",
    "\n",
    "### ¿Cuál es la posición media de cada equipo en la simulación?"
   ]
  },
  {
   "cell_type": "code",
   "execution_count": null,
   "metadata": {},
   "outputs": [],
   "source": []
  },
  {
   "cell_type": "markdown",
   "metadata": {},
   "source": [
    "### ¿Ha ganado R. Valladolid CF alguna vez la liga?"
   ]
  },
  {
   "cell_type": "code",
   "execution_count": null,
   "metadata": {},
   "outputs": [],
   "source": []
  },
  {
   "cell_type": "markdown",
   "metadata": {
    "collapsed": true
   },
   "source": [
    "### ¿Cual es la distribución de los resultados del Madrid, Barcelona y del SD Eibar?"
   ]
  },
  {
   "cell_type": "code",
   "execution_count": null,
   "metadata": {},
   "outputs": [],
   "source": []
  },
  {
   "cell_type": "markdown",
   "metadata": {
    "collapsed": true
   },
   "source": [
    "## Reflexiones\n",
    "\n",
    "* ¿Qué información se te ocurre que puede ser interesante incorporar en esta simulación?\n",
    "* ¿Puede el método de montecarlo ayudarnos a ganar una quiniela?"
   ]
  },
  {
   "cell_type": "code",
   "execution_count": null,
   "metadata": {},
   "outputs": [],
   "source": []
  }
 ],
 "metadata": {
  "anaconda-cloud": {},
  "kernelspec": {
   "display_name": "Python 3",
   "language": "python",
   "name": "python3"
  },
  "language_info": {
   "codemirror_mode": {
    "name": "ipython",
    "version": 3
   },
   "file_extension": ".py",
   "mimetype": "text/x-python",
   "name": "python",
   "nbconvert_exporter": "python",
   "pygments_lexer": "ipython3",
   "version": "3.7.7"
  },
  "toc": {
   "base_numbering": 1,
   "nav_menu": {},
   "number_sections": true,
   "sideBar": true,
   "skip_h1_title": false,
   "title_cell": "Table of Contents",
   "title_sidebar": "Contents",
   "toc_cell": false,
   "toc_position": {},
   "toc_section_display": true,
   "toc_window_display": false
  },
  "varInspector": {
   "cols": {
    "lenName": 16,
    "lenType": 16,
    "lenVar": 40
   },
   "kernels_config": {
    "python": {
     "delete_cmd_postfix": "",
     "delete_cmd_prefix": "del ",
     "library": "var_list.py",
     "varRefreshCmd": "print(var_dic_list())"
    },
    "r": {
     "delete_cmd_postfix": ") ",
     "delete_cmd_prefix": "rm(",
     "library": "var_list.r",
     "varRefreshCmd": "cat(var_dic_list()) "
    }
   },
   "types_to_exclude": [
    "module",
    "function",
    "builtin_function_or_method",
    "instance",
    "_Feature"
   ],
   "window_display": false
  }
 },
 "nbformat": 4,
 "nbformat_minor": 2
}
