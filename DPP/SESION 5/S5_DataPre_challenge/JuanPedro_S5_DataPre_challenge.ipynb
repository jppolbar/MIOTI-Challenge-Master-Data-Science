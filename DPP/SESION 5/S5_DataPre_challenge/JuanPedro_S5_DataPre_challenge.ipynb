{
 "cells": [
  {
   "cell_type": "markdown",
   "metadata": {},
   "source": [
    "##### <img src=\"mioti.png\" style=\"height: 100px\">\n",
    "<center style=\"color:#888\">Módulo Data Science in IoT<br/>Asignatura Data preprocessing</center>\n",
    "\n",
    "# Challenge S5: Liga de Fútbol Profesional"
   ]
  },
  {
   "cell_type": "markdown",
   "metadata": {},
   "source": [
    "## Objetivos\n",
    "\n",
    "El objetivo de este challenge es simular mediante el método de montecarlo el resultado de la próxima liga 2019-2020.\n",
    "\n",
    "Para ello, utilizando las distribuciones de probabilidad, y todos los conceptos previos que hemos aprendido realizaremos una simulación lo más realista posible."
   ]
  },
  {
   "cell_type": "markdown",
   "metadata": {},
   "source": [
    "## Configuración del entorno"
   ]
  },
  {
   "cell_type": "code",
   "execution_count": 1,
   "metadata": {
    "ExecuteTime": {
     "end_time": "2021-04-21T08:15:03.971382Z",
     "start_time": "2021-04-21T08:15:03.479240Z"
    }
   },
   "outputs": [],
   "source": [
    "%matplotlib inline\n",
    "\n",
    "import numpy as np\n",
    "import pandas as pd\n",
    "import matplotlib.pyplot as plt\n",
    "import math\n",
    "from datetime import datetime\n"
   ]
  },
  {
   "cell_type": "markdown",
   "metadata": {},
   "source": [
    "## Carga de datos\n",
    "\n",
    "Para este challenge dispones de varias fuentes de datos que puedes utilizar:\n",
    "\n",
    "* `equipos_liga_2019-20.txt` Fichero TXT con los equipos que disputarán la temporada 2019 - 2020 en la primera división de Liga de Fútbol profesional en España.\n",
    "* `clasificacion_historica.csv` Fichero con resultados acumulados de todos los equipos que han jugado alguna vez en primera division.\n",
    "* Cualquier otra fuente de datos que quieras añadir o información tuya si sabes mucho de fútbol 😄."
   ]
  },
  {
   "cell_type": "markdown",
   "metadata": {},
   "source": [
    "El primer paso será la carga de datos a partir del fichero `TXT`. Como sólo contiene el nombre de los equipos meteremos los valores en una lista."
   ]
  },
  {
   "cell_type": "code",
   "execution_count": 2,
   "metadata": {
    "ExecuteTime": {
     "end_time": "2021-04-21T08:15:03.987426Z",
     "start_time": "2021-04-21T08:15:03.974395Z"
    }
   },
   "outputs": [
    {
     "data": {
      "text/plain": [
       "['D. Alavés',\n",
       " 'Athletic Club',\n",
       " 'Atlético de Madrid',\n",
       " 'FC Barcelona',\n",
       " 'Real Betis',\n",
       " 'RC Celta',\n",
       " 'SD Eibar',\n",
       " 'RCD Espanyol',\n",
       " 'Getafe CF',\n",
       " 'Granada CF',\n",
       " 'CD Leganés',\n",
       " 'Levante UD',\n",
       " 'RCD Mallorca',\n",
       " 'C.A. Osasuna',\n",
       " 'Real Madrid',\n",
       " 'Real Sociedad',\n",
       " 'R. Valladolid CF',\n",
       " 'Sevilla FC',\n",
       " 'Valencia CF',\n",
       " 'Villarreal CF']"
      ]
     },
     "execution_count": 2,
     "metadata": {},
     "output_type": "execute_result"
    }
   ],
   "source": [
    "with open('equipos_liga_2019-20.txt', encoding='utf-8') as f:\n",
    "    equipos = f.readlines()\n",
    "    equipos = [x.strip() for x in equipos] \n",
    "\n",
    "equipos"
   ]
  },
  {
   "cell_type": "markdown",
   "metadata": {},
   "source": [
    "## Simulador de partidos\n",
    "\n",
    "El primer paso para realizar un análisis de montecarlo es definir la función que nos permita simular cada caso individual, en nuestro casos son los partidos. Puedes implementar esta función como quieras.\n",
    "\n",
    "Tip: puedes usar `clasificacion_historica.csv` que contiene datos históricos de los distintos equipos, usar una fuente que busques por internet, o puedes hacer una función con tu \"conocimiento futbolístico\"."
   ]
  },
  {
   "cell_type": "code",
   "execution_count": 3,
   "metadata": {
    "ExecuteTime": {
     "end_time": "2021-04-21T08:15:04.003429Z",
     "start_time": "2021-04-21T08:15:03.989420Z"
    }
   },
   "outputs": [],
   "source": [
    "clashist=pd.read_csv(\"clasificacion_historica.csv\",sep='\\t')"
   ]
  },
  {
   "cell_type": "code",
   "execution_count": 4,
   "metadata": {
    "ExecuteTime": {
     "end_time": "2021-04-21T08:15:04.018428Z",
     "start_time": "2021-04-21T08:15:04.005433Z"
    }
   },
   "outputs": [
    {
     "name": "stdout",
     "output_type": "stream",
     "text": [
      "<class 'pandas.core.frame.DataFrame'>\n",
      "RangeIndex: 63 entries, 0 to 62\n",
      "Data columns (total 10 columns):\n",
      " #   Column    Non-Null Count  Dtype \n",
      "---  ------    --------------  ----- \n",
      " 0   Pos       63 non-null     object\n",
      " 1   Equipo    63 non-null     object\n",
      " 2   Ptos      63 non-null     int64 \n",
      " 3   PJ        63 non-null     int64 \n",
      " 4   PG        63 non-null     int64 \n",
      " 5   PE        63 non-null     int64 \n",
      " 6   PP        63 non-null     int64 \n",
      " 7   GFavor    63 non-null     int64 \n",
      " 8   GContra   63 non-null     int64 \n",
      " 9   DifGoles  63 non-null     int64 \n",
      "dtypes: int64(8), object(2)\n",
      "memory usage: 5.0+ KB\n"
     ]
    }
   ],
   "source": [
    "clashist.info()"
   ]
  },
  {
   "cell_type": "markdown",
   "metadata": {},
   "source": [
    "Podemos ver los datos de clasificación histórica de los equipos que jugarán la liga la próxima temporada"
   ]
  },
  {
   "cell_type": "code",
   "execution_count": 5,
   "metadata": {
    "ExecuteTime": {
     "end_time": "2021-04-21T08:15:04.033423Z",
     "start_time": "2021-04-21T08:15:04.020421Z"
    },
    "scrolled": true
   },
   "outputs": [
    {
     "data": {
      "text/html": [
       "<div>\n",
       "<style scoped>\n",
       "    .dataframe tbody tr th:only-of-type {\n",
       "        vertical-align: middle;\n",
       "    }\n",
       "\n",
       "    .dataframe tbody tr th {\n",
       "        vertical-align: top;\n",
       "    }\n",
       "\n",
       "    .dataframe thead th {\n",
       "        text-align: right;\n",
       "    }\n",
       "</style>\n",
       "<table border=\"1\" class=\"dataframe\">\n",
       "  <thead>\n",
       "    <tr style=\"text-align: right;\">\n",
       "      <th></th>\n",
       "      <th>Pos</th>\n",
       "      <th>Equipo</th>\n",
       "      <th>Ptos</th>\n",
       "      <th>PJ</th>\n",
       "      <th>PG</th>\n",
       "      <th>PE</th>\n",
       "      <th>PP</th>\n",
       "      <th>GFavor</th>\n",
       "      <th>GContra</th>\n",
       "      <th>DifGoles</th>\n",
       "    </tr>\n",
       "  </thead>\n",
       "  <tbody>\n",
       "    <tr>\n",
       "      <th>0</th>\n",
       "      <td>1º</td>\n",
       "      <td>Real Madrid</td>\n",
       "      <td>4529</td>\n",
       "      <td>2838</td>\n",
       "      <td>1690</td>\n",
       "      <td>567</td>\n",
       "      <td>581</td>\n",
       "      <td>6104</td>\n",
       "      <td>3230</td>\n",
       "      <td>2874</td>\n",
       "    </tr>\n",
       "    <tr>\n",
       "      <th>1</th>\n",
       "      <td>2º</td>\n",
       "      <td>FC Barcelona</td>\n",
       "      <td>4442</td>\n",
       "      <td>2838</td>\n",
       "      <td>1635</td>\n",
       "      <td>578</td>\n",
       "      <td>625</td>\n",
       "      <td>6089</td>\n",
       "      <td>3179</td>\n",
       "      <td>2910</td>\n",
       "    </tr>\n",
       "    <tr>\n",
       "      <th>2</th>\n",
       "      <td>3º</td>\n",
       "      <td>Atlético de Madrid</td>\n",
       "      <td>3597</td>\n",
       "      <td>2690</td>\n",
       "      <td>1286</td>\n",
       "      <td>618</td>\n",
       "      <td>786</td>\n",
       "      <td>4647</td>\n",
       "      <td>3360</td>\n",
       "      <td>1287</td>\n",
       "    </tr>\n",
       "    <tr>\n",
       "      <th>3</th>\n",
       "      <td>4º</td>\n",
       "      <td>Valencia CF</td>\n",
       "      <td>3520</td>\n",
       "      <td>2740</td>\n",
       "      <td>1224</td>\n",
       "      <td>639</td>\n",
       "      <td>877</td>\n",
       "      <td>4514</td>\n",
       "      <td>3542</td>\n",
       "      <td>972</td>\n",
       "    </tr>\n",
       "    <tr>\n",
       "      <th>4</th>\n",
       "      <td>5º</td>\n",
       "      <td>Athletic Club</td>\n",
       "      <td>3464</td>\n",
       "      <td>2838</td>\n",
       "      <td>1232</td>\n",
       "      <td>660</td>\n",
       "      <td>946</td>\n",
       "      <td>4713</td>\n",
       "      <td>3794</td>\n",
       "      <td>919</td>\n",
       "    </tr>\n",
       "    <tr>\n",
       "      <th>5</th>\n",
       "      <td>6º</td>\n",
       "      <td>Sevilla FC</td>\n",
       "      <td>2936</td>\n",
       "      <td>2484</td>\n",
       "      <td>1024</td>\n",
       "      <td>546</td>\n",
       "      <td>914</td>\n",
       "      <td>3791</td>\n",
       "      <td>3478</td>\n",
       "      <td>313</td>\n",
       "    </tr>\n",
       "    <tr>\n",
       "      <th>6</th>\n",
       "      <td>7º</td>\n",
       "      <td>RCD Espanyol</td>\n",
       "      <td>2894</td>\n",
       "      <td>2702</td>\n",
       "      <td>974</td>\n",
       "      <td>632</td>\n",
       "      <td>1096</td>\n",
       "      <td>3693</td>\n",
       "      <td>3976</td>\n",
       "      <td>-283</td>\n",
       "    </tr>\n",
       "    <tr>\n",
       "      <th>7</th>\n",
       "      <td>8º</td>\n",
       "      <td>Real Sociedad</td>\n",
       "      <td>2672</td>\n",
       "      <td>2378</td>\n",
       "      <td>891</td>\n",
       "      <td>595</td>\n",
       "      <td>892</td>\n",
       "      <td>3339</td>\n",
       "      <td>3335</td>\n",
       "      <td>4</td>\n",
       "    </tr>\n",
       "    <tr>\n",
       "      <th>9</th>\n",
       "      <td>10º</td>\n",
       "      <td>Real Betis</td>\n",
       "      <td>1995</td>\n",
       "      <td>1804</td>\n",
       "      <td>638</td>\n",
       "      <td>454</td>\n",
       "      <td>712</td>\n",
       "      <td>2266</td>\n",
       "      <td>2604</td>\n",
       "      <td>-338</td>\n",
       "    </tr>\n",
       "    <tr>\n",
       "      <th>10</th>\n",
       "      <td>11º</td>\n",
       "      <td>RC Celta</td>\n",
       "      <td>1879</td>\n",
       "      <td>1774</td>\n",
       "      <td>609</td>\n",
       "      <td>410</td>\n",
       "      <td>755</td>\n",
       "      <td>2390</td>\n",
       "      <td>2747</td>\n",
       "      <td>-357</td>\n",
       "    </tr>\n",
       "    <tr>\n",
       "      <th>12</th>\n",
       "      <td>13º</td>\n",
       "      <td>R. Valladolid CF</td>\n",
       "      <td>1512</td>\n",
       "      <td>1504</td>\n",
       "      <td>473</td>\n",
       "      <td>395</td>\n",
       "      <td>636</td>\n",
       "      <td>1797</td>\n",
       "      <td>2233</td>\n",
       "      <td>-436</td>\n",
       "    </tr>\n",
       "    <tr>\n",
       "      <th>15</th>\n",
       "      <td>16º</td>\n",
       "      <td>C.A. Osasuna</td>\n",
       "      <td>1348</td>\n",
       "      <td>1316</td>\n",
       "      <td>425</td>\n",
       "      <td>326</td>\n",
       "      <td>565</td>\n",
       "      <td>1497</td>\n",
       "      <td>1833</td>\n",
       "      <td>-336</td>\n",
       "    </tr>\n",
       "    <tr>\n",
       "      <th>17</th>\n",
       "      <td>18º</td>\n",
       "      <td>RCD Mallorca</td>\n",
       "      <td>1148</td>\n",
       "      <td>988</td>\n",
       "      <td>333</td>\n",
       "      <td>256</td>\n",
       "      <td>399</td>\n",
       "      <td>1182</td>\n",
       "      <td>1371</td>\n",
       "      <td>-189</td>\n",
       "    </tr>\n",
       "    <tr>\n",
       "      <th>18</th>\n",
       "      <td>19º</td>\n",
       "      <td>Villarreal CF</td>\n",
       "      <td>1075</td>\n",
       "      <td>722</td>\n",
       "      <td>294</td>\n",
       "      <td>193</td>\n",
       "      <td>235</td>\n",
       "      <td>998</td>\n",
       "      <td>891</td>\n",
       "      <td>107</td>\n",
       "    </tr>\n",
       "    <tr>\n",
       "      <th>22</th>\n",
       "      <td>23º</td>\n",
       "      <td>Getafe CF</td>\n",
       "      <td>667</td>\n",
       "      <td>532</td>\n",
       "      <td>177</td>\n",
       "      <td>136</td>\n",
       "      <td>219</td>\n",
       "      <td>610</td>\n",
       "      <td>701</td>\n",
       "      <td>-91</td>\n",
       "    </tr>\n",
       "    <tr>\n",
       "      <th>23</th>\n",
       "      <td>24º</td>\n",
       "      <td>Granada CF</td>\n",
       "      <td>667</td>\n",
       "      <td>742</td>\n",
       "      <td>218</td>\n",
       "      <td>175</td>\n",
       "      <td>349</td>\n",
       "      <td>819</td>\n",
       "      <td>1158</td>\n",
       "      <td>-339</td>\n",
       "    </tr>\n",
       "    <tr>\n",
       "      <th>27</th>\n",
       "      <td>28º</td>\n",
       "      <td>D. Alavés</td>\n",
       "      <td>518</td>\n",
       "      <td>456</td>\n",
       "      <td>153</td>\n",
       "      <td>94</td>\n",
       "      <td>209</td>\n",
       "      <td>537</td>\n",
       "      <td>728</td>\n",
       "      <td>-191</td>\n",
       "    </tr>\n",
       "    <tr>\n",
       "      <th>29</th>\n",
       "      <td>30º</td>\n",
       "      <td>Levante UD</td>\n",
       "      <td>506</td>\n",
       "      <td>478</td>\n",
       "      <td>135</td>\n",
       "      <td>119</td>\n",
       "      <td>224</td>\n",
       "      <td>533</td>\n",
       "      <td>756</td>\n",
       "      <td>-223</td>\n",
       "    </tr>\n",
       "    <tr>\n",
       "      <th>38</th>\n",
       "      <td>39º</td>\n",
       "      <td>SD Eibar</td>\n",
       "      <td>230</td>\n",
       "      <td>190</td>\n",
       "      <td>60</td>\n",
       "      <td>50</td>\n",
       "      <td>80</td>\n",
       "      <td>229</td>\n",
       "      <td>267</td>\n",
       "      <td>-38</td>\n",
       "    </tr>\n",
       "    <tr>\n",
       "      <th>45</th>\n",
       "      <td>46º</td>\n",
       "      <td>CD Leganés</td>\n",
       "      <td>123</td>\n",
       "      <td>114</td>\n",
       "      <td>31</td>\n",
       "      <td>30</td>\n",
       "      <td>53</td>\n",
       "      <td>107</td>\n",
       "      <td>149</td>\n",
       "      <td>-42</td>\n",
       "    </tr>\n",
       "  </tbody>\n",
       "</table>\n",
       "</div>"
      ],
      "text/plain": [
       "    Pos              Equipo  Ptos    PJ    PG   PE    PP  GFavor  GContra  \\\n",
       "0    1º         Real Madrid  4529  2838  1690  567   581    6104     3230   \n",
       "1    2º        FC Barcelona  4442  2838  1635  578   625    6089     3179   \n",
       "2    3º  Atlético de Madrid  3597  2690  1286  618   786    4647     3360   \n",
       "3    4º         Valencia CF  3520  2740  1224  639   877    4514     3542   \n",
       "4    5º       Athletic Club  3464  2838  1232  660   946    4713     3794   \n",
       "5    6º          Sevilla FC  2936  2484  1024  546   914    3791     3478   \n",
       "6    7º        RCD Espanyol  2894  2702   974  632  1096    3693     3976   \n",
       "7    8º       Real Sociedad  2672  2378   891  595   892    3339     3335   \n",
       "9   10º          Real Betis  1995  1804   638  454   712    2266     2604   \n",
       "10  11º            RC Celta  1879  1774   609  410   755    2390     2747   \n",
       "12  13º    R. Valladolid CF  1512  1504   473  395   636    1797     2233   \n",
       "15  16º        C.A. Osasuna  1348  1316   425  326   565    1497     1833   \n",
       "17  18º        RCD Mallorca  1148   988   333  256   399    1182     1371   \n",
       "18  19º       Villarreal CF  1075   722   294  193   235     998      891   \n",
       "22  23º           Getafe CF   667   532   177  136   219     610      701   \n",
       "23  24º          Granada CF   667   742   218  175   349     819     1158   \n",
       "27  28º           D. Alavés   518   456   153   94   209     537      728   \n",
       "29  30º          Levante UD   506   478   135  119   224     533      756   \n",
       "38  39º            SD Eibar   230   190    60   50    80     229      267   \n",
       "45  46º          CD Leganés   123   114    31   30    53     107      149   \n",
       "\n",
       "    DifGoles  \n",
       "0       2874  \n",
       "1       2910  \n",
       "2       1287  \n",
       "3        972  \n",
       "4        919  \n",
       "5        313  \n",
       "6       -283  \n",
       "7          4  \n",
       "9       -338  \n",
       "10      -357  \n",
       "12      -436  \n",
       "15      -336  \n",
       "17      -189  \n",
       "18       107  \n",
       "22       -91  \n",
       "23      -339  \n",
       "27      -191  \n",
       "29      -223  \n",
       "38       -38  \n",
       "45       -42  "
      ]
     },
     "execution_count": 5,
     "metadata": {},
     "output_type": "execute_result"
    }
   ],
   "source": [
    "clashist[clashist.Equipo.isin(equipos)]\n"
   ]
  },
  {
   "cell_type": "markdown",
   "metadata": {},
   "source": [
    "Lo primero es simular un partido entre 2 equipos"
   ]
  },
  {
   "cell_type": "code",
   "execution_count": 6,
   "metadata": {
    "ExecuteTime": {
     "end_time": "2021-04-21T08:15:04.049426Z",
     "start_time": "2021-04-21T08:15:04.034424Z"
    }
   },
   "outputs": [],
   "source": [
    "DEBUG=False"
   ]
  },
  {
   "cell_type": "code",
   "execution_count": 7,
   "metadata": {
    "ExecuteTime": {
     "end_time": "2021-04-21T08:15:04.065438Z",
     "start_time": "2021-04-21T08:15:04.052428Z"
    }
   },
   "outputs": [],
   "source": [
    "def print_log (value1,value2=None):\n",
    "    if (DEBUG):\n",
    "        if(value2):\n",
    "            print(value1,value2)\n",
    "        else:\n",
    "            print(value1)\n",
    "    return\n"
   ]
  },
  {
   "cell_type": "code",
   "execution_count": 8,
   "metadata": {
    "ExecuteTime": {
     "end_time": "2021-04-21T08:15:04.080434Z",
     "start_time": "2021-04-21T08:15:04.068432Z"
    }
   },
   "outputs": [],
   "source": [
    "def simular_partido(equipo_local, equipo_visitante):\n",
    "    '''Simula un partido, devuelve una entero: 0 gana el equipo local, 1 empate, 2 gana el equipo visitante'''\n",
    "    resultado = 1\n",
    "    # AQUI TU CODIGO\n",
    "    # Por ser local le asociamos ya un punto + condiones aleatorias como lesiones de ultima hora, desacierto de su estrella ...\n",
    "    puntos_equipo_local = 1 + np.random.randint(0,2)  \n",
    "    \n",
    "    # Condiones aleatorias como lesiones de ultima hora, desacierto de su estrella ...\n",
    "    puntos_equipo_visitante = 0 + np.random.randint(0,2)  \n",
    "\n",
    "    equipo_local = clashist[clashist['Equipo'] == equipo_local]\n",
    "    equipo_visitante = clashist[clashist['Equipo'] == equipo_visitante]\n",
    "\n",
    "    print_log(equipo_local)\n",
    "    print_log(equipo_visitante)\n",
    "    print_log(' \\n')\n",
    "\n",
    "    # Evaluamos por coeficiente de puntos.\n",
    "\n",
    "    coef_pt_equipo_local = int(equipo_local.Ptos)/int(equipo_local.PJ)\n",
    "    coef_pt_equipo_visitante = int(\n",
    "        equipo_visitante.Ptos)/int(equipo_visitante.PJ)\n",
    "\n",
    "    print_log('coef_pt_equipo_local :', coef_pt_equipo_local)\n",
    "    print_log('coef_pt_equipo_visitante :', coef_pt_equipo_visitante)\n",
    "\n",
    "    # Por ser local, aunque tenga un coeficente de puntos un 0,10 por debajo del visitante le damos la victoria.\n",
    "    # \n",
    "    if(coef_pt_equipo_local - coef_pt_equipo_visitante > -0.10):\n",
    "        puntos_equipo_local += 1\n",
    "\n",
    "    else:\n",
    "        puntos_equipo_visitante += 1\n",
    "\n",
    "    print_log('Validacion 1')\n",
    "    print_log(' puntos_equipo_local:', puntos_equipo_local)\n",
    "    print_log(' puntos_equipo_visitante:', puntos_equipo_visitante)\n",
    "    print_log(' \\n')\n",
    "\n",
    "    # Evaluamos por coeficiente de goles.\n",
    "\n",
    "    coef_gf_equipo_local = int(equipo_local.GFavor)/int(equipo_local.PJ)\n",
    "    coef_gf_equipo_visitante = int(\n",
    "        equipo_visitante.GFavor)/int(equipo_visitante.PJ)\n",
    "\n",
    "    print_log('coef_gf_equipo_local :', coef_gf_equipo_local)\n",
    "    print_log('coef_gf_equipo_visitante :', coef_gf_equipo_visitante)\n",
    "\n",
    "    # Por ser local le damos margen por debajo 0,25 goles por debajo del visitante. \n",
    "    # Beneficiamos un equipo menos goleador que juega en casa.\n",
    "    if(coef_gf_equipo_local - coef_gf_equipo_visitante > -0.25):\n",
    "\n",
    "        puntos_equipo_local += 1\n",
    "    else:\n",
    "        puntos_equipo_visitante += 1\n",
    "\n",
    "    print_log('Validacion 2')\n",
    "    print_log(' puntos_equipo_local:', puntos_equipo_local)\n",
    "    print_log(' puntos_equipo_visitante: ', puntos_equipo_visitante)\n",
    "    print_log(' \\n')\n",
    "\n",
    "    # Evaluamos por coeficientes de partidos ganados\n",
    "\n",
    "    coef_pg_equipo_local = int(equipo_local.PG)/int(equipo_local.PJ)\n",
    "    coef_pg_equipo_visitante = int(\n",
    "        equipo_visitante.PG)/int(equipo_visitante.PJ)\n",
    "\n",
    "    print_log('coef_pg_equipo_local :', coef_pg_equipo_local)\n",
    "    print_log('coef_pg_equipo_visitante :', coef_pg_equipo_visitante)\n",
    "\n",
    "    # Por ser local le damos más margen de hasta una decima por debajo del visitante.\n",
    "    \n",
    "    if((coef_pg_equipo_local - coef_pg_equipo_visitante) > -0.10):\n",
    "        puntos_equipo_local += 1\n",
    "    else:\n",
    "        puntos_equipo_visitante += 1\n",
    "\n",
    "    print_log('Validacion 3')\n",
    "    print_log(' puntos_equipo_local:', puntos_equipo_local)\n",
    "    print_log(' puntos_equipo_visitante: ', puntos_equipo_visitante)\n",
    "    print_log(' \\n')\n",
    "\n",
    "    # Evaluamos los calculos y determinamos si es una victoria local, es un empate o es una victoria domicilio\n",
    "\n",
    "    print_log('puntos_equipo_local ', puntos_equipo_local)\n",
    "    print_log('puntos_equipo_visitante ', puntos_equipo_visitante)\n",
    "    \n",
    "    if (puntos_equipo_local > puntos_equipo_visitante):\n",
    "        resultado = 0\n",
    "    elif(puntos_equipo_local < puntos_equipo_visitante):\n",
    "        resultado = 2\n",
    "    else:\n",
    "        resultado = 1\n",
    "\n",
    "    return resultado"
   ]
  },
  {
   "cell_type": "code",
   "execution_count": 9,
   "metadata": {
    "ExecuteTime": {
     "end_time": "2021-04-21T08:15:04.095452Z",
     "start_time": "2021-04-21T08:15:04.082434Z"
    }
   },
   "outputs": [
    {
     "data": {
      "text/plain": [
       "0"
      ]
     },
     "execution_count": 9,
     "metadata": {},
     "output_type": "execute_result"
    }
   ],
   "source": [
    "simular_partido('Real Madrid', 'FC Barcelona')"
   ]
  },
  {
   "cell_type": "markdown",
   "metadata": {},
   "source": [
    "## Simulador de temporadas\n",
    "\n",
    "Una vez que tenemos una función que nos simula un partido, vamos a hacer una función que nos simule una temporada completa `simular_temporada`:"
   ]
  },
  {
   "cell_type": "code",
   "execution_count": 10,
   "metadata": {
    "ExecuteTime": {
     "end_time": "2021-04-21T08:15:04.111442Z",
     "start_time": "2021-04-21T08:15:04.097451Z"
    }
   },
   "outputs": [],
   "source": [
    "def simular_temporada():\n",
    "    '''Simula una temporada completa, y devuelve un diccionario con el resultado en puntos obtenido por cada equipo'''\n",
    "    \n",
    "    # Creo una clasificación vacía (diccionario con puntos)\n",
    "    clasificacion = {}\n",
    "    for e in equipos:\n",
    "        clasificacion[e] = 0 \n",
    "\n",
    "    for equipo_local in equipos:\n",
    "        for equipo_visitante in equipos:\n",
    "            if equipo_local == equipo_visitante:\n",
    "                pass\n",
    "            resultado = simular_partido(equipo_local, equipo_visitante)\n",
    "            \n",
    "            if resultado == 0: \n",
    "                # Gana el equipo local\n",
    "                clasificacion[equipo_local] += 3\n",
    "            elif resultado == 1: \n",
    "                # Empate\n",
    "                clasificacion[equipo_local] += 1\n",
    "                clasificacion[equipo_visitante] += 1\n",
    "            elif resultado == 2:\n",
    "                # Gana el equipo visitante\n",
    "                clasificacion[equipo_visitante] += 3\n",
    "                \n",
    "    return clasificacion"
   ]
  },
  {
   "cell_type": "markdown",
   "metadata": {},
   "source": [
    "## Agregador de resultados\n",
    "Por último necesitamos una función (`simular_lfp`) que nos genere los distintos casos de prueba a evaluar (temporadas) y por cada una de ella nos agrege los resultados"
   ]
  },
  {
   "cell_type": "code",
   "execution_count": 11,
   "metadata": {
    "ExecuteTime": {
     "end_time": "2021-04-21T08:15:04.127459Z",
     "start_time": "2021-04-21T08:15:04.113450Z"
    }
   },
   "outputs": [],
   "source": [
    "def simular_lfp(num_iteraciones):\n",
    "    '''\n",
    "    Realiza la simulación de montecarlo\n",
    "    Devuelve un dataframe que tiene por columnas los distintos equipos y por cada fila la posición\n",
    "    de cada equipo en la simulación.\n",
    "    '''\n",
    "    # Creo una clasificación global vacía\n",
    "    clasificacion_global = pd.DataFrame(columns=equipos)\n",
    "\n",
    "    num_intentos = 0\n",
    "    for intento in range(0, num_iteraciones):\n",
    "        if intento % 5 == 0:\n",
    "            print(\"Simulando temporada \" + str(intento) + \"...\")\n",
    "\n",
    "        # Obtenemos los resultados de puntos de la temporada\n",
    "        temporada_i = simular_temporada()     \n",
    "        #print(\"Resultados: \" + str(temporada_i))\n",
    "\n",
    "        # Convertimos los puntos en clasificacion\n",
    "        clasificacion = {}\n",
    "        posicion = 1\n",
    "        for equipo in sorted(temporada_i, key=temporada_i.get, reverse=True):\n",
    "            clasificacion[equipo] = posicion\n",
    "            posicion += 1\n",
    "\n",
    "        #print(\"Clasificación: \" + str(clasificacion))\n",
    "\n",
    "        # Obtengo el equipo ganador\n",
    "        clasificacion_global.loc[intento] = clasificacion\n",
    "\n",
    "        num_intentos += 1\n",
    "\n",
    "    #print(clasificacion_global)\n",
    "    print(\"Fin de la simulación.\")\n",
    "    return clasificacion_global"
   ]
  },
  {
   "cell_type": "markdown",
   "metadata": {},
   "source": [
    "## Ejecución del análisis"
   ]
  },
  {
   "cell_type": "code",
   "execution_count": 12,
   "metadata": {
    "ExecuteTime": {
     "end_time": "2021-04-21T08:15:35.807595Z",
     "start_time": "2021-04-21T08:15:04.130447Z"
    }
   },
   "outputs": [
    {
     "name": "stdout",
     "output_type": "stream",
     "text": [
      "Simulando temporada 0...\n",
      "Simulando temporada 5...\n",
      "Simulando temporada 10...\n",
      "Simulando temporada 15...\n",
      "Simulando temporada 20...\n",
      "Simulando temporada 25...\n",
      "Simulando temporada 30...\n",
      "Simulando temporada 35...\n",
      "Simulando temporada 40...\n",
      "Simulando temporada 45...\n",
      "Simulando temporada 50...\n",
      "Simulando temporada 55...\n",
      "Simulando temporada 60...\n",
      "Simulando temporada 65...\n",
      "Simulando temporada 70...\n",
      "Simulando temporada 75...\n",
      "Simulando temporada 80...\n",
      "Simulando temporada 85...\n",
      "Simulando temporada 90...\n",
      "Simulando temporada 95...\n",
      "Simulando temporada 100...\n",
      "Simulando temporada 105...\n",
      "Fin de la simulación.\n"
     ]
    }
   ],
   "source": [
    "clasificacion_global = simular_lfp(110)"
   ]
  },
  {
   "cell_type": "code",
   "execution_count": 13,
   "metadata": {
    "ExecuteTime": {
     "end_time": "2021-04-21T08:15:35.839602Z",
     "start_time": "2021-04-21T08:15:35.809583Z"
    }
   },
   "outputs": [
    {
     "data": {
      "text/html": [
       "<div>\n",
       "<style scoped>\n",
       "    .dataframe tbody tr th:only-of-type {\n",
       "        vertical-align: middle;\n",
       "    }\n",
       "\n",
       "    .dataframe tbody tr th {\n",
       "        vertical-align: top;\n",
       "    }\n",
       "\n",
       "    .dataframe thead th {\n",
       "        text-align: right;\n",
       "    }\n",
       "</style>\n",
       "<table border=\"1\" class=\"dataframe\">\n",
       "  <thead>\n",
       "    <tr style=\"text-align: right;\">\n",
       "      <th></th>\n",
       "      <th>D. Alavés</th>\n",
       "      <th>Athletic Club</th>\n",
       "      <th>Atlético de Madrid</th>\n",
       "      <th>FC Barcelona</th>\n",
       "      <th>Real Betis</th>\n",
       "      <th>RC Celta</th>\n",
       "      <th>SD Eibar</th>\n",
       "      <th>RCD Espanyol</th>\n",
       "      <th>Getafe CF</th>\n",
       "      <th>Granada CF</th>\n",
       "      <th>CD Leganés</th>\n",
       "      <th>Levante UD</th>\n",
       "      <th>RCD Mallorca</th>\n",
       "      <th>C.A. Osasuna</th>\n",
       "      <th>Real Madrid</th>\n",
       "      <th>Real Sociedad</th>\n",
       "      <th>R. Valladolid CF</th>\n",
       "      <th>Sevilla FC</th>\n",
       "      <th>Valencia CF</th>\n",
       "      <th>Villarreal CF</th>\n",
       "    </tr>\n",
       "  </thead>\n",
       "  <tbody>\n",
       "    <tr>\n",
       "      <th>100</th>\n",
       "      <td>11</td>\n",
       "      <td>5</td>\n",
       "      <td>3</td>\n",
       "      <td>2</td>\n",
       "      <td>10</td>\n",
       "      <td>15</td>\n",
       "      <td>12</td>\n",
       "      <td>13</td>\n",
       "      <td>8</td>\n",
       "      <td>19</td>\n",
       "      <td>20</td>\n",
       "      <td>18</td>\n",
       "      <td>14</td>\n",
       "      <td>16</td>\n",
       "      <td>1</td>\n",
       "      <td>9</td>\n",
       "      <td>17</td>\n",
       "      <td>6</td>\n",
       "      <td>4</td>\n",
       "      <td>7</td>\n",
       "    </tr>\n",
       "    <tr>\n",
       "      <th>101</th>\n",
       "      <td>10</td>\n",
       "      <td>5</td>\n",
       "      <td>3</td>\n",
       "      <td>2</td>\n",
       "      <td>13</td>\n",
       "      <td>15</td>\n",
       "      <td>11</td>\n",
       "      <td>9</td>\n",
       "      <td>14</td>\n",
       "      <td>19</td>\n",
       "      <td>20</td>\n",
       "      <td>18</td>\n",
       "      <td>12</td>\n",
       "      <td>17</td>\n",
       "      <td>1</td>\n",
       "      <td>8</td>\n",
       "      <td>16</td>\n",
       "      <td>6</td>\n",
       "      <td>4</td>\n",
       "      <td>7</td>\n",
       "    </tr>\n",
       "    <tr>\n",
       "      <th>102</th>\n",
       "      <td>11</td>\n",
       "      <td>5</td>\n",
       "      <td>3</td>\n",
       "      <td>2</td>\n",
       "      <td>14</td>\n",
       "      <td>12</td>\n",
       "      <td>10</td>\n",
       "      <td>15</td>\n",
       "      <td>8</td>\n",
       "      <td>18</td>\n",
       "      <td>20</td>\n",
       "      <td>19</td>\n",
       "      <td>13</td>\n",
       "      <td>16</td>\n",
       "      <td>1</td>\n",
       "      <td>9</td>\n",
       "      <td>17</td>\n",
       "      <td>6</td>\n",
       "      <td>4</td>\n",
       "      <td>7</td>\n",
       "    </tr>\n",
       "    <tr>\n",
       "      <th>103</th>\n",
       "      <td>12</td>\n",
       "      <td>5</td>\n",
       "      <td>3</td>\n",
       "      <td>2</td>\n",
       "      <td>11</td>\n",
       "      <td>15</td>\n",
       "      <td>9</td>\n",
       "      <td>13</td>\n",
       "      <td>10</td>\n",
       "      <td>19</td>\n",
       "      <td>20</td>\n",
       "      <td>18</td>\n",
       "      <td>14</td>\n",
       "      <td>16</td>\n",
       "      <td>1</td>\n",
       "      <td>8</td>\n",
       "      <td>17</td>\n",
       "      <td>6</td>\n",
       "      <td>4</td>\n",
       "      <td>7</td>\n",
       "    </tr>\n",
       "    <tr>\n",
       "      <th>104</th>\n",
       "      <td>11</td>\n",
       "      <td>5</td>\n",
       "      <td>3</td>\n",
       "      <td>2</td>\n",
       "      <td>13</td>\n",
       "      <td>14</td>\n",
       "      <td>10</td>\n",
       "      <td>15</td>\n",
       "      <td>9</td>\n",
       "      <td>19</td>\n",
       "      <td>20</td>\n",
       "      <td>18</td>\n",
       "      <td>12</td>\n",
       "      <td>17</td>\n",
       "      <td>1</td>\n",
       "      <td>8</td>\n",
       "      <td>16</td>\n",
       "      <td>7</td>\n",
       "      <td>4</td>\n",
       "      <td>6</td>\n",
       "    </tr>\n",
       "    <tr>\n",
       "      <th>105</th>\n",
       "      <td>10</td>\n",
       "      <td>5</td>\n",
       "      <td>3</td>\n",
       "      <td>2</td>\n",
       "      <td>11</td>\n",
       "      <td>12</td>\n",
       "      <td>9</td>\n",
       "      <td>14</td>\n",
       "      <td>15</td>\n",
       "      <td>18</td>\n",
       "      <td>20</td>\n",
       "      <td>19</td>\n",
       "      <td>13</td>\n",
       "      <td>17</td>\n",
       "      <td>1</td>\n",
       "      <td>8</td>\n",
       "      <td>16</td>\n",
       "      <td>6</td>\n",
       "      <td>4</td>\n",
       "      <td>7</td>\n",
       "    </tr>\n",
       "    <tr>\n",
       "      <th>106</th>\n",
       "      <td>10</td>\n",
       "      <td>5</td>\n",
       "      <td>3</td>\n",
       "      <td>2</td>\n",
       "      <td>13</td>\n",
       "      <td>14</td>\n",
       "      <td>12</td>\n",
       "      <td>9</td>\n",
       "      <td>15</td>\n",
       "      <td>19</td>\n",
       "      <td>20</td>\n",
       "      <td>18</td>\n",
       "      <td>11</td>\n",
       "      <td>17</td>\n",
       "      <td>1</td>\n",
       "      <td>8</td>\n",
       "      <td>16</td>\n",
       "      <td>6</td>\n",
       "      <td>4</td>\n",
       "      <td>7</td>\n",
       "    </tr>\n",
       "    <tr>\n",
       "      <th>107</th>\n",
       "      <td>11</td>\n",
       "      <td>5</td>\n",
       "      <td>3</td>\n",
       "      <td>1</td>\n",
       "      <td>14</td>\n",
       "      <td>12</td>\n",
       "      <td>15</td>\n",
       "      <td>9</td>\n",
       "      <td>10</td>\n",
       "      <td>19</td>\n",
       "      <td>20</td>\n",
       "      <td>18</td>\n",
       "      <td>13</td>\n",
       "      <td>17</td>\n",
       "      <td>2</td>\n",
       "      <td>8</td>\n",
       "      <td>16</td>\n",
       "      <td>6</td>\n",
       "      <td>4</td>\n",
       "      <td>7</td>\n",
       "    </tr>\n",
       "    <tr>\n",
       "      <th>108</th>\n",
       "      <td>11</td>\n",
       "      <td>5</td>\n",
       "      <td>3</td>\n",
       "      <td>2</td>\n",
       "      <td>15</td>\n",
       "      <td>12</td>\n",
       "      <td>10</td>\n",
       "      <td>9</td>\n",
       "      <td>13</td>\n",
       "      <td>20</td>\n",
       "      <td>19</td>\n",
       "      <td>18</td>\n",
       "      <td>14</td>\n",
       "      <td>16</td>\n",
       "      <td>1</td>\n",
       "      <td>8</td>\n",
       "      <td>17</td>\n",
       "      <td>6</td>\n",
       "      <td>4</td>\n",
       "      <td>7</td>\n",
       "    </tr>\n",
       "    <tr>\n",
       "      <th>109</th>\n",
       "      <td>11</td>\n",
       "      <td>5</td>\n",
       "      <td>3</td>\n",
       "      <td>2</td>\n",
       "      <td>10</td>\n",
       "      <td>15</td>\n",
       "      <td>12</td>\n",
       "      <td>13</td>\n",
       "      <td>8</td>\n",
       "      <td>19</td>\n",
       "      <td>20</td>\n",
       "      <td>18</td>\n",
       "      <td>14</td>\n",
       "      <td>16</td>\n",
       "      <td>1</td>\n",
       "      <td>9</td>\n",
       "      <td>17</td>\n",
       "      <td>7</td>\n",
       "      <td>4</td>\n",
       "      <td>6</td>\n",
       "    </tr>\n",
       "  </tbody>\n",
       "</table>\n",
       "</div>"
      ],
      "text/plain": [
       "    D. Alavés Athletic Club Atlético de Madrid FC Barcelona Real Betis  \\\n",
       "100        11             5                  3            2         10   \n",
       "101        10             5                  3            2         13   \n",
       "102        11             5                  3            2         14   \n",
       "103        12             5                  3            2         11   \n",
       "104        11             5                  3            2         13   \n",
       "105        10             5                  3            2         11   \n",
       "106        10             5                  3            2         13   \n",
       "107        11             5                  3            1         14   \n",
       "108        11             5                  3            2         15   \n",
       "109        11             5                  3            2         10   \n",
       "\n",
       "    RC Celta SD Eibar RCD Espanyol Getafe CF Granada CF CD Leganés Levante UD  \\\n",
       "100       15       12           13         8         19         20         18   \n",
       "101       15       11            9        14         19         20         18   \n",
       "102       12       10           15         8         18         20         19   \n",
       "103       15        9           13        10         19         20         18   \n",
       "104       14       10           15         9         19         20         18   \n",
       "105       12        9           14        15         18         20         19   \n",
       "106       14       12            9        15         19         20         18   \n",
       "107       12       15            9        10         19         20         18   \n",
       "108       12       10            9        13         20         19         18   \n",
       "109       15       12           13         8         19         20         18   \n",
       "\n",
       "    RCD Mallorca C.A. Osasuna Real Madrid Real Sociedad R. Valladolid CF  \\\n",
       "100           14           16           1             9               17   \n",
       "101           12           17           1             8               16   \n",
       "102           13           16           1             9               17   \n",
       "103           14           16           1             8               17   \n",
       "104           12           17           1             8               16   \n",
       "105           13           17           1             8               16   \n",
       "106           11           17           1             8               16   \n",
       "107           13           17           2             8               16   \n",
       "108           14           16           1             8               17   \n",
       "109           14           16           1             9               17   \n",
       "\n",
       "    Sevilla FC Valencia CF Villarreal CF  \n",
       "100          6           4             7  \n",
       "101          6           4             7  \n",
       "102          6           4             7  \n",
       "103          6           4             7  \n",
       "104          7           4             6  \n",
       "105          6           4             7  \n",
       "106          6           4             7  \n",
       "107          6           4             7  \n",
       "108          6           4             7  \n",
       "109          7           4             6  "
      ]
     },
     "execution_count": 13,
     "metadata": {},
     "output_type": "execute_result"
    }
   ],
   "source": [
    "clasificacion_global.tail(10)"
   ]
  },
  {
   "cell_type": "markdown",
   "metadata": {},
   "source": [
    "## Análisis de resultados\n",
    "\n",
    "Ahora, con los resultados obtenidos, vamos a plantearnos algunas preguntas:\n",
    "\n",
    "### ¿Cuál es la posición media de cada equipo en la simulación?"
   ]
  },
  {
   "cell_type": "code",
   "execution_count": 14,
   "metadata": {
    "ExecuteTime": {
     "end_time": "2021-04-21T08:15:35.855592Z",
     "start_time": "2021-04-21T08:15:35.841599Z"
    }
   },
   "outputs": [
    {
     "data": {
      "text/plain": [
       "D. Alavés             10.890909\n",
       "Athletic Club          5.000000\n",
       "Atlético de Madrid     3.000000\n",
       "FC Barcelona           1.963636\n",
       "Real Betis            12.336364\n",
       "RC Celta              13.918182\n",
       "SD Eibar              10.845455\n",
       "RCD Espanyol          11.763636\n",
       "Getafe CF             11.336364\n",
       "Granada CF            19.245455\n",
       "CD Leganés            19.600000\n",
       "Levante UD            18.154545\n",
       "RCD Mallorca          12.818182\n",
       "C.A. Osasuna          16.318182\n",
       "Real Madrid            1.036364\n",
       "Real Sociedad          8.090909\n",
       "R. Valladolid CF      16.681818\n",
       "Sevilla FC             6.172727\n",
       "Valencia CF            4.000000\n",
       "Villarreal CF          6.827273\n",
       "dtype: float64"
      ]
     },
     "execution_count": 14,
     "metadata": {},
     "output_type": "execute_result"
    }
   ],
   "source": [
    "clasificacion_global.mean()"
   ]
  },
  {
   "cell_type": "markdown",
   "metadata": {},
   "source": [
    "### ¿Ha ganado R. Valladolid CF alguna vez la liga?"
   ]
  },
  {
   "cell_type": "code",
   "execution_count": 15,
   "metadata": {
    "ExecuteTime": {
     "end_time": "2021-04-21T08:15:35.871609Z",
     "start_time": "2021-04-21T08:15:35.857607Z"
    }
   },
   "outputs": [
    {
     "data": {
      "text/plain": [
       "Series([], Name: R. Valladolid CF, dtype: object)"
      ]
     },
     "execution_count": 15,
     "metadata": {},
     "output_type": "execute_result"
    }
   ],
   "source": [
    "clasificacion_global[clasificacion_global.loc[:,'R. Valladolid CF']==1]['R. Valladolid CF']"
   ]
  },
  {
   "cell_type": "markdown",
   "metadata": {
    "ExecuteTime": {
     "end_time": "2021-04-19T15:02:33.464402Z",
     "start_time": "2021-04-19T15:02:33.454387Z"
    }
   },
   "source": [
    "* El  R. Valladolid CF no ha ganado ninguna vez la liga"
   ]
  },
  {
   "cell_type": "markdown",
   "metadata": {
    "collapsed": true
   },
   "source": [
    "### ¿Cual es la distribución de los resultados del Madrid, Barcelona y del SD Eibar?"
   ]
  },
  {
   "cell_type": "code",
   "execution_count": 16,
   "metadata": {
    "ExecuteTime": {
     "end_time": "2021-04-21T08:15:36.139655Z",
     "start_time": "2021-04-21T08:15:35.874613Z"
    }
   },
   "outputs": [
    {
     "data": {
      "text/plain": [
       "<AxesSubplot:ylabel='Frequency'>"
      ]
     },
     "execution_count": 16,
     "metadata": {},
     "output_type": "execute_result"
    },
    {
     "data": {
      "image/png": "[encoded data removed]",
      "text/plain": [
       "<Figure size 432x288 with 1 Axes>"
      ]
     },
     "metadata": {
      "needs_background": "light"
     },
     "output_type": "display_data"
    }
   ],
   "source": [
    "clasificacion_global[['SD Eibar','Real Madrid','FC Barcelona']].plot(kind='hist',bins=20)"
   ]
  },
  {
   "cell_type": "markdown",
   "metadata": {
    "collapsed": true
   },
   "source": [
    "## Reflexiones\n",
    "\n",
    "* ¿Qué información se te ocurre que puede ser interesante incorporar en esta simulación?\n",
    "\n",
    "    * Pues estimo que sería importante como variables que pueden decidir un partido y por consiguiente una liga:\n",
    "        * Número de tiulares que no pueden jugar el partido (lesionados\\sancionados\\en la selección\\descansando ...)\n",
    "        * Si alguno de los equipos ya no se juega nada en el campeonato y el otro si.\n",
    "        * Racha de partidos anteriores que puedan dar más o menos tranquilidad para jugar.\n",
    "        * Climatología adversa y alguno de los dos equipos no esta familiarizado.\n",
    "        * Si alguno de los equipos tiene a **Messi**.\n",
    "        \n",
    "\n",
    "* ¿Puede el método de montecarlo ayudarnos a ganar una quiniela?\n",
    "    * Podría darse que se pudieran acertar una base de resultados, pero la totalidad se me antoja dificil por:\n",
    "        * Gran número de variables no controlables o predecibles afectan a un partido.\n",
    "        * Componente del **AZAR**. Hay factores intangibles e impredecibles en un partido que no son controlables."
   ]
  }
 ],
 "metadata": {
  "anaconda-cloud": {},
  "kernelspec": {
   "display_name": "Python 3",
   "language": "python",
   "name": "python3"
  },
  "language_info": {
   "codemirror_mode": {
    "name": "ipython",
    "version": 3
   },
   "file_extension": ".py",
   "mimetype": "text/x-python",
   "name": "python",
   "nbconvert_exporter": "python",
   "pygments_lexer": "ipython3",
   "version": "3.8.5"
  },
  "toc": {
   "base_numbering": 1,
   "nav_menu": {},
   "number_sections": true,
   "sideBar": true,
   "skip_h1_title": false,
   "title_cell": "Table of Contents",
   "title_sidebar": "Contents",
   "toc_cell": false,
   "toc_position": {},
   "toc_section_display": true,
   "toc_window_display": false
  },
  "varInspector": {
   "cols": {
    "lenName": 16,
    "lenType": 16,
    "lenVar": 40
   },
   "kernels_config": {
    "python": {
     "delete_cmd_postfix": "",
     "delete_cmd_prefix": "del ",
     "library": "var_list.py",
     "varRefreshCmd": "print(var_dic_list())"
    },
    "r": {
     "delete_cmd_postfix": ") ",
     "delete_cmd_prefix": "rm(",
     "library": "var_list.r",
     "varRefreshCmd": "cat(var_dic_list()) "
    }
   },
   "types_to_exclude": [
    "module",
    "function",
    "builtin_function_or_method",
    "instance",
    "_Feature"
   ],
   "window_display": false
  }
 },
 "nbformat": 4,
 "nbformat_minor": 2
}
