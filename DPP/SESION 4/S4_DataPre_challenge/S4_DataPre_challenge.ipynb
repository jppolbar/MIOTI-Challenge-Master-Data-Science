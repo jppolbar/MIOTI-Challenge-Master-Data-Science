{
 "cells": [
  {
   "cell_type": "markdown",
   "metadata": {},
   "source": [
    "<img src=\"imgs/mioti_empire.png\" style=\"height: 100px\">\n",
    "<center style=\"color:#888\">Módulo Data Science in IoT<br/>Asignatura Data preprocessing</center>\n",
    "\n",
    "# Challenge S4: Data augmentation"
   ]
  },
  {
   "cell_type": "markdown",
   "metadata": {},
   "source": [
    "`General, sabemos que quiere dejar las trincheras para pasar a su nuevo cargo de LORD DE LOS DATOS en el IMPERIO GALÁCTICO. Está usted a prueba con dos sistemas críticos para el IMPERIO GALÁCTICO. El primero, tratará de mejorar nuestra capacidad predictiva de catástrofes en nuestros famosos StarDestroyer®. El segundo, deberá de encontrar un sistema de detección de transimisiones enemigas que evite catástrofes como la incursión en Scarif que robó nuestros planos de la Estrella de la Muerte®. Esta será su carta de presentación.`"
   ]
  },
  {
   "cell_type": "code",
   "execution_count": 1,
   "metadata": {},
   "outputs": [],
   "source": [
    "import pandas as pd\n",
    "import numpy as np\n",
    "import matplotlib.pyplot as plt\n",
    "from sklearn.linear_model import LogisticRegression\n",
    "\n",
    "import warnings\n",
    "warnings.filterwarnings('ignore')\n",
    "\n",
    "import random\n",
    "random.seed(1234)"
   ]
  },
  {
   "cell_type": "markdown",
   "metadata": {},
   "source": [
    "### Predicción de catástrofes en StarDestroyer®"
   ]
  },
  {
   "cell_type": "markdown",
   "metadata": {},
   "source": [
    "`General, se le dispone del siguiente dataset que contiene datos tanto de pasaje civil como militar. Sin embargo, nuestros sistemas de predicción no han conseguido resultados. QUEREMOS SABER QUIÉN TIENE MÁS POSIBILIDADES DE MORIR EN UN POSIBLE ATAQUE A NUESTRO STARDESTROYER®, y por lo tanto, necesitamos mejorar nuestra información al respecto.`\n",
    "\n",
    "`PARA ELLO, NECESITAMOS OBTENER AL MENOS 5 VARIABLES NUEVAS DESDE NUESTRO DATASET, TENIENDO EN CUENTA QUE SI GENERAMOS 5 VARIABLES 'DUMMY' A PARTIR DE UNA VARIABLE ORIGEN, ÚNICAMENTE CUENTAN COMO 1 VARIABLE`\n",
    "\n",
    "`Debe tener en cuenta siempre que:`\n",
    "\n",
    "`1. Las cabinas más vulnerables se encuentran en storage_decks con una protectora pero insuficiente capa blindada de film de aluminio. Posteriormente, en la parte media del conjunto middle_decks.`      \n",
    "`2. En momentos de ataque, mujeres y niños intentarán ser rescatados primero.`      \n",
    "`3. El Imperio otorga privilegios a las clases altas y sobre todo a altos cargos.`       \n",
    "`4. Piense y estudie cómo podría funcionar una nave como esta en situación de pánico. Decida y razone sus nuevas variables`"
   ]
  },
  {
   "cell_type": "code",
   "execution_count": 2,
   "metadata": {},
   "outputs": [],
   "source": [
    "df_starkiller = pd.read_csv('data/starkiller_population.csv')"
   ]
  },
  {
   "cell_type": "code",
   "execution_count": 3,
   "metadata": {},
   "outputs": [
    {
     "data": {
      "text/html": [
       "<div>\n",
       "<style scoped>\n",
       "    .dataframe tbody tr th:only-of-type {\n",
       "        vertical-align: middle;\n",
       "    }\n",
       "\n",
       "    .dataframe tbody tr th {\n",
       "        vertical-align: top;\n",
       "    }\n",
       "\n",
       "    .dataframe thead th {\n",
       "        text-align: right;\n",
       "    }\n",
       "</style>\n",
       "<table border=\"1\" class=\"dataframe\">\n",
       "  <thead>\n",
       "    <tr style=\"text-align: right;\">\n",
       "      <th></th>\n",
       "      <th>age</th>\n",
       "      <th>area</th>\n",
       "      <th>cabin</th>\n",
       "      <th>embarqued</th>\n",
       "      <th>fare</th>\n",
       "      <th>name</th>\n",
       "      <th>sex</th>\n",
       "      <th>ticket</th>\n",
       "    </tr>\n",
       "  </thead>\n",
       "  <tbody>\n",
       "    <tr>\n",
       "      <th>0</th>\n",
       "      <td>27</td>\n",
       "      <td>Storage decks</td>\n",
       "      <td>D251</td>\n",
       "      <td>Endor</td>\n",
       "      <td>2229731₩</td>\n",
       "      <td>Mr. Peter Fisher</td>\n",
       "      <td>Male</td>\n",
       "      <td>D</td>\n",
       "    </tr>\n",
       "    <tr>\n",
       "      <th>1</th>\n",
       "      <td>36</td>\n",
       "      <td>Middle decks</td>\n",
       "      <td>D472</td>\n",
       "      <td>Mustafar</td>\n",
       "      <td>2711626₩</td>\n",
       "      <td>Mr. Jared Bowers</td>\n",
       "      <td>Male</td>\n",
       "      <td>D</td>\n",
       "    </tr>\n",
       "    <tr>\n",
       "      <th>2</th>\n",
       "      <td>16</td>\n",
       "      <td>Lower decks</td>\n",
       "      <td>D87</td>\n",
       "      <td>Coruscant</td>\n",
       "      <td>897633₩</td>\n",
       "      <td>Mr. Kevin Odonnell</td>\n",
       "      <td>Male</td>\n",
       "      <td>D</td>\n",
       "    </tr>\n",
       "    <tr>\n",
       "      <th>3</th>\n",
       "      <td>20</td>\n",
       "      <td>Middle decks</td>\n",
       "      <td>E404</td>\n",
       "      <td>Coruscant</td>\n",
       "      <td>2537987₩</td>\n",
       "      <td>Mr. Peter Montgomery</td>\n",
       "      <td>Male</td>\n",
       "      <td>E</td>\n",
       "    </tr>\n",
       "    <tr>\n",
       "      <th>4</th>\n",
       "      <td>60</td>\n",
       "      <td>Bohemian views decks</td>\n",
       "      <td>X431</td>\n",
       "      <td>Naboo</td>\n",
       "      <td>109₩</td>\n",
       "      <td>Commander William Patrick</td>\n",
       "      <td>Male</td>\n",
       "      <td>X</td>\n",
       "    </tr>\n",
       "    <tr>\n",
       "      <th>5</th>\n",
       "      <td>39</td>\n",
       "      <td>Lower decks</td>\n",
       "      <td>E147</td>\n",
       "      <td>Coruscant</td>\n",
       "      <td>5375024₩</td>\n",
       "      <td>Mr. Nicholas Nolan</td>\n",
       "      <td>Male</td>\n",
       "      <td>E</td>\n",
       "    </tr>\n",
       "    <tr>\n",
       "      <th>6</th>\n",
       "      <td>16</td>\n",
       "      <td>Middle decks</td>\n",
       "      <td>D127</td>\n",
       "      <td>Endor</td>\n",
       "      <td>1894874₩</td>\n",
       "      <td>Mr. Brian Hamilton</td>\n",
       "      <td>Male</td>\n",
       "      <td>D</td>\n",
       "    </tr>\n",
       "    <tr>\n",
       "      <th>7</th>\n",
       "      <td>21</td>\n",
       "      <td>Laser decks</td>\n",
       "      <td>F128</td>\n",
       "      <td>Endor</td>\n",
       "      <td>492288₩</td>\n",
       "      <td>Lt. Vincent Woods</td>\n",
       "      <td>Male</td>\n",
       "      <td>F1</td>\n",
       "    </tr>\n",
       "    <tr>\n",
       "      <th>8</th>\n",
       "      <td>19</td>\n",
       "      <td>Lower decks</td>\n",
       "      <td>D244</td>\n",
       "      <td>Coruscant</td>\n",
       "      <td>1104020₩</td>\n",
       "      <td>Mr. Robert Dunn</td>\n",
       "      <td>Male</td>\n",
       "      <td>D</td>\n",
       "    </tr>\n",
       "    <tr>\n",
       "      <th>9</th>\n",
       "      <td>24</td>\n",
       "      <td>Lower decks</td>\n",
       "      <td>D257</td>\n",
       "      <td>Endor</td>\n",
       "      <td>4558665₩</td>\n",
       "      <td>Mr. James Summers</td>\n",
       "      <td>Male</td>\n",
       "      <td>D</td>\n",
       "    </tr>\n",
       "    <tr>\n",
       "      <th>10</th>\n",
       "      <td>18</td>\n",
       "      <td>Middle decks</td>\n",
       "      <td>D82</td>\n",
       "      <td>Coruscant</td>\n",
       "      <td>4198558₩</td>\n",
       "      <td>Mr. Johnny Dillon</td>\n",
       "      <td>Male</td>\n",
       "      <td>D</td>\n",
       "    </tr>\n",
       "    <tr>\n",
       "      <th>11</th>\n",
       "      <td>18</td>\n",
       "      <td>Lower decks</td>\n",
       "      <td>D84</td>\n",
       "      <td>Endor</td>\n",
       "      <td>2081492₩</td>\n",
       "      <td>Mr. Seth Lee</td>\n",
       "      <td>Male</td>\n",
       "      <td>D</td>\n",
       "    </tr>\n",
       "    <tr>\n",
       "      <th>12</th>\n",
       "      <td>30</td>\n",
       "      <td>Middle decks</td>\n",
       "      <td>D356</td>\n",
       "      <td>Endor</td>\n",
       "      <td>1324638₩</td>\n",
       "      <td>Mr. Walter Pratt</td>\n",
       "      <td>Male</td>\n",
       "      <td>D</td>\n",
       "    </tr>\n",
       "    <tr>\n",
       "      <th>13</th>\n",
       "      <td>21</td>\n",
       "      <td>Cannon decks</td>\n",
       "      <td>F2373</td>\n",
       "      <td>Endor</td>\n",
       "      <td>480041₩</td>\n",
       "      <td>Lt. Francisco Romero</td>\n",
       "      <td>Male</td>\n",
       "      <td>F2</td>\n",
       "    </tr>\n",
       "    <tr>\n",
       "      <th>14</th>\n",
       "      <td>18</td>\n",
       "      <td>Storage decks</td>\n",
       "      <td>D256</td>\n",
       "      <td>Endor</td>\n",
       "      <td>1707698₩</td>\n",
       "      <td>Mr. Juan Mann</td>\n",
       "      <td>Male</td>\n",
       "      <td>D</td>\n",
       "    </tr>\n",
       "  </tbody>\n",
       "</table>\n",
       "</div>"
      ],
      "text/plain": [
       "    age                  area  cabin  embarqued      fare  \\\n",
       "0    27         Storage decks   D251      Endor  2229731₩   \n",
       "1    36          Middle decks   D472   Mustafar  2711626₩   \n",
       "2    16           Lower decks    D87  Coruscant   897633₩   \n",
       "3    20          Middle decks   E404  Coruscant  2537987₩   \n",
       "4    60  Bohemian views decks   X431      Naboo      109₩   \n",
       "5    39           Lower decks   E147  Coruscant  5375024₩   \n",
       "6    16          Middle decks   D127      Endor  1894874₩   \n",
       "7    21           Laser decks   F128      Endor   492288₩   \n",
       "8    19           Lower decks   D244  Coruscant  1104020₩   \n",
       "9    24           Lower decks   D257      Endor  4558665₩   \n",
       "10   18          Middle decks    D82  Coruscant  4198558₩   \n",
       "11   18           Lower decks    D84      Endor  2081492₩   \n",
       "12   30          Middle decks   D356      Endor  1324638₩   \n",
       "13   21          Cannon decks  F2373      Endor   480041₩   \n",
       "14   18         Storage decks   D256      Endor  1707698₩   \n",
       "\n",
       "                         name   sex ticket  \n",
       "0            Mr. Peter Fisher  Male      D  \n",
       "1            Mr. Jared Bowers  Male      D  \n",
       "2          Mr. Kevin Odonnell  Male      D  \n",
       "3        Mr. Peter Montgomery  Male      E  \n",
       "4   Commander William Patrick  Male      X  \n",
       "5          Mr. Nicholas Nolan  Male      E  \n",
       "6          Mr. Brian Hamilton  Male      D  \n",
       "7           Lt. Vincent Woods  Male     F1  \n",
       "8             Mr. Robert Dunn  Male      D  \n",
       "9           Mr. James Summers  Male      D  \n",
       "10          Mr. Johnny Dillon  Male      D  \n",
       "11               Mr. Seth Lee  Male      D  \n",
       "12           Mr. Walter Pratt  Male      D  \n",
       "13       Lt. Francisco Romero  Male     F2  \n",
       "14              Mr. Juan Mann  Male      D  "
      ]
     },
     "execution_count": 3,
     "metadata": {},
     "output_type": "execute_result"
    }
   ],
   "source": [
    "df_starkiller.head(15)"
   ]
  },
  {
   "cell_type": "code",
   "execution_count": 4,
   "metadata": {},
   "outputs": [],
   "source": [
    "## TU CÓDIGO AQUÍ"
   ]
  },
  {
   "cell_type": "markdown",
   "metadata": {},
   "source": [
    "### Detección de transmisiones"
   ]
  },
  {
   "cell_type": "markdown",
   "metadata": {},
   "source": [
    "`Se le dispondrá de un set de datos extraído de los últimos intentos de ataque en nuestro silo de planos de armas secretas. Estos datos muestran obviamente y gracias al trabajo del antiguo general al mando, ya *jubilado*, un problema grave de desbalanceo en cuanto a tipología de los datos, así que será su labor trabajar con ellos para conseguir un balanceo orden y deacuerdo a las directrices del glorioso IMPERIO GALÁCTICO.`"
   ]
  },
  {
   "cell_type": "markdown",
   "metadata": {},
   "source": [
    "`Como primera tarea, se le solicita un primer vistazo a los datos.`"
   ]
  },
  {
   "cell_type": "code",
   "execution_count": 5,
   "metadata": {},
   "outputs": [],
   "source": [
    "tr = pd.read_csv(\"data/transmission_small.csv\")"
   ]
  },
  {
   "cell_type": "markdown",
   "metadata": {},
   "source": [
    "`Se necesita entender la magnitud del problema. Informe del posible desbalanceo de los datos, tanto por escrito como mediante la gráfica que usted considere oportuna`"
   ]
  },
  {
   "cell_type": "code",
   "execution_count": null,
   "metadata": {},
   "outputs": [],
   "source": []
  },
  {
   "cell_type": "markdown",
   "metadata": {},
   "source": [
    "`También deberá conocer en qué rango se manejan los datos y con qué estamos trabajando. Una gráfica de puntos podría ser lo más adecuado ahora.`"
   ]
  },
  {
   "cell_type": "code",
   "execution_count": null,
   "metadata": {},
   "outputs": [],
   "source": []
  },
  {
   "cell_type": "markdown",
   "metadata": {},
   "source": [
    "`Le proponemos ahora una función sencilla para evaluar su sistema de mejora de los datos. Esta función no deberá modificarse y como único requisito deberá de suministrar los datos como parámetro.`"
   ]
  },
  {
   "cell_type": "code",
   "execution_count": 7,
   "metadata": {},
   "outputs": [],
   "source": [
    "def evaluar_sistema(data_variables, class_variable):\n",
    "    # Recibe:\n",
    "    # - data_variables: dataframe con dos columnas siendo estas las variables de datos.\n",
    "    # - class_variable: dataframe con una columna siendo esta la clase de transmisión.\n",
    "    # Imprime:\n",
    "    # - puntuación de clasificación.\n",
    "    print(\"Evaluando...\")\n",
    "    clf = LogisticRegression().fit(data_variables, class_variable.values.ravel())\n",
    "    predicted = clf.predict(data_variables)\n",
    "    \n",
    "    puntos = 0\n",
    "    for ci, pi in zip(class_variable.values.ravel(), predicted):\n",
    "        if ci != pi:\n",
    "            n = 1 if ci == 0 else 50\n",
    "        else:\n",
    "            n = 0\n",
    "        puntos += n\n",
    "        \n",
    "    print(\"Puntuación obtenida: {} (más alta es peor)\".format(puntos))"
   ]
  },
  {
   "cell_type": "code",
   "execution_count": 9,
   "metadata": {},
   "outputs": [
    {
     "name": "stdout",
     "output_type": "stream",
     "text": [
      "Evaluando...\n",
      "Puntuación obtenida: 21889 (más alta es peor)\n"
     ]
    }
   ],
   "source": [
    "evaluar_sistema(tr[['V1', 'V2']], tr[['class']])"
   ]
  },
  {
   "cell_type": "code",
   "execution_count": null,
   "metadata": {},
   "outputs": [],
   "source": []
  },
  {
   "cell_type": "markdown",
   "metadata": {},
   "source": [
    "***"
   ]
  },
  {
   "cell_type": "markdown",
   "metadata": {},
   "source": [
    "`Ahora el trabajo es todo suyo, General. Deberá trabajar con nuestros datos y conseguir disminuir esa puntuación al máximo posible. Documente todos los pasos e incluya de sus valoraciones al final del informe.`\n",
    "\n",
    "`\n",
    "Le solicitamos la comprobación de al menos tres técnicas de data augmentation y al menos un caso en el que dos técnicas se combinen para obtener los resultados.`"
   ]
  },
  {
   "cell_type": "code",
   "execution_count": null,
   "metadata": {},
   "outputs": [],
   "source": [
    "## Introduce todos los pasos que consideres necesarios y posteriormente, evalúa tus datos. ¡Que el lado oscuro te acompañe!"
   ]
  },
  {
   "cell_type": "markdown",
   "metadata": {},
   "source": [
    "¿Has logrado proteger al Imperio Galáctico de transmisiones enemigas? ¿O has tenido problemas de \"jubilación\"?\n",
    "* ¿Qué problemas ves a estos métodos de data augmentation?\n",
    "* ¿Qué crees que es más razonable cuando te enfrentas a un problema de este tipo?\n",
    "* La función de evaluación del sistema penaliza con un punto si la clase predecida es de valor 1 pero 50 puntos si la clase predecida es de valor 0. ¿Por qué crees que pasa esto?"
   ]
  },
  {
   "cell_type": "markdown",
   "metadata": {},
   "source": [
    "***"
   ]
  },
  {
   "cell_type": "markdown",
   "metadata": {},
   "source": [
    "### Punto extra"
   ]
  },
  {
   "cell_type": "markdown",
   "metadata": {},
   "source": [
    "`Como tarea final, se le exige que nos facilite una identificación. Muestre su rostro real y provea al IMPERIO GALÁCTICO de datos suficientes para poder identificale desde todos los ángulos posibles una vez pase a formar parte de nuestro equipo de datos. Se requiere un mínimo de 5 ejemplos de su rostro para entrenar correctamente el sistema y que nuestras medidas de seguridad no cometan el error de considerarlo una amenaza.`"
   ]
  },
  {
   "cell_type": "code",
   "execution_count": null,
   "metadata": {},
   "outputs": [],
   "source": [
    "## Hazte una \"selfie\" y copiala en la carpeta imgs de este challenge. Cárgala y visualízala correctamente.\n",
    "## Procésala como se te mostró en el worksheet para que el Imperio pueda identificarte correctamente."
   ]
  }
 ],
 "metadata": {
  "kernelspec": {
   "display_name": "Python 3",
   "language": "python",
   "name": "python3"
  },
  "language_info": {
   "codemirror_mode": {
    "name": "ipython",
    "version": 3
   },
   "file_extension": ".py",
   "mimetype": "text/x-python",
   "name": "python",
   "nbconvert_exporter": "python",
   "pygments_lexer": "ipython3",
   "version": "3.7.7"
  }
 },
 "nbformat": 4,
 "nbformat_minor": 2
}
