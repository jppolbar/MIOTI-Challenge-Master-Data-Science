{
 "cells": [
  {
   "cell_type": "markdown",
   "metadata": {},
   "source": [
    "<img src=\"mioti.png\" style=\"height: 100px\">\n",
    "<center style=\"color:#888\">Módulo Data Science in IoT<br/>Asignatura: Data preprocessing</center>\n",
    "\n",
    "# Challenge S2: Anonimización AirBnbMadrid"
   ]
  },
  {
   "cell_type": "markdown",
   "metadata": {},
   "source": [
    "## Objetivos\n",
    "\n",
    "En este challenge nos enfrentaremos a un dataset real, que contiene los datos de los alojamientos disponibles de Airbnb para la comunidad de Madrid. Nuestro objetivo en el challenge es anonimizarlo y convertir el dataset de AirBnBMadrid a AirBnBValladolid."
   ]
  },
  {
   "cell_type": "markdown",
   "metadata": {},
   "source": [
    "## Configuración del entorno"
   ]
  },
  {
   "cell_type": "code",
   "execution_count": 1,
   "metadata": {
    "ExecuteTime": {
     "end_time": "2021-03-17T16:14:03.722740Z",
     "start_time": "2021-03-17T16:14:02.350540Z"
    }
   },
   "outputs": [],
   "source": [
    "%matplotlib inline\n",
    "\n",
    "import numpy as np\n",
    "import pandas as pd\n",
    "import matplotlib.pyplot as plt\n",
    "from faker import Faker\n",
    "from os import remove\n",
    "from os import path\n",
    "import re\n",
    "\n",
    "fake = Faker('es_ES')"
   ]
  },
  {
   "cell_type": "markdown",
   "metadata": {},
   "source": [
    "## Carga de los datos\n",
    "Esta vez va a ser fácil, vamos a importar los datos de un fichero csv, utilizaremos la función read_csv que nos proporciona la libreria de pandas."
   ]
  },
  {
   "cell_type": "code",
   "execution_count": 2,
   "metadata": {
    "ExecuteTime": {
     "end_time": "2021-03-17T16:14:04.910493Z",
     "start_time": "2021-03-17T16:14:03.726724Z"
    }
   },
   "outputs": [],
   "source": [
    "df = pd.read_csv('dataset_airbnb_madrid.csv')"
   ]
  },
  {
   "cell_type": "markdown",
   "metadata": {},
   "source": [
    "Como este dataset es muy complejo, vamos a quedarnos con un subconjunto de columnas para este challenge:"
   ]
  },
  {
   "cell_type": "code",
   "execution_count": 3,
   "metadata": {
    "ExecuteTime": {
     "end_time": "2021-03-17T16:14:04.957750Z",
     "start_time": "2021-03-17T16:14:04.918324Z"
    }
   },
   "outputs": [],
   "source": [
    "df = df[['id', 'listing_url', 'name', 'summary', 'price', 'weekly_price', 'zipcode', 'country', 'latitude', 'longitude']]"
   ]
  },
  {
   "cell_type": "markdown",
   "metadata": {},
   "source": [
    "## Comprensión del dataset\n",
    "\n",
    "Una vez cargados los datos debemos inspeccionarlos, y entender que datos contiene cada una de las columnas:\n",
    "\n",
    "Describe por cada columna:\n",
    "\n",
    "* ¿Qué contiene?\n",
    "* ¿Cual es el rango de los datos?\n",
    "* ¿Contiene datos sensibles?\n",
    "* ¿Depende de otras?"
   ]
  },
  {
   "cell_type": "code",
   "execution_count": 4,
   "metadata": {
    "ExecuteTime": {
     "end_time": "2021-03-17T16:14:04.989758Z",
     "start_time": "2021-03-17T16:14:04.961754Z"
    }
   },
   "outputs": [
    {
     "name": "stdout",
     "output_type": "stream",
     "text": [
      "<class 'pandas.core.frame.DataFrame'>\n",
      "RangeIndex: 13335 entries, 0 to 13334\n",
      "Data columns (total 10 columns):\n",
      " #   Column        Non-Null Count  Dtype  \n",
      "---  ------        --------------  -----  \n",
      " 0   id            13335 non-null  int64  \n",
      " 1   listing_url   13335 non-null  object \n",
      " 2   name          13335 non-null  object \n",
      " 3   summary       12846 non-null  object \n",
      " 4   price         13335 non-null  object \n",
      " 5   weekly_price  3512 non-null   object \n",
      " 6   zipcode       12896 non-null  object \n",
      " 7   country       13334 non-null  object \n",
      " 8   latitude      13335 non-null  float64\n",
      " 9   longitude     13335 non-null  float64\n",
      "dtypes: float64(2), int64(1), object(7)\n",
      "memory usage: 1.0+ MB\n"
     ]
    }
   ],
   "source": [
    "df.info()"
   ]
  },
  {
   "cell_type": "code",
   "execution_count": 5,
   "metadata": {
    "ExecuteTime": {
     "end_time": "2021-03-17T16:14:05.021767Z",
     "start_time": "2021-03-17T16:14:04.992760Z"
    }
   },
   "outputs": [
    {
     "data": {
      "text/html": [
       "<div>\n",
       "<style scoped>\n",
       "    .dataframe tbody tr th:only-of-type {\n",
       "        vertical-align: middle;\n",
       "    }\n",
       "\n",
       "    .dataframe tbody tr th {\n",
       "        vertical-align: top;\n",
       "    }\n",
       "\n",
       "    .dataframe thead th {\n",
       "        text-align: right;\n",
       "    }\n",
       "</style>\n",
       "<table border=\"1\" class=\"dataframe\">\n",
       "  <thead>\n",
       "    <tr style=\"text-align: right;\">\n",
       "      <th></th>\n",
       "      <th>id</th>\n",
       "      <th>listing_url</th>\n",
       "      <th>name</th>\n",
       "      <th>summary</th>\n",
       "      <th>price</th>\n",
       "      <th>weekly_price</th>\n",
       "      <th>zipcode</th>\n",
       "      <th>country</th>\n",
       "      <th>latitude</th>\n",
       "      <th>longitude</th>\n",
       "    </tr>\n",
       "  </thead>\n",
       "  <tbody>\n",
       "    <tr>\n",
       "      <th>0</th>\n",
       "      <td>7830063</td>\n",
       "      <td>https://www.airbnb.com/rooms/7830063</td>\n",
       "      <td>Quiet room in Plaza Mayor</td>\n",
       "      <td>Room in magnificent property in the historic c...</td>\n",
       "      <td>$42.00</td>\n",
       "      <td>$300.00</td>\n",
       "      <td>28005</td>\n",
       "      <td>Spain</td>\n",
       "      <td>40.412275</td>\n",
       "      <td>-3.708718</td>\n",
       "    </tr>\n",
       "    <tr>\n",
       "      <th>1</th>\n",
       "      <td>9898596</td>\n",
       "      <td>https://www.airbnb.com/rooms/9898596</td>\n",
       "      <td>Homely apartment in the heart of Madrid</td>\n",
       "      <td>Spacious apartment for up to 10 people, with a...</td>\n",
       "      <td>$135.00</td>\n",
       "      <td>NaN</td>\n",
       "      <td>28005</td>\n",
       "      <td>Spain</td>\n",
       "      <td>40.411093</td>\n",
       "      <td>-3.708985</td>\n",
       "    </tr>\n",
       "    <tr>\n",
       "      <th>2</th>\n",
       "      <td>15334645</td>\n",
       "      <td>https://www.airbnb.com/rooms/15334645</td>\n",
       "      <td>Piso Muy Luminoso en pleno centro de Madrid</td>\n",
       "      <td>Lugares de interés: Casa Lucio, Cine Doré, Cal...</td>\n",
       "      <td>$81.00</td>\n",
       "      <td>NaN</td>\n",
       "      <td>28005</td>\n",
       "      <td>Spain</td>\n",
       "      <td>40.413587</td>\n",
       "      <td>-3.708945</td>\n",
       "    </tr>\n",
       "    <tr>\n",
       "      <th>3</th>\n",
       "      <td>1307795</td>\n",
       "      <td>https://www.airbnb.com/rooms/1307795</td>\n",
       "      <td>Rent room in the heart of Madrid</td>\n",
       "      <td>NaN</td>\n",
       "      <td>$43.00</td>\n",
       "      <td>$240.00</td>\n",
       "      <td>28013</td>\n",
       "      <td>Spain</td>\n",
       "      <td>40.419936</td>\n",
       "      <td>-3.709180</td>\n",
       "    </tr>\n",
       "    <tr>\n",
       "      <th>4</th>\n",
       "      <td>17410608</td>\n",
       "      <td>https://www.airbnb.com/rooms/17410608</td>\n",
       "      <td>Luxury duplex penthouse in historic building</td>\n",
       "      <td>Amazing duplex penthouse in a historic buildin...</td>\n",
       "      <td>$50.00</td>\n",
       "      <td>NaN</td>\n",
       "      <td>28005</td>\n",
       "      <td>Spain</td>\n",
       "      <td>40.410894</td>\n",
       "      <td>-3.712537</td>\n",
       "    </tr>\n",
       "  </tbody>\n",
       "</table>\n",
       "</div>"
      ],
      "text/plain": [
       "         id                            listing_url  \\\n",
       "0   7830063   https://www.airbnb.com/rooms/7830063   \n",
       "1   9898596   https://www.airbnb.com/rooms/9898596   \n",
       "2  15334645  https://www.airbnb.com/rooms/15334645   \n",
       "3   1307795   https://www.airbnb.com/rooms/1307795   \n",
       "4  17410608  https://www.airbnb.com/rooms/17410608   \n",
       "\n",
       "                                           name  \\\n",
       "0                     Quiet room in Plaza Mayor   \n",
       "1       Homely apartment in the heart of Madrid   \n",
       "2   Piso Muy Luminoso en pleno centro de Madrid   \n",
       "3              Rent room in the heart of Madrid   \n",
       "4  Luxury duplex penthouse in historic building   \n",
       "\n",
       "                                             summary    price weekly_price  \\\n",
       "0  Room in magnificent property in the historic c...   $42.00      $300.00   \n",
       "1  Spacious apartment for up to 10 people, with a...  $135.00          NaN   \n",
       "2  Lugares de interés: Casa Lucio, Cine Doré, Cal...   $81.00          NaN   \n",
       "3                                                NaN   $43.00      $240.00   \n",
       "4  Amazing duplex penthouse in a historic buildin...   $50.00          NaN   \n",
       "\n",
       "  zipcode country   latitude  longitude  \n",
       "0   28005   Spain  40.412275  -3.708718  \n",
       "1   28005   Spain  40.411093  -3.708985  \n",
       "2   28005   Spain  40.413587  -3.708945  \n",
       "3   28013   Spain  40.419936  -3.709180  \n",
       "4   28005   Spain  40.410894  -3.712537  "
      ]
     },
     "execution_count": 5,
     "metadata": {},
     "output_type": "execute_result"
    }
   ],
   "source": [
    "df.head()"
   ]
  },
  {
   "cell_type": "markdown",
   "metadata": {},
   "source": [
    "### id"
   ]
  },
  {
   "cell_type": "markdown",
   "metadata": {
    "ExecuteTime": {
     "end_time": "2021-03-11T19:05:17.160448Z",
     "start_time": "2021-03-11T19:05:17.154452Z"
    },
    "collapsed": true
   },
   "source": [
    "¿Que contiene? - Contiene el identificador del anuncio. Es del tipo int64."
   ]
  },
  {
   "cell_type": "markdown",
   "metadata": {},
   "source": [
    "¿Cual es el rango de los datos?"
   ]
  },
  {
   "cell_type": "code",
   "execution_count": 6,
   "metadata": {
    "ExecuteTime": {
     "end_time": "2021-03-17T16:14:05.037771Z",
     "start_time": "2021-03-17T16:14:05.028770Z"
    },
    "scrolled": true
   },
   "outputs": [
    {
     "name": "stdout",
     "output_type": "stream",
     "text": [
      "El rango de la columna id va del mínimo :  18628  al máximo :  18109842\n"
     ]
    }
   ],
   "source": [
    "print('El rango de la columna id va del mínimo : ',df['id'].min() , ' al máximo : ', df['id'].max())"
   ]
  },
  {
   "cell_type": "markdown",
   "metadata": {},
   "source": [
    "¿Contiene datos sensibles? - Si. Aunque no son datos personales o de salud, si podrían detectar el anuncio real"
   ]
  },
  {
   "cell_type": "markdown",
   "metadata": {},
   "source": [
    "¿Depende de otras? - Si. listin_url contiene la información de id."
   ]
  },
  {
   "cell_type": "markdown",
   "metadata": {},
   "source": [
    "### listing_url"
   ]
  },
  {
   "cell_type": "markdown",
   "metadata": {
    "collapsed": true
   },
   "source": [
    "¿Que contiene? - Contiene la url del anuncio. Es del tipo object ya que es una cadena de caracteres."
   ]
  },
  {
   "cell_type": "markdown",
   "metadata": {},
   "source": [
    "¿Cual es el rango de los datos?"
   ]
  },
  {
   "cell_type": "code",
   "execution_count": 7,
   "metadata": {
    "ExecuteTime": {
     "end_time": "2021-03-17T16:14:05.085779Z",
     "start_time": "2021-03-17T16:14:05.042775Z"
    }
   },
   "outputs": [
    {
     "name": "stdout",
     "output_type": "stream",
     "text": [
      "El rango de la columna listing_url va del mínimo :  4074    https://www.airbnb.com/rooms/18628\n",
      "Name: listing_url, dtype: object  al máximo :  4994    https://www.airbnb.com/rooms/18109842\n",
      "Name: listing_url, dtype: object\n"
     ]
    }
   ],
   "source": [
    "#Como la columna listing_url tiene una clara dependencia de id el criterio para calcular el máximo y el mínimo \n",
    "#será el que tenga el id maximo y mínimo en la url.\n",
    "\n",
    "min=df['listing_url'].loc[df['listing_url'].str.contains(str(df['id'].min()))]\n",
    "max=df['listing_url'].loc[df['listing_url'].str.contains(str(df['id'].max()))]\n",
    "\n",
    "print('El rango de la columna listing_url va del mínimo : ',min, ' al máximo : ', max)"
   ]
  },
  {
   "cell_type": "markdown",
   "metadata": {},
   "source": [
    "¿Contiene datos sensibles?\n",
    "Si. Aunque no son datos personales o de salud, si podrían detectar el anuncio real"
   ]
  },
  {
   "cell_type": "markdown",
   "metadata": {},
   "source": [
    "¿Depende de otras?\n",
    "Si del id del anuncio que forma parte de la url"
   ]
  },
  {
   "cell_type": "markdown",
   "metadata": {},
   "source": [
    "### name"
   ]
  },
  {
   "cell_type": "markdown",
   "metadata": {
    "collapsed": true
   },
   "source": [
    "¿Que contiene? - Es el nombre del anuncio. Es un object, ya que contiene cadenas de caracteres."
   ]
  },
  {
   "cell_type": "markdown",
   "metadata": {},
   "source": [
    "¿Cual es el rango de los datos? - Al ser un texto libre el rango que podemos calcular es de longitud del texto."
   ]
  },
  {
   "cell_type": "code",
   "execution_count": 8,
   "metadata": {
    "ExecuteTime": {
     "end_time": "2021-03-17T16:14:05.133792Z",
     "start_time": "2021-03-17T16:14:05.089781Z"
    }
   },
   "outputs": [
    {
     "name": "stdout",
     "output_type": "stream",
     "text": [
      "El rango de la columna name va del mínimo :  1  en la fila  983  al máximo :  75  en la fila  10906\n"
     ]
    }
   ],
   "source": [
    "index_min=df.loc[:,'name'].str.len().idxmin()\n",
    "min=df.loc[:,'name'].str.len().min()\n",
    "index_max=df.loc[:,'name'].str.len().idxmax()\n",
    "max=df.loc[:,'name'].str.len().max()\n",
    "print('El rango de la columna name va del mínimo : ',min, ' en la fila ', index_min, ' al máximo : ', max, ' en la fila ', index_max)"
   ]
  },
  {
   "cell_type": "markdown",
   "metadata": {},
   "source": [
    "¿Contiene datos sensibles? No. Es un texto libre. Puede aparecer alguna vez la palabra Madrid"
   ]
  },
  {
   "cell_type": "markdown",
   "metadata": {},
   "source": [
    "¿Depende de otras? No. "
   ]
  },
  {
   "cell_type": "markdown",
   "metadata": {},
   "source": [
    "### summary"
   ]
  },
  {
   "cell_type": "markdown",
   "metadata": {
    "collapsed": true
   },
   "source": [
    "¿Que contiene? - Es el cuerpo o descripción del anuncio. Es un object, ya que contiene cadenas de caracteres."
   ]
  },
  {
   "cell_type": "markdown",
   "metadata": {},
   "source": [
    "¿Cual es el rango de los datos? - Al ser un texto libre el rango no es medible"
   ]
  },
  {
   "cell_type": "code",
   "execution_count": 9,
   "metadata": {
    "ExecuteTime": {
     "end_time": "2021-03-17T16:14:05.197804Z",
     "start_time": "2021-03-17T16:14:05.136791Z"
    }
   },
   "outputs": [
    {
     "name": "stdout",
     "output_type": "stream",
     "text": [
      "El rango de la columna name va del mínimo :  1.0  en la fila  3596  al máximo :  1000.0  en la fila  380\n"
     ]
    }
   ],
   "source": [
    "index_min=df.loc[:,'summary'].str.len().idxmin()\n",
    "min=df.loc[:,'summary'].str.len().min()\n",
    "index_max=df.loc[:,'summary'].str.len().idxmax()\n",
    "max=df.loc[:,'summary'].str.len().max()\n",
    "print('El rango de la columna name va del mínimo : ',min, ' en la fila ', index_min, ' al máximo : ', max, ' en la fila ', index_max)"
   ]
  },
  {
   "cell_type": "markdown",
   "metadata": {},
   "source": [
    "¿Contiene datos sensibles? No. En principio describe al propietario y el alojaomiento. Puede aparecer alguna vez la palabra Madrid"
   ]
  },
  {
   "cell_type": "markdown",
   "metadata": {},
   "source": [
    "¿Depende de otras? Si. Si en name aparece la mención a Madrid habría que ver si existe aquí y sustituirlo."
   ]
  },
  {
   "cell_type": "markdown",
   "metadata": {},
   "source": [
    "### price"
   ]
  },
  {
   "cell_type": "markdown",
   "metadata": {
    "collapsed": true
   },
   "source": [
    "¿Que contiene? - Es el precio por noche del alojamiento. Es un object. El precio viene representado por una cadena de caracteres."
   ]
  },
  {
   "cell_type": "markdown",
   "metadata": {},
   "source": [
    "¿Cual es el rango de los datos?"
   ]
  },
  {
   "cell_type": "code",
   "execution_count": 10,
   "metadata": {
    "ExecuteTime": {
     "end_time": "2021-03-17T16:14:05.213814Z",
     "start_time": "2021-03-17T16:14:05.201809Z"
    }
   },
   "outputs": [],
   "source": [
    "# Esta función tranforma los importes que vienen como object en floats.\n",
    "# No tenemos en cuenta el primer caracter que es la divisa y sustituimos la \",\" de los miles por \"\"\n",
    "\n",
    "def transformar_importes(importe):\n",
    "    if type(importe) == str:\n",
    "        temp = float(importe[1:].replace(',', ''))\n",
    "    else:\n",
    "        temp = np.nan\n",
    "    return temp"
   ]
  },
  {
   "cell_type": "code",
   "execution_count": 11,
   "metadata": {
    "ExecuteTime": {
     "end_time": "2021-03-17T16:14:05.245816Z",
     "start_time": "2021-03-17T16:14:05.216810Z"
    }
   },
   "outputs": [
    {
     "name": "stdout",
     "output_type": "stream",
     "text": [
      "El rango de la columna price va del mínimo :  9.0  al máximo :  7700.0\n"
     ]
    }
   ],
   "source": [
    "#Creamos una columna copia ya que para hacer los calculos no queremos cambiar la columna orignal del dataframe original\n",
    "df_copy=df['price']\n",
    "\n",
    "#Aplicamos mediante apply la transformación en float mediante la función transformar_importes\n",
    "\n",
    "df_copy=df_copy.apply(transformar_importes)\n",
    "print('El rango de la columna price va del mínimo : ',df_copy.min(), ' al máximo : ', df_copy.max())"
   ]
  },
  {
   "cell_type": "markdown",
   "metadata": {},
   "source": [
    "¿Contiene datos sensibles?- No. Son el importe del precio de estancia por un día."
   ]
  },
  {
   "cell_type": "markdown",
   "metadata": {},
   "source": [
    "¿Depende de otras? No."
   ]
  },
  {
   "cell_type": "markdown",
   "metadata": {},
   "source": [
    "### weekly_price"
   ]
  },
  {
   "cell_type": "markdown",
   "metadata": {
    "collapsed": true
   },
   "source": [
    "¿Que contiene? - Es el precio por semana del alojamiento. Es un object. El precio viene representado por una cadena de caracteres."
   ]
  },
  {
   "cell_type": "markdown",
   "metadata": {},
   "source": [
    "¿Cual es el rango de los datos?"
   ]
  },
  {
   "cell_type": "code",
   "execution_count": 12,
   "metadata": {
    "ExecuteTime": {
     "end_time": "2021-03-17T16:14:05.277839Z",
     "start_time": "2021-03-17T16:14:05.248817Z"
    }
   },
   "outputs": [
    {
     "name": "stdout",
     "output_type": "stream",
     "text": [
      "El rango de la columna weekly_price va del mínimo :  70.0  al máximo :  7000.0\n"
     ]
    }
   ],
   "source": [
    "df_copy['weekly_price']=df['weekly_price']\n",
    "df_copy['weekly_price']=df_copy['weekly_price'].apply(transformar_importes)\n",
    "print('El rango de la columna weekly_price va del mínimo : ',df_copy['weekly_price'].min(), ' al máximo : ', df_copy['weekly_price'].max())"
   ]
  },
  {
   "cell_type": "markdown",
   "metadata": {},
   "source": [
    "¿Contiene datos sensibles? No. Son el importe del alquiler por semana."
   ]
  },
  {
   "cell_type": "markdown",
   "metadata": {},
   "source": [
    "¿Depende de otras? No."
   ]
  },
  {
   "cell_type": "markdown",
   "metadata": {},
   "source": [
    "### zipcode"
   ]
  },
  {
   "cell_type": "markdown",
   "metadata": {
    "collapsed": true
   },
   "source": [
    "¿Que contiene? - Es el código postal donde se situa el inmueble a alquilar. Es un object."
   ]
  },
  {
   "cell_type": "markdown",
   "metadata": {},
   "source": [
    "¿Cual es el rango de los datos?"
   ]
  },
  {
   "cell_type": "code",
   "execution_count": 13,
   "metadata": {
    "ExecuteTime": {
     "end_time": "2021-03-17T16:14:05.293844Z",
     "start_time": "2021-03-17T16:14:05.281825Z"
    }
   },
   "outputs": [],
   "source": [
    "def transformar_codigos_postales(cp):\n",
    "    if type(cp)==str:\n",
    "        cp=cp.strip().replace(\"-\",\"\") # Hacemos varios ajustes para alinear cp y se puedan transformar en int\n",
    "        if cp:\n",
    "            temp = int(cp[-5:])\n",
    "        else:\n",
    "            temp=28001 # Cadenas vacias las ponemos el primer código postal de Madrid\n",
    "    else:\n",
    "        temp=28001 # na las ponemos el primer código postal de Madrid\n",
    "        \n",
    "    return temp"
   ]
  },
  {
   "cell_type": "code",
   "execution_count": 14,
   "metadata": {
    "ExecuteTime": {
     "end_time": "2021-03-17T16:14:05.341837Z",
     "start_time": "2021-03-17T16:14:05.297828Z"
    }
   },
   "outputs": [
    {
     "name": "stdout",
     "output_type": "stream",
     "text": [
      "El rango de la columna zipcode va del mínimo :  28  al máximo :  84084\n"
     ]
    }
   ],
   "source": [
    "df['zipcode']=df['zipcode'].apply(transformar_codigos_postales)\n",
    "print('El rango de la columna zipcode va del mínimo : ',df['zipcode'].min(), ' al máximo : ', df['zipcode'].max())"
   ]
  },
  {
   "cell_type": "markdown",
   "metadata": {},
   "source": [
    "¿Contiene datos sensibles? No, es el código postal del barrio donde se situa el inmueble."
   ]
  },
  {
   "cell_type": "markdown",
   "metadata": {},
   "source": [
    "¿Depende de otras? Si, parcialmente si el name o summary aparece la ciudad de Madrid habría que cambiarlo."
   ]
  },
  {
   "cell_type": "markdown",
   "metadata": {},
   "source": [
    "### Country"
   ]
  },
  {
   "cell_type": "markdown",
   "metadata": {
    "collapsed": true
   },
   "source": [
    "¿Que contiene? - El país del inmueble. Es del tipo Object, por que el pais se representa por su ombre completo en una cadena de caracteres"
   ]
  },
  {
   "cell_type": "markdown",
   "metadata": {},
   "source": [
    "¿Cual es el rango de los datos?"
   ]
  },
  {
   "cell_type": "code",
   "execution_count": 15,
   "metadata": {
    "ExecuteTime": {
     "end_time": "2021-03-17T16:14:05.373844Z",
     "start_time": "2021-03-17T16:14:05.345840Z"
    }
   },
   "outputs": [
    {
     "data": {
      "text/plain": [
       "Spain    13333\n",
       "Cuba         1\n",
       "Name: country, dtype: int64"
      ]
     },
     "execution_count": 15,
     "metadata": {},
     "output_type": "execute_result"
    }
   ],
   "source": [
    "df['country'].value_counts()"
   ]
  },
  {
   "cell_type": "markdown",
   "metadata": {},
   "source": [
    "¿Contiene datos sensibles? No. Es el país de la ciudad donde se situa el inmueble"
   ]
  },
  {
   "cell_type": "markdown",
   "metadata": {},
   "source": [
    "¿Depende de otras? No. En este caso. Si las ciudades fueran de de distintos paises si habría dependencia."
   ]
  },
  {
   "cell_type": "markdown",
   "metadata": {},
   "source": [
    "### latitude y longitude"
   ]
  },
  {
   "cell_type": "markdown",
   "metadata": {
    "collapsed": true
   },
   "source": [
    "¿Que contiene? - La latitud y longitud geográfica donde se encuentra el inmueble que se alquila."
   ]
  },
  {
   "cell_type": "markdown",
   "metadata": {},
   "source": [
    "¿Cual es el rango de los datos?"
   ]
  },
  {
   "cell_type": "code",
   "execution_count": 16,
   "metadata": {
    "ExecuteTime": {
     "end_time": "2021-03-17T16:14:05.389848Z",
     "start_time": "2021-03-17T16:14:05.376847Z"
    }
   },
   "outputs": [
    {
     "name": "stdout",
     "output_type": "stream",
     "text": [
      "El rango de la columna latitude va del mínimo :  40.33188827449475  al máximo :  40.562736291267576\n"
     ]
    }
   ],
   "source": [
    "print('El rango de la columna latitude va del mínimo : ',df['latitude'].min(), ' al máximo : ', df['latitude'].max())"
   ]
  },
  {
   "cell_type": "code",
   "execution_count": 17,
   "metadata": {
    "ExecuteTime": {
     "end_time": "2021-03-17T16:14:05.405852Z",
     "start_time": "2021-03-17T16:14:05.393849Z"
    }
   },
   "outputs": [
    {
     "name": "stdout",
     "output_type": "stream",
     "text": [
      "El rango de la columna latitude va del mínimo :  -3.863907266766836  al máximo :  -3.5268214016469366\n"
     ]
    }
   ],
   "source": [
    "print('El rango de la columna latitude va del mínimo : ',df['longitude'].min(), ' al máximo : ', df['longitude'].max())"
   ]
  },
  {
   "cell_type": "markdown",
   "metadata": {},
   "source": [
    "¿Contiene datos sensibles? No."
   ]
  },
  {
   "cell_type": "markdown",
   "metadata": {},
   "source": [
    "¿Depende de otras? No. La dependencia podría tenerla de la columna ciudad."
   ]
  },
  {
   "cell_type": "markdown",
   "metadata": {},
   "source": [
    "## Dependencias entre variables\n",
    "A continuación os propongo hacer una matriz de dependencias para analizar que variables dependen entre sí y analizar que grupos de variables existen. Esto es importante de cara a la anonimización del dataset, puesto que dejar una de estas variables dependientes sin anonimizar, podría llevar a \"deshacer\" este proceso a personas malintencionadas. \n",
    "\n",
    "En esta matriz podéis marcar con una _X_ qué variables dependen entre sí. Si creéis que existen varios grupos de dependencia, asignar una marca diferente a cada uno de los grupos que consideréis. Por ejemplo, variables que dependen entre sí, podrían ser la dirección de la calle y el código postal.\n",
    "\n",
    "| Depende de   | id | listing_url | name | summary | price | weekly_price | zipcode | country | lat y long |\n",
    "|---           |--- |---          |---   |---      |---    |---           |---      |---      |---         | \n",
    "| **id**           | x   |    x         |      |         |       |              |         |         |            | \n",
    "| **listing_url**  | x   |   x          |      |         |       |              |         |         |            | \n",
    "| **name**         |    |             |   x   |   x      |       |             |         |         |            | \n",
    "| **summary**      |    |             |   x   |   x     |       |             |         |         |            | \n",
    "| **price**        |    |            |      |         |    x   |              |         |         |            | \n",
    "| **weekly_price** |    |             |      |        |       |       x       |         |         |            | \n",
    "| **zipcode**      |    |             |      |         |       |             |      x   |         |            | \n",
    "| **country**      |    |             |      |         |       |              |         |    x     |            | \n",
    "| **lat y long**   |    |             |      |         |       |              |         |         |     x       | \n",
    "\n"
   ]
  },
  {
   "cell_type": "markdown",
   "metadata": {},
   "source": [
    "## Estrategia de anonimización\n",
    "\n",
    "A partir de aquí por cada grupo de variables dependientes determina cual es la estrategia de anonimización más adecuada y aplícala teniendo en cuenta las dependencias encontradas en el paso anterior."
   ]
  },
  {
   "cell_type": "markdown",
   "metadata": {
    "ExecuteTime": {
     "end_time": "2021-03-16T11:34:14.497796Z",
     "start_time": "2021-03-16T11:34:14.479285Z"
    },
    "collapsed": true
   },
   "source": [
    "#### Estrategia de anonimización\n",
    "\n",
    "* Vamos anonimizar las columnas id y listing_url. Si cambiamos el id lo tenemos que cambiar en la url contenida en listing_url.\n",
    "\n",
    "* Vamos anonimizar name y summary, para sustituir la palabra Madrid, si aparece, por Valladolid\n",
    "\n",
    "* Vamos anonimizar zipcode poniendo el cp de Valladolid 47001\n",
    "\n",
    "* Vamos anonimizar lat y long por las de Valladolid latidud = 41,65518 y longitud =\t-4,72372\n",
    "\n",
    "* Vamos anonimizar el país por Spain que es donde se situa Valladolid. (Lo hacemos por que se ve que hay un Cuba)\n",
    "\n"
   ]
  },
  {
   "cell_type": "code",
   "execution_count": 18,
   "metadata": {
    "ExecuteTime": {
     "end_time": "2021-03-17T16:14:05.421857Z",
     "start_time": "2021-03-17T16:14:05.409854Z"
    }
   },
   "outputs": [],
   "source": [
    "def anon_Madrid_x_Valladolid(row):\n",
    "    # Anonimizamos el id del anuncio\n",
    "    id_anuncio= fake.numerify(text=\"########\")\n",
    "    row['id'] = id_anuncio\n",
    "    row['listing_url'] =  'https://www.airbnb.com/rooms/'+id_anuncio\n",
    "    \n",
    "    #Sustituimos las apariones de Madrid x Valladolid.\n",
    "    #Utilizamos re regular expresión para que nos detecte tanto en mayúsculas como en minúsculas\n",
    "    redata = re.compile(re.escape('madrid'), re.IGNORECASE)\n",
    "    row['name']=redata.sub('Valladolid', row['name'])\n",
    "    row['summary']=redata.sub('Valladolid', str(row['summary']))\n",
    "    \n",
    "    #Sustituimos el código postal por el de Valladolid\n",
    "    row['zipcode'] = 47001\n",
    "    \n",
    "    #Sustituimos la latitud y longitud las de Valladolid\n",
    "    \n",
    "    row['latitude'] = float(41.65518)\n",
    "    row['longitude'] = float(-4.72372)\n",
    "    \n",
    "    #Sustituimos el país por Spain que es dode se situa Valladolid\n",
    "    \n",
    "    row['country']='Spain'\n",
    "    \n",
    "    \n",
    "    return row"
   ]
  },
  {
   "cell_type": "code",
   "execution_count": 19,
   "metadata": {
    "ExecuteTime": {
     "end_time": "2021-03-17T16:14:09.438519Z",
     "start_time": "2021-03-17T16:14:05.425858Z"
    },
    "scrolled": false
   },
   "outputs": [
    {
     "data": {
      "text/html": [
       "<div>\n",
       "<style scoped>\n",
       "    .dataframe tbody tr th:only-of-type {\n",
       "        vertical-align: middle;\n",
       "    }\n",
       "\n",
       "    .dataframe tbody tr th {\n",
       "        vertical-align: top;\n",
       "    }\n",
       "\n",
       "    .dataframe thead th {\n",
       "        text-align: right;\n",
       "    }\n",
       "</style>\n",
       "<table border=\"1\" class=\"dataframe\">\n",
       "  <thead>\n",
       "    <tr style=\"text-align: right;\">\n",
       "      <th></th>\n",
       "      <th>id</th>\n",
       "      <th>listing_url</th>\n",
       "      <th>name</th>\n",
       "      <th>summary</th>\n",
       "      <th>price</th>\n",
       "      <th>weekly_price</th>\n",
       "      <th>zipcode</th>\n",
       "      <th>country</th>\n",
       "      <th>latitude</th>\n",
       "      <th>longitude</th>\n",
       "    </tr>\n",
       "  </thead>\n",
       "  <tbody>\n",
       "    <tr>\n",
       "      <th>0</th>\n",
       "      <td>25368493</td>\n",
       "      <td>https://www.airbnb.com/rooms/25368493</td>\n",
       "      <td>Quiet room in Plaza Mayor</td>\n",
       "      <td>Room in magnificent property in the historic c...</td>\n",
       "      <td>$42.00</td>\n",
       "      <td>$300.00</td>\n",
       "      <td>47001</td>\n",
       "      <td>Spain</td>\n",
       "      <td>41.65518</td>\n",
       "      <td>-4.72372</td>\n",
       "    </tr>\n",
       "    <tr>\n",
       "      <th>1</th>\n",
       "      <td>37783098</td>\n",
       "      <td>https://www.airbnb.com/rooms/37783098</td>\n",
       "      <td>Homely apartment in the heart of Valladolid</td>\n",
       "      <td>Spacious apartment for up to 10 people, with a...</td>\n",
       "      <td>$135.00</td>\n",
       "      <td>NaN</td>\n",
       "      <td>47001</td>\n",
       "      <td>Spain</td>\n",
       "      <td>41.65518</td>\n",
       "      <td>-4.72372</td>\n",
       "    </tr>\n",
       "    <tr>\n",
       "      <th>2</th>\n",
       "      <td>89023336</td>\n",
       "      <td>https://www.airbnb.com/rooms/89023336</td>\n",
       "      <td>Piso Muy Luminoso en pleno centro de Valladolid</td>\n",
       "      <td>Lugares de interés: Casa Lucio, Cine Doré, Cal...</td>\n",
       "      <td>$81.00</td>\n",
       "      <td>NaN</td>\n",
       "      <td>47001</td>\n",
       "      <td>Spain</td>\n",
       "      <td>41.65518</td>\n",
       "      <td>-4.72372</td>\n",
       "    </tr>\n",
       "    <tr>\n",
       "      <th>3</th>\n",
       "      <td>72569025</td>\n",
       "      <td>https://www.airbnb.com/rooms/72569025</td>\n",
       "      <td>Rent room in the heart of Valladolid</td>\n",
       "      <td>nan</td>\n",
       "      <td>$43.00</td>\n",
       "      <td>$240.00</td>\n",
       "      <td>47001</td>\n",
       "      <td>Spain</td>\n",
       "      <td>41.65518</td>\n",
       "      <td>-4.72372</td>\n",
       "    </tr>\n",
       "    <tr>\n",
       "      <th>4</th>\n",
       "      <td>01278031</td>\n",
       "      <td>https://www.airbnb.com/rooms/01278031</td>\n",
       "      <td>Luxury duplex penthouse in historic building</td>\n",
       "      <td>Amazing duplex penthouse in a historic buildin...</td>\n",
       "      <td>$50.00</td>\n",
       "      <td>NaN</td>\n",
       "      <td>47001</td>\n",
       "      <td>Spain</td>\n",
       "      <td>41.65518</td>\n",
       "      <td>-4.72372</td>\n",
       "    </tr>\n",
       "  </tbody>\n",
       "</table>\n",
       "</div>"
      ],
      "text/plain": [
       "         id                            listing_url  \\\n",
       "0  25368493  https://www.airbnb.com/rooms/25368493   \n",
       "1  37783098  https://www.airbnb.com/rooms/37783098   \n",
       "2  89023336  https://www.airbnb.com/rooms/89023336   \n",
       "3  72569025  https://www.airbnb.com/rooms/72569025   \n",
       "4  01278031  https://www.airbnb.com/rooms/01278031   \n",
       "\n",
       "                                              name  \\\n",
       "0                        Quiet room in Plaza Mayor   \n",
       "1      Homely apartment in the heart of Valladolid   \n",
       "2  Piso Muy Luminoso en pleno centro de Valladolid   \n",
       "3             Rent room in the heart of Valladolid   \n",
       "4     Luxury duplex penthouse in historic building   \n",
       "\n",
       "                                             summary    price weekly_price  \\\n",
       "0  Room in magnificent property in the historic c...   $42.00      $300.00   \n",
       "1  Spacious apartment for up to 10 people, with a...  $135.00          NaN   \n",
       "2  Lugares de interés: Casa Lucio, Cine Doré, Cal...   $81.00          NaN   \n",
       "3                                                nan   $43.00      $240.00   \n",
       "4  Amazing duplex penthouse in a historic buildin...   $50.00          NaN   \n",
       "\n",
       "   zipcode country  latitude  longitude  \n",
       "0    47001   Spain  41.65518   -4.72372  \n",
       "1    47001   Spain  41.65518   -4.72372  \n",
       "2    47001   Spain  41.65518   -4.72372  \n",
       "3    47001   Spain  41.65518   -4.72372  \n",
       "4    47001   Spain  41.65518   -4.72372  "
      ]
     },
     "execution_count": 19,
     "metadata": {},
     "output_type": "execute_result"
    }
   ],
   "source": [
    "#Aplicamos la anonimización utilizando apply y la función anon_Madrid_x_Valladolid. Se ejecuta por fila axis=1\n",
    "df = df.apply(anon_Madrid_x_Valladolid, axis=1)\n",
    "df.head()"
   ]
  },
  {
   "cell_type": "code",
   "execution_count": 20,
   "metadata": {
    "ExecuteTime": {
     "end_time": "2021-03-17T16:14:09.454066Z",
     "start_time": "2021-03-17T16:14:09.441504Z"
    }
   },
   "outputs": [],
   "source": [
    "# Esta función escribe un fichero en formato csv a partir de un dataframe dado\n",
    "\n",
    "def escribir_csv (df,nombre_fich):\n",
    "\n",
    "    if path.exists(nombre_fich): # Si existe ya el fichero lo borramos para volver a generarlo\n",
    "        remove(nombre_fich)\n",
    "        \n",
    "    df.to_csv(nombre_fich)\n",
    "    \n",
    "    return"
   ]
  },
  {
   "cell_type": "code",
   "execution_count": 21,
   "metadata": {
    "ExecuteTime": {
     "end_time": "2021-03-17T16:14:09.805126Z",
     "start_time": "2021-03-17T16:14:09.464054Z"
    }
   },
   "outputs": [],
   "source": [
    "# Generamos el nuevo csv de Valladolid\n",
    "escribir_csv(df,'dataset_airbnb_valladolid.csv')"
   ]
  },
  {
   "cell_type": "markdown",
   "metadata": {},
   "source": [
    "## Conclusiones\n",
    "\n",
    "* ¿Qué ventajas / inconvenientes le ves a esta manera de anonimizar?\n",
    "<br>\n",
    "\n",
    "    - *Ventajas: Que es una forma sencilla y rápida de realizarla, para todas aquellas columnas que sus datos son númericos o categóricos*.\n",
    "    <br>\n",
    "    \n",
    "    - *Inconvenientes:* \n",
    "        - *En columnas en los que se les permite meter lenguaje natural, como name, summary, incluso en menor medida zipcode, es muy dificil anonimizar ya que hay que detectar todas las posibles palabras o frases enteras que pudieran identificar este caso Madrid y sustituirlos por expresiones equivalentes que pudieran ser representativas de Valladolid.*\n",
    "        - *Así también complica la tarea de que estos campos están redactados en distintos idiomas, en este ejemplo que haya podido detectar el summary y el name están redactados en español, ingles, en algún idioma Oriental (Chino, Japones ...)*\n",
    "        - *Otro tema más entiendo que más complejo es si ya tuvieramos que anonimizar imagenes del inmueble y fachada y demás ...*\n",
    "    \n",
    "   \n",
    "* ¿Cómo podríamos mejorar los algoritmos?\n",
    "<br>\n",
    "\n",
    "    - *Haciendo más fuerte la relación de todos los cambios de anonimización, de tal forma que si anonimiza un datoel restode datos sensibles también se haga de la misma forma, así como si se quieren revertir estos cambios todos se hagan de la misma forma y relacionados*\n",
    "    <br>\n",
    "\n",
    "    - *Principalmente por lo que he podido ver, sería la generación de un \"diccionario\" tanto de Barrios, Lugares descripciones, y sus equivalencias con otras ciudades de cara a poder crear un algoritmo que las detecte y haga la sustitución y que además se tenga en cuenta tanto para el \"diccionario\" como para el algoritmo que los textos están redactados en multiples idiomas.*\n",
    "     <br>\n",
    "\n",
    "    - *Aunque en este ejemplo no se da sería el tema de las imagenes, el crear un banco de imagenes que te las pudiera cambiar dependiendo de lo que se describe en el name o en el summary*\n",
    "   \n",
    "    <br>\n",
    "    \n",
    "* ¿Cómo podríamos evaluar que una anonimización es buena?\n",
    "<br>\n",
    "\n",
    "    - *Se me ocurre que alguién de Valladolid al consultar el anuncio lo percibiera como un anuncio real de la ciudad o por el contrario que alguien de Madrid no reconociera el anuncio como un anuncio de Madrid y le fuera todo ajeno.*"
   ]
  }
 ],
 "metadata": {
  "anaconda-cloud": {},
  "kernelspec": {
   "display_name": "Python 3",
   "language": "python",
   "name": "python3"
  },
  "language_info": {
   "codemirror_mode": {
    "name": "ipython",
    "version": 3
   },
   "file_extension": ".py",
   "mimetype": "text/x-python",
   "name": "python",
   "nbconvert_exporter": "python",
   "pygments_lexer": "ipython3",
   "version": "3.8.5"
  },
  "toc": {
   "base_numbering": 1,
   "nav_menu": {},
   "number_sections": true,
   "sideBar": true,
   "skip_h1_title": false,
   "title_cell": "Table of Contents",
   "title_sidebar": "Contents",
   "toc_cell": false,
   "toc_position": {
    "height": "calc(100% - 180px)",
    "left": "10px",
    "top": "150px",
    "width": "307.2px"
   },
   "toc_section_display": true,
   "toc_window_display": false
  },
  "varInspector": {
   "cols": {
    "lenName": 16,
    "lenType": 16,
    "lenVar": 40
   },
   "kernels_config": {
    "python": {
     "delete_cmd_postfix": "",
     "delete_cmd_prefix": "del ",
     "library": "var_list.py",
     "varRefreshCmd": "print(var_dic_list())"
    },
    "r": {
     "delete_cmd_postfix": ") ",
     "delete_cmd_prefix": "rm(",
     "library": "var_list.r",
     "varRefreshCmd": "cat(var_dic_list()) "
    }
   },
   "types_to_exclude": [
    "module",
    "function",
    "builtin_function_or_method",
    "instance",
    "_Feature"
   ],
   "window_display": false
  }
 },
 "nbformat": 4,
 "nbformat_minor": 2
}
