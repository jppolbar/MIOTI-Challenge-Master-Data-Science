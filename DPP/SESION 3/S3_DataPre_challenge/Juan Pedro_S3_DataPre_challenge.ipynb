{
 "cells": [
  {
   "cell_type": "markdown",
   "metadata": {},
   "source": [
    "<img src=\"mioti.png\" style=\"height: 100px\">\n",
    "<center style=\"color:#888\">Módulo Data Science in IoT<br/>Asignatura: Data preprocessing</center>\n",
    "\n",
    "# Challenge S3: Preguntas sobre AirBnB"
   ]
  },
  {
   "cell_type": "markdown",
   "metadata": {},
   "source": [
    "## Objetivos\n",
    "\n",
    "El objetivo de este challenge es reponder algunas preguntas sobre un dataset real de AirBnb."
   ]
  },
  {
   "cell_type": "markdown",
   "metadata": {},
   "source": [
    "## Configuración del entorno"
   ]
  },
  {
   "cell_type": "code",
   "execution_count": 1,
   "metadata": {
    "ExecuteTime": {
     "end_time": "2021-03-26T15:04:33.515292Z",
     "start_time": "2021-03-26T15:04:32.221147Z"
    }
   },
   "outputs": [],
   "source": [
    "%matplotlib inline\n",
    "\n",
    "import numpy as np\n",
    "import pandas as pd\n",
    "import matplotlib.pyplot as plt"
   ]
  },
  {
   "cell_type": "markdown",
   "metadata": {},
   "source": [
    "## Carga de los datos\n",
    "Como en otras ocasiones cargaremos los datos de un fichero csv."
   ]
  },
  {
   "cell_type": "code",
   "execution_count": 2,
   "metadata": {
    "ExecuteTime": {
     "end_time": "2021-03-26T15:04:34.720780Z",
     "start_time": "2021-03-26T15:04:33.520279Z"
    }
   },
   "outputs": [],
   "source": [
    "df = pd.read_csv('dataset_airbnb_madrid.csv')"
   ]
  },
  {
   "cell_type": "markdown",
   "metadata": {},
   "source": [
    "Una vez cargados los datos debemos inspeccionarlos, antes de empezar nuestro análisis."
   ]
  },
  {
   "cell_type": "code",
   "execution_count": 3,
   "metadata": {
    "ExecuteTime": {
     "end_time": "2021-03-26T15:04:34.846398Z",
     "start_time": "2021-03-26T15:04:34.729284Z"
    },
    "scrolled": true
   },
   "outputs": [
    {
     "name": "stdout",
     "output_type": "stream",
     "text": [
      "<class 'pandas.core.frame.DataFrame'>\n",
      "RangeIndex: 13335 entries, 0 to 13334\n",
      "Data columns (total 95 columns):\n",
      " #   Column                            Non-Null Count  Dtype  \n",
      "---  ------                            --------------  -----  \n",
      " 0   id                                13335 non-null  int64  \n",
      " 1   listing_url                       13335 non-null  object \n",
      " 2   scrape_id                         13335 non-null  int64  \n",
      " 3   last_scraped                      13335 non-null  object \n",
      " 4   name                              13335 non-null  object \n",
      " 5   summary                           12846 non-null  object \n",
      " 6   space                             9700 non-null   object \n",
      " 7   description                       13329 non-null  object \n",
      " 8   experiences_offered               13335 non-null  object \n",
      " 9   neighborhood_overview             8308 non-null   object \n",
      " 10  notes                             5037 non-null   object \n",
      " 11  transit                           8264 non-null   object \n",
      " 12  access                            7546 non-null   object \n",
      " 13  interaction                       7523 non-null   object \n",
      " 14  house_rules                       8666 non-null   object \n",
      " 15  thumbnail_url                     10847 non-null  object \n",
      " 16  medium_url                        10847 non-null  object \n",
      " 17  picture_url                       13335 non-null  object \n",
      " 18  xl_picture_url                    10847 non-null  object \n",
      " 19  host_id                           13335 non-null  int64  \n",
      " 20  host_url                          13335 non-null  object \n",
      " 21  host_name                         13332 non-null  object \n",
      " 22  host_since                        13332 non-null  object \n",
      " 23  host_location                     13293 non-null  object \n",
      " 24  host_about                        8282 non-null   object \n",
      " 25  host_response_time                11622 non-null  object \n",
      " 26  host_response_rate                11622 non-null  object \n",
      " 27  host_acceptance_rate              0 non-null      float64\n",
      " 28  host_is_superhost                 13332 non-null  object \n",
      " 29  host_thumbnail_url                13332 non-null  object \n",
      " 30  host_picture_url                  13332 non-null  object \n",
      " 31  host_neighbourhood                9983 non-null   object \n",
      " 32  host_listings_count               13332 non-null  float64\n",
      " 33  host_total_listings_count         13332 non-null  float64\n",
      " 34  host_verifications                13335 non-null  object \n",
      " 35  host_has_profile_pic              13332 non-null  object \n",
      " 36  host_identity_verified            13332 non-null  object \n",
      " 37  street                            13335 non-null  object \n",
      " 38  neighbourhood                     8772 non-null   object \n",
      " 39  neighbourhood_cleansed            13335 non-null  object \n",
      " 40  neighbourhood_group_cleansed      13335 non-null  object \n",
      " 41  city                              13333 non-null  object \n",
      " 42  state                             13292 non-null  object \n",
      " 43  zipcode                           12896 non-null  object \n",
      " 44  market                            13285 non-null  object \n",
      " 45  smart_location                    13335 non-null  object \n",
      " 46  country_code                      13335 non-null  object \n",
      " 47  country                           13334 non-null  object \n",
      " 48  latitude                          13335 non-null  float64\n",
      " 49  longitude                         13335 non-null  float64\n",
      " 50  is_location_exact                 13335 non-null  object \n",
      " 51  property_type                     13335 non-null  object \n",
      " 52  room_type                         13335 non-null  object \n",
      " 53  accommodates                      13335 non-null  int64  \n",
      " 54  bathrooms                         13285 non-null  float64\n",
      " 55  bedrooms                          13312 non-null  float64\n",
      " 56  beds                              13286 non-null  float64\n",
      " 57  bed_type                          13335 non-null  object \n",
      " 58  amenities                         13335 non-null  object \n",
      " 59  square_feet                       522 non-null    float64\n",
      " 60  price                             13335 non-null  object \n",
      " 61  weekly_price                      3512 non-null   object \n",
      " 62  monthly_price                     3324 non-null   object \n",
      " 63  security_deposit                  5731 non-null   object \n",
      " 64  cleaning_fee                      7851 non-null   object \n",
      " 65  guests_included                   13335 non-null  int64  \n",
      " 66  extra_people                      13335 non-null  object \n",
      " 67  minimum_nights                    13335 non-null  int64  \n",
      " 68  maximum_nights                    13335 non-null  int64  \n",
      " 69  calendar_updated                  13335 non-null  object \n",
      " 70  has_availability                  0 non-null      float64\n",
      " 71  availability_30                   13335 non-null  int64  \n",
      " 72  availability_60                   13335 non-null  int64  \n",
      " 73  availability_90                   13335 non-null  int64  \n",
      " 74  availability_365                  13335 non-null  int64  \n",
      " 75  calendar_last_scraped             13335 non-null  object \n",
      " 76  number_of_reviews                 13335 non-null  int64  \n",
      " 77  first_review                      10542 non-null  object \n",
      " 78  last_review                       10541 non-null  object \n",
      " 79  review_scores_rating              10417 non-null  float64\n",
      " 80  review_scores_accuracy            10399 non-null  float64\n",
      " 81  review_scores_cleanliness         10405 non-null  float64\n",
      " 82  review_scores_checkin             10389 non-null  float64\n",
      " 83  review_scores_communication       10405 non-null  float64\n",
      " 84  review_scores_location            10387 non-null  float64\n",
      " 85  review_scores_value               10387 non-null  float64\n",
      " 86  requires_license                  13335 non-null  object \n",
      " 87  license                           249 non-null    object \n",
      " 88  jurisdiction_names                0 non-null      float64\n",
      " 89  instant_bookable                  13335 non-null  object \n",
      " 90  cancellation_policy               13335 non-null  object \n",
      " 91  require_guest_profile_picture     13335 non-null  object \n",
      " 92  require_guest_phone_verification  13335 non-null  object \n",
      " 93  calculated_host_listings_count    13335 non-null  int64  \n",
      " 94  reviews_per_month                 10542 non-null  float64\n",
      "dtypes: float64(19), int64(13), object(63)\n",
      "memory usage: 9.7+ MB\n"
     ]
    }
   ],
   "source": [
    "df.info()"
   ]
  },
  {
   "cell_type": "code",
   "execution_count": 4,
   "metadata": {
    "ExecuteTime": {
     "end_time": "2021-03-26T15:04:34.910217Z",
     "start_time": "2021-03-26T15:04:34.850399Z"
    }
   },
   "outputs": [
    {
     "data": {
      "text/html": [
       "<div>\n",
       "<style scoped>\n",
       "    .dataframe tbody tr th:only-of-type {\n",
       "        vertical-align: middle;\n",
       "    }\n",
       "\n",
       "    .dataframe tbody tr th {\n",
       "        vertical-align: top;\n",
       "    }\n",
       "\n",
       "    .dataframe thead th {\n",
       "        text-align: right;\n",
       "    }\n",
       "</style>\n",
       "<table border=\"1\" class=\"dataframe\">\n",
       "  <thead>\n",
       "    <tr style=\"text-align: right;\">\n",
       "      <th></th>\n",
       "      <th>id</th>\n",
       "      <th>listing_url</th>\n",
       "      <th>scrape_id</th>\n",
       "      <th>last_scraped</th>\n",
       "      <th>name</th>\n",
       "      <th>summary</th>\n",
       "      <th>space</th>\n",
       "      <th>description</th>\n",
       "      <th>experiences_offered</th>\n",
       "      <th>neighborhood_overview</th>\n",
       "      <th>...</th>\n",
       "      <th>review_scores_value</th>\n",
       "      <th>requires_license</th>\n",
       "      <th>license</th>\n",
       "      <th>jurisdiction_names</th>\n",
       "      <th>instant_bookable</th>\n",
       "      <th>cancellation_policy</th>\n",
       "      <th>require_guest_profile_picture</th>\n",
       "      <th>require_guest_phone_verification</th>\n",
       "      <th>calculated_host_listings_count</th>\n",
       "      <th>reviews_per_month</th>\n",
       "    </tr>\n",
       "  </thead>\n",
       "  <tbody>\n",
       "    <tr>\n",
       "      <th>0</th>\n",
       "      <td>7830063</td>\n",
       "      <td>https://www.airbnb.com/rooms/7830063</td>\n",
       "      <td>20170407214119</td>\n",
       "      <td>2017-04-08</td>\n",
       "      <td>Quiet room in Plaza Mayor</td>\n",
       "      <td>Room in magnificent property in the historic c...</td>\n",
       "      <td>Based in the historic center of Madrid, to 1 m...</td>\n",
       "      <td>Room in magnificent property in the historic c...</td>\n",
       "      <td>none</td>\n",
       "      <td>In the historic heart of Madrid, near the Plaz...</td>\n",
       "      <td>...</td>\n",
       "      <td>9.0</td>\n",
       "      <td>t</td>\n",
       "      <td>NaN</td>\n",
       "      <td>NaN</td>\n",
       "      <td>t</td>\n",
       "      <td>moderate</td>\n",
       "      <td>f</td>\n",
       "      <td>f</td>\n",
       "      <td>7</td>\n",
       "      <td>5.04</td>\n",
       "    </tr>\n",
       "    <tr>\n",
       "      <th>1</th>\n",
       "      <td>9898596</td>\n",
       "      <td>https://www.airbnb.com/rooms/9898596</td>\n",
       "      <td>20170407214119</td>\n",
       "      <td>2017-04-08</td>\n",
       "      <td>Homely apartment in the heart of Madrid</td>\n",
       "      <td>Spacious apartment for up to 10 people, with a...</td>\n",
       "      <td>This spacious apartment is located in the cent...</td>\n",
       "      <td>Spacious apartment for up to 10 people, with a...</td>\n",
       "      <td>none</td>\n",
       "      <td>The Living Santa Ana Apartments are located in...</td>\n",
       "      <td>...</td>\n",
       "      <td>9.0</td>\n",
       "      <td>t</td>\n",
       "      <td>NaN</td>\n",
       "      <td>NaN</td>\n",
       "      <td>t</td>\n",
       "      <td>moderate</td>\n",
       "      <td>f</td>\n",
       "      <td>f</td>\n",
       "      <td>1</td>\n",
       "      <td>4.39</td>\n",
       "    </tr>\n",
       "    <tr>\n",
       "      <th>2</th>\n",
       "      <td>15334645</td>\n",
       "      <td>https://www.airbnb.com/rooms/15334645</td>\n",
       "      <td>20170407214119</td>\n",
       "      <td>2017-04-08</td>\n",
       "      <td>Piso Muy Luminoso en pleno centro de Madrid</td>\n",
       "      <td>Lugares de interés: Casa Lucio, Cine Doré, Cal...</td>\n",
       "      <td>Lo mejor es su ubicación en pleno centro de Ma...</td>\n",
       "      <td>Lugares de interés: Casa Lucio, Cine Doré, Cal...</td>\n",
       "      <td>none</td>\n",
       "      <td>La zona de la Latina es un área cultural y un ...</td>\n",
       "      <td>...</td>\n",
       "      <td>9.0</td>\n",
       "      <td>t</td>\n",
       "      <td>NaN</td>\n",
       "      <td>NaN</td>\n",
       "      <td>t</td>\n",
       "      <td>strict</td>\n",
       "      <td>f</td>\n",
       "      <td>f</td>\n",
       "      <td>1</td>\n",
       "      <td>5.57</td>\n",
       "    </tr>\n",
       "    <tr>\n",
       "      <th>3</th>\n",
       "      <td>1307795</td>\n",
       "      <td>https://www.airbnb.com/rooms/1307795</td>\n",
       "      <td>20170407214119</td>\n",
       "      <td>2017-04-08</td>\n",
       "      <td>Rent room in the heart of Madrid</td>\n",
       "      <td>NaN</td>\n",
       "      <td>Very nice room , whith private bath , in a bea...</td>\n",
       "      <td>Very nice room , whith private bath , in a bea...</td>\n",
       "      <td>none</td>\n",
       "      <td>NaN</td>\n",
       "      <td>...</td>\n",
       "      <td>10.0</td>\n",
       "      <td>t</td>\n",
       "      <td>NaN</td>\n",
       "      <td>NaN</td>\n",
       "      <td>f</td>\n",
       "      <td>strict</td>\n",
       "      <td>f</td>\n",
       "      <td>f</td>\n",
       "      <td>1</td>\n",
       "      <td>0.24</td>\n",
       "    </tr>\n",
       "    <tr>\n",
       "      <th>4</th>\n",
       "      <td>17410608</td>\n",
       "      <td>https://www.airbnb.com/rooms/17410608</td>\n",
       "      <td>20170407214119</td>\n",
       "      <td>2017-04-08</td>\n",
       "      <td>Luxury duplex penthouse in historic building</td>\n",
       "      <td>Amazing duplex penthouse in a historic buildin...</td>\n",
       "      <td>It is located in an emblematic building with e...</td>\n",
       "      <td>Amazing duplex penthouse in a historic buildin...</td>\n",
       "      <td>none</td>\n",
       "      <td>\"Madrid de los Austrias \"is a beautiful neighb...</td>\n",
       "      <td>...</td>\n",
       "      <td>10.0</td>\n",
       "      <td>t</td>\n",
       "      <td>NaN</td>\n",
       "      <td>NaN</td>\n",
       "      <td>f</td>\n",
       "      <td>strict</td>\n",
       "      <td>f</td>\n",
       "      <td>f</td>\n",
       "      <td>13</td>\n",
       "      <td>4.29</td>\n",
       "    </tr>\n",
       "  </tbody>\n",
       "</table>\n",
       "<p>5 rows × 95 columns</p>\n",
       "</div>"
      ],
      "text/plain": [
       "         id                            listing_url       scrape_id  \\\n",
       "0   7830063   https://www.airbnb.com/rooms/7830063  20170407214119   \n",
       "1   9898596   https://www.airbnb.com/rooms/9898596  20170407214119   \n",
       "2  15334645  https://www.airbnb.com/rooms/15334645  20170407214119   \n",
       "3   1307795   https://www.airbnb.com/rooms/1307795  20170407214119   \n",
       "4  17410608  https://www.airbnb.com/rooms/17410608  20170407214119   \n",
       "\n",
       "  last_scraped                                          name  \\\n",
       "0   2017-04-08                     Quiet room in Plaza Mayor   \n",
       "1   2017-04-08       Homely apartment in the heart of Madrid   \n",
       "2   2017-04-08   Piso Muy Luminoso en pleno centro de Madrid   \n",
       "3   2017-04-08              Rent room in the heart of Madrid   \n",
       "4   2017-04-08  Luxury duplex penthouse in historic building   \n",
       "\n",
       "                                             summary  \\\n",
       "0  Room in magnificent property in the historic c...   \n",
       "1  Spacious apartment for up to 10 people, with a...   \n",
       "2  Lugares de interés: Casa Lucio, Cine Doré, Cal...   \n",
       "3                                                NaN   \n",
       "4  Amazing duplex penthouse in a historic buildin...   \n",
       "\n",
       "                                               space  \\\n",
       "0  Based in the historic center of Madrid, to 1 m...   \n",
       "1  This spacious apartment is located in the cent...   \n",
       "2  Lo mejor es su ubicación en pleno centro de Ma...   \n",
       "3  Very nice room , whith private bath , in a bea...   \n",
       "4  It is located in an emblematic building with e...   \n",
       "\n",
       "                                         description experiences_offered  \\\n",
       "0  Room in magnificent property in the historic c...                none   \n",
       "1  Spacious apartment for up to 10 people, with a...                none   \n",
       "2  Lugares de interés: Casa Lucio, Cine Doré, Cal...                none   \n",
       "3  Very nice room , whith private bath , in a bea...                none   \n",
       "4  Amazing duplex penthouse in a historic buildin...                none   \n",
       "\n",
       "                               neighborhood_overview  ... review_scores_value  \\\n",
       "0  In the historic heart of Madrid, near the Plaz...  ...                 9.0   \n",
       "1  The Living Santa Ana Apartments are located in...  ...                 9.0   \n",
       "2  La zona de la Latina es un área cultural y un ...  ...                 9.0   \n",
       "3                                                NaN  ...                10.0   \n",
       "4  \"Madrid de los Austrias \"is a beautiful neighb...  ...                10.0   \n",
       "\n",
       "  requires_license license jurisdiction_names instant_bookable  \\\n",
       "0                t     NaN                NaN                t   \n",
       "1                t     NaN                NaN                t   \n",
       "2                t     NaN                NaN                t   \n",
       "3                t     NaN                NaN                f   \n",
       "4                t     NaN                NaN                f   \n",
       "\n",
       "  cancellation_policy require_guest_profile_picture  \\\n",
       "0            moderate                             f   \n",
       "1            moderate                             f   \n",
       "2              strict                             f   \n",
       "3              strict                             f   \n",
       "4              strict                             f   \n",
       "\n",
       "  require_guest_phone_verification calculated_host_listings_count  \\\n",
       "0                                f                              7   \n",
       "1                                f                              1   \n",
       "2                                f                              1   \n",
       "3                                f                              1   \n",
       "4                                f                             13   \n",
       "\n",
       "   reviews_per_month  \n",
       "0               5.04  \n",
       "1               4.39  \n",
       "2               5.57  \n",
       "3               0.24  \n",
       "4               4.29  \n",
       "\n",
       "[5 rows x 95 columns]"
      ]
     },
     "execution_count": 4,
     "metadata": {},
     "output_type": "execute_result"
    }
   ],
   "source": [
    "df.head()"
   ]
  },
  {
   "cell_type": "markdown",
   "metadata": {},
   "source": [
    "## ¿Cuántos alojamientos tienen fotos?"
   ]
  },
  {
   "cell_type": "code",
   "execution_count": 5,
   "metadata": {
    "ExecuteTime": {
     "end_time": "2021-03-26T15:04:34.926220Z",
     "start_time": "2021-03-26T15:04:34.914219Z"
    }
   },
   "outputs": [
    {
     "name": "stdout",
     "output_type": "stream",
     "text": [
      "El número de alojamientos con fotos es :  13335\n"
     ]
    }
   ],
   "source": [
    "# Tomando la columna picture_url como indicador de que tienen foto\n",
    "print('El número de alojamientos con fotos es : ',\n",
    "      df['picture_url'].notnull().value_counts()[True])"
   ]
  },
  {
   "cell_type": "code",
   "execution_count": 6,
   "metadata": {
    "ExecuteTime": {
     "end_time": "2021-03-26T15:04:34.956737Z",
     "start_time": "2021-03-26T15:04:34.931732Z"
    }
   },
   "outputs": [
    {
     "name": "stdout",
     "output_type": "stream",
     "text": [
      "El número de alojamientos con fotos es :  10847\n"
     ]
    }
   ],
   "source": [
    "# Si tomamos la columna  thumbnail_url como indicador tendremos\n",
    "df['thumbnail_url'].notnull().value_counts()\n",
    "\n",
    "print('El número de alojamientos con fotos es : ',\n",
    "      df['thumbnail_url'].notnull().value_counts()[True])"
   ]
  },
  {
   "cell_type": "markdown",
   "metadata": {},
   "source": [
    "## ¿Cuál es el porcentaje de originalidad de las descripciones?."
   ]
  },
  {
   "cell_type": "code",
   "execution_count": 7,
   "metadata": {
    "ExecuteTime": {
     "end_time": "2021-03-26T15:04:35.020753Z",
     "start_time": "2021-03-26T15:04:34.961743Z"
    }
   },
   "outputs": [
    {
     "name": "stdout",
     "output_type": "stream",
     "text": [
      "El pocentaje de originalidad en las descripciones es :  94.66816647919009  %\n"
     ]
    }
   ],
   "source": [
    "porcentaje = df['description'].duplicated(\n",
    "    keep=False).value_counts(normalize=True)[False]*100\n",
    "print('El pocentaje de originalidad en las descripciones es : ', porcentaje, ' %')"
   ]
  },
  {
   "cell_type": "markdown",
   "metadata": {},
   "source": [
    "## ¿Cuántos alojamientos tiene de media cada dueño?"
   ]
  },
  {
   "cell_type": "code",
   "execution_count": 8,
   "metadata": {
    "ExecuteTime": {
     "end_time": "2021-03-26T15:04:35.036757Z",
     "start_time": "2021-03-26T15:04:35.024757Z"
    }
   },
   "outputs": [
    {
     "name": "stdout",
     "output_type": "stream",
     "text": [
      "La media de alojamientos por dueño es : 1.63\n"
     ]
    }
   ],
   "source": [
    "print('La media de alojamientos por dueño es : {:.2f}'.format(\n",
    "    df.groupby(['host_id']).size().mean()))"
   ]
  },
  {
   "cell_type": "markdown",
   "metadata": {},
   "source": [
    "## ¿Cuáles son los 10 dueños que más alojamientos tienen?"
   ]
  },
  {
   "cell_type": "code",
   "execution_count": 9,
   "metadata": {
    "ExecuteTime": {
     "end_time": "2021-03-26T15:04:35.068458Z",
     "start_time": "2021-03-26T15:04:35.040759Z"
    }
   },
   "outputs": [
    {
     "name": "stdout",
     "output_type": "stream",
     "text": [
      "Los 10 dueños con mas alojamientos son \n",
      "\n",
      " host_id\n",
      "21514948    145\n",
      "15258781     97\n",
      "3566146      77\n",
      "54310958     67\n",
      "1408525      51\n",
      "27526991     48\n",
      "5542111      46\n",
      "21485458     44\n",
      "1650712      40\n",
      "32046323     39\n",
      "dtype: int64\n"
     ]
    }
   ],
   "source": [
    "host = df.groupby(['host_id']).size().sort_values(ascending=False).head(10)\n",
    "print('Los 10 dueños con mas alojamientos son \\n\\n {0}'.format(host))"
   ]
  },
  {
   "cell_type": "markdown",
   "metadata": {},
   "source": [
    "## ¿Cuántos alojamientos tiene Airbnb en Madrid?\n",
    "Tip: te recomiento que borres todos los alojamientos que no estén en Madrid y luego los cuentes."
   ]
  },
  {
   "cell_type": "code",
   "execution_count": 10,
   "metadata": {
    "ExecuteTime": {
     "end_time": "2021-03-26T15:04:35.099463Z",
     "start_time": "2021-03-26T15:04:35.072459Z"
    }
   },
   "outputs": [
    {
     "data": {
      "text/plain": [
       "city\n",
       "\\nDelicias                                 1\n",
       "                                           3\n",
       "                                           1\n",
       " Madrid                                    1\n",
       "Aravaca                                    1\n",
       "Aravaca (Madrid)                           1\n",
       "Barcelona                                  1\n",
       "Boadilla del Monte                         1\n",
       "Centro                                     1\n",
       "Centro, Madrid                             1\n",
       "Chiva                                      1\n",
       "Chueca                                     2\n",
       "Chueca, Madrid                             1\n",
       "Comunidad de Madrid                        1\n",
       "Delicias-Madrid                            1\n",
       "La Elipa                                   1\n",
       "La Habana                                  1\n",
       "MADRID                                     1\n",
       "MADRID                                     1\n",
       "Madid                                      1\n",
       "Madri                                      1\n",
       "Madrid                                 13191\n",
       "Madrid                                    15\n",
       "Madrid, Comunidad de Madrid, ES           20\n",
       "Madrid, Comunidad de Madrid, ESPANA        1\n",
       "Madrid, Vallecas (Fontarrón)               1\n",
       "Malaga                                     1\n",
       "Motilla del Palancar                       2\n",
       "Málaga                                     1\n",
       "Onil                                       1\n",
       "Pozuelo                                    2\n",
       "Pozuelo de Alarcón                         4\n",
       "Salerno                                    1\n",
       "San Fernando de Henares                    2\n",
       "San Lázaro                                 1\n",
       "Valderrodrigo                              1\n",
       "Ventas                                     1\n",
       "las matas  madrid                          1\n",
       "madrid                                     8\n",
       "villa verde bajo                           1\n",
       "馬德里                                        2\n",
       "马德里                                       52\n",
       "dtype: int64"
      ]
     },
     "execution_count": 10,
     "metadata": {},
     "output_type": "execute_result"
    }
   ],
   "source": [
    "# Sospechamos que la columna city la palabra Madrid no está formateada de forma\n",
    "# correcta o se han introducido barrios o Madrid en otros idiomas\n",
    "# para ello agrupamos por la columna city par ver que posibles valores alberga\n",
    "df.groupby('city').size()"
   ]
  },
  {
   "cell_type": "code",
   "execution_count": 11,
   "metadata": {
    "ExecuteTime": {
     "end_time": "2021-03-26T15:04:35.115468Z",
     "start_time": "2021-03-26T15:04:35.102466Z"
    }
   },
   "outputs": [],
   "source": [
    "# Generamos un patron de palabras que consideramos que se refieren a la ciudad de Madrid incluso en otros idiomas\n",
    "pattern = '|'.join(['Madrid', 'Madid', 'Madri', 'Aravaca', 'Ventas',\n",
    "                    'Villa Verde Bajo', '马德里', '馬德里', 'Centro', 'chueca', 'La Elipa', 'Delicias'])"
   ]
  },
  {
   "cell_type": "code",
   "execution_count": 12,
   "metadata": {
    "ExecuteTime": {
     "end_time": "2021-03-26T15:04:35.192488Z",
     "start_time": "2021-03-26T15:04:35.119471Z"
    }
   },
   "outputs": [
    {
     "name": "stdout",
     "output_type": "stream",
     "text": [
      "El número de anuncios de Madrid ciudad es : 13309\n"
     ]
    }
   ],
   "source": [
    "# Contabilizamos los anuncios que consideramos pertenecen a la ciudad de Madrid eligiendo como\n",
    "# criterio la columna city.\n",
    "print('El número de anuncios de Madrid ciudad es :', df.loc[df.loc[:, 'city'].str.contains(\n",
    "    pattern, case=False) == True].loc[:, 'city'].count())"
   ]
  },
  {
   "cell_type": "markdown",
   "metadata": {},
   "source": [
    "## ¿Cuántos alojamientos requieren licencia?"
   ]
  },
  {
   "cell_type": "code",
   "execution_count": 13,
   "metadata": {
    "ExecuteTime": {
     "end_time": "2021-03-26T15:04:35.208478Z",
     "start_time": "2021-03-26T15:04:35.195492Z"
    },
    "scrolled": true
   },
   "outputs": [
    {
     "data": {
      "text/plain": [
       "requires_license\n",
       "f        2\n",
       "t    13333\n",
       "dtype: int64"
      ]
     },
     "execution_count": 13,
     "metadata": {},
     "output_type": "execute_result"
    }
   ],
   "source": [
    "# Basandonos en que esa información está en la columna requires_license vamos a revisar que valores\n",
    "# contiene\n",
    "\n",
    "df.groupby('requires_license').size()"
   ]
  },
  {
   "cell_type": "code",
   "execution_count": 14,
   "metadata": {
    "ExecuteTime": {
     "end_time": "2021-03-26T15:04:35.269997Z",
     "start_time": "2021-03-26T15:04:35.212478Z"
    }
   },
   "outputs": [
    {
     "name": "stdout",
     "output_type": "stream",
     "text": [
      "El número de alojamientos que requieren licencia son : 13333\n"
     ]
    }
   ],
   "source": [
    "#Vemos que los valores que alberga son f->False->No requiere licencia y\n",
    "#t->True->Si requiere licencia\n",
    "\n",
    "df_alj_con_lic=df.loc[df.loc[:,'requires_license'].str.contains('t',case=False)==True]\n",
    "num_alj_con_lic=df_alj_con_lic.loc[:,'id'].count()\n",
    "\n",
    "print('El número de alojamientos que requieren licencia son :',num_alj_con_lic)"
   ]
  },
  {
   "cell_type": "markdown",
   "metadata": {},
   "source": [
    "## ¿Cuántos alojamientos que requieren licencia realmente la tienen?"
   ]
  },
  {
   "cell_type": "code",
   "execution_count": 15,
   "metadata": {
    "ExecuteTime": {
     "end_time": "2021-03-26T15:04:35.302003Z",
     "start_time": "2021-03-26T15:04:35.273998Z"
    }
   },
   "outputs": [
    {
     "name": "stdout",
     "output_type": "stream",
     "text": [
      "El número de alojamientos con licencia real son : 244\n"
     ]
    }
   ],
   "source": [
    "# Generamos un patrón en el que consideramos que hay registrada una licencia a cualquier\n",
    "# cadena que tiene un caracter alfanúmerico seguido de números. Con eso descartamos cualquier cadena\n",
    "# que no indiique un código de licencia con números y letras\n",
    "\n",
    "pattern = '\\A[\\w -.:]+[0-9]+'\n",
    "\n",
    "# Basandonos en que esa información está en la columna license vamos a revisar que valores\n",
    "# no son nulos o no coincide con el patron que suponemos indica un número de licencia\n",
    "\n",
    "num_alj_con_lic_real = df_alj_con_lic.loc[(df_alj_con_lic.loc[:, 'license'].isnull() == False) & (\n",
    "    df_alj_con_lic.loc[:, 'license'].str.contains(pattern, regex=True,case=False) == True)].loc[:, 'license'].count()\n",
    "\n",
    "print('El número de alojamientos con licencia real son :', num_alj_con_lic_real)"
   ]
  },
  {
   "cell_type": "markdown",
   "metadata": {},
   "source": [
    "## ¿Cuántos alojamientos que requieren licencia realmente no la tienen?"
   ]
  },
  {
   "cell_type": "code",
   "execution_count": 16,
   "metadata": {
    "ExecuteTime": {
     "end_time": "2021-03-26T15:04:35.318007Z",
     "start_time": "2021-03-26T15:04:35.305004Z"
    }
   },
   "outputs": [
    {
     "name": "stdout",
     "output_type": "stream",
     "text": [
      "El número de alojamientos con licencia que realmente no la tienen son : 13089\n"
     ]
    }
   ],
   "source": [
    "# Será la diferecnia entre los alojamientos que han marcado que necesitan licencia - los que la han aportado realmente\n",
    "# Es la diferencia del apartado 1.10 menos el apartado 1.11\n",
    "num_alj_con_lic_real_no = num_alj_con_lic-num_alj_con_lic_real\n",
    "print('El número de alojamientos con licencia que realmente no la tienen son :',\n",
    "      num_alj_con_lic_real_no)"
   ]
  },
  {
   "cell_type": "markdown",
   "metadata": {},
   "source": [
    "## ¿Cual es el código postal con precio medio más caro de madrid?\n",
    "Tip: excluye zipcodes atípicos"
   ]
  },
  {
   "cell_type": "markdown",
   "metadata": {},
   "source": [
    "* Vamos a tratar la columna ***zipcode*** para generar una dataframe con los cp de Madrid capital"
   ]
  },
  {
   "cell_type": "code",
   "execution_count": 17,
   "metadata": {
    "ExecuteTime": {
     "end_time": "2021-03-26T15:04:35.381022Z",
     "start_time": "2021-03-26T15:04:35.322008Z"
    },
    "scrolled": true
   },
   "outputs": [],
   "source": [
    "# Generamos un patrón para detectar zipcodes con formato correcto.\n",
    "# de la ciudad de Madrid que van del 28000 al 28080 según wikipedia\n",
    "# Así podremos elegir los registros que cumplan un formato correcto par el posterior estudio.\n",
    "#pattern = '\\A[2][8][0-9]{3}\\Z'\n",
    "pattern = '\\A[2][8][0][0-7][0-9]\\Z|\\A[2][8][0][8][0]\\Z'\n",
    "\n",
    "df_cp_ok = df.loc[(df.loc[:, 'zipcode'].isnull() == False) & (\n",
    "    df.loc[:, 'zipcode'].str.contains(pattern, regex=True, case=False) == True)]"
   ]
  },
  {
   "cell_type": "markdown",
   "metadata": {},
   "source": [
    "* Ya tenemos un dataframe con los cp de Madrid capital. Ahora para poder calcular el precio máximo por cp, debemos tratar la columna ***price*** ya es un object. Generamos una nueva columna en el que sea un float y así poder calcular el precio más caro\n"
   ]
  },
  {
   "cell_type": "code",
   "execution_count": 18,
   "metadata": {
    "ExecuteTime": {
     "end_time": "2021-03-26T15:04:35.396608Z",
     "start_time": "2021-03-26T15:04:35.384025Z"
    }
   },
   "outputs": [],
   "source": [
    "# Esta función tranforma los importes que vienen como object en floats.\n",
    "# No tenemos en cuenta el primer caracter que es la divisa.\n",
    "# también sustituimos la \",\" de los miles por \"\".\n",
    "\n",
    "def transformar_importes(importe):\n",
    "    if type(importe) == str:\n",
    "        temp = float(importe[1:].replace(',', ''))\n",
    "    else:\n",
    "        temp = np.nan\n",
    "    return temp\n"
   ]
  },
  {
   "cell_type": "code",
   "execution_count": 19,
   "metadata": {
    "ExecuteTime": {
     "end_time": "2021-03-26T15:04:35.476376Z",
     "start_time": "2021-03-26T15:04:35.400349Z"
    }
   },
   "outputs": [
    {
     "name": "stdout",
     "output_type": "stream",
     "text": [
      "El código postal de Madrid con el precio medio más caro es el 28049 con un precio medio de 213.0 \n"
     ]
    }
   ],
   "source": [
    "# Aplicamos mediante apply la transformación en float mediante la función transformar_importes\n",
    "# df_cp_ok['price_float']=df_cp_ok.price.apply(transformar_importes)\n",
    "# df_cp_ok.loc[:,['price','price_float']]\n",
    "\n",
    "df_cp_ok_price = df_cp_ok.copy()\n",
    "df_cp_ok_price['price_value'] = df_cp_ok_price.price.apply(transformar_importes)\n",
    "\n",
    "precio_maximo = df_cp_ok_price.groupby('zipcode').agg(\n",
    "    {'price_value': ['mean']})['price_value']['mean'].max()\n",
    "\n",
    "cp_precio_maximo = df_cp_ok_price.groupby('zipcode').agg(\n",
    "    {'price_value': ['mean']})['price_value']['mean'].idxmax()\n",
    "\n",
    "print('El código postal de Madrid con el precio medio más caro es el {0} con un precio medio de {1} '.format(cp_precio_maximo, precio_maximo))"
   ]
  },
  {
   "cell_type": "markdown",
   "metadata": {},
   "source": [
    "## ¿En que rango se mueven los precios de los alojamientos en madrid?"
   ]
  },
  {
   "cell_type": "code",
   "execution_count": 20,
   "metadata": {
    "ExecuteTime": {
     "end_time": "2021-03-26T15:04:35.492380Z",
     "start_time": "2021-03-26T15:04:35.480379Z"
    }
   },
   "outputs": [
    {
     "name": "stdout",
     "output_type": "stream",
     "text": [
      "El rango de la columna price va del mínimo :  9.0  al máximo :  7700.0\n"
     ]
    }
   ],
   "source": [
    "print('El rango de la columna price va del mínimo : ', df_cp_ok_price['price_value'].min(\n",
    "), ' al máximo : ', df_cp_ok_price['price_value'].max())"
   ]
  },
  {
   "cell_type": "markdown",
   "metadata": {},
   "source": [
    "## (extra) ¿Cuales son los factores que más afectan al precio?"
   ]
  },
  {
   "cell_type": "markdown",
   "metadata": {},
   "source": [
    "* Calculamos la correlación entre las columnas númericas y que sospechamos podrían afectar al precio\n",
    "* Partimos del DataFrame anterior cuyo precio ya estaba transformado en númerico.\n"
   ]
  },
  {
   "cell_type": "code",
   "execution_count": 21,
   "metadata": {
    "ExecuteTime": {
     "end_time": "2021-03-26T15:04:35.570493Z",
     "start_time": "2021-03-26T15:04:35.504381Z"
    },
    "scrolled": true
   },
   "outputs": [
    {
     "data": {
      "text/html": [
       "<div>\n",
       "<style scoped>\n",
       "    .dataframe tbody tr th:only-of-type {\n",
       "        vertical-align: middle;\n",
       "    }\n",
       "\n",
       "    .dataframe tbody tr th {\n",
       "        vertical-align: top;\n",
       "    }\n",
       "\n",
       "    .dataframe thead th {\n",
       "        text-align: right;\n",
       "    }\n",
       "</style>\n",
       "<table border=\"1\" class=\"dataframe\">\n",
       "  <thead>\n",
       "    <tr style=\"text-align: right;\">\n",
       "      <th></th>\n",
       "      <th>price_value</th>\n",
       "      <th>number_of_reviews</th>\n",
       "      <th>accommodates</th>\n",
       "      <th>bathrooms</th>\n",
       "      <th>bedrooms</th>\n",
       "      <th>beds</th>\n",
       "      <th>square_feet</th>\n",
       "      <th>minimum_nights</th>\n",
       "      <th>maximum_nights</th>\n",
       "      <th>reviews_per_month</th>\n",
       "      <th>availability_30</th>\n",
       "      <th>availability_60</th>\n",
       "      <th>availability_90</th>\n",
       "      <th>availability_365</th>\n",
       "    </tr>\n",
       "  </thead>\n",
       "  <tbody>\n",
       "    <tr>\n",
       "      <th>price_value</th>\n",
       "      <td>1.000000</td>\n",
       "      <td>-0.036140</td>\n",
       "      <td>0.327539</td>\n",
       "      <td>0.268300</td>\n",
       "      <td>0.294455</td>\n",
       "      <td>0.352940</td>\n",
       "      <td>0.229226</td>\n",
       "      <td>0.013403</td>\n",
       "      <td>0.001858</td>\n",
       "      <td>-0.065259</td>\n",
       "      <td>0.056994</td>\n",
       "      <td>0.039172</td>\n",
       "      <td>0.024828</td>\n",
       "      <td>0.052525</td>\n",
       "    </tr>\n",
       "    <tr>\n",
       "      <th>number_of_reviews</th>\n",
       "      <td>-0.036140</td>\n",
       "      <td>1.000000</td>\n",
       "      <td>0.080515</td>\n",
       "      <td>-0.058997</td>\n",
       "      <td>-0.027996</td>\n",
       "      <td>0.033008</td>\n",
       "      <td>-0.098607</td>\n",
       "      <td>-0.036962</td>\n",
       "      <td>-0.001997</td>\n",
       "      <td>0.598432</td>\n",
       "      <td>-0.132847</td>\n",
       "      <td>-0.108516</td>\n",
       "      <td>-0.094383</td>\n",
       "      <td>0.078135</td>\n",
       "    </tr>\n",
       "    <tr>\n",
       "      <th>accommodates</th>\n",
       "      <td>0.327539</td>\n",
       "      <td>0.080515</td>\n",
       "      <td>1.000000</td>\n",
       "      <td>0.331858</td>\n",
       "      <td>0.679748</td>\n",
       "      <td>0.823963</td>\n",
       "      <td>0.393735</td>\n",
       "      <td>0.001689</td>\n",
       "      <td>0.001950</td>\n",
       "      <td>0.042594</td>\n",
       "      <td>-0.069220</td>\n",
       "      <td>-0.062591</td>\n",
       "      <td>-0.067890</td>\n",
       "      <td>0.077306</td>\n",
       "    </tr>\n",
       "    <tr>\n",
       "      <th>bathrooms</th>\n",
       "      <td>0.268300</td>\n",
       "      <td>-0.058997</td>\n",
       "      <td>0.331858</td>\n",
       "      <td>1.000000</td>\n",
       "      <td>0.421218</td>\n",
       "      <td>0.386443</td>\n",
       "      <td>0.429579</td>\n",
       "      <td>0.026875</td>\n",
       "      <td>-0.003311</td>\n",
       "      <td>-0.058814</td>\n",
       "      <td>-0.024872</td>\n",
       "      <td>-0.039024</td>\n",
       "      <td>-0.038769</td>\n",
       "      <td>-0.001549</td>\n",
       "    </tr>\n",
       "    <tr>\n",
       "      <th>bedrooms</th>\n",
       "      <td>0.294455</td>\n",
       "      <td>-0.027996</td>\n",
       "      <td>0.679748</td>\n",
       "      <td>0.421218</td>\n",
       "      <td>1.000000</td>\n",
       "      <td>0.687599</td>\n",
       "      <td>0.418368</td>\n",
       "      <td>0.014923</td>\n",
       "      <td>0.000396</td>\n",
       "      <td>-0.044569</td>\n",
       "      <td>-0.024517</td>\n",
       "      <td>-0.034972</td>\n",
       "      <td>-0.043897</td>\n",
       "      <td>0.026053</td>\n",
       "    </tr>\n",
       "    <tr>\n",
       "      <th>beds</th>\n",
       "      <td>0.352940</td>\n",
       "      <td>0.033008</td>\n",
       "      <td>0.823963</td>\n",
       "      <td>0.386443</td>\n",
       "      <td>0.687599</td>\n",
       "      <td>1.000000</td>\n",
       "      <td>0.390755</td>\n",
       "      <td>0.001913</td>\n",
       "      <td>0.001541</td>\n",
       "      <td>-0.017455</td>\n",
       "      <td>-0.006338</td>\n",
       "      <td>-0.007970</td>\n",
       "      <td>-0.016652</td>\n",
       "      <td>0.089610</td>\n",
       "    </tr>\n",
       "    <tr>\n",
       "      <th>square_feet</th>\n",
       "      <td>0.229226</td>\n",
       "      <td>-0.098607</td>\n",
       "      <td>0.393735</td>\n",
       "      <td>0.429579</td>\n",
       "      <td>0.418368</td>\n",
       "      <td>0.390755</td>\n",
       "      <td>1.000000</td>\n",
       "      <td>0.031319</td>\n",
       "      <td>-0.028967</td>\n",
       "      <td>-0.092630</td>\n",
       "      <td>-0.001546</td>\n",
       "      <td>-0.024882</td>\n",
       "      <td>-0.044553</td>\n",
       "      <td>-0.016515</td>\n",
       "    </tr>\n",
       "    <tr>\n",
       "      <th>minimum_nights</th>\n",
       "      <td>0.013403</td>\n",
       "      <td>-0.036962</td>\n",
       "      <td>0.001689</td>\n",
       "      <td>0.026875</td>\n",
       "      <td>0.014923</td>\n",
       "      <td>0.001913</td>\n",
       "      <td>0.031319</td>\n",
       "      <td>1.000000</td>\n",
       "      <td>-0.001076</td>\n",
       "      <td>-0.055199</td>\n",
       "      <td>-0.017932</td>\n",
       "      <td>-0.025181</td>\n",
       "      <td>-0.025522</td>\n",
       "      <td>0.001446</td>\n",
       "    </tr>\n",
       "    <tr>\n",
       "      <th>maximum_nights</th>\n",
       "      <td>0.001858</td>\n",
       "      <td>-0.001997</td>\n",
       "      <td>0.001950</td>\n",
       "      <td>-0.003311</td>\n",
       "      <td>0.000396</td>\n",
       "      <td>0.001541</td>\n",
       "      <td>-0.028967</td>\n",
       "      <td>-0.001076</td>\n",
       "      <td>1.000000</td>\n",
       "      <td>-0.005095</td>\n",
       "      <td>0.001359</td>\n",
       "      <td>-0.000163</td>\n",
       "      <td>-0.001092</td>\n",
       "      <td>0.010430</td>\n",
       "    </tr>\n",
       "    <tr>\n",
       "      <th>reviews_per_month</th>\n",
       "      <td>-0.065259</td>\n",
       "      <td>0.598432</td>\n",
       "      <td>0.042594</td>\n",
       "      <td>-0.058814</td>\n",
       "      <td>-0.044569</td>\n",
       "      <td>-0.017455</td>\n",
       "      <td>-0.092630</td>\n",
       "      <td>-0.055199</td>\n",
       "      <td>-0.005095</td>\n",
       "      <td>1.000000</td>\n",
       "      <td>-0.151510</td>\n",
       "      <td>-0.115723</td>\n",
       "      <td>-0.091621</td>\n",
       "      <td>-0.057453</td>\n",
       "    </tr>\n",
       "    <tr>\n",
       "      <th>availability_30</th>\n",
       "      <td>0.056994</td>\n",
       "      <td>-0.132847</td>\n",
       "      <td>-0.069220</td>\n",
       "      <td>-0.024872</td>\n",
       "      <td>-0.024517</td>\n",
       "      <td>-0.006338</td>\n",
       "      <td>-0.001546</td>\n",
       "      <td>-0.017932</td>\n",
       "      <td>0.001359</td>\n",
       "      <td>-0.151510</td>\n",
       "      <td>1.000000</td>\n",
       "      <td>0.921632</td>\n",
       "      <td>0.852484</td>\n",
       "      <td>0.422528</td>\n",
       "    </tr>\n",
       "    <tr>\n",
       "      <th>availability_60</th>\n",
       "      <td>0.039172</td>\n",
       "      <td>-0.108516</td>\n",
       "      <td>-0.062591</td>\n",
       "      <td>-0.039024</td>\n",
       "      <td>-0.034972</td>\n",
       "      <td>-0.007970</td>\n",
       "      <td>-0.024882</td>\n",
       "      <td>-0.025181</td>\n",
       "      <td>-0.000163</td>\n",
       "      <td>-0.115723</td>\n",
       "      <td>0.921632</td>\n",
       "      <td>1.000000</td>\n",
       "      <td>0.964064</td>\n",
       "      <td>0.487687</td>\n",
       "    </tr>\n",
       "    <tr>\n",
       "      <th>availability_90</th>\n",
       "      <td>0.024828</td>\n",
       "      <td>-0.094383</td>\n",
       "      <td>-0.067890</td>\n",
       "      <td>-0.038769</td>\n",
       "      <td>-0.043897</td>\n",
       "      <td>-0.016652</td>\n",
       "      <td>-0.044553</td>\n",
       "      <td>-0.025522</td>\n",
       "      <td>-0.001092</td>\n",
       "      <td>-0.091621</td>\n",
       "      <td>0.852484</td>\n",
       "      <td>0.964064</td>\n",
       "      <td>1.000000</td>\n",
       "      <td>0.532111</td>\n",
       "    </tr>\n",
       "    <tr>\n",
       "      <th>availability_365</th>\n",
       "      <td>0.052525</td>\n",
       "      <td>0.078135</td>\n",
       "      <td>0.077306</td>\n",
       "      <td>-0.001549</td>\n",
       "      <td>0.026053</td>\n",
       "      <td>0.089610</td>\n",
       "      <td>-0.016515</td>\n",
       "      <td>0.001446</td>\n",
       "      <td>0.010430</td>\n",
       "      <td>-0.057453</td>\n",
       "      <td>0.422528</td>\n",
       "      <td>0.487687</td>\n",
       "      <td>0.532111</td>\n",
       "      <td>1.000000</td>\n",
       "    </tr>\n",
       "  </tbody>\n",
       "</table>\n",
       "</div>"
      ],
      "text/plain": [
       "                   price_value  number_of_reviews  accommodates  bathrooms  \\\n",
       "price_value           1.000000          -0.036140      0.327539   0.268300   \n",
       "number_of_reviews    -0.036140           1.000000      0.080515  -0.058997   \n",
       "accommodates          0.327539           0.080515      1.000000   0.331858   \n",
       "bathrooms             0.268300          -0.058997      0.331858   1.000000   \n",
       "bedrooms              0.294455          -0.027996      0.679748   0.421218   \n",
       "beds                  0.352940           0.033008      0.823963   0.386443   \n",
       "square_feet           0.229226          -0.098607      0.393735   0.429579   \n",
       "minimum_nights        0.013403          -0.036962      0.001689   0.026875   \n",
       "maximum_nights        0.001858          -0.001997      0.001950  -0.003311   \n",
       "reviews_per_month    -0.065259           0.598432      0.042594  -0.058814   \n",
       "availability_30       0.056994          -0.132847     -0.069220  -0.024872   \n",
       "availability_60       0.039172          -0.108516     -0.062591  -0.039024   \n",
       "availability_90       0.024828          -0.094383     -0.067890  -0.038769   \n",
       "availability_365      0.052525           0.078135      0.077306  -0.001549   \n",
       "\n",
       "                   bedrooms      beds  square_feet  minimum_nights  \\\n",
       "price_value        0.294455  0.352940     0.229226        0.013403   \n",
       "number_of_reviews -0.027996  0.033008    -0.098607       -0.036962   \n",
       "accommodates       0.679748  0.823963     0.393735        0.001689   \n",
       "bathrooms          0.421218  0.386443     0.429579        0.026875   \n",
       "bedrooms           1.000000  0.687599     0.418368        0.014923   \n",
       "beds               0.687599  1.000000     0.390755        0.001913   \n",
       "square_feet        0.418368  0.390755     1.000000        0.031319   \n",
       "minimum_nights     0.014923  0.001913     0.031319        1.000000   \n",
       "maximum_nights     0.000396  0.001541    -0.028967       -0.001076   \n",
       "reviews_per_month -0.044569 -0.017455    -0.092630       -0.055199   \n",
       "availability_30   -0.024517 -0.006338    -0.001546       -0.017932   \n",
       "availability_60   -0.034972 -0.007970    -0.024882       -0.025181   \n",
       "availability_90   -0.043897 -0.016652    -0.044553       -0.025522   \n",
       "availability_365   0.026053  0.089610    -0.016515        0.001446   \n",
       "\n",
       "                   maximum_nights  reviews_per_month  availability_30  \\\n",
       "price_value              0.001858          -0.065259         0.056994   \n",
       "number_of_reviews       -0.001997           0.598432        -0.132847   \n",
       "accommodates             0.001950           0.042594        -0.069220   \n",
       "bathrooms               -0.003311          -0.058814        -0.024872   \n",
       "bedrooms                 0.000396          -0.044569        -0.024517   \n",
       "beds                     0.001541          -0.017455        -0.006338   \n",
       "square_feet             -0.028967          -0.092630        -0.001546   \n",
       "minimum_nights          -0.001076          -0.055199        -0.017932   \n",
       "maximum_nights           1.000000          -0.005095         0.001359   \n",
       "reviews_per_month       -0.005095           1.000000        -0.151510   \n",
       "availability_30          0.001359          -0.151510         1.000000   \n",
       "availability_60         -0.000163          -0.115723         0.921632   \n",
       "availability_90         -0.001092          -0.091621         0.852484   \n",
       "availability_365         0.010430          -0.057453         0.422528   \n",
       "\n",
       "                   availability_60  availability_90  availability_365  \n",
       "price_value               0.039172         0.024828          0.052525  \n",
       "number_of_reviews        -0.108516        -0.094383          0.078135  \n",
       "accommodates             -0.062591        -0.067890          0.077306  \n",
       "bathrooms                -0.039024        -0.038769         -0.001549  \n",
       "bedrooms                 -0.034972        -0.043897          0.026053  \n",
       "beds                     -0.007970        -0.016652          0.089610  \n",
       "square_feet              -0.024882        -0.044553         -0.016515  \n",
       "minimum_nights           -0.025181        -0.025522          0.001446  \n",
       "maximum_nights           -0.000163        -0.001092          0.010430  \n",
       "reviews_per_month        -0.115723        -0.091621         -0.057453  \n",
       "availability_30           0.921632         0.852484          0.422528  \n",
       "availability_60           1.000000         0.964064          0.487687  \n",
       "availability_90           0.964064         1.000000          0.532111  \n",
       "availability_365          0.487687         0.532111          1.000000  "
      ]
     },
     "execution_count": 21,
     "metadata": {},
     "output_type": "execute_result"
    }
   ],
   "source": [
    "df_temp_extra = df_cp_ok_price.loc[:, ['price_value', 'number_of_reviews','accommodates',\n",
    "                                'bathrooms', 'bedrooms', 'beds', 'square_feet', 'minimum_nights', 'maximum_nights', 'reviews_per_month','availability_30','availability_60','availability_90','availability_365']]\n",
    "\n",
    "df_temp_extra.corr()"
   ]
  },
  {
   "cell_type": "markdown",
   "metadata": {},
   "source": [
    "* Observando los valores del coeficiente de correlación de Pearson,entre estas columnas, no observamos que haya ninguna relación alta (>0,7) ni negativa ni positiva.\n",
    "* Se observa moderada para ***accommodates y beds***.\n",
    "* Generamos un mapa de colores para verlo de forma más gráfica"
   ]
  },
  {
   "cell_type": "code",
   "execution_count": 22,
   "metadata": {
    "ExecuteTime": {
     "end_time": "2021-03-26T15:04:40.667780Z",
     "start_time": "2021-03-26T15:04:35.576494Z"
    }
   },
   "outputs": [
    {
     "data": {
      "image/png": "[encoded data removed]",
      "text/plain": [
       "<Figure size 1440x720 with 2 Axes>"
      ]
     },
     "metadata": {
      "needs_background": "light"
     },
     "output_type": "display_data"
    }
   ],
   "source": [
    "import seaborn as sns\n",
    "fig, ax = plt.subplots(figsize=(20,10))\n",
    "ax = sns.heatmap(df_temp_extra.corr(), annot=True, center=0, cmap=\"YlGnBu\")"
   ]
  },
  {
   "cell_type": "markdown",
   "metadata": {},
   "source": [
    "* Como si parecía por los apartados anteriores que la zona podría tener cierta relación con el precio, vamos a intentar dar un valor a cada vecindario, basado en los precios medios que calculamos por código postal.\n",
    "* Para ello utilizamos el Dataframe del apartado anterior.\n",
    "* Los pasos a seguir son:\n",
    "    * Agrupamos por código postal.\n",
    "    * Calculammos el valor medio por código postal\n",
    "    * Ordenamos de menor a mayor precio.\n",
    "    * Creamos una nueva columna númerica donde le daremos un valor. En este caso será el orden multiplicado por 10. Tendrá mayor valor el úlimo que corresponde al cp con precio medio más alto\n",
    "    * Con esto ya somos capaces de asignar un valor a la zoa, de tal forma que si el inmueble esta situado en una zona barata, tendrá menor valor que uno situado en una zona cara"
   ]
  },
  {
   "cell_type": "code",
   "execution_count": 23,
   "metadata": {
    "ExecuteTime": {
     "end_time": "2021-03-26T15:04:40.715340Z",
     "start_time": "2021-03-26T15:04:40.671782Z"
    }
   },
   "outputs": [
    {
     "data": {
      "text/html": [
       "<div>\n",
       "<style scoped>\n",
       "    .dataframe tbody tr th:only-of-type {\n",
       "        vertical-align: middle;\n",
       "    }\n",
       "\n",
       "    .dataframe tbody tr th {\n",
       "        vertical-align: top;\n",
       "    }\n",
       "\n",
       "    .dataframe thead th {\n",
       "        text-align: right;\n",
       "    }\n",
       "</style>\n",
       "<table border=\"1\" class=\"dataframe\">\n",
       "  <thead>\n",
       "    <tr style=\"text-align: right;\">\n",
       "      <th></th>\n",
       "      <th>mean_price_x_zipcode</th>\n",
       "      <th>neighbourhood_value</th>\n",
       "    </tr>\n",
       "    <tr>\n",
       "      <th>zipcode</th>\n",
       "      <th></th>\n",
       "      <th></th>\n",
       "    </tr>\n",
       "  </thead>\n",
       "  <tbody>\n",
       "    <tr>\n",
       "      <th>28058</th>\n",
       "      <td>18.000000</td>\n",
       "      <td>10</td>\n",
       "    </tr>\n",
       "    <tr>\n",
       "      <th>28021</th>\n",
       "      <td>28.918033</td>\n",
       "      <td>20</td>\n",
       "    </tr>\n",
       "    <tr>\n",
       "      <th>28044</th>\n",
       "      <td>29.700000</td>\n",
       "      <td>30</td>\n",
       "    </tr>\n",
       "    <tr>\n",
       "      <th>28018</th>\n",
       "      <td>29.837209</td>\n",
       "      <td>40</td>\n",
       "    </tr>\n",
       "    <tr>\n",
       "      <th>28024</th>\n",
       "      <td>30.818182</td>\n",
       "      <td>50</td>\n",
       "    </tr>\n",
       "    <tr>\n",
       "      <th>28047</th>\n",
       "      <td>32.119403</td>\n",
       "      <td>60</td>\n",
       "    </tr>\n",
       "    <tr>\n",
       "      <th>28048</th>\n",
       "      <td>33.000000</td>\n",
       "      <td>70</td>\n",
       "    </tr>\n",
       "    <tr>\n",
       "      <th>28032</th>\n",
       "      <td>33.757576</td>\n",
       "      <td>80</td>\n",
       "    </tr>\n",
       "    <tr>\n",
       "      <th>28053</th>\n",
       "      <td>36.333333</td>\n",
       "      <td>90</td>\n",
       "    </tr>\n",
       "    <tr>\n",
       "      <th>28030</th>\n",
       "      <td>36.369863</td>\n",
       "      <td>100</td>\n",
       "    </tr>\n",
       "    <tr>\n",
       "      <th>28026</th>\n",
       "      <td>37.516129</td>\n",
       "      <td>110</td>\n",
       "    </tr>\n",
       "    <tr>\n",
       "      <th>28031</th>\n",
       "      <td>38.444444</td>\n",
       "      <td>120</td>\n",
       "    </tr>\n",
       "    <tr>\n",
       "      <th>28017</th>\n",
       "      <td>38.612613</td>\n",
       "      <td>130</td>\n",
       "    </tr>\n",
       "    <tr>\n",
       "      <th>28011</th>\n",
       "      <td>38.642857</td>\n",
       "      <td>140</td>\n",
       "    </tr>\n",
       "    <tr>\n",
       "      <th>28027</th>\n",
       "      <td>39.258065</td>\n",
       "      <td>150</td>\n",
       "    </tr>\n",
       "    <tr>\n",
       "      <th>28025</th>\n",
       "      <td>39.411290</td>\n",
       "      <td>160</td>\n",
       "    </tr>\n",
       "    <tr>\n",
       "      <th>28019</th>\n",
       "      <td>39.658416</td>\n",
       "      <td>170</td>\n",
       "    </tr>\n",
       "    <tr>\n",
       "      <th>28037</th>\n",
       "      <td>40.666667</td>\n",
       "      <td>180</td>\n",
       "    </tr>\n",
       "    <tr>\n",
       "      <th>28038</th>\n",
       "      <td>42.329114</td>\n",
       "      <td>190</td>\n",
       "    </tr>\n",
       "    <tr>\n",
       "      <th>28054</th>\n",
       "      <td>42.615385</td>\n",
       "      <td>200</td>\n",
       "    </tr>\n",
       "    <tr>\n",
       "      <th>28060</th>\n",
       "      <td>45.000000</td>\n",
       "      <td>210</td>\n",
       "    </tr>\n",
       "    <tr>\n",
       "      <th>28045</th>\n",
       "      <td>45.704000</td>\n",
       "      <td>220</td>\n",
       "    </tr>\n",
       "    <tr>\n",
       "      <th>28041</th>\n",
       "      <td>45.876923</td>\n",
       "      <td>230</td>\n",
       "    </tr>\n",
       "    <tr>\n",
       "      <th>28029</th>\n",
       "      <td>46.839286</td>\n",
       "      <td>240</td>\n",
       "    </tr>\n",
       "    <tr>\n",
       "      <th>28022</th>\n",
       "      <td>47.266667</td>\n",
       "      <td>250</td>\n",
       "    </tr>\n",
       "    <tr>\n",
       "      <th>28039</th>\n",
       "      <td>50.234568</td>\n",
       "      <td>260</td>\n",
       "    </tr>\n",
       "    <tr>\n",
       "      <th>28028</th>\n",
       "      <td>51.428030</td>\n",
       "      <td>270</td>\n",
       "    </tr>\n",
       "    <tr>\n",
       "      <th>28033</th>\n",
       "      <td>52.033333</td>\n",
       "      <td>280</td>\n",
       "    </tr>\n",
       "    <tr>\n",
       "      <th>28050</th>\n",
       "      <td>53.155172</td>\n",
       "      <td>290</td>\n",
       "    </tr>\n",
       "    <tr>\n",
       "      <th>28043</th>\n",
       "      <td>54.076190</td>\n",
       "      <td>300</td>\n",
       "    </tr>\n",
       "    <tr>\n",
       "      <th>28015</th>\n",
       "      <td>61.051581</td>\n",
       "      <td>310</td>\n",
       "    </tr>\n",
       "    <tr>\n",
       "      <th>28002</th>\n",
       "      <td>63.465116</td>\n",
       "      <td>320</td>\n",
       "    </tr>\n",
       "    <tr>\n",
       "      <th>28020</th>\n",
       "      <td>64.117347</td>\n",
       "      <td>330</td>\n",
       "    </tr>\n",
       "    <tr>\n",
       "      <th>28012</th>\n",
       "      <td>67.055206</td>\n",
       "      <td>340</td>\n",
       "    </tr>\n",
       "    <tr>\n",
       "      <th>28055</th>\n",
       "      <td>68.500000</td>\n",
       "      <td>350</td>\n",
       "    </tr>\n",
       "    <tr>\n",
       "      <th>28005</th>\n",
       "      <td>68.709623</td>\n",
       "      <td>360</td>\n",
       "    </tr>\n",
       "    <tr>\n",
       "      <th>28042</th>\n",
       "      <td>69.538462</td>\n",
       "      <td>370</td>\n",
       "    </tr>\n",
       "    <tr>\n",
       "      <th>28056</th>\n",
       "      <td>70.000000</td>\n",
       "      <td>380</td>\n",
       "    </tr>\n",
       "    <tr>\n",
       "      <th>28004</th>\n",
       "      <td>73.566278</td>\n",
       "      <td>390</td>\n",
       "    </tr>\n",
       "    <tr>\n",
       "      <th>28010</th>\n",
       "      <td>76.239583</td>\n",
       "      <td>400</td>\n",
       "    </tr>\n",
       "    <tr>\n",
       "      <th>28009</th>\n",
       "      <td>79.119816</td>\n",
       "      <td>410</td>\n",
       "    </tr>\n",
       "    <tr>\n",
       "      <th>28003</th>\n",
       "      <td>80.129032</td>\n",
       "      <td>420</td>\n",
       "    </tr>\n",
       "    <tr>\n",
       "      <th>28036</th>\n",
       "      <td>82.805970</td>\n",
       "      <td>430</td>\n",
       "    </tr>\n",
       "    <tr>\n",
       "      <th>28014</th>\n",
       "      <td>83.401264</td>\n",
       "      <td>440</td>\n",
       "    </tr>\n",
       "    <tr>\n",
       "      <th>28013</th>\n",
       "      <td>84.522080</td>\n",
       "      <td>450</td>\n",
       "    </tr>\n",
       "    <tr>\n",
       "      <th>28046</th>\n",
       "      <td>85.812500</td>\n",
       "      <td>460</td>\n",
       "    </tr>\n",
       "    <tr>\n",
       "      <th>28007</th>\n",
       "      <td>87.121359</td>\n",
       "      <td>470</td>\n",
       "    </tr>\n",
       "    <tr>\n",
       "      <th>28034</th>\n",
       "      <td>87.510204</td>\n",
       "      <td>480</td>\n",
       "    </tr>\n",
       "    <tr>\n",
       "      <th>28008</th>\n",
       "      <td>88.068047</td>\n",
       "      <td>490</td>\n",
       "    </tr>\n",
       "    <tr>\n",
       "      <th>28051</th>\n",
       "      <td>90.444444</td>\n",
       "      <td>500</td>\n",
       "    </tr>\n",
       "    <tr>\n",
       "      <th>28006</th>\n",
       "      <td>94.474886</td>\n",
       "      <td>510</td>\n",
       "    </tr>\n",
       "    <tr>\n",
       "      <th>28016</th>\n",
       "      <td>109.141026</td>\n",
       "      <td>520</td>\n",
       "    </tr>\n",
       "    <tr>\n",
       "      <th>28001</th>\n",
       "      <td>124.878788</td>\n",
       "      <td>530</td>\n",
       "    </tr>\n",
       "    <tr>\n",
       "      <th>28040</th>\n",
       "      <td>132.450000</td>\n",
       "      <td>540</td>\n",
       "    </tr>\n",
       "    <tr>\n",
       "      <th>28035</th>\n",
       "      <td>147.710526</td>\n",
       "      <td>550</td>\n",
       "    </tr>\n",
       "    <tr>\n",
       "      <th>28023</th>\n",
       "      <td>147.945946</td>\n",
       "      <td>560</td>\n",
       "    </tr>\n",
       "    <tr>\n",
       "      <th>28052</th>\n",
       "      <td>188.000000</td>\n",
       "      <td>570</td>\n",
       "    </tr>\n",
       "    <tr>\n",
       "      <th>28049</th>\n",
       "      <td>213.000000</td>\n",
       "      <td>580</td>\n",
       "    </tr>\n",
       "  </tbody>\n",
       "</table>\n",
       "</div>"
      ],
      "text/plain": [
       "         mean_price_x_zipcode  neighbourhood_value\n",
       "zipcode                                           \n",
       "28058               18.000000                   10\n",
       "28021               28.918033                   20\n",
       "28044               29.700000                   30\n",
       "28018               29.837209                   40\n",
       "28024               30.818182                   50\n",
       "28047               32.119403                   60\n",
       "28048               33.000000                   70\n",
       "28032               33.757576                   80\n",
       "28053               36.333333                   90\n",
       "28030               36.369863                  100\n",
       "28026               37.516129                  110\n",
       "28031               38.444444                  120\n",
       "28017               38.612613                  130\n",
       "28011               38.642857                  140\n",
       "28027               39.258065                  150\n",
       "28025               39.411290                  160\n",
       "28019               39.658416                  170\n",
       "28037               40.666667                  180\n",
       "28038               42.329114                  190\n",
       "28054               42.615385                  200\n",
       "28060               45.000000                  210\n",
       "28045               45.704000                  220\n",
       "28041               45.876923                  230\n",
       "28029               46.839286                  240\n",
       "28022               47.266667                  250\n",
       "28039               50.234568                  260\n",
       "28028               51.428030                  270\n",
       "28033               52.033333                  280\n",
       "28050               53.155172                  290\n",
       "28043               54.076190                  300\n",
       "28015               61.051581                  310\n",
       "28002               63.465116                  320\n",
       "28020               64.117347                  330\n",
       "28012               67.055206                  340\n",
       "28055               68.500000                  350\n",
       "28005               68.709623                  360\n",
       "28042               69.538462                  370\n",
       "28056               70.000000                  380\n",
       "28004               73.566278                  390\n",
       "28010               76.239583                  400\n",
       "28009               79.119816                  410\n",
       "28003               80.129032                  420\n",
       "28036               82.805970                  430\n",
       "28014               83.401264                  440\n",
       "28013               84.522080                  450\n",
       "28046               85.812500                  460\n",
       "28007               87.121359                  470\n",
       "28034               87.510204                  480\n",
       "28008               88.068047                  490\n",
       "28051               90.444444                  500\n",
       "28006               94.474886                  510\n",
       "28016              109.141026                  520\n",
       "28001              124.878788                  530\n",
       "28040              132.450000                  540\n",
       "28035              147.710526                  550\n",
       "28023              147.945946                  560\n",
       "28052              188.000000                  570\n",
       "28049              213.000000                  580"
      ]
     },
     "execution_count": 23,
     "metadata": {},
     "output_type": "execute_result"
    }
   ],
   "source": [
    "df_temp_extra_neib_value=pd.DataFrame(df_cp_ok_price.groupby('zipcode').agg(\n",
    "    {'price_value':[('mean_price_x_zipcode','mean')]})['price_value']['mean_price_x_zipcode'].sort_values())\n",
    "\n",
    "df_temp_extra_neib_value['neighbourhood_value']=range(10,((df_temp_extra_neib_value['mean_price_x_zipcode'].count()*10)+1),10)\n",
    "df_temp_extra_neib_value"
   ]
  },
  {
   "cell_type": "markdown",
   "metadata": {
    "ExecuteTime": {
     "end_time": "2021-03-26T12:15:39.004084Z",
     "start_time": "2021-03-26T12:15:38.992083Z"
    }
   },
   "source": [
    "* Teniendo ya este dataframe con esta columna que relaciona el zipcode con un valor de **mercado** ,hacemos join con el dataframe del apartado anterior donde teniamos el precio de forma númerica"
   ]
  },
  {
   "cell_type": "code",
   "execution_count": 24,
   "metadata": {
    "ExecuteTime": {
     "end_time": "2021-03-26T15:04:40.762899Z",
     "start_time": "2021-03-26T15:04:40.721342Z"
    },
    "scrolled": true
   },
   "outputs": [
    {
     "data": {
      "text/html": [
       "<div>\n",
       "<style scoped>\n",
       "    .dataframe tbody tr th:only-of-type {\n",
       "        vertical-align: middle;\n",
       "    }\n",
       "\n",
       "    .dataframe tbody tr th {\n",
       "        vertical-align: top;\n",
       "    }\n",
       "\n",
       "    .dataframe thead th {\n",
       "        text-align: right;\n",
       "    }\n",
       "</style>\n",
       "<table border=\"1\" class=\"dataframe\">\n",
       "  <thead>\n",
       "    <tr style=\"text-align: right;\">\n",
       "      <th></th>\n",
       "      <th>id</th>\n",
       "      <th>price_value</th>\n",
       "      <th>mean_price_x_zipcode</th>\n",
       "      <th>neighbourhood_value</th>\n",
       "    </tr>\n",
       "  </thead>\n",
       "  <tbody>\n",
       "    <tr>\n",
       "      <th>id</th>\n",
       "      <td>1.000000</td>\n",
       "      <td>-0.013969</td>\n",
       "      <td>-0.017036</td>\n",
       "      <td>-0.039313</td>\n",
       "    </tr>\n",
       "    <tr>\n",
       "      <th>price_value</th>\n",
       "      <td>-0.013969</td>\n",
       "      <td>1.000000</td>\n",
       "      <td>0.190357</td>\n",
       "      <td>0.178182</td>\n",
       "    </tr>\n",
       "    <tr>\n",
       "      <th>mean_price_x_zipcode</th>\n",
       "      <td>-0.017036</td>\n",
       "      <td>0.190357</td>\n",
       "      <td>1.000000</td>\n",
       "      <td>0.936042</td>\n",
       "    </tr>\n",
       "    <tr>\n",
       "      <th>neighbourhood_value</th>\n",
       "      <td>-0.039313</td>\n",
       "      <td>0.178182</td>\n",
       "      <td>0.936042</td>\n",
       "      <td>1.000000</td>\n",
       "    </tr>\n",
       "  </tbody>\n",
       "</table>\n",
       "</div>"
      ],
      "text/plain": [
       "                            id  price_value  mean_price_x_zipcode  \\\n",
       "id                    1.000000    -0.013969             -0.017036   \n",
       "price_value          -0.013969     1.000000              0.190357   \n",
       "mean_price_x_zipcode -0.017036     0.190357              1.000000   \n",
       "neighbourhood_value  -0.039313     0.178182              0.936042   \n",
       "\n",
       "                      neighbourhood_value  \n",
       "id                              -0.039313  \n",
       "price_value                      0.178182  \n",
       "mean_price_x_zipcode             0.936042  \n",
       "neighbourhood_value              1.000000  "
      ]
     },
     "execution_count": 24,
     "metadata": {},
     "output_type": "execute_result"
    }
   ],
   "source": [
    "temp1=df_cp_ok_price[['id','zipcode','name','price','price_value']]\n",
    "temp1=temp1.set_index('zipcode')\n",
    "temp2=df_temp_extra_neib_value[['mean_price_x_zipcode','neighbourhood_value']]\n",
    "temp3=pd.merge(temp1, temp2, how='inner',left_index=True, right_index=True)\n",
    "temp3.corr()"
   ]
  },
  {
   "cell_type": "code",
   "execution_count": 25,
   "metadata": {
    "ExecuteTime": {
     "end_time": "2021-03-26T15:04:41.318379Z",
     "start_time": "2021-03-26T15:04:40.767899Z"
    },
    "scrolled": true
   },
   "outputs": [
    {
     "data": {
      "image/png": "[encoded data removed]",
      "text/plain": [
       "<Figure size 432x288 with 2 Axes>"
      ]
     },
     "metadata": {
      "needs_background": "light"
     },
     "output_type": "display_data"
    }
   ],
   "source": [
    "#fig, ax = plt.subplots(figsize=(20,10))\n",
    "ax = sns.heatmap(temp3.corr(), annot=True, center=0, cmap=\"YlGnBu\")"
   ]
  },
  {
   "cell_type": "markdown",
   "metadata": {},
   "source": [
    "* Aquí observamos que la el valor de la zona **(neighbourhood_value)** si influye fuertemente en el precio medio por zona **(mean_price_x_zipcode)** ya que el coeficiente de correlación de Pearson es **> 0,9**"
   ]
  },
  {
   "cell_type": "markdown",
   "metadata": {},
   "source": [
    "## Conclusiones\n",
    "\n",
    "* ¿Qué opinas de AirBnB en Madrid?"
   ]
  },
  {
   "cell_type": "markdown",
   "metadata": {
    "ExecuteTime": {
     "end_time": "2021-03-26T12:45:20.891334Z",
     "start_time": "2021-03-26T12:45:20.863329Z"
    }
   },
   "source": [
    "* Mi opinión sobre AirBnB en Madrid es que es un dataset, que tiene:\n",
    "<br>\n",
    "\n",
    "    * Información con mucho ruido y que para explotarla necesita mucho trabajo de preprocesamiento.\n",
    "    * No solo en posibles campos que estén a NaN sino en campos de información como el zipcode presenta mucho ruido, con texto libre y formato abierto, cuando debería ser claramente un formato cerrrado y bien acotado.\n",
    "    * Aunque son inmuebles de Madrid y España aparecen algún caso detectado como que el país es Cuba y códigos postales que no son de Madrid. Por lo que da a entender poco control en la generación de los datos.\n",
    "    * Campos sensibles como lo rlacionado con las licencias, solo hay realmente 249 que tienen algo cumplimentado, quedando más de 13 mil sin información pese a que tienen un indicador como que es necesaria.\n",
    "    * Por lo que además del ruido de los datos, se observa poca relación entre columnas que su contenido debería esta bastante relacionado, como country, city, zipcode incluso longitud y latitud."
   ]
  }
 ],
 "metadata": {
  "anaconda-cloud": {},
  "kernelspec": {
   "display_name": "Python 3",
   "language": "python",
   "name": "python3"
  },
  "language_info": {
   "codemirror_mode": {
    "name": "ipython",
    "version": 3
   },
   "file_extension": ".py",
   "mimetype": "text/x-python",
   "name": "python",
   "nbconvert_exporter": "python",
   "pygments_lexer": "ipython3",
   "version": "3.8.5"
  },
  "toc": {
   "base_numbering": 1,
   "nav_menu": {},
   "number_sections": true,
   "sideBar": true,
   "skip_h1_title": false,
   "title_cell": "Table of Contents",
   "title_sidebar": "Contents",
   "toc_cell": false,
   "toc_position": {},
   "toc_section_display": true,
   "toc_window_display": true
  },
  "varInspector": {
   "cols": {
    "lenName": 16,
    "lenType": 16,
    "lenVar": 40
   },
   "kernels_config": {
    "python": {
     "delete_cmd_postfix": "",
     "delete_cmd_prefix": "del ",
     "library": "var_list.py",
     "varRefreshCmd": "print(var_dic_list())"
    },
    "r": {
     "delete_cmd_postfix": ") ",
     "delete_cmd_prefix": "rm(",
     "library": "var_list.r",
     "varRefreshCmd": "cat(var_dic_list()) "
    }
   },
   "types_to_exclude": [
    "module",
    "function",
    "builtin_function_or_method",
    "instance",
    "_Feature"
   ],
   "window_display": false
  }
 },
 "nbformat": 4,
 "nbformat_minor": 2
}
