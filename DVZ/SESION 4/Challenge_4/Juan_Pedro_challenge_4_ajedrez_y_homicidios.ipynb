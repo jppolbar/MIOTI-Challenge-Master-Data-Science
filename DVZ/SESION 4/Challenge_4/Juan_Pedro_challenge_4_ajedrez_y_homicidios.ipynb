{
 "cells": [
  {
   "cell_type": "markdown",
   "metadata": {},
   "source": [
    "<br/><img src=\"data:image/png;base64,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\" /><br/><br/>\n",
    "<center style=\"color:#888\">Visualización de datos</center>\n",
    "<center style=\"color:#aaa; margin-top:10px;\"><b>Prof. Óscar Fernández Angulo</b><br>oscarfa@faculty.mioti.es</center>\n",
    "<p style=\"font-size: 2.5em; text-align:center\">Challenge S4: Ajedrez y Homicidios</p><br/>"
   ]
  },
  {
   "cell_type": "markdown",
   "metadata": {},
   "source": [
    "# Consideraciones previas\n",
    "\n",
    "* Cada ejercicio se responderá con una sola figura y, si se considera necesario, un texto comentando los resultados.\n",
    "* No existe una única respuesta correcta. \n",
    "* Se valorará positivamente usar diferentes tipos de gráficos durante el Challenge. Si no se repite ninguno, mejor.\n",
    "* Los ejercicios están pensados para responderse con los conocimientos obtenidos en cualquiera de los Worksheets presentados hasta la fecha."
   ]
  },
  {
   "cell_type": "markdown",
   "metadata": {},
   "source": [
    "# Primera parte: Ajedrez\n",
    "\n",
    "Vamos a comenzar analizando el dataset [Chess Game Dataset (Lichess)](https://www.kaggle.com/datasnaek/chess). En él podemos encontrar la información de partidas de jugadas en lichess.org como el número de turnos, los jugadores y el ganador."
   ]
  },
  {
   "cell_type": "code",
   "execution_count": 1,
   "metadata": {
    "ExecuteTime": {
     "end_time": "2021-06-07T05:31:42.801618Z",
     "start_time": "2021-06-07T05:31:41.889400Z"
    }
   },
   "outputs": [],
   "source": [
    "%matplotlib inline\n",
    "\n",
    "import matplotlib\n",
    "import matplotlib.pyplot as plt\n",
    "from matplotlib.colors import ListedColormap\n",
    "import matplotlib.patches as mpatches\n",
    "import numpy as np\n",
    "import pandas as pd\n",
    "import datetime\n",
    "import math\n",
    "from scipy import stats\n",
    "# Seleccionamos un tamaño de letra que se pueda leer.\n",
    "matplotlib.rcParams.update({'font.size': 14})\n",
    "\n"
   ]
  },
  {
   "cell_type": "code",
   "execution_count": 2,
   "metadata": {
    "ExecuteTime": {
     "end_time": "2021-06-07T05:31:42.943623Z",
     "start_time": "2021-06-07T05:31:42.804624Z"
    }
   },
   "outputs": [
    {
     "data": {
      "text/html": [
       "<div>\n",
       "<style scoped>\n",
       "    .dataframe tbody tr th:only-of-type {\n",
       "        vertical-align: middle;\n",
       "    }\n",
       "\n",
       "    .dataframe tbody tr th {\n",
       "        vertical-align: top;\n",
       "    }\n",
       "\n",
       "    .dataframe thead th {\n",
       "        text-align: right;\n",
       "    }\n",
       "</style>\n",
       "<table border=\"1\" class=\"dataframe\">\n",
       "  <thead>\n",
       "    <tr style=\"text-align: right;\">\n",
       "      <th></th>\n",
       "      <th>id</th>\n",
       "      <th>rated</th>\n",
       "      <th>created_at</th>\n",
       "      <th>last_move_at</th>\n",
       "      <th>turns</th>\n",
       "      <th>victory_status</th>\n",
       "      <th>winner</th>\n",
       "      <th>increment_code</th>\n",
       "      <th>white_id</th>\n",
       "      <th>white_rating</th>\n",
       "      <th>black_id</th>\n",
       "      <th>black_rating</th>\n",
       "      <th>moves</th>\n",
       "      <th>opening_eco</th>\n",
       "      <th>opening_name</th>\n",
       "      <th>opening_ply</th>\n",
       "    </tr>\n",
       "  </thead>\n",
       "  <tbody>\n",
       "    <tr>\n",
       "      <th>19472</th>\n",
       "      <td>h0rjBqbg</td>\n",
       "      <td>True</td>\n",
       "      <td>1.504365e+12</td>\n",
       "      <td>1.504366e+12</td>\n",
       "      <td>56</td>\n",
       "      <td>mate</td>\n",
       "      <td>black</td>\n",
       "      <td>10+0</td>\n",
       "      <td>samoo1477</td>\n",
       "      <td>1751</td>\n",
       "      <td>safadao23</td>\n",
       "      <td>1745</td>\n",
       "      <td>e4 e5 Nf3 d6 d4 Bg4 dxe5 Bxf3 gxf3 Nc6 exd6 Bx...</td>\n",
       "      <td>C41</td>\n",
       "      <td>Philidor Defense</td>\n",
       "      <td>5</td>\n",
       "    </tr>\n",
       "    <tr>\n",
       "      <th>2896</th>\n",
       "      <td>foydg28k</td>\n",
       "      <td>True</td>\n",
       "      <td>1.486510e+12</td>\n",
       "      <td>1.486510e+12</td>\n",
       "      <td>115</td>\n",
       "      <td>mate</td>\n",
       "      <td>white</td>\n",
       "      <td>30+0</td>\n",
       "      <td>businessman47</td>\n",
       "      <td>1143</td>\n",
       "      <td>ferdiluis</td>\n",
       "      <td>1191</td>\n",
       "      <td>e4 e5 Bc4 Nf6 d4 d5 dxe5 Nxe4 Qxd5 Qxd5 Bxd5 c...</td>\n",
       "      <td>C24</td>\n",
       "      <td>Bishop's Opening: Ponziani Gambit</td>\n",
       "      <td>5</td>\n",
       "    </tr>\n",
       "    <tr>\n",
       "      <th>3485</th>\n",
       "      <td>I9DynYXT</td>\n",
       "      <td>False</td>\n",
       "      <td>1.485390e+12</td>\n",
       "      <td>1.485390e+12</td>\n",
       "      <td>40</td>\n",
       "      <td>mate</td>\n",
       "      <td>black</td>\n",
       "      <td>15+10</td>\n",
       "      <td>whatnext</td>\n",
       "      <td>1356</td>\n",
       "      <td>king5891</td>\n",
       "      <td>1400</td>\n",
       "      <td>e4 b6 d4 Bb7 d5 Nf6 Nc3 e6 e5 Nxd5 Nxd5 Bxd5 B...</td>\n",
       "      <td>B00</td>\n",
       "      <td>Owen Defense</td>\n",
       "      <td>2</td>\n",
       "    </tr>\n",
       "    <tr>\n",
       "      <th>15665</th>\n",
       "      <td>TqdAknba</td>\n",
       "      <td>True</td>\n",
       "      <td>1.489340e+12</td>\n",
       "      <td>1.489341e+12</td>\n",
       "      <td>80</td>\n",
       "      <td>outoftime</td>\n",
       "      <td>black</td>\n",
       "      <td>10+0</td>\n",
       "      <td>derspiegel</td>\n",
       "      <td>1741</td>\n",
       "      <td>viktor65</td>\n",
       "      <td>1880</td>\n",
       "      <td>e4 c5 Nf3 Nc6 d4 cxd4 Nxd4 e5 Nf3 Bc5 Nc3 d6 B...</td>\n",
       "      <td>B32</td>\n",
       "      <td>Sicilian Defense: Loewenthal Variation</td>\n",
       "      <td>8</td>\n",
       "    </tr>\n",
       "    <tr>\n",
       "      <th>12874</th>\n",
       "      <td>wtDbwtvq</td>\n",
       "      <td>True</td>\n",
       "      <td>1.495837e+12</td>\n",
       "      <td>1.495840e+12</td>\n",
       "      <td>135</td>\n",
       "      <td>mate</td>\n",
       "      <td>white</td>\n",
       "      <td>15+15</td>\n",
       "      <td>timtimtim23</td>\n",
       "      <td>1805</td>\n",
       "      <td>raxis</td>\n",
       "      <td>1721</td>\n",
       "      <td>e4 e5 Nf3 Nc6 Bc4 h6 O-O Nf6 d3 Bc5 Nc3 a6 Be3...</td>\n",
       "      <td>C55</td>\n",
       "      <td>Italian Game: Anti-Fried Liver Defense</td>\n",
       "      <td>6</td>\n",
       "    </tr>\n",
       "  </tbody>\n",
       "</table>\n",
       "</div>"
      ],
      "text/plain": [
       "             id  rated    created_at  last_move_at  turns victory_status  \\\n",
       "19472  h0rjBqbg   True  1.504365e+12  1.504366e+12     56           mate   \n",
       "2896   foydg28k   True  1.486510e+12  1.486510e+12    115           mate   \n",
       "3485   I9DynYXT  False  1.485390e+12  1.485390e+12     40           mate   \n",
       "15665  TqdAknba   True  1.489340e+12  1.489341e+12     80      outoftime   \n",
       "12874  wtDbwtvq   True  1.495837e+12  1.495840e+12    135           mate   \n",
       "\n",
       "      winner increment_code       white_id  white_rating   black_id  \\\n",
       "19472  black           10+0      samoo1477          1751  safadao23   \n",
       "2896   white           30+0  businessman47          1143  ferdiluis   \n",
       "3485   black          15+10       whatnext          1356   king5891   \n",
       "15665  black           10+0     derspiegel          1741   viktor65   \n",
       "12874  white          15+15    timtimtim23          1805      raxis   \n",
       "\n",
       "       black_rating                                              moves  \\\n",
       "19472          1745  e4 e5 Nf3 d6 d4 Bg4 dxe5 Bxf3 gxf3 Nc6 exd6 Bx...   \n",
       "2896           1191  e4 e5 Bc4 Nf6 d4 d5 dxe5 Nxe4 Qxd5 Qxd5 Bxd5 c...   \n",
       "3485           1400  e4 b6 d4 Bb7 d5 Nf6 Nc3 e6 e5 Nxd5 Nxd5 Bxd5 B...   \n",
       "15665          1880  e4 c5 Nf3 Nc6 d4 cxd4 Nxd4 e5 Nf3 Bc5 Nc3 d6 B...   \n",
       "12874          1721  e4 e5 Nf3 Nc6 Bc4 h6 O-O Nf6 d3 Bc5 Nc3 a6 Be3...   \n",
       "\n",
       "      opening_eco                            opening_name  opening_ply  \n",
       "19472         C41                        Philidor Defense            5  \n",
       "2896          C24       Bishop's Opening: Ponziani Gambit            5  \n",
       "3485          B00                            Owen Defense            2  \n",
       "15665         B32  Sicilian Defense: Loewenthal Variation            8  \n",
       "12874         C55  Italian Game: Anti-Fried Liver Defense            6  "
      ]
     },
     "execution_count": 2,
     "metadata": {},
     "output_type": "execute_result"
    }
   ],
   "source": [
    "# Cargamos el csv en Pandas.\n",
    "chess_df = pd.read_csv(\"./chess.csv\").reset_index(drop=True)\n",
    "\n",
    "# Mostramos una muestra.\n",
    "chess_df.sample(5)"
   ]
  },
  {
   "cell_type": "code",
   "execution_count": 3,
   "metadata": {
    "ExecuteTime": {
     "end_time": "2021-06-07T05:31:42.975630Z",
     "start_time": "2021-06-07T05:31:42.945627Z"
    }
   },
   "outputs": [
    {
     "name": "stdout",
     "output_type": "stream",
     "text": [
      "<class 'pandas.core.frame.DataFrame'>\n",
      "RangeIndex: 20058 entries, 0 to 20057\n",
      "Data columns (total 16 columns):\n",
      " #   Column          Non-Null Count  Dtype  \n",
      "---  ------          --------------  -----  \n",
      " 0   id              20058 non-null  object \n",
      " 1   rated           20058 non-null  bool   \n",
      " 2   created_at      20058 non-null  float64\n",
      " 3   last_move_at    20058 non-null  float64\n",
      " 4   turns           20058 non-null  int64  \n",
      " 5   victory_status  20058 non-null  object \n",
      " 6   winner          20058 non-null  object \n",
      " 7   increment_code  20058 non-null  object \n",
      " 8   white_id        20058 non-null  object \n",
      " 9   white_rating    20058 non-null  int64  \n",
      " 10  black_id        20058 non-null  object \n",
      " 11  black_rating    20058 non-null  int64  \n",
      " 12  moves           20058 non-null  object \n",
      " 13  opening_eco     20058 non-null  object \n",
      " 14  opening_name    20058 non-null  object \n",
      " 15  opening_ply     20058 non-null  int64  \n",
      "dtypes: bool(1), float64(2), int64(4), object(9)\n",
      "memory usage: 2.3+ MB\n"
     ]
    }
   ],
   "source": [
    "chess_df.info()"
   ]
  },
  {
   "cell_type": "markdown",
   "metadata": {},
   "source": [
    "* No observamos ninguna columna con nulos y las columnas que vamos a necesitar están en el formato adecuado."
   ]
  },
  {
   "cell_type": "markdown",
   "metadata": {},
   "source": [
    "## Ejercicio 1\n",
    "\n",
    "¿En el ajedrez, se nota la ventaja de empezar moviendo?\n"
   ]
  },
  {
   "cell_type": "code",
   "execution_count": 4,
   "metadata": {
    "ExecuteTime": {
     "end_time": "2021-06-07T05:31:42.991626Z",
     "start_time": "2021-06-07T05:31:42.979627Z"
    }
   },
   "outputs": [
    {
     "data": {
      "text/plain": [
       "white    10001\n",
       "black     9107\n",
       "draw       950\n",
       "Name: winner, dtype: int64"
      ]
     },
     "execution_count": 4,
     "metadata": {},
     "output_type": "execute_result"
    }
   ],
   "source": [
    "chess_df['winner'].value_counts()"
   ]
  },
  {
   "cell_type": "code",
   "execution_count": 11,
   "metadata": {
    "ExecuteTime": {
     "end_time": "2021-06-07T05:38:08.316771Z",
     "start_time": "2021-06-07T05:38:08.221766Z"
    }
   },
   "outputs": [
    {
     "name": "stdout",
     "output_type": "stream",
     "text": [
      "49.9%\n",
      "(10001)\n",
      "45.4%\n",
      "(9107)\n",
      "4.7%\n",
      "(950)\n"
     ]
    },
    {
     "data": {
      "image/png": "[encoded data removed]",
      "text/plain": [
       "<Figure size 504x504 with 1 Axes>"
      ]
     },
     "metadata": {},
     "output_type": "display_data"
    }
   ],
   "source": [
    "# En ajedrez siempre empiezan las blancas.\n",
    "# Aún así vamos a ver del data set cuantas partidas ganan blancas y cuantas negras.\n",
    "# La columna que guarda esa información es winner.\n",
    "\n",
    "type_chess_name = [\n",
    "    'Blancas',\n",
    "    'Negras',\n",
    "    'Tablas'\n",
    "]\n",
    "\n",
    "\n",
    "def func(pct, allvals):\n",
    "    absolute = int(round(pct/100.*np.sum(allvals)))\n",
    "    print(\"{:.1f}%\\n({:d})\".format(pct, absolute))\n",
    "    return \"{:.1f}%\\n({:d})\".format(pct, absolute)\n",
    "\n",
    "\n",
    "fig, ax = plt.subplots(figsize=(7,7),subplot_kw=dict(aspect=\"equal\"))\n",
    "\n",
    "# Nos quedamos con la columna de los escaños.\n",
    "winners = chess_df['winner'].value_counts()\n",
    "\n",
    "# Definimos el orden que queremos en la visualización.\n",
    "possible_coalitions_order = [0,1,2]\n",
    "\n",
    " \n",
    "# Representamos la distribución de finalización de partidas por color de ficha\n",
    "wedges, texts, autotexts = ax.pie(\n",
    "    winners,\n",
    "    autopct=lambda pct: func(pct, winners),\n",
    "    startangle=270,\n",
    "    textprops=dict(color=\"w\")\n",
    ")\n",
    "\n",
    "ax.legend(wedges, type_chess_name,\n",
    "          title=\"Ganan\",\n",
    "          loc=\"center left\",\n",
    "          bbox_to_anchor=(1, 0, 0.5, 1))\n",
    "\n",
    "#plt.setp(autotexts, size=14, weight=\"bold\")\n",
    "fig.suptitle(\"Victorias por color de ficha\", y=.925);"
   ]
  },
  {
   "cell_type": "markdown",
   "metadata": {},
   "source": [
    "## Ejercicio 2\n",
    "\n",
    "¿Cuántas rondas suelen durar las partidas de ajedrez?"
   ]
  },
  {
   "cell_type": "code",
   "execution_count": 6,
   "metadata": {
    "ExecuteTime": {
     "end_time": "2021-06-07T05:31:43.166620Z",
     "start_time": "2021-06-07T05:31:43.153622Z"
    }
   },
   "outputs": [],
   "source": [
    "def plot_turn_chess(df, bins=25):\n",
    "    fig, ax = plt.subplots(figsize=(14, 7))\n",
    "    # Representamos el histograma.\n",
    "    ax.hist(df['turns'], bins=bins,color='olive')\n",
    "    ax.set_xticks(bins)\n",
    "#     ax.set_xticklabels(bins, rotation=35, ha='right')\n",
    "    \n",
    "    ax.grid(True, axis='y')\n",
    "\n",
    "    ax.spines['top'].set_visible(False)\n",
    "    ax.spines['right'].set_visible(False)\n",
    " #   ax.spines['bottom'].set_visible(False)\n",
    "    ax.spines['left'].set_visible(False)\n",
    "\n",
    "    ax.set_xlabel('Turns')\n",
    "    ax.set_ylabel('Number of matchs')\n",
    "    return fig,ax"
   ]
  },
  {
   "cell_type": "code",
   "execution_count": 7,
   "metadata": {
    "ExecuteTime": {
     "end_time": "2021-06-07T05:31:43.339624Z",
     "start_time": "2021-06-07T05:31:43.169622Z"
    }
   },
   "outputs": [
    {
     "data": {
      "image/png": "[encoded data removed]",
      "text/plain": [
       "<Figure size 1008x504 with 1 Axes>"
      ]
     },
     "metadata": {
      "needs_background": "light"
     },
     "output_type": "display_data"
    }
   ],
   "source": [
    "# Entendemos como rondas el número de turnos que ha habido de un jugador a otro.\n",
    "# La columna que guarda este dato es la columna turns.\n",
    "\n",
    "# Generamos un histograma al ser una de las formas más adecuada para visualizar como se distribuyen las victorias\n",
    "# conforme al número de movimientos.\n",
    "# Establecemos el número de bins conforme a calcular la edad mínima y máxima y la vamos segementado de 5 años en 5 años\n",
    "# Es configurable, contra más salto se de menos detalle en el histograma\n",
    "\n",
    "bin_turns=np.arange(int(chess_df['turns'].min()),int(chess_df['turns'].max()),20)\n",
    "fig,ax=plot_turn_chess(chess_df,bin_turns);\n",
    "\n",
    "fig.suptitle(\"How many turns does a game of chess have?\");\n"
   ]
  },
  {
   "cell_type": "markdown",
   "metadata": {},
   "source": [
    "## Ejercicio 3\n",
    "\n",
    "¿Cuales son las formas más comunes de terminar las partidas de ajedrez?\n"
   ]
  },
  {
   "cell_type": "code",
   "execution_count": 8,
   "metadata": {
    "ExecuteTime": {
     "end_time": "2021-06-07T05:31:43.355621Z",
     "start_time": "2021-06-07T05:31:43.343626Z"
    }
   },
   "outputs": [],
   "source": [
    "def plot_match_chess(df,title=None,x_label=None,y_label=None,legend_label=None):\n",
    "    \n",
    "# Obtenemos las columnas a representar.\n",
    "\n",
    "    color_scale = plt.get_cmap('Dark2')\n",
    "    \n",
    "    victory = df['id']\n",
    "    types = df['victory_status']\n",
    "    color_list=[]\n",
    "    for i in range(0,len(types)):\n",
    "        color_list.append(color_scale(i))\n",
    "    \n",
    "      # Instanciamos la figura.\n",
    "    fig, ax = plt.subplots(figsize=(16, 7))\n",
    "    \n",
    "    # Representamos las líneas.\n",
    "    width = 0.65\n",
    "    ax.bar(types, victory, width, color=color_list)\n",
    "    \n",
    "    ax.set_xticks(types)\n",
    "    ax.set_xticklabels(types, rotation=35, ha='right')\n",
    "        \n",
    " # Añadimos unas guías verticales.\n",
    "    ax.grid(True, axis='y')\n",
    "    \n",
    " # Ocultamos el marco.\n",
    "    ax.spines['top'].set_visible(False)\n",
    "    ax.spines['right'].set_visible(False)\n",
    " #  ax.spines['bottom'].set_visible(False)\n",
    "    ax.spines['left'].set_visible(False)\n",
    "    \n",
    " # Etiquetamos el eje X.\n",
    "    ax.set_ylabel('Number of endings')\n",
    "    ax.set_xlabel('Types of chess game endings')\n",
    "     \n",
    "    for index,data in enumerate(victory):\n",
    "        ax.text(x=index,y=data, s=\"%d\\n\"%(data) , ha='center', va='bottom' ,fontdict=dict(fontsize=14))\n",
    "     \n",
    "    return fig, ax"
   ]
  },
  {
   "cell_type": "code",
   "execution_count": 9,
   "metadata": {
    "ExecuteTime": {
     "end_time": "2021-06-07T05:31:43.479641Z",
     "start_time": "2021-06-07T05:31:43.359625Z"
    }
   },
   "outputs": [
    {
     "data": {
      "image/png": "[encoded data removed]",
      "text/plain": [
       "<Figure size 1152x504 with 1 Axes>"
      ]
     },
     "metadata": {
      "needs_background": "light"
     },
     "output_type": "display_data"
    }
   ],
   "source": [
    "# Las forma de acabar una partida de ajedrez están en la columna victory_status\n",
    "# Los tipos son:\n",
    "# resign - rendirse, mate - jaque mate, outoftime - se acaba el tiempo, draw -tablas.\n",
    "\n",
    "chess_winner_df=chess_df.groupby('victory_status').agg({'id':'count'}).reset_index().sort_values('id',ascending=False)\n",
    "plot_match_chess(chess_winner_df);"
   ]
  },
  {
   "cell_type": "markdown",
   "metadata": {},
   "source": [
    "# Segunda parte: Homicidios\n",
    "\n",
    "Para la segunda parte vamos a emplear el dataset [Homicide Reports, 1980-2014](https://www.kaggle.com/murderaccountability/homicide-reports). Este contiene la información de más de 22000 homicidios cometidos en EEUU. Podemos encontrar información como la raza y el género tanto de la víctima como del asesino."
   ]
  },
  {
   "cell_type": "code",
   "execution_count": 10,
   "metadata": {
    "ExecuteTime": {
     "end_time": "2021-06-07T05:31:43.782620Z",
     "start_time": "2021-06-07T05:31:43.482625Z"
    },
    "scrolled": true
   },
   "outputs": [
    {
     "ename": "FileNotFoundError",
     "evalue": "[Errno 2] No such file or directory: './homicide.csv'",
     "output_type": "error",
     "traceback": [
      "\u001b[1;31m---------------------------------------------------------------------------\u001b[0m",
      "\u001b[1;31mFileNotFoundError\u001b[0m                         Traceback (most recent call last)",
      "\u001b[1;32m<ipython-input-10-30a5237a0bef>\u001b[0m in \u001b[0;36m<module>\u001b[1;34m\u001b[0m\n\u001b[0;32m      1\u001b[0m \u001b[1;31m# Cargamos el csv en Pandas.\u001b[0m\u001b[1;33m\u001b[0m\u001b[1;33m\u001b[0m\u001b[1;33m\u001b[0m\u001b[0m\n\u001b[1;32m----> 2\u001b[1;33m \u001b[0mhomicide_df\u001b[0m \u001b[1;33m=\u001b[0m \u001b[0mpd\u001b[0m\u001b[1;33m.\u001b[0m\u001b[0mread_csv\u001b[0m\u001b[1;33m(\u001b[0m\u001b[1;34m\"./homicide.csv\"\u001b[0m\u001b[1;33m)\u001b[0m\u001b[1;33m\u001b[0m\u001b[1;33m\u001b[0m\u001b[0m\n\u001b[0m\u001b[0;32m      3\u001b[0m \u001b[1;33m\u001b[0m\u001b[0m\n\u001b[0;32m      4\u001b[0m \u001b[1;31m# Mostramos una muestra.\u001b[0m\u001b[1;33m\u001b[0m\u001b[1;33m\u001b[0m\u001b[1;33m\u001b[0m\u001b[0m\n\u001b[0;32m      5\u001b[0m \u001b[0mhomicide_df\u001b[0m\u001b[1;33m.\u001b[0m\u001b[0mhead\u001b[0m\u001b[1;33m(\u001b[0m\u001b[1;36m5\u001b[0m\u001b[1;33m)\u001b[0m\u001b[1;33m\u001b[0m\u001b[1;33m\u001b[0m\u001b[0m\n",
      "\u001b[1;32m~\\Anaconda3\\envs\\mioti_v2\\lib\\site-packages\\pandas\\io\\parsers.py\u001b[0m in \u001b[0;36mread_csv\u001b[1;34m(filepath_or_buffer, sep, delimiter, header, names, index_col, usecols, squeeze, prefix, mangle_dupe_cols, dtype, engine, converters, true_values, false_values, skipinitialspace, skiprows, skipfooter, nrows, na_values, keep_default_na, na_filter, verbose, skip_blank_lines, parse_dates, infer_datetime_format, keep_date_col, date_parser, dayfirst, cache_dates, iterator, chunksize, compression, thousands, decimal, lineterminator, quotechar, quoting, doublequote, escapechar, comment, encoding, dialect, error_bad_lines, warn_bad_lines, delim_whitespace, low_memory, memory_map, float_precision, storage_options)\u001b[0m\n\u001b[0;32m    608\u001b[0m     \u001b[0mkwds\u001b[0m\u001b[1;33m.\u001b[0m\u001b[0mupdate\u001b[0m\u001b[1;33m(\u001b[0m\u001b[0mkwds_defaults\u001b[0m\u001b[1;33m)\u001b[0m\u001b[1;33m\u001b[0m\u001b[1;33m\u001b[0m\u001b[0m\n\u001b[0;32m    609\u001b[0m \u001b[1;33m\u001b[0m\u001b[0m\n\u001b[1;32m--> 610\u001b[1;33m     \u001b[1;32mreturn\u001b[0m \u001b[0m_read\u001b[0m\u001b[1;33m(\u001b[0m\u001b[0mfilepath_or_buffer\u001b[0m\u001b[1;33m,\u001b[0m \u001b[0mkwds\u001b[0m\u001b[1;33m)\u001b[0m\u001b[1;33m\u001b[0m\u001b[1;33m\u001b[0m\u001b[0m\n\u001b[0m\u001b[0;32m    611\u001b[0m \u001b[1;33m\u001b[0m\u001b[0m\n\u001b[0;32m    612\u001b[0m \u001b[1;33m\u001b[0m\u001b[0m\n",
      "\u001b[1;32m~\\Anaconda3\\envs\\mioti_v2\\lib\\site-packages\\pandas\\io\\parsers.py\u001b[0m in \u001b[0;36m_read\u001b[1;34m(filepath_or_buffer, kwds)\u001b[0m\n\u001b[0;32m    460\u001b[0m \u001b[1;33m\u001b[0m\u001b[0m\n\u001b[0;32m    461\u001b[0m     \u001b[1;31m# Create the parser.\u001b[0m\u001b[1;33m\u001b[0m\u001b[1;33m\u001b[0m\u001b[1;33m\u001b[0m\u001b[0m\n\u001b[1;32m--> 462\u001b[1;33m     \u001b[0mparser\u001b[0m \u001b[1;33m=\u001b[0m \u001b[0mTextFileReader\u001b[0m\u001b[1;33m(\u001b[0m\u001b[0mfilepath_or_buffer\u001b[0m\u001b[1;33m,\u001b[0m \u001b[1;33m**\u001b[0m\u001b[0mkwds\u001b[0m\u001b[1;33m)\u001b[0m\u001b[1;33m\u001b[0m\u001b[1;33m\u001b[0m\u001b[0m\n\u001b[0m\u001b[0;32m    463\u001b[0m \u001b[1;33m\u001b[0m\u001b[0m\n\u001b[0;32m    464\u001b[0m     \u001b[1;32mif\u001b[0m \u001b[0mchunksize\u001b[0m \u001b[1;32mor\u001b[0m \u001b[0miterator\u001b[0m\u001b[1;33m:\u001b[0m\u001b[1;33m\u001b[0m\u001b[1;33m\u001b[0m\u001b[0m\n",
      "\u001b[1;32m~\\Anaconda3\\envs\\mioti_v2\\lib\\site-packages\\pandas\\io\\parsers.py\u001b[0m in \u001b[0;36m__init__\u001b[1;34m(self, f, engine, **kwds)\u001b[0m\n\u001b[0;32m    817\u001b[0m             \u001b[0mself\u001b[0m\u001b[1;33m.\u001b[0m\u001b[0moptions\u001b[0m\u001b[1;33m[\u001b[0m\u001b[1;34m\"has_index_names\"\u001b[0m\u001b[1;33m]\u001b[0m \u001b[1;33m=\u001b[0m \u001b[0mkwds\u001b[0m\u001b[1;33m[\u001b[0m\u001b[1;34m\"has_index_names\"\u001b[0m\u001b[1;33m]\u001b[0m\u001b[1;33m\u001b[0m\u001b[1;33m\u001b[0m\u001b[0m\n\u001b[0;32m    818\u001b[0m \u001b[1;33m\u001b[0m\u001b[0m\n\u001b[1;32m--> 819\u001b[1;33m         \u001b[0mself\u001b[0m\u001b[1;33m.\u001b[0m\u001b[0m_engine\u001b[0m \u001b[1;33m=\u001b[0m \u001b[0mself\u001b[0m\u001b[1;33m.\u001b[0m\u001b[0m_make_engine\u001b[0m\u001b[1;33m(\u001b[0m\u001b[0mself\u001b[0m\u001b[1;33m.\u001b[0m\u001b[0mengine\u001b[0m\u001b[1;33m)\u001b[0m\u001b[1;33m\u001b[0m\u001b[1;33m\u001b[0m\u001b[0m\n\u001b[0m\u001b[0;32m    820\u001b[0m \u001b[1;33m\u001b[0m\u001b[0m\n\u001b[0;32m    821\u001b[0m     \u001b[1;32mdef\u001b[0m \u001b[0mclose\u001b[0m\u001b[1;33m(\u001b[0m\u001b[0mself\u001b[0m\u001b[1;33m)\u001b[0m\u001b[1;33m:\u001b[0m\u001b[1;33m\u001b[0m\u001b[1;33m\u001b[0m\u001b[0m\n",
      "\u001b[1;32m~\\Anaconda3\\envs\\mioti_v2\\lib\\site-packages\\pandas\\io\\parsers.py\u001b[0m in \u001b[0;36m_make_engine\u001b[1;34m(self, engine)\u001b[0m\n\u001b[0;32m   1048\u001b[0m             )\n\u001b[0;32m   1049\u001b[0m         \u001b[1;31m# error: Too many arguments for \"ParserBase\"\u001b[0m\u001b[1;33m\u001b[0m\u001b[1;33m\u001b[0m\u001b[1;33m\u001b[0m\u001b[0m\n\u001b[1;32m-> 1050\u001b[1;33m         \u001b[1;32mreturn\u001b[0m \u001b[0mmapping\u001b[0m\u001b[1;33m[\u001b[0m\u001b[0mengine\u001b[0m\u001b[1;33m]\u001b[0m\u001b[1;33m(\u001b[0m\u001b[0mself\u001b[0m\u001b[1;33m.\u001b[0m\u001b[0mf\u001b[0m\u001b[1;33m,\u001b[0m \u001b[1;33m**\u001b[0m\u001b[0mself\u001b[0m\u001b[1;33m.\u001b[0m\u001b[0moptions\u001b[0m\u001b[1;33m)\u001b[0m  \u001b[1;31m# type: ignore[call-arg]\u001b[0m\u001b[1;33m\u001b[0m\u001b[1;33m\u001b[0m\u001b[0m\n\u001b[0m\u001b[0;32m   1051\u001b[0m \u001b[1;33m\u001b[0m\u001b[0m\n\u001b[0;32m   1052\u001b[0m     \u001b[1;32mdef\u001b[0m \u001b[0m_failover_to_python\u001b[0m\u001b[1;33m(\u001b[0m\u001b[0mself\u001b[0m\u001b[1;33m)\u001b[0m\u001b[1;33m:\u001b[0m\u001b[1;33m\u001b[0m\u001b[1;33m\u001b[0m\u001b[0m\n",
      "\u001b[1;32m~\\Anaconda3\\envs\\mioti_v2\\lib\\site-packages\\pandas\\io\\parsers.py\u001b[0m in \u001b[0;36m__init__\u001b[1;34m(self, src, **kwds)\u001b[0m\n\u001b[0;32m   1865\u001b[0m \u001b[1;33m\u001b[0m\u001b[0m\n\u001b[0;32m   1866\u001b[0m         \u001b[1;31m# open handles\u001b[0m\u001b[1;33m\u001b[0m\u001b[1;33m\u001b[0m\u001b[1;33m\u001b[0m\u001b[0m\n\u001b[1;32m-> 1867\u001b[1;33m         \u001b[0mself\u001b[0m\u001b[1;33m.\u001b[0m\u001b[0m_open_handles\u001b[0m\u001b[1;33m(\u001b[0m\u001b[0msrc\u001b[0m\u001b[1;33m,\u001b[0m \u001b[0mkwds\u001b[0m\u001b[1;33m)\u001b[0m\u001b[1;33m\u001b[0m\u001b[1;33m\u001b[0m\u001b[0m\n\u001b[0m\u001b[0;32m   1868\u001b[0m         \u001b[1;32massert\u001b[0m \u001b[0mself\u001b[0m\u001b[1;33m.\u001b[0m\u001b[0mhandles\u001b[0m \u001b[1;32mis\u001b[0m \u001b[1;32mnot\u001b[0m \u001b[1;32mNone\u001b[0m\u001b[1;33m\u001b[0m\u001b[1;33m\u001b[0m\u001b[0m\n\u001b[0;32m   1869\u001b[0m         \u001b[1;32mfor\u001b[0m \u001b[0mkey\u001b[0m \u001b[1;32min\u001b[0m \u001b[1;33m(\u001b[0m\u001b[1;34m\"storage_options\"\u001b[0m\u001b[1;33m,\u001b[0m \u001b[1;34m\"encoding\"\u001b[0m\u001b[1;33m,\u001b[0m \u001b[1;34m\"memory_map\"\u001b[0m\u001b[1;33m,\u001b[0m \u001b[1;34m\"compression\"\u001b[0m\u001b[1;33m)\u001b[0m\u001b[1;33m:\u001b[0m\u001b[1;33m\u001b[0m\u001b[1;33m\u001b[0m\u001b[0m\n",
      "\u001b[1;32m~\\Anaconda3\\envs\\mioti_v2\\lib\\site-packages\\pandas\\io\\parsers.py\u001b[0m in \u001b[0;36m_open_handles\u001b[1;34m(self, src, kwds)\u001b[0m\n\u001b[0;32m   1360\u001b[0m         \u001b[0mLet\u001b[0m \u001b[0mthe\u001b[0m \u001b[0mreaders\u001b[0m \u001b[0mopen\u001b[0m \u001b[0mIOHanldes\u001b[0m \u001b[0mafter\u001b[0m \u001b[0mthey\u001b[0m \u001b[0mare\u001b[0m \u001b[0mdone\u001b[0m \u001b[1;32mwith\u001b[0m \u001b[0mtheir\u001b[0m \u001b[0mpotential\u001b[0m \u001b[0mraises\u001b[0m\u001b[1;33m.\u001b[0m\u001b[1;33m\u001b[0m\u001b[1;33m\u001b[0m\u001b[0m\n\u001b[0;32m   1361\u001b[0m         \"\"\"\n\u001b[1;32m-> 1362\u001b[1;33m         self.handles = get_handle(\n\u001b[0m\u001b[0;32m   1363\u001b[0m             \u001b[0msrc\u001b[0m\u001b[1;33m,\u001b[0m\u001b[1;33m\u001b[0m\u001b[1;33m\u001b[0m\u001b[0m\n\u001b[0;32m   1364\u001b[0m             \u001b[1;34m\"r\"\u001b[0m\u001b[1;33m,\u001b[0m\u001b[1;33m\u001b[0m\u001b[1;33m\u001b[0m\u001b[0m\n",
      "\u001b[1;32m~\\Anaconda3\\envs\\mioti_v2\\lib\\site-packages\\pandas\\io\\common.py\u001b[0m in \u001b[0;36mget_handle\u001b[1;34m(path_or_buf, mode, encoding, compression, memory_map, is_text, errors, storage_options)\u001b[0m\n\u001b[0;32m    640\u001b[0m                 \u001b[0merrors\u001b[0m \u001b[1;33m=\u001b[0m \u001b[1;34m\"replace\"\u001b[0m\u001b[1;33m\u001b[0m\u001b[1;33m\u001b[0m\u001b[0m\n\u001b[0;32m    641\u001b[0m             \u001b[1;31m# Encoding\u001b[0m\u001b[1;33m\u001b[0m\u001b[1;33m\u001b[0m\u001b[1;33m\u001b[0m\u001b[0m\n\u001b[1;32m--> 642\u001b[1;33m             handle = open(\n\u001b[0m\u001b[0;32m    643\u001b[0m                 \u001b[0mhandle\u001b[0m\u001b[1;33m,\u001b[0m\u001b[1;33m\u001b[0m\u001b[1;33m\u001b[0m\u001b[0m\n\u001b[0;32m    644\u001b[0m                 \u001b[0mioargs\u001b[0m\u001b[1;33m.\u001b[0m\u001b[0mmode\u001b[0m\u001b[1;33m,\u001b[0m\u001b[1;33m\u001b[0m\u001b[1;33m\u001b[0m\u001b[0m\n",
      "\u001b[1;31mFileNotFoundError\u001b[0m: [Errno 2] No such file or directory: './homicide.csv'"
     ]
    }
   ],
   "source": [
    "# Cargamos el csv en Pandas.\n",
    "homicide_df = pd.read_csv(\"./homicide.csv\")\n",
    "\n",
    "# Mostramos una muestra.\n",
    "homicide_df.head(5)"
   ]
  },
  {
   "cell_type": "markdown",
   "metadata": {
    "ExecuteTime": {
     "end_time": "2021-05-21T13:33:03.763190Z",
     "start_time": "2021-05-21T13:33:03.751180Z"
    }
   },
   "source": [
    "* No observamos ninguna columna con nulos. Hay un warnning con la columna 16, **Perpetrator Age**, pero como no es una dato a explotar no realizamos ninguna tarea de preprocesado, y las columnas que vamos a necesitar están en el formato adecuado."
   ]
  },
  {
   "cell_type": "code",
   "execution_count": null,
   "metadata": {
    "ExecuteTime": {
     "end_time": "2021-06-07T05:31:43.786624Z",
     "start_time": "2021-06-07T05:31:41.891Z"
    },
    "scrolled": true
   },
   "outputs": [],
   "source": [
    "homicide_df.info()"
   ]
  },
  {
   "cell_type": "markdown",
   "metadata": {},
   "source": [
    "## Ejercicio 4\n",
    "\n",
    "Nos gustaría saber cuál es el perfil de las víctimas de los homicidios. Es decir, a qué raza y género pertenecen.\n"
   ]
  },
  {
   "cell_type": "code",
   "execution_count": null,
   "metadata": {
    "ExecuteTime": {
     "end_time": "2021-06-07T05:31:43.787626Z",
     "start_time": "2021-06-07T05:31:41.893Z"
    }
   },
   "outputs": [],
   "source": [
    "def muestra_perfil_homicidios(df):\n",
    "    \n",
    "    fig, ax = plt.subplots(figsize=(10, 6))\n",
    "\n",
    "    # Representamos las barras apiladas.\n",
    "    ax.bar(\n",
    "        df.index,\n",
    "        df['Male'],\n",
    "        label='Male'\n",
    "    )\n",
    "\n",
    "    ax.bar(\n",
    "        df.index,\n",
    "        df['Female'],\n",
    "        bottom=df['Male'],\n",
    "        label='Female'\n",
    "    )\n",
    "\n",
    "    ax.bar(\n",
    "        df.index,\n",
    "        df['Unknown'],\n",
    "        bottom=df['Female']+df['Male'],\n",
    "        label='Unknown'\n",
    "    )\n",
    "\n",
    "    ax.set_xticks(df.index)\n",
    "    ax.set_xticklabels(df.index, rotation=35, ha='right')\n",
    "    ax.set_ylabel('Percentage (%)')\n",
    "    ax.set_xlabel('Race')\n",
    "    fig.suptitle('What is the profile of the homicide victims in U.S.?')\n",
    "\n",
    "    ax.spines['top'].set_visible(False)\n",
    "    ax.spines['right'].set_visible(False)\n",
    "    # ax.spines['bottom'].set_visible(False)\n",
    "    ax.spines['left'].set_visible(False)\n",
    "    ax.grid(True, axis='y')\n",
    "\n",
    "    ax.legend(bbox_to_anchor=(1, 1),title='Gender');\n",
    "    \n",
    "    return fig,ax"
   ]
  },
  {
   "cell_type": "code",
   "execution_count": null,
   "metadata": {
    "ExecuteTime": {
     "end_time": "2021-06-07T05:31:43.789631Z",
     "start_time": "2021-06-07T05:31:41.896Z"
    }
   },
   "outputs": [],
   "source": [
    "# Se opta por una gráfica de barras apiladas que nos muestren las proporciones del genero de las vistimas, por cada\n",
    "# grupo racial registrado. Me parece interesante mostrar también elgrupo racial desconocido y como se distribuye.\n",
    "\n",
    "homicide_df_pivot= pd.pivot_table(homicide_df,index=['Victim Race'],values='Record ID',columns=['Victim Sex'],aggfunc='count')\n",
    "homicide_df_pivot['Total']=homicide_df_pivot['Female']+homicide_df_pivot['Male']+homicide_df_pivot['Unknown']\n",
    "homicide_df_pivot['Female']=(homicide_df_pivot['Female']/homicide_df_pivot['Total'])*100\n",
    "homicide_df_pivot['Male']=(homicide_df_pivot['Male']/homicide_df_pivot['Total'])*100\n",
    "homicide_df_pivot['Unknown']=(homicide_df_pivot['Unknown']/homicide_df_pivot['Total'])*100\n",
    "muestra_perfil_homicidios(homicide_df_pivot);"
   ]
  },
  {
   "cell_type": "markdown",
   "metadata": {},
   "source": [
    "## Ejercicio 5\n",
    "\n",
    "Para terminar, querríamos ver el perfil de las víctimas y cómo se relaciona este con el de los asesinos. Es decir, ¿se matan más las mujeres y los hombres entre ellos? ¿son más comunes los asesinatos con géneros cruzados?. Lo mismo con las razas, ¿es más común que los blancos se maten entre ellos?"
   ]
  },
  {
   "cell_type": "code",
   "execution_count": null,
   "metadata": {
    "ExecuteTime": {
     "end_time": "2021-06-07T05:31:43.791643Z",
     "start_time": "2021-06-07T05:31:41.900Z"
    }
   },
   "outputs": [],
   "source": [
    "from collections import defaultdict \n",
    "from scipy import stats, interpolate\n",
    "\n",
    "\n",
    "def parallel_set(ax, df, set_keys):\n",
    "    assert len(set_keys) > 1\n",
    "    \n",
    "    # Creamos un diccionario con los colores para cada clave.\n",
    "    color_scale = plt.get_cmap('tab10').colors\n",
    "    \n",
    "    color_dict = dict()\n",
    "    \n",
    "    color_key = set_keys[0]\n",
    "    for i, color_class in enumerate(df[color_key].unique()):\n",
    "        color_dict[color_class]=color_scale[i]\n",
    "    \n",
    "    # Añadimos las etiqueras en cada columna.\n",
    "    set_text(df, ax, set_keys)\n",
    "\n",
    "    # Creamos las líneas que unen dos columnas.\n",
    "    for i in range(len(set_keys)-1):\n",
    "        start_key = set_keys[i]\n",
    "        end_key = set_keys[i+1]\n",
    "        \n",
    "        connect_lines(df, color_key, start_key, end_key, ax, i, i+1, color_dict)\n",
    "\n",
    "    # Etiquetamos el eje X.\n",
    "    for i, set_key in enumerate(set_keys):\n",
    "        ax.text(i, -.095, set_key, ha='center')\n",
    "        \n",
    "    # Ocultamos el marco.\n",
    "    ax.set_xticks([])\n",
    "    ax.set_yticks([])\n",
    "    ax.spines['top'].set_visible(False)\n",
    "    ax.spines['right'].set_visible(False)\n",
    "    ax.spines['bottom'].set_visible(False)\n",
    "    ax.spines['left'].set_visible(False)\n",
    "\n",
    "\n",
    "def set_text(df, ax, set_keys):\n",
    "    total = df.shape[0]\n",
    "    x = 0\n",
    "    # Recorremos las columnas.\n",
    "    for set_key in set_keys:\n",
    "        y = 1\n",
    "        # Recorremos las clases de cada columna.\n",
    "        for class_name in reversed(df[set_key].unique()):\n",
    "            # Calculamos el tamaño del grupo.\n",
    "            count = df[df[set_key]==class_name].shape[0]/total\n",
    "            # Añadimos un guión al inicio del grupo.\n",
    "            ax.text(x, y, '-', horizontalalignment='center', verticalalignment='center')\n",
    "            y -= count/2\n",
    "            # Añadimos el nombre de la clase en el centro de su proporción.\n",
    "            ax.text(x, y, class_name, horizontalalignment='center', verticalalignment='center')\n",
    "            y -= count/2\n",
    "            # añadimos un quión al final del grupo.\n",
    "            ax.text(x, y, '-', horizontalalignment='center', verticalalignment='center')\n",
    "        x+=1\n",
    "\n",
    "        \n",
    "def connect_lines(df, color_key, start_line_key, end_line_Key, ax, start_x, end_x, color_dict):\n",
    "    # Calculamos el número total de filas.\n",
    "    total_count = df.shape[0]\n",
    "\n",
    "    # Creamos un diccionario que almacene la posición donde empieza cada clase en la primera columna.\n",
    "    start_line_classes_start = dict()\n",
    "    class_start = 1\n",
    "    for class_name in reversed(df[start_line_key].unique()):\n",
    "        # Calculamos el tamaño de la proporción.\n",
    "        class_proportion = df[df[start_line_key]==class_name].shape[0]/total_count\n",
    "        \n",
    "        # Lo almacenamos en el diccionario.\n",
    "        start_line_classes_start[class_name] = class_start\n",
    "        \n",
    "        # Actualizamos el acumulado.\n",
    "        class_start -= class_proportion\n",
    "\n",
    "    # Repetimos esta operación con los valores de la segunda columna.\n",
    "    end_line_classes_start = dict()\n",
    "    class_start = 1\n",
    "    for class_name in reversed(df[end_line_Key].unique()):\n",
    "        class_proportion = df[df[end_line_Key]==class_name].shape[0]/total_count\n",
    "\n",
    "        end_line_classes_start[class_name] = class_start\n",
    "        class_start -= class_proportion\n",
    "\n",
    "    # Inicializamos el array X.\n",
    "    x = np.arange(start_x, end_x + .1, .1)\n",
    "        \n",
    "    # Recorremos las clases del color.\n",
    "    for color_class in reversed(df[color_key].unique()):\n",
    "        # Filtramos el DataFrame.\n",
    "        color_filtered_df = df[df[color_key]==color_class]    \n",
    "        \n",
    "        # Recorremos las clases de la primera columna.\n",
    "        for start_line_class in reversed(df[start_line_key].unique()):\n",
    "            # Filtramos el DataFrame.\n",
    "            start_line_filtered_df = color_filtered_df[color_filtered_df[start_line_key]==start_line_class]\n",
    "            \n",
    "            # Recorremos las clases de la segunda columna.\n",
    "            for end_line_class in reversed(df[end_line_Key].unique()):\n",
    "                # Filtramos el DataFrame.\n",
    "                end_line_filtered_df = start_line_filtered_df[start_line_filtered_df[end_line_Key]==end_line_class]\n",
    "                \n",
    "                # Calculamos el tamaño de esta franja.\n",
    "                count = end_line_filtered_df.shape[0]/total_count\n",
    "                \n",
    "                # Si es 0, ignoramos esta iteración.\n",
    "                if count == 0:\n",
    "                    continue\n",
    "                   \n",
    "                # Interpolamos el inicio de la franja.\n",
    "                f1 = smooth_line(start_x, end_x, start_line_classes_start[start_line_class], end_line_classes_start[end_line_class])\n",
    "                \n",
    "                # Actualizamos los diccionarios con la anchura de la franja.\n",
    "                start_line_classes_start[start_line_class]-=count\n",
    "                end_line_classes_start[end_line_class]-=count\n",
    "                \n",
    "                # Interpolamos el final de la franja.\n",
    "                f2 = smooth_line(start_x, end_x, start_line_classes_start[start_line_class], end_line_classes_start[end_line_class])\n",
    "                \n",
    "                # Representamos la franja.\n",
    "                ax.fill_between(x, f1(x), f2(x), alpha=0.6, color=color_dict[color_class])\n",
    "\n",
    "\n",
    "def smooth_line(x1, x2, y1, y2):\n",
    "    # Añadimos otro punto a la derecha e izquierda de los originales.\n",
    "    a = .1\n",
    "    x = np.array([x1-a, x1, x2, x2+a])\n",
    "    y = np.array([y1, y1, y2, y2])\n",
    "    # Interpolamos una línea que une los 4 puntos con una función cuadrática.\n",
    "    f = interpolate.interp1d(x, y, kind='quadratic')\n",
    "    return f\n"
   ]
  },
  {
   "cell_type": "code",
   "execution_count": null,
   "metadata": {
    "ExecuteTime": {
     "end_time": "2021-06-07T05:31:43.793625Z",
     "start_time": "2021-06-07T05:31:41.902Z"
    }
   },
   "outputs": [],
   "source": [
    "fig, ax = plt.subplots(figsize=(15, 6))\n",
    "\n",
    "# Filtramos el DataFrame con los valores de interes.\n",
    "homicide_df = homicide_df[homicide_df['Victim Sex']!='Unknown']\n",
    "homicide_df = homicide_df[homicide_df['Victim Race']!='Unknown']\n",
    "homicide_df = homicide_df[homicide_df['Perpetrator Sex']!='Unknown']\n",
    "homicide_df = homicide_df[homicide_df['Perpetrator Race']!='Unknown']\n",
    "\n",
    "# Como son multiples variables categoricas que se entrerelacionan entre sí he ensado que el mejor modelo para reperesentar\n",
    "# es el gráfico de conjunto paralelos.\n",
    "parallel_set(ax, homicide_df, ['Victim Sex', 'Victim Race','Perpetrator Sex',  'Perpetrator Race'])\n",
    "\n",
    "fig.suptitle(\"Relación por sexo y raza entre las victimas y los asesinos de homicidios en USA\");"
   ]
  }
 ],
 "metadata": {
  "kernelspec": {
   "display_name": "Python 3",
   "language": "python",
   "name": "python3"
  },
  "language_info": {
   "codemirror_mode": {
    "name": "ipython",
    "version": 3
   },
   "file_extension": ".py",
   "mimetype": "text/x-python",
   "name": "python",
   "nbconvert_exporter": "python",
   "pygments_lexer": "ipython3",
   "version": "3.9.2"
  },
  "toc": {
   "base_numbering": 1,
   "nav_menu": {},
   "number_sections": true,
   "sideBar": true,
   "skip_h1_title": false,
   "title_cell": "Table of Contents",
   "title_sidebar": "Contents",
   "toc_cell": false,
   "toc_position": {},
   "toc_section_display": true,
   "toc_window_display": true
  },
  "varInspector": {
   "cols": {
    "lenName": 16,
    "lenType": 16,
    "lenVar": 40
   },
   "kernels_config": {
    "python": {
     "delete_cmd_postfix": "",
     "delete_cmd_prefix": "del ",
     "library": "var_list.py",
     "varRefreshCmd": "print(var_dic_list())"
    },
    "r": {
     "delete_cmd_postfix": ") ",
     "delete_cmd_prefix": "rm(",
     "library": "var_list.r",
     "varRefreshCmd": "cat(var_dic_list()) "
    }
   },
   "types_to_exclude": [
    "module",
    "function",
    "builtin_function_or_method",
    "instance",
    "_Feature"
   ],
   "window_display": false
  }
 },
 "nbformat": 4,
 "nbformat_minor": 4
}
